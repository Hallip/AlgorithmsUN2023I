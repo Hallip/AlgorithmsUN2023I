{
  "cells": [
    {
      "cell_type": "code",
      "execution_count": 22,
      "metadata": {
        "autoscroll": false,
        "ein.tags": "worksheet-0",
        "id": "FrAt48DtiXb-",
        "outputId": "b81810ab-b516-41ce-9944-b24dd763c6fa",
        "colab": {
          "base_uri": "https://localhost:8080/"
        }
      },
      "outputs": [
        {
          "output_type": "stream",
          "name": "stdout",
          "text": [
            "Looking in indexes: https://pypi.org/simple, https://us-python.pkg.dev/colab-wheels/public/simple/\n",
            "Requirement already satisfied: fortran-magic in /usr/local/lib/python3.8/dist-packages (0.7)\n",
            "Requirement already satisfied: ipython in /usr/local/lib/python3.8/dist-packages (from fortran-magic) (7.9.0)\n",
            "Requirement already satisfied: numpy in /usr/local/lib/python3.8/dist-packages (from fortran-magic) (1.22.4)\n",
            "Requirement already satisfied: pexpect in /usr/local/lib/python3.8/dist-packages (from ipython->fortran-magic) (4.8.0)\n",
            "Requirement already satisfied: decorator in /usr/local/lib/python3.8/dist-packages (from ipython->fortran-magic) (4.4.2)\n",
            "Requirement already satisfied: pygments in /usr/local/lib/python3.8/dist-packages (from ipython->fortran-magic) (2.6.1)\n",
            "Requirement already satisfied: pickleshare in /usr/local/lib/python3.8/dist-packages (from ipython->fortran-magic) (0.7.5)\n",
            "Requirement already satisfied: setuptools>=18.5 in /usr/local/lib/python3.8/dist-packages (from ipython->fortran-magic) (57.4.0)\n",
            "Requirement already satisfied: jedi>=0.10 in /usr/local/lib/python3.8/dist-packages (from ipython->fortran-magic) (0.18.2)\n",
            "Requirement already satisfied: backcall in /usr/local/lib/python3.8/dist-packages (from ipython->fortran-magic) (0.2.0)\n",
            "Requirement already satisfied: traitlets>=4.2 in /usr/local/lib/python3.8/dist-packages (from ipython->fortran-magic) (5.7.1)\n",
            "Requirement already satisfied: prompt-toolkit<2.1.0,>=2.0.0 in /usr/local/lib/python3.8/dist-packages (from ipython->fortran-magic) (2.0.10)\n",
            "Requirement already satisfied: parso<0.9.0,>=0.8.0 in /usr/local/lib/python3.8/dist-packages (from jedi>=0.10->ipython->fortran-magic) (0.8.3)\n",
            "Requirement already satisfied: six>=1.9.0 in /usr/local/lib/python3.8/dist-packages (from prompt-toolkit<2.1.0,>=2.0.0->ipython->fortran-magic) (1.15.0)\n",
            "Requirement already satisfied: wcwidth in /usr/local/lib/python3.8/dist-packages (from prompt-toolkit<2.1.0,>=2.0.0->ipython->fortran-magic) (0.2.6)\n",
            "Requirement already satisfied: ptyprocess>=0.5 in /usr/local/lib/python3.8/dist-packages (from pexpect->ipython->fortran-magic) (0.7.0)\n",
            "The fortranmagic extension is already loaded. To reload it, use:\n",
            "  %reload_ext fortranmagic\n"
          ]
        }
      ],
      "source": [
        "!pip install fortran-magic\n",
        "%matplotlib inline\n",
        "%load_ext fortranmagic\n",
        "\n",
        "\n",
        "import sys; sys.path.append('..')\n",
        "\n",
        "import pandas as pd\n",
        "import numpy as np\n",
        "import matplotlib as mpl\n",
        "import matplotlib.pyplot as plt\n",
        "import seaborn as sns\n",
        "\n",
        "mpl.rc('figure', figsize=(12, 7))\n",
        "\n",
        "ran_the_first_cell = True\n",
        "\n",
        "jan2017 = pd.to_datetime(['2017-01-03 00:00:00+00:00',\n",
        " '2017-01-04 00:00:00+00:00',\n",
        " '2017-01-05 00:00:00+00:00',\n",
        " '2017-01-06 00:00:00+00:00',\n",
        " '2017-01-09 00:00:00+00:00',\n",
        " '2017-01-10 00:00:00+00:00',\n",
        " '2017-01-11 00:00:00+00:00',\n",
        " '2017-01-12 00:00:00+00:00',\n",
        " '2017-01-13 00:00:00+00:00',\n",
        " '2017-01-17 00:00:00+00:00',\n",
        " '2017-01-18 00:00:00+00:00',\n",
        " '2017-01-19 00:00:00+00:00',\n",
        " '2017-01-20 00:00:00+00:00',\n",
        " '2017-01-23 00:00:00+00:00',\n",
        " '2017-01-24 00:00:00+00:00',\n",
        " '2017-01-25 00:00:00+00:00',\n",
        " '2017-01-26 00:00:00+00:00',\n",
        " '2017-01-27 00:00:00+00:00',\n",
        " '2017-01-30 00:00:00+00:00',\n",
        " '2017-01-31 00:00:00+00:00',\n",
        " '2017-02-01 00:00:00+00:00'])\n",
        "calendar = jan2017.values.astype('datetime64[D]')\n",
        "\n",
        "event_dates = pd.to_datetime(['2017-01-06 00:00:00+00:00', \n",
        "                             '2017-01-07 00:00:00+00:00', \n",
        "                             '2017-01-08 00:00:00+00:00']).values.astype('datetime64[D]')\n",
        "event_values = np.array([10, 15, 20])"
      ]
    },
    {
      "cell_type": "markdown",
      "metadata": {
        "ein.tags": "worksheet-0",
        "id": "lHm410FBiXcC"
      },
      "source": [
        "<center>\n",
        "  <h1>The PyData Toolbox</h1>\n",
        "  <h3>Scott Sanderson (Twitter: @scottbsanderson, GitHub: ssanderson)</h3>\n",
        "  <h3><a href=\"https://github.com/ssanderson/pydata-toolbox\">https://github.com/ssanderson/pydata-toolbox</a></h3>\n",
        "</center>"
      ]
    },
    {
      "cell_type": "markdown",
      "metadata": {
        "collapsed": true,
        "ein.tags": "worksheet-0",
        "id": "0CXHsFMBiXcD"
      },
      "source": [
        "# About Me:\n",
        "\n",
        "<img src=\"https://raw.githubusercontent.com/ssanderson/pydata-toolbox/master/notebooks/images/me.jpg\" alt=\"Drawing\" style=\"width: 300px;\"/>\n",
        "\n",
        "- Senior Engineer at [Quantopian](www.quantopian.com)\n",
        "- Background in Mathematics and Philosophy\n",
        "- **Twitter:** [@scottbsanderson](https://twitter.com/scottbsanderson)\n",
        "- **GitHub:** [ssanderson](github.com/ssanderson)"
      ]
    },
    {
      "cell_type": "markdown",
      "metadata": {
        "id": "tcOO-3C8iXcE"
      },
      "source": [
        "## Outline\n",
        "\n",
        "- Built-in Data Structures\n",
        "- Numpy `array`\n",
        "- Pandas `Series`/`DataFrame`\n",
        "- Plotting and \"Real-World\" Analyses"
      ]
    },
    {
      "cell_type": "markdown",
      "metadata": {
        "id": "qGj-c9CliXcE"
      },
      "source": [
        "# Data Structures"
      ]
    },
    {
      "cell_type": "markdown",
      "metadata": {
        "id": "Nsn-QHmCiXcF"
      },
      "source": [
        "> Rule 5. Data dominates. If you've chosen the right data structures and organized things well, the algorithms\n",
        "will almost always be self-evident. Data structures, not algorithms, are central to programming.\n",
        "\n",
        "- *Notes on Programming in C*, by Rob Pike."
      ]
    },
    {
      "cell_type": "markdown",
      "metadata": {
        "id": "_yhFg_rXiXcF"
      },
      "source": [
        "# Lists"
      ]
    },
    {
      "cell_type": "code",
      "execution_count": 23,
      "metadata": {
        "collapsed": true,
        "id": "97QvmzbqiXcG"
      },
      "outputs": [],
      "source": [
        "assert ran_the_first_cell, \"Oh noes!\""
      ]
    },
    {
      "cell_type": "code",
      "execution_count": 24,
      "metadata": {
        "id": "nhIZgNXLiXcG",
        "outputId": "2f119489-6a9c-4bb6-9aba-f7eff6ffbdb0",
        "colab": {
          "base_uri": "https://localhost:8080/"
        }
      },
      "outputs": [
        {
          "output_type": "execute_result",
          "data": {
            "text/plain": [
              "[1, 'two', 3.0, 4, 5.0, 'six']"
            ]
          },
          "metadata": {},
          "execution_count": 24
        }
      ],
      "source": [
        "l = [1, 'two', 3.0, 4, 5.0, \"six\"]\n",
        "l"
      ]
    },
    {
      "cell_type": "code",
      "execution_count": 25,
      "metadata": {
        "id": "Cjj8bfDAiXcH",
        "outputId": "020cf2d9-9796-4718-af42-b0672368f573",
        "colab": {
          "base_uri": "https://localhost:8080/"
        }
      },
      "outputs": [
        {
          "output_type": "stream",
          "name": "stdout",
          "text": [
            "first: 1\n",
            "second: two\n"
          ]
        }
      ],
      "source": [
        "# Lists can be indexed like C-style arrays.\n",
        "first = l[0]\n",
        "second = l[1]\n",
        "print(\"first:\", first)\n",
        "print(\"second:\", second)"
      ]
    },
    {
      "cell_type": "code",
      "execution_count": 26,
      "metadata": {
        "id": "cVozluPbiXcH",
        "outputId": "b697efa3-ab92-4089-a7d8-74a2826e294e",
        "colab": {
          "base_uri": "https://localhost:8080/"
        }
      },
      "outputs": [
        {
          "output_type": "stream",
          "name": "stdout",
          "text": [
            "last: six\n",
            "second to last: 5.0\n"
          ]
        }
      ],
      "source": [
        "# Negative indexing gives elements relative to the end of the list.\n",
        "last = l[-1]\n",
        "penultimate = l[-2]\n",
        "print(\"last:\", last)\n",
        "print(\"second to last:\", penultimate)"
      ]
    },
    {
      "cell_type": "code",
      "execution_count": 27,
      "metadata": {
        "id": "PTqqm8MeiXcI",
        "outputId": "76a14aca-6019-4f43-ee34-8bdb94b62800",
        "colab": {
          "base_uri": "https://localhost:8080/"
        }
      },
      "outputs": [
        {
          "output_type": "execute_result",
          "data": {
            "text/plain": [
              "['two', 3.0]"
            ]
          },
          "metadata": {},
          "execution_count": 27
        }
      ],
      "source": [
        "# Lists can also be sliced, which makes a copy of elements between \n",
        "# start (inclusive) and stop (exclusive)\n",
        "sublist = l[1:3]\n",
        "sublist"
      ]
    },
    {
      "cell_type": "code",
      "execution_count": 28,
      "metadata": {
        "id": "ugUUXXUViXcI",
        "outputId": "006b0400-f846-43a3-e3ca-831fb819a444",
        "colab": {
          "base_uri": "https://localhost:8080/"
        }
      },
      "outputs": [
        {
          "output_type": "execute_result",
          "data": {
            "text/plain": [
              "[1, 'two', 3.0]"
            ]
          },
          "metadata": {},
          "execution_count": 28
        }
      ],
      "source": [
        "# l[:N] is equivalent to l[0:N].\n",
        "first_three = l[:3]\n",
        "first_three"
      ]
    },
    {
      "cell_type": "code",
      "execution_count": 29,
      "metadata": {
        "id": "otoRjbK7iXcI",
        "outputId": "4e211de3-3bb9-423a-8906-a3de97fc76d6",
        "colab": {
          "base_uri": "https://localhost:8080/"
        }
      },
      "outputs": [
        {
          "output_type": "execute_result",
          "data": {
            "text/plain": [
              "[4, 5.0, 'six']"
            ]
          },
          "metadata": {},
          "execution_count": 29
        }
      ],
      "source": [
        "# l[3:] is equivalent to l[3:len(l)].\n",
        "after_three = l[3:]\n",
        "after_three"
      ]
    },
    {
      "cell_type": "code",
      "execution_count": 30,
      "metadata": {
        "id": "2ZndPPspiXcJ",
        "outputId": "ebe5a5e1-7c6b-44c5-fcb6-ae78fbbb7b1c",
        "colab": {
          "base_uri": "https://localhost:8080/"
        }
      },
      "outputs": [
        {
          "output_type": "execute_result",
          "data": {
            "text/plain": [
              "['b', 'd', 'f']"
            ]
          },
          "metadata": {},
          "execution_count": 30
        }
      ],
      "source": [
        "# There's also a third parameter, \"step\", which gets every Nth element.\n",
        "l = ['a', 'b', 'c', 'd', 'e', 'f', 'g','h']\n",
        "l[1:7:2]"
      ]
    },
    {
      "cell_type": "code",
      "execution_count": 31,
      "metadata": {
        "id": "dt2OMhnZiXcJ",
        "outputId": "cd57beaa-79b7-475b-afc1-b8a0ba1629ed",
        "colab": {
          "base_uri": "https://localhost:8080/"
        }
      },
      "outputs": [
        {
          "output_type": "execute_result",
          "data": {
            "text/plain": [
              "['h', 'g', 'f', 'e', 'd', 'c', 'b', 'a']"
            ]
          },
          "metadata": {},
          "execution_count": 31
        }
      ],
      "source": [
        "# This is a cute way to reverse a list.\n",
        "l[::-1]"
      ]
    },
    {
      "cell_type": "code",
      "execution_count": 32,
      "metadata": {
        "id": "uDIdawFwiXcJ",
        "outputId": "ee8ee44b-2105-487e-a8e2-d6aee4245828",
        "colab": {
          "base_uri": "https://localhost:8080/"
        }
      },
      "outputs": [
        {
          "output_type": "stream",
          "name": "stdout",
          "text": [
            "Before: [1, 2, 3, 4, 5]\n",
            "After: [1, 2, 3, 4, 5, 'six']\n"
          ]
        }
      ],
      "source": [
        "# Lists can be grown efficiently (in O(1) amortized time).\n",
        "l = [1, 2, 3, 4, 5]\n",
        "print(\"Before:\", l)\n",
        "l.append('six')\n",
        "print(\"After:\", l)"
      ]
    },
    {
      "cell_type": "code",
      "execution_count": 33,
      "metadata": {
        "id": "OIhO0xxUiXcK",
        "outputId": "55b2a955-63de-4961-e4cd-807a3c81d2a7",
        "colab": {
          "base_uri": "https://localhost:8080/"
        }
      },
      "outputs": [
        {
          "output_type": "execute_result",
          "data": {
            "text/plain": [
              "[2, 4, 6, 8, 10]"
            ]
          },
          "metadata": {},
          "execution_count": 33
        }
      ],
      "source": [
        "# Comprehensions let us perform elementwise computations.\n",
        "l = [1, 2, 3, 4, 5]\n",
        "[x * 2 for x in l]"
      ]
    },
    {
      "cell_type": "markdown",
      "metadata": {
        "ein.tags": "worksheet-0",
        "id": "gh1Uw4KtiXcK"
      },
      "source": [
        "## Review: Python Lists\n",
        "\n",
        "- Zero-indexed sequence of arbitrary Python values.\n",
        "- Slicing syntax: `l[start:stop:step]` copies elements at regular intervals from `start` to `stop`.\n",
        "- Efficient (`O(1)`) appends and removes from end.\n",
        "- Comprehension syntax: `[f(x) for x in l if cond(x)]`."
      ]
    },
    {
      "cell_type": "markdown",
      "metadata": {
        "id": "KPeFQQs5iXcK"
      },
      "source": [
        "# Dictionaries"
      ]
    },
    {
      "cell_type": "code",
      "execution_count": 34,
      "metadata": {
        "id": "55GAxN3AiXcL",
        "outputId": "884c37bf-1ea5-438d-ad9a-3f132a5ce61d",
        "colab": {
          "base_uri": "https://localhost:8080/"
        }
      },
      "outputs": [
        {
          "output_type": "execute_result",
          "data": {
            "text/plain": [
              "{'David': 'Hume', 'Immanuel': 'Kant', 'Bertrand': 'Russell'}"
            ]
          },
          "metadata": {},
          "execution_count": 34
        }
      ],
      "source": [
        "# Dictionaries are key-value mappings.\n",
        "philosophers = {'David': 'Hume', 'Immanuel': 'Kant', 'Bertrand': 'Russell'}\n",
        "philosophers"
      ]
    },
    {
      "cell_type": "code",
      "execution_count": 35,
      "metadata": {
        "id": "V3JS2kHSiXcL",
        "outputId": "47decb81-6055-4904-e619-e113648f9a42",
        "colab": {
          "base_uri": "https://localhost:8080/"
        }
      },
      "outputs": [
        {
          "output_type": "execute_result",
          "data": {
            "text/plain": [
              "{'David': 'Hume',\n",
              " 'Immanuel': 'Kant',\n",
              " 'Bertrand': 'Russell',\n",
              " 'Ludwig': 'Wittgenstein'}"
            ]
          },
          "metadata": {},
          "execution_count": 35
        }
      ],
      "source": [
        "# Like lists, dictionaries are size-mutable.\n",
        "philosophers['Ludwig'] = 'Wittgenstein'\n",
        "philosophers"
      ]
    },
    {
      "cell_type": "code",
      "execution_count": 36,
      "metadata": {
        "id": "YRGePTociXcL",
        "outputId": "7885a985-904d-443e-bce1-92922860deb1",
        "colab": {
          "base_uri": "https://localhost:8080/"
        }
      },
      "outputs": [
        {
          "output_type": "execute_result",
          "data": {
            "text/plain": [
              "{'Immanuel': 'Kant', 'Bertrand': 'Russell', 'Ludwig': 'Wittgenstein'}"
            ]
          },
          "metadata": {},
          "execution_count": 36
        }
      ],
      "source": [
        "del philosophers['David']\n",
        "philosophers"
      ]
    },
    {
      "cell_type": "markdown",
      "metadata": {
        "ein.tags": "worksheet-0",
        "id": "xvN8eqK2iXcM"
      },
      "source": [
        "## Review: Python Dictionaries\n",
        "\n",
        "- Unordered key-value mapping from (almost) arbitrary keys to arbitrary values.\n",
        "- Efficient (`O(1)`) lookup, insertion, and deletion.\n",
        "- No slicing (would require a notion of order)."
      ]
    },
    {
      "cell_type": "markdown",
      "metadata": {
        "id": "3C9gwhYDiXcM"
      },
      "source": [
        "<center><img src=\"https://raw.githubusercontent.com/ssanderson/pydata-toolbox/master/notebooks/images/pacino.gif\" alt=\"Drawing\" style=\"width: 100%;\"/></center>\n"
      ]
    },
    {
      "cell_type": "code",
      "execution_count": 37,
      "metadata": {
        "collapsed": true,
        "id": "eqFZgJyyiXcM"
      },
      "outputs": [],
      "source": [
        "# Suppose we have some matrices...\n",
        "a = [[1, 2, 3],\n",
        "     [2, 3, 4],\n",
        "     [5, 6, 7],\n",
        "     [1, 1, 1]]\n",
        "\n",
        "b = [[1, 2, 3, 4],\n",
        "     [2, 3, 4, 5]]"
      ]
    },
    {
      "cell_type": "code",
      "execution_count": 38,
      "metadata": {
        "collapsed": true,
        "id": "TfFqABAMiXcM"
      },
      "outputs": [],
      "source": [
        "def matmul(A, B):\n",
        "    \"\"\"Multiply matrix A by matrix B.\"\"\"\n",
        "    rows_out = len(A)\n",
        "    cols_out = len(B[0])\n",
        "    out = [[0 for col in range(cols_out)] for row in range(rows_out)]\n",
        "    \n",
        "    for i in range(rows_out):\n",
        "        for j in range(cols_out):\n",
        "            for k in range(len(B)):\n",
        "                out[i][j] += A[i][k] * B[k][j]\n",
        "    return out"
      ]
    },
    {
      "cell_type": "markdown",
      "metadata": {
        "id": "Yuee_jmYiXcN"
      },
      "source": [
        "<center><img src=\"https://raw.githubusercontent.com/ssanderson/pydata-toolbox/master/notebooks/images/gross.gif\" alt=\"Drawing\" style=\"width: 50%;\"/></center>\n"
      ]
    },
    {
      "cell_type": "code",
      "execution_count": 39,
      "metadata": {
        "id": "PerN-NDRiXcN",
        "outputId": "81624bf5-fcf4-4ca1-cdf5-b7822b73cc95",
        "colab": {
          "base_uri": "https://localhost:8080/"
        }
      },
      "outputs": [
        {
          "output_type": "stream",
          "name": "stdout",
          "text": [
            "CPU times: user 41 µs, sys: 6 µs, total: 47 µs\n",
            "Wall time: 52.5 µs\n"
          ]
        },
        {
          "output_type": "execute_result",
          "data": {
            "text/plain": [
              "[[5, 8, 11, 14], [8, 13, 18, 23], [17, 28, 39, 50], [3, 5, 7, 9]]"
            ]
          },
          "metadata": {},
          "execution_count": 39
        }
      ],
      "source": [
        "%%time\n",
        "\n",
        "matmul(a, b)"
      ]
    },
    {
      "cell_type": "markdown",
      "source": [
        "**My own example 0 - cpu info**"
      ],
      "metadata": {
        "id": "AAcF7qrOv8KF"
      }
    },
    {
      "cell_type": "code",
      "source": [
        "!cat /proc/cpuinfo"
      ],
      "metadata": {
        "colab": {
          "base_uri": "https://localhost:8080/"
        },
        "id": "BQl1PQDJwDkc",
        "outputId": "6fa711a9-0564-4d5d-8588-dc96d17ca2bc"
      },
      "execution_count": 40,
      "outputs": [
        {
          "output_type": "stream",
          "name": "stdout",
          "text": [
            "processor\t: 0\n",
            "vendor_id\t: GenuineIntel\n",
            "cpu family\t: 6\n",
            "model\t\t: 79\n",
            "model name\t: Intel(R) Xeon(R) CPU @ 2.20GHz\n",
            "stepping\t: 0\n",
            "microcode\t: 0xffffffff\n",
            "cpu MHz\t\t: 2199.998\n",
            "cache size\t: 56320 KB\n",
            "physical id\t: 0\n",
            "siblings\t: 2\n",
            "core id\t\t: 0\n",
            "cpu cores\t: 1\n",
            "apicid\t\t: 0\n",
            "initial apicid\t: 0\n",
            "fpu\t\t: yes\n",
            "fpu_exception\t: yes\n",
            "cpuid level\t: 13\n",
            "wp\t\t: yes\n",
            "flags\t\t: fpu vme de pse tsc msr pae mce cx8 apic sep mtrr pge mca cmov pat pse36 clflush mmx fxsr sse sse2 ss ht syscall nx pdpe1gb rdtscp lm constant_tsc rep_good nopl xtopology nonstop_tsc cpuid tsc_known_freq pni pclmulqdq ssse3 fma cx16 pcid sse4_1 sse4_2 x2apic movbe popcnt aes xsave avx f16c rdrand hypervisor lahf_lm abm 3dnowprefetch invpcid_single ssbd ibrs ibpb stibp fsgsbase tsc_adjust bmi1 hle avx2 smep bmi2 erms invpcid rtm rdseed adx smap xsaveopt arat md_clear arch_capabilities\n",
            "bugs\t\t: cpu_meltdown spectre_v1 spectre_v2 spec_store_bypass l1tf mds swapgs taa mmio_stale_data retbleed\n",
            "bogomips\t: 4399.99\n",
            "clflush size\t: 64\n",
            "cache_alignment\t: 64\n",
            "address sizes\t: 46 bits physical, 48 bits virtual\n",
            "power management:\n",
            "\n",
            "processor\t: 1\n",
            "vendor_id\t: GenuineIntel\n",
            "cpu family\t: 6\n",
            "model\t\t: 79\n",
            "model name\t: Intel(R) Xeon(R) CPU @ 2.20GHz\n",
            "stepping\t: 0\n",
            "microcode\t: 0xffffffff\n",
            "cpu MHz\t\t: 2199.998\n",
            "cache size\t: 56320 KB\n",
            "physical id\t: 0\n",
            "siblings\t: 2\n",
            "core id\t\t: 0\n",
            "cpu cores\t: 1\n",
            "apicid\t\t: 1\n",
            "initial apicid\t: 1\n",
            "fpu\t\t: yes\n",
            "fpu_exception\t: yes\n",
            "cpuid level\t: 13\n",
            "wp\t\t: yes\n",
            "flags\t\t: fpu vme de pse tsc msr pae mce cx8 apic sep mtrr pge mca cmov pat pse36 clflush mmx fxsr sse sse2 ss ht syscall nx pdpe1gb rdtscp lm constant_tsc rep_good nopl xtopology nonstop_tsc cpuid tsc_known_freq pni pclmulqdq ssse3 fma cx16 pcid sse4_1 sse4_2 x2apic movbe popcnt aes xsave avx f16c rdrand hypervisor lahf_lm abm 3dnowprefetch invpcid_single ssbd ibrs ibpb stibp fsgsbase tsc_adjust bmi1 hle avx2 smep bmi2 erms invpcid rtm rdseed adx smap xsaveopt arat md_clear arch_capabilities\n",
            "bugs\t\t: cpu_meltdown spectre_v1 spectre_v2 spec_store_bypass l1tf mds swapgs taa mmio_stale_data retbleed\n",
            "bogomips\t: 4399.99\n",
            "clflush size\t: 64\n",
            "cache_alignment\t: 64\n",
            "address sizes\t: 46 bits physical, 48 bits virtual\n",
            "power management:\n",
            "\n"
          ]
        }
      ]
    },
    {
      "cell_type": "markdown",
      "source": [
        "**My own example 1 - Changing in matmul(A, B) Python len(B) (# of rows of B) \n",
        "\n",
        "---\n",
        "\n",
        "for len(A[0]) (# of columns of A)**"
      ],
      "metadata": {
        "id": "EFlf_ZLgsUEo"
      }
    },
    {
      "cell_type": "code",
      "source": [
        "def matmul(A, B):\n",
        "    \"\"\"Multiply matrix A by matrix B.\"\"\"\n",
        "    rows_out = len(A)\n",
        "    cols_out = len(A[0])\n",
        "    out = [[0 for col in range(cols_out)] for row in range(rows_out)]\n",
        "    \n",
        "    for i in range(rows_out):\n",
        "        for j in range(cols_out):\n",
        "            for k in range(len(B)):\n",
        "                out[i][j] += A[i][k] * B[k][j]\n",
        "    return out"
      ],
      "metadata": {
        "id": "T71BRNaG3fev"
      },
      "execution_count": 41,
      "outputs": []
    },
    {
      "cell_type": "markdown",
      "source": [
        "**My own example 2 - Verifiying error with in matmul(A, B) Python with the original matrices when changing len(B) (# of rows of B) for len(A[0]) (# of colums of A)**"
      ],
      "metadata": {
        "id": "8sLiMfvlUJzp"
      }
    },
    {
      "cell_type": "code",
      "source": [
        "matmul(a, b)"
      ],
      "metadata": {
        "id": "HjyOAFQW3gc3",
        "colab": {
          "base_uri": "https://localhost:8080/"
        },
        "outputId": "a05f2005-2e61-4ce2-8784-7ce88aff9b2c"
      },
      "execution_count": 42,
      "outputs": [
        {
          "output_type": "execute_result",
          "data": {
            "text/plain": [
              "[[5, 8, 11], [8, 13, 18], [17, 28, 39], [3, 5, 7]]"
            ]
          },
          "metadata": {},
          "execution_count": 42
        }
      ]
    },
    {
      "cell_type": "markdown",
      "source": [
        "**My own example 3 - Chekcing the mtarix multiplication compatibility condition  len(A[0]) == len(B)**"
      ],
      "metadata": {
        "id": "AGztFKBNuQ_e"
      }
    },
    {
      "cell_type": "code",
      "source": [
        "def matmul(A, B):\n",
        "    \"\"\"Multiply matrix A by matrix B.\"\"\"\n",
        "    if not len(A[0]) == len(B):\n",
        "      return \"Not compatible Matrix\"\n",
        "    rows_out = len(A)\n",
        "    cols_out = len(B[0])\n",
        "    out = [[0 for col in range(cols_out)] for row in range(rows_out)]\n",
        "    \n",
        "    for i in range(rows_out):\n",
        "        for j in range(cols_out):\n",
        "            for k in range(len(B)):\n",
        "                out[i][j] += A[i][k] * B[k][j]\n",
        "    return out"
      ],
      "metadata": {
        "id": "4rgHkUNC3haX"
      },
      "execution_count": 43,
      "outputs": []
    },
    {
      "cell_type": "markdown",
      "source": [
        "**My own example 4 -  Verifiying error with in matmul(A, B) Python when checking the mtarix multiplication compatibility condition  len(A[0]) == len(B)**"
      ],
      "metadata": {
        "id": "A4SoDNPpuZpp"
      }
    },
    {
      "cell_type": "code",
      "source": [
        "# Suppose we have some matrices...\n",
        "a = [[1, 2, 3],\n",
        "     [2, 3, 4],\n",
        "     [5, 6, 7],\n",
        "     [1, 1, 1]]\n",
        "\n",
        "b = [[1, 2, 3],\n",
        "     [2, 3, 4]]\n",
        "\n",
        "matmul(a, b)"
      ],
      "metadata": {
        "id": "wpnd21c83jQI",
        "colab": {
          "base_uri": "https://localhost:8080/",
          "height": 35
        },
        "outputId": "ce957da7-9a70-4ce3-ace2-ef2fc2cff997"
      },
      "execution_count": 44,
      "outputs": [
        {
          "output_type": "execute_result",
          "data": {
            "text/plain": [
              "'Not compatible Matrix'"
            ],
            "application/vnd.google.colaboratory.intrinsic+json": {
              "type": "string"
            }
          },
          "metadata": {},
          "execution_count": 44
        }
      ]
    },
    {
      "cell_type": "markdown",
      "source": [
        "**My own example 5 - Deifining A and B that are compatible for multiplcation**"
      ],
      "metadata": {
        "id": "MZTTYVu0ufCY"
      }
    },
    {
      "cell_type": "code",
      "source": [
        "# Suppose we have some matrices...\n",
        "a = [[1, 2, 3],\n",
        "     [2, 3, 4],\n",
        "     [5, 6, 7],\n",
        "     [1, 1, 1]]\n",
        "\n",
        "b = [[1, 2, 3, 4],\n",
        "     [2, 3, 4, 5]]"
      ],
      "metadata": {
        "id": "q8nHrWQz3kby"
      },
      "execution_count": 45,
      "outputs": []
    },
    {
      "cell_type": "markdown",
      "source": [
        "**My own example 6 - Runinng the correct Python matrix multiplication code with the matrices with dimensions compatible for multiplication.**"
      ],
      "metadata": {
        "id": "GM5DAXUIuhEg"
      }
    },
    {
      "cell_type": "code",
      "source": [
        "import random"
      ],
      "metadata": {
        "id": "Ip600JFN3qHX"
      },
      "execution_count": 46,
      "outputs": []
    },
    {
      "cell_type": "code",
      "source": [
        "random.normalvariate(0,1)"
      ],
      "metadata": {
        "colab": {
          "base_uri": "https://localhost:8080/"
        },
        "id": "HuDvpWbBkup-",
        "outputId": "d5fe4e2c-d141-446c-e9a9-898ce4a92673"
      },
      "execution_count": 47,
      "outputs": [
        {
          "output_type": "execute_result",
          "data": {
            "text/plain": [
              "-0.3779795567455962"
            ]
          },
          "metadata": {},
          "execution_count": 47
        }
      ]
    },
    {
      "cell_type": "code",
      "execution_count": 48,
      "metadata": {
        "outputId": "21e897cf-5ec6-458e-ae2c-a2c62d3e0368",
        "colab": {
          "base_uri": "https://localhost:8080/"
        },
        "id": "X1tnwMvd3bIP"
      },
      "outputs": [
        {
          "output_type": "execute_result",
          "data": {
            "text/plain": [
              "[[0.25183252838819303, 0.5305558598491479, 0.5775269051460611],\n",
              " [0.7655219536497703, 0.5400414753996525, 0.6280385518213302]]"
            ]
          },
          "metadata": {},
          "execution_count": 48
        }
      ],
      "source": [
        "import random\n",
        "def random_matrix(m, n):\n",
        "    out = []\n",
        "    for row in range(m):\n",
        "        out.append([random.random() for _ in range(n)])\n",
        "    return out\n",
        "\n",
        "randm = random_matrix(2, 3)\n",
        "randm"
      ]
    },
    {
      "cell_type": "markdown",
      "source": [
        "**My own example 7 - Running 10 times matmul(randa, randb) with randa and randb a randon matrices of 600 x 100 and 100 x 600 and calulating the average execution time**"
      ],
      "metadata": {
        "id": "3-eUeNjHhHP7"
      }
    },
    {
      "cell_type": "code",
      "source": [
        "%%time\n",
        "for times in range(0,10):\n",
        "  randa = random_matrix(600, 100)\n",
        "  randb = random_matrix(100, 600)\n",
        "  matmul(randa, randb)\n"
      ],
      "metadata": {
        "colab": {
          "base_uri": "https://localhost:8080/"
        },
        "id": "4PXmDqOGtZRo",
        "outputId": "cf3cdbb5-3ef8-42dc-c6d2-b87c3804c79b"
      },
      "execution_count": 49,
      "outputs": [
        {
          "output_type": "stream",
          "name": "stdout",
          "text": [
            "CPU times: user 2min, sys: 321 ms, total: 2min\n",
            "Wall time: 2min 12s\n"
          ]
        }
      ]
    },
    {
      "cell_type": "markdown",
      "source": [
        "**My own example 8 - Creating the average execution time data frame and adding Python's average execution time**\n",
        "\n",
        "> Bloc con sangría\n",
        "\n"
      ],
      "metadata": {
        "id": "FXisJPNSN-Tf"
      }
    },
    {
      "cell_type": "code",
      "source": [],
      "metadata": {
        "id": "2fK25g003-ww"
      },
      "execution_count": 49,
      "outputs": []
    },
    {
      "cell_type": "markdown",
      "source": [
        "**My own example 9 - Running 10 times randa and randb mutiplicaction as NumPy arrays  adding NumPy's average execution time**"
      ],
      "metadata": {
        "id": "OiFYD3tghLcL"
      }
    },
    {
      "cell_type": "code",
      "source": [],
      "metadata": {
        "id": "bHX4icJx5KZo"
      },
      "execution_count": 49,
      "outputs": []
    },
    {
      "cell_type": "code",
      "execution_count": 50,
      "metadata": {
        "scrolled": true,
        "id": "M5czoKckiXcN",
        "outputId": "3a356e81-6c0c-4e72-8698-ef132299344c",
        "colab": {
          "base_uri": "https://localhost:8080/"
        }
      },
      "outputs": [
        {
          "output_type": "stream",
          "name": "stdout",
          "text": [
            "CPU times: user 16.1 s, sys: 50.9 ms, total: 16.2 s\n",
            "Wall time: 24 s\n"
          ]
        }
      ],
      "source": [
        "%%time\n",
        "randa = random_matrix(600, 100)\n",
        "randb = random_matrix(100, 600)\n",
        "x = matmul(randa, randb)"
      ]
    },
    {
      "cell_type": "code",
      "execution_count": 51,
      "metadata": {
        "collapsed": true,
        "id": "hXy_q4S8iXcN"
      },
      "outputs": [],
      "source": [
        "# Maybe that's not that bad?  Let's try a simpler case.\n",
        "def python_dot_product(xs, ys):\n",
        "    return sum(x * y for x, y in zip(xs, ys))"
      ]
    },
    {
      "cell_type": "code",
      "execution_count": 52,
      "metadata": {
        "collapsed": true,
        "id": "qylqVrbqiXcO"
      },
      "outputs": [],
      "source": [
        "%%fortran\n",
        "subroutine fortran_dot_product(xs, ys, result)\n",
        "    double precision, intent(in) :: xs(:)\n",
        "    double precision, intent(in) :: ys(:)\n",
        "    double precision, intent(out) :: result\n",
        "    \n",
        "    result = sum(xs * ys)\n",
        "end"
      ]
    },
    {
      "cell_type": "code",
      "execution_count": 53,
      "metadata": {
        "collapsed": true,
        "id": "BGacVDX-iXcO"
      },
      "outputs": [],
      "source": [
        "list_data = [float(i) for i in range(100000)]\n",
        "array_data = np.array(list_data)"
      ]
    },
    {
      "cell_type": "code",
      "execution_count": 54,
      "metadata": {
        "id": "aaZPRE4aiXcO",
        "outputId": "b334b8bb-02f8-4f5a-e758-051faf7ce3a5",
        "colab": {
          "base_uri": "https://localhost:8080/"
        }
      },
      "outputs": [
        {
          "output_type": "stream",
          "name": "stdout",
          "text": [
            "CPU times: user 12.9 ms, sys: 0 ns, total: 12.9 ms\n",
            "Wall time: 12.9 ms\n"
          ]
        },
        {
          "output_type": "execute_result",
          "data": {
            "text/plain": [
              "333328333350000.0"
            ]
          },
          "metadata": {},
          "execution_count": 54
        }
      ],
      "source": [
        "%%time\n",
        "python_dot_product(list_data, list_data)"
      ]
    },
    {
      "cell_type": "code",
      "execution_count": 55,
      "metadata": {
        "id": "e9tNvTwLiXcO",
        "outputId": "03ee5a25-99b5-4729-d304-b660d803e75f",
        "colab": {
          "base_uri": "https://localhost:8080/"
        }
      },
      "outputs": [
        {
          "output_type": "stream",
          "name": "stdout",
          "text": [
            "CPU times: user 191 µs, sys: 0 ns, total: 191 µs\n",
            "Wall time: 202 µs\n"
          ]
        },
        {
          "output_type": "execute_result",
          "data": {
            "text/plain": [
              "333328333350000.0"
            ]
          },
          "metadata": {},
          "execution_count": 55
        }
      ],
      "source": [
        "%%time\n",
        "fortran_dot_product(array_data, array_data)"
      ]
    },
    {
      "cell_type": "markdown",
      "metadata": {
        "id": "qW-_Q7yuiXcO"
      },
      "source": [
        "<center><img src=\"https://raw.githubusercontent.com/ssanderson/pydata-toolbox/master/notebooks/images/sloth.gif\" alt=\"Drawing\" style=\"width: 1080px;\"/></center>\n"
      ]
    },
    {
      "cell_type": "markdown",
      "source": [
        "**My own example 10 - Deifining A (2x2)  and B (2x2)**"
      ],
      "metadata": {
        "id": "y37MLCQ4PQd3"
      }
    },
    {
      "cell_type": "code",
      "source": [
        "a = [[1,5],[4,7]]\n",
        "b = [[7,5],[2,4]]"
      ],
      "metadata": {
        "id": "7i0uJGD0v105"
      },
      "execution_count": 56,
      "outputs": []
    },
    {
      "cell_type": "markdown",
      "source": [
        "**My own example 11 - Defining Fortran subroutine matmul(A,B) for 2x2 matrices**"
      ],
      "metadata": {
        "id": "nuV59KXQPipC"
      }
    },
    {
      "cell_type": "code",
      "source": [
        "%%fortran\n",
        "subroutine matrix_multiply(A,r,s,B,t,C)\n",
        "    integer :: r, s, t\n",
        "    real, intent(in) :: A(r,s)\n",
        "    real, intent(in) :: B(s,t)\n",
        "    real, intent(out) :: C(r,t)\n",
        "\n",
        "    C = matmul(A,B)\n",
        "end subroutine matrix_multiply"
      ],
      "metadata": {
        "id": "faG3DgEHyyoP"
      },
      "execution_count": 57,
      "outputs": []
    },
    {
      "cell_type": "markdown",
      "source": [
        "**My own example 12 -Run Fortran subroutine matmul(A,B) with a and b 2x2 matrices**"
      ],
      "metadata": {
        "id": "zU1RmmstRPd4"
      }
    },
    {
      "cell_type": "code",
      "source": [
        "matrix_multiply(a,b)"
      ],
      "metadata": {
        "id": "LTcNJB4L6wwX",
        "colab": {
          "base_uri": "https://localhost:8080/"
        },
        "outputId": "977535da-2fa9-42ad-e842-d36911343261"
      },
      "execution_count": 58,
      "outputs": [
        {
          "output_type": "execute_result",
          "data": {
            "text/plain": [
              "array([[17., 25.],\n",
              "       [42., 48.]], dtype=float32)"
            ]
          },
          "metadata": {},
          "execution_count": 58
        }
      ]
    },
    {
      "cell_type": "markdown",
      "source": [
        "**My own example 13 - Defining Fortran subroutine matmul(A,B) for 600x100 and 100x600 matrices**"
      ],
      "metadata": {
        "id": "_ra5WDYERX1e"
      }
    },
    {
      "cell_type": "code",
      "source": [
        "randa = random_matrix(600, 100)\n",
        "randb = random_matrix(100, 600)\n",
        "matrix_multiply(randa,randb)"
      ],
      "metadata": {
        "id": "4mDURPVKkBDD",
        "colab": {
          "base_uri": "https://localhost:8080/"
        },
        "outputId": "29588422-5739-4b30-c87f-7a240710a3e2"
      },
      "execution_count": 59,
      "outputs": [
        {
          "output_type": "execute_result",
          "data": {
            "text/plain": [
              "array([[27.792898, 23.043705, 28.706459, ..., 27.0063  , 22.708233,\n",
              "        23.864222],\n",
              "       [29.43876 , 27.086823, 31.722672, ..., 32.49005 , 24.945095,\n",
              "        26.40347 ],\n",
              "       [24.322828, 21.436768, 25.00222 , ..., 25.5555  , 21.940857,\n",
              "        22.175646],\n",
              "       ...,\n",
              "       [21.855728, 20.942593, 26.62162 , ..., 25.224653, 19.902838,\n",
              "        22.648329],\n",
              "       [22.702778, 22.053276, 26.510658, ..., 25.263407, 22.70816 ,\n",
              "        23.290937],\n",
              "       [25.97163 , 22.191174, 25.70651 , ..., 26.89378 , 22.243883,\n",
              "        21.907608]], dtype=float32)"
            ]
          },
          "metadata": {},
          "execution_count": 59
        }
      ]
    },
    {
      "cell_type": "markdown",
      "source": [
        "**My own example 14 -Run Fortran subroutine matmul(A,B) with 600x100 and 100x600 matrices**"
      ],
      "metadata": {
        "id": "cf5NwQZQRjx-"
      }
    },
    {
      "cell_type": "code",
      "source": [
        "matrix_multiply(randa,randb)"
      ],
      "metadata": {
        "id": "S7xtJkrb6yuQ",
        "colab": {
          "base_uri": "https://localhost:8080/"
        },
        "outputId": "c48f9ca8-4dc0-41b0-c1ff-b9e939bfb63d"
      },
      "execution_count": 60,
      "outputs": [
        {
          "output_type": "execute_result",
          "data": {
            "text/plain": [
              "array([[27.792898, 23.043705, 28.706459, ..., 27.0063  , 22.708233,\n",
              "        23.864222],\n",
              "       [29.43876 , 27.086823, 31.722672, ..., 32.49005 , 24.945095,\n",
              "        26.40347 ],\n",
              "       [24.322828, 21.436768, 25.00222 , ..., 25.5555  , 21.940857,\n",
              "        22.175646],\n",
              "       ...,\n",
              "       [21.855728, 20.942593, 26.62162 , ..., 25.224653, 19.902838,\n",
              "        22.648329],\n",
              "       [22.702778, 22.053276, 26.510658, ..., 25.263407, 22.70816 ,\n",
              "        23.290937],\n",
              "       [25.97163 , 22.191174, 25.70651 , ..., 26.89378 , 22.243883,\n",
              "        21.907608]], dtype=float32)"
            ]
          },
          "metadata": {},
          "execution_count": 60
        }
      ]
    },
    {
      "cell_type": "markdown",
      "source": [
        "**My own example 15 - Running 10 times the  Fortran subroutine matmul(A,B) with 600x100 and 100x600 matrices and adding Fortran magic average execution time to the data frame**"
      ],
      "metadata": {
        "id": "5yjoH7W_R0E3"
      }
    },
    {
      "cell_type": "code",
      "source": [
        "%%time\n",
        "for times in range(0,10):\n",
        "  randa = random_matrix(600, 100)\n",
        "  randb = random_matrix(100, 600)\n",
        "  matrix_multiply(randa, randb)"
      ],
      "metadata": {
        "id": "2-A0QOte603A",
        "colab": {
          "base_uri": "https://localhost:8080/"
        },
        "outputId": "0cbc31db-b801-4a87-f6c3-8e70ccbf4877"
      },
      "execution_count": 61,
      "outputs": [
        {
          "output_type": "stream",
          "name": "stdout",
          "text": [
            "CPU times: user 388 ms, sys: 13.9 ms, total: 402 ms\n",
            "Wall time: 417 ms\n"
          ]
        }
      ]
    },
    {
      "cell_type": "markdown",
      "source": [
        "# **My own example 16 - Creating a  Fortran program that mutiplies 10 times A(600x100) and  B (100x600) matrices**"
      ],
      "metadata": {
        "id": "w5hURiGOShpG"
      }
    },
    {
      "cell_type": "code",
      "source": [
        "def runMatrixMultiply(times):\n",
        "  for times in range(0,times):\n",
        "    randa = random_matrix(600, 100)\n",
        "    randb = random_matrix(100, 600)\n",
        "    matrix_multiply(randa, randb)"
      ],
      "metadata": {
        "id": "xCkI1njo62Hv"
      },
      "execution_count": 69,
      "outputs": []
    },
    {
      "cell_type": "markdown",
      "source": [
        "**My own example 17 - Running the Fortran program that mutiplies 10 times A(600x100) and  B (100x600) matrices**"
      ],
      "metadata": {
        "id": "LJOrD7hyYmTJ"
      }
    },
    {
      "cell_type": "code",
      "source": [
        "runMatrixMultiply(10)"
      ],
      "metadata": {
        "id": "hmBeCMGV63z6"
      },
      "execution_count": 70,
      "outputs": []
    },
    {
      "cell_type": "markdown",
      "source": [
        "**My own example 18 - Adding Fortran average execution time to the data frame**"
      ],
      "metadata": {
        "id": "21wSmo50YfIo"
      }
    },
    {
      "cell_type": "code",
      "source": [
        "%%time\n",
        "runMatrixMultiply(10)"
      ],
      "metadata": {
        "id": "UDMgoacS642X",
        "colab": {
          "base_uri": "https://localhost:8080/"
        },
        "outputId": "d6ae1b79-894a-4ba0-90e7-7e7c4d5598e3"
      },
      "execution_count": 71,
      "outputs": [
        {
          "output_type": "stream",
          "name": "stdout",
          "text": [
            "CPU times: user 463 ms, sys: 17.8 ms, total: 481 ms\n",
            "Wall time: 1.22 s\n"
          ]
        }
      ]
    },
    {
      "cell_type": "markdown",
      "source": [
        "**My own example 19 - Creating a c program that mutiplies 10 times A(600x100) and  B (100x600) matrices**"
      ],
      "metadata": {
        "id": "8G8ZZ2hfZXYA"
      }
    },
    {
      "cell_type": "code",
      "source": [
        "%%writefile tmpc.c\n",
        "\n",
        "#include <stdio.h>\n",
        "#include <stdlib.h>\n",
        "#include <time.h>\n",
        "\n",
        "#define ROW_A 600\n",
        "#define COL_A 100\n",
        "#define ROW_B 100\n",
        "#define COL_B 600\n",
        "\n",
        "void matrix_mult(double A[ROW_A][COL_A], double B[ROW_B][COL_B], double C[ROW_A][COL_B]) {\n",
        "    int i, j, k;\n",
        "    for (i = 0; i < ROW_A; i++) {\n",
        "        for (j = 0; j < COL_B; j++) {\n",
        "            C[i][j] = 0;\n",
        "            for (k = 0; k < COL_A; k++) {\n",
        "                C[i][j] += A[i][k] * B[k][j];\n",
        "            }\n",
        "        }\n",
        "    }\n",
        "}\n",
        "\n",
        "int main() {\n",
        "    double A[ROW_A][COL_A], B[ROW_B][COL_B], C[ROW_A][COL_B];\n",
        "    int i, j, k;\n",
        "\n",
        "    // Initialize matrices A and B with random values\n",
        "    srand(time(NULL));\n",
        "    for (i = 0; i < ROW_A; i++) {\n",
        "        for (j = 0; j < COL_A; j++) {\n",
        "            A[i][j] = (double)rand() / (double)RAND_MAX;\n",
        "        }\n",
        "    }\n",
        "    for (i = 0; i < ROW_B; i++) {\n",
        "        for (j = 0; j < COL_B; j++) {\n",
        "            B[i][j] = (double)rand() / (double)RAND_MAX;\n",
        "        }\n",
        "    }\n",
        "\n",
        "    // Multiply matrices A and B 10 times\n",
        "    for (k = 0; k < 10; k++) {\n",
        "        matrix_mult(A, B, C);\n",
        "        // Assign result back to matrix A\n",
        "        for (i = 0; i < ROW_A; i++) {\n",
        "            for (j = 0; j < COL_B; j++) {\n",
        "                A[i][j] = C[i][j];\n",
        "            }\n",
        "        }\n",
        "    }\n",
        "\n",
        "    // Print some values of the resulting matrix A\n",
        "    printf(\"Resulting matrix A:\\n\");\n",
        "    for (i = 0; i < ROW_A; i += 100) {\n",
        "        for (j = 0; j < COL_A; j += 20) {\n",
        "            printf(\"%f \", A[i][j]);\n",
        "        }\n",
        "        printf(\"\\n\");\n",
        "    }\n",
        "\n",
        "    return 0;\n",
        "}\n"
      ],
      "metadata": {
        "id": "BknrT-KK65wP",
        "colab": {
          "base_uri": "https://localhost:8080/"
        },
        "outputId": "9fb1c816-9d9b-48a9-9046-5ebfff318a30"
      },
      "execution_count": 72,
      "outputs": [
        {
          "output_type": "stream",
          "name": "stdout",
          "text": [
            "Writing tmpc.c\n"
          ]
        }
      ]
    },
    {
      "cell_type": "markdown",
      "source": [
        "**My own example 20 - Running the c program that mutiplies 10 times A(600x100) and  B (100x600) matrices**"
      ],
      "metadata": {
        "id": "i-oPlTweZndB"
      }
    },
    {
      "cell_type": "code",
      "source": [
        "!gcc tmpc.c -o tmpc\n",
        "!./tmpc"
      ],
      "metadata": {
        "id": "CKFgaMTa67Ri",
        "colab": {
          "base_uri": "https://localhost:8080/"
        },
        "outputId": "ae7294c5-66e2-4334-fca0-a0285a6aad53"
      },
      "execution_count": 75,
      "outputs": [
        {
          "output_type": "stream",
          "name": "stdout",
          "text": [
            "Resulting matrix A:\n",
            "inf inf inf inf inf \n",
            "inf inf inf inf inf \n",
            "inf inf inf inf inf \n",
            "inf inf inf inf inf \n",
            "inf inf inf inf inf \n",
            "inf inf inf inf inf \n"
          ]
        }
      ]
    },
    {
      "cell_type": "markdown",
      "source": [
        "**My own example 21 - Adding c average execution time to the data frame**"
      ],
      "metadata": {
        "id": "U9Wf-9DPZ3R4"
      }
    },
    {
      "cell_type": "code",
      "source": [
        "%%time\n",
        "!./tmpc"
      ],
      "metadata": {
        "id": "EfsTc5wN695I",
        "colab": {
          "base_uri": "https://localhost:8080/"
        },
        "outputId": "20b90e83-344a-4bb6-8960-66bbb4aa32d7"
      },
      "execution_count": 77,
      "outputs": [
        {
          "output_type": "stream",
          "name": "stdout",
          "text": [
            "Resulting matrix A:\n",
            "inf inf inf inf inf \n",
            "inf inf inf inf inf \n",
            "inf inf inf inf inf \n",
            "inf inf inf inf inf \n",
            "inf inf inf inf inf \n",
            "inf inf inf inf inf \n",
            "CPU times: user 40 ms, sys: 15 ms, total: 55 ms\n",
            "Wall time: 2.87 s\n"
          ]
        }
      ]
    },
    {
      "cell_type": "markdown",
      "source": [
        "**My own example 22 - Creating a C++ program that mutiplies 10 times A(600x100)** \n",
        "\n",
        "*   Elemento de la lista\n",
        "*   Elemento de la lista\n",
        "\n",
        "and  B (100x600) matrices**"
      ],
      "metadata": {
        "id": "XkgHEUB2aFI1"
      }
    },
    {
      "cell_type": "code",
      "source": [
        "%%writefile tmpcc.cc\n",
        "#include <iostream>\n",
        "#include <chrono>\n",
        "\n",
        "using namespace std::chrono;\n",
        "\n",
        "int main() {\n",
        "    const int N = 600, M = 100, P = 600;\n",
        "    int i, j, k, l;\n",
        "\n",
        "    double A[N][M], B[M][P], C[N][P];\n",
        "\n",
        "    // Initialize matrices A and B\n",
        "    for (i = 0; i < N; i++) {\n",
        "        for (j = 0; j < M; j++) {\n",
        "            A[i][j] = i + j;\n",
        "        }\n",
        "    }\n",
        "\n",
        "    for (i = 0; i < M; i++) {\n",
        "        for (j = 0; j < P; j++) {\n",
        "            B[i][j] = i * j;\n",
        "        }\n",
        "    }\n",
        "\n",
        "    // Multiply A and B 10 times\n",
        "    for (l = 0; l < 10; l++) {\n",
        "       \n",
        "\n",
        "        for (i = 0; i < N; i++) {\n",
        "            for (j = 0; j < P; j++) {\n",
        "                C[i][j] = 0;\n",
        "                for (k = 0; k < M; k++) {\n",
        "                    C[i][j] += A[i][k] * B[k][j];\n",
        "                }\n",
        "            }\n",
        "        }\n",
        "\n",
        "        }\n",
        "\n",
        "    return 0;\n",
        "}"
      ],
      "metadata": {
        "id": "U1CoUYEw6-9P",
        "colab": {
          "base_uri": "https://localhost:8080/"
        },
        "outputId": "13b8d894-13a8-49e5-887e-f430fc37e8e4"
      },
      "execution_count": 82,
      "outputs": [
        {
          "output_type": "stream",
          "name": "stdout",
          "text": [
            "Overwriting tmpcc.cc\n"
          ]
        }
      ]
    },
    {
      "cell_type": "markdown",
      "source": [
        "**My own example 23 - Running the C++ program that mutiplies 10 times A(600x100) and  B (100x600) matrices**"
      ],
      "metadata": {
        "id": "WFpb2F81aKJA"
      }
    },
    {
      "cell_type": "code",
      "source": [
        "!g++ tmpcc.cc -o tmpcc\n",
        "!./tmpcc\n"
      ],
      "metadata": {
        "id": "Q33PLFeG6_0r"
      },
      "execution_count": 85,
      "outputs": []
    },
    {
      "cell_type": "markdown",
      "source": [
        "**My own example 24 - Adding C++ average execution time to the data frame**"
      ],
      "metadata": {
        "id": "GSEE2zDjaPmg"
      }
    },
    {
      "cell_type": "code",
      "source": [
        "%%time\n",
        "!./tmpcc"
      ],
      "metadata": {
        "id": "YL_YL8Qm7B0w",
        "colab": {
          "base_uri": "https://localhost:8080/"
        },
        "outputId": "6cbcd2ef-cf24-48ac-bd14-28d1861e75c3"
      },
      "execution_count": 86,
      "outputs": [
        {
          "output_type": "stream",
          "name": "stdout",
          "text": [
            "CPU times: user 23.1 ms, sys: 15 ms, total: 38 ms\n",
            "Wall time: 2.35 s\n"
          ]
        }
      ]
    },
    {
      "cell_type": "markdown",
      "source": [
        "**My own example 25 - Creating a Java program that mutiplies 10 times A(600x100) and  B (100x600) matrices**"
      ],
      "metadata": {
        "id": "OjOecKv-d-ML"
      }
    },
    {
      "cell_type": "code",
      "source": [
        "%%writefile MatrixMultiplication.java\n",
        "public class MatrixMultiplication {\n",
        "    public static void main(String[] args) {\n",
        "        int[][] A = new int[600][100];\n",
        "        int[][] B = new int[100][600];\n",
        "        int[][] C = new int[600][600];\n",
        "\n",
        "        // Initialize matrices A and B with random values\n",
        "        for (int i = 0; i < 600; i++) {\n",
        "            for (int j = 0; j < 100; j++) {\n",
        "                A[i][j] = (int) (Math.random() * 10);\n",
        "            }\n",
        "        }\n",
        "        for (int i = 0; i < 100; i++) {\n",
        "            for (int j = 0; j < 600; j++) {\n",
        "                B[i][j] = (int) (Math.random() * 10);\n",
        "            }\n",
        "        }\n",
        "\n",
        "        // Perform matrix multiplication 10 times\n",
        "        for (int k = 0; k < 10; k++) {\n",
        "            for (int i = 0; i < 600; i++) {\n",
        "                for (int j = 0; j < 600; j++) {\n",
        "                    for (int l = 0; l < 100; l++) {\n",
        "                        C[i][j] += A[i][l] * B[l][j];\n",
        "                    }\n",
        "                }\n",
        "            }\n",
        "        }\n",
        "    }\n",
        "}\n"
      ],
      "metadata": {
        "id": "o8UPxOqs7C34",
        "colab": {
          "base_uri": "https://localhost:8080/"
        },
        "outputId": "2e1bcad9-105c-4493-9565-84477080d7db"
      },
      "execution_count": 100,
      "outputs": [
        {
          "output_type": "stream",
          "name": "stdout",
          "text": [
            "Writing MatrixMultiplication.java\n"
          ]
        }
      ]
    },
    {
      "cell_type": "markdown",
      "source": [
        "**My own example 26 - Running the Java program that mutiplies 10 times A(600x100) and  B (100x600) matrices**"
      ],
      "metadata": {
        "id": "J75aKNvZeFHx"
      }
    },
    {
      "cell_type": "code",
      "source": [
        "!javac MatrixMultiplication.java"
      ],
      "metadata": {
        "id": "NP_QcZqA7EPn"
      },
      "execution_count": 102,
      "outputs": []
    },
    {
      "cell_type": "markdown",
      "source": [
        "**My own example 27 - Adding Java average execution time to the data frame**"
      ],
      "metadata": {
        "id": "C75pEHRieNfo"
      }
    },
    {
      "cell_type": "code",
      "source": [
        "%%time\n",
        "!javac MatrixMultiplication.java"
      ],
      "metadata": {
        "id": "5ZDLYWrY7Fhi",
        "colab": {
          "base_uri": "https://localhost:8080/"
        },
        "outputId": "54fc9943-756c-4bf9-adc2-510624290c24"
      },
      "execution_count": 105,
      "outputs": [
        {
          "output_type": "stream",
          "name": "stdout",
          "text": [
            "CPU times: user 22.8 ms, sys: 21.6 ms, total: 44.4 ms\n",
            "Wall time: 2.05 s\n"
          ]
        }
      ]
    },
    {
      "cell_type": "markdown",
      "source": [
        "**My own example 28 - Creating a Javascript program that mutiplies 10 times A(600x100) and  B (100x600) matrices**"
      ],
      "metadata": {
        "id": "nHtevrHEeUiI"
      }
    },
    {
      "cell_type": "code",
      "source": [
        "%%writefile tmp.js\n",
        "function multiplyMatrices(A, B) {\n",
        "  var result = new Array(A.length);\n",
        "  for (var i = 0; i < A.length; i++) {\n",
        "    result[i] = new Array(B[0].length).fill(0);\n",
        "  }\n",
        "  for (var i = 0; i < 10; i++) {\n",
        "    for (var j = 0; j < A.length; j++) {\n",
        "      for (var k = 0; k < B[0].length; k++) {\n",
        "        for (var l = 0; l < B.length; l++) {\n",
        "          result[j][k] += A[j][l] * B[l][k];\n",
        "        }\n",
        "      }\n",
        "    }\n",
        "    A = result;\n",
        "  }\n",
        "  return result;\n",
        "}\n",
        "\n",
        "var A = new Array(600);\n",
        "for (var i = 0; i < A.length; i++) {\n",
        "  A[i] = new Array(100).fill(2);\n",
        "}\n",
        "\n",
        "var B = new Array(100);\n",
        "for (var i = 0; i < B.length; i++) {\n",
        "  B[i] = new Array(600).fill(3);\n",
        "}\n",
        "\n",
        "var result = multiplyMatrices(A, B);\n",
        "console.log(result);\n",
        "\n",
        "\n"
      ],
      "metadata": {
        "id": "6t1-WhmW7GhX",
        "colab": {
          "base_uri": "https://localhost:8080/"
        },
        "outputId": "2c5e7e47-0108-41db-9fc7-2da20ea8ffd4"
      },
      "execution_count": 111,
      "outputs": [
        {
          "output_type": "stream",
          "name": "stdout",
          "text": [
            "Overwriting tmp.js\n"
          ]
        }
      ]
    },
    {
      "cell_type": "markdown",
      "source": [
        "**My own example 29 - Running the Javascript program that mutiplies 10 times A(600x100) and  B (100x600) matrices**"
      ],
      "metadata": {
        "id": "87XpOlCteUZJ"
      }
    },
    {
      "cell_type": "code",
      "source": [
        "!node tmp.js"
      ],
      "metadata": {
        "id": "QEm52oVe7HyF",
        "colab": {
          "base_uri": "https://localhost:8080/"
        },
        "outputId": "b489f277-392a-4e93-b694-26893b09a623"
      },
      "execution_count": 112,
      "outputs": [
        {
          "output_type": "stream",
          "name": "stdout",
          "text": [
            "[\n",
            "  [\n",
            "    \u001b[33mInfinity\u001b[39m, \u001b[33mInfinity\u001b[39m, \u001b[33mInfinity\u001b[39m, \u001b[33mInfinity\u001b[39m, \u001b[33mInfinity\u001b[39m, \u001b[33mInfinity\u001b[39m,\n",
            "    \u001b[33mInfinity\u001b[39m, \u001b[33mInfinity\u001b[39m, \u001b[33mInfinity\u001b[39m, \u001b[33mInfinity\u001b[39m, \u001b[33mInfinity\u001b[39m, \u001b[33mInfinity\u001b[39m,\n",
            "    \u001b[33mInfinity\u001b[39m, \u001b[33mInfinity\u001b[39m, \u001b[33mInfinity\u001b[39m, \u001b[33mInfinity\u001b[39m, \u001b[33mInfinity\u001b[39m, \u001b[33mInfinity\u001b[39m,\n",
            "    \u001b[33mInfinity\u001b[39m, \u001b[33mInfinity\u001b[39m, \u001b[33mInfinity\u001b[39m, \u001b[33mInfinity\u001b[39m, \u001b[33mInfinity\u001b[39m, \u001b[33mInfinity\u001b[39m,\n",
            "    \u001b[33mInfinity\u001b[39m, \u001b[33mInfinity\u001b[39m, \u001b[33mInfinity\u001b[39m, \u001b[33mInfinity\u001b[39m, \u001b[33mInfinity\u001b[39m, \u001b[33mInfinity\u001b[39m,\n",
            "    \u001b[33mInfinity\u001b[39m, \u001b[33mInfinity\u001b[39m, \u001b[33mInfinity\u001b[39m, \u001b[33mInfinity\u001b[39m, \u001b[33mInfinity\u001b[39m, \u001b[33mInfinity\u001b[39m,\n",
            "    \u001b[33mInfinity\u001b[39m, \u001b[33mInfinity\u001b[39m, \u001b[33mInfinity\u001b[39m, \u001b[33mInfinity\u001b[39m, \u001b[33mInfinity\u001b[39m, \u001b[33mInfinity\u001b[39m,\n",
            "    \u001b[33mInfinity\u001b[39m, \u001b[33mInfinity\u001b[39m, \u001b[33mInfinity\u001b[39m, \u001b[33mInfinity\u001b[39m, \u001b[33mInfinity\u001b[39m, \u001b[33mInfinity\u001b[39m,\n",
            "    \u001b[33mInfinity\u001b[39m, \u001b[33mInfinity\u001b[39m, \u001b[33mInfinity\u001b[39m, \u001b[33mInfinity\u001b[39m, \u001b[33mInfinity\u001b[39m, \u001b[33mInfinity\u001b[39m,\n",
            "    \u001b[33mInfinity\u001b[39m, \u001b[33mInfinity\u001b[39m, \u001b[33mInfinity\u001b[39m, \u001b[33mInfinity\u001b[39m, \u001b[33mInfinity\u001b[39m, \u001b[33mInfinity\u001b[39m,\n",
            "    \u001b[33mInfinity\u001b[39m, \u001b[33mInfinity\u001b[39m, \u001b[33mInfinity\u001b[39m, \u001b[33mInfinity\u001b[39m, \u001b[33mInfinity\u001b[39m, \u001b[33mInfinity\u001b[39m,\n",
            "    \u001b[33mInfinity\u001b[39m, \u001b[33mInfinity\u001b[39m, \u001b[33mInfinity\u001b[39m, \u001b[33mInfinity\u001b[39m, \u001b[33mInfinity\u001b[39m, \u001b[33mInfinity\u001b[39m,\n",
            "    \u001b[33mInfinity\u001b[39m, \u001b[33mInfinity\u001b[39m, \u001b[33mInfinity\u001b[39m, \u001b[33mInfinity\u001b[39m, \u001b[33mInfinity\u001b[39m, \u001b[33mInfinity\u001b[39m,\n",
            "    \u001b[33mInfinity\u001b[39m, \u001b[33mInfinity\u001b[39m, \u001b[33mInfinity\u001b[39m, \u001b[33mInfinity\u001b[39m, \u001b[33mInfinity\u001b[39m, \u001b[33mInfinity\u001b[39m,\n",
            "    \u001b[33mInfinity\u001b[39m, \u001b[33mInfinity\u001b[39m, \u001b[33mInfinity\u001b[39m, \u001b[33mInfinity\u001b[39m, \u001b[33mInfinity\u001b[39m, \u001b[33mInfinity\u001b[39m,\n",
            "    \u001b[33mInfinity\u001b[39m, \u001b[33mInfinity\u001b[39m, \u001b[33mInfinity\u001b[39m, \u001b[33mInfinity\u001b[39m, \u001b[33mInfinity\u001b[39m, \u001b[33mInfinity\u001b[39m,\n",
            "    \u001b[33mInfinity\u001b[39m, \u001b[33mInfinity\u001b[39m, \u001b[33mInfinity\u001b[39m, \u001b[33mInfinity\u001b[39m,\n",
            "    ... 500 more items\n",
            "  ],\n",
            "  [\n",
            "    \u001b[33mInfinity\u001b[39m, \u001b[33mInfinity\u001b[39m, \u001b[33mInfinity\u001b[39m, \u001b[33mInfinity\u001b[39m, \u001b[33mInfinity\u001b[39m, \u001b[33mInfinity\u001b[39m,\n",
            "    \u001b[33mInfinity\u001b[39m, \u001b[33mInfinity\u001b[39m, \u001b[33mInfinity\u001b[39m, \u001b[33mInfinity\u001b[39m, \u001b[33mInfinity\u001b[39m, \u001b[33mInfinity\u001b[39m,\n",
            "    \u001b[33mInfinity\u001b[39m, \u001b[33mInfinity\u001b[39m, \u001b[33mInfinity\u001b[39m, \u001b[33mInfinity\u001b[39m, \u001b[33mInfinity\u001b[39m, \u001b[33mInfinity\u001b[39m,\n",
            "    \u001b[33mInfinity\u001b[39m, \u001b[33mInfinity\u001b[39m, \u001b[33mInfinity\u001b[39m, \u001b[33mInfinity\u001b[39m, \u001b[33mInfinity\u001b[39m, \u001b[33mInfinity\u001b[39m,\n",
            "    \u001b[33mInfinity\u001b[39m, \u001b[33mInfinity\u001b[39m, \u001b[33mInfinity\u001b[39m, \u001b[33mInfinity\u001b[39m, \u001b[33mInfinity\u001b[39m, \u001b[33mInfinity\u001b[39m,\n",
            "    \u001b[33mInfinity\u001b[39m, \u001b[33mInfinity\u001b[39m, \u001b[33mInfinity\u001b[39m, \u001b[33mInfinity\u001b[39m, \u001b[33mInfinity\u001b[39m, \u001b[33mInfinity\u001b[39m,\n",
            "    \u001b[33mInfinity\u001b[39m, \u001b[33mInfinity\u001b[39m, \u001b[33mInfinity\u001b[39m, \u001b[33mInfinity\u001b[39m, \u001b[33mInfinity\u001b[39m, \u001b[33mInfinity\u001b[39m,\n",
            "    \u001b[33mInfinity\u001b[39m, \u001b[33mInfinity\u001b[39m, \u001b[33mInfinity\u001b[39m, \u001b[33mInfinity\u001b[39m, \u001b[33mInfinity\u001b[39m, \u001b[33mInfinity\u001b[39m,\n",
            "    \u001b[33mInfinity\u001b[39m, \u001b[33mInfinity\u001b[39m, \u001b[33mInfinity\u001b[39m, \u001b[33mInfinity\u001b[39m, \u001b[33mInfinity\u001b[39m, \u001b[33mInfinity\u001b[39m,\n",
            "    \u001b[33mInfinity\u001b[39m, \u001b[33mInfinity\u001b[39m, \u001b[33mInfinity\u001b[39m, \u001b[33mInfinity\u001b[39m, \u001b[33mInfinity\u001b[39m, \u001b[33mInfinity\u001b[39m,\n",
            "    \u001b[33mInfinity\u001b[39m, \u001b[33mInfinity\u001b[39m, \u001b[33mInfinity\u001b[39m, \u001b[33mInfinity\u001b[39m, \u001b[33mInfinity\u001b[39m, \u001b[33mInfinity\u001b[39m,\n",
            "    \u001b[33mInfinity\u001b[39m, \u001b[33mInfinity\u001b[39m, \u001b[33mInfinity\u001b[39m, \u001b[33mInfinity\u001b[39m, \u001b[33mInfinity\u001b[39m, \u001b[33mInfinity\u001b[39m,\n",
            "    \u001b[33mInfinity\u001b[39m, \u001b[33mInfinity\u001b[39m, \u001b[33mInfinity\u001b[39m, \u001b[33mInfinity\u001b[39m, \u001b[33mInfinity\u001b[39m, \u001b[33mInfinity\u001b[39m,\n",
            "    \u001b[33mInfinity\u001b[39m, \u001b[33mInfinity\u001b[39m, \u001b[33mInfinity\u001b[39m, \u001b[33mInfinity\u001b[39m, \u001b[33mInfinity\u001b[39m, \u001b[33mInfinity\u001b[39m,\n",
            "    \u001b[33mInfinity\u001b[39m, \u001b[33mInfinity\u001b[39m, \u001b[33mInfinity\u001b[39m, \u001b[33mInfinity\u001b[39m, \u001b[33mInfinity\u001b[39m, \u001b[33mInfinity\u001b[39m,\n",
            "    \u001b[33mInfinity\u001b[39m, \u001b[33mInfinity\u001b[39m, \u001b[33mInfinity\u001b[39m, \u001b[33mInfinity\u001b[39m, \u001b[33mInfinity\u001b[39m, \u001b[33mInfinity\u001b[39m,\n",
            "    \u001b[33mInfinity\u001b[39m, \u001b[33mInfinity\u001b[39m, \u001b[33mInfinity\u001b[39m, \u001b[33mInfinity\u001b[39m,\n",
            "    ... 500 more items\n",
            "  ],\n",
            "  [\n",
            "    \u001b[33mInfinity\u001b[39m, \u001b[33mInfinity\u001b[39m, \u001b[33mInfinity\u001b[39m, \u001b[33mInfinity\u001b[39m, \u001b[33mInfinity\u001b[39m, \u001b[33mInfinity\u001b[39m,\n",
            "    \u001b[33mInfinity\u001b[39m, \u001b[33mInfinity\u001b[39m, \u001b[33mInfinity\u001b[39m, \u001b[33mInfinity\u001b[39m, \u001b[33mInfinity\u001b[39m, \u001b[33mInfinity\u001b[39m,\n",
            "    \u001b[33mInfinity\u001b[39m, \u001b[33mInfinity\u001b[39m, \u001b[33mInfinity\u001b[39m, \u001b[33mInfinity\u001b[39m, \u001b[33mInfinity\u001b[39m, \u001b[33mInfinity\u001b[39m,\n",
            "    \u001b[33mInfinity\u001b[39m, \u001b[33mInfinity\u001b[39m, \u001b[33mInfinity\u001b[39m, \u001b[33mInfinity\u001b[39m, \u001b[33mInfinity\u001b[39m, \u001b[33mInfinity\u001b[39m,\n",
            "    \u001b[33mInfinity\u001b[39m, \u001b[33mInfinity\u001b[39m, \u001b[33mInfinity\u001b[39m, \u001b[33mInfinity\u001b[39m, \u001b[33mInfinity\u001b[39m, \u001b[33mInfinity\u001b[39m,\n",
            "    \u001b[33mInfinity\u001b[39m, \u001b[33mInfinity\u001b[39m, \u001b[33mInfinity\u001b[39m, \u001b[33mInfinity\u001b[39m, \u001b[33mInfinity\u001b[39m, \u001b[33mInfinity\u001b[39m,\n",
            "    \u001b[33mInfinity\u001b[39m, \u001b[33mInfinity\u001b[39m, \u001b[33mInfinity\u001b[39m, \u001b[33mInfinity\u001b[39m, \u001b[33mInfinity\u001b[39m, \u001b[33mInfinity\u001b[39m,\n",
            "    \u001b[33mInfinity\u001b[39m, \u001b[33mInfinity\u001b[39m, \u001b[33mInfinity\u001b[39m, \u001b[33mInfinity\u001b[39m, \u001b[33mInfinity\u001b[39m, \u001b[33mInfinity\u001b[39m,\n",
            "    \u001b[33mInfinity\u001b[39m, \u001b[33mInfinity\u001b[39m, \u001b[33mInfinity\u001b[39m, \u001b[33mInfinity\u001b[39m, \u001b[33mInfinity\u001b[39m, \u001b[33mInfinity\u001b[39m,\n",
            "    \u001b[33mInfinity\u001b[39m, \u001b[33mInfinity\u001b[39m, \u001b[33mInfinity\u001b[39m, \u001b[33mInfinity\u001b[39m, \u001b[33mInfinity\u001b[39m, \u001b[33mInfinity\u001b[39m,\n",
            "    \u001b[33mInfinity\u001b[39m, \u001b[33mInfinity\u001b[39m, \u001b[33mInfinity\u001b[39m, \u001b[33mInfinity\u001b[39m, \u001b[33mInfinity\u001b[39m, \u001b[33mInfinity\u001b[39m,\n",
            "    \u001b[33mInfinity\u001b[39m, \u001b[33mInfinity\u001b[39m, \u001b[33mInfinity\u001b[39m, \u001b[33mInfinity\u001b[39m, \u001b[33mInfinity\u001b[39m, \u001b[33mInfinity\u001b[39m,\n",
            "    \u001b[33mInfinity\u001b[39m, \u001b[33mInfinity\u001b[39m, \u001b[33mInfinity\u001b[39m, \u001b[33mInfinity\u001b[39m, \u001b[33mInfinity\u001b[39m, \u001b[33mInfinity\u001b[39m,\n",
            "    \u001b[33mInfinity\u001b[39m, \u001b[33mInfinity\u001b[39m, \u001b[33mInfinity\u001b[39m, \u001b[33mInfinity\u001b[39m, \u001b[33mInfinity\u001b[39m, \u001b[33mInfinity\u001b[39m,\n",
            "    \u001b[33mInfinity\u001b[39m, \u001b[33mInfinity\u001b[39m, \u001b[33mInfinity\u001b[39m, \u001b[33mInfinity\u001b[39m, \u001b[33mInfinity\u001b[39m, \u001b[33mInfinity\u001b[39m,\n",
            "    \u001b[33mInfinity\u001b[39m, \u001b[33mInfinity\u001b[39m, \u001b[33mInfinity\u001b[39m, \u001b[33mInfinity\u001b[39m, \u001b[33mInfinity\u001b[39m, \u001b[33mInfinity\u001b[39m,\n",
            "    \u001b[33mInfinity\u001b[39m, \u001b[33mInfinity\u001b[39m, \u001b[33mInfinity\u001b[39m, \u001b[33mInfinity\u001b[39m,\n",
            "    ... 500 more items\n",
            "  ],\n",
            "  [\n",
            "    \u001b[33mInfinity\u001b[39m, \u001b[33mInfinity\u001b[39m, \u001b[33mInfinity\u001b[39m, \u001b[33mInfinity\u001b[39m, \u001b[33mInfinity\u001b[39m, \u001b[33mInfinity\u001b[39m,\n",
            "    \u001b[33mInfinity\u001b[39m, \u001b[33mInfinity\u001b[39m, \u001b[33mInfinity\u001b[39m, \u001b[33mInfinity\u001b[39m, \u001b[33mInfinity\u001b[39m, \u001b[33mInfinity\u001b[39m,\n",
            "    \u001b[33mInfinity\u001b[39m, \u001b[33mInfinity\u001b[39m, \u001b[33mInfinity\u001b[39m, \u001b[33mInfinity\u001b[39m, \u001b[33mInfinity\u001b[39m, \u001b[33mInfinity\u001b[39m,\n",
            "    \u001b[33mInfinity\u001b[39m, \u001b[33mInfinity\u001b[39m, \u001b[33mInfinity\u001b[39m, \u001b[33mInfinity\u001b[39m, \u001b[33mInfinity\u001b[39m, \u001b[33mInfinity\u001b[39m,\n",
            "    \u001b[33mInfinity\u001b[39m, \u001b[33mInfinity\u001b[39m, \u001b[33mInfinity\u001b[39m, \u001b[33mInfinity\u001b[39m, \u001b[33mInfinity\u001b[39m, \u001b[33mInfinity\u001b[39m,\n",
            "    \u001b[33mInfinity\u001b[39m, \u001b[33mInfinity\u001b[39m, \u001b[33mInfinity\u001b[39m, \u001b[33mInfinity\u001b[39m, \u001b[33mInfinity\u001b[39m, \u001b[33mInfinity\u001b[39m,\n",
            "    \u001b[33mInfinity\u001b[39m, \u001b[33mInfinity\u001b[39m, \u001b[33mInfinity\u001b[39m, \u001b[33mInfinity\u001b[39m, \u001b[33mInfinity\u001b[39m, \u001b[33mInfinity\u001b[39m,\n",
            "    \u001b[33mInfinity\u001b[39m, \u001b[33mInfinity\u001b[39m, \u001b[33mInfinity\u001b[39m, \u001b[33mInfinity\u001b[39m, \u001b[33mInfinity\u001b[39m, \u001b[33mInfinity\u001b[39m,\n",
            "    \u001b[33mInfinity\u001b[39m, \u001b[33mInfinity\u001b[39m, \u001b[33mInfinity\u001b[39m, \u001b[33mInfinity\u001b[39m, \u001b[33mInfinity\u001b[39m, \u001b[33mInfinity\u001b[39m,\n",
            "    \u001b[33mInfinity\u001b[39m, \u001b[33mInfinity\u001b[39m, \u001b[33mInfinity\u001b[39m, \u001b[33mInfinity\u001b[39m, \u001b[33mInfinity\u001b[39m, \u001b[33mInfinity\u001b[39m,\n",
            "    \u001b[33mInfinity\u001b[39m, \u001b[33mInfinity\u001b[39m, \u001b[33mInfinity\u001b[39m, \u001b[33mInfinity\u001b[39m, \u001b[33mInfinity\u001b[39m, \u001b[33mInfinity\u001b[39m,\n",
            "    \u001b[33mInfinity\u001b[39m, \u001b[33mInfinity\u001b[39m, \u001b[33mInfinity\u001b[39m, \u001b[33mInfinity\u001b[39m, \u001b[33mInfinity\u001b[39m, \u001b[33mInfinity\u001b[39m,\n",
            "    \u001b[33mInfinity\u001b[39m, \u001b[33mInfinity\u001b[39m, \u001b[33mInfinity\u001b[39m, \u001b[33mInfinity\u001b[39m, \u001b[33mInfinity\u001b[39m, \u001b[33mInfinity\u001b[39m,\n",
            "    \u001b[33mInfinity\u001b[39m, \u001b[33mInfinity\u001b[39m, \u001b[33mInfinity\u001b[39m, \u001b[33mInfinity\u001b[39m, \u001b[33mInfinity\u001b[39m, \u001b[33mInfinity\u001b[39m,\n",
            "    \u001b[33mInfinity\u001b[39m, \u001b[33mInfinity\u001b[39m, \u001b[33mInfinity\u001b[39m, \u001b[33mInfinity\u001b[39m, \u001b[33mInfinity\u001b[39m, \u001b[33mInfinity\u001b[39m,\n",
            "    \u001b[33mInfinity\u001b[39m, \u001b[33mInfinity\u001b[39m, \u001b[33mInfinity\u001b[39m, \u001b[33mInfinity\u001b[39m, \u001b[33mInfinity\u001b[39m, \u001b[33mInfinity\u001b[39m,\n",
            "    \u001b[33mInfinity\u001b[39m, \u001b[33mInfinity\u001b[39m, \u001b[33mInfinity\u001b[39m, \u001b[33mInfinity\u001b[39m,\n",
            "    ... 500 more items\n",
            "  ],\n",
            "  [\n",
            "    \u001b[33mInfinity\u001b[39m, \u001b[33mInfinity\u001b[39m, \u001b[33mInfinity\u001b[39m, \u001b[33mInfinity\u001b[39m, \u001b[33mInfinity\u001b[39m, \u001b[33mInfinity\u001b[39m,\n",
            "    \u001b[33mInfinity\u001b[39m, \u001b[33mInfinity\u001b[39m, \u001b[33mInfinity\u001b[39m, \u001b[33mInfinity\u001b[39m, \u001b[33mInfinity\u001b[39m, \u001b[33mInfinity\u001b[39m,\n",
            "    \u001b[33mInfinity\u001b[39m, \u001b[33mInfinity\u001b[39m, \u001b[33mInfinity\u001b[39m, \u001b[33mInfinity\u001b[39m, \u001b[33mInfinity\u001b[39m, \u001b[33mInfinity\u001b[39m,\n",
            "    \u001b[33mInfinity\u001b[39m, \u001b[33mInfinity\u001b[39m, \u001b[33mInfinity\u001b[39m, \u001b[33mInfinity\u001b[39m, \u001b[33mInfinity\u001b[39m, \u001b[33mInfinity\u001b[39m,\n",
            "    \u001b[33mInfinity\u001b[39m, \u001b[33mInfinity\u001b[39m, \u001b[33mInfinity\u001b[39m, \u001b[33mInfinity\u001b[39m, \u001b[33mInfinity\u001b[39m, \u001b[33mInfinity\u001b[39m,\n",
            "    \u001b[33mInfinity\u001b[39m, \u001b[33mInfinity\u001b[39m, \u001b[33mInfinity\u001b[39m, \u001b[33mInfinity\u001b[39m, \u001b[33mInfinity\u001b[39m, \u001b[33mInfinity\u001b[39m,\n",
            "    \u001b[33mInfinity\u001b[39m, \u001b[33mInfinity\u001b[39m, \u001b[33mInfinity\u001b[39m, \u001b[33mInfinity\u001b[39m, \u001b[33mInfinity\u001b[39m, \u001b[33mInfinity\u001b[39m,\n",
            "    \u001b[33mInfinity\u001b[39m, \u001b[33mInfinity\u001b[39m, \u001b[33mInfinity\u001b[39m, \u001b[33mInfinity\u001b[39m, \u001b[33mInfinity\u001b[39m, \u001b[33mInfinity\u001b[39m,\n",
            "    \u001b[33mInfinity\u001b[39m, \u001b[33mInfinity\u001b[39m, \u001b[33mInfinity\u001b[39m, \u001b[33mInfinity\u001b[39m, \u001b[33mInfinity\u001b[39m, \u001b[33mInfinity\u001b[39m,\n",
            "    \u001b[33mInfinity\u001b[39m, \u001b[33mInfinity\u001b[39m, \u001b[33mInfinity\u001b[39m, \u001b[33mInfinity\u001b[39m, \u001b[33mInfinity\u001b[39m, \u001b[33mInfinity\u001b[39m,\n",
            "    \u001b[33mInfinity\u001b[39m, \u001b[33mInfinity\u001b[39m, \u001b[33mInfinity\u001b[39m, \u001b[33mInfinity\u001b[39m, \u001b[33mInfinity\u001b[39m, \u001b[33mInfinity\u001b[39m,\n",
            "    \u001b[33mInfinity\u001b[39m, \u001b[33mInfinity\u001b[39m, \u001b[33mInfinity\u001b[39m, \u001b[33mInfinity\u001b[39m, \u001b[33mInfinity\u001b[39m, \u001b[33mInfinity\u001b[39m,\n",
            "    \u001b[33mInfinity\u001b[39m, \u001b[33mInfinity\u001b[39m, \u001b[33mInfinity\u001b[39m, \u001b[33mInfinity\u001b[39m, \u001b[33mInfinity\u001b[39m, \u001b[33mInfinity\u001b[39m,\n",
            "    \u001b[33mInfinity\u001b[39m, \u001b[33mInfinity\u001b[39m, \u001b[33mInfinity\u001b[39m, \u001b[33mInfinity\u001b[39m, \u001b[33mInfinity\u001b[39m, \u001b[33mInfinity\u001b[39m,\n",
            "    \u001b[33mInfinity\u001b[39m, \u001b[33mInfinity\u001b[39m, \u001b[33mInfinity\u001b[39m, \u001b[33mInfinity\u001b[39m, \u001b[33mInfinity\u001b[39m, \u001b[33mInfinity\u001b[39m,\n",
            "    \u001b[33mInfinity\u001b[39m, \u001b[33mInfinity\u001b[39m, \u001b[33mInfinity\u001b[39m, \u001b[33mInfinity\u001b[39m, \u001b[33mInfinity\u001b[39m, \u001b[33mInfinity\u001b[39m,\n",
            "    \u001b[33mInfinity\u001b[39m, \u001b[33mInfinity\u001b[39m, \u001b[33mInfinity\u001b[39m, \u001b[33mInfinity\u001b[39m,\n",
            "    ... 500 more items\n",
            "  ],\n",
            "  [\n",
            "    \u001b[33mInfinity\u001b[39m, \u001b[33mInfinity\u001b[39m, \u001b[33mInfinity\u001b[39m, \u001b[33mInfinity\u001b[39m, \u001b[33mInfinity\u001b[39m, \u001b[33mInfinity\u001b[39m,\n",
            "    \u001b[33mInfinity\u001b[39m, \u001b[33mInfinity\u001b[39m, \u001b[33mInfinity\u001b[39m, \u001b[33mInfinity\u001b[39m, \u001b[33mInfinity\u001b[39m, \u001b[33mInfinity\u001b[39m,\n",
            "    \u001b[33mInfinity\u001b[39m, \u001b[33mInfinity\u001b[39m, \u001b[33mInfinity\u001b[39m, \u001b[33mInfinity\u001b[39m, \u001b[33mInfinity\u001b[39m, \u001b[33mInfinity\u001b[39m,\n",
            "    \u001b[33mInfinity\u001b[39m, \u001b[33mInfinity\u001b[39m, \u001b[33mInfinity\u001b[39m, \u001b[33mInfinity\u001b[39m, \u001b[33mInfinity\u001b[39m, \u001b[33mInfinity\u001b[39m,\n",
            "    \u001b[33mInfinity\u001b[39m, \u001b[33mInfinity\u001b[39m, \u001b[33mInfinity\u001b[39m, \u001b[33mInfinity\u001b[39m, \u001b[33mInfinity\u001b[39m, \u001b[33mInfinity\u001b[39m,\n",
            "    \u001b[33mInfinity\u001b[39m, \u001b[33mInfinity\u001b[39m, \u001b[33mInfinity\u001b[39m, \u001b[33mInfinity\u001b[39m, \u001b[33mInfinity\u001b[39m, \u001b[33mInfinity\u001b[39m,\n",
            "    \u001b[33mInfinity\u001b[39m, \u001b[33mInfinity\u001b[39m, \u001b[33mInfinity\u001b[39m, \u001b[33mInfinity\u001b[39m, \u001b[33mInfinity\u001b[39m, \u001b[33mInfinity\u001b[39m,\n",
            "    \u001b[33mInfinity\u001b[39m, \u001b[33mInfinity\u001b[39m, \u001b[33mInfinity\u001b[39m, \u001b[33mInfinity\u001b[39m, \u001b[33mInfinity\u001b[39m, \u001b[33mInfinity\u001b[39m,\n",
            "    \u001b[33mInfinity\u001b[39m, \u001b[33mInfinity\u001b[39m, \u001b[33mInfinity\u001b[39m, \u001b[33mInfinity\u001b[39m, \u001b[33mInfinity\u001b[39m, \u001b[33mInfinity\u001b[39m,\n",
            "    \u001b[33mInfinity\u001b[39m, \u001b[33mInfinity\u001b[39m, \u001b[33mInfinity\u001b[39m, \u001b[33mInfinity\u001b[39m, \u001b[33mInfinity\u001b[39m, \u001b[33mInfinity\u001b[39m,\n",
            "    \u001b[33mInfinity\u001b[39m, \u001b[33mInfinity\u001b[39m, \u001b[33mInfinity\u001b[39m, \u001b[33mInfinity\u001b[39m, \u001b[33mInfinity\u001b[39m, \u001b[33mInfinity\u001b[39m,\n",
            "    \u001b[33mInfinity\u001b[39m, \u001b[33mInfinity\u001b[39m, \u001b[33mInfinity\u001b[39m, \u001b[33mInfinity\u001b[39m, \u001b[33mInfinity\u001b[39m, \u001b[33mInfinity\u001b[39m,\n",
            "    \u001b[33mInfinity\u001b[39m, \u001b[33mInfinity\u001b[39m, \u001b[33mInfinity\u001b[39m, \u001b[33mInfinity\u001b[39m, \u001b[33mInfinity\u001b[39m, \u001b[33mInfinity\u001b[39m,\n",
            "    \u001b[33mInfinity\u001b[39m, \u001b[33mInfinity\u001b[39m, \u001b[33mInfinity\u001b[39m, \u001b[33mInfinity\u001b[39m, \u001b[33mInfinity\u001b[39m, \u001b[33mInfinity\u001b[39m,\n",
            "    \u001b[33mInfinity\u001b[39m, \u001b[33mInfinity\u001b[39m, \u001b[33mInfinity\u001b[39m, \u001b[33mInfinity\u001b[39m, \u001b[33mInfinity\u001b[39m, \u001b[33mInfinity\u001b[39m,\n",
            "    \u001b[33mInfinity\u001b[39m, \u001b[33mInfinity\u001b[39m, \u001b[33mInfinity\u001b[39m, \u001b[33mInfinity\u001b[39m, \u001b[33mInfinity\u001b[39m, \u001b[33mInfinity\u001b[39m,\n",
            "    \u001b[33mInfinity\u001b[39m, \u001b[33mInfinity\u001b[39m, \u001b[33mInfinity\u001b[39m, \u001b[33mInfinity\u001b[39m,\n",
            "    ... 500 more items\n",
            "  ],\n",
            "  [\n",
            "    \u001b[33mInfinity\u001b[39m, \u001b[33mInfinity\u001b[39m, \u001b[33mInfinity\u001b[39m, \u001b[33mInfinity\u001b[39m, \u001b[33mInfinity\u001b[39m, \u001b[33mInfinity\u001b[39m,\n",
            "    \u001b[33mInfinity\u001b[39m, \u001b[33mInfinity\u001b[39m, \u001b[33mInfinity\u001b[39m, \u001b[33mInfinity\u001b[39m, \u001b[33mInfinity\u001b[39m, \u001b[33mInfinity\u001b[39m,\n",
            "    \u001b[33mInfinity\u001b[39m, \u001b[33mInfinity\u001b[39m, \u001b[33mInfinity\u001b[39m, \u001b[33mInfinity\u001b[39m, \u001b[33mInfinity\u001b[39m, \u001b[33mInfinity\u001b[39m,\n",
            "    \u001b[33mInfinity\u001b[39m, \u001b[33mInfinity\u001b[39m, \u001b[33mInfinity\u001b[39m, \u001b[33mInfinity\u001b[39m, \u001b[33mInfinity\u001b[39m, \u001b[33mInfinity\u001b[39m,\n",
            "    \u001b[33mInfinity\u001b[39m, \u001b[33mInfinity\u001b[39m, \u001b[33mInfinity\u001b[39m, \u001b[33mInfinity\u001b[39m, \u001b[33mInfinity\u001b[39m, \u001b[33mInfinity\u001b[39m,\n",
            "    \u001b[33mInfinity\u001b[39m, \u001b[33mInfinity\u001b[39m, \u001b[33mInfinity\u001b[39m, \u001b[33mInfinity\u001b[39m, \u001b[33mInfinity\u001b[39m, \u001b[33mInfinity\u001b[39m,\n",
            "    \u001b[33mInfinity\u001b[39m, \u001b[33mInfinity\u001b[39m, \u001b[33mInfinity\u001b[39m, \u001b[33mInfinity\u001b[39m, \u001b[33mInfinity\u001b[39m, \u001b[33mInfinity\u001b[39m,\n",
            "    \u001b[33mInfinity\u001b[39m, \u001b[33mInfinity\u001b[39m, \u001b[33mInfinity\u001b[39m, \u001b[33mInfinity\u001b[39m, \u001b[33mInfinity\u001b[39m, \u001b[33mInfinity\u001b[39m,\n",
            "    \u001b[33mInfinity\u001b[39m, \u001b[33mInfinity\u001b[39m, \u001b[33mInfinity\u001b[39m, \u001b[33mInfinity\u001b[39m, \u001b[33mInfinity\u001b[39m, \u001b[33mInfinity\u001b[39m,\n",
            "    \u001b[33mInfinity\u001b[39m, \u001b[33mInfinity\u001b[39m, \u001b[33mInfinity\u001b[39m, \u001b[33mInfinity\u001b[39m, \u001b[33mInfinity\u001b[39m, \u001b[33mInfinity\u001b[39m,\n",
            "    \u001b[33mInfinity\u001b[39m, \u001b[33mInfinity\u001b[39m, \u001b[33mInfinity\u001b[39m, \u001b[33mInfinity\u001b[39m, \u001b[33mInfinity\u001b[39m, \u001b[33mInfinity\u001b[39m,\n",
            "    \u001b[33mInfinity\u001b[39m, \u001b[33mInfinity\u001b[39m, \u001b[33mInfinity\u001b[39m, \u001b[33mInfinity\u001b[39m, \u001b[33mInfinity\u001b[39m, \u001b[33mInfinity\u001b[39m,\n",
            "    \u001b[33mInfinity\u001b[39m, \u001b[33mInfinity\u001b[39m, \u001b[33mInfinity\u001b[39m, \u001b[33mInfinity\u001b[39m, \u001b[33mInfinity\u001b[39m, \u001b[33mInfinity\u001b[39m,\n",
            "    \u001b[33mInfinity\u001b[39m, \u001b[33mInfinity\u001b[39m, \u001b[33mInfinity\u001b[39m, \u001b[33mInfinity\u001b[39m, \u001b[33mInfinity\u001b[39m, \u001b[33mInfinity\u001b[39m,\n",
            "    \u001b[33mInfinity\u001b[39m, \u001b[33mInfinity\u001b[39m, \u001b[33mInfinity\u001b[39m, \u001b[33mInfinity\u001b[39m, \u001b[33mInfinity\u001b[39m, \u001b[33mInfinity\u001b[39m,\n",
            "    \u001b[33mInfinity\u001b[39m, \u001b[33mInfinity\u001b[39m, \u001b[33mInfinity\u001b[39m, \u001b[33mInfinity\u001b[39m, \u001b[33mInfinity\u001b[39m, \u001b[33mInfinity\u001b[39m,\n",
            "    \u001b[33mInfinity\u001b[39m, \u001b[33mInfinity\u001b[39m, \u001b[33mInfinity\u001b[39m, \u001b[33mInfinity\u001b[39m,\n",
            "    ... 500 more items\n",
            "  ],\n",
            "  [\n",
            "    \u001b[33mInfinity\u001b[39m, \u001b[33mInfinity\u001b[39m, \u001b[33mInfinity\u001b[39m, \u001b[33mInfinity\u001b[39m, \u001b[33mInfinity\u001b[39m, \u001b[33mInfinity\u001b[39m,\n",
            "    \u001b[33mInfinity\u001b[39m, \u001b[33mInfinity\u001b[39m, \u001b[33mInfinity\u001b[39m, \u001b[33mInfinity\u001b[39m, \u001b[33mInfinity\u001b[39m, \u001b[33mInfinity\u001b[39m,\n",
            "    \u001b[33mInfinity\u001b[39m, \u001b[33mInfinity\u001b[39m, \u001b[33mInfinity\u001b[39m, \u001b[33mInfinity\u001b[39m, \u001b[33mInfinity\u001b[39m, \u001b[33mInfinity\u001b[39m,\n",
            "    \u001b[33mInfinity\u001b[39m, \u001b[33mInfinity\u001b[39m, \u001b[33mInfinity\u001b[39m, \u001b[33mInfinity\u001b[39m, \u001b[33mInfinity\u001b[39m, \u001b[33mInfinity\u001b[39m,\n",
            "    \u001b[33mInfinity\u001b[39m, \u001b[33mInfinity\u001b[39m, \u001b[33mInfinity\u001b[39m, \u001b[33mInfinity\u001b[39m, \u001b[33mInfinity\u001b[39m, \u001b[33mInfinity\u001b[39m,\n",
            "    \u001b[33mInfinity\u001b[39m, \u001b[33mInfinity\u001b[39m, \u001b[33mInfinity\u001b[39m, \u001b[33mInfinity\u001b[39m, \u001b[33mInfinity\u001b[39m, \u001b[33mInfinity\u001b[39m,\n",
            "    \u001b[33mInfinity\u001b[39m, \u001b[33mInfinity\u001b[39m, \u001b[33mInfinity\u001b[39m, \u001b[33mInfinity\u001b[39m, \u001b[33mInfinity\u001b[39m, \u001b[33mInfinity\u001b[39m,\n",
            "    \u001b[33mInfinity\u001b[39m, \u001b[33mInfinity\u001b[39m, \u001b[33mInfinity\u001b[39m, \u001b[33mInfinity\u001b[39m, \u001b[33mInfinity\u001b[39m, \u001b[33mInfinity\u001b[39m,\n",
            "    \u001b[33mInfinity\u001b[39m, \u001b[33mInfinity\u001b[39m, \u001b[33mInfinity\u001b[39m, \u001b[33mInfinity\u001b[39m, \u001b[33mInfinity\u001b[39m, \u001b[33mInfinity\u001b[39m,\n",
            "    \u001b[33mInfinity\u001b[39m, \u001b[33mInfinity\u001b[39m, \u001b[33mInfinity\u001b[39m, \u001b[33mInfinity\u001b[39m, \u001b[33mInfinity\u001b[39m, \u001b[33mInfinity\u001b[39m,\n",
            "    \u001b[33mInfinity\u001b[39m, \u001b[33mInfinity\u001b[39m, \u001b[33mInfinity\u001b[39m, \u001b[33mInfinity\u001b[39m, \u001b[33mInfinity\u001b[39m, \u001b[33mInfinity\u001b[39m,\n",
            "    \u001b[33mInfinity\u001b[39m, \u001b[33mInfinity\u001b[39m, \u001b[33mInfinity\u001b[39m, \u001b[33mInfinity\u001b[39m, \u001b[33mInfinity\u001b[39m, \u001b[33mInfinity\u001b[39m,\n",
            "    \u001b[33mInfinity\u001b[39m, \u001b[33mInfinity\u001b[39m, \u001b[33mInfinity\u001b[39m, \u001b[33mInfinity\u001b[39m, \u001b[33mInfinity\u001b[39m, \u001b[33mInfinity\u001b[39m,\n",
            "    \u001b[33mInfinity\u001b[39m, \u001b[33mInfinity\u001b[39m, \u001b[33mInfinity\u001b[39m, \u001b[33mInfinity\u001b[39m, \u001b[33mInfinity\u001b[39m, \u001b[33mInfinity\u001b[39m,\n",
            "    \u001b[33mInfinity\u001b[39m, \u001b[33mInfinity\u001b[39m, \u001b[33mInfinity\u001b[39m, \u001b[33mInfinity\u001b[39m, \u001b[33mInfinity\u001b[39m, \u001b[33mInfinity\u001b[39m,\n",
            "    \u001b[33mInfinity\u001b[39m, \u001b[33mInfinity\u001b[39m, \u001b[33mInfinity\u001b[39m, \u001b[33mInfinity\u001b[39m, \u001b[33mInfinity\u001b[39m, \u001b[33mInfinity\u001b[39m,\n",
            "    \u001b[33mInfinity\u001b[39m, \u001b[33mInfinity\u001b[39m, \u001b[33mInfinity\u001b[39m, \u001b[33mInfinity\u001b[39m,\n",
            "    ... 500 more items\n",
            "  ],\n",
            "  [\n",
            "    \u001b[33mInfinity\u001b[39m, \u001b[33mInfinity\u001b[39m, \u001b[33mInfinity\u001b[39m, \u001b[33mInfinity\u001b[39m, \u001b[33mInfinity\u001b[39m, \u001b[33mInfinity\u001b[39m,\n",
            "    \u001b[33mInfinity\u001b[39m, \u001b[33mInfinity\u001b[39m, \u001b[33mInfinity\u001b[39m, \u001b[33mInfinity\u001b[39m, \u001b[33mInfinity\u001b[39m, \u001b[33mInfinity\u001b[39m,\n",
            "    \u001b[33mInfinity\u001b[39m, \u001b[33mInfinity\u001b[39m, \u001b[33mInfinity\u001b[39m, \u001b[33mInfinity\u001b[39m, \u001b[33mInfinity\u001b[39m, \u001b[33mInfinity\u001b[39m,\n",
            "    \u001b[33mInfinity\u001b[39m, \u001b[33mInfinity\u001b[39m, \u001b[33mInfinity\u001b[39m, \u001b[33mInfinity\u001b[39m, \u001b[33mInfinity\u001b[39m, \u001b[33mInfinity\u001b[39m,\n",
            "    \u001b[33mInfinity\u001b[39m, \u001b[33mInfinity\u001b[39m, \u001b[33mInfinity\u001b[39m, \u001b[33mInfinity\u001b[39m, \u001b[33mInfinity\u001b[39m, \u001b[33mInfinity\u001b[39m,\n",
            "    \u001b[33mInfinity\u001b[39m, \u001b[33mInfinity\u001b[39m, \u001b[33mInfinity\u001b[39m, \u001b[33mInfinity\u001b[39m, \u001b[33mInfinity\u001b[39m, \u001b[33mInfinity\u001b[39m,\n",
            "    \u001b[33mInfinity\u001b[39m, \u001b[33mInfinity\u001b[39m, \u001b[33mInfinity\u001b[39m, \u001b[33mInfinity\u001b[39m, \u001b[33mInfinity\u001b[39m, \u001b[33mInfinity\u001b[39m,\n",
            "    \u001b[33mInfinity\u001b[39m, \u001b[33mInfinity\u001b[39m, \u001b[33mInfinity\u001b[39m, \u001b[33mInfinity\u001b[39m, \u001b[33mInfinity\u001b[39m, \u001b[33mInfinity\u001b[39m,\n",
            "    \u001b[33mInfinity\u001b[39m, \u001b[33mInfinity\u001b[39m, \u001b[33mInfinity\u001b[39m, \u001b[33mInfinity\u001b[39m, \u001b[33mInfinity\u001b[39m, \u001b[33mInfinity\u001b[39m,\n",
            "    \u001b[33mInfinity\u001b[39m, \u001b[33mInfinity\u001b[39m, \u001b[33mInfinity\u001b[39m, \u001b[33mInfinity\u001b[39m, \u001b[33mInfinity\u001b[39m, \u001b[33mInfinity\u001b[39m,\n",
            "    \u001b[33mInfinity\u001b[39m, \u001b[33mInfinity\u001b[39m, \u001b[33mInfinity\u001b[39m, \u001b[33mInfinity\u001b[39m, \u001b[33mInfinity\u001b[39m, \u001b[33mInfinity\u001b[39m,\n",
            "    \u001b[33mInfinity\u001b[39m, \u001b[33mInfinity\u001b[39m, \u001b[33mInfinity\u001b[39m, \u001b[33mInfinity\u001b[39m, \u001b[33mInfinity\u001b[39m, \u001b[33mInfinity\u001b[39m,\n",
            "    \u001b[33mInfinity\u001b[39m, \u001b[33mInfinity\u001b[39m, \u001b[33mInfinity\u001b[39m, \u001b[33mInfinity\u001b[39m, \u001b[33mInfinity\u001b[39m, \u001b[33mInfinity\u001b[39m,\n",
            "    \u001b[33mInfinity\u001b[39m, \u001b[33mInfinity\u001b[39m, \u001b[33mInfinity\u001b[39m, \u001b[33mInfinity\u001b[39m, \u001b[33mInfinity\u001b[39m, \u001b[33mInfinity\u001b[39m,\n",
            "    \u001b[33mInfinity\u001b[39m, \u001b[33mInfinity\u001b[39m, \u001b[33mInfinity\u001b[39m, \u001b[33mInfinity\u001b[39m, \u001b[33mInfinity\u001b[39m, \u001b[33mInfinity\u001b[39m,\n",
            "    \u001b[33mInfinity\u001b[39m, \u001b[33mInfinity\u001b[39m, \u001b[33mInfinity\u001b[39m, \u001b[33mInfinity\u001b[39m, \u001b[33mInfinity\u001b[39m, \u001b[33mInfinity\u001b[39m,\n",
            "    \u001b[33mInfinity\u001b[39m, \u001b[33mInfinity\u001b[39m, \u001b[33mInfinity\u001b[39m, \u001b[33mInfinity\u001b[39m,\n",
            "    ... 500 more items\n",
            "  ],\n",
            "  [\n",
            "    \u001b[33mInfinity\u001b[39m, \u001b[33mInfinity\u001b[39m, \u001b[33mInfinity\u001b[39m, \u001b[33mInfinity\u001b[39m, \u001b[33mInfinity\u001b[39m, \u001b[33mInfinity\u001b[39m,\n",
            "    \u001b[33mInfinity\u001b[39m, \u001b[33mInfinity\u001b[39m, \u001b[33mInfinity\u001b[39m, \u001b[33mInfinity\u001b[39m, \u001b[33mInfinity\u001b[39m, \u001b[33mInfinity\u001b[39m,\n",
            "    \u001b[33mInfinity\u001b[39m, \u001b[33mInfinity\u001b[39m, \u001b[33mInfinity\u001b[39m, \u001b[33mInfinity\u001b[39m, \u001b[33mInfinity\u001b[39m, \u001b[33mInfinity\u001b[39m,\n",
            "    \u001b[33mInfinity\u001b[39m, \u001b[33mInfinity\u001b[39m, \u001b[33mInfinity\u001b[39m, \u001b[33mInfinity\u001b[39m, \u001b[33mInfinity\u001b[39m, \u001b[33mInfinity\u001b[39m,\n",
            "    \u001b[33mInfinity\u001b[39m, \u001b[33mInfinity\u001b[39m, \u001b[33mInfinity\u001b[39m, \u001b[33mInfinity\u001b[39m, \u001b[33mInfinity\u001b[39m, \u001b[33mInfinity\u001b[39m,\n",
            "    \u001b[33mInfinity\u001b[39m, \u001b[33mInfinity\u001b[39m, \u001b[33mInfinity\u001b[39m, \u001b[33mInfinity\u001b[39m, \u001b[33mInfinity\u001b[39m, \u001b[33mInfinity\u001b[39m,\n",
            "    \u001b[33mInfinity\u001b[39m, \u001b[33mInfinity\u001b[39m, \u001b[33mInfinity\u001b[39m, \u001b[33mInfinity\u001b[39m, \u001b[33mInfinity\u001b[39m, \u001b[33mInfinity\u001b[39m,\n",
            "    \u001b[33mInfinity\u001b[39m, \u001b[33mInfinity\u001b[39m, \u001b[33mInfinity\u001b[39m, \u001b[33mInfinity\u001b[39m, \u001b[33mInfinity\u001b[39m, \u001b[33mInfinity\u001b[39m,\n",
            "    \u001b[33mInfinity\u001b[39m, \u001b[33mInfinity\u001b[39m, \u001b[33mInfinity\u001b[39m, \u001b[33mInfinity\u001b[39m, \u001b[33mInfinity\u001b[39m, \u001b[33mInfinity\u001b[39m,\n",
            "    \u001b[33mInfinity\u001b[39m, \u001b[33mInfinity\u001b[39m, \u001b[33mInfinity\u001b[39m, \u001b[33mInfinity\u001b[39m, \u001b[33mInfinity\u001b[39m, \u001b[33mInfinity\u001b[39m,\n",
            "    \u001b[33mInfinity\u001b[39m, \u001b[33mInfinity\u001b[39m, \u001b[33mInfinity\u001b[39m, \u001b[33mInfinity\u001b[39m, \u001b[33mInfinity\u001b[39m, \u001b[33mInfinity\u001b[39m,\n",
            "    \u001b[33mInfinity\u001b[39m, \u001b[33mInfinity\u001b[39m, \u001b[33mInfinity\u001b[39m, \u001b[33mInfinity\u001b[39m, \u001b[33mInfinity\u001b[39m, \u001b[33mInfinity\u001b[39m,\n",
            "    \u001b[33mInfinity\u001b[39m, \u001b[33mInfinity\u001b[39m, \u001b[33mInfinity\u001b[39m, \u001b[33mInfinity\u001b[39m, \u001b[33mInfinity\u001b[39m, \u001b[33mInfinity\u001b[39m,\n",
            "    \u001b[33mInfinity\u001b[39m, \u001b[33mInfinity\u001b[39m, \u001b[33mInfinity\u001b[39m, \u001b[33mInfinity\u001b[39m, \u001b[33mInfinity\u001b[39m, \u001b[33mInfinity\u001b[39m,\n",
            "    \u001b[33mInfinity\u001b[39m, \u001b[33mInfinity\u001b[39m, \u001b[33mInfinity\u001b[39m, \u001b[33mInfinity\u001b[39m, \u001b[33mInfinity\u001b[39m, \u001b[33mInfinity\u001b[39m,\n",
            "    \u001b[33mInfinity\u001b[39m, \u001b[33mInfinity\u001b[39m, \u001b[33mInfinity\u001b[39m, \u001b[33mInfinity\u001b[39m, \u001b[33mInfinity\u001b[39m, \u001b[33mInfinity\u001b[39m,\n",
            "    \u001b[33mInfinity\u001b[39m, \u001b[33mInfinity\u001b[39m, \u001b[33mInfinity\u001b[39m, \u001b[33mInfinity\u001b[39m,\n",
            "    ... 500 more items\n",
            "  ],\n",
            "  [\n",
            "    \u001b[33mInfinity\u001b[39m, \u001b[33mInfinity\u001b[39m, \u001b[33mInfinity\u001b[39m, \u001b[33mInfinity\u001b[39m, \u001b[33mInfinity\u001b[39m, \u001b[33mInfinity\u001b[39m,\n",
            "    \u001b[33mInfinity\u001b[39m, \u001b[33mInfinity\u001b[39m, \u001b[33mInfinity\u001b[39m, \u001b[33mInfinity\u001b[39m, \u001b[33mInfinity\u001b[39m, \u001b[33mInfinity\u001b[39m,\n",
            "    \u001b[33mInfinity\u001b[39m, \u001b[33mInfinity\u001b[39m, \u001b[33mInfinity\u001b[39m, \u001b[33mInfinity\u001b[39m, \u001b[33mInfinity\u001b[39m, \u001b[33mInfinity\u001b[39m,\n",
            "    \u001b[33mInfinity\u001b[39m, \u001b[33mInfinity\u001b[39m, \u001b[33mInfinity\u001b[39m, \u001b[33mInfinity\u001b[39m, \u001b[33mInfinity\u001b[39m, \u001b[33mInfinity\u001b[39m,\n",
            "    \u001b[33mInfinity\u001b[39m, \u001b[33mInfinity\u001b[39m, \u001b[33mInfinity\u001b[39m, \u001b[33mInfinity\u001b[39m, \u001b[33mInfinity\u001b[39m, \u001b[33mInfinity\u001b[39m,\n",
            "    \u001b[33mInfinity\u001b[39m, \u001b[33mInfinity\u001b[39m, \u001b[33mInfinity\u001b[39m, \u001b[33mInfinity\u001b[39m, \u001b[33mInfinity\u001b[39m, \u001b[33mInfinity\u001b[39m,\n",
            "    \u001b[33mInfinity\u001b[39m, \u001b[33mInfinity\u001b[39m, \u001b[33mInfinity\u001b[39m, \u001b[33mInfinity\u001b[39m, \u001b[33mInfinity\u001b[39m, \u001b[33mInfinity\u001b[39m,\n",
            "    \u001b[33mInfinity\u001b[39m, \u001b[33mInfinity\u001b[39m, \u001b[33mInfinity\u001b[39m, \u001b[33mInfinity\u001b[39m, \u001b[33mInfinity\u001b[39m, \u001b[33mInfinity\u001b[39m,\n",
            "    \u001b[33mInfinity\u001b[39m, \u001b[33mInfinity\u001b[39m, \u001b[33mInfinity\u001b[39m, \u001b[33mInfinity\u001b[39m, \u001b[33mInfinity\u001b[39m, \u001b[33mInfinity\u001b[39m,\n",
            "    \u001b[33mInfinity\u001b[39m, \u001b[33mInfinity\u001b[39m, \u001b[33mInfinity\u001b[39m, \u001b[33mInfinity\u001b[39m, \u001b[33mInfinity\u001b[39m, \u001b[33mInfinity\u001b[39m,\n",
            "    \u001b[33mInfinity\u001b[39m, \u001b[33mInfinity\u001b[39m, \u001b[33mInfinity\u001b[39m, \u001b[33mInfinity\u001b[39m, \u001b[33mInfinity\u001b[39m, \u001b[33mInfinity\u001b[39m,\n",
            "    \u001b[33mInfinity\u001b[39m, \u001b[33mInfinity\u001b[39m, \u001b[33mInfinity\u001b[39m, \u001b[33mInfinity\u001b[39m, \u001b[33mInfinity\u001b[39m, \u001b[33mInfinity\u001b[39m,\n",
            "    \u001b[33mInfinity\u001b[39m, \u001b[33mInfinity\u001b[39m, \u001b[33mInfinity\u001b[39m, \u001b[33mInfinity\u001b[39m, \u001b[33mInfinity\u001b[39m, \u001b[33mInfinity\u001b[39m,\n",
            "    \u001b[33mInfinity\u001b[39m, \u001b[33mInfinity\u001b[39m, \u001b[33mInfinity\u001b[39m, \u001b[33mInfinity\u001b[39m, \u001b[33mInfinity\u001b[39m, \u001b[33mInfinity\u001b[39m,\n",
            "    \u001b[33mInfinity\u001b[39m, \u001b[33mInfinity\u001b[39m, \u001b[33mInfinity\u001b[39m, \u001b[33mInfinity\u001b[39m, \u001b[33mInfinity\u001b[39m, \u001b[33mInfinity\u001b[39m,\n",
            "    \u001b[33mInfinity\u001b[39m, \u001b[33mInfinity\u001b[39m, \u001b[33mInfinity\u001b[39m, \u001b[33mInfinity\u001b[39m, \u001b[33mInfinity\u001b[39m, \u001b[33mInfinity\u001b[39m,\n",
            "    \u001b[33mInfinity\u001b[39m, \u001b[33mInfinity\u001b[39m, \u001b[33mInfinity\u001b[39m, \u001b[33mInfinity\u001b[39m,\n",
            "    ... 500 more items\n",
            "  ],\n",
            "  [\n",
            "    \u001b[33mInfinity\u001b[39m, \u001b[33mInfinity\u001b[39m, \u001b[33mInfinity\u001b[39m, \u001b[33mInfinity\u001b[39m, \u001b[33mInfinity\u001b[39m, \u001b[33mInfinity\u001b[39m,\n",
            "    \u001b[33mInfinity\u001b[39m, \u001b[33mInfinity\u001b[39m, \u001b[33mInfinity\u001b[39m, \u001b[33mInfinity\u001b[39m, \u001b[33mInfinity\u001b[39m, \u001b[33mInfinity\u001b[39m,\n",
            "    \u001b[33mInfinity\u001b[39m, \u001b[33mInfinity\u001b[39m, \u001b[33mInfinity\u001b[39m, \u001b[33mInfinity\u001b[39m, \u001b[33mInfinity\u001b[39m, \u001b[33mInfinity\u001b[39m,\n",
            "    \u001b[33mInfinity\u001b[39m, \u001b[33mInfinity\u001b[39m, \u001b[33mInfinity\u001b[39m, \u001b[33mInfinity\u001b[39m, \u001b[33mInfinity\u001b[39m, \u001b[33mInfinity\u001b[39m,\n",
            "    \u001b[33mInfinity\u001b[39m, \u001b[33mInfinity\u001b[39m, \u001b[33mInfinity\u001b[39m, \u001b[33mInfinity\u001b[39m, \u001b[33mInfinity\u001b[39m, \u001b[33mInfinity\u001b[39m,\n",
            "    \u001b[33mInfinity\u001b[39m, \u001b[33mInfinity\u001b[39m, \u001b[33mInfinity\u001b[39m, \u001b[33mInfinity\u001b[39m, \u001b[33mInfinity\u001b[39m, \u001b[33mInfinity\u001b[39m,\n",
            "    \u001b[33mInfinity\u001b[39m, \u001b[33mInfinity\u001b[39m, \u001b[33mInfinity\u001b[39m, \u001b[33mInfinity\u001b[39m, \u001b[33mInfinity\u001b[39m, \u001b[33mInfinity\u001b[39m,\n",
            "    \u001b[33mInfinity\u001b[39m, \u001b[33mInfinity\u001b[39m, \u001b[33mInfinity\u001b[39m, \u001b[33mInfinity\u001b[39m, \u001b[33mInfinity\u001b[39m, \u001b[33mInfinity\u001b[39m,\n",
            "    \u001b[33mInfinity\u001b[39m, \u001b[33mInfinity\u001b[39m, \u001b[33mInfinity\u001b[39m, \u001b[33mInfinity\u001b[39m, \u001b[33mInfinity\u001b[39m, \u001b[33mInfinity\u001b[39m,\n",
            "    \u001b[33mInfinity\u001b[39m, \u001b[33mInfinity\u001b[39m, \u001b[33mInfinity\u001b[39m, \u001b[33mInfinity\u001b[39m, \u001b[33mInfinity\u001b[39m, \u001b[33mInfinity\u001b[39m,\n",
            "    \u001b[33mInfinity\u001b[39m, \u001b[33mInfinity\u001b[39m, \u001b[33mInfinity\u001b[39m, \u001b[33mInfinity\u001b[39m, \u001b[33mInfinity\u001b[39m, \u001b[33mInfinity\u001b[39m,\n",
            "    \u001b[33mInfinity\u001b[39m, \u001b[33mInfinity\u001b[39m, \u001b[33mInfinity\u001b[39m, \u001b[33mInfinity\u001b[39m, \u001b[33mInfinity\u001b[39m, \u001b[33mInfinity\u001b[39m,\n",
            "    \u001b[33mInfinity\u001b[39m, \u001b[33mInfinity\u001b[39m, \u001b[33mInfinity\u001b[39m, \u001b[33mInfinity\u001b[39m, \u001b[33mInfinity\u001b[39m, \u001b[33mInfinity\u001b[39m,\n",
            "    \u001b[33mInfinity\u001b[39m, \u001b[33mInfinity\u001b[39m, \u001b[33mInfinity\u001b[39m, \u001b[33mInfinity\u001b[39m, \u001b[33mInfinity\u001b[39m, \u001b[33mInfinity\u001b[39m,\n",
            "    \u001b[33mInfinity\u001b[39m, \u001b[33mInfinity\u001b[39m, \u001b[33mInfinity\u001b[39m, \u001b[33mInfinity\u001b[39m, \u001b[33mInfinity\u001b[39m, \u001b[33mInfinity\u001b[39m,\n",
            "    \u001b[33mInfinity\u001b[39m, \u001b[33mInfinity\u001b[39m, \u001b[33mInfinity\u001b[39m, \u001b[33mInfinity\u001b[39m, \u001b[33mInfinity\u001b[39m, \u001b[33mInfinity\u001b[39m,\n",
            "    \u001b[33mInfinity\u001b[39m, \u001b[33mInfinity\u001b[39m, \u001b[33mInfinity\u001b[39m, \u001b[33mInfinity\u001b[39m,\n",
            "    ... 500 more items\n",
            "  ],\n",
            "  [\n",
            "    \u001b[33mInfinity\u001b[39m, \u001b[33mInfinity\u001b[39m, \u001b[33mInfinity\u001b[39m, \u001b[33mInfinity\u001b[39m, \u001b[33mInfinity\u001b[39m, \u001b[33mInfinity\u001b[39m,\n",
            "    \u001b[33mInfinity\u001b[39m, \u001b[33mInfinity\u001b[39m, \u001b[33mInfinity\u001b[39m, \u001b[33mInfinity\u001b[39m, \u001b[33mInfinity\u001b[39m, \u001b[33mInfinity\u001b[39m,\n",
            "    \u001b[33mInfinity\u001b[39m, \u001b[33mInfinity\u001b[39m, \u001b[33mInfinity\u001b[39m, \u001b[33mInfinity\u001b[39m, \u001b[33mInfinity\u001b[39m, \u001b[33mInfinity\u001b[39m,\n",
            "    \u001b[33mInfinity\u001b[39m, \u001b[33mInfinity\u001b[39m, \u001b[33mInfinity\u001b[39m, \u001b[33mInfinity\u001b[39m, \u001b[33mInfinity\u001b[39m, \u001b[33mInfinity\u001b[39m,\n",
            "    \u001b[33mInfinity\u001b[39m, \u001b[33mInfinity\u001b[39m, \u001b[33mInfinity\u001b[39m, \u001b[33mInfinity\u001b[39m, \u001b[33mInfinity\u001b[39m, \u001b[33mInfinity\u001b[39m,\n",
            "    \u001b[33mInfinity\u001b[39m, \u001b[33mInfinity\u001b[39m, \u001b[33mInfinity\u001b[39m, \u001b[33mInfinity\u001b[39m, \u001b[33mInfinity\u001b[39m, \u001b[33mInfinity\u001b[39m,\n",
            "    \u001b[33mInfinity\u001b[39m, \u001b[33mInfinity\u001b[39m, \u001b[33mInfinity\u001b[39m, \u001b[33mInfinity\u001b[39m, \u001b[33mInfinity\u001b[39m, \u001b[33mInfinity\u001b[39m,\n",
            "    \u001b[33mInfinity\u001b[39m, \u001b[33mInfinity\u001b[39m, \u001b[33mInfinity\u001b[39m, \u001b[33mInfinity\u001b[39m, \u001b[33mInfinity\u001b[39m, \u001b[33mInfinity\u001b[39m,\n",
            "    \u001b[33mInfinity\u001b[39m, \u001b[33mInfinity\u001b[39m, \u001b[33mInfinity\u001b[39m, \u001b[33mInfinity\u001b[39m, \u001b[33mInfinity\u001b[39m, \u001b[33mInfinity\u001b[39m,\n",
            "    \u001b[33mInfinity\u001b[39m, \u001b[33mInfinity\u001b[39m, \u001b[33mInfinity\u001b[39m, \u001b[33mInfinity\u001b[39m, \u001b[33mInfinity\u001b[39m, \u001b[33mInfinity\u001b[39m,\n",
            "    \u001b[33mInfinity\u001b[39m, \u001b[33mInfinity\u001b[39m, \u001b[33mInfinity\u001b[39m, \u001b[33mInfinity\u001b[39m, \u001b[33mInfinity\u001b[39m, \u001b[33mInfinity\u001b[39m,\n",
            "    \u001b[33mInfinity\u001b[39m, \u001b[33mInfinity\u001b[39m, \u001b[33mInfinity\u001b[39m, \u001b[33mInfinity\u001b[39m, \u001b[33mInfinity\u001b[39m, \u001b[33mInfinity\u001b[39m,\n",
            "    \u001b[33mInfinity\u001b[39m, \u001b[33mInfinity\u001b[39m, \u001b[33mInfinity\u001b[39m, \u001b[33mInfinity\u001b[39m, \u001b[33mInfinity\u001b[39m, \u001b[33mInfinity\u001b[39m,\n",
            "    \u001b[33mInfinity\u001b[39m, \u001b[33mInfinity\u001b[39m, \u001b[33mInfinity\u001b[39m, \u001b[33mInfinity\u001b[39m, \u001b[33mInfinity\u001b[39m, \u001b[33mInfinity\u001b[39m,\n",
            "    \u001b[33mInfinity\u001b[39m, \u001b[33mInfinity\u001b[39m, \u001b[33mInfinity\u001b[39m, \u001b[33mInfinity\u001b[39m, \u001b[33mInfinity\u001b[39m, \u001b[33mInfinity\u001b[39m,\n",
            "    \u001b[33mInfinity\u001b[39m, \u001b[33mInfinity\u001b[39m, \u001b[33mInfinity\u001b[39m, \u001b[33mInfinity\u001b[39m, \u001b[33mInfinity\u001b[39m, \u001b[33mInfinity\u001b[39m,\n",
            "    \u001b[33mInfinity\u001b[39m, \u001b[33mInfinity\u001b[39m, \u001b[33mInfinity\u001b[39m, \u001b[33mInfinity\u001b[39m,\n",
            "    ... 500 more items\n",
            "  ],\n",
            "  [\n",
            "    \u001b[33mInfinity\u001b[39m, \u001b[33mInfinity\u001b[39m, \u001b[33mInfinity\u001b[39m, \u001b[33mInfinity\u001b[39m, \u001b[33mInfinity\u001b[39m, \u001b[33mInfinity\u001b[39m,\n",
            "    \u001b[33mInfinity\u001b[39m, \u001b[33mInfinity\u001b[39m, \u001b[33mInfinity\u001b[39m, \u001b[33mInfinity\u001b[39m, \u001b[33mInfinity\u001b[39m, \u001b[33mInfinity\u001b[39m,\n",
            "    \u001b[33mInfinity\u001b[39m, \u001b[33mInfinity\u001b[39m, \u001b[33mInfinity\u001b[39m, \u001b[33mInfinity\u001b[39m, \u001b[33mInfinity\u001b[39m, \u001b[33mInfinity\u001b[39m,\n",
            "    \u001b[33mInfinity\u001b[39m, \u001b[33mInfinity\u001b[39m, \u001b[33mInfinity\u001b[39m, \u001b[33mInfinity\u001b[39m, \u001b[33mInfinity\u001b[39m, \u001b[33mInfinity\u001b[39m,\n",
            "    \u001b[33mInfinity\u001b[39m, \u001b[33mInfinity\u001b[39m, \u001b[33mInfinity\u001b[39m, \u001b[33mInfinity\u001b[39m, \u001b[33mInfinity\u001b[39m, \u001b[33mInfinity\u001b[39m,\n",
            "    \u001b[33mInfinity\u001b[39m, \u001b[33mInfinity\u001b[39m, \u001b[33mInfinity\u001b[39m, \u001b[33mInfinity\u001b[39m, \u001b[33mInfinity\u001b[39m, \u001b[33mInfinity\u001b[39m,\n",
            "    \u001b[33mInfinity\u001b[39m, \u001b[33mInfinity\u001b[39m, \u001b[33mInfinity\u001b[39m, \u001b[33mInfinity\u001b[39m, \u001b[33mInfinity\u001b[39m, \u001b[33mInfinity\u001b[39m,\n",
            "    \u001b[33mInfinity\u001b[39m, \u001b[33mInfinity\u001b[39m, \u001b[33mInfinity\u001b[39m, \u001b[33mInfinity\u001b[39m, \u001b[33mInfinity\u001b[39m, \u001b[33mInfinity\u001b[39m,\n",
            "    \u001b[33mInfinity\u001b[39m, \u001b[33mInfinity\u001b[39m, \u001b[33mInfinity\u001b[39m, \u001b[33mInfinity\u001b[39m, \u001b[33mInfinity\u001b[39m, \u001b[33mInfinity\u001b[39m,\n",
            "    \u001b[33mInfinity\u001b[39m, \u001b[33mInfinity\u001b[39m, \u001b[33mInfinity\u001b[39m, \u001b[33mInfinity\u001b[39m, \u001b[33mInfinity\u001b[39m, \u001b[33mInfinity\u001b[39m,\n",
            "    \u001b[33mInfinity\u001b[39m, \u001b[33mInfinity\u001b[39m, \u001b[33mInfinity\u001b[39m, \u001b[33mInfinity\u001b[39m, \u001b[33mInfinity\u001b[39m, \u001b[33mInfinity\u001b[39m,\n",
            "    \u001b[33mInfinity\u001b[39m, \u001b[33mInfinity\u001b[39m, \u001b[33mInfinity\u001b[39m, \u001b[33mInfinity\u001b[39m, \u001b[33mInfinity\u001b[39m, \u001b[33mInfinity\u001b[39m,\n",
            "    \u001b[33mInfinity\u001b[39m, \u001b[33mInfinity\u001b[39m, \u001b[33mInfinity\u001b[39m, \u001b[33mInfinity\u001b[39m, \u001b[33mInfinity\u001b[39m, \u001b[33mInfinity\u001b[39m,\n",
            "    \u001b[33mInfinity\u001b[39m, \u001b[33mInfinity\u001b[39m, \u001b[33mInfinity\u001b[39m, \u001b[33mInfinity\u001b[39m, \u001b[33mInfinity\u001b[39m, \u001b[33mInfinity\u001b[39m,\n",
            "    \u001b[33mInfinity\u001b[39m, \u001b[33mInfinity\u001b[39m, \u001b[33mInfinity\u001b[39m, \u001b[33mInfinity\u001b[39m, \u001b[33mInfinity\u001b[39m, \u001b[33mInfinity\u001b[39m,\n",
            "    \u001b[33mInfinity\u001b[39m, \u001b[33mInfinity\u001b[39m, \u001b[33mInfinity\u001b[39m, \u001b[33mInfinity\u001b[39m, \u001b[33mInfinity\u001b[39m, \u001b[33mInfinity\u001b[39m,\n",
            "    \u001b[33mInfinity\u001b[39m, \u001b[33mInfinity\u001b[39m, \u001b[33mInfinity\u001b[39m, \u001b[33mInfinity\u001b[39m,\n",
            "    ... 500 more items\n",
            "  ],\n",
            "  [\n",
            "    \u001b[33mInfinity\u001b[39m, \u001b[33mInfinity\u001b[39m, \u001b[33mInfinity\u001b[39m, \u001b[33mInfinity\u001b[39m, \u001b[33mInfinity\u001b[39m, \u001b[33mInfinity\u001b[39m,\n",
            "    \u001b[33mInfinity\u001b[39m, \u001b[33mInfinity\u001b[39m, \u001b[33mInfinity\u001b[39m, \u001b[33mInfinity\u001b[39m, \u001b[33mInfinity\u001b[39m, \u001b[33mInfinity\u001b[39m,\n",
            "    \u001b[33mInfinity\u001b[39m, \u001b[33mInfinity\u001b[39m, \u001b[33mInfinity\u001b[39m, \u001b[33mInfinity\u001b[39m, \u001b[33mInfinity\u001b[39m, \u001b[33mInfinity\u001b[39m,\n",
            "    \u001b[33mInfinity\u001b[39m, \u001b[33mInfinity\u001b[39m, \u001b[33mInfinity\u001b[39m, \u001b[33mInfinity\u001b[39m, \u001b[33mInfinity\u001b[39m, \u001b[33mInfinity\u001b[39m,\n",
            "    \u001b[33mInfinity\u001b[39m, \u001b[33mInfinity\u001b[39m, \u001b[33mInfinity\u001b[39m, \u001b[33mInfinity\u001b[39m, \u001b[33mInfinity\u001b[39m, \u001b[33mInfinity\u001b[39m,\n",
            "    \u001b[33mInfinity\u001b[39m, \u001b[33mInfinity\u001b[39m, \u001b[33mInfinity\u001b[39m, \u001b[33mInfinity\u001b[39m, \u001b[33mInfinity\u001b[39m, \u001b[33mInfinity\u001b[39m,\n",
            "    \u001b[33mInfinity\u001b[39m, \u001b[33mInfinity\u001b[39m, \u001b[33mInfinity\u001b[39m, \u001b[33mInfinity\u001b[39m, \u001b[33mInfinity\u001b[39m, \u001b[33mInfinity\u001b[39m,\n",
            "    \u001b[33mInfinity\u001b[39m, \u001b[33mInfinity\u001b[39m, \u001b[33mInfinity\u001b[39m, \u001b[33mInfinity\u001b[39m, \u001b[33mInfinity\u001b[39m, \u001b[33mInfinity\u001b[39m,\n",
            "    \u001b[33mInfinity\u001b[39m, \u001b[33mInfinity\u001b[39m, \u001b[33mInfinity\u001b[39m, \u001b[33mInfinity\u001b[39m, \u001b[33mInfinity\u001b[39m, \u001b[33mInfinity\u001b[39m,\n",
            "    \u001b[33mInfinity\u001b[39m, \u001b[33mInfinity\u001b[39m, \u001b[33mInfinity\u001b[39m, \u001b[33mInfinity\u001b[39m, \u001b[33mInfinity\u001b[39m, \u001b[33mInfinity\u001b[39m,\n",
            "    \u001b[33mInfinity\u001b[39m, \u001b[33mInfinity\u001b[39m, \u001b[33mInfinity\u001b[39m, \u001b[33mInfinity\u001b[39m, \u001b[33mInfinity\u001b[39m, \u001b[33mInfinity\u001b[39m,\n",
            "    \u001b[33mInfinity\u001b[39m, \u001b[33mInfinity\u001b[39m, \u001b[33mInfinity\u001b[39m, \u001b[33mInfinity\u001b[39m, \u001b[33mInfinity\u001b[39m, \u001b[33mInfinity\u001b[39m,\n",
            "    \u001b[33mInfinity\u001b[39m, \u001b[33mInfinity\u001b[39m, \u001b[33mInfinity\u001b[39m, \u001b[33mInfinity\u001b[39m, \u001b[33mInfinity\u001b[39m, \u001b[33mInfinity\u001b[39m,\n",
            "    \u001b[33mInfinity\u001b[39m, \u001b[33mInfinity\u001b[39m, \u001b[33mInfinity\u001b[39m, \u001b[33mInfinity\u001b[39m, \u001b[33mInfinity\u001b[39m, \u001b[33mInfinity\u001b[39m,\n",
            "    \u001b[33mInfinity\u001b[39m, \u001b[33mInfinity\u001b[39m, \u001b[33mInfinity\u001b[39m, \u001b[33mInfinity\u001b[39m, \u001b[33mInfinity\u001b[39m, \u001b[33mInfinity\u001b[39m,\n",
            "    \u001b[33mInfinity\u001b[39m, \u001b[33mInfinity\u001b[39m, \u001b[33mInfinity\u001b[39m, \u001b[33mInfinity\u001b[39m, \u001b[33mInfinity\u001b[39m, \u001b[33mInfinity\u001b[39m,\n",
            "    \u001b[33mInfinity\u001b[39m, \u001b[33mInfinity\u001b[39m, \u001b[33mInfinity\u001b[39m, \u001b[33mInfinity\u001b[39m,\n",
            "    ... 500 more items\n",
            "  ],\n",
            "  [\n",
            "    \u001b[33mInfinity\u001b[39m, \u001b[33mInfinity\u001b[39m, \u001b[33mInfinity\u001b[39m, \u001b[33mInfinity\u001b[39m, \u001b[33mInfinity\u001b[39m, \u001b[33mInfinity\u001b[39m,\n",
            "    \u001b[33mInfinity\u001b[39m, \u001b[33mInfinity\u001b[39m, \u001b[33mInfinity\u001b[39m, \u001b[33mInfinity\u001b[39m, \u001b[33mInfinity\u001b[39m, \u001b[33mInfinity\u001b[39m,\n",
            "    \u001b[33mInfinity\u001b[39m, \u001b[33mInfinity\u001b[39m, \u001b[33mInfinity\u001b[39m, \u001b[33mInfinity\u001b[39m, \u001b[33mInfinity\u001b[39m, \u001b[33mInfinity\u001b[39m,\n",
            "    \u001b[33mInfinity\u001b[39m, \u001b[33mInfinity\u001b[39m, \u001b[33mInfinity\u001b[39m, \u001b[33mInfinity\u001b[39m, \u001b[33mInfinity\u001b[39m, \u001b[33mInfinity\u001b[39m,\n",
            "    \u001b[33mInfinity\u001b[39m, \u001b[33mInfinity\u001b[39m, \u001b[33mInfinity\u001b[39m, \u001b[33mInfinity\u001b[39m, \u001b[33mInfinity\u001b[39m, \u001b[33mInfinity\u001b[39m,\n",
            "    \u001b[33mInfinity\u001b[39m, \u001b[33mInfinity\u001b[39m, \u001b[33mInfinity\u001b[39m, \u001b[33mInfinity\u001b[39m, \u001b[33mInfinity\u001b[39m, \u001b[33mInfinity\u001b[39m,\n",
            "    \u001b[33mInfinity\u001b[39m, \u001b[33mInfinity\u001b[39m, \u001b[33mInfinity\u001b[39m, \u001b[33mInfinity\u001b[39m, \u001b[33mInfinity\u001b[39m, \u001b[33mInfinity\u001b[39m,\n",
            "    \u001b[33mInfinity\u001b[39m, \u001b[33mInfinity\u001b[39m, \u001b[33mInfinity\u001b[39m, \u001b[33mInfinity\u001b[39m, \u001b[33mInfinity\u001b[39m, \u001b[33mInfinity\u001b[39m,\n",
            "    \u001b[33mInfinity\u001b[39m, \u001b[33mInfinity\u001b[39m, \u001b[33mInfinity\u001b[39m, \u001b[33mInfinity\u001b[39m, \u001b[33mInfinity\u001b[39m, \u001b[33mInfinity\u001b[39m,\n",
            "    \u001b[33mInfinity\u001b[39m, \u001b[33mInfinity\u001b[39m, \u001b[33mInfinity\u001b[39m, \u001b[33mInfinity\u001b[39m, \u001b[33mInfinity\u001b[39m, \u001b[33mInfinity\u001b[39m,\n",
            "    \u001b[33mInfinity\u001b[39m, \u001b[33mInfinity\u001b[39m, \u001b[33mInfinity\u001b[39m, \u001b[33mInfinity\u001b[39m, \u001b[33mInfinity\u001b[39m, \u001b[33mInfinity\u001b[39m,\n",
            "    \u001b[33mInfinity\u001b[39m, \u001b[33mInfinity\u001b[39m, \u001b[33mInfinity\u001b[39m, \u001b[33mInfinity\u001b[39m, \u001b[33mInfinity\u001b[39m, \u001b[33mInfinity\u001b[39m,\n",
            "    \u001b[33mInfinity\u001b[39m, \u001b[33mInfinity\u001b[39m, \u001b[33mInfinity\u001b[39m, \u001b[33mInfinity\u001b[39m, \u001b[33mInfinity\u001b[39m, \u001b[33mInfinity\u001b[39m,\n",
            "    \u001b[33mInfinity\u001b[39m, \u001b[33mInfinity\u001b[39m, \u001b[33mInfinity\u001b[39m, \u001b[33mInfinity\u001b[39m, \u001b[33mInfinity\u001b[39m, \u001b[33mInfinity\u001b[39m,\n",
            "    \u001b[33mInfinity\u001b[39m, \u001b[33mInfinity\u001b[39m, \u001b[33mInfinity\u001b[39m, \u001b[33mInfinity\u001b[39m, \u001b[33mInfinity\u001b[39m, \u001b[33mInfinity\u001b[39m,\n",
            "    \u001b[33mInfinity\u001b[39m, \u001b[33mInfinity\u001b[39m, \u001b[33mInfinity\u001b[39m, \u001b[33mInfinity\u001b[39m, \u001b[33mInfinity\u001b[39m, \u001b[33mInfinity\u001b[39m,\n",
            "    \u001b[33mInfinity\u001b[39m, \u001b[33mInfinity\u001b[39m, \u001b[33mInfinity\u001b[39m, \u001b[33mInfinity\u001b[39m,\n",
            "    ... 500 more items\n",
            "  ],\n",
            "  [\n",
            "    \u001b[33mInfinity\u001b[39m, \u001b[33mInfinity\u001b[39m, \u001b[33mInfinity\u001b[39m, \u001b[33mInfinity\u001b[39m, \u001b[33mInfinity\u001b[39m, \u001b[33mInfinity\u001b[39m,\n",
            "    \u001b[33mInfinity\u001b[39m, \u001b[33mInfinity\u001b[39m, \u001b[33mInfinity\u001b[39m, \u001b[33mInfinity\u001b[39m, \u001b[33mInfinity\u001b[39m, \u001b[33mInfinity\u001b[39m,\n",
            "    \u001b[33mInfinity\u001b[39m, \u001b[33mInfinity\u001b[39m, \u001b[33mInfinity\u001b[39m, \u001b[33mInfinity\u001b[39m, \u001b[33mInfinity\u001b[39m, \u001b[33mInfinity\u001b[39m,\n",
            "    \u001b[33mInfinity\u001b[39m, \u001b[33mInfinity\u001b[39m, \u001b[33mInfinity\u001b[39m, \u001b[33mInfinity\u001b[39m, \u001b[33mInfinity\u001b[39m, \u001b[33mInfinity\u001b[39m,\n",
            "    \u001b[33mInfinity\u001b[39m, \u001b[33mInfinity\u001b[39m, \u001b[33mInfinity\u001b[39m, \u001b[33mInfinity\u001b[39m, \u001b[33mInfinity\u001b[39m, \u001b[33mInfinity\u001b[39m,\n",
            "    \u001b[33mInfinity\u001b[39m, \u001b[33mInfinity\u001b[39m, \u001b[33mInfinity\u001b[39m, \u001b[33mInfinity\u001b[39m, \u001b[33mInfinity\u001b[39m, \u001b[33mInfinity\u001b[39m,\n",
            "    \u001b[33mInfinity\u001b[39m, \u001b[33mInfinity\u001b[39m, \u001b[33mInfinity\u001b[39m, \u001b[33mInfinity\u001b[39m, \u001b[33mInfinity\u001b[39m, \u001b[33mInfinity\u001b[39m,\n",
            "    \u001b[33mInfinity\u001b[39m, \u001b[33mInfinity\u001b[39m, \u001b[33mInfinity\u001b[39m, \u001b[33mInfinity\u001b[39m, \u001b[33mInfinity\u001b[39m, \u001b[33mInfinity\u001b[39m,\n",
            "    \u001b[33mInfinity\u001b[39m, \u001b[33mInfinity\u001b[39m, \u001b[33mInfinity\u001b[39m, \u001b[33mInfinity\u001b[39m, \u001b[33mInfinity\u001b[39m, \u001b[33mInfinity\u001b[39m,\n",
            "    \u001b[33mInfinity\u001b[39m, \u001b[33mInfinity\u001b[39m, \u001b[33mInfinity\u001b[39m, \u001b[33mInfinity\u001b[39m, \u001b[33mInfinity\u001b[39m, \u001b[33mInfinity\u001b[39m,\n",
            "    \u001b[33mInfinity\u001b[39m, \u001b[33mInfinity\u001b[39m, \u001b[33mInfinity\u001b[39m, \u001b[33mInfinity\u001b[39m, \u001b[33mInfinity\u001b[39m, \u001b[33mInfinity\u001b[39m,\n",
            "    \u001b[33mInfinity\u001b[39m, \u001b[33mInfinity\u001b[39m, \u001b[33mInfinity\u001b[39m, \u001b[33mInfinity\u001b[39m, \u001b[33mInfinity\u001b[39m, \u001b[33mInfinity\u001b[39m,\n",
            "    \u001b[33mInfinity\u001b[39m, \u001b[33mInfinity\u001b[39m, \u001b[33mInfinity\u001b[39m, \u001b[33mInfinity\u001b[39m, \u001b[33mInfinity\u001b[39m, \u001b[33mInfinity\u001b[39m,\n",
            "    \u001b[33mInfinity\u001b[39m, \u001b[33mInfinity\u001b[39m, \u001b[33mInfinity\u001b[39m, \u001b[33mInfinity\u001b[39m, \u001b[33mInfinity\u001b[39m, \u001b[33mInfinity\u001b[39m,\n",
            "    \u001b[33mInfinity\u001b[39m, \u001b[33mInfinity\u001b[39m, \u001b[33mInfinity\u001b[39m, \u001b[33mInfinity\u001b[39m, \u001b[33mInfinity\u001b[39m, \u001b[33mInfinity\u001b[39m,\n",
            "    \u001b[33mInfinity\u001b[39m, \u001b[33mInfinity\u001b[39m, \u001b[33mInfinity\u001b[39m, \u001b[33mInfinity\u001b[39m, \u001b[33mInfinity\u001b[39m, \u001b[33mInfinity\u001b[39m,\n",
            "    \u001b[33mInfinity\u001b[39m, \u001b[33mInfinity\u001b[39m, \u001b[33mInfinity\u001b[39m, \u001b[33mInfinity\u001b[39m,\n",
            "    ... 500 more items\n",
            "  ],\n",
            "  [\n",
            "    \u001b[33mInfinity\u001b[39m, \u001b[33mInfinity\u001b[39m, \u001b[33mInfinity\u001b[39m, \u001b[33mInfinity\u001b[39m, \u001b[33mInfinity\u001b[39m, \u001b[33mInfinity\u001b[39m,\n",
            "    \u001b[33mInfinity\u001b[39m, \u001b[33mInfinity\u001b[39m, \u001b[33mInfinity\u001b[39m, \u001b[33mInfinity\u001b[39m, \u001b[33mInfinity\u001b[39m, \u001b[33mInfinity\u001b[39m,\n",
            "    \u001b[33mInfinity\u001b[39m, \u001b[33mInfinity\u001b[39m, \u001b[33mInfinity\u001b[39m, \u001b[33mInfinity\u001b[39m, \u001b[33mInfinity\u001b[39m, \u001b[33mInfinity\u001b[39m,\n",
            "    \u001b[33mInfinity\u001b[39m, \u001b[33mInfinity\u001b[39m, \u001b[33mInfinity\u001b[39m, \u001b[33mInfinity\u001b[39m, \u001b[33mInfinity\u001b[39m, \u001b[33mInfinity\u001b[39m,\n",
            "    \u001b[33mInfinity\u001b[39m, \u001b[33mInfinity\u001b[39m, \u001b[33mInfinity\u001b[39m, \u001b[33mInfinity\u001b[39m, \u001b[33mInfinity\u001b[39m, \u001b[33mInfinity\u001b[39m,\n",
            "    \u001b[33mInfinity\u001b[39m, \u001b[33mInfinity\u001b[39m, \u001b[33mInfinity\u001b[39m, \u001b[33mInfinity\u001b[39m, \u001b[33mInfinity\u001b[39m, \u001b[33mInfinity\u001b[39m,\n",
            "    \u001b[33mInfinity\u001b[39m, \u001b[33mInfinity\u001b[39m, \u001b[33mInfinity\u001b[39m, \u001b[33mInfinity\u001b[39m, \u001b[33mInfinity\u001b[39m, \u001b[33mInfinity\u001b[39m,\n",
            "    \u001b[33mInfinity\u001b[39m, \u001b[33mInfinity\u001b[39m, \u001b[33mInfinity\u001b[39m, \u001b[33mInfinity\u001b[39m, \u001b[33mInfinity\u001b[39m, \u001b[33mInfinity\u001b[39m,\n",
            "    \u001b[33mInfinity\u001b[39m, \u001b[33mInfinity\u001b[39m, \u001b[33mInfinity\u001b[39m, \u001b[33mInfinity\u001b[39m, \u001b[33mInfinity\u001b[39m, \u001b[33mInfinity\u001b[39m,\n",
            "    \u001b[33mInfinity\u001b[39m, \u001b[33mInfinity\u001b[39m, \u001b[33mInfinity\u001b[39m, \u001b[33mInfinity\u001b[39m, \u001b[33mInfinity\u001b[39m, \u001b[33mInfinity\u001b[39m,\n",
            "    \u001b[33mInfinity\u001b[39m, \u001b[33mInfinity\u001b[39m, \u001b[33mInfinity\u001b[39m, \u001b[33mInfinity\u001b[39m, \u001b[33mInfinity\u001b[39m, \u001b[33mInfinity\u001b[39m,\n",
            "    \u001b[33mInfinity\u001b[39m, \u001b[33mInfinity\u001b[39m, \u001b[33mInfinity\u001b[39m, \u001b[33mInfinity\u001b[39m, \u001b[33mInfinity\u001b[39m, \u001b[33mInfinity\u001b[39m,\n",
            "    \u001b[33mInfinity\u001b[39m, \u001b[33mInfinity\u001b[39m, \u001b[33mInfinity\u001b[39m, \u001b[33mInfinity\u001b[39m, \u001b[33mInfinity\u001b[39m, \u001b[33mInfinity\u001b[39m,\n",
            "    \u001b[33mInfinity\u001b[39m, \u001b[33mInfinity\u001b[39m, \u001b[33mInfinity\u001b[39m, \u001b[33mInfinity\u001b[39m, \u001b[33mInfinity\u001b[39m, \u001b[33mInfinity\u001b[39m,\n",
            "    \u001b[33mInfinity\u001b[39m, \u001b[33mInfinity\u001b[39m, \u001b[33mInfinity\u001b[39m, \u001b[33mInfinity\u001b[39m, \u001b[33mInfinity\u001b[39m, \u001b[33mInfinity\u001b[39m,\n",
            "    \u001b[33mInfinity\u001b[39m, \u001b[33mInfinity\u001b[39m, \u001b[33mInfinity\u001b[39m, \u001b[33mInfinity\u001b[39m, \u001b[33mInfinity\u001b[39m, \u001b[33mInfinity\u001b[39m,\n",
            "    \u001b[33mInfinity\u001b[39m, \u001b[33mInfinity\u001b[39m, \u001b[33mInfinity\u001b[39m, \u001b[33mInfinity\u001b[39m,\n",
            "    ... 500 more items\n",
            "  ],\n",
            "  [\n",
            "    \u001b[33mInfinity\u001b[39m, \u001b[33mInfinity\u001b[39m, \u001b[33mInfinity\u001b[39m, \u001b[33mInfinity\u001b[39m, \u001b[33mInfinity\u001b[39m, \u001b[33mInfinity\u001b[39m,\n",
            "    \u001b[33mInfinity\u001b[39m, \u001b[33mInfinity\u001b[39m, \u001b[33mInfinity\u001b[39m, \u001b[33mInfinity\u001b[39m, \u001b[33mInfinity\u001b[39m, \u001b[33mInfinity\u001b[39m,\n",
            "    \u001b[33mInfinity\u001b[39m, \u001b[33mInfinity\u001b[39m, \u001b[33mInfinity\u001b[39m, \u001b[33mInfinity\u001b[39m, \u001b[33mInfinity\u001b[39m, \u001b[33mInfinity\u001b[39m,\n",
            "    \u001b[33mInfinity\u001b[39m, \u001b[33mInfinity\u001b[39m, \u001b[33mInfinity\u001b[39m, \u001b[33mInfinity\u001b[39m, \u001b[33mInfinity\u001b[39m, \u001b[33mInfinity\u001b[39m,\n",
            "    \u001b[33mInfinity\u001b[39m, \u001b[33mInfinity\u001b[39m, \u001b[33mInfinity\u001b[39m, \u001b[33mInfinity\u001b[39m, \u001b[33mInfinity\u001b[39m, \u001b[33mInfinity\u001b[39m,\n",
            "    \u001b[33mInfinity\u001b[39m, \u001b[33mInfinity\u001b[39m, \u001b[33mInfinity\u001b[39m, \u001b[33mInfinity\u001b[39m, \u001b[33mInfinity\u001b[39m, \u001b[33mInfinity\u001b[39m,\n",
            "    \u001b[33mInfinity\u001b[39m, \u001b[33mInfinity\u001b[39m, \u001b[33mInfinity\u001b[39m, \u001b[33mInfinity\u001b[39m, \u001b[33mInfinity\u001b[39m, \u001b[33mInfinity\u001b[39m,\n",
            "    \u001b[33mInfinity\u001b[39m, \u001b[33mInfinity\u001b[39m, \u001b[33mInfinity\u001b[39m, \u001b[33mInfinity\u001b[39m, \u001b[33mInfinity\u001b[39m, \u001b[33mInfinity\u001b[39m,\n",
            "    \u001b[33mInfinity\u001b[39m, \u001b[33mInfinity\u001b[39m, \u001b[33mInfinity\u001b[39m, \u001b[33mInfinity\u001b[39m, \u001b[33mInfinity\u001b[39m, \u001b[33mInfinity\u001b[39m,\n",
            "    \u001b[33mInfinity\u001b[39m, \u001b[33mInfinity\u001b[39m, \u001b[33mInfinity\u001b[39m, \u001b[33mInfinity\u001b[39m, \u001b[33mInfinity\u001b[39m, \u001b[33mInfinity\u001b[39m,\n",
            "    \u001b[33mInfinity\u001b[39m, \u001b[33mInfinity\u001b[39m, \u001b[33mInfinity\u001b[39m, \u001b[33mInfinity\u001b[39m, \u001b[33mInfinity\u001b[39m, \u001b[33mInfinity\u001b[39m,\n",
            "    \u001b[33mInfinity\u001b[39m, \u001b[33mInfinity\u001b[39m, \u001b[33mInfinity\u001b[39m, \u001b[33mInfinity\u001b[39m, \u001b[33mInfinity\u001b[39m, \u001b[33mInfinity\u001b[39m,\n",
            "    \u001b[33mInfinity\u001b[39m, \u001b[33mInfinity\u001b[39m, \u001b[33mInfinity\u001b[39m, \u001b[33mInfinity\u001b[39m, \u001b[33mInfinity\u001b[39m, \u001b[33mInfinity\u001b[39m,\n",
            "    \u001b[33mInfinity\u001b[39m, \u001b[33mInfinity\u001b[39m, \u001b[33mInfinity\u001b[39m, \u001b[33mInfinity\u001b[39m, \u001b[33mInfinity\u001b[39m, \u001b[33mInfinity\u001b[39m,\n",
            "    \u001b[33mInfinity\u001b[39m, \u001b[33mInfinity\u001b[39m, \u001b[33mInfinity\u001b[39m, \u001b[33mInfinity\u001b[39m, \u001b[33mInfinity\u001b[39m, \u001b[33mInfinity\u001b[39m,\n",
            "    \u001b[33mInfinity\u001b[39m, \u001b[33mInfinity\u001b[39m, \u001b[33mInfinity\u001b[39m, \u001b[33mInfinity\u001b[39m, \u001b[33mInfinity\u001b[39m, \u001b[33mInfinity\u001b[39m,\n",
            "    \u001b[33mInfinity\u001b[39m, \u001b[33mInfinity\u001b[39m, \u001b[33mInfinity\u001b[39m, \u001b[33mInfinity\u001b[39m,\n",
            "    ... 500 more items\n",
            "  ],\n",
            "  [\n",
            "    \u001b[33mInfinity\u001b[39m, \u001b[33mInfinity\u001b[39m, \u001b[33mInfinity\u001b[39m, \u001b[33mInfinity\u001b[39m, \u001b[33mInfinity\u001b[39m, \u001b[33mInfinity\u001b[39m,\n",
            "    \u001b[33mInfinity\u001b[39m, \u001b[33mInfinity\u001b[39m, \u001b[33mInfinity\u001b[39m, \u001b[33mInfinity\u001b[39m, \u001b[33mInfinity\u001b[39m, \u001b[33mInfinity\u001b[39m,\n",
            "    \u001b[33mInfinity\u001b[39m, \u001b[33mInfinity\u001b[39m, \u001b[33mInfinity\u001b[39m, \u001b[33mInfinity\u001b[39m, \u001b[33mInfinity\u001b[39m, \u001b[33mInfinity\u001b[39m,\n",
            "    \u001b[33mInfinity\u001b[39m, \u001b[33mInfinity\u001b[39m, \u001b[33mInfinity\u001b[39m, \u001b[33mInfinity\u001b[39m, \u001b[33mInfinity\u001b[39m, \u001b[33mInfinity\u001b[39m,\n",
            "    \u001b[33mInfinity\u001b[39m, \u001b[33mInfinity\u001b[39m, \u001b[33mInfinity\u001b[39m, \u001b[33mInfinity\u001b[39m, \u001b[33mInfinity\u001b[39m, \u001b[33mInfinity\u001b[39m,\n",
            "    \u001b[33mInfinity\u001b[39m, \u001b[33mInfinity\u001b[39m, \u001b[33mInfinity\u001b[39m, \u001b[33mInfinity\u001b[39m, \u001b[33mInfinity\u001b[39m, \u001b[33mInfinity\u001b[39m,\n",
            "    \u001b[33mInfinity\u001b[39m, \u001b[33mInfinity\u001b[39m, \u001b[33mInfinity\u001b[39m, \u001b[33mInfinity\u001b[39m, \u001b[33mInfinity\u001b[39m, \u001b[33mInfinity\u001b[39m,\n",
            "    \u001b[33mInfinity\u001b[39m, \u001b[33mInfinity\u001b[39m, \u001b[33mInfinity\u001b[39m, \u001b[33mInfinity\u001b[39m, \u001b[33mInfinity\u001b[39m, \u001b[33mInfinity\u001b[39m,\n",
            "    \u001b[33mInfinity\u001b[39m, \u001b[33mInfinity\u001b[39m, \u001b[33mInfinity\u001b[39m, \u001b[33mInfinity\u001b[39m, \u001b[33mInfinity\u001b[39m, \u001b[33mInfinity\u001b[39m,\n",
            "    \u001b[33mInfinity\u001b[39m, \u001b[33mInfinity\u001b[39m, \u001b[33mInfinity\u001b[39m, \u001b[33mInfinity\u001b[39m, \u001b[33mInfinity\u001b[39m, \u001b[33mInfinity\u001b[39m,\n",
            "    \u001b[33mInfinity\u001b[39m, \u001b[33mInfinity\u001b[39m, \u001b[33mInfinity\u001b[39m, \u001b[33mInfinity\u001b[39m, \u001b[33mInfinity\u001b[39m, \u001b[33mInfinity\u001b[39m,\n",
            "    \u001b[33mInfinity\u001b[39m, \u001b[33mInfinity\u001b[39m, \u001b[33mInfinity\u001b[39m, \u001b[33mInfinity\u001b[39m, \u001b[33mInfinity\u001b[39m, \u001b[33mInfinity\u001b[39m,\n",
            "    \u001b[33mInfinity\u001b[39m, \u001b[33mInfinity\u001b[39m, \u001b[33mInfinity\u001b[39m, \u001b[33mInfinity\u001b[39m, \u001b[33mInfinity\u001b[39m, \u001b[33mInfinity\u001b[39m,\n",
            "    \u001b[33mInfinity\u001b[39m, \u001b[33mInfinity\u001b[39m, \u001b[33mInfinity\u001b[39m, \u001b[33mInfinity\u001b[39m, \u001b[33mInfinity\u001b[39m, \u001b[33mInfinity\u001b[39m,\n",
            "    \u001b[33mInfinity\u001b[39m, \u001b[33mInfinity\u001b[39m, \u001b[33mInfinity\u001b[39m, \u001b[33mInfinity\u001b[39m, \u001b[33mInfinity\u001b[39m, \u001b[33mInfinity\u001b[39m,\n",
            "    \u001b[33mInfinity\u001b[39m, \u001b[33mInfinity\u001b[39m, \u001b[33mInfinity\u001b[39m, \u001b[33mInfinity\u001b[39m, \u001b[33mInfinity\u001b[39m, \u001b[33mInfinity\u001b[39m,\n",
            "    \u001b[33mInfinity\u001b[39m, \u001b[33mInfinity\u001b[39m, \u001b[33mInfinity\u001b[39m, \u001b[33mInfinity\u001b[39m,\n",
            "    ... 500 more items\n",
            "  ],\n",
            "  [\n",
            "    \u001b[33mInfinity\u001b[39m, \u001b[33mInfinity\u001b[39m, \u001b[33mInfinity\u001b[39m, \u001b[33mInfinity\u001b[39m, \u001b[33mInfinity\u001b[39m, \u001b[33mInfinity\u001b[39m,\n",
            "    \u001b[33mInfinity\u001b[39m, \u001b[33mInfinity\u001b[39m, \u001b[33mInfinity\u001b[39m, \u001b[33mInfinity\u001b[39m, \u001b[33mInfinity\u001b[39m, \u001b[33mInfinity\u001b[39m,\n",
            "    \u001b[33mInfinity\u001b[39m, \u001b[33mInfinity\u001b[39m, \u001b[33mInfinity\u001b[39m, \u001b[33mInfinity\u001b[39m, \u001b[33mInfinity\u001b[39m, \u001b[33mInfinity\u001b[39m,\n",
            "    \u001b[33mInfinity\u001b[39m, \u001b[33mInfinity\u001b[39m, \u001b[33mInfinity\u001b[39m, \u001b[33mInfinity\u001b[39m, \u001b[33mInfinity\u001b[39m, \u001b[33mInfinity\u001b[39m,\n",
            "    \u001b[33mInfinity\u001b[39m, \u001b[33mInfinity\u001b[39m, \u001b[33mInfinity\u001b[39m, \u001b[33mInfinity\u001b[39m, \u001b[33mInfinity\u001b[39m, \u001b[33mInfinity\u001b[39m,\n",
            "    \u001b[33mInfinity\u001b[39m, \u001b[33mInfinity\u001b[39m, \u001b[33mInfinity\u001b[39m, \u001b[33mInfinity\u001b[39m, \u001b[33mInfinity\u001b[39m, \u001b[33mInfinity\u001b[39m,\n",
            "    \u001b[33mInfinity\u001b[39m, \u001b[33mInfinity\u001b[39m, \u001b[33mInfinity\u001b[39m, \u001b[33mInfinity\u001b[39m, \u001b[33mInfinity\u001b[39m, \u001b[33mInfinity\u001b[39m,\n",
            "    \u001b[33mInfinity\u001b[39m, \u001b[33mInfinity\u001b[39m, \u001b[33mInfinity\u001b[39m, \u001b[33mInfinity\u001b[39m, \u001b[33mInfinity\u001b[39m, \u001b[33mInfinity\u001b[39m,\n",
            "    \u001b[33mInfinity\u001b[39m, \u001b[33mInfinity\u001b[39m, \u001b[33mInfinity\u001b[39m, \u001b[33mInfinity\u001b[39m, \u001b[33mInfinity\u001b[39m, \u001b[33mInfinity\u001b[39m,\n",
            "    \u001b[33mInfinity\u001b[39m, \u001b[33mInfinity\u001b[39m, \u001b[33mInfinity\u001b[39m, \u001b[33mInfinity\u001b[39m, \u001b[33mInfinity\u001b[39m, \u001b[33mInfinity\u001b[39m,\n",
            "    \u001b[33mInfinity\u001b[39m, \u001b[33mInfinity\u001b[39m, \u001b[33mInfinity\u001b[39m, \u001b[33mInfinity\u001b[39m, \u001b[33mInfinity\u001b[39m, \u001b[33mInfinity\u001b[39m,\n",
            "    \u001b[33mInfinity\u001b[39m, \u001b[33mInfinity\u001b[39m, \u001b[33mInfinity\u001b[39m, \u001b[33mInfinity\u001b[39m, \u001b[33mInfinity\u001b[39m, \u001b[33mInfinity\u001b[39m,\n",
            "    \u001b[33mInfinity\u001b[39m, \u001b[33mInfinity\u001b[39m, \u001b[33mInfinity\u001b[39m, \u001b[33mInfinity\u001b[39m, \u001b[33mInfinity\u001b[39m, \u001b[33mInfinity\u001b[39m,\n",
            "    \u001b[33mInfinity\u001b[39m, \u001b[33mInfinity\u001b[39m, \u001b[33mInfinity\u001b[39m, \u001b[33mInfinity\u001b[39m, \u001b[33mInfinity\u001b[39m, \u001b[33mInfinity\u001b[39m,\n",
            "    \u001b[33mInfinity\u001b[39m, \u001b[33mInfinity\u001b[39m, \u001b[33mInfinity\u001b[39m, \u001b[33mInfinity\u001b[39m, \u001b[33mInfinity\u001b[39m, \u001b[33mInfinity\u001b[39m,\n",
            "    \u001b[33mInfinity\u001b[39m, \u001b[33mInfinity\u001b[39m, \u001b[33mInfinity\u001b[39m, \u001b[33mInfinity\u001b[39m, \u001b[33mInfinity\u001b[39m, \u001b[33mInfinity\u001b[39m,\n",
            "    \u001b[33mInfinity\u001b[39m, \u001b[33mInfinity\u001b[39m, \u001b[33mInfinity\u001b[39m, \u001b[33mInfinity\u001b[39m,\n",
            "    ... 500 more items\n",
            "  ],\n",
            "  [\n",
            "    \u001b[33mInfinity\u001b[39m, \u001b[33mInfinity\u001b[39m, \u001b[33mInfinity\u001b[39m, \u001b[33mInfinity\u001b[39m, \u001b[33mInfinity\u001b[39m, \u001b[33mInfinity\u001b[39m,\n",
            "    \u001b[33mInfinity\u001b[39m, \u001b[33mInfinity\u001b[39m, \u001b[33mInfinity\u001b[39m, \u001b[33mInfinity\u001b[39m, \u001b[33mInfinity\u001b[39m, \u001b[33mInfinity\u001b[39m,\n",
            "    \u001b[33mInfinity\u001b[39m, \u001b[33mInfinity\u001b[39m, \u001b[33mInfinity\u001b[39m, \u001b[33mInfinity\u001b[39m, \u001b[33mInfinity\u001b[39m, \u001b[33mInfinity\u001b[39m,\n",
            "    \u001b[33mInfinity\u001b[39m, \u001b[33mInfinity\u001b[39m, \u001b[33mInfinity\u001b[39m, \u001b[33mInfinity\u001b[39m, \u001b[33mInfinity\u001b[39m, \u001b[33mInfinity\u001b[39m,\n",
            "    \u001b[33mInfinity\u001b[39m, \u001b[33mInfinity\u001b[39m, \u001b[33mInfinity\u001b[39m, \u001b[33mInfinity\u001b[39m, \u001b[33mInfinity\u001b[39m, \u001b[33mInfinity\u001b[39m,\n",
            "    \u001b[33mInfinity\u001b[39m, \u001b[33mInfinity\u001b[39m, \u001b[33mInfinity\u001b[39m, \u001b[33mInfinity\u001b[39m, \u001b[33mInfinity\u001b[39m, \u001b[33mInfinity\u001b[39m,\n",
            "    \u001b[33mInfinity\u001b[39m, \u001b[33mInfinity\u001b[39m, \u001b[33mInfinity\u001b[39m, \u001b[33mInfinity\u001b[39m, \u001b[33mInfinity\u001b[39m, \u001b[33mInfinity\u001b[39m,\n",
            "    \u001b[33mInfinity\u001b[39m, \u001b[33mInfinity\u001b[39m, \u001b[33mInfinity\u001b[39m, \u001b[33mInfinity\u001b[39m, \u001b[33mInfinity\u001b[39m, \u001b[33mInfinity\u001b[39m,\n",
            "    \u001b[33mInfinity\u001b[39m, \u001b[33mInfinity\u001b[39m, \u001b[33mInfinity\u001b[39m, \u001b[33mInfinity\u001b[39m, \u001b[33mInfinity\u001b[39m, \u001b[33mInfinity\u001b[39m,\n",
            "    \u001b[33mInfinity\u001b[39m, \u001b[33mInfinity\u001b[39m, \u001b[33mInfinity\u001b[39m, \u001b[33mInfinity\u001b[39m, \u001b[33mInfinity\u001b[39m, \u001b[33mInfinity\u001b[39m,\n",
            "    \u001b[33mInfinity\u001b[39m, \u001b[33mInfinity\u001b[39m, \u001b[33mInfinity\u001b[39m, \u001b[33mInfinity\u001b[39m, \u001b[33mInfinity\u001b[39m, \u001b[33mInfinity\u001b[39m,\n",
            "    \u001b[33mInfinity\u001b[39m, \u001b[33mInfinity\u001b[39m, \u001b[33mInfinity\u001b[39m, \u001b[33mInfinity\u001b[39m, \u001b[33mInfinity\u001b[39m, \u001b[33mInfinity\u001b[39m,\n",
            "    \u001b[33mInfinity\u001b[39m, \u001b[33mInfinity\u001b[39m, \u001b[33mInfinity\u001b[39m, \u001b[33mInfinity\u001b[39m, \u001b[33mInfinity\u001b[39m, \u001b[33mInfinity\u001b[39m,\n",
            "    \u001b[33mInfinity\u001b[39m, \u001b[33mInfinity\u001b[39m, \u001b[33mInfinity\u001b[39m, \u001b[33mInfinity\u001b[39m, \u001b[33mInfinity\u001b[39m, \u001b[33mInfinity\u001b[39m,\n",
            "    \u001b[33mInfinity\u001b[39m, \u001b[33mInfinity\u001b[39m, \u001b[33mInfinity\u001b[39m, \u001b[33mInfinity\u001b[39m, \u001b[33mInfinity\u001b[39m, \u001b[33mInfinity\u001b[39m,\n",
            "    \u001b[33mInfinity\u001b[39m, \u001b[33mInfinity\u001b[39m, \u001b[33mInfinity\u001b[39m, \u001b[33mInfinity\u001b[39m, \u001b[33mInfinity\u001b[39m, \u001b[33mInfinity\u001b[39m,\n",
            "    \u001b[33mInfinity\u001b[39m, \u001b[33mInfinity\u001b[39m, \u001b[33mInfinity\u001b[39m, \u001b[33mInfinity\u001b[39m,\n",
            "    ... 500 more items\n",
            "  ],\n",
            "  [\n",
            "    \u001b[33mInfinity\u001b[39m, \u001b[33mInfinity\u001b[39m, \u001b[33mInfinity\u001b[39m, \u001b[33mInfinity\u001b[39m, \u001b[33mInfinity\u001b[39m, \u001b[33mInfinity\u001b[39m,\n",
            "    \u001b[33mInfinity\u001b[39m, \u001b[33mInfinity\u001b[39m, \u001b[33mInfinity\u001b[39m, \u001b[33mInfinity\u001b[39m, \u001b[33mInfinity\u001b[39m, \u001b[33mInfinity\u001b[39m,\n",
            "    \u001b[33mInfinity\u001b[39m, \u001b[33mInfinity\u001b[39m, \u001b[33mInfinity\u001b[39m, \u001b[33mInfinity\u001b[39m, \u001b[33mInfinity\u001b[39m, \u001b[33mInfinity\u001b[39m,\n",
            "    \u001b[33mInfinity\u001b[39m, \u001b[33mInfinity\u001b[39m, \u001b[33mInfinity\u001b[39m, \u001b[33mInfinity\u001b[39m, \u001b[33mInfinity\u001b[39m, \u001b[33mInfinity\u001b[39m,\n",
            "    \u001b[33mInfinity\u001b[39m, \u001b[33mInfinity\u001b[39m, \u001b[33mInfinity\u001b[39m, \u001b[33mInfinity\u001b[39m, \u001b[33mInfinity\u001b[39m, \u001b[33mInfinity\u001b[39m,\n",
            "    \u001b[33mInfinity\u001b[39m, \u001b[33mInfinity\u001b[39m, \u001b[33mInfinity\u001b[39m, \u001b[33mInfinity\u001b[39m, \u001b[33mInfinity\u001b[39m, \u001b[33mInfinity\u001b[39m,\n",
            "    \u001b[33mInfinity\u001b[39m, \u001b[33mInfinity\u001b[39m, \u001b[33mInfinity\u001b[39m, \u001b[33mInfinity\u001b[39m, \u001b[33mInfinity\u001b[39m, \u001b[33mInfinity\u001b[39m,\n",
            "    \u001b[33mInfinity\u001b[39m, \u001b[33mInfinity\u001b[39m, \u001b[33mInfinity\u001b[39m, \u001b[33mInfinity\u001b[39m, \u001b[33mInfinity\u001b[39m, \u001b[33mInfinity\u001b[39m,\n",
            "    \u001b[33mInfinity\u001b[39m, \u001b[33mInfinity\u001b[39m, \u001b[33mInfinity\u001b[39m, \u001b[33mInfinity\u001b[39m, \u001b[33mInfinity\u001b[39m, \u001b[33mInfinity\u001b[39m,\n",
            "    \u001b[33mInfinity\u001b[39m, \u001b[33mInfinity\u001b[39m, \u001b[33mInfinity\u001b[39m, \u001b[33mInfinity\u001b[39m, \u001b[33mInfinity\u001b[39m, \u001b[33mInfinity\u001b[39m,\n",
            "    \u001b[33mInfinity\u001b[39m, \u001b[33mInfinity\u001b[39m, \u001b[33mInfinity\u001b[39m, \u001b[33mInfinity\u001b[39m, \u001b[33mInfinity\u001b[39m, \u001b[33mInfinity\u001b[39m,\n",
            "    \u001b[33mInfinity\u001b[39m, \u001b[33mInfinity\u001b[39m, \u001b[33mInfinity\u001b[39m, \u001b[33mInfinity\u001b[39m, \u001b[33mInfinity\u001b[39m, \u001b[33mInfinity\u001b[39m,\n",
            "    \u001b[33mInfinity\u001b[39m, \u001b[33mInfinity\u001b[39m, \u001b[33mInfinity\u001b[39m, \u001b[33mInfinity\u001b[39m, \u001b[33mInfinity\u001b[39m, \u001b[33mInfinity\u001b[39m,\n",
            "    \u001b[33mInfinity\u001b[39m, \u001b[33mInfinity\u001b[39m, \u001b[33mInfinity\u001b[39m, \u001b[33mInfinity\u001b[39m, \u001b[33mInfinity\u001b[39m, \u001b[33mInfinity\u001b[39m,\n",
            "    \u001b[33mInfinity\u001b[39m, \u001b[33mInfinity\u001b[39m, \u001b[33mInfinity\u001b[39m, \u001b[33mInfinity\u001b[39m, \u001b[33mInfinity\u001b[39m, \u001b[33mInfinity\u001b[39m,\n",
            "    \u001b[33mInfinity\u001b[39m, \u001b[33mInfinity\u001b[39m, \u001b[33mInfinity\u001b[39m, \u001b[33mInfinity\u001b[39m, \u001b[33mInfinity\u001b[39m, \u001b[33mInfinity\u001b[39m,\n",
            "    \u001b[33mInfinity\u001b[39m, \u001b[33mInfinity\u001b[39m, \u001b[33mInfinity\u001b[39m, \u001b[33mInfinity\u001b[39m,\n",
            "    ... 500 more items\n",
            "  ],\n",
            "  [\n",
            "    \u001b[33mInfinity\u001b[39m, \u001b[33mInfinity\u001b[39m, \u001b[33mInfinity\u001b[39m, \u001b[33mInfinity\u001b[39m, \u001b[33mInfinity\u001b[39m, \u001b[33mInfinity\u001b[39m,\n",
            "    \u001b[33mInfinity\u001b[39m, \u001b[33mInfinity\u001b[39m, \u001b[33mInfinity\u001b[39m, \u001b[33mInfinity\u001b[39m, \u001b[33mInfinity\u001b[39m, \u001b[33mInfinity\u001b[39m,\n",
            "    \u001b[33mInfinity\u001b[39m, \u001b[33mInfinity\u001b[39m, \u001b[33mInfinity\u001b[39m, \u001b[33mInfinity\u001b[39m, \u001b[33mInfinity\u001b[39m, \u001b[33mInfinity\u001b[39m,\n",
            "    \u001b[33mInfinity\u001b[39m, \u001b[33mInfinity\u001b[39m, \u001b[33mInfinity\u001b[39m, \u001b[33mInfinity\u001b[39m, \u001b[33mInfinity\u001b[39m, \u001b[33mInfinity\u001b[39m,\n",
            "    \u001b[33mInfinity\u001b[39m, \u001b[33mInfinity\u001b[39m, \u001b[33mInfinity\u001b[39m, \u001b[33mInfinity\u001b[39m, \u001b[33mInfinity\u001b[39m, \u001b[33mInfinity\u001b[39m,\n",
            "    \u001b[33mInfinity\u001b[39m, \u001b[33mInfinity\u001b[39m, \u001b[33mInfinity\u001b[39m, \u001b[33mInfinity\u001b[39m, \u001b[33mInfinity\u001b[39m, \u001b[33mInfinity\u001b[39m,\n",
            "    \u001b[33mInfinity\u001b[39m, \u001b[33mInfinity\u001b[39m, \u001b[33mInfinity\u001b[39m, \u001b[33mInfinity\u001b[39m, \u001b[33mInfinity\u001b[39m, \u001b[33mInfinity\u001b[39m,\n",
            "    \u001b[33mInfinity\u001b[39m, \u001b[33mInfinity\u001b[39m, \u001b[33mInfinity\u001b[39m, \u001b[33mInfinity\u001b[39m, \u001b[33mInfinity\u001b[39m, \u001b[33mInfinity\u001b[39m,\n",
            "    \u001b[33mInfinity\u001b[39m, \u001b[33mInfinity\u001b[39m, \u001b[33mInfinity\u001b[39m, \u001b[33mInfinity\u001b[39m, \u001b[33mInfinity\u001b[39m, \u001b[33mInfinity\u001b[39m,\n",
            "    \u001b[33mInfinity\u001b[39m, \u001b[33mInfinity\u001b[39m, \u001b[33mInfinity\u001b[39m, \u001b[33mInfinity\u001b[39m, \u001b[33mInfinity\u001b[39m, \u001b[33mInfinity\u001b[39m,\n",
            "    \u001b[33mInfinity\u001b[39m, \u001b[33mInfinity\u001b[39m, \u001b[33mInfinity\u001b[39m, \u001b[33mInfinity\u001b[39m, \u001b[33mInfinity\u001b[39m, \u001b[33mInfinity\u001b[39m,\n",
            "    \u001b[33mInfinity\u001b[39m, \u001b[33mInfinity\u001b[39m, \u001b[33mInfinity\u001b[39m, \u001b[33mInfinity\u001b[39m, \u001b[33mInfinity\u001b[39m, \u001b[33mInfinity\u001b[39m,\n",
            "    \u001b[33mInfinity\u001b[39m, \u001b[33mInfinity\u001b[39m, \u001b[33mInfinity\u001b[39m, \u001b[33mInfinity\u001b[39m, \u001b[33mInfinity\u001b[39m, \u001b[33mInfinity\u001b[39m,\n",
            "    \u001b[33mInfinity\u001b[39m, \u001b[33mInfinity\u001b[39m, \u001b[33mInfinity\u001b[39m, \u001b[33mInfinity\u001b[39m, \u001b[33mInfinity\u001b[39m, \u001b[33mInfinity\u001b[39m,\n",
            "    \u001b[33mInfinity\u001b[39m, \u001b[33mInfinity\u001b[39m, \u001b[33mInfinity\u001b[39m, \u001b[33mInfinity\u001b[39m, \u001b[33mInfinity\u001b[39m, \u001b[33mInfinity\u001b[39m,\n",
            "    \u001b[33mInfinity\u001b[39m, \u001b[33mInfinity\u001b[39m, \u001b[33mInfinity\u001b[39m, \u001b[33mInfinity\u001b[39m, \u001b[33mInfinity\u001b[39m, \u001b[33mInfinity\u001b[39m,\n",
            "    \u001b[33mInfinity\u001b[39m, \u001b[33mInfinity\u001b[39m, \u001b[33mInfinity\u001b[39m, \u001b[33mInfinity\u001b[39m,\n",
            "    ... 500 more items\n",
            "  ],\n",
            "  [\n",
            "    \u001b[33mInfinity\u001b[39m, \u001b[33mInfinity\u001b[39m, \u001b[33mInfinity\u001b[39m, \u001b[33mInfinity\u001b[39m, \u001b[33mInfinity\u001b[39m, \u001b[33mInfinity\u001b[39m,\n",
            "    \u001b[33mInfinity\u001b[39m, \u001b[33mInfinity\u001b[39m, \u001b[33mInfinity\u001b[39m, \u001b[33mInfinity\u001b[39m, \u001b[33mInfinity\u001b[39m, \u001b[33mInfinity\u001b[39m,\n",
            "    \u001b[33mInfinity\u001b[39m, \u001b[33mInfinity\u001b[39m, \u001b[33mInfinity\u001b[39m, \u001b[33mInfinity\u001b[39m, \u001b[33mInfinity\u001b[39m, \u001b[33mInfinity\u001b[39m,\n",
            "    \u001b[33mInfinity\u001b[39m, \u001b[33mInfinity\u001b[39m, \u001b[33mInfinity\u001b[39m, \u001b[33mInfinity\u001b[39m, \u001b[33mInfinity\u001b[39m, \u001b[33mInfinity\u001b[39m,\n",
            "    \u001b[33mInfinity\u001b[39m, \u001b[33mInfinity\u001b[39m, \u001b[33mInfinity\u001b[39m, \u001b[33mInfinity\u001b[39m, \u001b[33mInfinity\u001b[39m, \u001b[33mInfinity\u001b[39m,\n",
            "    \u001b[33mInfinity\u001b[39m, \u001b[33mInfinity\u001b[39m, \u001b[33mInfinity\u001b[39m, \u001b[33mInfinity\u001b[39m, \u001b[33mInfinity\u001b[39m, \u001b[33mInfinity\u001b[39m,\n",
            "    \u001b[33mInfinity\u001b[39m, \u001b[33mInfinity\u001b[39m, \u001b[33mInfinity\u001b[39m, \u001b[33mInfinity\u001b[39m, \u001b[33mInfinity\u001b[39m, \u001b[33mInfinity\u001b[39m,\n",
            "    \u001b[33mInfinity\u001b[39m, \u001b[33mInfinity\u001b[39m, \u001b[33mInfinity\u001b[39m, \u001b[33mInfinity\u001b[39m, \u001b[33mInfinity\u001b[39m, \u001b[33mInfinity\u001b[39m,\n",
            "    \u001b[33mInfinity\u001b[39m, \u001b[33mInfinity\u001b[39m, \u001b[33mInfinity\u001b[39m, \u001b[33mInfinity\u001b[39m, \u001b[33mInfinity\u001b[39m, \u001b[33mInfinity\u001b[39m,\n",
            "    \u001b[33mInfinity\u001b[39m, \u001b[33mInfinity\u001b[39m, \u001b[33mInfinity\u001b[39m, \u001b[33mInfinity\u001b[39m, \u001b[33mInfinity\u001b[39m, \u001b[33mInfinity\u001b[39m,\n",
            "    \u001b[33mInfinity\u001b[39m, \u001b[33mInfinity\u001b[39m, \u001b[33mInfinity\u001b[39m, \u001b[33mInfinity\u001b[39m, \u001b[33mInfinity\u001b[39m, \u001b[33mInfinity\u001b[39m,\n",
            "    \u001b[33mInfinity\u001b[39m, \u001b[33mInfinity\u001b[39m, \u001b[33mInfinity\u001b[39m, \u001b[33mInfinity\u001b[39m, \u001b[33mInfinity\u001b[39m, \u001b[33mInfinity\u001b[39m,\n",
            "    \u001b[33mInfinity\u001b[39m, \u001b[33mInfinity\u001b[39m, \u001b[33mInfinity\u001b[39m, \u001b[33mInfinity\u001b[39m, \u001b[33mInfinity\u001b[39m, \u001b[33mInfinity\u001b[39m,\n",
            "    \u001b[33mInfinity\u001b[39m, \u001b[33mInfinity\u001b[39m, \u001b[33mInfinity\u001b[39m, \u001b[33mInfinity\u001b[39m, \u001b[33mInfinity\u001b[39m, \u001b[33mInfinity\u001b[39m,\n",
            "    \u001b[33mInfinity\u001b[39m, \u001b[33mInfinity\u001b[39m, \u001b[33mInfinity\u001b[39m, \u001b[33mInfinity\u001b[39m, \u001b[33mInfinity\u001b[39m, \u001b[33mInfinity\u001b[39m,\n",
            "    \u001b[33mInfinity\u001b[39m, \u001b[33mInfinity\u001b[39m, \u001b[33mInfinity\u001b[39m, \u001b[33mInfinity\u001b[39m, \u001b[33mInfinity\u001b[39m, \u001b[33mInfinity\u001b[39m,\n",
            "    \u001b[33mInfinity\u001b[39m, \u001b[33mInfinity\u001b[39m, \u001b[33mInfinity\u001b[39m, \u001b[33mInfinity\u001b[39m,\n",
            "    ... 500 more items\n",
            "  ],\n",
            "  [\n",
            "    \u001b[33mInfinity\u001b[39m, \u001b[33mInfinity\u001b[39m, \u001b[33mInfinity\u001b[39m, \u001b[33mInfinity\u001b[39m, \u001b[33mInfinity\u001b[39m, \u001b[33mInfinity\u001b[39m,\n",
            "    \u001b[33mInfinity\u001b[39m, \u001b[33mInfinity\u001b[39m, \u001b[33mInfinity\u001b[39m, \u001b[33mInfinity\u001b[39m, \u001b[33mInfinity\u001b[39m, \u001b[33mInfinity\u001b[39m,\n",
            "    \u001b[33mInfinity\u001b[39m, \u001b[33mInfinity\u001b[39m, \u001b[33mInfinity\u001b[39m, \u001b[33mInfinity\u001b[39m, \u001b[33mInfinity\u001b[39m, \u001b[33mInfinity\u001b[39m,\n",
            "    \u001b[33mInfinity\u001b[39m, \u001b[33mInfinity\u001b[39m, \u001b[33mInfinity\u001b[39m, \u001b[33mInfinity\u001b[39m, \u001b[33mInfinity\u001b[39m, \u001b[33mInfinity\u001b[39m,\n",
            "    \u001b[33mInfinity\u001b[39m, \u001b[33mInfinity\u001b[39m, \u001b[33mInfinity\u001b[39m, \u001b[33mInfinity\u001b[39m, \u001b[33mInfinity\u001b[39m, \u001b[33mInfinity\u001b[39m,\n",
            "    \u001b[33mInfinity\u001b[39m, \u001b[33mInfinity\u001b[39m, \u001b[33mInfinity\u001b[39m, \u001b[33mInfinity\u001b[39m, \u001b[33mInfinity\u001b[39m, \u001b[33mInfinity\u001b[39m,\n",
            "    \u001b[33mInfinity\u001b[39m, \u001b[33mInfinity\u001b[39m, \u001b[33mInfinity\u001b[39m, \u001b[33mInfinity\u001b[39m, \u001b[33mInfinity\u001b[39m, \u001b[33mInfinity\u001b[39m,\n",
            "    \u001b[33mInfinity\u001b[39m, \u001b[33mInfinity\u001b[39m, \u001b[33mInfinity\u001b[39m, \u001b[33mInfinity\u001b[39m, \u001b[33mInfinity\u001b[39m, \u001b[33mInfinity\u001b[39m,\n",
            "    \u001b[33mInfinity\u001b[39m, \u001b[33mInfinity\u001b[39m, \u001b[33mInfinity\u001b[39m, \u001b[33mInfinity\u001b[39m, \u001b[33mInfinity\u001b[39m, \u001b[33mInfinity\u001b[39m,\n",
            "    \u001b[33mInfinity\u001b[39m, \u001b[33mInfinity\u001b[39m, \u001b[33mInfinity\u001b[39m, \u001b[33mInfinity\u001b[39m, \u001b[33mInfinity\u001b[39m, \u001b[33mInfinity\u001b[39m,\n",
            "    \u001b[33mInfinity\u001b[39m, \u001b[33mInfinity\u001b[39m, \u001b[33mInfinity\u001b[39m, \u001b[33mInfinity\u001b[39m, \u001b[33mInfinity\u001b[39m, \u001b[33mInfinity\u001b[39m,\n",
            "    \u001b[33mInfinity\u001b[39m, \u001b[33mInfinity\u001b[39m, \u001b[33mInfinity\u001b[39m, \u001b[33mInfinity\u001b[39m, \u001b[33mInfinity\u001b[39m, \u001b[33mInfinity\u001b[39m,\n",
            "    \u001b[33mInfinity\u001b[39m, \u001b[33mInfinity\u001b[39m, \u001b[33mInfinity\u001b[39m, \u001b[33mInfinity\u001b[39m, \u001b[33mInfinity\u001b[39m, \u001b[33mInfinity\u001b[39m,\n",
            "    \u001b[33mInfinity\u001b[39m, \u001b[33mInfinity\u001b[39m, \u001b[33mInfinity\u001b[39m, \u001b[33mInfinity\u001b[39m, \u001b[33mInfinity\u001b[39m, \u001b[33mInfinity\u001b[39m,\n",
            "    \u001b[33mInfinity\u001b[39m, \u001b[33mInfinity\u001b[39m, \u001b[33mInfinity\u001b[39m, \u001b[33mInfinity\u001b[39m, \u001b[33mInfinity\u001b[39m, \u001b[33mInfinity\u001b[39m,\n",
            "    \u001b[33mInfinity\u001b[39m, \u001b[33mInfinity\u001b[39m, \u001b[33mInfinity\u001b[39m, \u001b[33mInfinity\u001b[39m, \u001b[33mInfinity\u001b[39m, \u001b[33mInfinity\u001b[39m,\n",
            "    \u001b[33mInfinity\u001b[39m, \u001b[33mInfinity\u001b[39m, \u001b[33mInfinity\u001b[39m, \u001b[33mInfinity\u001b[39m,\n",
            "    ... 500 more items\n",
            "  ],\n",
            "  [\n",
            "    \u001b[33mInfinity\u001b[39m, \u001b[33mInfinity\u001b[39m, \u001b[33mInfinity\u001b[39m, \u001b[33mInfinity\u001b[39m, \u001b[33mInfinity\u001b[39m, \u001b[33mInfinity\u001b[39m,\n",
            "    \u001b[33mInfinity\u001b[39m, \u001b[33mInfinity\u001b[39m, \u001b[33mInfinity\u001b[39m, \u001b[33mInfinity\u001b[39m, \u001b[33mInfinity\u001b[39m, \u001b[33mInfinity\u001b[39m,\n",
            "    \u001b[33mInfinity\u001b[39m, \u001b[33mInfinity\u001b[39m, \u001b[33mInfinity\u001b[39m, \u001b[33mInfinity\u001b[39m, \u001b[33mInfinity\u001b[39m, \u001b[33mInfinity\u001b[39m,\n",
            "    \u001b[33mInfinity\u001b[39m, \u001b[33mInfinity\u001b[39m, \u001b[33mInfinity\u001b[39m, \u001b[33mInfinity\u001b[39m, \u001b[33mInfinity\u001b[39m, \u001b[33mInfinity\u001b[39m,\n",
            "    \u001b[33mInfinity\u001b[39m, \u001b[33mInfinity\u001b[39m, \u001b[33mInfinity\u001b[39m, \u001b[33mInfinity\u001b[39m, \u001b[33mInfinity\u001b[39m, \u001b[33mInfinity\u001b[39m,\n",
            "    \u001b[33mInfinity\u001b[39m, \u001b[33mInfinity\u001b[39m, \u001b[33mInfinity\u001b[39m, \u001b[33mInfinity\u001b[39m, \u001b[33mInfinity\u001b[39m, \u001b[33mInfinity\u001b[39m,\n",
            "    \u001b[33mInfinity\u001b[39m, \u001b[33mInfinity\u001b[39m, \u001b[33mInfinity\u001b[39m, \u001b[33mInfinity\u001b[39m, \u001b[33mInfinity\u001b[39m, \u001b[33mInfinity\u001b[39m,\n",
            "    \u001b[33mInfinity\u001b[39m, \u001b[33mInfinity\u001b[39m, \u001b[33mInfinity\u001b[39m, \u001b[33mInfinity\u001b[39m, \u001b[33mInfinity\u001b[39m, \u001b[33mInfinity\u001b[39m,\n",
            "    \u001b[33mInfinity\u001b[39m, \u001b[33mInfinity\u001b[39m, \u001b[33mInfinity\u001b[39m, \u001b[33mInfinity\u001b[39m, \u001b[33mInfinity\u001b[39m, \u001b[33mInfinity\u001b[39m,\n",
            "    \u001b[33mInfinity\u001b[39m, \u001b[33mInfinity\u001b[39m, \u001b[33mInfinity\u001b[39m, \u001b[33mInfinity\u001b[39m, \u001b[33mInfinity\u001b[39m, \u001b[33mInfinity\u001b[39m,\n",
            "    \u001b[33mInfinity\u001b[39m, \u001b[33mInfinity\u001b[39m, \u001b[33mInfinity\u001b[39m, \u001b[33mInfinity\u001b[39m, \u001b[33mInfinity\u001b[39m, \u001b[33mInfinity\u001b[39m,\n",
            "    \u001b[33mInfinity\u001b[39m, \u001b[33mInfinity\u001b[39m, \u001b[33mInfinity\u001b[39m, \u001b[33mInfinity\u001b[39m, \u001b[33mInfinity\u001b[39m, \u001b[33mInfinity\u001b[39m,\n",
            "    \u001b[33mInfinity\u001b[39m, \u001b[33mInfinity\u001b[39m, \u001b[33mInfinity\u001b[39m, \u001b[33mInfinity\u001b[39m, \u001b[33mInfinity\u001b[39m, \u001b[33mInfinity\u001b[39m,\n",
            "    \u001b[33mInfinity\u001b[39m, \u001b[33mInfinity\u001b[39m, \u001b[33mInfinity\u001b[39m, \u001b[33mInfinity\u001b[39m, \u001b[33mInfinity\u001b[39m, \u001b[33mInfinity\u001b[39m,\n",
            "    \u001b[33mInfinity\u001b[39m, \u001b[33mInfinity\u001b[39m, \u001b[33mInfinity\u001b[39m, \u001b[33mInfinity\u001b[39m, \u001b[33mInfinity\u001b[39m, \u001b[33mInfinity\u001b[39m,\n",
            "    \u001b[33mInfinity\u001b[39m, \u001b[33mInfinity\u001b[39m, \u001b[33mInfinity\u001b[39m, \u001b[33mInfinity\u001b[39m, \u001b[33mInfinity\u001b[39m, \u001b[33mInfinity\u001b[39m,\n",
            "    \u001b[33mInfinity\u001b[39m, \u001b[33mInfinity\u001b[39m, \u001b[33mInfinity\u001b[39m, \u001b[33mInfinity\u001b[39m,\n",
            "    ... 500 more items\n",
            "  ],\n",
            "  [\n",
            "    \u001b[33mInfinity\u001b[39m, \u001b[33mInfinity\u001b[39m, \u001b[33mInfinity\u001b[39m, \u001b[33mInfinity\u001b[39m, \u001b[33mInfinity\u001b[39m, \u001b[33mInfinity\u001b[39m,\n",
            "    \u001b[33mInfinity\u001b[39m, \u001b[33mInfinity\u001b[39m, \u001b[33mInfinity\u001b[39m, \u001b[33mInfinity\u001b[39m, \u001b[33mInfinity\u001b[39m, \u001b[33mInfinity\u001b[39m,\n",
            "    \u001b[33mInfinity\u001b[39m, \u001b[33mInfinity\u001b[39m, \u001b[33mInfinity\u001b[39m, \u001b[33mInfinity\u001b[39m, \u001b[33mInfinity\u001b[39m, \u001b[33mInfinity\u001b[39m,\n",
            "    \u001b[33mInfinity\u001b[39m, \u001b[33mInfinity\u001b[39m, \u001b[33mInfinity\u001b[39m, \u001b[33mInfinity\u001b[39m, \u001b[33mInfinity\u001b[39m, \u001b[33mInfinity\u001b[39m,\n",
            "    \u001b[33mInfinity\u001b[39m, \u001b[33mInfinity\u001b[39m, \u001b[33mInfinity\u001b[39m, \u001b[33mInfinity\u001b[39m, \u001b[33mInfinity\u001b[39m, \u001b[33mInfinity\u001b[39m,\n",
            "    \u001b[33mInfinity\u001b[39m, \u001b[33mInfinity\u001b[39m, \u001b[33mInfinity\u001b[39m, \u001b[33mInfinity\u001b[39m, \u001b[33mInfinity\u001b[39m, \u001b[33mInfinity\u001b[39m,\n",
            "    \u001b[33mInfinity\u001b[39m, \u001b[33mInfinity\u001b[39m, \u001b[33mInfinity\u001b[39m, \u001b[33mInfinity\u001b[39m, \u001b[33mInfinity\u001b[39m, \u001b[33mInfinity\u001b[39m,\n",
            "    \u001b[33mInfinity\u001b[39m, \u001b[33mInfinity\u001b[39m, \u001b[33mInfinity\u001b[39m, \u001b[33mInfinity\u001b[39m, \u001b[33mInfinity\u001b[39m, \u001b[33mInfinity\u001b[39m,\n",
            "    \u001b[33mInfinity\u001b[39m, \u001b[33mInfinity\u001b[39m, \u001b[33mInfinity\u001b[39m, \u001b[33mInfinity\u001b[39m, \u001b[33mInfinity\u001b[39m, \u001b[33mInfinity\u001b[39m,\n",
            "    \u001b[33mInfinity\u001b[39m, \u001b[33mInfinity\u001b[39m, \u001b[33mInfinity\u001b[39m, \u001b[33mInfinity\u001b[39m, \u001b[33mInfinity\u001b[39m, \u001b[33mInfinity\u001b[39m,\n",
            "    \u001b[33mInfinity\u001b[39m, \u001b[33mInfinity\u001b[39m, \u001b[33mInfinity\u001b[39m, \u001b[33mInfinity\u001b[39m, \u001b[33mInfinity\u001b[39m, \u001b[33mInfinity\u001b[39m,\n",
            "    \u001b[33mInfinity\u001b[39m, \u001b[33mInfinity\u001b[39m, \u001b[33mInfinity\u001b[39m, \u001b[33mInfinity\u001b[39m, \u001b[33mInfinity\u001b[39m, \u001b[33mInfinity\u001b[39m,\n",
            "    \u001b[33mInfinity\u001b[39m, \u001b[33mInfinity\u001b[39m, \u001b[33mInfinity\u001b[39m, \u001b[33mInfinity\u001b[39m, \u001b[33mInfinity\u001b[39m, \u001b[33mInfinity\u001b[39m,\n",
            "    \u001b[33mInfinity\u001b[39m, \u001b[33mInfinity\u001b[39m, \u001b[33mInfinity\u001b[39m, \u001b[33mInfinity\u001b[39m, \u001b[33mInfinity\u001b[39m, \u001b[33mInfinity\u001b[39m,\n",
            "    \u001b[33mInfinity\u001b[39m, \u001b[33mInfinity\u001b[39m, \u001b[33mInfinity\u001b[39m, \u001b[33mInfinity\u001b[39m, \u001b[33mInfinity\u001b[39m, \u001b[33mInfinity\u001b[39m,\n",
            "    \u001b[33mInfinity\u001b[39m, \u001b[33mInfinity\u001b[39m, \u001b[33mInfinity\u001b[39m, \u001b[33mInfinity\u001b[39m, \u001b[33mInfinity\u001b[39m, \u001b[33mInfinity\u001b[39m,\n",
            "    \u001b[33mInfinity\u001b[39m, \u001b[33mInfinity\u001b[39m, \u001b[33mInfinity\u001b[39m, \u001b[33mInfinity\u001b[39m,\n",
            "    ... 500 more items\n",
            "  ],\n",
            "  [\n",
            "    \u001b[33mInfinity\u001b[39m, \u001b[33mInfinity\u001b[39m, \u001b[33mInfinity\u001b[39m, \u001b[33mInfinity\u001b[39m, \u001b[33mInfinity\u001b[39m, \u001b[33mInfinity\u001b[39m,\n",
            "    \u001b[33mInfinity\u001b[39m, \u001b[33mInfinity\u001b[39m, \u001b[33mInfinity\u001b[39m, \u001b[33mInfinity\u001b[39m, \u001b[33mInfinity\u001b[39m, \u001b[33mInfinity\u001b[39m,\n",
            "    \u001b[33mInfinity\u001b[39m, \u001b[33mInfinity\u001b[39m, \u001b[33mInfinity\u001b[39m, \u001b[33mInfinity\u001b[39m, \u001b[33mInfinity\u001b[39m, \u001b[33mInfinity\u001b[39m,\n",
            "    \u001b[33mInfinity\u001b[39m, \u001b[33mInfinity\u001b[39m, \u001b[33mInfinity\u001b[39m, \u001b[33mInfinity\u001b[39m, \u001b[33mInfinity\u001b[39m, \u001b[33mInfinity\u001b[39m,\n",
            "    \u001b[33mInfinity\u001b[39m, \u001b[33mInfinity\u001b[39m, \u001b[33mInfinity\u001b[39m, \u001b[33mInfinity\u001b[39m, \u001b[33mInfinity\u001b[39m, \u001b[33mInfinity\u001b[39m,\n",
            "    \u001b[33mInfinity\u001b[39m, \u001b[33mInfinity\u001b[39m, \u001b[33mInfinity\u001b[39m, \u001b[33mInfinity\u001b[39m, \u001b[33mInfinity\u001b[39m, \u001b[33mInfinity\u001b[39m,\n",
            "    \u001b[33mInfinity\u001b[39m, \u001b[33mInfinity\u001b[39m, \u001b[33mInfinity\u001b[39m, \u001b[33mInfinity\u001b[39m, \u001b[33mInfinity\u001b[39m, \u001b[33mInfinity\u001b[39m,\n",
            "    \u001b[33mInfinity\u001b[39m, \u001b[33mInfinity\u001b[39m, \u001b[33mInfinity\u001b[39m, \u001b[33mInfinity\u001b[39m, \u001b[33mInfinity\u001b[39m, \u001b[33mInfinity\u001b[39m,\n",
            "    \u001b[33mInfinity\u001b[39m, \u001b[33mInfinity\u001b[39m, \u001b[33mInfinity\u001b[39m, \u001b[33mInfinity\u001b[39m, \u001b[33mInfinity\u001b[39m, \u001b[33mInfinity\u001b[39m,\n",
            "    \u001b[33mInfinity\u001b[39m, \u001b[33mInfinity\u001b[39m, \u001b[33mInfinity\u001b[39m, \u001b[33mInfinity\u001b[39m, \u001b[33mInfinity\u001b[39m, \u001b[33mInfinity\u001b[39m,\n",
            "    \u001b[33mInfinity\u001b[39m, \u001b[33mInfinity\u001b[39m, \u001b[33mInfinity\u001b[39m, \u001b[33mInfinity\u001b[39m, \u001b[33mInfinity\u001b[39m, \u001b[33mInfinity\u001b[39m,\n",
            "    \u001b[33mInfinity\u001b[39m, \u001b[33mInfinity\u001b[39m, \u001b[33mInfinity\u001b[39m, \u001b[33mInfinity\u001b[39m, \u001b[33mInfinity\u001b[39m, \u001b[33mInfinity\u001b[39m,\n",
            "    \u001b[33mInfinity\u001b[39m, \u001b[33mInfinity\u001b[39m, \u001b[33mInfinity\u001b[39m, \u001b[33mInfinity\u001b[39m, \u001b[33mInfinity\u001b[39m, \u001b[33mInfinity\u001b[39m,\n",
            "    \u001b[33mInfinity\u001b[39m, \u001b[33mInfinity\u001b[39m, \u001b[33mInfinity\u001b[39m, \u001b[33mInfinity\u001b[39m, \u001b[33mInfinity\u001b[39m, \u001b[33mInfinity\u001b[39m,\n",
            "    \u001b[33mInfinity\u001b[39m, \u001b[33mInfinity\u001b[39m, \u001b[33mInfinity\u001b[39m, \u001b[33mInfinity\u001b[39m, \u001b[33mInfinity\u001b[39m, \u001b[33mInfinity\u001b[39m,\n",
            "    \u001b[33mInfinity\u001b[39m, \u001b[33mInfinity\u001b[39m, \u001b[33mInfinity\u001b[39m, \u001b[33mInfinity\u001b[39m, \u001b[33mInfinity\u001b[39m, \u001b[33mInfinity\u001b[39m,\n",
            "    \u001b[33mInfinity\u001b[39m, \u001b[33mInfinity\u001b[39m, \u001b[33mInfinity\u001b[39m, \u001b[33mInfinity\u001b[39m,\n",
            "    ... 500 more items\n",
            "  ],\n",
            "  [\n",
            "    \u001b[33mInfinity\u001b[39m, \u001b[33mInfinity\u001b[39m, \u001b[33mInfinity\u001b[39m, \u001b[33mInfinity\u001b[39m, \u001b[33mInfinity\u001b[39m, \u001b[33mInfinity\u001b[39m,\n",
            "    \u001b[33mInfinity\u001b[39m, \u001b[33mInfinity\u001b[39m, \u001b[33mInfinity\u001b[39m, \u001b[33mInfinity\u001b[39m, \u001b[33mInfinity\u001b[39m, \u001b[33mInfinity\u001b[39m,\n",
            "    \u001b[33mInfinity\u001b[39m, \u001b[33mInfinity\u001b[39m, \u001b[33mInfinity\u001b[39m, \u001b[33mInfinity\u001b[39m, \u001b[33mInfinity\u001b[39m, \u001b[33mInfinity\u001b[39m,\n",
            "    \u001b[33mInfinity\u001b[39m, \u001b[33mInfinity\u001b[39m, \u001b[33mInfinity\u001b[39m, \u001b[33mInfinity\u001b[39m, \u001b[33mInfinity\u001b[39m, \u001b[33mInfinity\u001b[39m,\n",
            "    \u001b[33mInfinity\u001b[39m, \u001b[33mInfinity\u001b[39m, \u001b[33mInfinity\u001b[39m, \u001b[33mInfinity\u001b[39m, \u001b[33mInfinity\u001b[39m, \u001b[33mInfinity\u001b[39m,\n",
            "    \u001b[33mInfinity\u001b[39m, \u001b[33mInfinity\u001b[39m, \u001b[33mInfinity\u001b[39m, \u001b[33mInfinity\u001b[39m, \u001b[33mInfinity\u001b[39m, \u001b[33mInfinity\u001b[39m,\n",
            "    \u001b[33mInfinity\u001b[39m, \u001b[33mInfinity\u001b[39m, \u001b[33mInfinity\u001b[39m, \u001b[33mInfinity\u001b[39m, \u001b[33mInfinity\u001b[39m, \u001b[33mInfinity\u001b[39m,\n",
            "    \u001b[33mInfinity\u001b[39m, \u001b[33mInfinity\u001b[39m, \u001b[33mInfinity\u001b[39m, \u001b[33mInfinity\u001b[39m, \u001b[33mInfinity\u001b[39m, \u001b[33mInfinity\u001b[39m,\n",
            "    \u001b[33mInfinity\u001b[39m, \u001b[33mInfinity\u001b[39m, \u001b[33mInfinity\u001b[39m, \u001b[33mInfinity\u001b[39m, \u001b[33mInfinity\u001b[39m, \u001b[33mInfinity\u001b[39m,\n",
            "    \u001b[33mInfinity\u001b[39m, \u001b[33mInfinity\u001b[39m, \u001b[33mInfinity\u001b[39m, \u001b[33mInfinity\u001b[39m, \u001b[33mInfinity\u001b[39m, \u001b[33mInfinity\u001b[39m,\n",
            "    \u001b[33mInfinity\u001b[39m, \u001b[33mInfinity\u001b[39m, \u001b[33mInfinity\u001b[39m, \u001b[33mInfinity\u001b[39m, \u001b[33mInfinity\u001b[39m, \u001b[33mInfinity\u001b[39m,\n",
            "    \u001b[33mInfinity\u001b[39m, \u001b[33mInfinity\u001b[39m, \u001b[33mInfinity\u001b[39m, \u001b[33mInfinity\u001b[39m, \u001b[33mInfinity\u001b[39m, \u001b[33mInfinity\u001b[39m,\n",
            "    \u001b[33mInfinity\u001b[39m, \u001b[33mInfinity\u001b[39m, \u001b[33mInfinity\u001b[39m, \u001b[33mInfinity\u001b[39m, \u001b[33mInfinity\u001b[39m, \u001b[33mInfinity\u001b[39m,\n",
            "    \u001b[33mInfinity\u001b[39m, \u001b[33mInfinity\u001b[39m, \u001b[33mInfinity\u001b[39m, \u001b[33mInfinity\u001b[39m, \u001b[33mInfinity\u001b[39m, \u001b[33mInfinity\u001b[39m,\n",
            "    \u001b[33mInfinity\u001b[39m, \u001b[33mInfinity\u001b[39m, \u001b[33mInfinity\u001b[39m, \u001b[33mInfinity\u001b[39m, \u001b[33mInfinity\u001b[39m, \u001b[33mInfinity\u001b[39m,\n",
            "    \u001b[33mInfinity\u001b[39m, \u001b[33mInfinity\u001b[39m, \u001b[33mInfinity\u001b[39m, \u001b[33mInfinity\u001b[39m, \u001b[33mInfinity\u001b[39m, \u001b[33mInfinity\u001b[39m,\n",
            "    \u001b[33mInfinity\u001b[39m, \u001b[33mInfinity\u001b[39m, \u001b[33mInfinity\u001b[39m, \u001b[33mInfinity\u001b[39m,\n",
            "    ... 500 more items\n",
            "  ],\n",
            "  [\n",
            "    \u001b[33mInfinity\u001b[39m, \u001b[33mInfinity\u001b[39m, \u001b[33mInfinity\u001b[39m, \u001b[33mInfinity\u001b[39m, \u001b[33mInfinity\u001b[39m, \u001b[33mInfinity\u001b[39m,\n",
            "    \u001b[33mInfinity\u001b[39m, \u001b[33mInfinity\u001b[39m, \u001b[33mInfinity\u001b[39m, \u001b[33mInfinity\u001b[39m, \u001b[33mInfinity\u001b[39m, \u001b[33mInfinity\u001b[39m,\n",
            "    \u001b[33mInfinity\u001b[39m, \u001b[33mInfinity\u001b[39m, \u001b[33mInfinity\u001b[39m, \u001b[33mInfinity\u001b[39m, \u001b[33mInfinity\u001b[39m, \u001b[33mInfinity\u001b[39m,\n",
            "    \u001b[33mInfinity\u001b[39m, \u001b[33mInfinity\u001b[39m, \u001b[33mInfinity\u001b[39m, \u001b[33mInfinity\u001b[39m, \u001b[33mInfinity\u001b[39m, \u001b[33mInfinity\u001b[39m,\n",
            "    \u001b[33mInfinity\u001b[39m, \u001b[33mInfinity\u001b[39m, \u001b[33mInfinity\u001b[39m, \u001b[33mInfinity\u001b[39m, \u001b[33mInfinity\u001b[39m, \u001b[33mInfinity\u001b[39m,\n",
            "    \u001b[33mInfinity\u001b[39m, \u001b[33mInfinity\u001b[39m, \u001b[33mInfinity\u001b[39m, \u001b[33mInfinity\u001b[39m, \u001b[33mInfinity\u001b[39m, \u001b[33mInfinity\u001b[39m,\n",
            "    \u001b[33mInfinity\u001b[39m, \u001b[33mInfinity\u001b[39m, \u001b[33mInfinity\u001b[39m, \u001b[33mInfinity\u001b[39m, \u001b[33mInfinity\u001b[39m, \u001b[33mInfinity\u001b[39m,\n",
            "    \u001b[33mInfinity\u001b[39m, \u001b[33mInfinity\u001b[39m, \u001b[33mInfinity\u001b[39m, \u001b[33mInfinity\u001b[39m, \u001b[33mInfinity\u001b[39m, \u001b[33mInfinity\u001b[39m,\n",
            "    \u001b[33mInfinity\u001b[39m, \u001b[33mInfinity\u001b[39m, \u001b[33mInfinity\u001b[39m, \u001b[33mInfinity\u001b[39m, \u001b[33mInfinity\u001b[39m, \u001b[33mInfinity\u001b[39m,\n",
            "    \u001b[33mInfinity\u001b[39m, \u001b[33mInfinity\u001b[39m, \u001b[33mInfinity\u001b[39m, \u001b[33mInfinity\u001b[39m, \u001b[33mInfinity\u001b[39m, \u001b[33mInfinity\u001b[39m,\n",
            "    \u001b[33mInfinity\u001b[39m, \u001b[33mInfinity\u001b[39m, \u001b[33mInfinity\u001b[39m, \u001b[33mInfinity\u001b[39m, \u001b[33mInfinity\u001b[39m, \u001b[33mInfinity\u001b[39m,\n",
            "    \u001b[33mInfinity\u001b[39m, \u001b[33mInfinity\u001b[39m, \u001b[33mInfinity\u001b[39m, \u001b[33mInfinity\u001b[39m, \u001b[33mInfinity\u001b[39m, \u001b[33mInfinity\u001b[39m,\n",
            "    \u001b[33mInfinity\u001b[39m, \u001b[33mInfinity\u001b[39m, \u001b[33mInfinity\u001b[39m, \u001b[33mInfinity\u001b[39m, \u001b[33mInfinity\u001b[39m, \u001b[33mInfinity\u001b[39m,\n",
            "    \u001b[33mInfinity\u001b[39m, \u001b[33mInfinity\u001b[39m, \u001b[33mInfinity\u001b[39m, \u001b[33mInfinity\u001b[39m, \u001b[33mInfinity\u001b[39m, \u001b[33mInfinity\u001b[39m,\n",
            "    \u001b[33mInfinity\u001b[39m, \u001b[33mInfinity\u001b[39m, \u001b[33mInfinity\u001b[39m, \u001b[33mInfinity\u001b[39m, \u001b[33mInfinity\u001b[39m, \u001b[33mInfinity\u001b[39m,\n",
            "    \u001b[33mInfinity\u001b[39m, \u001b[33mInfinity\u001b[39m, \u001b[33mInfinity\u001b[39m, \u001b[33mInfinity\u001b[39m, \u001b[33mInfinity\u001b[39m, \u001b[33mInfinity\u001b[39m,\n",
            "    \u001b[33mInfinity\u001b[39m, \u001b[33mInfinity\u001b[39m, \u001b[33mInfinity\u001b[39m, \u001b[33mInfinity\u001b[39m,\n",
            "    ... 500 more items\n",
            "  ],\n",
            "  [\n",
            "    \u001b[33mInfinity\u001b[39m, \u001b[33mInfinity\u001b[39m, \u001b[33mInfinity\u001b[39m, \u001b[33mInfinity\u001b[39m, \u001b[33mInfinity\u001b[39m, \u001b[33mInfinity\u001b[39m,\n",
            "    \u001b[33mInfinity\u001b[39m, \u001b[33mInfinity\u001b[39m, \u001b[33mInfinity\u001b[39m, \u001b[33mInfinity\u001b[39m, \u001b[33mInfinity\u001b[39m, \u001b[33mInfinity\u001b[39m,\n",
            "    \u001b[33mInfinity\u001b[39m, \u001b[33mInfinity\u001b[39m, \u001b[33mInfinity\u001b[39m, \u001b[33mInfinity\u001b[39m, \u001b[33mInfinity\u001b[39m, \u001b[33mInfinity\u001b[39m,\n",
            "    \u001b[33mInfinity\u001b[39m, \u001b[33mInfinity\u001b[39m, \u001b[33mInfinity\u001b[39m, \u001b[33mInfinity\u001b[39m, \u001b[33mInfinity\u001b[39m, \u001b[33mInfinity\u001b[39m,\n",
            "    \u001b[33mInfinity\u001b[39m, \u001b[33mInfinity\u001b[39m, \u001b[33mInfinity\u001b[39m, \u001b[33mInfinity\u001b[39m, \u001b[33mInfinity\u001b[39m, \u001b[33mInfinity\u001b[39m,\n",
            "    \u001b[33mInfinity\u001b[39m, \u001b[33mInfinity\u001b[39m, \u001b[33mInfinity\u001b[39m, \u001b[33mInfinity\u001b[39m, \u001b[33mInfinity\u001b[39m, \u001b[33mInfinity\u001b[39m,\n",
            "    \u001b[33mInfinity\u001b[39m, \u001b[33mInfinity\u001b[39m, \u001b[33mInfinity\u001b[39m, \u001b[33mInfinity\u001b[39m, \u001b[33mInfinity\u001b[39m, \u001b[33mInfinity\u001b[39m,\n",
            "    \u001b[33mInfinity\u001b[39m, \u001b[33mInfinity\u001b[39m, \u001b[33mInfinity\u001b[39m, \u001b[33mInfinity\u001b[39m, \u001b[33mInfinity\u001b[39m, \u001b[33mInfinity\u001b[39m,\n",
            "    \u001b[33mInfinity\u001b[39m, \u001b[33mInfinity\u001b[39m, \u001b[33mInfinity\u001b[39m, \u001b[33mInfinity\u001b[39m, \u001b[33mInfinity\u001b[39m, \u001b[33mInfinity\u001b[39m,\n",
            "    \u001b[33mInfinity\u001b[39m, \u001b[33mInfinity\u001b[39m, \u001b[33mInfinity\u001b[39m, \u001b[33mInfinity\u001b[39m, \u001b[33mInfinity\u001b[39m, \u001b[33mInfinity\u001b[39m,\n",
            "    \u001b[33mInfinity\u001b[39m, \u001b[33mInfinity\u001b[39m, \u001b[33mInfinity\u001b[39m, \u001b[33mInfinity\u001b[39m, \u001b[33mInfinity\u001b[39m, \u001b[33mInfinity\u001b[39m,\n",
            "    \u001b[33mInfinity\u001b[39m, \u001b[33mInfinity\u001b[39m, \u001b[33mInfinity\u001b[39m, \u001b[33mInfinity\u001b[39m, \u001b[33mInfinity\u001b[39m, \u001b[33mInfinity\u001b[39m,\n",
            "    \u001b[33mInfinity\u001b[39m, \u001b[33mInfinity\u001b[39m, \u001b[33mInfinity\u001b[39m, \u001b[33mInfinity\u001b[39m, \u001b[33mInfinity\u001b[39m, \u001b[33mInfinity\u001b[39m,\n",
            "    \u001b[33mInfinity\u001b[39m, \u001b[33mInfinity\u001b[39m, \u001b[33mInfinity\u001b[39m, \u001b[33mInfinity\u001b[39m, \u001b[33mInfinity\u001b[39m, \u001b[33mInfinity\u001b[39m,\n",
            "    \u001b[33mInfinity\u001b[39m, \u001b[33mInfinity\u001b[39m, \u001b[33mInfinity\u001b[39m, \u001b[33mInfinity\u001b[39m, \u001b[33mInfinity\u001b[39m, \u001b[33mInfinity\u001b[39m,\n",
            "    \u001b[33mInfinity\u001b[39m, \u001b[33mInfinity\u001b[39m, \u001b[33mInfinity\u001b[39m, \u001b[33mInfinity\u001b[39m, \u001b[33mInfinity\u001b[39m, \u001b[33mInfinity\u001b[39m,\n",
            "    \u001b[33mInfinity\u001b[39m, \u001b[33mInfinity\u001b[39m, \u001b[33mInfinity\u001b[39m, \u001b[33mInfinity\u001b[39m,\n",
            "    ... 500 more items\n",
            "  ],\n",
            "  [\n",
            "    \u001b[33mInfinity\u001b[39m, \u001b[33mInfinity\u001b[39m, \u001b[33mInfinity\u001b[39m, \u001b[33mInfinity\u001b[39m, \u001b[33mInfinity\u001b[39m, \u001b[33mInfinity\u001b[39m,\n",
            "    \u001b[33mInfinity\u001b[39m, \u001b[33mInfinity\u001b[39m, \u001b[33mInfinity\u001b[39m, \u001b[33mInfinity\u001b[39m, \u001b[33mInfinity\u001b[39m, \u001b[33mInfinity\u001b[39m,\n",
            "    \u001b[33mInfinity\u001b[39m, \u001b[33mInfinity\u001b[39m, \u001b[33mInfinity\u001b[39m, \u001b[33mInfinity\u001b[39m, \u001b[33mInfinity\u001b[39m, \u001b[33mInfinity\u001b[39m,\n",
            "    \u001b[33mInfinity\u001b[39m, \u001b[33mInfinity\u001b[39m, \u001b[33mInfinity\u001b[39m, \u001b[33mInfinity\u001b[39m, \u001b[33mInfinity\u001b[39m, \u001b[33mInfinity\u001b[39m,\n",
            "    \u001b[33mInfinity\u001b[39m, \u001b[33mInfinity\u001b[39m, \u001b[33mInfinity\u001b[39m, \u001b[33mInfinity\u001b[39m, \u001b[33mInfinity\u001b[39m, \u001b[33mInfinity\u001b[39m,\n",
            "    \u001b[33mInfinity\u001b[39m, \u001b[33mInfinity\u001b[39m, \u001b[33mInfinity\u001b[39m, \u001b[33mInfinity\u001b[39m, \u001b[33mInfinity\u001b[39m, \u001b[33mInfinity\u001b[39m,\n",
            "    \u001b[33mInfinity\u001b[39m, \u001b[33mInfinity\u001b[39m, \u001b[33mInfinity\u001b[39m, \u001b[33mInfinity\u001b[39m, \u001b[33mInfinity\u001b[39m, \u001b[33mInfinity\u001b[39m,\n",
            "    \u001b[33mInfinity\u001b[39m, \u001b[33mInfinity\u001b[39m, \u001b[33mInfinity\u001b[39m, \u001b[33mInfinity\u001b[39m, \u001b[33mInfinity\u001b[39m, \u001b[33mInfinity\u001b[39m,\n",
            "    \u001b[33mInfinity\u001b[39m, \u001b[33mInfinity\u001b[39m, \u001b[33mInfinity\u001b[39m, \u001b[33mInfinity\u001b[39m, \u001b[33mInfinity\u001b[39m, \u001b[33mInfinity\u001b[39m,\n",
            "    \u001b[33mInfinity\u001b[39m, \u001b[33mInfinity\u001b[39m, \u001b[33mInfinity\u001b[39m, \u001b[33mInfinity\u001b[39m, \u001b[33mInfinity\u001b[39m, \u001b[33mInfinity\u001b[39m,\n",
            "    \u001b[33mInfinity\u001b[39m, \u001b[33mInfinity\u001b[39m, \u001b[33mInfinity\u001b[39m, \u001b[33mInfinity\u001b[39m, \u001b[33mInfinity\u001b[39m, \u001b[33mInfinity\u001b[39m,\n",
            "    \u001b[33mInfinity\u001b[39m, \u001b[33mInfinity\u001b[39m, \u001b[33mInfinity\u001b[39m, \u001b[33mInfinity\u001b[39m, \u001b[33mInfinity\u001b[39m, \u001b[33mInfinity\u001b[39m,\n",
            "    \u001b[33mInfinity\u001b[39m, \u001b[33mInfinity\u001b[39m, \u001b[33mInfinity\u001b[39m, \u001b[33mInfinity\u001b[39m, \u001b[33mInfinity\u001b[39m, \u001b[33mInfinity\u001b[39m,\n",
            "    \u001b[33mInfinity\u001b[39m, \u001b[33mInfinity\u001b[39m, \u001b[33mInfinity\u001b[39m, \u001b[33mInfinity\u001b[39m, \u001b[33mInfinity\u001b[39m, \u001b[33mInfinity\u001b[39m,\n",
            "    \u001b[33mInfinity\u001b[39m, \u001b[33mInfinity\u001b[39m, \u001b[33mInfinity\u001b[39m, \u001b[33mInfinity\u001b[39m, \u001b[33mInfinity\u001b[39m, \u001b[33mInfinity\u001b[39m,\n",
            "    \u001b[33mInfinity\u001b[39m, \u001b[33mInfinity\u001b[39m, \u001b[33mInfinity\u001b[39m, \u001b[33mInfinity\u001b[39m, \u001b[33mInfinity\u001b[39m, \u001b[33mInfinity\u001b[39m,\n",
            "    \u001b[33mInfinity\u001b[39m, \u001b[33mInfinity\u001b[39m, \u001b[33mInfinity\u001b[39m, \u001b[33mInfinity\u001b[39m,\n",
            "    ... 500 more items\n",
            "  ],\n",
            "  [\n",
            "    \u001b[33mInfinity\u001b[39m, \u001b[33mInfinity\u001b[39m, \u001b[33mInfinity\u001b[39m, \u001b[33mInfinity\u001b[39m, \u001b[33mInfinity\u001b[39m, \u001b[33mInfinity\u001b[39m,\n",
            "    \u001b[33mInfinity\u001b[39m, \u001b[33mInfinity\u001b[39m, \u001b[33mInfinity\u001b[39m, \u001b[33mInfinity\u001b[39m, \u001b[33mInfinity\u001b[39m, \u001b[33mInfinity\u001b[39m,\n",
            "    \u001b[33mInfinity\u001b[39m, \u001b[33mInfinity\u001b[39m, \u001b[33mInfinity\u001b[39m, \u001b[33mInfinity\u001b[39m, \u001b[33mInfinity\u001b[39m, \u001b[33mInfinity\u001b[39m,\n",
            "    \u001b[33mInfinity\u001b[39m, \u001b[33mInfinity\u001b[39m, \u001b[33mInfinity\u001b[39m, \u001b[33mInfinity\u001b[39m, \u001b[33mInfinity\u001b[39m, \u001b[33mInfinity\u001b[39m,\n",
            "    \u001b[33mInfinity\u001b[39m, \u001b[33mInfinity\u001b[39m, \u001b[33mInfinity\u001b[39m, \u001b[33mInfinity\u001b[39m, \u001b[33mInfinity\u001b[39m, \u001b[33mInfinity\u001b[39m,\n",
            "    \u001b[33mInfinity\u001b[39m, \u001b[33mInfinity\u001b[39m, \u001b[33mInfinity\u001b[39m, \u001b[33mInfinity\u001b[39m, \u001b[33mInfinity\u001b[39m, \u001b[33mInfinity\u001b[39m,\n",
            "    \u001b[33mInfinity\u001b[39m, \u001b[33mInfinity\u001b[39m, \u001b[33mInfinity\u001b[39m, \u001b[33mInfinity\u001b[39m, \u001b[33mInfinity\u001b[39m, \u001b[33mInfinity\u001b[39m,\n",
            "    \u001b[33mInfinity\u001b[39m, \u001b[33mInfinity\u001b[39m, \u001b[33mInfinity\u001b[39m, \u001b[33mInfinity\u001b[39m, \u001b[33mInfinity\u001b[39m, \u001b[33mInfinity\u001b[39m,\n",
            "    \u001b[33mInfinity\u001b[39m, \u001b[33mInfinity\u001b[39m, \u001b[33mInfinity\u001b[39m, \u001b[33mInfinity\u001b[39m, \u001b[33mInfinity\u001b[39m, \u001b[33mInfinity\u001b[39m,\n",
            "    \u001b[33mInfinity\u001b[39m, \u001b[33mInfinity\u001b[39m, \u001b[33mInfinity\u001b[39m, \u001b[33mInfinity\u001b[39m, \u001b[33mInfinity\u001b[39m, \u001b[33mInfinity\u001b[39m,\n",
            "    \u001b[33mInfinity\u001b[39m, \u001b[33mInfinity\u001b[39m, \u001b[33mInfinity\u001b[39m, \u001b[33mInfinity\u001b[39m, \u001b[33mInfinity\u001b[39m, \u001b[33mInfinity\u001b[39m,\n",
            "    \u001b[33mInfinity\u001b[39m, \u001b[33mInfinity\u001b[39m, \u001b[33mInfinity\u001b[39m, \u001b[33mInfinity\u001b[39m, \u001b[33mInfinity\u001b[39m, \u001b[33mInfinity\u001b[39m,\n",
            "    \u001b[33mInfinity\u001b[39m, \u001b[33mInfinity\u001b[39m, \u001b[33mInfinity\u001b[39m, \u001b[33mInfinity\u001b[39m, \u001b[33mInfinity\u001b[39m, \u001b[33mInfinity\u001b[39m,\n",
            "    \u001b[33mInfinity\u001b[39m, \u001b[33mInfinity\u001b[39m, \u001b[33mInfinity\u001b[39m, \u001b[33mInfinity\u001b[39m, \u001b[33mInfinity\u001b[39m, \u001b[33mInfinity\u001b[39m,\n",
            "    \u001b[33mInfinity\u001b[39m, \u001b[33mInfinity\u001b[39m, \u001b[33mInfinity\u001b[39m, \u001b[33mInfinity\u001b[39m, \u001b[33mInfinity\u001b[39m, \u001b[33mInfinity\u001b[39m,\n",
            "    \u001b[33mInfinity\u001b[39m, \u001b[33mInfinity\u001b[39m, \u001b[33mInfinity\u001b[39m, \u001b[33mInfinity\u001b[39m, \u001b[33mInfinity\u001b[39m, \u001b[33mInfinity\u001b[39m,\n",
            "    \u001b[33mInfinity\u001b[39m, \u001b[33mInfinity\u001b[39m, \u001b[33mInfinity\u001b[39m, \u001b[33mInfinity\u001b[39m,\n",
            "    ... 500 more items\n",
            "  ],\n",
            "  [\n",
            "    \u001b[33mInfinity\u001b[39m, \u001b[33mInfinity\u001b[39m, \u001b[33mInfinity\u001b[39m, \u001b[33mInfinity\u001b[39m, \u001b[33mInfinity\u001b[39m, \u001b[33mInfinity\u001b[39m,\n",
            "    \u001b[33mInfinity\u001b[39m, \u001b[33mInfinity\u001b[39m, \u001b[33mInfinity\u001b[39m, \u001b[33mInfinity\u001b[39m, \u001b[33mInfinity\u001b[39m, \u001b[33mInfinity\u001b[39m,\n",
            "    \u001b[33mInfinity\u001b[39m, \u001b[33mInfinity\u001b[39m, \u001b[33mInfinity\u001b[39m, \u001b[33mInfinity\u001b[39m, \u001b[33mInfinity\u001b[39m, \u001b[33mInfinity\u001b[39m,\n",
            "    \u001b[33mInfinity\u001b[39m, \u001b[33mInfinity\u001b[39m, \u001b[33mInfinity\u001b[39m, \u001b[33mInfinity\u001b[39m, \u001b[33mInfinity\u001b[39m, \u001b[33mInfinity\u001b[39m,\n",
            "    \u001b[33mInfinity\u001b[39m, \u001b[33mInfinity\u001b[39m, \u001b[33mInfinity\u001b[39m, \u001b[33mInfinity\u001b[39m, \u001b[33mInfinity\u001b[39m, \u001b[33mInfinity\u001b[39m,\n",
            "    \u001b[33mInfinity\u001b[39m, \u001b[33mInfinity\u001b[39m, \u001b[33mInfinity\u001b[39m, \u001b[33mInfinity\u001b[39m, \u001b[33mInfinity\u001b[39m, \u001b[33mInfinity\u001b[39m,\n",
            "    \u001b[33mInfinity\u001b[39m, \u001b[33mInfinity\u001b[39m, \u001b[33mInfinity\u001b[39m, \u001b[33mInfinity\u001b[39m, \u001b[33mInfinity\u001b[39m, \u001b[33mInfinity\u001b[39m,\n",
            "    \u001b[33mInfinity\u001b[39m, \u001b[33mInfinity\u001b[39m, \u001b[33mInfinity\u001b[39m, \u001b[33mInfinity\u001b[39m, \u001b[33mInfinity\u001b[39m, \u001b[33mInfinity\u001b[39m,\n",
            "    \u001b[33mInfinity\u001b[39m, \u001b[33mInfinity\u001b[39m, \u001b[33mInfinity\u001b[39m, \u001b[33mInfinity\u001b[39m, \u001b[33mInfinity\u001b[39m, \u001b[33mInfinity\u001b[39m,\n",
            "    \u001b[33mInfinity\u001b[39m, \u001b[33mInfinity\u001b[39m, \u001b[33mInfinity\u001b[39m, \u001b[33mInfinity\u001b[39m, \u001b[33mInfinity\u001b[39m, \u001b[33mInfinity\u001b[39m,\n",
            "    \u001b[33mInfinity\u001b[39m, \u001b[33mInfinity\u001b[39m, \u001b[33mInfinity\u001b[39m, \u001b[33mInfinity\u001b[39m, \u001b[33mInfinity\u001b[39m, \u001b[33mInfinity\u001b[39m,\n",
            "    \u001b[33mInfinity\u001b[39m, \u001b[33mInfinity\u001b[39m, \u001b[33mInfinity\u001b[39m, \u001b[33mInfinity\u001b[39m, \u001b[33mInfinity\u001b[39m, \u001b[33mInfinity\u001b[39m,\n",
            "    \u001b[33mInfinity\u001b[39m, \u001b[33mInfinity\u001b[39m, \u001b[33mInfinity\u001b[39m, \u001b[33mInfinity\u001b[39m, \u001b[33mInfinity\u001b[39m, \u001b[33mInfinity\u001b[39m,\n",
            "    \u001b[33mInfinity\u001b[39m, \u001b[33mInfinity\u001b[39m, \u001b[33mInfinity\u001b[39m, \u001b[33mInfinity\u001b[39m, \u001b[33mInfinity\u001b[39m, \u001b[33mInfinity\u001b[39m,\n",
            "    \u001b[33mInfinity\u001b[39m, \u001b[33mInfinity\u001b[39m, \u001b[33mInfinity\u001b[39m, \u001b[33mInfinity\u001b[39m, \u001b[33mInfinity\u001b[39m, \u001b[33mInfinity\u001b[39m,\n",
            "    \u001b[33mInfinity\u001b[39m, \u001b[33mInfinity\u001b[39m, \u001b[33mInfinity\u001b[39m, \u001b[33mInfinity\u001b[39m, \u001b[33mInfinity\u001b[39m, \u001b[33mInfinity\u001b[39m,\n",
            "    \u001b[33mInfinity\u001b[39m, \u001b[33mInfinity\u001b[39m, \u001b[33mInfinity\u001b[39m, \u001b[33mInfinity\u001b[39m,\n",
            "    ... 500 more items\n",
            "  ],\n",
            "  [\n",
            "    \u001b[33mInfinity\u001b[39m, \u001b[33mInfinity\u001b[39m, \u001b[33mInfinity\u001b[39m, \u001b[33mInfinity\u001b[39m, \u001b[33mInfinity\u001b[39m, \u001b[33mInfinity\u001b[39m,\n",
            "    \u001b[33mInfinity\u001b[39m, \u001b[33mInfinity\u001b[39m, \u001b[33mInfinity\u001b[39m, \u001b[33mInfinity\u001b[39m, \u001b[33mInfinity\u001b[39m, \u001b[33mInfinity\u001b[39m,\n",
            "    \u001b[33mInfinity\u001b[39m, \u001b[33mInfinity\u001b[39m, \u001b[33mInfinity\u001b[39m, \u001b[33mInfinity\u001b[39m, \u001b[33mInfinity\u001b[39m, \u001b[33mInfinity\u001b[39m,\n",
            "    \u001b[33mInfinity\u001b[39m, \u001b[33mInfinity\u001b[39m, \u001b[33mInfinity\u001b[39m, \u001b[33mInfinity\u001b[39m, \u001b[33mInfinity\u001b[39m, \u001b[33mInfinity\u001b[39m,\n",
            "    \u001b[33mInfinity\u001b[39m, \u001b[33mInfinity\u001b[39m, \u001b[33mInfinity\u001b[39m, \u001b[33mInfinity\u001b[39m, \u001b[33mInfinity\u001b[39m, \u001b[33mInfinity\u001b[39m,\n",
            "    \u001b[33mInfinity\u001b[39m, \u001b[33mInfinity\u001b[39m, \u001b[33mInfinity\u001b[39m, \u001b[33mInfinity\u001b[39m, \u001b[33mInfinity\u001b[39m, \u001b[33mInfinity\u001b[39m,\n",
            "    \u001b[33mInfinity\u001b[39m, \u001b[33mInfinity\u001b[39m, \u001b[33mInfinity\u001b[39m, \u001b[33mInfinity\u001b[39m, \u001b[33mInfinity\u001b[39m, \u001b[33mInfinity\u001b[39m,\n",
            "    \u001b[33mInfinity\u001b[39m, \u001b[33mInfinity\u001b[39m, \u001b[33mInfinity\u001b[39m, \u001b[33mInfinity\u001b[39m, \u001b[33mInfinity\u001b[39m, \u001b[33mInfinity\u001b[39m,\n",
            "    \u001b[33mInfinity\u001b[39m, \u001b[33mInfinity\u001b[39m, \u001b[33mInfinity\u001b[39m, \u001b[33mInfinity\u001b[39m, \u001b[33mInfinity\u001b[39m, \u001b[33mInfinity\u001b[39m,\n",
            "    \u001b[33mInfinity\u001b[39m, \u001b[33mInfinity\u001b[39m, \u001b[33mInfinity\u001b[39m, \u001b[33mInfinity\u001b[39m, \u001b[33mInfinity\u001b[39m, \u001b[33mInfinity\u001b[39m,\n",
            "    \u001b[33mInfinity\u001b[39m, \u001b[33mInfinity\u001b[39m, \u001b[33mInfinity\u001b[39m, \u001b[33mInfinity\u001b[39m, \u001b[33mInfinity\u001b[39m, \u001b[33mInfinity\u001b[39m,\n",
            "    \u001b[33mInfinity\u001b[39m, \u001b[33mInfinity\u001b[39m, \u001b[33mInfinity\u001b[39m, \u001b[33mInfinity\u001b[39m, \u001b[33mInfinity\u001b[39m, \u001b[33mInfinity\u001b[39m,\n",
            "    \u001b[33mInfinity\u001b[39m, \u001b[33mInfinity\u001b[39m, \u001b[33mInfinity\u001b[39m, \u001b[33mInfinity\u001b[39m, \u001b[33mInfinity\u001b[39m, \u001b[33mInfinity\u001b[39m,\n",
            "    \u001b[33mInfinity\u001b[39m, \u001b[33mInfinity\u001b[39m, \u001b[33mInfinity\u001b[39m, \u001b[33mInfinity\u001b[39m, \u001b[33mInfinity\u001b[39m, \u001b[33mInfinity\u001b[39m,\n",
            "    \u001b[33mInfinity\u001b[39m, \u001b[33mInfinity\u001b[39m, \u001b[33mInfinity\u001b[39m, \u001b[33mInfinity\u001b[39m, \u001b[33mInfinity\u001b[39m, \u001b[33mInfinity\u001b[39m,\n",
            "    \u001b[33mInfinity\u001b[39m, \u001b[33mInfinity\u001b[39m, \u001b[33mInfinity\u001b[39m, \u001b[33mInfinity\u001b[39m, \u001b[33mInfinity\u001b[39m, \u001b[33mInfinity\u001b[39m,\n",
            "    \u001b[33mInfinity\u001b[39m, \u001b[33mInfinity\u001b[39m, \u001b[33mInfinity\u001b[39m, \u001b[33mInfinity\u001b[39m,\n",
            "    ... 500 more items\n",
            "  ],\n",
            "  [\n",
            "    \u001b[33mInfinity\u001b[39m, \u001b[33mInfinity\u001b[39m, \u001b[33mInfinity\u001b[39m, \u001b[33mInfinity\u001b[39m, \u001b[33mInfinity\u001b[39m, \u001b[33mInfinity\u001b[39m,\n",
            "    \u001b[33mInfinity\u001b[39m, \u001b[33mInfinity\u001b[39m, \u001b[33mInfinity\u001b[39m, \u001b[33mInfinity\u001b[39m, \u001b[33mInfinity\u001b[39m, \u001b[33mInfinity\u001b[39m,\n",
            "    \u001b[33mInfinity\u001b[39m, \u001b[33mInfinity\u001b[39m, \u001b[33mInfinity\u001b[39m, \u001b[33mInfinity\u001b[39m, \u001b[33mInfinity\u001b[39m, \u001b[33mInfinity\u001b[39m,\n",
            "    \u001b[33mInfinity\u001b[39m, \u001b[33mInfinity\u001b[39m, \u001b[33mInfinity\u001b[39m, \u001b[33mInfinity\u001b[39m, \u001b[33mInfinity\u001b[39m, \u001b[33mInfinity\u001b[39m,\n",
            "    \u001b[33mInfinity\u001b[39m, \u001b[33mInfinity\u001b[39m, \u001b[33mInfinity\u001b[39m, \u001b[33mInfinity\u001b[39m, \u001b[33mInfinity\u001b[39m, \u001b[33mInfinity\u001b[39m,\n",
            "    \u001b[33mInfinity\u001b[39m, \u001b[33mInfinity\u001b[39m, \u001b[33mInfinity\u001b[39m, \u001b[33mInfinity\u001b[39m, \u001b[33mInfinity\u001b[39m, \u001b[33mInfinity\u001b[39m,\n",
            "    \u001b[33mInfinity\u001b[39m, \u001b[33mInfinity\u001b[39m, \u001b[33mInfinity\u001b[39m, \u001b[33mInfinity\u001b[39m, \u001b[33mInfinity\u001b[39m, \u001b[33mInfinity\u001b[39m,\n",
            "    \u001b[33mInfinity\u001b[39m, \u001b[33mInfinity\u001b[39m, \u001b[33mInfinity\u001b[39m, \u001b[33mInfinity\u001b[39m, \u001b[33mInfinity\u001b[39m, \u001b[33mInfinity\u001b[39m,\n",
            "    \u001b[33mInfinity\u001b[39m, \u001b[33mInfinity\u001b[39m, \u001b[33mInfinity\u001b[39m, \u001b[33mInfinity\u001b[39m, \u001b[33mInfinity\u001b[39m, \u001b[33mInfinity\u001b[39m,\n",
            "    \u001b[33mInfinity\u001b[39m, \u001b[33mInfinity\u001b[39m, \u001b[33mInfinity\u001b[39m, \u001b[33mInfinity\u001b[39m, \u001b[33mInfinity\u001b[39m, \u001b[33mInfinity\u001b[39m,\n",
            "    \u001b[33mInfinity\u001b[39m, \u001b[33mInfinity\u001b[39m, \u001b[33mInfinity\u001b[39m, \u001b[33mInfinity\u001b[39m, \u001b[33mInfinity\u001b[39m, \u001b[33mInfinity\u001b[39m,\n",
            "    \u001b[33mInfinity\u001b[39m, \u001b[33mInfinity\u001b[39m, \u001b[33mInfinity\u001b[39m, \u001b[33mInfinity\u001b[39m, \u001b[33mInfinity\u001b[39m, \u001b[33mInfinity\u001b[39m,\n",
            "    \u001b[33mInfinity\u001b[39m, \u001b[33mInfinity\u001b[39m, \u001b[33mInfinity\u001b[39m, \u001b[33mInfinity\u001b[39m, \u001b[33mInfinity\u001b[39m, \u001b[33mInfinity\u001b[39m,\n",
            "    \u001b[33mInfinity\u001b[39m, \u001b[33mInfinity\u001b[39m, \u001b[33mInfinity\u001b[39m, \u001b[33mInfinity\u001b[39m, \u001b[33mInfinity\u001b[39m, \u001b[33mInfinity\u001b[39m,\n",
            "    \u001b[33mInfinity\u001b[39m, \u001b[33mInfinity\u001b[39m, \u001b[33mInfinity\u001b[39m, \u001b[33mInfinity\u001b[39m, \u001b[33mInfinity\u001b[39m, \u001b[33mInfinity\u001b[39m,\n",
            "    \u001b[33mInfinity\u001b[39m, \u001b[33mInfinity\u001b[39m, \u001b[33mInfinity\u001b[39m, \u001b[33mInfinity\u001b[39m, \u001b[33mInfinity\u001b[39m, \u001b[33mInfinity\u001b[39m,\n",
            "    \u001b[33mInfinity\u001b[39m, \u001b[33mInfinity\u001b[39m, \u001b[33mInfinity\u001b[39m, \u001b[33mInfinity\u001b[39m,\n",
            "    ... 500 more items\n",
            "  ],\n",
            "  [\n",
            "    \u001b[33mInfinity\u001b[39m, \u001b[33mInfinity\u001b[39m, \u001b[33mInfinity\u001b[39m, \u001b[33mInfinity\u001b[39m, \u001b[33mInfinity\u001b[39m, \u001b[33mInfinity\u001b[39m,\n",
            "    \u001b[33mInfinity\u001b[39m, \u001b[33mInfinity\u001b[39m, \u001b[33mInfinity\u001b[39m, \u001b[33mInfinity\u001b[39m, \u001b[33mInfinity\u001b[39m, \u001b[33mInfinity\u001b[39m,\n",
            "    \u001b[33mInfinity\u001b[39m, \u001b[33mInfinity\u001b[39m, \u001b[33mInfinity\u001b[39m, \u001b[33mInfinity\u001b[39m, \u001b[33mInfinity\u001b[39m, \u001b[33mInfinity\u001b[39m,\n",
            "    \u001b[33mInfinity\u001b[39m, \u001b[33mInfinity\u001b[39m, \u001b[33mInfinity\u001b[39m, \u001b[33mInfinity\u001b[39m, \u001b[33mInfinity\u001b[39m, \u001b[33mInfinity\u001b[39m,\n",
            "    \u001b[33mInfinity\u001b[39m, \u001b[33mInfinity\u001b[39m, \u001b[33mInfinity\u001b[39m, \u001b[33mInfinity\u001b[39m, \u001b[33mInfinity\u001b[39m, \u001b[33mInfinity\u001b[39m,\n",
            "    \u001b[33mInfinity\u001b[39m, \u001b[33mInfinity\u001b[39m, \u001b[33mInfinity\u001b[39m, \u001b[33mInfinity\u001b[39m, \u001b[33mInfinity\u001b[39m, \u001b[33mInfinity\u001b[39m,\n",
            "    \u001b[33mInfinity\u001b[39m, \u001b[33mInfinity\u001b[39m, \u001b[33mInfinity\u001b[39m, \u001b[33mInfinity\u001b[39m, \u001b[33mInfinity\u001b[39m, \u001b[33mInfinity\u001b[39m,\n",
            "    \u001b[33mInfinity\u001b[39m, \u001b[33mInfinity\u001b[39m, \u001b[33mInfinity\u001b[39m, \u001b[33mInfinity\u001b[39m, \u001b[33mInfinity\u001b[39m, \u001b[33mInfinity\u001b[39m,\n",
            "    \u001b[33mInfinity\u001b[39m, \u001b[33mInfinity\u001b[39m, \u001b[33mInfinity\u001b[39m, \u001b[33mInfinity\u001b[39m, \u001b[33mInfinity\u001b[39m, \u001b[33mInfinity\u001b[39m,\n",
            "    \u001b[33mInfinity\u001b[39m, \u001b[33mInfinity\u001b[39m, \u001b[33mInfinity\u001b[39m, \u001b[33mInfinity\u001b[39m, \u001b[33mInfinity\u001b[39m, \u001b[33mInfinity\u001b[39m,\n",
            "    \u001b[33mInfinity\u001b[39m, \u001b[33mInfinity\u001b[39m, \u001b[33mInfinity\u001b[39m, \u001b[33mInfinity\u001b[39m, \u001b[33mInfinity\u001b[39m, \u001b[33mInfinity\u001b[39m,\n",
            "    \u001b[33mInfinity\u001b[39m, \u001b[33mInfinity\u001b[39m, \u001b[33mInfinity\u001b[39m, \u001b[33mInfinity\u001b[39m, \u001b[33mInfinity\u001b[39m, \u001b[33mInfinity\u001b[39m,\n",
            "    \u001b[33mInfinity\u001b[39m, \u001b[33mInfinity\u001b[39m, \u001b[33mInfinity\u001b[39m, \u001b[33mInfinity\u001b[39m, \u001b[33mInfinity\u001b[39m, \u001b[33mInfinity\u001b[39m,\n",
            "    \u001b[33mInfinity\u001b[39m, \u001b[33mInfinity\u001b[39m, \u001b[33mInfinity\u001b[39m, \u001b[33mInfinity\u001b[39m, \u001b[33mInfinity\u001b[39m, \u001b[33mInfinity\u001b[39m,\n",
            "    \u001b[33mInfinity\u001b[39m, \u001b[33mInfinity\u001b[39m, \u001b[33mInfinity\u001b[39m, \u001b[33mInfinity\u001b[39m, \u001b[33mInfinity\u001b[39m, \u001b[33mInfinity\u001b[39m,\n",
            "    \u001b[33mInfinity\u001b[39m, \u001b[33mInfinity\u001b[39m, \u001b[33mInfinity\u001b[39m, \u001b[33mInfinity\u001b[39m, \u001b[33mInfinity\u001b[39m, \u001b[33mInfinity\u001b[39m,\n",
            "    \u001b[33mInfinity\u001b[39m, \u001b[33mInfinity\u001b[39m, \u001b[33mInfinity\u001b[39m, \u001b[33mInfinity\u001b[39m,\n",
            "    ... 500 more items\n",
            "  ],\n",
            "  [\n",
            "    \u001b[33mInfinity\u001b[39m, \u001b[33mInfinity\u001b[39m, \u001b[33mInfinity\u001b[39m, \u001b[33mInfinity\u001b[39m, \u001b[33mInfinity\u001b[39m, \u001b[33mInfinity\u001b[39m,\n",
            "    \u001b[33mInfinity\u001b[39m, \u001b[33mInfinity\u001b[39m, \u001b[33mInfinity\u001b[39m, \u001b[33mInfinity\u001b[39m, \u001b[33mInfinity\u001b[39m, \u001b[33mInfinity\u001b[39m,\n",
            "    \u001b[33mInfinity\u001b[39m, \u001b[33mInfinity\u001b[39m, \u001b[33mInfinity\u001b[39m, \u001b[33mInfinity\u001b[39m, \u001b[33mInfinity\u001b[39m, \u001b[33mInfinity\u001b[39m,\n",
            "    \u001b[33mInfinity\u001b[39m, \u001b[33mInfinity\u001b[39m, \u001b[33mInfinity\u001b[39m, \u001b[33mInfinity\u001b[39m, \u001b[33mInfinity\u001b[39m, \u001b[33mInfinity\u001b[39m,\n",
            "    \u001b[33mInfinity\u001b[39m, \u001b[33mInfinity\u001b[39m, \u001b[33mInfinity\u001b[39m, \u001b[33mInfinity\u001b[39m, \u001b[33mInfinity\u001b[39m, \u001b[33mInfinity\u001b[39m,\n",
            "    \u001b[33mInfinity\u001b[39m, \u001b[33mInfinity\u001b[39m, \u001b[33mInfinity\u001b[39m, \u001b[33mInfinity\u001b[39m, \u001b[33mInfinity\u001b[39m, \u001b[33mInfinity\u001b[39m,\n",
            "    \u001b[33mInfinity\u001b[39m, \u001b[33mInfinity\u001b[39m, \u001b[33mInfinity\u001b[39m, \u001b[33mInfinity\u001b[39m, \u001b[33mInfinity\u001b[39m, \u001b[33mInfinity\u001b[39m,\n",
            "    \u001b[33mInfinity\u001b[39m, \u001b[33mInfinity\u001b[39m, \u001b[33mInfinity\u001b[39m, \u001b[33mInfinity\u001b[39m, \u001b[33mInfinity\u001b[39m, \u001b[33mInfinity\u001b[39m,\n",
            "    \u001b[33mInfinity\u001b[39m, \u001b[33mInfinity\u001b[39m, \u001b[33mInfinity\u001b[39m, \u001b[33mInfinity\u001b[39m, \u001b[33mInfinity\u001b[39m, \u001b[33mInfinity\u001b[39m,\n",
            "    \u001b[33mInfinity\u001b[39m, \u001b[33mInfinity\u001b[39m, \u001b[33mInfinity\u001b[39m, \u001b[33mInfinity\u001b[39m, \u001b[33mInfinity\u001b[39m, \u001b[33mInfinity\u001b[39m,\n",
            "    \u001b[33mInfinity\u001b[39m, \u001b[33mInfinity\u001b[39m, \u001b[33mInfinity\u001b[39m, \u001b[33mInfinity\u001b[39m, \u001b[33mInfinity\u001b[39m, \u001b[33mInfinity\u001b[39m,\n",
            "    \u001b[33mInfinity\u001b[39m, \u001b[33mInfinity\u001b[39m, \u001b[33mInfinity\u001b[39m, \u001b[33mInfinity\u001b[39m, \u001b[33mInfinity\u001b[39m, \u001b[33mInfinity\u001b[39m,\n",
            "    \u001b[33mInfinity\u001b[39m, \u001b[33mInfinity\u001b[39m, \u001b[33mInfinity\u001b[39m, \u001b[33mInfinity\u001b[39m, \u001b[33mInfinity\u001b[39m, \u001b[33mInfinity\u001b[39m,\n",
            "    \u001b[33mInfinity\u001b[39m, \u001b[33mInfinity\u001b[39m, \u001b[33mInfinity\u001b[39m, \u001b[33mInfinity\u001b[39m, \u001b[33mInfinity\u001b[39m, \u001b[33mInfinity\u001b[39m,\n",
            "    \u001b[33mInfinity\u001b[39m, \u001b[33mInfinity\u001b[39m, \u001b[33mInfinity\u001b[39m, \u001b[33mInfinity\u001b[39m, \u001b[33mInfinity\u001b[39m, \u001b[33mInfinity\u001b[39m,\n",
            "    \u001b[33mInfinity\u001b[39m, \u001b[33mInfinity\u001b[39m, \u001b[33mInfinity\u001b[39m, \u001b[33mInfinity\u001b[39m, \u001b[33mInfinity\u001b[39m, \u001b[33mInfinity\u001b[39m,\n",
            "    \u001b[33mInfinity\u001b[39m, \u001b[33mInfinity\u001b[39m, \u001b[33mInfinity\u001b[39m, \u001b[33mInfinity\u001b[39m,\n",
            "    ... 500 more items\n",
            "  ],\n",
            "  [\n",
            "    \u001b[33mInfinity\u001b[39m, \u001b[33mInfinity\u001b[39m, \u001b[33mInfinity\u001b[39m, \u001b[33mInfinity\u001b[39m, \u001b[33mInfinity\u001b[39m, \u001b[33mInfinity\u001b[39m,\n",
            "    \u001b[33mInfinity\u001b[39m, \u001b[33mInfinity\u001b[39m, \u001b[33mInfinity\u001b[39m, \u001b[33mInfinity\u001b[39m, \u001b[33mInfinity\u001b[39m, \u001b[33mInfinity\u001b[39m,\n",
            "    \u001b[33mInfinity\u001b[39m, \u001b[33mInfinity\u001b[39m, \u001b[33mInfinity\u001b[39m, \u001b[33mInfinity\u001b[39m, \u001b[33mInfinity\u001b[39m, \u001b[33mInfinity\u001b[39m,\n",
            "    \u001b[33mInfinity\u001b[39m, \u001b[33mInfinity\u001b[39m, \u001b[33mInfinity\u001b[39m, \u001b[33mInfinity\u001b[39m, \u001b[33mInfinity\u001b[39m, \u001b[33mInfinity\u001b[39m,\n",
            "    \u001b[33mInfinity\u001b[39m, \u001b[33mInfinity\u001b[39m, \u001b[33mInfinity\u001b[39m, \u001b[33mInfinity\u001b[39m, \u001b[33mInfinity\u001b[39m, \u001b[33mInfinity\u001b[39m,\n",
            "    \u001b[33mInfinity\u001b[39m, \u001b[33mInfinity\u001b[39m, \u001b[33mInfinity\u001b[39m, \u001b[33mInfinity\u001b[39m, \u001b[33mInfinity\u001b[39m, \u001b[33mInfinity\u001b[39m,\n",
            "    \u001b[33mInfinity\u001b[39m, \u001b[33mInfinity\u001b[39m, \u001b[33mInfinity\u001b[39m, \u001b[33mInfinity\u001b[39m, \u001b[33mInfinity\u001b[39m, \u001b[33mInfinity\u001b[39m,\n",
            "    \u001b[33mInfinity\u001b[39m, \u001b[33mInfinity\u001b[39m, \u001b[33mInfinity\u001b[39m, \u001b[33mInfinity\u001b[39m, \u001b[33mInfinity\u001b[39m, \u001b[33mInfinity\u001b[39m,\n",
            "    \u001b[33mInfinity\u001b[39m, \u001b[33mInfinity\u001b[39m, \u001b[33mInfinity\u001b[39m, \u001b[33mInfinity\u001b[39m, \u001b[33mInfinity\u001b[39m, \u001b[33mInfinity\u001b[39m,\n",
            "    \u001b[33mInfinity\u001b[39m, \u001b[33mInfinity\u001b[39m, \u001b[33mInfinity\u001b[39m, \u001b[33mInfinity\u001b[39m, \u001b[33mInfinity\u001b[39m, \u001b[33mInfinity\u001b[39m,\n",
            "    \u001b[33mInfinity\u001b[39m, \u001b[33mInfinity\u001b[39m, \u001b[33mInfinity\u001b[39m, \u001b[33mInfinity\u001b[39m, \u001b[33mInfinity\u001b[39m, \u001b[33mInfinity\u001b[39m,\n",
            "    \u001b[33mInfinity\u001b[39m, \u001b[33mInfinity\u001b[39m, \u001b[33mInfinity\u001b[39m, \u001b[33mInfinity\u001b[39m, \u001b[33mInfinity\u001b[39m, \u001b[33mInfinity\u001b[39m,\n",
            "    \u001b[33mInfinity\u001b[39m, \u001b[33mInfinity\u001b[39m, \u001b[33mInfinity\u001b[39m, \u001b[33mInfinity\u001b[39m, \u001b[33mInfinity\u001b[39m, \u001b[33mInfinity\u001b[39m,\n",
            "    \u001b[33mInfinity\u001b[39m, \u001b[33mInfinity\u001b[39m, \u001b[33mInfinity\u001b[39m, \u001b[33mInfinity\u001b[39m, \u001b[33mInfinity\u001b[39m, \u001b[33mInfinity\u001b[39m,\n",
            "    \u001b[33mInfinity\u001b[39m, \u001b[33mInfinity\u001b[39m, \u001b[33mInfinity\u001b[39m, \u001b[33mInfinity\u001b[39m, \u001b[33mInfinity\u001b[39m, \u001b[33mInfinity\u001b[39m,\n",
            "    \u001b[33mInfinity\u001b[39m, \u001b[33mInfinity\u001b[39m, \u001b[33mInfinity\u001b[39m, \u001b[33mInfinity\u001b[39m, \u001b[33mInfinity\u001b[39m, \u001b[33mInfinity\u001b[39m,\n",
            "    \u001b[33mInfinity\u001b[39m, \u001b[33mInfinity\u001b[39m, \u001b[33mInfinity\u001b[39m, \u001b[33mInfinity\u001b[39m,\n",
            "    ... 500 more items\n",
            "  ],\n",
            "  [\n",
            "    \u001b[33mInfinity\u001b[39m, \u001b[33mInfinity\u001b[39m, \u001b[33mInfinity\u001b[39m, \u001b[33mInfinity\u001b[39m, \u001b[33mInfinity\u001b[39m, \u001b[33mInfinity\u001b[39m,\n",
            "    \u001b[33mInfinity\u001b[39m, \u001b[33mInfinity\u001b[39m, \u001b[33mInfinity\u001b[39m, \u001b[33mInfinity\u001b[39m, \u001b[33mInfinity\u001b[39m, \u001b[33mInfinity\u001b[39m,\n",
            "    \u001b[33mInfinity\u001b[39m, \u001b[33mInfinity\u001b[39m, \u001b[33mInfinity\u001b[39m, \u001b[33mInfinity\u001b[39m, \u001b[33mInfinity\u001b[39m, \u001b[33mInfinity\u001b[39m,\n",
            "    \u001b[33mInfinity\u001b[39m, \u001b[33mInfinity\u001b[39m, \u001b[33mInfinity\u001b[39m, \u001b[33mInfinity\u001b[39m, \u001b[33mInfinity\u001b[39m, \u001b[33mInfinity\u001b[39m,\n",
            "    \u001b[33mInfinity\u001b[39m, \u001b[33mInfinity\u001b[39m, \u001b[33mInfinity\u001b[39m, \u001b[33mInfinity\u001b[39m, \u001b[33mInfinity\u001b[39m, \u001b[33mInfinity\u001b[39m,\n",
            "    \u001b[33mInfinity\u001b[39m, \u001b[33mInfinity\u001b[39m, \u001b[33mInfinity\u001b[39m, \u001b[33mInfinity\u001b[39m, \u001b[33mInfinity\u001b[39m, \u001b[33mInfinity\u001b[39m,\n",
            "    \u001b[33mInfinity\u001b[39m, \u001b[33mInfinity\u001b[39m, \u001b[33mInfinity\u001b[39m, \u001b[33mInfinity\u001b[39m, \u001b[33mInfinity\u001b[39m, \u001b[33mInfinity\u001b[39m,\n",
            "    \u001b[33mInfinity\u001b[39m, \u001b[33mInfinity\u001b[39m, \u001b[33mInfinity\u001b[39m, \u001b[33mInfinity\u001b[39m, \u001b[33mInfinity\u001b[39m, \u001b[33mInfinity\u001b[39m,\n",
            "    \u001b[33mInfinity\u001b[39m, \u001b[33mInfinity\u001b[39m, \u001b[33mInfinity\u001b[39m, \u001b[33mInfinity\u001b[39m, \u001b[33mInfinity\u001b[39m, \u001b[33mInfinity\u001b[39m,\n",
            "    \u001b[33mInfinity\u001b[39m, \u001b[33mInfinity\u001b[39m, \u001b[33mInfinity\u001b[39m, \u001b[33mInfinity\u001b[39m, \u001b[33mInfinity\u001b[39m, \u001b[33mInfinity\u001b[39m,\n",
            "    \u001b[33mInfinity\u001b[39m, \u001b[33mInfinity\u001b[39m, \u001b[33mInfinity\u001b[39m, \u001b[33mInfinity\u001b[39m, \u001b[33mInfinity\u001b[39m, \u001b[33mInfinity\u001b[39m,\n",
            "    \u001b[33mInfinity\u001b[39m, \u001b[33mInfinity\u001b[39m, \u001b[33mInfinity\u001b[39m, \u001b[33mInfinity\u001b[39m, \u001b[33mInfinity\u001b[39m, \u001b[33mInfinity\u001b[39m,\n",
            "    \u001b[33mInfinity\u001b[39m, \u001b[33mInfinity\u001b[39m, \u001b[33mInfinity\u001b[39m, \u001b[33mInfinity\u001b[39m, \u001b[33mInfinity\u001b[39m, \u001b[33mInfinity\u001b[39m,\n",
            "    \u001b[33mInfinity\u001b[39m, \u001b[33mInfinity\u001b[39m, \u001b[33mInfinity\u001b[39m, \u001b[33mInfinity\u001b[39m, \u001b[33mInfinity\u001b[39m, \u001b[33mInfinity\u001b[39m,\n",
            "    \u001b[33mInfinity\u001b[39m, \u001b[33mInfinity\u001b[39m, \u001b[33mInfinity\u001b[39m, \u001b[33mInfinity\u001b[39m, \u001b[33mInfinity\u001b[39m, \u001b[33mInfinity\u001b[39m,\n",
            "    \u001b[33mInfinity\u001b[39m, \u001b[33mInfinity\u001b[39m, \u001b[33mInfinity\u001b[39m, \u001b[33mInfinity\u001b[39m, \u001b[33mInfinity\u001b[39m, \u001b[33mInfinity\u001b[39m,\n",
            "    \u001b[33mInfinity\u001b[39m, \u001b[33mInfinity\u001b[39m, \u001b[33mInfinity\u001b[39m, \u001b[33mInfinity\u001b[39m,\n",
            "    ... 500 more items\n",
            "  ],\n",
            "  [\n",
            "    \u001b[33mInfinity\u001b[39m, \u001b[33mInfinity\u001b[39m, \u001b[33mInfinity\u001b[39m, \u001b[33mInfinity\u001b[39m, \u001b[33mInfinity\u001b[39m, \u001b[33mInfinity\u001b[39m,\n",
            "    \u001b[33mInfinity\u001b[39m, \u001b[33mInfinity\u001b[39m, \u001b[33mInfinity\u001b[39m, \u001b[33mInfinity\u001b[39m, \u001b[33mInfinity\u001b[39m, \u001b[33mInfinity\u001b[39m,\n",
            "    \u001b[33mInfinity\u001b[39m, \u001b[33mInfinity\u001b[39m, \u001b[33mInfinity\u001b[39m, \u001b[33mInfinity\u001b[39m, \u001b[33mInfinity\u001b[39m, \u001b[33mInfinity\u001b[39m,\n",
            "    \u001b[33mInfinity\u001b[39m, \u001b[33mInfinity\u001b[39m, \u001b[33mInfinity\u001b[39m, \u001b[33mInfinity\u001b[39m, \u001b[33mInfinity\u001b[39m, \u001b[33mInfinity\u001b[39m,\n",
            "    \u001b[33mInfinity\u001b[39m, \u001b[33mInfinity\u001b[39m, \u001b[33mInfinity\u001b[39m, \u001b[33mInfinity\u001b[39m, \u001b[33mInfinity\u001b[39m, \u001b[33mInfinity\u001b[39m,\n",
            "    \u001b[33mInfinity\u001b[39m, \u001b[33mInfinity\u001b[39m, \u001b[33mInfinity\u001b[39m, \u001b[33mInfinity\u001b[39m, \u001b[33mInfinity\u001b[39m, \u001b[33mInfinity\u001b[39m,\n",
            "    \u001b[33mInfinity\u001b[39m, \u001b[33mInfinity\u001b[39m, \u001b[33mInfinity\u001b[39m, \u001b[33mInfinity\u001b[39m, \u001b[33mInfinity\u001b[39m, \u001b[33mInfinity\u001b[39m,\n",
            "    \u001b[33mInfinity\u001b[39m, \u001b[33mInfinity\u001b[39m, \u001b[33mInfinity\u001b[39m, \u001b[33mInfinity\u001b[39m, \u001b[33mInfinity\u001b[39m, \u001b[33mInfinity\u001b[39m,\n",
            "    \u001b[33mInfinity\u001b[39m, \u001b[33mInfinity\u001b[39m, \u001b[33mInfinity\u001b[39m, \u001b[33mInfinity\u001b[39m, \u001b[33mInfinity\u001b[39m, \u001b[33mInfinity\u001b[39m,\n",
            "    \u001b[33mInfinity\u001b[39m, \u001b[33mInfinity\u001b[39m, \u001b[33mInfinity\u001b[39m, \u001b[33mInfinity\u001b[39m, \u001b[33mInfinity\u001b[39m, \u001b[33mInfinity\u001b[39m,\n",
            "    \u001b[33mInfinity\u001b[39m, \u001b[33mInfinity\u001b[39m, \u001b[33mInfinity\u001b[39m, \u001b[33mInfinity\u001b[39m, \u001b[33mInfinity\u001b[39m, \u001b[33mInfinity\u001b[39m,\n",
            "    \u001b[33mInfinity\u001b[39m, \u001b[33mInfinity\u001b[39m, \u001b[33mInfinity\u001b[39m, \u001b[33mInfinity\u001b[39m, \u001b[33mInfinity\u001b[39m, \u001b[33mInfinity\u001b[39m,\n",
            "    \u001b[33mInfinity\u001b[39m, \u001b[33mInfinity\u001b[39m, \u001b[33mInfinity\u001b[39m, \u001b[33mInfinity\u001b[39m, \u001b[33mInfinity\u001b[39m, \u001b[33mInfinity\u001b[39m,\n",
            "    \u001b[33mInfinity\u001b[39m, \u001b[33mInfinity\u001b[39m, \u001b[33mInfinity\u001b[39m, \u001b[33mInfinity\u001b[39m, \u001b[33mInfinity\u001b[39m, \u001b[33mInfinity\u001b[39m,\n",
            "    \u001b[33mInfinity\u001b[39m, \u001b[33mInfinity\u001b[39m, \u001b[33mInfinity\u001b[39m, \u001b[33mInfinity\u001b[39m, \u001b[33mInfinity\u001b[39m, \u001b[33mInfinity\u001b[39m,\n",
            "    \u001b[33mInfinity\u001b[39m, \u001b[33mInfinity\u001b[39m, \u001b[33mInfinity\u001b[39m, \u001b[33mInfinity\u001b[39m, \u001b[33mInfinity\u001b[39m, \u001b[33mInfinity\u001b[39m,\n",
            "    \u001b[33mInfinity\u001b[39m, \u001b[33mInfinity\u001b[39m, \u001b[33mInfinity\u001b[39m, \u001b[33mInfinity\u001b[39m,\n",
            "    ... 500 more items\n",
            "  ],\n",
            "  [\n",
            "    \u001b[33mInfinity\u001b[39m, \u001b[33mInfinity\u001b[39m, \u001b[33mInfinity\u001b[39m, \u001b[33mInfinity\u001b[39m, \u001b[33mInfinity\u001b[39m, \u001b[33mInfinity\u001b[39m,\n",
            "    \u001b[33mInfinity\u001b[39m, \u001b[33mInfinity\u001b[39m, \u001b[33mInfinity\u001b[39m, \u001b[33mInfinity\u001b[39m, \u001b[33mInfinity\u001b[39m, \u001b[33mInfinity\u001b[39m,\n",
            "    \u001b[33mInfinity\u001b[39m, \u001b[33mInfinity\u001b[39m, \u001b[33mInfinity\u001b[39m, \u001b[33mInfinity\u001b[39m, \u001b[33mInfinity\u001b[39m, \u001b[33mInfinity\u001b[39m,\n",
            "    \u001b[33mInfinity\u001b[39m, \u001b[33mInfinity\u001b[39m, \u001b[33mInfinity\u001b[39m, \u001b[33mInfinity\u001b[39m, \u001b[33mInfinity\u001b[39m, \u001b[33mInfinity\u001b[39m,\n",
            "    \u001b[33mInfinity\u001b[39m, \u001b[33mInfinity\u001b[39m, \u001b[33mInfinity\u001b[39m, \u001b[33mInfinity\u001b[39m, \u001b[33mInfinity\u001b[39m, \u001b[33mInfinity\u001b[39m,\n",
            "    \u001b[33mInfinity\u001b[39m, \u001b[33mInfinity\u001b[39m, \u001b[33mInfinity\u001b[39m, \u001b[33mInfinity\u001b[39m, \u001b[33mInfinity\u001b[39m, \u001b[33mInfinity\u001b[39m,\n",
            "    \u001b[33mInfinity\u001b[39m, \u001b[33mInfinity\u001b[39m, \u001b[33mInfinity\u001b[39m, \u001b[33mInfinity\u001b[39m, \u001b[33mInfinity\u001b[39m, \u001b[33mInfinity\u001b[39m,\n",
            "    \u001b[33mInfinity\u001b[39m, \u001b[33mInfinity\u001b[39m, \u001b[33mInfinity\u001b[39m, \u001b[33mInfinity\u001b[39m, \u001b[33mInfinity\u001b[39m, \u001b[33mInfinity\u001b[39m,\n",
            "    \u001b[33mInfinity\u001b[39m, \u001b[33mInfinity\u001b[39m, \u001b[33mInfinity\u001b[39m, \u001b[33mInfinity\u001b[39m, \u001b[33mInfinity\u001b[39m, \u001b[33mInfinity\u001b[39m,\n",
            "    \u001b[33mInfinity\u001b[39m, \u001b[33mInfinity\u001b[39m, \u001b[33mInfinity\u001b[39m, \u001b[33mInfinity\u001b[39m, \u001b[33mInfinity\u001b[39m, \u001b[33mInfinity\u001b[39m,\n",
            "    \u001b[33mInfinity\u001b[39m, \u001b[33mInfinity\u001b[39m, \u001b[33mInfinity\u001b[39m, \u001b[33mInfinity\u001b[39m, \u001b[33mInfinity\u001b[39m, \u001b[33mInfinity\u001b[39m,\n",
            "    \u001b[33mInfinity\u001b[39m, \u001b[33mInfinity\u001b[39m, \u001b[33mInfinity\u001b[39m, \u001b[33mInfinity\u001b[39m, \u001b[33mInfinity\u001b[39m, \u001b[33mInfinity\u001b[39m,\n",
            "    \u001b[33mInfinity\u001b[39m, \u001b[33mInfinity\u001b[39m, \u001b[33mInfinity\u001b[39m, \u001b[33mInfinity\u001b[39m, \u001b[33mInfinity\u001b[39m, \u001b[33mInfinity\u001b[39m,\n",
            "    \u001b[33mInfinity\u001b[39m, \u001b[33mInfinity\u001b[39m, \u001b[33mInfinity\u001b[39m, \u001b[33mInfinity\u001b[39m, \u001b[33mInfinity\u001b[39m, \u001b[33mInfinity\u001b[39m,\n",
            "    \u001b[33mInfinity\u001b[39m, \u001b[33mInfinity\u001b[39m, \u001b[33mInfinity\u001b[39m, \u001b[33mInfinity\u001b[39m, \u001b[33mInfinity\u001b[39m, \u001b[33mInfinity\u001b[39m,\n",
            "    \u001b[33mInfinity\u001b[39m, \u001b[33mInfinity\u001b[39m, \u001b[33mInfinity\u001b[39m, \u001b[33mInfinity\u001b[39m, \u001b[33mInfinity\u001b[39m, \u001b[33mInfinity\u001b[39m,\n",
            "    \u001b[33mInfinity\u001b[39m, \u001b[33mInfinity\u001b[39m, \u001b[33mInfinity\u001b[39m, \u001b[33mInfinity\u001b[39m,\n",
            "    ... 500 more items\n",
            "  ],\n",
            "  [\n",
            "    \u001b[33mInfinity\u001b[39m, \u001b[33mInfinity\u001b[39m, \u001b[33mInfinity\u001b[39m, \u001b[33mInfinity\u001b[39m, \u001b[33mInfinity\u001b[39m, \u001b[33mInfinity\u001b[39m,\n",
            "    \u001b[33mInfinity\u001b[39m, \u001b[33mInfinity\u001b[39m, \u001b[33mInfinity\u001b[39m, \u001b[33mInfinity\u001b[39m, \u001b[33mInfinity\u001b[39m, \u001b[33mInfinity\u001b[39m,\n",
            "    \u001b[33mInfinity\u001b[39m, \u001b[33mInfinity\u001b[39m, \u001b[33mInfinity\u001b[39m, \u001b[33mInfinity\u001b[39m, \u001b[33mInfinity\u001b[39m, \u001b[33mInfinity\u001b[39m,\n",
            "    \u001b[33mInfinity\u001b[39m, \u001b[33mInfinity\u001b[39m, \u001b[33mInfinity\u001b[39m, \u001b[33mInfinity\u001b[39m, \u001b[33mInfinity\u001b[39m, \u001b[33mInfinity\u001b[39m,\n",
            "    \u001b[33mInfinity\u001b[39m, \u001b[33mInfinity\u001b[39m, \u001b[33mInfinity\u001b[39m, \u001b[33mInfinity\u001b[39m, \u001b[33mInfinity\u001b[39m, \u001b[33mInfinity\u001b[39m,\n",
            "    \u001b[33mInfinity\u001b[39m, \u001b[33mInfinity\u001b[39m, \u001b[33mInfinity\u001b[39m, \u001b[33mInfinity\u001b[39m, \u001b[33mInfinity\u001b[39m, \u001b[33mInfinity\u001b[39m,\n",
            "    \u001b[33mInfinity\u001b[39m, \u001b[33mInfinity\u001b[39m, \u001b[33mInfinity\u001b[39m, \u001b[33mInfinity\u001b[39m, \u001b[33mInfinity\u001b[39m, \u001b[33mInfinity\u001b[39m,\n",
            "    \u001b[33mInfinity\u001b[39m, \u001b[33mInfinity\u001b[39m, \u001b[33mInfinity\u001b[39m, \u001b[33mInfinity\u001b[39m, \u001b[33mInfinity\u001b[39m, \u001b[33mInfinity\u001b[39m,\n",
            "    \u001b[33mInfinity\u001b[39m, \u001b[33mInfinity\u001b[39m, \u001b[33mInfinity\u001b[39m, \u001b[33mInfinity\u001b[39m, \u001b[33mInfinity\u001b[39m, \u001b[33mInfinity\u001b[39m,\n",
            "    \u001b[33mInfinity\u001b[39m, \u001b[33mInfinity\u001b[39m, \u001b[33mInfinity\u001b[39m, \u001b[33mInfinity\u001b[39m, \u001b[33mInfinity\u001b[39m, \u001b[33mInfinity\u001b[39m,\n",
            "    \u001b[33mInfinity\u001b[39m, \u001b[33mInfinity\u001b[39m, \u001b[33mInfinity\u001b[39m, \u001b[33mInfinity\u001b[39m, \u001b[33mInfinity\u001b[39m, \u001b[33mInfinity\u001b[39m,\n",
            "    \u001b[33mInfinity\u001b[39m, \u001b[33mInfinity\u001b[39m, \u001b[33mInfinity\u001b[39m, \u001b[33mInfinity\u001b[39m, \u001b[33mInfinity\u001b[39m, \u001b[33mInfinity\u001b[39m,\n",
            "    \u001b[33mInfinity\u001b[39m, \u001b[33mInfinity\u001b[39m, \u001b[33mInfinity\u001b[39m, \u001b[33mInfinity\u001b[39m, \u001b[33mInfinity\u001b[39m, \u001b[33mInfinity\u001b[39m,\n",
            "    \u001b[33mInfinity\u001b[39m, \u001b[33mInfinity\u001b[39m, \u001b[33mInfinity\u001b[39m, \u001b[33mInfinity\u001b[39m, \u001b[33mInfinity\u001b[39m, \u001b[33mInfinity\u001b[39m,\n",
            "    \u001b[33mInfinity\u001b[39m, \u001b[33mInfinity\u001b[39m, \u001b[33mInfinity\u001b[39m, \u001b[33mInfinity\u001b[39m, \u001b[33mInfinity\u001b[39m, \u001b[33mInfinity\u001b[39m,\n",
            "    \u001b[33mInfinity\u001b[39m, \u001b[33mInfinity\u001b[39m, \u001b[33mInfinity\u001b[39m, \u001b[33mInfinity\u001b[39m, \u001b[33mInfinity\u001b[39m, \u001b[33mInfinity\u001b[39m,\n",
            "    \u001b[33mInfinity\u001b[39m, \u001b[33mInfinity\u001b[39m, \u001b[33mInfinity\u001b[39m, \u001b[33mInfinity\u001b[39m,\n",
            "    ... 500 more items\n",
            "  ],\n",
            "  [\n",
            "    \u001b[33mInfinity\u001b[39m, \u001b[33mInfinity\u001b[39m, \u001b[33mInfinity\u001b[39m, \u001b[33mInfinity\u001b[39m, \u001b[33mInfinity\u001b[39m, \u001b[33mInfinity\u001b[39m,\n",
            "    \u001b[33mInfinity\u001b[39m, \u001b[33mInfinity\u001b[39m, \u001b[33mInfinity\u001b[39m, \u001b[33mInfinity\u001b[39m, \u001b[33mInfinity\u001b[39m, \u001b[33mInfinity\u001b[39m,\n",
            "    \u001b[33mInfinity\u001b[39m, \u001b[33mInfinity\u001b[39m, \u001b[33mInfinity\u001b[39m, \u001b[33mInfinity\u001b[39m, \u001b[33mInfinity\u001b[39m, \u001b[33mInfinity\u001b[39m,\n",
            "    \u001b[33mInfinity\u001b[39m, \u001b[33mInfinity\u001b[39m, \u001b[33mInfinity\u001b[39m, \u001b[33mInfinity\u001b[39m, \u001b[33mInfinity\u001b[39m, \u001b[33mInfinity\u001b[39m,\n",
            "    \u001b[33mInfinity\u001b[39m, \u001b[33mInfinity\u001b[39m, \u001b[33mInfinity\u001b[39m, \u001b[33mInfinity\u001b[39m, \u001b[33mInfinity\u001b[39m, \u001b[33mInfinity\u001b[39m,\n",
            "    \u001b[33mInfinity\u001b[39m, \u001b[33mInfinity\u001b[39m, \u001b[33mInfinity\u001b[39m, \u001b[33mInfinity\u001b[39m, \u001b[33mInfinity\u001b[39m, \u001b[33mInfinity\u001b[39m,\n",
            "    \u001b[33mInfinity\u001b[39m, \u001b[33mInfinity\u001b[39m, \u001b[33mInfinity\u001b[39m, \u001b[33mInfinity\u001b[39m, \u001b[33mInfinity\u001b[39m, \u001b[33mInfinity\u001b[39m,\n",
            "    \u001b[33mInfinity\u001b[39m, \u001b[33mInfinity\u001b[39m, \u001b[33mInfinity\u001b[39m, \u001b[33mInfinity\u001b[39m, \u001b[33mInfinity\u001b[39m, \u001b[33mInfinity\u001b[39m,\n",
            "    \u001b[33mInfinity\u001b[39m, \u001b[33mInfinity\u001b[39m, \u001b[33mInfinity\u001b[39m, \u001b[33mInfinity\u001b[39m, \u001b[33mInfinity\u001b[39m, \u001b[33mInfinity\u001b[39m,\n",
            "    \u001b[33mInfinity\u001b[39m, \u001b[33mInfinity\u001b[39m, \u001b[33mInfinity\u001b[39m, \u001b[33mInfinity\u001b[39m, \u001b[33mInfinity\u001b[39m, \u001b[33mInfinity\u001b[39m,\n",
            "    \u001b[33mInfinity\u001b[39m, \u001b[33mInfinity\u001b[39m, \u001b[33mInfinity\u001b[39m, \u001b[33mInfinity\u001b[39m, \u001b[33mInfinity\u001b[39m, \u001b[33mInfinity\u001b[39m,\n",
            "    \u001b[33mInfinity\u001b[39m, \u001b[33mInfinity\u001b[39m, \u001b[33mInfinity\u001b[39m, \u001b[33mInfinity\u001b[39m, \u001b[33mInfinity\u001b[39m, \u001b[33mInfinity\u001b[39m,\n",
            "    \u001b[33mInfinity\u001b[39m, \u001b[33mInfinity\u001b[39m, \u001b[33mInfinity\u001b[39m, \u001b[33mInfinity\u001b[39m, \u001b[33mInfinity\u001b[39m, \u001b[33mInfinity\u001b[39m,\n",
            "    \u001b[33mInfinity\u001b[39m, \u001b[33mInfinity\u001b[39m, \u001b[33mInfinity\u001b[39m, \u001b[33mInfinity\u001b[39m, \u001b[33mInfinity\u001b[39m, \u001b[33mInfinity\u001b[39m,\n",
            "    \u001b[33mInfinity\u001b[39m, \u001b[33mInfinity\u001b[39m, \u001b[33mInfinity\u001b[39m, \u001b[33mInfinity\u001b[39m, \u001b[33mInfinity\u001b[39m, \u001b[33mInfinity\u001b[39m,\n",
            "    \u001b[33mInfinity\u001b[39m, \u001b[33mInfinity\u001b[39m, \u001b[33mInfinity\u001b[39m, \u001b[33mInfinity\u001b[39m, \u001b[33mInfinity\u001b[39m, \u001b[33mInfinity\u001b[39m,\n",
            "    \u001b[33mInfinity\u001b[39m, \u001b[33mInfinity\u001b[39m, \u001b[33mInfinity\u001b[39m, \u001b[33mInfinity\u001b[39m,\n",
            "    ... 500 more items\n",
            "  ],\n",
            "  [\n",
            "    \u001b[33mInfinity\u001b[39m, \u001b[33mInfinity\u001b[39m, \u001b[33mInfinity\u001b[39m, \u001b[33mInfinity\u001b[39m, \u001b[33mInfinity\u001b[39m, \u001b[33mInfinity\u001b[39m,\n",
            "    \u001b[33mInfinity\u001b[39m, \u001b[33mInfinity\u001b[39m, \u001b[33mInfinity\u001b[39m, \u001b[33mInfinity\u001b[39m, \u001b[33mInfinity\u001b[39m, \u001b[33mInfinity\u001b[39m,\n",
            "    \u001b[33mInfinity\u001b[39m, \u001b[33mInfinity\u001b[39m, \u001b[33mInfinity\u001b[39m, \u001b[33mInfinity\u001b[39m, \u001b[33mInfinity\u001b[39m, \u001b[33mInfinity\u001b[39m,\n",
            "    \u001b[33mInfinity\u001b[39m, \u001b[33mInfinity\u001b[39m, \u001b[33mInfinity\u001b[39m, \u001b[33mInfinity\u001b[39m, \u001b[33mInfinity\u001b[39m, \u001b[33mInfinity\u001b[39m,\n",
            "    \u001b[33mInfinity\u001b[39m, \u001b[33mInfinity\u001b[39m, \u001b[33mInfinity\u001b[39m, \u001b[33mInfinity\u001b[39m, \u001b[33mInfinity\u001b[39m, \u001b[33mInfinity\u001b[39m,\n",
            "    \u001b[33mInfinity\u001b[39m, \u001b[33mInfinity\u001b[39m, \u001b[33mInfinity\u001b[39m, \u001b[33mInfinity\u001b[39m, \u001b[33mInfinity\u001b[39m, \u001b[33mInfinity\u001b[39m,\n",
            "    \u001b[33mInfinity\u001b[39m, \u001b[33mInfinity\u001b[39m, \u001b[33mInfinity\u001b[39m, \u001b[33mInfinity\u001b[39m, \u001b[33mInfinity\u001b[39m, \u001b[33mInfinity\u001b[39m,\n",
            "    \u001b[33mInfinity\u001b[39m, \u001b[33mInfinity\u001b[39m, \u001b[33mInfinity\u001b[39m, \u001b[33mInfinity\u001b[39m, \u001b[33mInfinity\u001b[39m, \u001b[33mInfinity\u001b[39m,\n",
            "    \u001b[33mInfinity\u001b[39m, \u001b[33mInfinity\u001b[39m, \u001b[33mInfinity\u001b[39m, \u001b[33mInfinity\u001b[39m, \u001b[33mInfinity\u001b[39m, \u001b[33mInfinity\u001b[39m,\n",
            "    \u001b[33mInfinity\u001b[39m, \u001b[33mInfinity\u001b[39m, \u001b[33mInfinity\u001b[39m, \u001b[33mInfinity\u001b[39m, \u001b[33mInfinity\u001b[39m, \u001b[33mInfinity\u001b[39m,\n",
            "    \u001b[33mInfinity\u001b[39m, \u001b[33mInfinity\u001b[39m, \u001b[33mInfinity\u001b[39m, \u001b[33mInfinity\u001b[39m, \u001b[33mInfinity\u001b[39m, \u001b[33mInfinity\u001b[39m,\n",
            "    \u001b[33mInfinity\u001b[39m, \u001b[33mInfinity\u001b[39m, \u001b[33mInfinity\u001b[39m, \u001b[33mInfinity\u001b[39m, \u001b[33mInfinity\u001b[39m, \u001b[33mInfinity\u001b[39m,\n",
            "    \u001b[33mInfinity\u001b[39m, \u001b[33mInfinity\u001b[39m, \u001b[33mInfinity\u001b[39m, \u001b[33mInfinity\u001b[39m, \u001b[33mInfinity\u001b[39m, \u001b[33mInfinity\u001b[39m,\n",
            "    \u001b[33mInfinity\u001b[39m, \u001b[33mInfinity\u001b[39m, \u001b[33mInfinity\u001b[39m, \u001b[33mInfinity\u001b[39m, \u001b[33mInfinity\u001b[39m, \u001b[33mInfinity\u001b[39m,\n",
            "    \u001b[33mInfinity\u001b[39m, \u001b[33mInfinity\u001b[39m, \u001b[33mInfinity\u001b[39m, \u001b[33mInfinity\u001b[39m, \u001b[33mInfinity\u001b[39m, \u001b[33mInfinity\u001b[39m,\n",
            "    \u001b[33mInfinity\u001b[39m, \u001b[33mInfinity\u001b[39m, \u001b[33mInfinity\u001b[39m, \u001b[33mInfinity\u001b[39m, \u001b[33mInfinity\u001b[39m, \u001b[33mInfinity\u001b[39m,\n",
            "    \u001b[33mInfinity\u001b[39m, \u001b[33mInfinity\u001b[39m, \u001b[33mInfinity\u001b[39m, \u001b[33mInfinity\u001b[39m,\n",
            "    ... 500 more items\n",
            "  ],\n",
            "  [\n",
            "    \u001b[33mInfinity\u001b[39m, \u001b[33mInfinity\u001b[39m, \u001b[33mInfinity\u001b[39m, \u001b[33mInfinity\u001b[39m, \u001b[33mInfinity\u001b[39m, \u001b[33mInfinity\u001b[39m,\n",
            "    \u001b[33mInfinity\u001b[39m, \u001b[33mInfinity\u001b[39m, \u001b[33mInfinity\u001b[39m, \u001b[33mInfinity\u001b[39m, \u001b[33mInfinity\u001b[39m, \u001b[33mInfinity\u001b[39m,\n",
            "    \u001b[33mInfinity\u001b[39m, \u001b[33mInfinity\u001b[39m, \u001b[33mInfinity\u001b[39m, \u001b[33mInfinity\u001b[39m, \u001b[33mInfinity\u001b[39m, \u001b[33mInfinity\u001b[39m,\n",
            "    \u001b[33mInfinity\u001b[39m, \u001b[33mInfinity\u001b[39m, \u001b[33mInfinity\u001b[39m, \u001b[33mInfinity\u001b[39m, \u001b[33mInfinity\u001b[39m, \u001b[33mInfinity\u001b[39m,\n",
            "    \u001b[33mInfinity\u001b[39m, \u001b[33mInfinity\u001b[39m, \u001b[33mInfinity\u001b[39m, \u001b[33mInfinity\u001b[39m, \u001b[33mInfinity\u001b[39m, \u001b[33mInfinity\u001b[39m,\n",
            "    \u001b[33mInfinity\u001b[39m, \u001b[33mInfinity\u001b[39m, \u001b[33mInfinity\u001b[39m, \u001b[33mInfinity\u001b[39m, \u001b[33mInfinity\u001b[39m, \u001b[33mInfinity\u001b[39m,\n",
            "    \u001b[33mInfinity\u001b[39m, \u001b[33mInfinity\u001b[39m, \u001b[33mInfinity\u001b[39m, \u001b[33mInfinity\u001b[39m, \u001b[33mInfinity\u001b[39m, \u001b[33mInfinity\u001b[39m,\n",
            "    \u001b[33mInfinity\u001b[39m, \u001b[33mInfinity\u001b[39m, \u001b[33mInfinity\u001b[39m, \u001b[33mInfinity\u001b[39m, \u001b[33mInfinity\u001b[39m, \u001b[33mInfinity\u001b[39m,\n",
            "    \u001b[33mInfinity\u001b[39m, \u001b[33mInfinity\u001b[39m, \u001b[33mInfinity\u001b[39m, \u001b[33mInfinity\u001b[39m, \u001b[33mInfinity\u001b[39m, \u001b[33mInfinity\u001b[39m,\n",
            "    \u001b[33mInfinity\u001b[39m, \u001b[33mInfinity\u001b[39m, \u001b[33mInfinity\u001b[39m, \u001b[33mInfinity\u001b[39m, \u001b[33mInfinity\u001b[39m, \u001b[33mInfinity\u001b[39m,\n",
            "    \u001b[33mInfinity\u001b[39m, \u001b[33mInfinity\u001b[39m, \u001b[33mInfinity\u001b[39m, \u001b[33mInfinity\u001b[39m, \u001b[33mInfinity\u001b[39m, \u001b[33mInfinity\u001b[39m,\n",
            "    \u001b[33mInfinity\u001b[39m, \u001b[33mInfinity\u001b[39m, \u001b[33mInfinity\u001b[39m, \u001b[33mInfinity\u001b[39m, \u001b[33mInfinity\u001b[39m, \u001b[33mInfinity\u001b[39m,\n",
            "    \u001b[33mInfinity\u001b[39m, \u001b[33mInfinity\u001b[39m, \u001b[33mInfinity\u001b[39m, \u001b[33mInfinity\u001b[39m, \u001b[33mInfinity\u001b[39m, \u001b[33mInfinity\u001b[39m,\n",
            "    \u001b[33mInfinity\u001b[39m, \u001b[33mInfinity\u001b[39m, \u001b[33mInfinity\u001b[39m, \u001b[33mInfinity\u001b[39m, \u001b[33mInfinity\u001b[39m, \u001b[33mInfinity\u001b[39m,\n",
            "    \u001b[33mInfinity\u001b[39m, \u001b[33mInfinity\u001b[39m, \u001b[33mInfinity\u001b[39m, \u001b[33mInfinity\u001b[39m, \u001b[33mInfinity\u001b[39m, \u001b[33mInfinity\u001b[39m,\n",
            "    \u001b[33mInfinity\u001b[39m, \u001b[33mInfinity\u001b[39m, \u001b[33mInfinity\u001b[39m, \u001b[33mInfinity\u001b[39m, \u001b[33mInfinity\u001b[39m, \u001b[33mInfinity\u001b[39m,\n",
            "    \u001b[33mInfinity\u001b[39m, \u001b[33mInfinity\u001b[39m, \u001b[33mInfinity\u001b[39m, \u001b[33mInfinity\u001b[39m,\n",
            "    ... 500 more items\n",
            "  ],\n",
            "  [\n",
            "    \u001b[33mInfinity\u001b[39m, \u001b[33mInfinity\u001b[39m, \u001b[33mInfinity\u001b[39m, \u001b[33mInfinity\u001b[39m, \u001b[33mInfinity\u001b[39m, \u001b[33mInfinity\u001b[39m,\n",
            "    \u001b[33mInfinity\u001b[39m, \u001b[33mInfinity\u001b[39m, \u001b[33mInfinity\u001b[39m, \u001b[33mInfinity\u001b[39m, \u001b[33mInfinity\u001b[39m, \u001b[33mInfinity\u001b[39m,\n",
            "    \u001b[33mInfinity\u001b[39m, \u001b[33mInfinity\u001b[39m, \u001b[33mInfinity\u001b[39m, \u001b[33mInfinity\u001b[39m, \u001b[33mInfinity\u001b[39m, \u001b[33mInfinity\u001b[39m,\n",
            "    \u001b[33mInfinity\u001b[39m, \u001b[33mInfinity\u001b[39m, \u001b[33mInfinity\u001b[39m, \u001b[33mInfinity\u001b[39m, \u001b[33mInfinity\u001b[39m, \u001b[33mInfinity\u001b[39m,\n",
            "    \u001b[33mInfinity\u001b[39m, \u001b[33mInfinity\u001b[39m, \u001b[33mInfinity\u001b[39m, \u001b[33mInfinity\u001b[39m, \u001b[33mInfinity\u001b[39m, \u001b[33mInfinity\u001b[39m,\n",
            "    \u001b[33mInfinity\u001b[39m, \u001b[33mInfinity\u001b[39m, \u001b[33mInfinity\u001b[39m, \u001b[33mInfinity\u001b[39m, \u001b[33mInfinity\u001b[39m, \u001b[33mInfinity\u001b[39m,\n",
            "    \u001b[33mInfinity\u001b[39m, \u001b[33mInfinity\u001b[39m, \u001b[33mInfinity\u001b[39m, \u001b[33mInfinity\u001b[39m, \u001b[33mInfinity\u001b[39m, \u001b[33mInfinity\u001b[39m,\n",
            "    \u001b[33mInfinity\u001b[39m, \u001b[33mInfinity\u001b[39m, \u001b[33mInfinity\u001b[39m, \u001b[33mInfinity\u001b[39m, \u001b[33mInfinity\u001b[39m, \u001b[33mInfinity\u001b[39m,\n",
            "    \u001b[33mInfinity\u001b[39m, \u001b[33mInfinity\u001b[39m, \u001b[33mInfinity\u001b[39m, \u001b[33mInfinity\u001b[39m, \u001b[33mInfinity\u001b[39m, \u001b[33mInfinity\u001b[39m,\n",
            "    \u001b[33mInfinity\u001b[39m, \u001b[33mInfinity\u001b[39m, \u001b[33mInfinity\u001b[39m, \u001b[33mInfinity\u001b[39m, \u001b[33mInfinity\u001b[39m, \u001b[33mInfinity\u001b[39m,\n",
            "    \u001b[33mInfinity\u001b[39m, \u001b[33mInfinity\u001b[39m, \u001b[33mInfinity\u001b[39m, \u001b[33mInfinity\u001b[39m, \u001b[33mInfinity\u001b[39m, \u001b[33mInfinity\u001b[39m,\n",
            "    \u001b[33mInfinity\u001b[39m, \u001b[33mInfinity\u001b[39m, \u001b[33mInfinity\u001b[39m, \u001b[33mInfinity\u001b[39m, \u001b[33mInfinity\u001b[39m, \u001b[33mInfinity\u001b[39m,\n",
            "    \u001b[33mInfinity\u001b[39m, \u001b[33mInfinity\u001b[39m, \u001b[33mInfinity\u001b[39m, \u001b[33mInfinity\u001b[39m, \u001b[33mInfinity\u001b[39m, \u001b[33mInfinity\u001b[39m,\n",
            "    \u001b[33mInfinity\u001b[39m, \u001b[33mInfinity\u001b[39m, \u001b[33mInfinity\u001b[39m, \u001b[33mInfinity\u001b[39m, \u001b[33mInfinity\u001b[39m, \u001b[33mInfinity\u001b[39m,\n",
            "    \u001b[33mInfinity\u001b[39m, \u001b[33mInfinity\u001b[39m, \u001b[33mInfinity\u001b[39m, \u001b[33mInfinity\u001b[39m, \u001b[33mInfinity\u001b[39m, \u001b[33mInfinity\u001b[39m,\n",
            "    \u001b[33mInfinity\u001b[39m, \u001b[33mInfinity\u001b[39m, \u001b[33mInfinity\u001b[39m, \u001b[33mInfinity\u001b[39m, \u001b[33mInfinity\u001b[39m, \u001b[33mInfinity\u001b[39m,\n",
            "    \u001b[33mInfinity\u001b[39m, \u001b[33mInfinity\u001b[39m, \u001b[33mInfinity\u001b[39m, \u001b[33mInfinity\u001b[39m,\n",
            "    ... 500 more items\n",
            "  ],\n",
            "  [\n",
            "    \u001b[33mInfinity\u001b[39m, \u001b[33mInfinity\u001b[39m, \u001b[33mInfinity\u001b[39m, \u001b[33mInfinity\u001b[39m, \u001b[33mInfinity\u001b[39m, \u001b[33mInfinity\u001b[39m,\n",
            "    \u001b[33mInfinity\u001b[39m, \u001b[33mInfinity\u001b[39m, \u001b[33mInfinity\u001b[39m, \u001b[33mInfinity\u001b[39m, \u001b[33mInfinity\u001b[39m, \u001b[33mInfinity\u001b[39m,\n",
            "    \u001b[33mInfinity\u001b[39m, \u001b[33mInfinity\u001b[39m, \u001b[33mInfinity\u001b[39m, \u001b[33mInfinity\u001b[39m, \u001b[33mInfinity\u001b[39m, \u001b[33mInfinity\u001b[39m,\n",
            "    \u001b[33mInfinity\u001b[39m, \u001b[33mInfinity\u001b[39m, \u001b[33mInfinity\u001b[39m, \u001b[33mInfinity\u001b[39m, \u001b[33mInfinity\u001b[39m, \u001b[33mInfinity\u001b[39m,\n",
            "    \u001b[33mInfinity\u001b[39m, \u001b[33mInfinity\u001b[39m, \u001b[33mInfinity\u001b[39m, \u001b[33mInfinity\u001b[39m, \u001b[33mInfinity\u001b[39m, \u001b[33mInfinity\u001b[39m,\n",
            "    \u001b[33mInfinity\u001b[39m, \u001b[33mInfinity\u001b[39m, \u001b[33mInfinity\u001b[39m, \u001b[33mInfinity\u001b[39m, \u001b[33mInfinity\u001b[39m, \u001b[33mInfinity\u001b[39m,\n",
            "    \u001b[33mInfinity\u001b[39m, \u001b[33mInfinity\u001b[39m, \u001b[33mInfinity\u001b[39m, \u001b[33mInfinity\u001b[39m, \u001b[33mInfinity\u001b[39m, \u001b[33mInfinity\u001b[39m,\n",
            "    \u001b[33mInfinity\u001b[39m, \u001b[33mInfinity\u001b[39m, \u001b[33mInfinity\u001b[39m, \u001b[33mInfinity\u001b[39m, \u001b[33mInfinity\u001b[39m, \u001b[33mInfinity\u001b[39m,\n",
            "    \u001b[33mInfinity\u001b[39m, \u001b[33mInfinity\u001b[39m, \u001b[33mInfinity\u001b[39m, \u001b[33mInfinity\u001b[39m, \u001b[33mInfinity\u001b[39m, \u001b[33mInfinity\u001b[39m,\n",
            "    \u001b[33mInfinity\u001b[39m, \u001b[33mInfinity\u001b[39m, \u001b[33mInfinity\u001b[39m, \u001b[33mInfinity\u001b[39m, \u001b[33mInfinity\u001b[39m, \u001b[33mInfinity\u001b[39m,\n",
            "    \u001b[33mInfinity\u001b[39m, \u001b[33mInfinity\u001b[39m, \u001b[33mInfinity\u001b[39m, \u001b[33mInfinity\u001b[39m, \u001b[33mInfinity\u001b[39m, \u001b[33mInfinity\u001b[39m,\n",
            "    \u001b[33mInfinity\u001b[39m, \u001b[33mInfinity\u001b[39m, \u001b[33mInfinity\u001b[39m, \u001b[33mInfinity\u001b[39m, \u001b[33mInfinity\u001b[39m, \u001b[33mInfinity\u001b[39m,\n",
            "    \u001b[33mInfinity\u001b[39m, \u001b[33mInfinity\u001b[39m, \u001b[33mInfinity\u001b[39m, \u001b[33mInfinity\u001b[39m, \u001b[33mInfinity\u001b[39m, \u001b[33mInfinity\u001b[39m,\n",
            "    \u001b[33mInfinity\u001b[39m, \u001b[33mInfinity\u001b[39m, \u001b[33mInfinity\u001b[39m, \u001b[33mInfinity\u001b[39m, \u001b[33mInfinity\u001b[39m, \u001b[33mInfinity\u001b[39m,\n",
            "    \u001b[33mInfinity\u001b[39m, \u001b[33mInfinity\u001b[39m, \u001b[33mInfinity\u001b[39m, \u001b[33mInfinity\u001b[39m, \u001b[33mInfinity\u001b[39m, \u001b[33mInfinity\u001b[39m,\n",
            "    \u001b[33mInfinity\u001b[39m, \u001b[33mInfinity\u001b[39m, \u001b[33mInfinity\u001b[39m, \u001b[33mInfinity\u001b[39m, \u001b[33mInfinity\u001b[39m, \u001b[33mInfinity\u001b[39m,\n",
            "    \u001b[33mInfinity\u001b[39m, \u001b[33mInfinity\u001b[39m, \u001b[33mInfinity\u001b[39m, \u001b[33mInfinity\u001b[39m,\n",
            "    ... 500 more items\n",
            "  ],\n",
            "  [\n",
            "    \u001b[33mInfinity\u001b[39m, \u001b[33mInfinity\u001b[39m, \u001b[33mInfinity\u001b[39m, \u001b[33mInfinity\u001b[39m, \u001b[33mInfinity\u001b[39m, \u001b[33mInfinity\u001b[39m,\n",
            "    \u001b[33mInfinity\u001b[39m, \u001b[33mInfinity\u001b[39m, \u001b[33mInfinity\u001b[39m, \u001b[33mInfinity\u001b[39m, \u001b[33mInfinity\u001b[39m, \u001b[33mInfinity\u001b[39m,\n",
            "    \u001b[33mInfinity\u001b[39m, \u001b[33mInfinity\u001b[39m, \u001b[33mInfinity\u001b[39m, \u001b[33mInfinity\u001b[39m, \u001b[33mInfinity\u001b[39m, \u001b[33mInfinity\u001b[39m,\n",
            "    \u001b[33mInfinity\u001b[39m, \u001b[33mInfinity\u001b[39m, \u001b[33mInfinity\u001b[39m, \u001b[33mInfinity\u001b[39m, \u001b[33mInfinity\u001b[39m, \u001b[33mInfinity\u001b[39m,\n",
            "    \u001b[33mInfinity\u001b[39m, \u001b[33mInfinity\u001b[39m, \u001b[33mInfinity\u001b[39m, \u001b[33mInfinity\u001b[39m, \u001b[33mInfinity\u001b[39m, \u001b[33mInfinity\u001b[39m,\n",
            "    \u001b[33mInfinity\u001b[39m, \u001b[33mInfinity\u001b[39m, \u001b[33mInfinity\u001b[39m, \u001b[33mInfinity\u001b[39m, \u001b[33mInfinity\u001b[39m, \u001b[33mInfinity\u001b[39m,\n",
            "    \u001b[33mInfinity\u001b[39m, \u001b[33mInfinity\u001b[39m, \u001b[33mInfinity\u001b[39m, \u001b[33mInfinity\u001b[39m, \u001b[33mInfinity\u001b[39m, \u001b[33mInfinity\u001b[39m,\n",
            "    \u001b[33mInfinity\u001b[39m, \u001b[33mInfinity\u001b[39m, \u001b[33mInfinity\u001b[39m, \u001b[33mInfinity\u001b[39m, \u001b[33mInfinity\u001b[39m, \u001b[33mInfinity\u001b[39m,\n",
            "    \u001b[33mInfinity\u001b[39m, \u001b[33mInfinity\u001b[39m, \u001b[33mInfinity\u001b[39m, \u001b[33mInfinity\u001b[39m, \u001b[33mInfinity\u001b[39m, \u001b[33mInfinity\u001b[39m,\n",
            "    \u001b[33mInfinity\u001b[39m, \u001b[33mInfinity\u001b[39m, \u001b[33mInfinity\u001b[39m, \u001b[33mInfinity\u001b[39m, \u001b[33mInfinity\u001b[39m, \u001b[33mInfinity\u001b[39m,\n",
            "    \u001b[33mInfinity\u001b[39m, \u001b[33mInfinity\u001b[39m, \u001b[33mInfinity\u001b[39m, \u001b[33mInfinity\u001b[39m, \u001b[33mInfinity\u001b[39m, \u001b[33mInfinity\u001b[39m,\n",
            "    \u001b[33mInfinity\u001b[39m, \u001b[33mInfinity\u001b[39m, \u001b[33mInfinity\u001b[39m, \u001b[33mInfinity\u001b[39m, \u001b[33mInfinity\u001b[39m, \u001b[33mInfinity\u001b[39m,\n",
            "    \u001b[33mInfinity\u001b[39m, \u001b[33mInfinity\u001b[39m, \u001b[33mInfinity\u001b[39m, \u001b[33mInfinity\u001b[39m, \u001b[33mInfinity\u001b[39m, \u001b[33mInfinity\u001b[39m,\n",
            "    \u001b[33mInfinity\u001b[39m, \u001b[33mInfinity\u001b[39m, \u001b[33mInfinity\u001b[39m, \u001b[33mInfinity\u001b[39m, \u001b[33mInfinity\u001b[39m, \u001b[33mInfinity\u001b[39m,\n",
            "    \u001b[33mInfinity\u001b[39m, \u001b[33mInfinity\u001b[39m, \u001b[33mInfinity\u001b[39m, \u001b[33mInfinity\u001b[39m, \u001b[33mInfinity\u001b[39m, \u001b[33mInfinity\u001b[39m,\n",
            "    \u001b[33mInfinity\u001b[39m, \u001b[33mInfinity\u001b[39m, \u001b[33mInfinity\u001b[39m, \u001b[33mInfinity\u001b[39m, \u001b[33mInfinity\u001b[39m, \u001b[33mInfinity\u001b[39m,\n",
            "    \u001b[33mInfinity\u001b[39m, \u001b[33mInfinity\u001b[39m, \u001b[33mInfinity\u001b[39m, \u001b[33mInfinity\u001b[39m,\n",
            "    ... 500 more items\n",
            "  ],\n",
            "  [\n",
            "    \u001b[33mInfinity\u001b[39m, \u001b[33mInfinity\u001b[39m, \u001b[33mInfinity\u001b[39m, \u001b[33mInfinity\u001b[39m, \u001b[33mInfinity\u001b[39m, \u001b[33mInfinity\u001b[39m,\n",
            "    \u001b[33mInfinity\u001b[39m, \u001b[33mInfinity\u001b[39m, \u001b[33mInfinity\u001b[39m, \u001b[33mInfinity\u001b[39m, \u001b[33mInfinity\u001b[39m, \u001b[33mInfinity\u001b[39m,\n",
            "    \u001b[33mInfinity\u001b[39m, \u001b[33mInfinity\u001b[39m, \u001b[33mInfinity\u001b[39m, \u001b[33mInfinity\u001b[39m, \u001b[33mInfinity\u001b[39m, \u001b[33mInfinity\u001b[39m,\n",
            "    \u001b[33mInfinity\u001b[39m, \u001b[33mInfinity\u001b[39m, \u001b[33mInfinity\u001b[39m, \u001b[33mInfinity\u001b[39m, \u001b[33mInfinity\u001b[39m, \u001b[33mInfinity\u001b[39m,\n",
            "    \u001b[33mInfinity\u001b[39m, \u001b[33mInfinity\u001b[39m, \u001b[33mInfinity\u001b[39m, \u001b[33mInfinity\u001b[39m, \u001b[33mInfinity\u001b[39m, \u001b[33mInfinity\u001b[39m,\n",
            "    \u001b[33mInfinity\u001b[39m, \u001b[33mInfinity\u001b[39m, \u001b[33mInfinity\u001b[39m, \u001b[33mInfinity\u001b[39m, \u001b[33mInfinity\u001b[39m, \u001b[33mInfinity\u001b[39m,\n",
            "    \u001b[33mInfinity\u001b[39m, \u001b[33mInfinity\u001b[39m, \u001b[33mInfinity\u001b[39m, \u001b[33mInfinity\u001b[39m, \u001b[33mInfinity\u001b[39m, \u001b[33mInfinity\u001b[39m,\n",
            "    \u001b[33mInfinity\u001b[39m, \u001b[33mInfinity\u001b[39m, \u001b[33mInfinity\u001b[39m, \u001b[33mInfinity\u001b[39m, \u001b[33mInfinity\u001b[39m, \u001b[33mInfinity\u001b[39m,\n",
            "    \u001b[33mInfinity\u001b[39m, \u001b[33mInfinity\u001b[39m, \u001b[33mInfinity\u001b[39m, \u001b[33mInfinity\u001b[39m, \u001b[33mInfinity\u001b[39m, \u001b[33mInfinity\u001b[39m,\n",
            "    \u001b[33mInfinity\u001b[39m, \u001b[33mInfinity\u001b[39m, \u001b[33mInfinity\u001b[39m, \u001b[33mInfinity\u001b[39m, \u001b[33mInfinity\u001b[39m, \u001b[33mInfinity\u001b[39m,\n",
            "    \u001b[33mInfinity\u001b[39m, \u001b[33mInfinity\u001b[39m, \u001b[33mInfinity\u001b[39m, \u001b[33mInfinity\u001b[39m, \u001b[33mInfinity\u001b[39m, \u001b[33mInfinity\u001b[39m,\n",
            "    \u001b[33mInfinity\u001b[39m, \u001b[33mInfinity\u001b[39m, \u001b[33mInfinity\u001b[39m, \u001b[33mInfinity\u001b[39m, \u001b[33mInfinity\u001b[39m, \u001b[33mInfinity\u001b[39m,\n",
            "    \u001b[33mInfinity\u001b[39m, \u001b[33mInfinity\u001b[39m, \u001b[33mInfinity\u001b[39m, \u001b[33mInfinity\u001b[39m, \u001b[33mInfinity\u001b[39m, \u001b[33mInfinity\u001b[39m,\n",
            "    \u001b[33mInfinity\u001b[39m, \u001b[33mInfinity\u001b[39m, \u001b[33mInfinity\u001b[39m, \u001b[33mInfinity\u001b[39m, \u001b[33mInfinity\u001b[39m, \u001b[33mInfinity\u001b[39m,\n",
            "    \u001b[33mInfinity\u001b[39m, \u001b[33mInfinity\u001b[39m, \u001b[33mInfinity\u001b[39m, \u001b[33mInfinity\u001b[39m, \u001b[33mInfinity\u001b[39m, \u001b[33mInfinity\u001b[39m,\n",
            "    \u001b[33mInfinity\u001b[39m, \u001b[33mInfinity\u001b[39m, \u001b[33mInfinity\u001b[39m, \u001b[33mInfinity\u001b[39m, \u001b[33mInfinity\u001b[39m, \u001b[33mInfinity\u001b[39m,\n",
            "    \u001b[33mInfinity\u001b[39m, \u001b[33mInfinity\u001b[39m, \u001b[33mInfinity\u001b[39m, \u001b[33mInfinity\u001b[39m,\n",
            "    ... 500 more items\n",
            "  ],\n",
            "  [\n",
            "    \u001b[33mInfinity\u001b[39m, \u001b[33mInfinity\u001b[39m, \u001b[33mInfinity\u001b[39m, \u001b[33mInfinity\u001b[39m, \u001b[33mInfinity\u001b[39m, \u001b[33mInfinity\u001b[39m,\n",
            "    \u001b[33mInfinity\u001b[39m, \u001b[33mInfinity\u001b[39m, \u001b[33mInfinity\u001b[39m, \u001b[33mInfinity\u001b[39m, \u001b[33mInfinity\u001b[39m, \u001b[33mInfinity\u001b[39m,\n",
            "    \u001b[33mInfinity\u001b[39m, \u001b[33mInfinity\u001b[39m, \u001b[33mInfinity\u001b[39m, \u001b[33mInfinity\u001b[39m, \u001b[33mInfinity\u001b[39m, \u001b[33mInfinity\u001b[39m,\n",
            "    \u001b[33mInfinity\u001b[39m, \u001b[33mInfinity\u001b[39m, \u001b[33mInfinity\u001b[39m, \u001b[33mInfinity\u001b[39m, \u001b[33mInfinity\u001b[39m, \u001b[33mInfinity\u001b[39m,\n",
            "    \u001b[33mInfinity\u001b[39m, \u001b[33mInfinity\u001b[39m, \u001b[33mInfinity\u001b[39m, \u001b[33mInfinity\u001b[39m, \u001b[33mInfinity\u001b[39m, \u001b[33mInfinity\u001b[39m,\n",
            "    \u001b[33mInfinity\u001b[39m, \u001b[33mInfinity\u001b[39m, \u001b[33mInfinity\u001b[39m, \u001b[33mInfinity\u001b[39m, \u001b[33mInfinity\u001b[39m, \u001b[33mInfinity\u001b[39m,\n",
            "    \u001b[33mInfinity\u001b[39m, \u001b[33mInfinity\u001b[39m, \u001b[33mInfinity\u001b[39m, \u001b[33mInfinity\u001b[39m, \u001b[33mInfinity\u001b[39m, \u001b[33mInfinity\u001b[39m,\n",
            "    \u001b[33mInfinity\u001b[39m, \u001b[33mInfinity\u001b[39m, \u001b[33mInfinity\u001b[39m, \u001b[33mInfinity\u001b[39m, \u001b[33mInfinity\u001b[39m, \u001b[33mInfinity\u001b[39m,\n",
            "    \u001b[33mInfinity\u001b[39m, \u001b[33mInfinity\u001b[39m, \u001b[33mInfinity\u001b[39m, \u001b[33mInfinity\u001b[39m, \u001b[33mInfinity\u001b[39m, \u001b[33mInfinity\u001b[39m,\n",
            "    \u001b[33mInfinity\u001b[39m, \u001b[33mInfinity\u001b[39m, \u001b[33mInfinity\u001b[39m, \u001b[33mInfinity\u001b[39m, \u001b[33mInfinity\u001b[39m, \u001b[33mInfinity\u001b[39m,\n",
            "    \u001b[33mInfinity\u001b[39m, \u001b[33mInfinity\u001b[39m, \u001b[33mInfinity\u001b[39m, \u001b[33mInfinity\u001b[39m, \u001b[33mInfinity\u001b[39m, \u001b[33mInfinity\u001b[39m,\n",
            "    \u001b[33mInfinity\u001b[39m, \u001b[33mInfinity\u001b[39m, \u001b[33mInfinity\u001b[39m, \u001b[33mInfinity\u001b[39m, \u001b[33mInfinity\u001b[39m, \u001b[33mInfinity\u001b[39m,\n",
            "    \u001b[33mInfinity\u001b[39m, \u001b[33mInfinity\u001b[39m, \u001b[33mInfinity\u001b[39m, \u001b[33mInfinity\u001b[39m, \u001b[33mInfinity\u001b[39m, \u001b[33mInfinity\u001b[39m,\n",
            "    \u001b[33mInfinity\u001b[39m, \u001b[33mInfinity\u001b[39m, \u001b[33mInfinity\u001b[39m, \u001b[33mInfinity\u001b[39m, \u001b[33mInfinity\u001b[39m, \u001b[33mInfinity\u001b[39m,\n",
            "    \u001b[33mInfinity\u001b[39m, \u001b[33mInfinity\u001b[39m, \u001b[33mInfinity\u001b[39m, \u001b[33mInfinity\u001b[39m, \u001b[33mInfinity\u001b[39m, \u001b[33mInfinity\u001b[39m,\n",
            "    \u001b[33mInfinity\u001b[39m, \u001b[33mInfinity\u001b[39m, \u001b[33mInfinity\u001b[39m, \u001b[33mInfinity\u001b[39m, \u001b[33mInfinity\u001b[39m, \u001b[33mInfinity\u001b[39m,\n",
            "    \u001b[33mInfinity\u001b[39m, \u001b[33mInfinity\u001b[39m, \u001b[33mInfinity\u001b[39m, \u001b[33mInfinity\u001b[39m,\n",
            "    ... 500 more items\n",
            "  ],\n",
            "  [\n",
            "    \u001b[33mInfinity\u001b[39m, \u001b[33mInfinity\u001b[39m, \u001b[33mInfinity\u001b[39m, \u001b[33mInfinity\u001b[39m, \u001b[33mInfinity\u001b[39m, \u001b[33mInfinity\u001b[39m,\n",
            "    \u001b[33mInfinity\u001b[39m, \u001b[33mInfinity\u001b[39m, \u001b[33mInfinity\u001b[39m, \u001b[33mInfinity\u001b[39m, \u001b[33mInfinity\u001b[39m, \u001b[33mInfinity\u001b[39m,\n",
            "    \u001b[33mInfinity\u001b[39m, \u001b[33mInfinity\u001b[39m, \u001b[33mInfinity\u001b[39m, \u001b[33mInfinity\u001b[39m, \u001b[33mInfinity\u001b[39m, \u001b[33mInfinity\u001b[39m,\n",
            "    \u001b[33mInfinity\u001b[39m, \u001b[33mInfinity\u001b[39m, \u001b[33mInfinity\u001b[39m, \u001b[33mInfinity\u001b[39m, \u001b[33mInfinity\u001b[39m, \u001b[33mInfinity\u001b[39m,\n",
            "    \u001b[33mInfinity\u001b[39m, \u001b[33mInfinity\u001b[39m, \u001b[33mInfinity\u001b[39m, \u001b[33mInfinity\u001b[39m, \u001b[33mInfinity\u001b[39m, \u001b[33mInfinity\u001b[39m,\n",
            "    \u001b[33mInfinity\u001b[39m, \u001b[33mInfinity\u001b[39m, \u001b[33mInfinity\u001b[39m, \u001b[33mInfinity\u001b[39m, \u001b[33mInfinity\u001b[39m, \u001b[33mInfinity\u001b[39m,\n",
            "    \u001b[33mInfinity\u001b[39m, \u001b[33mInfinity\u001b[39m, \u001b[33mInfinity\u001b[39m, \u001b[33mInfinity\u001b[39m, \u001b[33mInfinity\u001b[39m, \u001b[33mInfinity\u001b[39m,\n",
            "    \u001b[33mInfinity\u001b[39m, \u001b[33mInfinity\u001b[39m, \u001b[33mInfinity\u001b[39m, \u001b[33mInfinity\u001b[39m, \u001b[33mInfinity\u001b[39m, \u001b[33mInfinity\u001b[39m,\n",
            "    \u001b[33mInfinity\u001b[39m, \u001b[33mInfinity\u001b[39m, \u001b[33mInfinity\u001b[39m, \u001b[33mInfinity\u001b[39m, \u001b[33mInfinity\u001b[39m, \u001b[33mInfinity\u001b[39m,\n",
            "    \u001b[33mInfinity\u001b[39m, \u001b[33mInfinity\u001b[39m, \u001b[33mInfinity\u001b[39m, \u001b[33mInfinity\u001b[39m, \u001b[33mInfinity\u001b[39m, \u001b[33mInfinity\u001b[39m,\n",
            "    \u001b[33mInfinity\u001b[39m, \u001b[33mInfinity\u001b[39m, \u001b[33mInfinity\u001b[39m, \u001b[33mInfinity\u001b[39m, \u001b[33mInfinity\u001b[39m, \u001b[33mInfinity\u001b[39m,\n",
            "    \u001b[33mInfinity\u001b[39m, \u001b[33mInfinity\u001b[39m, \u001b[33mInfinity\u001b[39m, \u001b[33mInfinity\u001b[39m, \u001b[33mInfinity\u001b[39m, \u001b[33mInfinity\u001b[39m,\n",
            "    \u001b[33mInfinity\u001b[39m, \u001b[33mInfinity\u001b[39m, \u001b[33mInfinity\u001b[39m, \u001b[33mInfinity\u001b[39m, \u001b[33mInfinity\u001b[39m, \u001b[33mInfinity\u001b[39m,\n",
            "    \u001b[33mInfinity\u001b[39m, \u001b[33mInfinity\u001b[39m, \u001b[33mInfinity\u001b[39m, \u001b[33mInfinity\u001b[39m, \u001b[33mInfinity\u001b[39m, \u001b[33mInfinity\u001b[39m,\n",
            "    \u001b[33mInfinity\u001b[39m, \u001b[33mInfinity\u001b[39m, \u001b[33mInfinity\u001b[39m, \u001b[33mInfinity\u001b[39m, \u001b[33mInfinity\u001b[39m, \u001b[33mInfinity\u001b[39m,\n",
            "    \u001b[33mInfinity\u001b[39m, \u001b[33mInfinity\u001b[39m, \u001b[33mInfinity\u001b[39m, \u001b[33mInfinity\u001b[39m, \u001b[33mInfinity\u001b[39m, \u001b[33mInfinity\u001b[39m,\n",
            "    \u001b[33mInfinity\u001b[39m, \u001b[33mInfinity\u001b[39m, \u001b[33mInfinity\u001b[39m, \u001b[33mInfinity\u001b[39m,\n",
            "    ... 500 more items\n",
            "  ],\n",
            "  [\n",
            "    \u001b[33mInfinity\u001b[39m, \u001b[33mInfinity\u001b[39m, \u001b[33mInfinity\u001b[39m, \u001b[33mInfinity\u001b[39m, \u001b[33mInfinity\u001b[39m, \u001b[33mInfinity\u001b[39m,\n",
            "    \u001b[33mInfinity\u001b[39m, \u001b[33mInfinity\u001b[39m, \u001b[33mInfinity\u001b[39m, \u001b[33mInfinity\u001b[39m, \u001b[33mInfinity\u001b[39m, \u001b[33mInfinity\u001b[39m,\n",
            "    \u001b[33mInfinity\u001b[39m, \u001b[33mInfinity\u001b[39m, \u001b[33mInfinity\u001b[39m, \u001b[33mInfinity\u001b[39m, \u001b[33mInfinity\u001b[39m, \u001b[33mInfinity\u001b[39m,\n",
            "    \u001b[33mInfinity\u001b[39m, \u001b[33mInfinity\u001b[39m, \u001b[33mInfinity\u001b[39m, \u001b[33mInfinity\u001b[39m, \u001b[33mInfinity\u001b[39m, \u001b[33mInfinity\u001b[39m,\n",
            "    \u001b[33mInfinity\u001b[39m, \u001b[33mInfinity\u001b[39m, \u001b[33mInfinity\u001b[39m, \u001b[33mInfinity\u001b[39m, \u001b[33mInfinity\u001b[39m, \u001b[33mInfinity\u001b[39m,\n",
            "    \u001b[33mInfinity\u001b[39m, \u001b[33mInfinity\u001b[39m, \u001b[33mInfinity\u001b[39m, \u001b[33mInfinity\u001b[39m, \u001b[33mInfinity\u001b[39m, \u001b[33mInfinity\u001b[39m,\n",
            "    \u001b[33mInfinity\u001b[39m, \u001b[33mInfinity\u001b[39m, \u001b[33mInfinity\u001b[39m, \u001b[33mInfinity\u001b[39m, \u001b[33mInfinity\u001b[39m, \u001b[33mInfinity\u001b[39m,\n",
            "    \u001b[33mInfinity\u001b[39m, \u001b[33mInfinity\u001b[39m, \u001b[33mInfinity\u001b[39m, \u001b[33mInfinity\u001b[39m, \u001b[33mInfinity\u001b[39m, \u001b[33mInfinity\u001b[39m,\n",
            "    \u001b[33mInfinity\u001b[39m, \u001b[33mInfinity\u001b[39m, \u001b[33mInfinity\u001b[39m, \u001b[33mInfinity\u001b[39m, \u001b[33mInfinity\u001b[39m, \u001b[33mInfinity\u001b[39m,\n",
            "    \u001b[33mInfinity\u001b[39m, \u001b[33mInfinity\u001b[39m, \u001b[33mInfinity\u001b[39m, \u001b[33mInfinity\u001b[39m, \u001b[33mInfinity\u001b[39m, \u001b[33mInfinity\u001b[39m,\n",
            "    \u001b[33mInfinity\u001b[39m, \u001b[33mInfinity\u001b[39m, \u001b[33mInfinity\u001b[39m, \u001b[33mInfinity\u001b[39m, \u001b[33mInfinity\u001b[39m, \u001b[33mInfinity\u001b[39m,\n",
            "    \u001b[33mInfinity\u001b[39m, \u001b[33mInfinity\u001b[39m, \u001b[33mInfinity\u001b[39m, \u001b[33mInfinity\u001b[39m, \u001b[33mInfinity\u001b[39m, \u001b[33mInfinity\u001b[39m,\n",
            "    \u001b[33mInfinity\u001b[39m, \u001b[33mInfinity\u001b[39m, \u001b[33mInfinity\u001b[39m, \u001b[33mInfinity\u001b[39m, \u001b[33mInfinity\u001b[39m, \u001b[33mInfinity\u001b[39m,\n",
            "    \u001b[33mInfinity\u001b[39m, \u001b[33mInfinity\u001b[39m, \u001b[33mInfinity\u001b[39m, \u001b[33mInfinity\u001b[39m, \u001b[33mInfinity\u001b[39m, \u001b[33mInfinity\u001b[39m,\n",
            "    \u001b[33mInfinity\u001b[39m, \u001b[33mInfinity\u001b[39m, \u001b[33mInfinity\u001b[39m, \u001b[33mInfinity\u001b[39m, \u001b[33mInfinity\u001b[39m, \u001b[33mInfinity\u001b[39m,\n",
            "    \u001b[33mInfinity\u001b[39m, \u001b[33mInfinity\u001b[39m, \u001b[33mInfinity\u001b[39m, \u001b[33mInfinity\u001b[39m, \u001b[33mInfinity\u001b[39m, \u001b[33mInfinity\u001b[39m,\n",
            "    \u001b[33mInfinity\u001b[39m, \u001b[33mInfinity\u001b[39m, \u001b[33mInfinity\u001b[39m, \u001b[33mInfinity\u001b[39m,\n",
            "    ... 500 more items\n",
            "  ],\n",
            "  [\n",
            "    \u001b[33mInfinity\u001b[39m, \u001b[33mInfinity\u001b[39m, \u001b[33mInfinity\u001b[39m, \u001b[33mInfinity\u001b[39m, \u001b[33mInfinity\u001b[39m, \u001b[33mInfinity\u001b[39m,\n",
            "    \u001b[33mInfinity\u001b[39m, \u001b[33mInfinity\u001b[39m, \u001b[33mInfinity\u001b[39m, \u001b[33mInfinity\u001b[39m, \u001b[33mInfinity\u001b[39m, \u001b[33mInfinity\u001b[39m,\n",
            "    \u001b[33mInfinity\u001b[39m, \u001b[33mInfinity\u001b[39m, \u001b[33mInfinity\u001b[39m, \u001b[33mInfinity\u001b[39m, \u001b[33mInfinity\u001b[39m, \u001b[33mInfinity\u001b[39m,\n",
            "    \u001b[33mInfinity\u001b[39m, \u001b[33mInfinity\u001b[39m, \u001b[33mInfinity\u001b[39m, \u001b[33mInfinity\u001b[39m, \u001b[33mInfinity\u001b[39m, \u001b[33mInfinity\u001b[39m,\n",
            "    \u001b[33mInfinity\u001b[39m, \u001b[33mInfinity\u001b[39m, \u001b[33mInfinity\u001b[39m, \u001b[33mInfinity\u001b[39m, \u001b[33mInfinity\u001b[39m, \u001b[33mInfinity\u001b[39m,\n",
            "    \u001b[33mInfinity\u001b[39m, \u001b[33mInfinity\u001b[39m, \u001b[33mInfinity\u001b[39m, \u001b[33mInfinity\u001b[39m, \u001b[33mInfinity\u001b[39m, \u001b[33mInfinity\u001b[39m,\n",
            "    \u001b[33mInfinity\u001b[39m, \u001b[33mInfinity\u001b[39m, \u001b[33mInfinity\u001b[39m, \u001b[33mInfinity\u001b[39m, \u001b[33mInfinity\u001b[39m, \u001b[33mInfinity\u001b[39m,\n",
            "    \u001b[33mInfinity\u001b[39m, \u001b[33mInfinity\u001b[39m, \u001b[33mInfinity\u001b[39m, \u001b[33mInfinity\u001b[39m, \u001b[33mInfinity\u001b[39m, \u001b[33mInfinity\u001b[39m,\n",
            "    \u001b[33mInfinity\u001b[39m, \u001b[33mInfinity\u001b[39m, \u001b[33mInfinity\u001b[39m, \u001b[33mInfinity\u001b[39m, \u001b[33mInfinity\u001b[39m, \u001b[33mInfinity\u001b[39m,\n",
            "    \u001b[33mInfinity\u001b[39m, \u001b[33mInfinity\u001b[39m, \u001b[33mInfinity\u001b[39m, \u001b[33mInfinity\u001b[39m, \u001b[33mInfinity\u001b[39m, \u001b[33mInfinity\u001b[39m,\n",
            "    \u001b[33mInfinity\u001b[39m, \u001b[33mInfinity\u001b[39m, \u001b[33mInfinity\u001b[39m, \u001b[33mInfinity\u001b[39m, \u001b[33mInfinity\u001b[39m, \u001b[33mInfinity\u001b[39m,\n",
            "    \u001b[33mInfinity\u001b[39m, \u001b[33mInfinity\u001b[39m, \u001b[33mInfinity\u001b[39m, \u001b[33mInfinity\u001b[39m, \u001b[33mInfinity\u001b[39m, \u001b[33mInfinity\u001b[39m,\n",
            "    \u001b[33mInfinity\u001b[39m, \u001b[33mInfinity\u001b[39m, \u001b[33mInfinity\u001b[39m, \u001b[33mInfinity\u001b[39m, \u001b[33mInfinity\u001b[39m, \u001b[33mInfinity\u001b[39m,\n",
            "    \u001b[33mInfinity\u001b[39m, \u001b[33mInfinity\u001b[39m, \u001b[33mInfinity\u001b[39m, \u001b[33mInfinity\u001b[39m, \u001b[33mInfinity\u001b[39m, \u001b[33mInfinity\u001b[39m,\n",
            "    \u001b[33mInfinity\u001b[39m, \u001b[33mInfinity\u001b[39m, \u001b[33mInfinity\u001b[39m, \u001b[33mInfinity\u001b[39m, \u001b[33mInfinity\u001b[39m, \u001b[33mInfinity\u001b[39m,\n",
            "    \u001b[33mInfinity\u001b[39m, \u001b[33mInfinity\u001b[39m, \u001b[33mInfinity\u001b[39m, \u001b[33mInfinity\u001b[39m, \u001b[33mInfinity\u001b[39m, \u001b[33mInfinity\u001b[39m,\n",
            "    \u001b[33mInfinity\u001b[39m, \u001b[33mInfinity\u001b[39m, \u001b[33mInfinity\u001b[39m, \u001b[33mInfinity\u001b[39m,\n",
            "    ... 500 more items\n",
            "  ],\n",
            "  [\n",
            "    \u001b[33mInfinity\u001b[39m, \u001b[33mInfinity\u001b[39m, \u001b[33mInfinity\u001b[39m, \u001b[33mInfinity\u001b[39m, \u001b[33mInfinity\u001b[39m, \u001b[33mInfinity\u001b[39m,\n",
            "    \u001b[33mInfinity\u001b[39m, \u001b[33mInfinity\u001b[39m, \u001b[33mInfinity\u001b[39m, \u001b[33mInfinity\u001b[39m, \u001b[33mInfinity\u001b[39m, \u001b[33mInfinity\u001b[39m,\n",
            "    \u001b[33mInfinity\u001b[39m, \u001b[33mInfinity\u001b[39m, \u001b[33mInfinity\u001b[39m, \u001b[33mInfinity\u001b[39m, \u001b[33mInfinity\u001b[39m, \u001b[33mInfinity\u001b[39m,\n",
            "    \u001b[33mInfinity\u001b[39m, \u001b[33mInfinity\u001b[39m, \u001b[33mInfinity\u001b[39m, \u001b[33mInfinity\u001b[39m, \u001b[33mInfinity\u001b[39m, \u001b[33mInfinity\u001b[39m,\n",
            "    \u001b[33mInfinity\u001b[39m, \u001b[33mInfinity\u001b[39m, \u001b[33mInfinity\u001b[39m, \u001b[33mInfinity\u001b[39m, \u001b[33mInfinity\u001b[39m, \u001b[33mInfinity\u001b[39m,\n",
            "    \u001b[33mInfinity\u001b[39m, \u001b[33mInfinity\u001b[39m, \u001b[33mInfinity\u001b[39m, \u001b[33mInfinity\u001b[39m, \u001b[33mInfinity\u001b[39m, \u001b[33mInfinity\u001b[39m,\n",
            "    \u001b[33mInfinity\u001b[39m, \u001b[33mInfinity\u001b[39m, \u001b[33mInfinity\u001b[39m, \u001b[33mInfinity\u001b[39m, \u001b[33mInfinity\u001b[39m, \u001b[33mInfinity\u001b[39m,\n",
            "    \u001b[33mInfinity\u001b[39m, \u001b[33mInfinity\u001b[39m, \u001b[33mInfinity\u001b[39m, \u001b[33mInfinity\u001b[39m, \u001b[33mInfinity\u001b[39m, \u001b[33mInfinity\u001b[39m,\n",
            "    \u001b[33mInfinity\u001b[39m, \u001b[33mInfinity\u001b[39m, \u001b[33mInfinity\u001b[39m, \u001b[33mInfinity\u001b[39m, \u001b[33mInfinity\u001b[39m, \u001b[33mInfinity\u001b[39m,\n",
            "    \u001b[33mInfinity\u001b[39m, \u001b[33mInfinity\u001b[39m, \u001b[33mInfinity\u001b[39m, \u001b[33mInfinity\u001b[39m, \u001b[33mInfinity\u001b[39m, \u001b[33mInfinity\u001b[39m,\n",
            "    \u001b[33mInfinity\u001b[39m, \u001b[33mInfinity\u001b[39m, \u001b[33mInfinity\u001b[39m, \u001b[33mInfinity\u001b[39m, \u001b[33mInfinity\u001b[39m, \u001b[33mInfinity\u001b[39m,\n",
            "    \u001b[33mInfinity\u001b[39m, \u001b[33mInfinity\u001b[39m, \u001b[33mInfinity\u001b[39m, \u001b[33mInfinity\u001b[39m, \u001b[33mInfinity\u001b[39m, \u001b[33mInfinity\u001b[39m,\n",
            "    \u001b[33mInfinity\u001b[39m, \u001b[33mInfinity\u001b[39m, \u001b[33mInfinity\u001b[39m, \u001b[33mInfinity\u001b[39m, \u001b[33mInfinity\u001b[39m, \u001b[33mInfinity\u001b[39m,\n",
            "    \u001b[33mInfinity\u001b[39m, \u001b[33mInfinity\u001b[39m, \u001b[33mInfinity\u001b[39m, \u001b[33mInfinity\u001b[39m, \u001b[33mInfinity\u001b[39m, \u001b[33mInfinity\u001b[39m,\n",
            "    \u001b[33mInfinity\u001b[39m, \u001b[33mInfinity\u001b[39m, \u001b[33mInfinity\u001b[39m, \u001b[33mInfinity\u001b[39m, \u001b[33mInfinity\u001b[39m, \u001b[33mInfinity\u001b[39m,\n",
            "    \u001b[33mInfinity\u001b[39m, \u001b[33mInfinity\u001b[39m, \u001b[33mInfinity\u001b[39m, \u001b[33mInfinity\u001b[39m, \u001b[33mInfinity\u001b[39m, \u001b[33mInfinity\u001b[39m,\n",
            "    \u001b[33mInfinity\u001b[39m, \u001b[33mInfinity\u001b[39m, \u001b[33mInfinity\u001b[39m, \u001b[33mInfinity\u001b[39m,\n",
            "    ... 500 more items\n",
            "  ],\n",
            "  [\n",
            "    \u001b[33mInfinity\u001b[39m, \u001b[33mInfinity\u001b[39m, \u001b[33mInfinity\u001b[39m, \u001b[33mInfinity\u001b[39m, \u001b[33mInfinity\u001b[39m, \u001b[33mInfinity\u001b[39m,\n",
            "    \u001b[33mInfinity\u001b[39m, \u001b[33mInfinity\u001b[39m, \u001b[33mInfinity\u001b[39m, \u001b[33mInfinity\u001b[39m, \u001b[33mInfinity\u001b[39m, \u001b[33mInfinity\u001b[39m,\n",
            "    \u001b[33mInfinity\u001b[39m, \u001b[33mInfinity\u001b[39m, \u001b[33mInfinity\u001b[39m, \u001b[33mInfinity\u001b[39m, \u001b[33mInfinity\u001b[39m, \u001b[33mInfinity\u001b[39m,\n",
            "    \u001b[33mInfinity\u001b[39m, \u001b[33mInfinity\u001b[39m, \u001b[33mInfinity\u001b[39m, \u001b[33mInfinity\u001b[39m, \u001b[33mInfinity\u001b[39m, \u001b[33mInfinity\u001b[39m,\n",
            "    \u001b[33mInfinity\u001b[39m, \u001b[33mInfinity\u001b[39m, \u001b[33mInfinity\u001b[39m, \u001b[33mInfinity\u001b[39m, \u001b[33mInfinity\u001b[39m, \u001b[33mInfinity\u001b[39m,\n",
            "    \u001b[33mInfinity\u001b[39m, \u001b[33mInfinity\u001b[39m, \u001b[33mInfinity\u001b[39m, \u001b[33mInfinity\u001b[39m, \u001b[33mInfinity\u001b[39m, \u001b[33mInfinity\u001b[39m,\n",
            "    \u001b[33mInfinity\u001b[39m, \u001b[33mInfinity\u001b[39m, \u001b[33mInfinity\u001b[39m, \u001b[33mInfinity\u001b[39m, \u001b[33mInfinity\u001b[39m, \u001b[33mInfinity\u001b[39m,\n",
            "    \u001b[33mInfinity\u001b[39m, \u001b[33mInfinity\u001b[39m, \u001b[33mInfinity\u001b[39m, \u001b[33mInfinity\u001b[39m, \u001b[33mInfinity\u001b[39m, \u001b[33mInfinity\u001b[39m,\n",
            "    \u001b[33mInfinity\u001b[39m, \u001b[33mInfinity\u001b[39m, \u001b[33mInfinity\u001b[39m, \u001b[33mInfinity\u001b[39m, \u001b[33mInfinity\u001b[39m, \u001b[33mInfinity\u001b[39m,\n",
            "    \u001b[33mInfinity\u001b[39m, \u001b[33mInfinity\u001b[39m, \u001b[33mInfinity\u001b[39m, \u001b[33mInfinity\u001b[39m, \u001b[33mInfinity\u001b[39m, \u001b[33mInfinity\u001b[39m,\n",
            "    \u001b[33mInfinity\u001b[39m, \u001b[33mInfinity\u001b[39m, \u001b[33mInfinity\u001b[39m, \u001b[33mInfinity\u001b[39m, \u001b[33mInfinity\u001b[39m, \u001b[33mInfinity\u001b[39m,\n",
            "    \u001b[33mInfinity\u001b[39m, \u001b[33mInfinity\u001b[39m, \u001b[33mInfinity\u001b[39m, \u001b[33mInfinity\u001b[39m, \u001b[33mInfinity\u001b[39m, \u001b[33mInfinity\u001b[39m,\n",
            "    \u001b[33mInfinity\u001b[39m, \u001b[33mInfinity\u001b[39m, \u001b[33mInfinity\u001b[39m, \u001b[33mInfinity\u001b[39m, \u001b[33mInfinity\u001b[39m, \u001b[33mInfinity\u001b[39m,\n",
            "    \u001b[33mInfinity\u001b[39m, \u001b[33mInfinity\u001b[39m, \u001b[33mInfinity\u001b[39m, \u001b[33mInfinity\u001b[39m, \u001b[33mInfinity\u001b[39m, \u001b[33mInfinity\u001b[39m,\n",
            "    \u001b[33mInfinity\u001b[39m, \u001b[33mInfinity\u001b[39m, \u001b[33mInfinity\u001b[39m, \u001b[33mInfinity\u001b[39m, \u001b[33mInfinity\u001b[39m, \u001b[33mInfinity\u001b[39m,\n",
            "    \u001b[33mInfinity\u001b[39m, \u001b[33mInfinity\u001b[39m, \u001b[33mInfinity\u001b[39m, \u001b[33mInfinity\u001b[39m, \u001b[33mInfinity\u001b[39m, \u001b[33mInfinity\u001b[39m,\n",
            "    \u001b[33mInfinity\u001b[39m, \u001b[33mInfinity\u001b[39m, \u001b[33mInfinity\u001b[39m, \u001b[33mInfinity\u001b[39m,\n",
            "    ... 500 more items\n",
            "  ],\n",
            "  [\n",
            "    \u001b[33mInfinity\u001b[39m, \u001b[33mInfinity\u001b[39m, \u001b[33mInfinity\u001b[39m, \u001b[33mInfinity\u001b[39m, \u001b[33mInfinity\u001b[39m, \u001b[33mInfinity\u001b[39m,\n",
            "    \u001b[33mInfinity\u001b[39m, \u001b[33mInfinity\u001b[39m, \u001b[33mInfinity\u001b[39m, \u001b[33mInfinity\u001b[39m, \u001b[33mInfinity\u001b[39m, \u001b[33mInfinity\u001b[39m,\n",
            "    \u001b[33mInfinity\u001b[39m, \u001b[33mInfinity\u001b[39m, \u001b[33mInfinity\u001b[39m, \u001b[33mInfinity\u001b[39m, \u001b[33mInfinity\u001b[39m, \u001b[33mInfinity\u001b[39m,\n",
            "    \u001b[33mInfinity\u001b[39m, \u001b[33mInfinity\u001b[39m, \u001b[33mInfinity\u001b[39m, \u001b[33mInfinity\u001b[39m, \u001b[33mInfinity\u001b[39m, \u001b[33mInfinity\u001b[39m,\n",
            "    \u001b[33mInfinity\u001b[39m, \u001b[33mInfinity\u001b[39m, \u001b[33mInfinity\u001b[39m, \u001b[33mInfinity\u001b[39m, \u001b[33mInfinity\u001b[39m, \u001b[33mInfinity\u001b[39m,\n",
            "    \u001b[33mInfinity\u001b[39m, \u001b[33mInfinity\u001b[39m, \u001b[33mInfinity\u001b[39m, \u001b[33mInfinity\u001b[39m, \u001b[33mInfinity\u001b[39m, \u001b[33mInfinity\u001b[39m,\n",
            "    \u001b[33mInfinity\u001b[39m, \u001b[33mInfinity\u001b[39m, \u001b[33mInfinity\u001b[39m, \u001b[33mInfinity\u001b[39m, \u001b[33mInfinity\u001b[39m, \u001b[33mInfinity\u001b[39m,\n",
            "    \u001b[33mInfinity\u001b[39m, \u001b[33mInfinity\u001b[39m, \u001b[33mInfinity\u001b[39m, \u001b[33mInfinity\u001b[39m, \u001b[33mInfinity\u001b[39m, \u001b[33mInfinity\u001b[39m,\n",
            "    \u001b[33mInfinity\u001b[39m, \u001b[33mInfinity\u001b[39m, \u001b[33mInfinity\u001b[39m, \u001b[33mInfinity\u001b[39m, \u001b[33mInfinity\u001b[39m, \u001b[33mInfinity\u001b[39m,\n",
            "    \u001b[33mInfinity\u001b[39m, \u001b[33mInfinity\u001b[39m, \u001b[33mInfinity\u001b[39m, \u001b[33mInfinity\u001b[39m, \u001b[33mInfinity\u001b[39m, \u001b[33mInfinity\u001b[39m,\n",
            "    \u001b[33mInfinity\u001b[39m, \u001b[33mInfinity\u001b[39m, \u001b[33mInfinity\u001b[39m, \u001b[33mInfinity\u001b[39m, \u001b[33mInfinity\u001b[39m, \u001b[33mInfinity\u001b[39m,\n",
            "    \u001b[33mInfinity\u001b[39m, \u001b[33mInfinity\u001b[39m, \u001b[33mInfinity\u001b[39m, \u001b[33mInfinity\u001b[39m, \u001b[33mInfinity\u001b[39m, \u001b[33mInfinity\u001b[39m,\n",
            "    \u001b[33mInfinity\u001b[39m, \u001b[33mInfinity\u001b[39m, \u001b[33mInfinity\u001b[39m, \u001b[33mInfinity\u001b[39m, \u001b[33mInfinity\u001b[39m, \u001b[33mInfinity\u001b[39m,\n",
            "    \u001b[33mInfinity\u001b[39m, \u001b[33mInfinity\u001b[39m, \u001b[33mInfinity\u001b[39m, \u001b[33mInfinity\u001b[39m, \u001b[33mInfinity\u001b[39m, \u001b[33mInfinity\u001b[39m,\n",
            "    \u001b[33mInfinity\u001b[39m, \u001b[33mInfinity\u001b[39m, \u001b[33mInfinity\u001b[39m, \u001b[33mInfinity\u001b[39m, \u001b[33mInfinity\u001b[39m, \u001b[33mInfinity\u001b[39m,\n",
            "    \u001b[33mInfinity\u001b[39m, \u001b[33mInfinity\u001b[39m, \u001b[33mInfinity\u001b[39m, \u001b[33mInfinity\u001b[39m, \u001b[33mInfinity\u001b[39m, \u001b[33mInfinity\u001b[39m,\n",
            "    \u001b[33mInfinity\u001b[39m, \u001b[33mInfinity\u001b[39m, \u001b[33mInfinity\u001b[39m, \u001b[33mInfinity\u001b[39m,\n",
            "    ... 500 more items\n",
            "  ],\n",
            "  [\n",
            "    \u001b[33mInfinity\u001b[39m, \u001b[33mInfinity\u001b[39m, \u001b[33mInfinity\u001b[39m, \u001b[33mInfinity\u001b[39m, \u001b[33mInfinity\u001b[39m, \u001b[33mInfinity\u001b[39m,\n",
            "    \u001b[33mInfinity\u001b[39m, \u001b[33mInfinity\u001b[39m, \u001b[33mInfinity\u001b[39m, \u001b[33mInfinity\u001b[39m, \u001b[33mInfinity\u001b[39m, \u001b[33mInfinity\u001b[39m,\n",
            "    \u001b[33mInfinity\u001b[39m, \u001b[33mInfinity\u001b[39m, \u001b[33mInfinity\u001b[39m, \u001b[33mInfinity\u001b[39m, \u001b[33mInfinity\u001b[39m, \u001b[33mInfinity\u001b[39m,\n",
            "    \u001b[33mInfinity\u001b[39m, \u001b[33mInfinity\u001b[39m, \u001b[33mInfinity\u001b[39m, \u001b[33mInfinity\u001b[39m, \u001b[33mInfinity\u001b[39m, \u001b[33mInfinity\u001b[39m,\n",
            "    \u001b[33mInfinity\u001b[39m, \u001b[33mInfinity\u001b[39m, \u001b[33mInfinity\u001b[39m, \u001b[33mInfinity\u001b[39m, \u001b[33mInfinity\u001b[39m, \u001b[33mInfinity\u001b[39m,\n",
            "    \u001b[33mInfinity\u001b[39m, \u001b[33mInfinity\u001b[39m, \u001b[33mInfinity\u001b[39m, \u001b[33mInfinity\u001b[39m, \u001b[33mInfinity\u001b[39m, \u001b[33mInfinity\u001b[39m,\n",
            "    \u001b[33mInfinity\u001b[39m, \u001b[33mInfinity\u001b[39m, \u001b[33mInfinity\u001b[39m, \u001b[33mInfinity\u001b[39m, \u001b[33mInfinity\u001b[39m, \u001b[33mInfinity\u001b[39m,\n",
            "    \u001b[33mInfinity\u001b[39m, \u001b[33mInfinity\u001b[39m, \u001b[33mInfinity\u001b[39m, \u001b[33mInfinity\u001b[39m, \u001b[33mInfinity\u001b[39m, \u001b[33mInfinity\u001b[39m,\n",
            "    \u001b[33mInfinity\u001b[39m, \u001b[33mInfinity\u001b[39m, \u001b[33mInfinity\u001b[39m, \u001b[33mInfinity\u001b[39m, \u001b[33mInfinity\u001b[39m, \u001b[33mInfinity\u001b[39m,\n",
            "    \u001b[33mInfinity\u001b[39m, \u001b[33mInfinity\u001b[39m, \u001b[33mInfinity\u001b[39m, \u001b[33mInfinity\u001b[39m, \u001b[33mInfinity\u001b[39m, \u001b[33mInfinity\u001b[39m,\n",
            "    \u001b[33mInfinity\u001b[39m, \u001b[33mInfinity\u001b[39m, \u001b[33mInfinity\u001b[39m, \u001b[33mInfinity\u001b[39m, \u001b[33mInfinity\u001b[39m, \u001b[33mInfinity\u001b[39m,\n",
            "    \u001b[33mInfinity\u001b[39m, \u001b[33mInfinity\u001b[39m, \u001b[33mInfinity\u001b[39m, \u001b[33mInfinity\u001b[39m, \u001b[33mInfinity\u001b[39m, \u001b[33mInfinity\u001b[39m,\n",
            "    \u001b[33mInfinity\u001b[39m, \u001b[33mInfinity\u001b[39m, \u001b[33mInfinity\u001b[39m, \u001b[33mInfinity\u001b[39m, \u001b[33mInfinity\u001b[39m, \u001b[33mInfinity\u001b[39m,\n",
            "    \u001b[33mInfinity\u001b[39m, \u001b[33mInfinity\u001b[39m, \u001b[33mInfinity\u001b[39m, \u001b[33mInfinity\u001b[39m, \u001b[33mInfinity\u001b[39m, \u001b[33mInfinity\u001b[39m,\n",
            "    \u001b[33mInfinity\u001b[39m, \u001b[33mInfinity\u001b[39m, \u001b[33mInfinity\u001b[39m, \u001b[33mInfinity\u001b[39m, \u001b[33mInfinity\u001b[39m, \u001b[33mInfinity\u001b[39m,\n",
            "    \u001b[33mInfinity\u001b[39m, \u001b[33mInfinity\u001b[39m, \u001b[33mInfinity\u001b[39m, \u001b[33mInfinity\u001b[39m, \u001b[33mInfinity\u001b[39m, \u001b[33mInfinity\u001b[39m,\n",
            "    \u001b[33mInfinity\u001b[39m, \u001b[33mInfinity\u001b[39m, \u001b[33mInfinity\u001b[39m, \u001b[33mInfinity\u001b[39m,\n",
            "    ... 500 more items\n",
            "  ],\n",
            "  [\n",
            "    \u001b[33mInfinity\u001b[39m, \u001b[33mInfinity\u001b[39m, \u001b[33mInfinity\u001b[39m, \u001b[33mInfinity\u001b[39m, \u001b[33mInfinity\u001b[39m, \u001b[33mInfinity\u001b[39m,\n",
            "    \u001b[33mInfinity\u001b[39m, \u001b[33mInfinity\u001b[39m, \u001b[33mInfinity\u001b[39m, \u001b[33mInfinity\u001b[39m, \u001b[33mInfinity\u001b[39m, \u001b[33mInfinity\u001b[39m,\n",
            "    \u001b[33mInfinity\u001b[39m, \u001b[33mInfinity\u001b[39m, \u001b[33mInfinity\u001b[39m, \u001b[33mInfinity\u001b[39m, \u001b[33mInfinity\u001b[39m, \u001b[33mInfinity\u001b[39m,\n",
            "    \u001b[33mInfinity\u001b[39m, \u001b[33mInfinity\u001b[39m, \u001b[33mInfinity\u001b[39m, \u001b[33mInfinity\u001b[39m, \u001b[33mInfinity\u001b[39m, \u001b[33mInfinity\u001b[39m,\n",
            "    \u001b[33mInfinity\u001b[39m, \u001b[33mInfinity\u001b[39m, \u001b[33mInfinity\u001b[39m, \u001b[33mInfinity\u001b[39m, \u001b[33mInfinity\u001b[39m, \u001b[33mInfinity\u001b[39m,\n",
            "    \u001b[33mInfinity\u001b[39m, \u001b[33mInfinity\u001b[39m, \u001b[33mInfinity\u001b[39m, \u001b[33mInfinity\u001b[39m, \u001b[33mInfinity\u001b[39m, \u001b[33mInfinity\u001b[39m,\n",
            "    \u001b[33mInfinity\u001b[39m, \u001b[33mInfinity\u001b[39m, \u001b[33mInfinity\u001b[39m, \u001b[33mInfinity\u001b[39m, \u001b[33mInfinity\u001b[39m, \u001b[33mInfinity\u001b[39m,\n",
            "    \u001b[33mInfinity\u001b[39m, \u001b[33mInfinity\u001b[39m, \u001b[33mInfinity\u001b[39m, \u001b[33mInfinity\u001b[39m, \u001b[33mInfinity\u001b[39m, \u001b[33mInfinity\u001b[39m,\n",
            "    \u001b[33mInfinity\u001b[39m, \u001b[33mInfinity\u001b[39m, \u001b[33mInfinity\u001b[39m, \u001b[33mInfinity\u001b[39m, \u001b[33mInfinity\u001b[39m, \u001b[33mInfinity\u001b[39m,\n",
            "    \u001b[33mInfinity\u001b[39m, \u001b[33mInfinity\u001b[39m, \u001b[33mInfinity\u001b[39m, \u001b[33mInfinity\u001b[39m, \u001b[33mInfinity\u001b[39m, \u001b[33mInfinity\u001b[39m,\n",
            "    \u001b[33mInfinity\u001b[39m, \u001b[33mInfinity\u001b[39m, \u001b[33mInfinity\u001b[39m, \u001b[33mInfinity\u001b[39m, \u001b[33mInfinity\u001b[39m, \u001b[33mInfinity\u001b[39m,\n",
            "    \u001b[33mInfinity\u001b[39m, \u001b[33mInfinity\u001b[39m, \u001b[33mInfinity\u001b[39m, \u001b[33mInfinity\u001b[39m, \u001b[33mInfinity\u001b[39m, \u001b[33mInfinity\u001b[39m,\n",
            "    \u001b[33mInfinity\u001b[39m, \u001b[33mInfinity\u001b[39m, \u001b[33mInfinity\u001b[39m, \u001b[33mInfinity\u001b[39m, \u001b[33mInfinity\u001b[39m, \u001b[33mInfinity\u001b[39m,\n",
            "    \u001b[33mInfinity\u001b[39m, \u001b[33mInfinity\u001b[39m, \u001b[33mInfinity\u001b[39m, \u001b[33mInfinity\u001b[39m, \u001b[33mInfinity\u001b[39m, \u001b[33mInfinity\u001b[39m,\n",
            "    \u001b[33mInfinity\u001b[39m, \u001b[33mInfinity\u001b[39m, \u001b[33mInfinity\u001b[39m, \u001b[33mInfinity\u001b[39m, \u001b[33mInfinity\u001b[39m, \u001b[33mInfinity\u001b[39m,\n",
            "    \u001b[33mInfinity\u001b[39m, \u001b[33mInfinity\u001b[39m, \u001b[33mInfinity\u001b[39m, \u001b[33mInfinity\u001b[39m, \u001b[33mInfinity\u001b[39m, \u001b[33mInfinity\u001b[39m,\n",
            "    \u001b[33mInfinity\u001b[39m, \u001b[33mInfinity\u001b[39m, \u001b[33mInfinity\u001b[39m, \u001b[33mInfinity\u001b[39m,\n",
            "    ... 500 more items\n",
            "  ],\n",
            "  [\n",
            "    \u001b[33mInfinity\u001b[39m, \u001b[33mInfinity\u001b[39m, \u001b[33mInfinity\u001b[39m, \u001b[33mInfinity\u001b[39m, \u001b[33mInfinity\u001b[39m, \u001b[33mInfinity\u001b[39m,\n",
            "    \u001b[33mInfinity\u001b[39m, \u001b[33mInfinity\u001b[39m, \u001b[33mInfinity\u001b[39m, \u001b[33mInfinity\u001b[39m, \u001b[33mInfinity\u001b[39m, \u001b[33mInfinity\u001b[39m,\n",
            "    \u001b[33mInfinity\u001b[39m, \u001b[33mInfinity\u001b[39m, \u001b[33mInfinity\u001b[39m, \u001b[33mInfinity\u001b[39m, \u001b[33mInfinity\u001b[39m, \u001b[33mInfinity\u001b[39m,\n",
            "    \u001b[33mInfinity\u001b[39m, \u001b[33mInfinity\u001b[39m, \u001b[33mInfinity\u001b[39m, \u001b[33mInfinity\u001b[39m, \u001b[33mInfinity\u001b[39m, \u001b[33mInfinity\u001b[39m,\n",
            "    \u001b[33mInfinity\u001b[39m, \u001b[33mInfinity\u001b[39m, \u001b[33mInfinity\u001b[39m, \u001b[33mInfinity\u001b[39m, \u001b[33mInfinity\u001b[39m, \u001b[33mInfinity\u001b[39m,\n",
            "    \u001b[33mInfinity\u001b[39m, \u001b[33mInfinity\u001b[39m, \u001b[33mInfinity\u001b[39m, \u001b[33mInfinity\u001b[39m, \u001b[33mInfinity\u001b[39m, \u001b[33mInfinity\u001b[39m,\n",
            "    \u001b[33mInfinity\u001b[39m, \u001b[33mInfinity\u001b[39m, \u001b[33mInfinity\u001b[39m, \u001b[33mInfinity\u001b[39m, \u001b[33mInfinity\u001b[39m, \u001b[33mInfinity\u001b[39m,\n",
            "    \u001b[33mInfinity\u001b[39m, \u001b[33mInfinity\u001b[39m, \u001b[33mInfinity\u001b[39m, \u001b[33mInfinity\u001b[39m, \u001b[33mInfinity\u001b[39m, \u001b[33mInfinity\u001b[39m,\n",
            "    \u001b[33mInfinity\u001b[39m, \u001b[33mInfinity\u001b[39m, \u001b[33mInfinity\u001b[39m, \u001b[33mInfinity\u001b[39m, \u001b[33mInfinity\u001b[39m, \u001b[33mInfinity\u001b[39m,\n",
            "    \u001b[33mInfinity\u001b[39m, \u001b[33mInfinity\u001b[39m, \u001b[33mInfinity\u001b[39m, \u001b[33mInfinity\u001b[39m, \u001b[33mInfinity\u001b[39m, \u001b[33mInfinity\u001b[39m,\n",
            "    \u001b[33mInfinity\u001b[39m, \u001b[33mInfinity\u001b[39m, \u001b[33mInfinity\u001b[39m, \u001b[33mInfinity\u001b[39m, \u001b[33mInfinity\u001b[39m, \u001b[33mInfinity\u001b[39m,\n",
            "    \u001b[33mInfinity\u001b[39m, \u001b[33mInfinity\u001b[39m, \u001b[33mInfinity\u001b[39m, \u001b[33mInfinity\u001b[39m, \u001b[33mInfinity\u001b[39m, \u001b[33mInfinity\u001b[39m,\n",
            "    \u001b[33mInfinity\u001b[39m, \u001b[33mInfinity\u001b[39m, \u001b[33mInfinity\u001b[39m, \u001b[33mInfinity\u001b[39m, \u001b[33mInfinity\u001b[39m, \u001b[33mInfinity\u001b[39m,\n",
            "    \u001b[33mInfinity\u001b[39m, \u001b[33mInfinity\u001b[39m, \u001b[33mInfinity\u001b[39m, \u001b[33mInfinity\u001b[39m, \u001b[33mInfinity\u001b[39m, \u001b[33mInfinity\u001b[39m,\n",
            "    \u001b[33mInfinity\u001b[39m, \u001b[33mInfinity\u001b[39m, \u001b[33mInfinity\u001b[39m, \u001b[33mInfinity\u001b[39m, \u001b[33mInfinity\u001b[39m, \u001b[33mInfinity\u001b[39m,\n",
            "    \u001b[33mInfinity\u001b[39m, \u001b[33mInfinity\u001b[39m, \u001b[33mInfinity\u001b[39m, \u001b[33mInfinity\u001b[39m, \u001b[33mInfinity\u001b[39m, \u001b[33mInfinity\u001b[39m,\n",
            "    \u001b[33mInfinity\u001b[39m, \u001b[33mInfinity\u001b[39m, \u001b[33mInfinity\u001b[39m, \u001b[33mInfinity\u001b[39m,\n",
            "    ... 500 more items\n",
            "  ],\n",
            "  [\n",
            "    \u001b[33mInfinity\u001b[39m, \u001b[33mInfinity\u001b[39m, \u001b[33mInfinity\u001b[39m, \u001b[33mInfinity\u001b[39m, \u001b[33mInfinity\u001b[39m, \u001b[33mInfinity\u001b[39m,\n",
            "    \u001b[33mInfinity\u001b[39m, \u001b[33mInfinity\u001b[39m, \u001b[33mInfinity\u001b[39m, \u001b[33mInfinity\u001b[39m, \u001b[33mInfinity\u001b[39m, \u001b[33mInfinity\u001b[39m,\n",
            "    \u001b[33mInfinity\u001b[39m, \u001b[33mInfinity\u001b[39m, \u001b[33mInfinity\u001b[39m, \u001b[33mInfinity\u001b[39m, \u001b[33mInfinity\u001b[39m, \u001b[33mInfinity\u001b[39m,\n",
            "    \u001b[33mInfinity\u001b[39m, \u001b[33mInfinity\u001b[39m, \u001b[33mInfinity\u001b[39m, \u001b[33mInfinity\u001b[39m, \u001b[33mInfinity\u001b[39m, \u001b[33mInfinity\u001b[39m,\n",
            "    \u001b[33mInfinity\u001b[39m, \u001b[33mInfinity\u001b[39m, \u001b[33mInfinity\u001b[39m, \u001b[33mInfinity\u001b[39m, \u001b[33mInfinity\u001b[39m, \u001b[33mInfinity\u001b[39m,\n",
            "    \u001b[33mInfinity\u001b[39m, \u001b[33mInfinity\u001b[39m, \u001b[33mInfinity\u001b[39m, \u001b[33mInfinity\u001b[39m, \u001b[33mInfinity\u001b[39m, \u001b[33mInfinity\u001b[39m,\n",
            "    \u001b[33mInfinity\u001b[39m, \u001b[33mInfinity\u001b[39m, \u001b[33mInfinity\u001b[39m, \u001b[33mInfinity\u001b[39m, \u001b[33mInfinity\u001b[39m, \u001b[33mInfinity\u001b[39m,\n",
            "    \u001b[33mInfinity\u001b[39m, \u001b[33mInfinity\u001b[39m, \u001b[33mInfinity\u001b[39m, \u001b[33mInfinity\u001b[39m, \u001b[33mInfinity\u001b[39m, \u001b[33mInfinity\u001b[39m,\n",
            "    \u001b[33mInfinity\u001b[39m, \u001b[33mInfinity\u001b[39m, \u001b[33mInfinity\u001b[39m, \u001b[33mInfinity\u001b[39m, \u001b[33mInfinity\u001b[39m, \u001b[33mInfinity\u001b[39m,\n",
            "    \u001b[33mInfinity\u001b[39m, \u001b[33mInfinity\u001b[39m, \u001b[33mInfinity\u001b[39m, \u001b[33mInfinity\u001b[39m, \u001b[33mInfinity\u001b[39m, \u001b[33mInfinity\u001b[39m,\n",
            "    \u001b[33mInfinity\u001b[39m, \u001b[33mInfinity\u001b[39m, \u001b[33mInfinity\u001b[39m, \u001b[33mInfinity\u001b[39m, \u001b[33mInfinity\u001b[39m, \u001b[33mInfinity\u001b[39m,\n",
            "    \u001b[33mInfinity\u001b[39m, \u001b[33mInfinity\u001b[39m, \u001b[33mInfinity\u001b[39m, \u001b[33mInfinity\u001b[39m, \u001b[33mInfinity\u001b[39m, \u001b[33mInfinity\u001b[39m,\n",
            "    \u001b[33mInfinity\u001b[39m, \u001b[33mInfinity\u001b[39m, \u001b[33mInfinity\u001b[39m, \u001b[33mInfinity\u001b[39m, \u001b[33mInfinity\u001b[39m, \u001b[33mInfinity\u001b[39m,\n",
            "    \u001b[33mInfinity\u001b[39m, \u001b[33mInfinity\u001b[39m, \u001b[33mInfinity\u001b[39m, \u001b[33mInfinity\u001b[39m, \u001b[33mInfinity\u001b[39m, \u001b[33mInfinity\u001b[39m,\n",
            "    \u001b[33mInfinity\u001b[39m, \u001b[33mInfinity\u001b[39m, \u001b[33mInfinity\u001b[39m, \u001b[33mInfinity\u001b[39m, \u001b[33mInfinity\u001b[39m, \u001b[33mInfinity\u001b[39m,\n",
            "    \u001b[33mInfinity\u001b[39m, \u001b[33mInfinity\u001b[39m, \u001b[33mInfinity\u001b[39m, \u001b[33mInfinity\u001b[39m, \u001b[33mInfinity\u001b[39m, \u001b[33mInfinity\u001b[39m,\n",
            "    \u001b[33mInfinity\u001b[39m, \u001b[33mInfinity\u001b[39m, \u001b[33mInfinity\u001b[39m, \u001b[33mInfinity\u001b[39m,\n",
            "    ... 500 more items\n",
            "  ],\n",
            "  [\n",
            "    \u001b[33mInfinity\u001b[39m, \u001b[33mInfinity\u001b[39m, \u001b[33mInfinity\u001b[39m, \u001b[33mInfinity\u001b[39m, \u001b[33mInfinity\u001b[39m, \u001b[33mInfinity\u001b[39m,\n",
            "    \u001b[33mInfinity\u001b[39m, \u001b[33mInfinity\u001b[39m, \u001b[33mInfinity\u001b[39m, \u001b[33mInfinity\u001b[39m, \u001b[33mInfinity\u001b[39m, \u001b[33mInfinity\u001b[39m,\n",
            "    \u001b[33mInfinity\u001b[39m, \u001b[33mInfinity\u001b[39m, \u001b[33mInfinity\u001b[39m, \u001b[33mInfinity\u001b[39m, \u001b[33mInfinity\u001b[39m, \u001b[33mInfinity\u001b[39m,\n",
            "    \u001b[33mInfinity\u001b[39m, \u001b[33mInfinity\u001b[39m, \u001b[33mInfinity\u001b[39m, \u001b[33mInfinity\u001b[39m, \u001b[33mInfinity\u001b[39m, \u001b[33mInfinity\u001b[39m,\n",
            "    \u001b[33mInfinity\u001b[39m, \u001b[33mInfinity\u001b[39m, \u001b[33mInfinity\u001b[39m, \u001b[33mInfinity\u001b[39m, \u001b[33mInfinity\u001b[39m, \u001b[33mInfinity\u001b[39m,\n",
            "    \u001b[33mInfinity\u001b[39m, \u001b[33mInfinity\u001b[39m, \u001b[33mInfinity\u001b[39m, \u001b[33mInfinity\u001b[39m, \u001b[33mInfinity\u001b[39m, \u001b[33mInfinity\u001b[39m,\n",
            "    \u001b[33mInfinity\u001b[39m, \u001b[33mInfinity\u001b[39m, \u001b[33mInfinity\u001b[39m, \u001b[33mInfinity\u001b[39m, \u001b[33mInfinity\u001b[39m, \u001b[33mInfinity\u001b[39m,\n",
            "    \u001b[33mInfinity\u001b[39m, \u001b[33mInfinity\u001b[39m, \u001b[33mInfinity\u001b[39m, \u001b[33mInfinity\u001b[39m, \u001b[33mInfinity\u001b[39m, \u001b[33mInfinity\u001b[39m,\n",
            "    \u001b[33mInfinity\u001b[39m, \u001b[33mInfinity\u001b[39m, \u001b[33mInfinity\u001b[39m, \u001b[33mInfinity\u001b[39m, \u001b[33mInfinity\u001b[39m, \u001b[33mInfinity\u001b[39m,\n",
            "    \u001b[33mInfinity\u001b[39m, \u001b[33mInfinity\u001b[39m, \u001b[33mInfinity\u001b[39m, \u001b[33mInfinity\u001b[39m, \u001b[33mInfinity\u001b[39m, \u001b[33mInfinity\u001b[39m,\n",
            "    \u001b[33mInfinity\u001b[39m, \u001b[33mInfinity\u001b[39m, \u001b[33mInfinity\u001b[39m, \u001b[33mInfinity\u001b[39m, \u001b[33mInfinity\u001b[39m, \u001b[33mInfinity\u001b[39m,\n",
            "    \u001b[33mInfinity\u001b[39m, \u001b[33mInfinity\u001b[39m, \u001b[33mInfinity\u001b[39m, \u001b[33mInfinity\u001b[39m, \u001b[33mInfinity\u001b[39m, \u001b[33mInfinity\u001b[39m,\n",
            "    \u001b[33mInfinity\u001b[39m, \u001b[33mInfinity\u001b[39m, \u001b[33mInfinity\u001b[39m, \u001b[33mInfinity\u001b[39m, \u001b[33mInfinity\u001b[39m, \u001b[33mInfinity\u001b[39m,\n",
            "    \u001b[33mInfinity\u001b[39m, \u001b[33mInfinity\u001b[39m, \u001b[33mInfinity\u001b[39m, \u001b[33mInfinity\u001b[39m, \u001b[33mInfinity\u001b[39m, \u001b[33mInfinity\u001b[39m,\n",
            "    \u001b[33mInfinity\u001b[39m, \u001b[33mInfinity\u001b[39m, \u001b[33mInfinity\u001b[39m, \u001b[33mInfinity\u001b[39m, \u001b[33mInfinity\u001b[39m, \u001b[33mInfinity\u001b[39m,\n",
            "    \u001b[33mInfinity\u001b[39m, \u001b[33mInfinity\u001b[39m, \u001b[33mInfinity\u001b[39m, \u001b[33mInfinity\u001b[39m, \u001b[33mInfinity\u001b[39m, \u001b[33mInfinity\u001b[39m,\n",
            "    \u001b[33mInfinity\u001b[39m, \u001b[33mInfinity\u001b[39m, \u001b[33mInfinity\u001b[39m, \u001b[33mInfinity\u001b[39m,\n",
            "    ... 500 more items\n",
            "  ],\n",
            "  [\n",
            "    \u001b[33mInfinity\u001b[39m, \u001b[33mInfinity\u001b[39m, \u001b[33mInfinity\u001b[39m, \u001b[33mInfinity\u001b[39m, \u001b[33mInfinity\u001b[39m, \u001b[33mInfinity\u001b[39m,\n",
            "    \u001b[33mInfinity\u001b[39m, \u001b[33mInfinity\u001b[39m, \u001b[33mInfinity\u001b[39m, \u001b[33mInfinity\u001b[39m, \u001b[33mInfinity\u001b[39m, \u001b[33mInfinity\u001b[39m,\n",
            "    \u001b[33mInfinity\u001b[39m, \u001b[33mInfinity\u001b[39m, \u001b[33mInfinity\u001b[39m, \u001b[33mInfinity\u001b[39m, \u001b[33mInfinity\u001b[39m, \u001b[33mInfinity\u001b[39m,\n",
            "    \u001b[33mInfinity\u001b[39m, \u001b[33mInfinity\u001b[39m, \u001b[33mInfinity\u001b[39m, \u001b[33mInfinity\u001b[39m, \u001b[33mInfinity\u001b[39m, \u001b[33mInfinity\u001b[39m,\n",
            "    \u001b[33mInfinity\u001b[39m, \u001b[33mInfinity\u001b[39m, \u001b[33mInfinity\u001b[39m, \u001b[33mInfinity\u001b[39m, \u001b[33mInfinity\u001b[39m, \u001b[33mInfinity\u001b[39m,\n",
            "    \u001b[33mInfinity\u001b[39m, \u001b[33mInfinity\u001b[39m, \u001b[33mInfinity\u001b[39m, \u001b[33mInfinity\u001b[39m, \u001b[33mInfinity\u001b[39m, \u001b[33mInfinity\u001b[39m,\n",
            "    \u001b[33mInfinity\u001b[39m, \u001b[33mInfinity\u001b[39m, \u001b[33mInfinity\u001b[39m, \u001b[33mInfinity\u001b[39m, \u001b[33mInfinity\u001b[39m, \u001b[33mInfinity\u001b[39m,\n",
            "    \u001b[33mInfinity\u001b[39m, \u001b[33mInfinity\u001b[39m, \u001b[33mInfinity\u001b[39m, \u001b[33mInfinity\u001b[39m, \u001b[33mInfinity\u001b[39m, \u001b[33mInfinity\u001b[39m,\n",
            "    \u001b[33mInfinity\u001b[39m, \u001b[33mInfinity\u001b[39m, \u001b[33mInfinity\u001b[39m, \u001b[33mInfinity\u001b[39m, \u001b[33mInfinity\u001b[39m, \u001b[33mInfinity\u001b[39m,\n",
            "    \u001b[33mInfinity\u001b[39m, \u001b[33mInfinity\u001b[39m, \u001b[33mInfinity\u001b[39m, \u001b[33mInfinity\u001b[39m, \u001b[33mInfinity\u001b[39m, \u001b[33mInfinity\u001b[39m,\n",
            "    \u001b[33mInfinity\u001b[39m, \u001b[33mInfinity\u001b[39m, \u001b[33mInfinity\u001b[39m, \u001b[33mInfinity\u001b[39m, \u001b[33mInfinity\u001b[39m, \u001b[33mInfinity\u001b[39m,\n",
            "    \u001b[33mInfinity\u001b[39m, \u001b[33mInfinity\u001b[39m, \u001b[33mInfinity\u001b[39m, \u001b[33mInfinity\u001b[39m, \u001b[33mInfinity\u001b[39m, \u001b[33mInfinity\u001b[39m,\n",
            "    \u001b[33mInfinity\u001b[39m, \u001b[33mInfinity\u001b[39m, \u001b[33mInfinity\u001b[39m, \u001b[33mInfinity\u001b[39m, \u001b[33mInfinity\u001b[39m, \u001b[33mInfinity\u001b[39m,\n",
            "    \u001b[33mInfinity\u001b[39m, \u001b[33mInfinity\u001b[39m, \u001b[33mInfinity\u001b[39m, \u001b[33mInfinity\u001b[39m, \u001b[33mInfinity\u001b[39m, \u001b[33mInfinity\u001b[39m,\n",
            "    \u001b[33mInfinity\u001b[39m, \u001b[33mInfinity\u001b[39m, \u001b[33mInfinity\u001b[39m, \u001b[33mInfinity\u001b[39m, \u001b[33mInfinity\u001b[39m, \u001b[33mInfinity\u001b[39m,\n",
            "    \u001b[33mInfinity\u001b[39m, \u001b[33mInfinity\u001b[39m, \u001b[33mInfinity\u001b[39m, \u001b[33mInfinity\u001b[39m, \u001b[33mInfinity\u001b[39m, \u001b[33mInfinity\u001b[39m,\n",
            "    \u001b[33mInfinity\u001b[39m, \u001b[33mInfinity\u001b[39m, \u001b[33mInfinity\u001b[39m, \u001b[33mInfinity\u001b[39m,\n",
            "    ... 500 more items\n",
            "  ],\n",
            "  [\n",
            "    \u001b[33mInfinity\u001b[39m, \u001b[33mInfinity\u001b[39m, \u001b[33mInfinity\u001b[39m, \u001b[33mInfinity\u001b[39m, \u001b[33mInfinity\u001b[39m, \u001b[33mInfinity\u001b[39m,\n",
            "    \u001b[33mInfinity\u001b[39m, \u001b[33mInfinity\u001b[39m, \u001b[33mInfinity\u001b[39m, \u001b[33mInfinity\u001b[39m, \u001b[33mInfinity\u001b[39m, \u001b[33mInfinity\u001b[39m,\n",
            "    \u001b[33mInfinity\u001b[39m, \u001b[33mInfinity\u001b[39m, \u001b[33mInfinity\u001b[39m, \u001b[33mInfinity\u001b[39m, \u001b[33mInfinity\u001b[39m, \u001b[33mInfinity\u001b[39m,\n",
            "    \u001b[33mInfinity\u001b[39m, \u001b[33mInfinity\u001b[39m, \u001b[33mInfinity\u001b[39m, \u001b[33mInfinity\u001b[39m, \u001b[33mInfinity\u001b[39m, \u001b[33mInfinity\u001b[39m,\n",
            "    \u001b[33mInfinity\u001b[39m, \u001b[33mInfinity\u001b[39m, \u001b[33mInfinity\u001b[39m, \u001b[33mInfinity\u001b[39m, \u001b[33mInfinity\u001b[39m, \u001b[33mInfinity\u001b[39m,\n",
            "    \u001b[33mInfinity\u001b[39m, \u001b[33mInfinity\u001b[39m, \u001b[33mInfinity\u001b[39m, \u001b[33mInfinity\u001b[39m, \u001b[33mInfinity\u001b[39m, \u001b[33mInfinity\u001b[39m,\n",
            "    \u001b[33mInfinity\u001b[39m, \u001b[33mInfinity\u001b[39m, \u001b[33mInfinity\u001b[39m, \u001b[33mInfinity\u001b[39m, \u001b[33mInfinity\u001b[39m, \u001b[33mInfinity\u001b[39m,\n",
            "    \u001b[33mInfinity\u001b[39m, \u001b[33mInfinity\u001b[39m, \u001b[33mInfinity\u001b[39m, \u001b[33mInfinity\u001b[39m, \u001b[33mInfinity\u001b[39m, \u001b[33mInfinity\u001b[39m,\n",
            "    \u001b[33mInfinity\u001b[39m, \u001b[33mInfinity\u001b[39m, \u001b[33mInfinity\u001b[39m, \u001b[33mInfinity\u001b[39m, \u001b[33mInfinity\u001b[39m, \u001b[33mInfinity\u001b[39m,\n",
            "    \u001b[33mInfinity\u001b[39m, \u001b[33mInfinity\u001b[39m, \u001b[33mInfinity\u001b[39m, \u001b[33mInfinity\u001b[39m, \u001b[33mInfinity\u001b[39m, \u001b[33mInfinity\u001b[39m,\n",
            "    \u001b[33mInfinity\u001b[39m, \u001b[33mInfinity\u001b[39m, \u001b[33mInfinity\u001b[39m, \u001b[33mInfinity\u001b[39m, \u001b[33mInfinity\u001b[39m, \u001b[33mInfinity\u001b[39m,\n",
            "    \u001b[33mInfinity\u001b[39m, \u001b[33mInfinity\u001b[39m, \u001b[33mInfinity\u001b[39m, \u001b[33mInfinity\u001b[39m, \u001b[33mInfinity\u001b[39m, \u001b[33mInfinity\u001b[39m,\n",
            "    \u001b[33mInfinity\u001b[39m, \u001b[33mInfinity\u001b[39m, \u001b[33mInfinity\u001b[39m, \u001b[33mInfinity\u001b[39m, \u001b[33mInfinity\u001b[39m, \u001b[33mInfinity\u001b[39m,\n",
            "    \u001b[33mInfinity\u001b[39m, \u001b[33mInfinity\u001b[39m, \u001b[33mInfinity\u001b[39m, \u001b[33mInfinity\u001b[39m, \u001b[33mInfinity\u001b[39m, \u001b[33mInfinity\u001b[39m,\n",
            "    \u001b[33mInfinity\u001b[39m, \u001b[33mInfinity\u001b[39m, \u001b[33mInfinity\u001b[39m, \u001b[33mInfinity\u001b[39m, \u001b[33mInfinity\u001b[39m, \u001b[33mInfinity\u001b[39m,\n",
            "    \u001b[33mInfinity\u001b[39m, \u001b[33mInfinity\u001b[39m, \u001b[33mInfinity\u001b[39m, \u001b[33mInfinity\u001b[39m, \u001b[33mInfinity\u001b[39m, \u001b[33mInfinity\u001b[39m,\n",
            "    \u001b[33mInfinity\u001b[39m, \u001b[33mInfinity\u001b[39m, \u001b[33mInfinity\u001b[39m, \u001b[33mInfinity\u001b[39m,\n",
            "    ... 500 more items\n",
            "  ],\n",
            "  [\n",
            "    \u001b[33mInfinity\u001b[39m, \u001b[33mInfinity\u001b[39m, \u001b[33mInfinity\u001b[39m, \u001b[33mInfinity\u001b[39m, \u001b[33mInfinity\u001b[39m, \u001b[33mInfinity\u001b[39m,\n",
            "    \u001b[33mInfinity\u001b[39m, \u001b[33mInfinity\u001b[39m, \u001b[33mInfinity\u001b[39m, \u001b[33mInfinity\u001b[39m, \u001b[33mInfinity\u001b[39m, \u001b[33mInfinity\u001b[39m,\n",
            "    \u001b[33mInfinity\u001b[39m, \u001b[33mInfinity\u001b[39m, \u001b[33mInfinity\u001b[39m, \u001b[33mInfinity\u001b[39m, \u001b[33mInfinity\u001b[39m, \u001b[33mInfinity\u001b[39m,\n",
            "    \u001b[33mInfinity\u001b[39m, \u001b[33mInfinity\u001b[39m, \u001b[33mInfinity\u001b[39m, \u001b[33mInfinity\u001b[39m, \u001b[33mInfinity\u001b[39m, \u001b[33mInfinity\u001b[39m,\n",
            "    \u001b[33mInfinity\u001b[39m, \u001b[33mInfinity\u001b[39m, \u001b[33mInfinity\u001b[39m, \u001b[33mInfinity\u001b[39m, \u001b[33mInfinity\u001b[39m, \u001b[33mInfinity\u001b[39m,\n",
            "    \u001b[33mInfinity\u001b[39m, \u001b[33mInfinity\u001b[39m, \u001b[33mInfinity\u001b[39m, \u001b[33mInfinity\u001b[39m, \u001b[33mInfinity\u001b[39m, \u001b[33mInfinity\u001b[39m,\n",
            "    \u001b[33mInfinity\u001b[39m, \u001b[33mInfinity\u001b[39m, \u001b[33mInfinity\u001b[39m, \u001b[33mInfinity\u001b[39m, \u001b[33mInfinity\u001b[39m, \u001b[33mInfinity\u001b[39m,\n",
            "    \u001b[33mInfinity\u001b[39m, \u001b[33mInfinity\u001b[39m, \u001b[33mInfinity\u001b[39m, \u001b[33mInfinity\u001b[39m, \u001b[33mInfinity\u001b[39m, \u001b[33mInfinity\u001b[39m,\n",
            "    \u001b[33mInfinity\u001b[39m, \u001b[33mInfinity\u001b[39m, \u001b[33mInfinity\u001b[39m, \u001b[33mInfinity\u001b[39m, \u001b[33mInfinity\u001b[39m, \u001b[33mInfinity\u001b[39m,\n",
            "    \u001b[33mInfinity\u001b[39m, \u001b[33mInfinity\u001b[39m, \u001b[33mInfinity\u001b[39m, \u001b[33mInfinity\u001b[39m, \u001b[33mInfinity\u001b[39m, \u001b[33mInfinity\u001b[39m,\n",
            "    \u001b[33mInfinity\u001b[39m, \u001b[33mInfinity\u001b[39m, \u001b[33mInfinity\u001b[39m, \u001b[33mInfinity\u001b[39m, \u001b[33mInfinity\u001b[39m, \u001b[33mInfinity\u001b[39m,\n",
            "    \u001b[33mInfinity\u001b[39m, \u001b[33mInfinity\u001b[39m, \u001b[33mInfinity\u001b[39m, \u001b[33mInfinity\u001b[39m, \u001b[33mInfinity\u001b[39m, \u001b[33mInfinity\u001b[39m,\n",
            "    \u001b[33mInfinity\u001b[39m, \u001b[33mInfinity\u001b[39m, \u001b[33mInfinity\u001b[39m, \u001b[33mInfinity\u001b[39m, \u001b[33mInfinity\u001b[39m, \u001b[33mInfinity\u001b[39m,\n",
            "    \u001b[33mInfinity\u001b[39m, \u001b[33mInfinity\u001b[39m, \u001b[33mInfinity\u001b[39m, \u001b[33mInfinity\u001b[39m, \u001b[33mInfinity\u001b[39m, \u001b[33mInfinity\u001b[39m,\n",
            "    \u001b[33mInfinity\u001b[39m, \u001b[33mInfinity\u001b[39m, \u001b[33mInfinity\u001b[39m, \u001b[33mInfinity\u001b[39m, \u001b[33mInfinity\u001b[39m, \u001b[33mInfinity\u001b[39m,\n",
            "    \u001b[33mInfinity\u001b[39m, \u001b[33mInfinity\u001b[39m, \u001b[33mInfinity\u001b[39m, \u001b[33mInfinity\u001b[39m, \u001b[33mInfinity\u001b[39m, \u001b[33mInfinity\u001b[39m,\n",
            "    \u001b[33mInfinity\u001b[39m, \u001b[33mInfinity\u001b[39m, \u001b[33mInfinity\u001b[39m, \u001b[33mInfinity\u001b[39m,\n",
            "    ... 500 more items\n",
            "  ],\n",
            "  [\n",
            "    \u001b[33mInfinity\u001b[39m, \u001b[33mInfinity\u001b[39m, \u001b[33mInfinity\u001b[39m, \u001b[33mInfinity\u001b[39m, \u001b[33mInfinity\u001b[39m, \u001b[33mInfinity\u001b[39m,\n",
            "    \u001b[33mInfinity\u001b[39m, \u001b[33mInfinity\u001b[39m, \u001b[33mInfinity\u001b[39m, \u001b[33mInfinity\u001b[39m, \u001b[33mInfinity\u001b[39m, \u001b[33mInfinity\u001b[39m,\n",
            "    \u001b[33mInfinity\u001b[39m, \u001b[33mInfinity\u001b[39m, \u001b[33mInfinity\u001b[39m, \u001b[33mInfinity\u001b[39m, \u001b[33mInfinity\u001b[39m, \u001b[33mInfinity\u001b[39m,\n",
            "    \u001b[33mInfinity\u001b[39m, \u001b[33mInfinity\u001b[39m, \u001b[33mInfinity\u001b[39m, \u001b[33mInfinity\u001b[39m, \u001b[33mInfinity\u001b[39m, \u001b[33mInfinity\u001b[39m,\n",
            "    \u001b[33mInfinity\u001b[39m, \u001b[33mInfinity\u001b[39m, \u001b[33mInfinity\u001b[39m, \u001b[33mInfinity\u001b[39m, \u001b[33mInfinity\u001b[39m, \u001b[33mInfinity\u001b[39m,\n",
            "    \u001b[33mInfinity\u001b[39m, \u001b[33mInfinity\u001b[39m, \u001b[33mInfinity\u001b[39m, \u001b[33mInfinity\u001b[39m, \u001b[33mInfinity\u001b[39m, \u001b[33mInfinity\u001b[39m,\n",
            "    \u001b[33mInfinity\u001b[39m, \u001b[33mInfinity\u001b[39m, \u001b[33mInfinity\u001b[39m, \u001b[33mInfinity\u001b[39m, \u001b[33mInfinity\u001b[39m, \u001b[33mInfinity\u001b[39m,\n",
            "    \u001b[33mInfinity\u001b[39m, \u001b[33mInfinity\u001b[39m, \u001b[33mInfinity\u001b[39m, \u001b[33mInfinity\u001b[39m, \u001b[33mInfinity\u001b[39m, \u001b[33mInfinity\u001b[39m,\n",
            "    \u001b[33mInfinity\u001b[39m, \u001b[33mInfinity\u001b[39m, \u001b[33mInfinity\u001b[39m, \u001b[33mInfinity\u001b[39m, \u001b[33mInfinity\u001b[39m, \u001b[33mInfinity\u001b[39m,\n",
            "    \u001b[33mInfinity\u001b[39m, \u001b[33mInfinity\u001b[39m, \u001b[33mInfinity\u001b[39m, \u001b[33mInfinity\u001b[39m, \u001b[33mInfinity\u001b[39m, \u001b[33mInfinity\u001b[39m,\n",
            "    \u001b[33mInfinity\u001b[39m, \u001b[33mInfinity\u001b[39m, \u001b[33mInfinity\u001b[39m, \u001b[33mInfinity\u001b[39m, \u001b[33mInfinity\u001b[39m, \u001b[33mInfinity\u001b[39m,\n",
            "    \u001b[33mInfinity\u001b[39m, \u001b[33mInfinity\u001b[39m, \u001b[33mInfinity\u001b[39m, \u001b[33mInfinity\u001b[39m, \u001b[33mInfinity\u001b[39m, \u001b[33mInfinity\u001b[39m,\n",
            "    \u001b[33mInfinity\u001b[39m, \u001b[33mInfinity\u001b[39m, \u001b[33mInfinity\u001b[39m, \u001b[33mInfinity\u001b[39m, \u001b[33mInfinity\u001b[39m, \u001b[33mInfinity\u001b[39m,\n",
            "    \u001b[33mInfinity\u001b[39m, \u001b[33mInfinity\u001b[39m, \u001b[33mInfinity\u001b[39m, \u001b[33mInfinity\u001b[39m, \u001b[33mInfinity\u001b[39m, \u001b[33mInfinity\u001b[39m,\n",
            "    \u001b[33mInfinity\u001b[39m, \u001b[33mInfinity\u001b[39m, \u001b[33mInfinity\u001b[39m, \u001b[33mInfinity\u001b[39m, \u001b[33mInfinity\u001b[39m, \u001b[33mInfinity\u001b[39m,\n",
            "    \u001b[33mInfinity\u001b[39m, \u001b[33mInfinity\u001b[39m, \u001b[33mInfinity\u001b[39m, \u001b[33mInfinity\u001b[39m, \u001b[33mInfinity\u001b[39m, \u001b[33mInfinity\u001b[39m,\n",
            "    \u001b[33mInfinity\u001b[39m, \u001b[33mInfinity\u001b[39m, \u001b[33mInfinity\u001b[39m, \u001b[33mInfinity\u001b[39m,\n",
            "    ... 500 more items\n",
            "  ],\n",
            "  [\n",
            "    \u001b[33mInfinity\u001b[39m, \u001b[33mInfinity\u001b[39m, \u001b[33mInfinity\u001b[39m, \u001b[33mInfinity\u001b[39m, \u001b[33mInfinity\u001b[39m, \u001b[33mInfinity\u001b[39m,\n",
            "    \u001b[33mInfinity\u001b[39m, \u001b[33mInfinity\u001b[39m, \u001b[33mInfinity\u001b[39m, \u001b[33mInfinity\u001b[39m, \u001b[33mInfinity\u001b[39m, \u001b[33mInfinity\u001b[39m,\n",
            "    \u001b[33mInfinity\u001b[39m, \u001b[33mInfinity\u001b[39m, \u001b[33mInfinity\u001b[39m, \u001b[33mInfinity\u001b[39m, \u001b[33mInfinity\u001b[39m, \u001b[33mInfinity\u001b[39m,\n",
            "    \u001b[33mInfinity\u001b[39m, \u001b[33mInfinity\u001b[39m, \u001b[33mInfinity\u001b[39m, \u001b[33mInfinity\u001b[39m, \u001b[33mInfinity\u001b[39m, \u001b[33mInfinity\u001b[39m,\n",
            "    \u001b[33mInfinity\u001b[39m, \u001b[33mInfinity\u001b[39m, \u001b[33mInfinity\u001b[39m, \u001b[33mInfinity\u001b[39m, \u001b[33mInfinity\u001b[39m, \u001b[33mInfinity\u001b[39m,\n",
            "    \u001b[33mInfinity\u001b[39m, \u001b[33mInfinity\u001b[39m, \u001b[33mInfinity\u001b[39m, \u001b[33mInfinity\u001b[39m, \u001b[33mInfinity\u001b[39m, \u001b[33mInfinity\u001b[39m,\n",
            "    \u001b[33mInfinity\u001b[39m, \u001b[33mInfinity\u001b[39m, \u001b[33mInfinity\u001b[39m, \u001b[33mInfinity\u001b[39m, \u001b[33mInfinity\u001b[39m, \u001b[33mInfinity\u001b[39m,\n",
            "    \u001b[33mInfinity\u001b[39m, \u001b[33mInfinity\u001b[39m, \u001b[33mInfinity\u001b[39m, \u001b[33mInfinity\u001b[39m, \u001b[33mInfinity\u001b[39m, \u001b[33mInfinity\u001b[39m,\n",
            "    \u001b[33mInfinity\u001b[39m, \u001b[33mInfinity\u001b[39m, \u001b[33mInfinity\u001b[39m, \u001b[33mInfinity\u001b[39m, \u001b[33mInfinity\u001b[39m, \u001b[33mInfinity\u001b[39m,\n",
            "    \u001b[33mInfinity\u001b[39m, \u001b[33mInfinity\u001b[39m, \u001b[33mInfinity\u001b[39m, \u001b[33mInfinity\u001b[39m, \u001b[33mInfinity\u001b[39m, \u001b[33mInfinity\u001b[39m,\n",
            "    \u001b[33mInfinity\u001b[39m, \u001b[33mInfinity\u001b[39m, \u001b[33mInfinity\u001b[39m, \u001b[33mInfinity\u001b[39m, \u001b[33mInfinity\u001b[39m, \u001b[33mInfinity\u001b[39m,\n",
            "    \u001b[33mInfinity\u001b[39m, \u001b[33mInfinity\u001b[39m, \u001b[33mInfinity\u001b[39m, \u001b[33mInfinity\u001b[39m, \u001b[33mInfinity\u001b[39m, \u001b[33mInfinity\u001b[39m,\n",
            "    \u001b[33mInfinity\u001b[39m, \u001b[33mInfinity\u001b[39m, \u001b[33mInfinity\u001b[39m, \u001b[33mInfinity\u001b[39m, \u001b[33mInfinity\u001b[39m, \u001b[33mInfinity\u001b[39m,\n",
            "    \u001b[33mInfinity\u001b[39m, \u001b[33mInfinity\u001b[39m, \u001b[33mInfinity\u001b[39m, \u001b[33mInfinity\u001b[39m, \u001b[33mInfinity\u001b[39m, \u001b[33mInfinity\u001b[39m,\n",
            "    \u001b[33mInfinity\u001b[39m, \u001b[33mInfinity\u001b[39m, \u001b[33mInfinity\u001b[39m, \u001b[33mInfinity\u001b[39m, \u001b[33mInfinity\u001b[39m, \u001b[33mInfinity\u001b[39m,\n",
            "    \u001b[33mInfinity\u001b[39m, \u001b[33mInfinity\u001b[39m, \u001b[33mInfinity\u001b[39m, \u001b[33mInfinity\u001b[39m, \u001b[33mInfinity\u001b[39m, \u001b[33mInfinity\u001b[39m,\n",
            "    \u001b[33mInfinity\u001b[39m, \u001b[33mInfinity\u001b[39m, \u001b[33mInfinity\u001b[39m, \u001b[33mInfinity\u001b[39m,\n",
            "    ... 500 more items\n",
            "  ],\n",
            "  [\n",
            "    \u001b[33mInfinity\u001b[39m, \u001b[33mInfinity\u001b[39m, \u001b[33mInfinity\u001b[39m, \u001b[33mInfinity\u001b[39m, \u001b[33mInfinity\u001b[39m, \u001b[33mInfinity\u001b[39m,\n",
            "    \u001b[33mInfinity\u001b[39m, \u001b[33mInfinity\u001b[39m, \u001b[33mInfinity\u001b[39m, \u001b[33mInfinity\u001b[39m, \u001b[33mInfinity\u001b[39m, \u001b[33mInfinity\u001b[39m,\n",
            "    \u001b[33mInfinity\u001b[39m, \u001b[33mInfinity\u001b[39m, \u001b[33mInfinity\u001b[39m, \u001b[33mInfinity\u001b[39m, \u001b[33mInfinity\u001b[39m, \u001b[33mInfinity\u001b[39m,\n",
            "    \u001b[33mInfinity\u001b[39m, \u001b[33mInfinity\u001b[39m, \u001b[33mInfinity\u001b[39m, \u001b[33mInfinity\u001b[39m, \u001b[33mInfinity\u001b[39m, \u001b[33mInfinity\u001b[39m,\n",
            "    \u001b[33mInfinity\u001b[39m, \u001b[33mInfinity\u001b[39m, \u001b[33mInfinity\u001b[39m, \u001b[33mInfinity\u001b[39m, \u001b[33mInfinity\u001b[39m, \u001b[33mInfinity\u001b[39m,\n",
            "    \u001b[33mInfinity\u001b[39m, \u001b[33mInfinity\u001b[39m, \u001b[33mInfinity\u001b[39m, \u001b[33mInfinity\u001b[39m, \u001b[33mInfinity\u001b[39m, \u001b[33mInfinity\u001b[39m,\n",
            "    \u001b[33mInfinity\u001b[39m, \u001b[33mInfinity\u001b[39m, \u001b[33mInfinity\u001b[39m, \u001b[33mInfinity\u001b[39m, \u001b[33mInfinity\u001b[39m, \u001b[33mInfinity\u001b[39m,\n",
            "    \u001b[33mInfinity\u001b[39m, \u001b[33mInfinity\u001b[39m, \u001b[33mInfinity\u001b[39m, \u001b[33mInfinity\u001b[39m, \u001b[33mInfinity\u001b[39m, \u001b[33mInfinity\u001b[39m,\n",
            "    \u001b[33mInfinity\u001b[39m, \u001b[33mInfinity\u001b[39m, \u001b[33mInfinity\u001b[39m, \u001b[33mInfinity\u001b[39m, \u001b[33mInfinity\u001b[39m, \u001b[33mInfinity\u001b[39m,\n",
            "    \u001b[33mInfinity\u001b[39m, \u001b[33mInfinity\u001b[39m, \u001b[33mInfinity\u001b[39m, \u001b[33mInfinity\u001b[39m, \u001b[33mInfinity\u001b[39m, \u001b[33mInfinity\u001b[39m,\n",
            "    \u001b[33mInfinity\u001b[39m, \u001b[33mInfinity\u001b[39m, \u001b[33mInfinity\u001b[39m, \u001b[33mInfinity\u001b[39m, \u001b[33mInfinity\u001b[39m, \u001b[33mInfinity\u001b[39m,\n",
            "    \u001b[33mInfinity\u001b[39m, \u001b[33mInfinity\u001b[39m, \u001b[33mInfinity\u001b[39m, \u001b[33mInfinity\u001b[39m, \u001b[33mInfinity\u001b[39m, \u001b[33mInfinity\u001b[39m,\n",
            "    \u001b[33mInfinity\u001b[39m, \u001b[33mInfinity\u001b[39m, \u001b[33mInfinity\u001b[39m, \u001b[33mInfinity\u001b[39m, \u001b[33mInfinity\u001b[39m, \u001b[33mInfinity\u001b[39m,\n",
            "    \u001b[33mInfinity\u001b[39m, \u001b[33mInfinity\u001b[39m, \u001b[33mInfinity\u001b[39m, \u001b[33mInfinity\u001b[39m, \u001b[33mInfinity\u001b[39m, \u001b[33mInfinity\u001b[39m,\n",
            "    \u001b[33mInfinity\u001b[39m, \u001b[33mInfinity\u001b[39m, \u001b[33mInfinity\u001b[39m, \u001b[33mInfinity\u001b[39m, \u001b[33mInfinity\u001b[39m, \u001b[33mInfinity\u001b[39m,\n",
            "    \u001b[33mInfinity\u001b[39m, \u001b[33mInfinity\u001b[39m, \u001b[33mInfinity\u001b[39m, \u001b[33mInfinity\u001b[39m, \u001b[33mInfinity\u001b[39m, \u001b[33mInfinity\u001b[39m,\n",
            "    \u001b[33mInfinity\u001b[39m, \u001b[33mInfinity\u001b[39m, \u001b[33mInfinity\u001b[39m, \u001b[33mInfinity\u001b[39m,\n",
            "    ... 500 more items\n",
            "  ],\n",
            "  [\n",
            "    \u001b[33mInfinity\u001b[39m, \u001b[33mInfinity\u001b[39m, \u001b[33mInfinity\u001b[39m, \u001b[33mInfinity\u001b[39m, \u001b[33mInfinity\u001b[39m, \u001b[33mInfinity\u001b[39m,\n",
            "    \u001b[33mInfinity\u001b[39m, \u001b[33mInfinity\u001b[39m, \u001b[33mInfinity\u001b[39m, \u001b[33mInfinity\u001b[39m, \u001b[33mInfinity\u001b[39m, \u001b[33mInfinity\u001b[39m,\n",
            "    \u001b[33mInfinity\u001b[39m, \u001b[33mInfinity\u001b[39m, \u001b[33mInfinity\u001b[39m, \u001b[33mInfinity\u001b[39m, \u001b[33mInfinity\u001b[39m, \u001b[33mInfinity\u001b[39m,\n",
            "    \u001b[33mInfinity\u001b[39m, \u001b[33mInfinity\u001b[39m, \u001b[33mInfinity\u001b[39m, \u001b[33mInfinity\u001b[39m, \u001b[33mInfinity\u001b[39m, \u001b[33mInfinity\u001b[39m,\n",
            "    \u001b[33mInfinity\u001b[39m, \u001b[33mInfinity\u001b[39m, \u001b[33mInfinity\u001b[39m, \u001b[33mInfinity\u001b[39m, \u001b[33mInfinity\u001b[39m, \u001b[33mInfinity\u001b[39m,\n",
            "    \u001b[33mInfinity\u001b[39m, \u001b[33mInfinity\u001b[39m, \u001b[33mInfinity\u001b[39m, \u001b[33mInfinity\u001b[39m, \u001b[33mInfinity\u001b[39m, \u001b[33mInfinity\u001b[39m,\n",
            "    \u001b[33mInfinity\u001b[39m, \u001b[33mInfinity\u001b[39m, \u001b[33mInfinity\u001b[39m, \u001b[33mInfinity\u001b[39m, \u001b[33mInfinity\u001b[39m, \u001b[33mInfinity\u001b[39m,\n",
            "    \u001b[33mInfinity\u001b[39m, \u001b[33mInfinity\u001b[39m, \u001b[33mInfinity\u001b[39m, \u001b[33mInfinity\u001b[39m, \u001b[33mInfinity\u001b[39m, \u001b[33mInfinity\u001b[39m,\n",
            "    \u001b[33mInfinity\u001b[39m, \u001b[33mInfinity\u001b[39m, \u001b[33mInfinity\u001b[39m, \u001b[33mInfinity\u001b[39m, \u001b[33mInfinity\u001b[39m, \u001b[33mInfinity\u001b[39m,\n",
            "    \u001b[33mInfinity\u001b[39m, \u001b[33mInfinity\u001b[39m, \u001b[33mInfinity\u001b[39m, \u001b[33mInfinity\u001b[39m, \u001b[33mInfinity\u001b[39m, \u001b[33mInfinity\u001b[39m,\n",
            "    \u001b[33mInfinity\u001b[39m, \u001b[33mInfinity\u001b[39m, \u001b[33mInfinity\u001b[39m, \u001b[33mInfinity\u001b[39m, \u001b[33mInfinity\u001b[39m, \u001b[33mInfinity\u001b[39m,\n",
            "    \u001b[33mInfinity\u001b[39m, \u001b[33mInfinity\u001b[39m, \u001b[33mInfinity\u001b[39m, \u001b[33mInfinity\u001b[39m, \u001b[33mInfinity\u001b[39m, \u001b[33mInfinity\u001b[39m,\n",
            "    \u001b[33mInfinity\u001b[39m, \u001b[33mInfinity\u001b[39m, \u001b[33mInfinity\u001b[39m, \u001b[33mInfinity\u001b[39m, \u001b[33mInfinity\u001b[39m, \u001b[33mInfinity\u001b[39m,\n",
            "    \u001b[33mInfinity\u001b[39m, \u001b[33mInfinity\u001b[39m, \u001b[33mInfinity\u001b[39m, \u001b[33mInfinity\u001b[39m, \u001b[33mInfinity\u001b[39m, \u001b[33mInfinity\u001b[39m,\n",
            "    \u001b[33mInfinity\u001b[39m, \u001b[33mInfinity\u001b[39m, \u001b[33mInfinity\u001b[39m, \u001b[33mInfinity\u001b[39m, \u001b[33mInfinity\u001b[39m, \u001b[33mInfinity\u001b[39m,\n",
            "    \u001b[33mInfinity\u001b[39m, \u001b[33mInfinity\u001b[39m, \u001b[33mInfinity\u001b[39m, \u001b[33mInfinity\u001b[39m, \u001b[33mInfinity\u001b[39m, \u001b[33mInfinity\u001b[39m,\n",
            "    \u001b[33mInfinity\u001b[39m, \u001b[33mInfinity\u001b[39m, \u001b[33mInfinity\u001b[39m, \u001b[33mInfinity\u001b[39m,\n",
            "    ... 500 more items\n",
            "  ],\n",
            "  [\n",
            "    \u001b[33mInfinity\u001b[39m, \u001b[33mInfinity\u001b[39m, \u001b[33mInfinity\u001b[39m, \u001b[33mInfinity\u001b[39m, \u001b[33mInfinity\u001b[39m, \u001b[33mInfinity\u001b[39m,\n",
            "    \u001b[33mInfinity\u001b[39m, \u001b[33mInfinity\u001b[39m, \u001b[33mInfinity\u001b[39m, \u001b[33mInfinity\u001b[39m, \u001b[33mInfinity\u001b[39m, \u001b[33mInfinity\u001b[39m,\n",
            "    \u001b[33mInfinity\u001b[39m, \u001b[33mInfinity\u001b[39m, \u001b[33mInfinity\u001b[39m, \u001b[33mInfinity\u001b[39m, \u001b[33mInfinity\u001b[39m, \u001b[33mInfinity\u001b[39m,\n",
            "    \u001b[33mInfinity\u001b[39m, \u001b[33mInfinity\u001b[39m, \u001b[33mInfinity\u001b[39m, \u001b[33mInfinity\u001b[39m, \u001b[33mInfinity\u001b[39m, \u001b[33mInfinity\u001b[39m,\n",
            "    \u001b[33mInfinity\u001b[39m, \u001b[33mInfinity\u001b[39m, \u001b[33mInfinity\u001b[39m, \u001b[33mInfinity\u001b[39m, \u001b[33mInfinity\u001b[39m, \u001b[33mInfinity\u001b[39m,\n",
            "    \u001b[33mInfinity\u001b[39m, \u001b[33mInfinity\u001b[39m, \u001b[33mInfinity\u001b[39m, \u001b[33mInfinity\u001b[39m, \u001b[33mInfinity\u001b[39m, \u001b[33mInfinity\u001b[39m,\n",
            "    \u001b[33mInfinity\u001b[39m, \u001b[33mInfinity\u001b[39m, \u001b[33mInfinity\u001b[39m, \u001b[33mInfinity\u001b[39m, \u001b[33mInfinity\u001b[39m, \u001b[33mInfinity\u001b[39m,\n",
            "    \u001b[33mInfinity\u001b[39m, \u001b[33mInfinity\u001b[39m, \u001b[33mInfinity\u001b[39m, \u001b[33mInfinity\u001b[39m, \u001b[33mInfinity\u001b[39m, \u001b[33mInfinity\u001b[39m,\n",
            "    \u001b[33mInfinity\u001b[39m, \u001b[33mInfinity\u001b[39m, \u001b[33mInfinity\u001b[39m, \u001b[33mInfinity\u001b[39m, \u001b[33mInfinity\u001b[39m, \u001b[33mInfinity\u001b[39m,\n",
            "    \u001b[33mInfinity\u001b[39m, \u001b[33mInfinity\u001b[39m, \u001b[33mInfinity\u001b[39m, \u001b[33mInfinity\u001b[39m, \u001b[33mInfinity\u001b[39m, \u001b[33mInfinity\u001b[39m,\n",
            "    \u001b[33mInfinity\u001b[39m, \u001b[33mInfinity\u001b[39m, \u001b[33mInfinity\u001b[39m, \u001b[33mInfinity\u001b[39m, \u001b[33mInfinity\u001b[39m, \u001b[33mInfinity\u001b[39m,\n",
            "    \u001b[33mInfinity\u001b[39m, \u001b[33mInfinity\u001b[39m, \u001b[33mInfinity\u001b[39m, \u001b[33mInfinity\u001b[39m, \u001b[33mInfinity\u001b[39m, \u001b[33mInfinity\u001b[39m,\n",
            "    \u001b[33mInfinity\u001b[39m, \u001b[33mInfinity\u001b[39m, \u001b[33mInfinity\u001b[39m, \u001b[33mInfinity\u001b[39m, \u001b[33mInfinity\u001b[39m, \u001b[33mInfinity\u001b[39m,\n",
            "    \u001b[33mInfinity\u001b[39m, \u001b[33mInfinity\u001b[39m, \u001b[33mInfinity\u001b[39m, \u001b[33mInfinity\u001b[39m, \u001b[33mInfinity\u001b[39m, \u001b[33mInfinity\u001b[39m,\n",
            "    \u001b[33mInfinity\u001b[39m, \u001b[33mInfinity\u001b[39m, \u001b[33mInfinity\u001b[39m, \u001b[33mInfinity\u001b[39m, \u001b[33mInfinity\u001b[39m, \u001b[33mInfinity\u001b[39m,\n",
            "    \u001b[33mInfinity\u001b[39m, \u001b[33mInfinity\u001b[39m, \u001b[33mInfinity\u001b[39m, \u001b[33mInfinity\u001b[39m, \u001b[33mInfinity\u001b[39m, \u001b[33mInfinity\u001b[39m,\n",
            "    \u001b[33mInfinity\u001b[39m, \u001b[33mInfinity\u001b[39m, \u001b[33mInfinity\u001b[39m, \u001b[33mInfinity\u001b[39m,\n",
            "    ... 500 more items\n",
            "  ],\n",
            "  [\n",
            "    \u001b[33mInfinity\u001b[39m, \u001b[33mInfinity\u001b[39m, \u001b[33mInfinity\u001b[39m, \u001b[33mInfinity\u001b[39m, \u001b[33mInfinity\u001b[39m, \u001b[33mInfinity\u001b[39m,\n",
            "    \u001b[33mInfinity\u001b[39m, \u001b[33mInfinity\u001b[39m, \u001b[33mInfinity\u001b[39m, \u001b[33mInfinity\u001b[39m, \u001b[33mInfinity\u001b[39m, \u001b[33mInfinity\u001b[39m,\n",
            "    \u001b[33mInfinity\u001b[39m, \u001b[33mInfinity\u001b[39m, \u001b[33mInfinity\u001b[39m, \u001b[33mInfinity\u001b[39m, \u001b[33mInfinity\u001b[39m, \u001b[33mInfinity\u001b[39m,\n",
            "    \u001b[33mInfinity\u001b[39m, \u001b[33mInfinity\u001b[39m, \u001b[33mInfinity\u001b[39m, \u001b[33mInfinity\u001b[39m, \u001b[33mInfinity\u001b[39m, \u001b[33mInfinity\u001b[39m,\n",
            "    \u001b[33mInfinity\u001b[39m, \u001b[33mInfinity\u001b[39m, \u001b[33mInfinity\u001b[39m, \u001b[33mInfinity\u001b[39m, \u001b[33mInfinity\u001b[39m, \u001b[33mInfinity\u001b[39m,\n",
            "    \u001b[33mInfinity\u001b[39m, \u001b[33mInfinity\u001b[39m, \u001b[33mInfinity\u001b[39m, \u001b[33mInfinity\u001b[39m, \u001b[33mInfinity\u001b[39m, \u001b[33mInfinity\u001b[39m,\n",
            "    \u001b[33mInfinity\u001b[39m, \u001b[33mInfinity\u001b[39m, \u001b[33mInfinity\u001b[39m, \u001b[33mInfinity\u001b[39m, \u001b[33mInfinity\u001b[39m, \u001b[33mInfinity\u001b[39m,\n",
            "    \u001b[33mInfinity\u001b[39m, \u001b[33mInfinity\u001b[39m, \u001b[33mInfinity\u001b[39m, \u001b[33mInfinity\u001b[39m, \u001b[33mInfinity\u001b[39m, \u001b[33mInfinity\u001b[39m,\n",
            "    \u001b[33mInfinity\u001b[39m, \u001b[33mInfinity\u001b[39m, \u001b[33mInfinity\u001b[39m, \u001b[33mInfinity\u001b[39m, \u001b[33mInfinity\u001b[39m, \u001b[33mInfinity\u001b[39m,\n",
            "    \u001b[33mInfinity\u001b[39m, \u001b[33mInfinity\u001b[39m, \u001b[33mInfinity\u001b[39m, \u001b[33mInfinity\u001b[39m, \u001b[33mInfinity\u001b[39m, \u001b[33mInfinity\u001b[39m,\n",
            "    \u001b[33mInfinity\u001b[39m, \u001b[33mInfinity\u001b[39m, \u001b[33mInfinity\u001b[39m, \u001b[33mInfinity\u001b[39m, \u001b[33mInfinity\u001b[39m, \u001b[33mInfinity\u001b[39m,\n",
            "    \u001b[33mInfinity\u001b[39m, \u001b[33mInfinity\u001b[39m, \u001b[33mInfinity\u001b[39m, \u001b[33mInfinity\u001b[39m, \u001b[33mInfinity\u001b[39m, \u001b[33mInfinity\u001b[39m,\n",
            "    \u001b[33mInfinity\u001b[39m, \u001b[33mInfinity\u001b[39m, \u001b[33mInfinity\u001b[39m, \u001b[33mInfinity\u001b[39m, \u001b[33mInfinity\u001b[39m, \u001b[33mInfinity\u001b[39m,\n",
            "    \u001b[33mInfinity\u001b[39m, \u001b[33mInfinity\u001b[39m, \u001b[33mInfinity\u001b[39m, \u001b[33mInfinity\u001b[39m, \u001b[33mInfinity\u001b[39m, \u001b[33mInfinity\u001b[39m,\n",
            "    \u001b[33mInfinity\u001b[39m, \u001b[33mInfinity\u001b[39m, \u001b[33mInfinity\u001b[39m, \u001b[33mInfinity\u001b[39m, \u001b[33mInfinity\u001b[39m, \u001b[33mInfinity\u001b[39m,\n",
            "    \u001b[33mInfinity\u001b[39m, \u001b[33mInfinity\u001b[39m, \u001b[33mInfinity\u001b[39m, \u001b[33mInfinity\u001b[39m, \u001b[33mInfinity\u001b[39m, \u001b[33mInfinity\u001b[39m,\n",
            "    \u001b[33mInfinity\u001b[39m, \u001b[33mInfinity\u001b[39m, \u001b[33mInfinity\u001b[39m, \u001b[33mInfinity\u001b[39m,\n",
            "    ... 500 more items\n",
            "  ],\n",
            "  [\n",
            "    \u001b[33mInfinity\u001b[39m, \u001b[33mInfinity\u001b[39m, \u001b[33mInfinity\u001b[39m, \u001b[33mInfinity\u001b[39m, \u001b[33mInfinity\u001b[39m, \u001b[33mInfinity\u001b[39m,\n",
            "    \u001b[33mInfinity\u001b[39m, \u001b[33mInfinity\u001b[39m, \u001b[33mInfinity\u001b[39m, \u001b[33mInfinity\u001b[39m, \u001b[33mInfinity\u001b[39m, \u001b[33mInfinity\u001b[39m,\n",
            "    \u001b[33mInfinity\u001b[39m, \u001b[33mInfinity\u001b[39m, \u001b[33mInfinity\u001b[39m, \u001b[33mInfinity\u001b[39m, \u001b[33mInfinity\u001b[39m, \u001b[33mInfinity\u001b[39m,\n",
            "    \u001b[33mInfinity\u001b[39m, \u001b[33mInfinity\u001b[39m, \u001b[33mInfinity\u001b[39m, \u001b[33mInfinity\u001b[39m, \u001b[33mInfinity\u001b[39m, \u001b[33mInfinity\u001b[39m,\n",
            "    \u001b[33mInfinity\u001b[39m, \u001b[33mInfinity\u001b[39m, \u001b[33mInfinity\u001b[39m, \u001b[33mInfinity\u001b[39m, \u001b[33mInfinity\u001b[39m, \u001b[33mInfinity\u001b[39m,\n",
            "    \u001b[33mInfinity\u001b[39m, \u001b[33mInfinity\u001b[39m, \u001b[33mInfinity\u001b[39m, \u001b[33mInfinity\u001b[39m, \u001b[33mInfinity\u001b[39m, \u001b[33mInfinity\u001b[39m,\n",
            "    \u001b[33mInfinity\u001b[39m, \u001b[33mInfinity\u001b[39m, \u001b[33mInfinity\u001b[39m, \u001b[33mInfinity\u001b[39m, \u001b[33mInfinity\u001b[39m, \u001b[33mInfinity\u001b[39m,\n",
            "    \u001b[33mInfinity\u001b[39m, \u001b[33mInfinity\u001b[39m, \u001b[33mInfinity\u001b[39m, \u001b[33mInfinity\u001b[39m, \u001b[33mInfinity\u001b[39m, \u001b[33mInfinity\u001b[39m,\n",
            "    \u001b[33mInfinity\u001b[39m, \u001b[33mInfinity\u001b[39m, \u001b[33mInfinity\u001b[39m, \u001b[33mInfinity\u001b[39m, \u001b[33mInfinity\u001b[39m, \u001b[33mInfinity\u001b[39m,\n",
            "    \u001b[33mInfinity\u001b[39m, \u001b[33mInfinity\u001b[39m, \u001b[33mInfinity\u001b[39m, \u001b[33mInfinity\u001b[39m, \u001b[33mInfinity\u001b[39m, \u001b[33mInfinity\u001b[39m,\n",
            "    \u001b[33mInfinity\u001b[39m, \u001b[33mInfinity\u001b[39m, \u001b[33mInfinity\u001b[39m, \u001b[33mInfinity\u001b[39m, \u001b[33mInfinity\u001b[39m, \u001b[33mInfinity\u001b[39m,\n",
            "    \u001b[33mInfinity\u001b[39m, \u001b[33mInfinity\u001b[39m, \u001b[33mInfinity\u001b[39m, \u001b[33mInfinity\u001b[39m, \u001b[33mInfinity\u001b[39m, \u001b[33mInfinity\u001b[39m,\n",
            "    \u001b[33mInfinity\u001b[39m, \u001b[33mInfinity\u001b[39m, \u001b[33mInfinity\u001b[39m, \u001b[33mInfinity\u001b[39m, \u001b[33mInfinity\u001b[39m, \u001b[33mInfinity\u001b[39m,\n",
            "    \u001b[33mInfinity\u001b[39m, \u001b[33mInfinity\u001b[39m, \u001b[33mInfinity\u001b[39m, \u001b[33mInfinity\u001b[39m, \u001b[33mInfinity\u001b[39m, \u001b[33mInfinity\u001b[39m,\n",
            "    \u001b[33mInfinity\u001b[39m, \u001b[33mInfinity\u001b[39m, \u001b[33mInfinity\u001b[39m, \u001b[33mInfinity\u001b[39m, \u001b[33mInfinity\u001b[39m, \u001b[33mInfinity\u001b[39m,\n",
            "    \u001b[33mInfinity\u001b[39m, \u001b[33mInfinity\u001b[39m, \u001b[33mInfinity\u001b[39m, \u001b[33mInfinity\u001b[39m, \u001b[33mInfinity\u001b[39m, \u001b[33mInfinity\u001b[39m,\n",
            "    \u001b[33mInfinity\u001b[39m, \u001b[33mInfinity\u001b[39m, \u001b[33mInfinity\u001b[39m, \u001b[33mInfinity\u001b[39m,\n",
            "    ... 500 more items\n",
            "  ],\n",
            "  [\n",
            "    \u001b[33mInfinity\u001b[39m, \u001b[33mInfinity\u001b[39m, \u001b[33mInfinity\u001b[39m, \u001b[33mInfinity\u001b[39m, \u001b[33mInfinity\u001b[39m, \u001b[33mInfinity\u001b[39m,\n",
            "    \u001b[33mInfinity\u001b[39m, \u001b[33mInfinity\u001b[39m, \u001b[33mInfinity\u001b[39m, \u001b[33mInfinity\u001b[39m, \u001b[33mInfinity\u001b[39m, \u001b[33mInfinity\u001b[39m,\n",
            "    \u001b[33mInfinity\u001b[39m, \u001b[33mInfinity\u001b[39m, \u001b[33mInfinity\u001b[39m, \u001b[33mInfinity\u001b[39m, \u001b[33mInfinity\u001b[39m, \u001b[33mInfinity\u001b[39m,\n",
            "    \u001b[33mInfinity\u001b[39m, \u001b[33mInfinity\u001b[39m, \u001b[33mInfinity\u001b[39m, \u001b[33mInfinity\u001b[39m, \u001b[33mInfinity\u001b[39m, \u001b[33mInfinity\u001b[39m,\n",
            "    \u001b[33mInfinity\u001b[39m, \u001b[33mInfinity\u001b[39m, \u001b[33mInfinity\u001b[39m, \u001b[33mInfinity\u001b[39m, \u001b[33mInfinity\u001b[39m, \u001b[33mInfinity\u001b[39m,\n",
            "    \u001b[33mInfinity\u001b[39m, \u001b[33mInfinity\u001b[39m, \u001b[33mInfinity\u001b[39m, \u001b[33mInfinity\u001b[39m, \u001b[33mInfinity\u001b[39m, \u001b[33mInfinity\u001b[39m,\n",
            "    \u001b[33mInfinity\u001b[39m, \u001b[33mInfinity\u001b[39m, \u001b[33mInfinity\u001b[39m, \u001b[33mInfinity\u001b[39m, \u001b[33mInfinity\u001b[39m, \u001b[33mInfinity\u001b[39m,\n",
            "    \u001b[33mInfinity\u001b[39m, \u001b[33mInfinity\u001b[39m, \u001b[33mInfinity\u001b[39m, \u001b[33mInfinity\u001b[39m, \u001b[33mInfinity\u001b[39m, \u001b[33mInfinity\u001b[39m,\n",
            "    \u001b[33mInfinity\u001b[39m, \u001b[33mInfinity\u001b[39m, \u001b[33mInfinity\u001b[39m, \u001b[33mInfinity\u001b[39m, \u001b[33mInfinity\u001b[39m, \u001b[33mInfinity\u001b[39m,\n",
            "    \u001b[33mInfinity\u001b[39m, \u001b[33mInfinity\u001b[39m, \u001b[33mInfinity\u001b[39m, \u001b[33mInfinity\u001b[39m, \u001b[33mInfinity\u001b[39m, \u001b[33mInfinity\u001b[39m,\n",
            "    \u001b[33mInfinity\u001b[39m, \u001b[33mInfinity\u001b[39m, \u001b[33mInfinity\u001b[39m, \u001b[33mInfinity\u001b[39m, \u001b[33mInfinity\u001b[39m, \u001b[33mInfinity\u001b[39m,\n",
            "    \u001b[33mInfinity\u001b[39m, \u001b[33mInfinity\u001b[39m, \u001b[33mInfinity\u001b[39m, \u001b[33mInfinity\u001b[39m, \u001b[33mInfinity\u001b[39m, \u001b[33mInfinity\u001b[39m,\n",
            "    \u001b[33mInfinity\u001b[39m, \u001b[33mInfinity\u001b[39m, \u001b[33mInfinity\u001b[39m, \u001b[33mInfinity\u001b[39m, \u001b[33mInfinity\u001b[39m, \u001b[33mInfinity\u001b[39m,\n",
            "    \u001b[33mInfinity\u001b[39m, \u001b[33mInfinity\u001b[39m, \u001b[33mInfinity\u001b[39m, \u001b[33mInfinity\u001b[39m, \u001b[33mInfinity\u001b[39m, \u001b[33mInfinity\u001b[39m,\n",
            "    \u001b[33mInfinity\u001b[39m, \u001b[33mInfinity\u001b[39m, \u001b[33mInfinity\u001b[39m, \u001b[33mInfinity\u001b[39m, \u001b[33mInfinity\u001b[39m, \u001b[33mInfinity\u001b[39m,\n",
            "    \u001b[33mInfinity\u001b[39m, \u001b[33mInfinity\u001b[39m, \u001b[33mInfinity\u001b[39m, \u001b[33mInfinity\u001b[39m, \u001b[33mInfinity\u001b[39m, \u001b[33mInfinity\u001b[39m,\n",
            "    \u001b[33mInfinity\u001b[39m, \u001b[33mInfinity\u001b[39m, \u001b[33mInfinity\u001b[39m, \u001b[33mInfinity\u001b[39m,\n",
            "    ... 500 more items\n",
            "  ],\n",
            "  [\n",
            "    \u001b[33mInfinity\u001b[39m, \u001b[33mInfinity\u001b[39m, \u001b[33mInfinity\u001b[39m, \u001b[33mInfinity\u001b[39m, \u001b[33mInfinity\u001b[39m, \u001b[33mInfinity\u001b[39m,\n",
            "    \u001b[33mInfinity\u001b[39m, \u001b[33mInfinity\u001b[39m, \u001b[33mInfinity\u001b[39m, \u001b[33mInfinity\u001b[39m, \u001b[33mInfinity\u001b[39m, \u001b[33mInfinity\u001b[39m,\n",
            "    \u001b[33mInfinity\u001b[39m, \u001b[33mInfinity\u001b[39m, \u001b[33mInfinity\u001b[39m, \u001b[33mInfinity\u001b[39m, \u001b[33mInfinity\u001b[39m, \u001b[33mInfinity\u001b[39m,\n",
            "    \u001b[33mInfinity\u001b[39m, \u001b[33mInfinity\u001b[39m, \u001b[33mInfinity\u001b[39m, \u001b[33mInfinity\u001b[39m, \u001b[33mInfinity\u001b[39m, \u001b[33mInfinity\u001b[39m,\n",
            "    \u001b[33mInfinity\u001b[39m, \u001b[33mInfinity\u001b[39m, \u001b[33mInfinity\u001b[39m, \u001b[33mInfinity\u001b[39m, \u001b[33mInfinity\u001b[39m, \u001b[33mInfinity\u001b[39m,\n",
            "    \u001b[33mInfinity\u001b[39m, \u001b[33mInfinity\u001b[39m, \u001b[33mInfinity\u001b[39m, \u001b[33mInfinity\u001b[39m, \u001b[33mInfinity\u001b[39m, \u001b[33mInfinity\u001b[39m,\n",
            "    \u001b[33mInfinity\u001b[39m, \u001b[33mInfinity\u001b[39m, \u001b[33mInfinity\u001b[39m, \u001b[33mInfinity\u001b[39m, \u001b[33mInfinity\u001b[39m, \u001b[33mInfinity\u001b[39m,\n",
            "    \u001b[33mInfinity\u001b[39m, \u001b[33mInfinity\u001b[39m, \u001b[33mInfinity\u001b[39m, \u001b[33mInfinity\u001b[39m, \u001b[33mInfinity\u001b[39m, \u001b[33mInfinity\u001b[39m,\n",
            "    \u001b[33mInfinity\u001b[39m, \u001b[33mInfinity\u001b[39m, \u001b[33mInfinity\u001b[39m, \u001b[33mInfinity\u001b[39m, \u001b[33mInfinity\u001b[39m, \u001b[33mInfinity\u001b[39m,\n",
            "    \u001b[33mInfinity\u001b[39m, \u001b[33mInfinity\u001b[39m, \u001b[33mInfinity\u001b[39m, \u001b[33mInfinity\u001b[39m, \u001b[33mInfinity\u001b[39m, \u001b[33mInfinity\u001b[39m,\n",
            "    \u001b[33mInfinity\u001b[39m, \u001b[33mInfinity\u001b[39m, \u001b[33mInfinity\u001b[39m, \u001b[33mInfinity\u001b[39m, \u001b[33mInfinity\u001b[39m, \u001b[33mInfinity\u001b[39m,\n",
            "    \u001b[33mInfinity\u001b[39m, \u001b[33mInfinity\u001b[39m, \u001b[33mInfinity\u001b[39m, \u001b[33mInfinity\u001b[39m, \u001b[33mInfinity\u001b[39m, \u001b[33mInfinity\u001b[39m,\n",
            "    \u001b[33mInfinity\u001b[39m, \u001b[33mInfinity\u001b[39m, \u001b[33mInfinity\u001b[39m, \u001b[33mInfinity\u001b[39m, \u001b[33mInfinity\u001b[39m, \u001b[33mInfinity\u001b[39m,\n",
            "    \u001b[33mInfinity\u001b[39m, \u001b[33mInfinity\u001b[39m, \u001b[33mInfinity\u001b[39m, \u001b[33mInfinity\u001b[39m, \u001b[33mInfinity\u001b[39m, \u001b[33mInfinity\u001b[39m,\n",
            "    \u001b[33mInfinity\u001b[39m, \u001b[33mInfinity\u001b[39m, \u001b[33mInfinity\u001b[39m, \u001b[33mInfinity\u001b[39m, \u001b[33mInfinity\u001b[39m, \u001b[33mInfinity\u001b[39m,\n",
            "    \u001b[33mInfinity\u001b[39m, \u001b[33mInfinity\u001b[39m, \u001b[33mInfinity\u001b[39m, \u001b[33mInfinity\u001b[39m, \u001b[33mInfinity\u001b[39m, \u001b[33mInfinity\u001b[39m,\n",
            "    \u001b[33mInfinity\u001b[39m, \u001b[33mInfinity\u001b[39m, \u001b[33mInfinity\u001b[39m, \u001b[33mInfinity\u001b[39m,\n",
            "    ... 500 more items\n",
            "  ],\n",
            "  [\n",
            "    \u001b[33mInfinity\u001b[39m, \u001b[33mInfinity\u001b[39m, \u001b[33mInfinity\u001b[39m, \u001b[33mInfinity\u001b[39m, \u001b[33mInfinity\u001b[39m, \u001b[33mInfinity\u001b[39m,\n",
            "    \u001b[33mInfinity\u001b[39m, \u001b[33mInfinity\u001b[39m, \u001b[33mInfinity\u001b[39m, \u001b[33mInfinity\u001b[39m, \u001b[33mInfinity\u001b[39m, \u001b[33mInfinity\u001b[39m,\n",
            "    \u001b[33mInfinity\u001b[39m, \u001b[33mInfinity\u001b[39m, \u001b[33mInfinity\u001b[39m, \u001b[33mInfinity\u001b[39m, \u001b[33mInfinity\u001b[39m, \u001b[33mInfinity\u001b[39m,\n",
            "    \u001b[33mInfinity\u001b[39m, \u001b[33mInfinity\u001b[39m, \u001b[33mInfinity\u001b[39m, \u001b[33mInfinity\u001b[39m, \u001b[33mInfinity\u001b[39m, \u001b[33mInfinity\u001b[39m,\n",
            "    \u001b[33mInfinity\u001b[39m, \u001b[33mInfinity\u001b[39m, \u001b[33mInfinity\u001b[39m, \u001b[33mInfinity\u001b[39m, \u001b[33mInfinity\u001b[39m, \u001b[33mInfinity\u001b[39m,\n",
            "    \u001b[33mInfinity\u001b[39m, \u001b[33mInfinity\u001b[39m, \u001b[33mInfinity\u001b[39m, \u001b[33mInfinity\u001b[39m, \u001b[33mInfinity\u001b[39m, \u001b[33mInfinity\u001b[39m,\n",
            "    \u001b[33mInfinity\u001b[39m, \u001b[33mInfinity\u001b[39m, \u001b[33mInfinity\u001b[39m, \u001b[33mInfinity\u001b[39m, \u001b[33mInfinity\u001b[39m, \u001b[33mInfinity\u001b[39m,\n",
            "    \u001b[33mInfinity\u001b[39m, \u001b[33mInfinity\u001b[39m, \u001b[33mInfinity\u001b[39m, \u001b[33mInfinity\u001b[39m, \u001b[33mInfinity\u001b[39m, \u001b[33mInfinity\u001b[39m,\n",
            "    \u001b[33mInfinity\u001b[39m, \u001b[33mInfinity\u001b[39m, \u001b[33mInfinity\u001b[39m, \u001b[33mInfinity\u001b[39m, \u001b[33mInfinity\u001b[39m, \u001b[33mInfinity\u001b[39m,\n",
            "    \u001b[33mInfinity\u001b[39m, \u001b[33mInfinity\u001b[39m, \u001b[33mInfinity\u001b[39m, \u001b[33mInfinity\u001b[39m, \u001b[33mInfinity\u001b[39m, \u001b[33mInfinity\u001b[39m,\n",
            "    \u001b[33mInfinity\u001b[39m, \u001b[33mInfinity\u001b[39m, \u001b[33mInfinity\u001b[39m, \u001b[33mInfinity\u001b[39m, \u001b[33mInfinity\u001b[39m, \u001b[33mInfinity\u001b[39m,\n",
            "    \u001b[33mInfinity\u001b[39m, \u001b[33mInfinity\u001b[39m, \u001b[33mInfinity\u001b[39m, \u001b[33mInfinity\u001b[39m, \u001b[33mInfinity\u001b[39m, \u001b[33mInfinity\u001b[39m,\n",
            "    \u001b[33mInfinity\u001b[39m, \u001b[33mInfinity\u001b[39m, \u001b[33mInfinity\u001b[39m, \u001b[33mInfinity\u001b[39m, \u001b[33mInfinity\u001b[39m, \u001b[33mInfinity\u001b[39m,\n",
            "    \u001b[33mInfinity\u001b[39m, \u001b[33mInfinity\u001b[39m, \u001b[33mInfinity\u001b[39m, \u001b[33mInfinity\u001b[39m, \u001b[33mInfinity\u001b[39m, \u001b[33mInfinity\u001b[39m,\n",
            "    \u001b[33mInfinity\u001b[39m, \u001b[33mInfinity\u001b[39m, \u001b[33mInfinity\u001b[39m, \u001b[33mInfinity\u001b[39m, \u001b[33mInfinity\u001b[39m, \u001b[33mInfinity\u001b[39m,\n",
            "    \u001b[33mInfinity\u001b[39m, \u001b[33mInfinity\u001b[39m, \u001b[33mInfinity\u001b[39m, \u001b[33mInfinity\u001b[39m, \u001b[33mInfinity\u001b[39m, \u001b[33mInfinity\u001b[39m,\n",
            "    \u001b[33mInfinity\u001b[39m, \u001b[33mInfinity\u001b[39m, \u001b[33mInfinity\u001b[39m, \u001b[33mInfinity\u001b[39m,\n",
            "    ... 500 more items\n",
            "  ],\n",
            "  [\n",
            "    \u001b[33mInfinity\u001b[39m, \u001b[33mInfinity\u001b[39m, \u001b[33mInfinity\u001b[39m, \u001b[33mInfinity\u001b[39m, \u001b[33mInfinity\u001b[39m, \u001b[33mInfinity\u001b[39m,\n",
            "    \u001b[33mInfinity\u001b[39m, \u001b[33mInfinity\u001b[39m, \u001b[33mInfinity\u001b[39m, \u001b[33mInfinity\u001b[39m, \u001b[33mInfinity\u001b[39m, \u001b[33mInfinity\u001b[39m,\n",
            "    \u001b[33mInfinity\u001b[39m, \u001b[33mInfinity\u001b[39m, \u001b[33mInfinity\u001b[39m, \u001b[33mInfinity\u001b[39m, \u001b[33mInfinity\u001b[39m, \u001b[33mInfinity\u001b[39m,\n",
            "    \u001b[33mInfinity\u001b[39m, \u001b[33mInfinity\u001b[39m, \u001b[33mInfinity\u001b[39m, \u001b[33mInfinity\u001b[39m, \u001b[33mInfinity\u001b[39m, \u001b[33mInfinity\u001b[39m,\n",
            "    \u001b[33mInfinity\u001b[39m, \u001b[33mInfinity\u001b[39m, \u001b[33mInfinity\u001b[39m, \u001b[33mInfinity\u001b[39m, \u001b[33mInfinity\u001b[39m, \u001b[33mInfinity\u001b[39m,\n",
            "    \u001b[33mInfinity\u001b[39m, \u001b[33mInfinity\u001b[39m, \u001b[33mInfinity\u001b[39m, \u001b[33mInfinity\u001b[39m, \u001b[33mInfinity\u001b[39m, \u001b[33mInfinity\u001b[39m,\n",
            "    \u001b[33mInfinity\u001b[39m, \u001b[33mInfinity\u001b[39m, \u001b[33mInfinity\u001b[39m, \u001b[33mInfinity\u001b[39m, \u001b[33mInfinity\u001b[39m, \u001b[33mInfinity\u001b[39m,\n",
            "    \u001b[33mInfinity\u001b[39m, \u001b[33mInfinity\u001b[39m, \u001b[33mInfinity\u001b[39m, \u001b[33mInfinity\u001b[39m, \u001b[33mInfinity\u001b[39m, \u001b[33mInfinity\u001b[39m,\n",
            "    \u001b[33mInfinity\u001b[39m, \u001b[33mInfinity\u001b[39m, \u001b[33mInfinity\u001b[39m, \u001b[33mInfinity\u001b[39m, \u001b[33mInfinity\u001b[39m, \u001b[33mInfinity\u001b[39m,\n",
            "    \u001b[33mInfinity\u001b[39m, \u001b[33mInfinity\u001b[39m, \u001b[33mInfinity\u001b[39m, \u001b[33mInfinity\u001b[39m, \u001b[33mInfinity\u001b[39m, \u001b[33mInfinity\u001b[39m,\n",
            "    \u001b[33mInfinity\u001b[39m, \u001b[33mInfinity\u001b[39m, \u001b[33mInfinity\u001b[39m, \u001b[33mInfinity\u001b[39m, \u001b[33mInfinity\u001b[39m, \u001b[33mInfinity\u001b[39m,\n",
            "    \u001b[33mInfinity\u001b[39m, \u001b[33mInfinity\u001b[39m, \u001b[33mInfinity\u001b[39m, \u001b[33mInfinity\u001b[39m, \u001b[33mInfinity\u001b[39m, \u001b[33mInfinity\u001b[39m,\n",
            "    \u001b[33mInfinity\u001b[39m, \u001b[33mInfinity\u001b[39m, \u001b[33mInfinity\u001b[39m, \u001b[33mInfinity\u001b[39m, \u001b[33mInfinity\u001b[39m, \u001b[33mInfinity\u001b[39m,\n",
            "    \u001b[33mInfinity\u001b[39m, \u001b[33mInfinity\u001b[39m, \u001b[33mInfinity\u001b[39m, \u001b[33mInfinity\u001b[39m, \u001b[33mInfinity\u001b[39m, \u001b[33mInfinity\u001b[39m,\n",
            "    \u001b[33mInfinity\u001b[39m, \u001b[33mInfinity\u001b[39m, \u001b[33mInfinity\u001b[39m, \u001b[33mInfinity\u001b[39m, \u001b[33mInfinity\u001b[39m, \u001b[33mInfinity\u001b[39m,\n",
            "    \u001b[33mInfinity\u001b[39m, \u001b[33mInfinity\u001b[39m, \u001b[33mInfinity\u001b[39m, \u001b[33mInfinity\u001b[39m, \u001b[33mInfinity\u001b[39m, \u001b[33mInfinity\u001b[39m,\n",
            "    \u001b[33mInfinity\u001b[39m, \u001b[33mInfinity\u001b[39m, \u001b[33mInfinity\u001b[39m, \u001b[33mInfinity\u001b[39m,\n",
            "    ... 500 more items\n",
            "  ],\n",
            "  [\n",
            "    \u001b[33mInfinity\u001b[39m, \u001b[33mInfinity\u001b[39m, \u001b[33mInfinity\u001b[39m, \u001b[33mInfinity\u001b[39m, \u001b[33mInfinity\u001b[39m, \u001b[33mInfinity\u001b[39m,\n",
            "    \u001b[33mInfinity\u001b[39m, \u001b[33mInfinity\u001b[39m, \u001b[33mInfinity\u001b[39m, \u001b[33mInfinity\u001b[39m, \u001b[33mInfinity\u001b[39m, \u001b[33mInfinity\u001b[39m,\n",
            "    \u001b[33mInfinity\u001b[39m, \u001b[33mInfinity\u001b[39m, \u001b[33mInfinity\u001b[39m, \u001b[33mInfinity\u001b[39m, \u001b[33mInfinity\u001b[39m, \u001b[33mInfinity\u001b[39m,\n",
            "    \u001b[33mInfinity\u001b[39m, \u001b[33mInfinity\u001b[39m, \u001b[33mInfinity\u001b[39m, \u001b[33mInfinity\u001b[39m, \u001b[33mInfinity\u001b[39m, \u001b[33mInfinity\u001b[39m,\n",
            "    \u001b[33mInfinity\u001b[39m, \u001b[33mInfinity\u001b[39m, \u001b[33mInfinity\u001b[39m, \u001b[33mInfinity\u001b[39m, \u001b[33mInfinity\u001b[39m, \u001b[33mInfinity\u001b[39m,\n",
            "    \u001b[33mInfinity\u001b[39m, \u001b[33mInfinity\u001b[39m, \u001b[33mInfinity\u001b[39m, \u001b[33mInfinity\u001b[39m, \u001b[33mInfinity\u001b[39m, \u001b[33mInfinity\u001b[39m,\n",
            "    \u001b[33mInfinity\u001b[39m, \u001b[33mInfinity\u001b[39m, \u001b[33mInfinity\u001b[39m, \u001b[33mInfinity\u001b[39m, \u001b[33mInfinity\u001b[39m, \u001b[33mInfinity\u001b[39m,\n",
            "    \u001b[33mInfinity\u001b[39m, \u001b[33mInfinity\u001b[39m, \u001b[33mInfinity\u001b[39m, \u001b[33mInfinity\u001b[39m, \u001b[33mInfinity\u001b[39m, \u001b[33mInfinity\u001b[39m,\n",
            "    \u001b[33mInfinity\u001b[39m, \u001b[33mInfinity\u001b[39m, \u001b[33mInfinity\u001b[39m, \u001b[33mInfinity\u001b[39m, \u001b[33mInfinity\u001b[39m, \u001b[33mInfinity\u001b[39m,\n",
            "    \u001b[33mInfinity\u001b[39m, \u001b[33mInfinity\u001b[39m, \u001b[33mInfinity\u001b[39m, \u001b[33mInfinity\u001b[39m, \u001b[33mInfinity\u001b[39m, \u001b[33mInfinity\u001b[39m,\n",
            "    \u001b[33mInfinity\u001b[39m, \u001b[33mInfinity\u001b[39m, \u001b[33mInfinity\u001b[39m, \u001b[33mInfinity\u001b[39m, \u001b[33mInfinity\u001b[39m, \u001b[33mInfinity\u001b[39m,\n",
            "    \u001b[33mInfinity\u001b[39m, \u001b[33mInfinity\u001b[39m, \u001b[33mInfinity\u001b[39m, \u001b[33mInfinity\u001b[39m, \u001b[33mInfinity\u001b[39m, \u001b[33mInfinity\u001b[39m,\n",
            "    \u001b[33mInfinity\u001b[39m, \u001b[33mInfinity\u001b[39m, \u001b[33mInfinity\u001b[39m, \u001b[33mInfinity\u001b[39m, \u001b[33mInfinity\u001b[39m, \u001b[33mInfinity\u001b[39m,\n",
            "    \u001b[33mInfinity\u001b[39m, \u001b[33mInfinity\u001b[39m, \u001b[33mInfinity\u001b[39m, \u001b[33mInfinity\u001b[39m, \u001b[33mInfinity\u001b[39m, \u001b[33mInfinity\u001b[39m,\n",
            "    \u001b[33mInfinity\u001b[39m, \u001b[33mInfinity\u001b[39m, \u001b[33mInfinity\u001b[39m, \u001b[33mInfinity\u001b[39m, \u001b[33mInfinity\u001b[39m, \u001b[33mInfinity\u001b[39m,\n",
            "    \u001b[33mInfinity\u001b[39m, \u001b[33mInfinity\u001b[39m, \u001b[33mInfinity\u001b[39m, \u001b[33mInfinity\u001b[39m, \u001b[33mInfinity\u001b[39m, \u001b[33mInfinity\u001b[39m,\n",
            "    \u001b[33mInfinity\u001b[39m, \u001b[33mInfinity\u001b[39m, \u001b[33mInfinity\u001b[39m, \u001b[33mInfinity\u001b[39m,\n",
            "    ... 500 more items\n",
            "  ],\n",
            "  [\n",
            "    \u001b[33mInfinity\u001b[39m, \u001b[33mInfinity\u001b[39m, \u001b[33mInfinity\u001b[39m, \u001b[33mInfinity\u001b[39m, \u001b[33mInfinity\u001b[39m, \u001b[33mInfinity\u001b[39m,\n",
            "    \u001b[33mInfinity\u001b[39m, \u001b[33mInfinity\u001b[39m, \u001b[33mInfinity\u001b[39m, \u001b[33mInfinity\u001b[39m, \u001b[33mInfinity\u001b[39m, \u001b[33mInfinity\u001b[39m,\n",
            "    \u001b[33mInfinity\u001b[39m, \u001b[33mInfinity\u001b[39m, \u001b[33mInfinity\u001b[39m, \u001b[33mInfinity\u001b[39m, \u001b[33mInfinity\u001b[39m, \u001b[33mInfinity\u001b[39m,\n",
            "    \u001b[33mInfinity\u001b[39m, \u001b[33mInfinity\u001b[39m, \u001b[33mInfinity\u001b[39m, \u001b[33mInfinity\u001b[39m, \u001b[33mInfinity\u001b[39m, \u001b[33mInfinity\u001b[39m,\n",
            "    \u001b[33mInfinity\u001b[39m, \u001b[33mInfinity\u001b[39m, \u001b[33mInfinity\u001b[39m, \u001b[33mInfinity\u001b[39m, \u001b[33mInfinity\u001b[39m, \u001b[33mInfinity\u001b[39m,\n",
            "    \u001b[33mInfinity\u001b[39m, \u001b[33mInfinity\u001b[39m, \u001b[33mInfinity\u001b[39m, \u001b[33mInfinity\u001b[39m, \u001b[33mInfinity\u001b[39m, \u001b[33mInfinity\u001b[39m,\n",
            "    \u001b[33mInfinity\u001b[39m, \u001b[33mInfinity\u001b[39m, \u001b[33mInfinity\u001b[39m, \u001b[33mInfinity\u001b[39m, \u001b[33mInfinity\u001b[39m, \u001b[33mInfinity\u001b[39m,\n",
            "    \u001b[33mInfinity\u001b[39m, \u001b[33mInfinity\u001b[39m, \u001b[33mInfinity\u001b[39m, \u001b[33mInfinity\u001b[39m, \u001b[33mInfinity\u001b[39m, \u001b[33mInfinity\u001b[39m,\n",
            "    \u001b[33mInfinity\u001b[39m, \u001b[33mInfinity\u001b[39m, \u001b[33mInfinity\u001b[39m, \u001b[33mInfinity\u001b[39m, \u001b[33mInfinity\u001b[39m, \u001b[33mInfinity\u001b[39m,\n",
            "    \u001b[33mInfinity\u001b[39m, \u001b[33mInfinity\u001b[39m, \u001b[33mInfinity\u001b[39m, \u001b[33mInfinity\u001b[39m, \u001b[33mInfinity\u001b[39m, \u001b[33mInfinity\u001b[39m,\n",
            "    \u001b[33mInfinity\u001b[39m, \u001b[33mInfinity\u001b[39m, \u001b[33mInfinity\u001b[39m, \u001b[33mInfinity\u001b[39m, \u001b[33mInfinity\u001b[39m, \u001b[33mInfinity\u001b[39m,\n",
            "    \u001b[33mInfinity\u001b[39m, \u001b[33mInfinity\u001b[39m, \u001b[33mInfinity\u001b[39m, \u001b[33mInfinity\u001b[39m, \u001b[33mInfinity\u001b[39m, \u001b[33mInfinity\u001b[39m,\n",
            "    \u001b[33mInfinity\u001b[39m, \u001b[33mInfinity\u001b[39m, \u001b[33mInfinity\u001b[39m, \u001b[33mInfinity\u001b[39m, \u001b[33mInfinity\u001b[39m, \u001b[33mInfinity\u001b[39m,\n",
            "    \u001b[33mInfinity\u001b[39m, \u001b[33mInfinity\u001b[39m, \u001b[33mInfinity\u001b[39m, \u001b[33mInfinity\u001b[39m, \u001b[33mInfinity\u001b[39m, \u001b[33mInfinity\u001b[39m,\n",
            "    \u001b[33mInfinity\u001b[39m, \u001b[33mInfinity\u001b[39m, \u001b[33mInfinity\u001b[39m, \u001b[33mInfinity\u001b[39m, \u001b[33mInfinity\u001b[39m, \u001b[33mInfinity\u001b[39m,\n",
            "    \u001b[33mInfinity\u001b[39m, \u001b[33mInfinity\u001b[39m, \u001b[33mInfinity\u001b[39m, \u001b[33mInfinity\u001b[39m, \u001b[33mInfinity\u001b[39m, \u001b[33mInfinity\u001b[39m,\n",
            "    \u001b[33mInfinity\u001b[39m, \u001b[33mInfinity\u001b[39m, \u001b[33mInfinity\u001b[39m, \u001b[33mInfinity\u001b[39m,\n",
            "    ... 500 more items\n",
            "  ],\n",
            "  [\n",
            "    \u001b[33mInfinity\u001b[39m, \u001b[33mInfinity\u001b[39m, \u001b[33mInfinity\u001b[39m, \u001b[33mInfinity\u001b[39m, \u001b[33mInfinity\u001b[39m, \u001b[33mInfinity\u001b[39m,\n",
            "    \u001b[33mInfinity\u001b[39m, \u001b[33mInfinity\u001b[39m, \u001b[33mInfinity\u001b[39m, \u001b[33mInfinity\u001b[39m, \u001b[33mInfinity\u001b[39m, \u001b[33mInfinity\u001b[39m,\n",
            "    \u001b[33mInfinity\u001b[39m, \u001b[33mInfinity\u001b[39m, \u001b[33mInfinity\u001b[39m, \u001b[33mInfinity\u001b[39m, \u001b[33mInfinity\u001b[39m, \u001b[33mInfinity\u001b[39m,\n",
            "    \u001b[33mInfinity\u001b[39m, \u001b[33mInfinity\u001b[39m, \u001b[33mInfinity\u001b[39m, \u001b[33mInfinity\u001b[39m, \u001b[33mInfinity\u001b[39m, \u001b[33mInfinity\u001b[39m,\n",
            "    \u001b[33mInfinity\u001b[39m, \u001b[33mInfinity\u001b[39m, \u001b[33mInfinity\u001b[39m, \u001b[33mInfinity\u001b[39m, \u001b[33mInfinity\u001b[39m, \u001b[33mInfinity\u001b[39m,\n",
            "    \u001b[33mInfinity\u001b[39m, \u001b[33mInfinity\u001b[39m, \u001b[33mInfinity\u001b[39m, \u001b[33mInfinity\u001b[39m, \u001b[33mInfinity\u001b[39m, \u001b[33mInfinity\u001b[39m,\n",
            "    \u001b[33mInfinity\u001b[39m, \u001b[33mInfinity\u001b[39m, \u001b[33mInfinity\u001b[39m, \u001b[33mInfinity\u001b[39m, \u001b[33mInfinity\u001b[39m, \u001b[33mInfinity\u001b[39m,\n",
            "    \u001b[33mInfinity\u001b[39m, \u001b[33mInfinity\u001b[39m, \u001b[33mInfinity\u001b[39m, \u001b[33mInfinity\u001b[39m, \u001b[33mInfinity\u001b[39m, \u001b[33mInfinity\u001b[39m,\n",
            "    \u001b[33mInfinity\u001b[39m, \u001b[33mInfinity\u001b[39m, \u001b[33mInfinity\u001b[39m, \u001b[33mInfinity\u001b[39m, \u001b[33mInfinity\u001b[39m, \u001b[33mInfinity\u001b[39m,\n",
            "    \u001b[33mInfinity\u001b[39m, \u001b[33mInfinity\u001b[39m, \u001b[33mInfinity\u001b[39m, \u001b[33mInfinity\u001b[39m, \u001b[33mInfinity\u001b[39m, \u001b[33mInfinity\u001b[39m,\n",
            "    \u001b[33mInfinity\u001b[39m, \u001b[33mInfinity\u001b[39m, \u001b[33mInfinity\u001b[39m, \u001b[33mInfinity\u001b[39m, \u001b[33mInfinity\u001b[39m, \u001b[33mInfinity\u001b[39m,\n",
            "    \u001b[33mInfinity\u001b[39m, \u001b[33mInfinity\u001b[39m, \u001b[33mInfinity\u001b[39m, \u001b[33mInfinity\u001b[39m, \u001b[33mInfinity\u001b[39m, \u001b[33mInfinity\u001b[39m,\n",
            "    \u001b[33mInfinity\u001b[39m, \u001b[33mInfinity\u001b[39m, \u001b[33mInfinity\u001b[39m, \u001b[33mInfinity\u001b[39m, \u001b[33mInfinity\u001b[39m, \u001b[33mInfinity\u001b[39m,\n",
            "    \u001b[33mInfinity\u001b[39m, \u001b[33mInfinity\u001b[39m, \u001b[33mInfinity\u001b[39m, \u001b[33mInfinity\u001b[39m, \u001b[33mInfinity\u001b[39m, \u001b[33mInfinity\u001b[39m,\n",
            "    \u001b[33mInfinity\u001b[39m, \u001b[33mInfinity\u001b[39m, \u001b[33mInfinity\u001b[39m, \u001b[33mInfinity\u001b[39m, \u001b[33mInfinity\u001b[39m, \u001b[33mInfinity\u001b[39m,\n",
            "    \u001b[33mInfinity\u001b[39m, \u001b[33mInfinity\u001b[39m, \u001b[33mInfinity\u001b[39m, \u001b[33mInfinity\u001b[39m, \u001b[33mInfinity\u001b[39m, \u001b[33mInfinity\u001b[39m,\n",
            "    \u001b[33mInfinity\u001b[39m, \u001b[33mInfinity\u001b[39m, \u001b[33mInfinity\u001b[39m, \u001b[33mInfinity\u001b[39m,\n",
            "    ... 500 more items\n",
            "  ],\n",
            "  [\n",
            "    \u001b[33mInfinity\u001b[39m, \u001b[33mInfinity\u001b[39m, \u001b[33mInfinity\u001b[39m, \u001b[33mInfinity\u001b[39m, \u001b[33mInfinity\u001b[39m, \u001b[33mInfinity\u001b[39m,\n",
            "    \u001b[33mInfinity\u001b[39m, \u001b[33mInfinity\u001b[39m, \u001b[33mInfinity\u001b[39m, \u001b[33mInfinity\u001b[39m, \u001b[33mInfinity\u001b[39m, \u001b[33mInfinity\u001b[39m,\n",
            "    \u001b[33mInfinity\u001b[39m, \u001b[33mInfinity\u001b[39m, \u001b[33mInfinity\u001b[39m, \u001b[33mInfinity\u001b[39m, \u001b[33mInfinity\u001b[39m, \u001b[33mInfinity\u001b[39m,\n",
            "    \u001b[33mInfinity\u001b[39m, \u001b[33mInfinity\u001b[39m, \u001b[33mInfinity\u001b[39m, \u001b[33mInfinity\u001b[39m, \u001b[33mInfinity\u001b[39m, \u001b[33mInfinity\u001b[39m,\n",
            "    \u001b[33mInfinity\u001b[39m, \u001b[33mInfinity\u001b[39m, \u001b[33mInfinity\u001b[39m, \u001b[33mInfinity\u001b[39m, \u001b[33mInfinity\u001b[39m, \u001b[33mInfinity\u001b[39m,\n",
            "    \u001b[33mInfinity\u001b[39m, \u001b[33mInfinity\u001b[39m, \u001b[33mInfinity\u001b[39m, \u001b[33mInfinity\u001b[39m, \u001b[33mInfinity\u001b[39m, \u001b[33mInfinity\u001b[39m,\n",
            "    \u001b[33mInfinity\u001b[39m, \u001b[33mInfinity\u001b[39m, \u001b[33mInfinity\u001b[39m, \u001b[33mInfinity\u001b[39m, \u001b[33mInfinity\u001b[39m, \u001b[33mInfinity\u001b[39m,\n",
            "    \u001b[33mInfinity\u001b[39m, \u001b[33mInfinity\u001b[39m, \u001b[33mInfinity\u001b[39m, \u001b[33mInfinity\u001b[39m, \u001b[33mInfinity\u001b[39m, \u001b[33mInfinity\u001b[39m,\n",
            "    \u001b[33mInfinity\u001b[39m, \u001b[33mInfinity\u001b[39m, \u001b[33mInfinity\u001b[39m, \u001b[33mInfinity\u001b[39m, \u001b[33mInfinity\u001b[39m, \u001b[33mInfinity\u001b[39m,\n",
            "    \u001b[33mInfinity\u001b[39m, \u001b[33mInfinity\u001b[39m, \u001b[33mInfinity\u001b[39m, \u001b[33mInfinity\u001b[39m, \u001b[33mInfinity\u001b[39m, \u001b[33mInfinity\u001b[39m,\n",
            "    \u001b[33mInfinity\u001b[39m, \u001b[33mInfinity\u001b[39m, \u001b[33mInfinity\u001b[39m, \u001b[33mInfinity\u001b[39m, \u001b[33mInfinity\u001b[39m, \u001b[33mInfinity\u001b[39m,\n",
            "    \u001b[33mInfinity\u001b[39m, \u001b[33mInfinity\u001b[39m, \u001b[33mInfinity\u001b[39m, \u001b[33mInfinity\u001b[39m, \u001b[33mInfinity\u001b[39m, \u001b[33mInfinity\u001b[39m,\n",
            "    \u001b[33mInfinity\u001b[39m, \u001b[33mInfinity\u001b[39m, \u001b[33mInfinity\u001b[39m, \u001b[33mInfinity\u001b[39m, \u001b[33mInfinity\u001b[39m, \u001b[33mInfinity\u001b[39m,\n",
            "    \u001b[33mInfinity\u001b[39m, \u001b[33mInfinity\u001b[39m, \u001b[33mInfinity\u001b[39m, \u001b[33mInfinity\u001b[39m, \u001b[33mInfinity\u001b[39m, \u001b[33mInfinity\u001b[39m,\n",
            "    \u001b[33mInfinity\u001b[39m, \u001b[33mInfinity\u001b[39m, \u001b[33mInfinity\u001b[39m, \u001b[33mInfinity\u001b[39m, \u001b[33mInfinity\u001b[39m, \u001b[33mInfinity\u001b[39m,\n",
            "    \u001b[33mInfinity\u001b[39m, \u001b[33mInfinity\u001b[39m, \u001b[33mInfinity\u001b[39m, \u001b[33mInfinity\u001b[39m, \u001b[33mInfinity\u001b[39m, \u001b[33mInfinity\u001b[39m,\n",
            "    \u001b[33mInfinity\u001b[39m, \u001b[33mInfinity\u001b[39m, \u001b[33mInfinity\u001b[39m, \u001b[33mInfinity\u001b[39m,\n",
            "    ... 500 more items\n",
            "  ],\n",
            "  [\n",
            "    \u001b[33mInfinity\u001b[39m, \u001b[33mInfinity\u001b[39m, \u001b[33mInfinity\u001b[39m, \u001b[33mInfinity\u001b[39m, \u001b[33mInfinity\u001b[39m, \u001b[33mInfinity\u001b[39m,\n",
            "    \u001b[33mInfinity\u001b[39m, \u001b[33mInfinity\u001b[39m, \u001b[33mInfinity\u001b[39m, \u001b[33mInfinity\u001b[39m, \u001b[33mInfinity\u001b[39m, \u001b[33mInfinity\u001b[39m,\n",
            "    \u001b[33mInfinity\u001b[39m, \u001b[33mInfinity\u001b[39m, \u001b[33mInfinity\u001b[39m, \u001b[33mInfinity\u001b[39m, \u001b[33mInfinity\u001b[39m, \u001b[33mInfinity\u001b[39m,\n",
            "    \u001b[33mInfinity\u001b[39m, \u001b[33mInfinity\u001b[39m, \u001b[33mInfinity\u001b[39m, \u001b[33mInfinity\u001b[39m, \u001b[33mInfinity\u001b[39m, \u001b[33mInfinity\u001b[39m,\n",
            "    \u001b[33mInfinity\u001b[39m, \u001b[33mInfinity\u001b[39m, \u001b[33mInfinity\u001b[39m, \u001b[33mInfinity\u001b[39m, \u001b[33mInfinity\u001b[39m, \u001b[33mInfinity\u001b[39m,\n",
            "    \u001b[33mInfinity\u001b[39m, \u001b[33mInfinity\u001b[39m, \u001b[33mInfinity\u001b[39m, \u001b[33mInfinity\u001b[39m, \u001b[33mInfinity\u001b[39m, \u001b[33mInfinity\u001b[39m,\n",
            "    \u001b[33mInfinity\u001b[39m, \u001b[33mInfinity\u001b[39m, \u001b[33mInfinity\u001b[39m, \u001b[33mInfinity\u001b[39m, \u001b[33mInfinity\u001b[39m, \u001b[33mInfinity\u001b[39m,\n",
            "    \u001b[33mInfinity\u001b[39m, \u001b[33mInfinity\u001b[39m, \u001b[33mInfinity\u001b[39m, \u001b[33mInfinity\u001b[39m, \u001b[33mInfinity\u001b[39m, \u001b[33mInfinity\u001b[39m,\n",
            "    \u001b[33mInfinity\u001b[39m, \u001b[33mInfinity\u001b[39m, \u001b[33mInfinity\u001b[39m, \u001b[33mInfinity\u001b[39m, \u001b[33mInfinity\u001b[39m, \u001b[33mInfinity\u001b[39m,\n",
            "    \u001b[33mInfinity\u001b[39m, \u001b[33mInfinity\u001b[39m, \u001b[33mInfinity\u001b[39m, \u001b[33mInfinity\u001b[39m, \u001b[33mInfinity\u001b[39m, \u001b[33mInfinity\u001b[39m,\n",
            "    \u001b[33mInfinity\u001b[39m, \u001b[33mInfinity\u001b[39m, \u001b[33mInfinity\u001b[39m, \u001b[33mInfinity\u001b[39m, \u001b[33mInfinity\u001b[39m, \u001b[33mInfinity\u001b[39m,\n",
            "    \u001b[33mInfinity\u001b[39m, \u001b[33mInfinity\u001b[39m, \u001b[33mInfinity\u001b[39m, \u001b[33mInfinity\u001b[39m, \u001b[33mInfinity\u001b[39m, \u001b[33mInfinity\u001b[39m,\n",
            "    \u001b[33mInfinity\u001b[39m, \u001b[33mInfinity\u001b[39m, \u001b[33mInfinity\u001b[39m, \u001b[33mInfinity\u001b[39m, \u001b[33mInfinity\u001b[39m, \u001b[33mInfinity\u001b[39m,\n",
            "    \u001b[33mInfinity\u001b[39m, \u001b[33mInfinity\u001b[39m, \u001b[33mInfinity\u001b[39m, \u001b[33mInfinity\u001b[39m, \u001b[33mInfinity\u001b[39m, \u001b[33mInfinity\u001b[39m,\n",
            "    \u001b[33mInfinity\u001b[39m, \u001b[33mInfinity\u001b[39m, \u001b[33mInfinity\u001b[39m, \u001b[33mInfinity\u001b[39m, \u001b[33mInfinity\u001b[39m, \u001b[33mInfinity\u001b[39m,\n",
            "    \u001b[33mInfinity\u001b[39m, \u001b[33mInfinity\u001b[39m, \u001b[33mInfinity\u001b[39m, \u001b[33mInfinity\u001b[39m, \u001b[33mInfinity\u001b[39m, \u001b[33mInfinity\u001b[39m,\n",
            "    \u001b[33mInfinity\u001b[39m, \u001b[33mInfinity\u001b[39m, \u001b[33mInfinity\u001b[39m, \u001b[33mInfinity\u001b[39m,\n",
            "    ... 500 more items\n",
            "  ],\n",
            "  [\n",
            "    \u001b[33mInfinity\u001b[39m, \u001b[33mInfinity\u001b[39m, \u001b[33mInfinity\u001b[39m, \u001b[33mInfinity\u001b[39m, \u001b[33mInfinity\u001b[39m, \u001b[33mInfinity\u001b[39m,\n",
            "    \u001b[33mInfinity\u001b[39m, \u001b[33mInfinity\u001b[39m, \u001b[33mInfinity\u001b[39m, \u001b[33mInfinity\u001b[39m, \u001b[33mInfinity\u001b[39m, \u001b[33mInfinity\u001b[39m,\n",
            "    \u001b[33mInfinity\u001b[39m, \u001b[33mInfinity\u001b[39m, \u001b[33mInfinity\u001b[39m, \u001b[33mInfinity\u001b[39m, \u001b[33mInfinity\u001b[39m, \u001b[33mInfinity\u001b[39m,\n",
            "    \u001b[33mInfinity\u001b[39m, \u001b[33mInfinity\u001b[39m, \u001b[33mInfinity\u001b[39m, \u001b[33mInfinity\u001b[39m, \u001b[33mInfinity\u001b[39m, \u001b[33mInfinity\u001b[39m,\n",
            "    \u001b[33mInfinity\u001b[39m, \u001b[33mInfinity\u001b[39m, \u001b[33mInfinity\u001b[39m, \u001b[33mInfinity\u001b[39m, \u001b[33mInfinity\u001b[39m, \u001b[33mInfinity\u001b[39m,\n",
            "    \u001b[33mInfinity\u001b[39m, \u001b[33mInfinity\u001b[39m, \u001b[33mInfinity\u001b[39m, \u001b[33mInfinity\u001b[39m, \u001b[33mInfinity\u001b[39m, \u001b[33mInfinity\u001b[39m,\n",
            "    \u001b[33mInfinity\u001b[39m, \u001b[33mInfinity\u001b[39m, \u001b[33mInfinity\u001b[39m, \u001b[33mInfinity\u001b[39m, \u001b[33mInfinity\u001b[39m, \u001b[33mInfinity\u001b[39m,\n",
            "    \u001b[33mInfinity\u001b[39m, \u001b[33mInfinity\u001b[39m, \u001b[33mInfinity\u001b[39m, \u001b[33mInfinity\u001b[39m, \u001b[33mInfinity\u001b[39m, \u001b[33mInfinity\u001b[39m,\n",
            "    \u001b[33mInfinity\u001b[39m, \u001b[33mInfinity\u001b[39m, \u001b[33mInfinity\u001b[39m, \u001b[33mInfinity\u001b[39m, \u001b[33mInfinity\u001b[39m, \u001b[33mInfinity\u001b[39m,\n",
            "    \u001b[33mInfinity\u001b[39m, \u001b[33mInfinity\u001b[39m, \u001b[33mInfinity\u001b[39m, \u001b[33mInfinity\u001b[39m, \u001b[33mInfinity\u001b[39m, \u001b[33mInfinity\u001b[39m,\n",
            "    \u001b[33mInfinity\u001b[39m, \u001b[33mInfinity\u001b[39m, \u001b[33mInfinity\u001b[39m, \u001b[33mInfinity\u001b[39m, \u001b[33mInfinity\u001b[39m, \u001b[33mInfinity\u001b[39m,\n",
            "    \u001b[33mInfinity\u001b[39m, \u001b[33mInfinity\u001b[39m, \u001b[33mInfinity\u001b[39m, \u001b[33mInfinity\u001b[39m, \u001b[33mInfinity\u001b[39m, \u001b[33mInfinity\u001b[39m,\n",
            "    \u001b[33mInfinity\u001b[39m, \u001b[33mInfinity\u001b[39m, \u001b[33mInfinity\u001b[39m, \u001b[33mInfinity\u001b[39m, \u001b[33mInfinity\u001b[39m, \u001b[33mInfinity\u001b[39m,\n",
            "    \u001b[33mInfinity\u001b[39m, \u001b[33mInfinity\u001b[39m, \u001b[33mInfinity\u001b[39m, \u001b[33mInfinity\u001b[39m, \u001b[33mInfinity\u001b[39m, \u001b[33mInfinity\u001b[39m,\n",
            "    \u001b[33mInfinity\u001b[39m, \u001b[33mInfinity\u001b[39m, \u001b[33mInfinity\u001b[39m, \u001b[33mInfinity\u001b[39m, \u001b[33mInfinity\u001b[39m, \u001b[33mInfinity\u001b[39m,\n",
            "    \u001b[33mInfinity\u001b[39m, \u001b[33mInfinity\u001b[39m, \u001b[33mInfinity\u001b[39m, \u001b[33mInfinity\u001b[39m, \u001b[33mInfinity\u001b[39m, \u001b[33mInfinity\u001b[39m,\n",
            "    \u001b[33mInfinity\u001b[39m, \u001b[33mInfinity\u001b[39m, \u001b[33mInfinity\u001b[39m, \u001b[33mInfinity\u001b[39m,\n",
            "    ... 500 more items\n",
            "  ],\n",
            "  [\n",
            "    \u001b[33mInfinity\u001b[39m, \u001b[33mInfinity\u001b[39m, \u001b[33mInfinity\u001b[39m, \u001b[33mInfinity\u001b[39m, \u001b[33mInfinity\u001b[39m, \u001b[33mInfinity\u001b[39m,\n",
            "    \u001b[33mInfinity\u001b[39m, \u001b[33mInfinity\u001b[39m, \u001b[33mInfinity\u001b[39m, \u001b[33mInfinity\u001b[39m, \u001b[33mInfinity\u001b[39m, \u001b[33mInfinity\u001b[39m,\n",
            "    \u001b[33mInfinity\u001b[39m, \u001b[33mInfinity\u001b[39m, \u001b[33mInfinity\u001b[39m, \u001b[33mInfinity\u001b[39m, \u001b[33mInfinity\u001b[39m, \u001b[33mInfinity\u001b[39m,\n",
            "    \u001b[33mInfinity\u001b[39m, \u001b[33mInfinity\u001b[39m, \u001b[33mInfinity\u001b[39m, \u001b[33mInfinity\u001b[39m, \u001b[33mInfinity\u001b[39m, \u001b[33mInfinity\u001b[39m,\n",
            "    \u001b[33mInfinity\u001b[39m, \u001b[33mInfinity\u001b[39m, \u001b[33mInfinity\u001b[39m, \u001b[33mInfinity\u001b[39m, \u001b[33mInfinity\u001b[39m, \u001b[33mInfinity\u001b[39m,\n",
            "    \u001b[33mInfinity\u001b[39m, \u001b[33mInfinity\u001b[39m, \u001b[33mInfinity\u001b[39m, \u001b[33mInfinity\u001b[39m, \u001b[33mInfinity\u001b[39m, \u001b[33mInfinity\u001b[39m,\n",
            "    \u001b[33mInfinity\u001b[39m, \u001b[33mInfinity\u001b[39m, \u001b[33mInfinity\u001b[39m, \u001b[33mInfinity\u001b[39m, \u001b[33mInfinity\u001b[39m, \u001b[33mInfinity\u001b[39m,\n",
            "    \u001b[33mInfinity\u001b[39m, \u001b[33mInfinity\u001b[39m, \u001b[33mInfinity\u001b[39m, \u001b[33mInfinity\u001b[39m, \u001b[33mInfinity\u001b[39m, \u001b[33mInfinity\u001b[39m,\n",
            "    \u001b[33mInfinity\u001b[39m, \u001b[33mInfinity\u001b[39m, \u001b[33mInfinity\u001b[39m, \u001b[33mInfinity\u001b[39m, \u001b[33mInfinity\u001b[39m, \u001b[33mInfinity\u001b[39m,\n",
            "    \u001b[33mInfinity\u001b[39m, \u001b[33mInfinity\u001b[39m, \u001b[33mInfinity\u001b[39m, \u001b[33mInfinity\u001b[39m, \u001b[33mInfinity\u001b[39m, \u001b[33mInfinity\u001b[39m,\n",
            "    \u001b[33mInfinity\u001b[39m, \u001b[33mInfinity\u001b[39m, \u001b[33mInfinity\u001b[39m, \u001b[33mInfinity\u001b[39m, \u001b[33mInfinity\u001b[39m, \u001b[33mInfinity\u001b[39m,\n",
            "    \u001b[33mInfinity\u001b[39m, \u001b[33mInfinity\u001b[39m, \u001b[33mInfinity\u001b[39m, \u001b[33mInfinity\u001b[39m, \u001b[33mInfinity\u001b[39m, \u001b[33mInfinity\u001b[39m,\n",
            "    \u001b[33mInfinity\u001b[39m, \u001b[33mInfinity\u001b[39m, \u001b[33mInfinity\u001b[39m, \u001b[33mInfinity\u001b[39m, \u001b[33mInfinity\u001b[39m, \u001b[33mInfinity\u001b[39m,\n",
            "    \u001b[33mInfinity\u001b[39m, \u001b[33mInfinity\u001b[39m, \u001b[33mInfinity\u001b[39m, \u001b[33mInfinity\u001b[39m, \u001b[33mInfinity\u001b[39m, \u001b[33mInfinity\u001b[39m,\n",
            "    \u001b[33mInfinity\u001b[39m, \u001b[33mInfinity\u001b[39m, \u001b[33mInfinity\u001b[39m, \u001b[33mInfinity\u001b[39m, \u001b[33mInfinity\u001b[39m, \u001b[33mInfinity\u001b[39m,\n",
            "    \u001b[33mInfinity\u001b[39m, \u001b[33mInfinity\u001b[39m, \u001b[33mInfinity\u001b[39m, \u001b[33mInfinity\u001b[39m, \u001b[33mInfinity\u001b[39m, \u001b[33mInfinity\u001b[39m,\n",
            "    \u001b[33mInfinity\u001b[39m, \u001b[33mInfinity\u001b[39m, \u001b[33mInfinity\u001b[39m, \u001b[33mInfinity\u001b[39m,\n",
            "    ... 500 more items\n",
            "  ],\n",
            "  [\n",
            "    \u001b[33mInfinity\u001b[39m, \u001b[33mInfinity\u001b[39m, \u001b[33mInfinity\u001b[39m, \u001b[33mInfinity\u001b[39m, \u001b[33mInfinity\u001b[39m, \u001b[33mInfinity\u001b[39m,\n",
            "    \u001b[33mInfinity\u001b[39m, \u001b[33mInfinity\u001b[39m, \u001b[33mInfinity\u001b[39m, \u001b[33mInfinity\u001b[39m, \u001b[33mInfinity\u001b[39m, \u001b[33mInfinity\u001b[39m,\n",
            "    \u001b[33mInfinity\u001b[39m, \u001b[33mInfinity\u001b[39m, \u001b[33mInfinity\u001b[39m, \u001b[33mInfinity\u001b[39m, \u001b[33mInfinity\u001b[39m, \u001b[33mInfinity\u001b[39m,\n",
            "    \u001b[33mInfinity\u001b[39m, \u001b[33mInfinity\u001b[39m, \u001b[33mInfinity\u001b[39m, \u001b[33mInfinity\u001b[39m, \u001b[33mInfinity\u001b[39m, \u001b[33mInfinity\u001b[39m,\n",
            "    \u001b[33mInfinity\u001b[39m, \u001b[33mInfinity\u001b[39m, \u001b[33mInfinity\u001b[39m, \u001b[33mInfinity\u001b[39m, \u001b[33mInfinity\u001b[39m, \u001b[33mInfinity\u001b[39m,\n",
            "    \u001b[33mInfinity\u001b[39m, \u001b[33mInfinity\u001b[39m, \u001b[33mInfinity\u001b[39m, \u001b[33mInfinity\u001b[39m, \u001b[33mInfinity\u001b[39m, \u001b[33mInfinity\u001b[39m,\n",
            "    \u001b[33mInfinity\u001b[39m, \u001b[33mInfinity\u001b[39m, \u001b[33mInfinity\u001b[39m, \u001b[33mInfinity\u001b[39m, \u001b[33mInfinity\u001b[39m, \u001b[33mInfinity\u001b[39m,\n",
            "    \u001b[33mInfinity\u001b[39m, \u001b[33mInfinity\u001b[39m, \u001b[33mInfinity\u001b[39m, \u001b[33mInfinity\u001b[39m, \u001b[33mInfinity\u001b[39m, \u001b[33mInfinity\u001b[39m,\n",
            "    \u001b[33mInfinity\u001b[39m, \u001b[33mInfinity\u001b[39m, \u001b[33mInfinity\u001b[39m, \u001b[33mInfinity\u001b[39m, \u001b[33mInfinity\u001b[39m, \u001b[33mInfinity\u001b[39m,\n",
            "    \u001b[33mInfinity\u001b[39m, \u001b[33mInfinity\u001b[39m, \u001b[33mInfinity\u001b[39m, \u001b[33mInfinity\u001b[39m, \u001b[33mInfinity\u001b[39m, \u001b[33mInfinity\u001b[39m,\n",
            "    \u001b[33mInfinity\u001b[39m, \u001b[33mInfinity\u001b[39m, \u001b[33mInfinity\u001b[39m, \u001b[33mInfinity\u001b[39m, \u001b[33mInfinity\u001b[39m, \u001b[33mInfinity\u001b[39m,\n",
            "    \u001b[33mInfinity\u001b[39m, \u001b[33mInfinity\u001b[39m, \u001b[33mInfinity\u001b[39m, \u001b[33mInfinity\u001b[39m, \u001b[33mInfinity\u001b[39m, \u001b[33mInfinity\u001b[39m,\n",
            "    \u001b[33mInfinity\u001b[39m, \u001b[33mInfinity\u001b[39m, \u001b[33mInfinity\u001b[39m, \u001b[33mInfinity\u001b[39m, \u001b[33mInfinity\u001b[39m, \u001b[33mInfinity\u001b[39m,\n",
            "    \u001b[33mInfinity\u001b[39m, \u001b[33mInfinity\u001b[39m, \u001b[33mInfinity\u001b[39m, \u001b[33mInfinity\u001b[39m, \u001b[33mInfinity\u001b[39m, \u001b[33mInfinity\u001b[39m,\n",
            "    \u001b[33mInfinity\u001b[39m, \u001b[33mInfinity\u001b[39m, \u001b[33mInfinity\u001b[39m, \u001b[33mInfinity\u001b[39m, \u001b[33mInfinity\u001b[39m, \u001b[33mInfinity\u001b[39m,\n",
            "    \u001b[33mInfinity\u001b[39m, \u001b[33mInfinity\u001b[39m, \u001b[33mInfinity\u001b[39m, \u001b[33mInfinity\u001b[39m, \u001b[33mInfinity\u001b[39m, \u001b[33mInfinity\u001b[39m,\n",
            "    \u001b[33mInfinity\u001b[39m, \u001b[33mInfinity\u001b[39m, \u001b[33mInfinity\u001b[39m, \u001b[33mInfinity\u001b[39m,\n",
            "    ... 500 more items\n",
            "  ],\n",
            "  [\n",
            "    \u001b[33mInfinity\u001b[39m, \u001b[33mInfinity\u001b[39m, \u001b[33mInfinity\u001b[39m, \u001b[33mInfinity\u001b[39m, \u001b[33mInfinity\u001b[39m, \u001b[33mInfinity\u001b[39m,\n",
            "    \u001b[33mInfinity\u001b[39m, \u001b[33mInfinity\u001b[39m, \u001b[33mInfinity\u001b[39m, \u001b[33mInfinity\u001b[39m, \u001b[33mInfinity\u001b[39m, \u001b[33mInfinity\u001b[39m,\n",
            "    \u001b[33mInfinity\u001b[39m, \u001b[33mInfinity\u001b[39m, \u001b[33mInfinity\u001b[39m, \u001b[33mInfinity\u001b[39m, \u001b[33mInfinity\u001b[39m, \u001b[33mInfinity\u001b[39m,\n",
            "    \u001b[33mInfinity\u001b[39m, \u001b[33mInfinity\u001b[39m, \u001b[33mInfinity\u001b[39m, \u001b[33mInfinity\u001b[39m, \u001b[33mInfinity\u001b[39m, \u001b[33mInfinity\u001b[39m,\n",
            "    \u001b[33mInfinity\u001b[39m, \u001b[33mInfinity\u001b[39m, \u001b[33mInfinity\u001b[39m, \u001b[33mInfinity\u001b[39m, \u001b[33mInfinity\u001b[39m, \u001b[33mInfinity\u001b[39m,\n",
            "    \u001b[33mInfinity\u001b[39m, \u001b[33mInfinity\u001b[39m, \u001b[33mInfinity\u001b[39m, \u001b[33mInfinity\u001b[39m, \u001b[33mInfinity\u001b[39m, \u001b[33mInfinity\u001b[39m,\n",
            "    \u001b[33mInfinity\u001b[39m, \u001b[33mInfinity\u001b[39m, \u001b[33mInfinity\u001b[39m, \u001b[33mInfinity\u001b[39m, \u001b[33mInfinity\u001b[39m, \u001b[33mInfinity\u001b[39m,\n",
            "    \u001b[33mInfinity\u001b[39m, \u001b[33mInfinity\u001b[39m, \u001b[33mInfinity\u001b[39m, \u001b[33mInfinity\u001b[39m, \u001b[33mInfinity\u001b[39m, \u001b[33mInfinity\u001b[39m,\n",
            "    \u001b[33mInfinity\u001b[39m, \u001b[33mInfinity\u001b[39m, \u001b[33mInfinity\u001b[39m, \u001b[33mInfinity\u001b[39m, \u001b[33mInfinity\u001b[39m, \u001b[33mInfinity\u001b[39m,\n",
            "    \u001b[33mInfinity\u001b[39m, \u001b[33mInfinity\u001b[39m, \u001b[33mInfinity\u001b[39m, \u001b[33mInfinity\u001b[39m, \u001b[33mInfinity\u001b[39m, \u001b[33mInfinity\u001b[39m,\n",
            "    \u001b[33mInfinity\u001b[39m, \u001b[33mInfinity\u001b[39m, \u001b[33mInfinity\u001b[39m, \u001b[33mInfinity\u001b[39m, \u001b[33mInfinity\u001b[39m, \u001b[33mInfinity\u001b[39m,\n",
            "    \u001b[33mInfinity\u001b[39m, \u001b[33mInfinity\u001b[39m, \u001b[33mInfinity\u001b[39m, \u001b[33mInfinity\u001b[39m, \u001b[33mInfinity\u001b[39m, \u001b[33mInfinity\u001b[39m,\n",
            "    \u001b[33mInfinity\u001b[39m, \u001b[33mInfinity\u001b[39m, \u001b[33mInfinity\u001b[39m, \u001b[33mInfinity\u001b[39m, \u001b[33mInfinity\u001b[39m, \u001b[33mInfinity\u001b[39m,\n",
            "    \u001b[33mInfinity\u001b[39m, \u001b[33mInfinity\u001b[39m, \u001b[33mInfinity\u001b[39m, \u001b[33mInfinity\u001b[39m, \u001b[33mInfinity\u001b[39m, \u001b[33mInfinity\u001b[39m,\n",
            "    \u001b[33mInfinity\u001b[39m, \u001b[33mInfinity\u001b[39m, \u001b[33mInfinity\u001b[39m, \u001b[33mInfinity\u001b[39m, \u001b[33mInfinity\u001b[39m, \u001b[33mInfinity\u001b[39m,\n",
            "    \u001b[33mInfinity\u001b[39m, \u001b[33mInfinity\u001b[39m, \u001b[33mInfinity\u001b[39m, \u001b[33mInfinity\u001b[39m, \u001b[33mInfinity\u001b[39m, \u001b[33mInfinity\u001b[39m,\n",
            "    \u001b[33mInfinity\u001b[39m, \u001b[33mInfinity\u001b[39m, \u001b[33mInfinity\u001b[39m, \u001b[33mInfinity\u001b[39m,\n",
            "    ... 500 more items\n",
            "  ],\n",
            "  [\n",
            "    \u001b[33mInfinity\u001b[39m, \u001b[33mInfinity\u001b[39m, \u001b[33mInfinity\u001b[39m, \u001b[33mInfinity\u001b[39m, \u001b[33mInfinity\u001b[39m, \u001b[33mInfinity\u001b[39m,\n",
            "    \u001b[33mInfinity\u001b[39m, \u001b[33mInfinity\u001b[39m, \u001b[33mInfinity\u001b[39m, \u001b[33mInfinity\u001b[39m, \u001b[33mInfinity\u001b[39m, \u001b[33mInfinity\u001b[39m,\n",
            "    \u001b[33mInfinity\u001b[39m, \u001b[33mInfinity\u001b[39m, \u001b[33mInfinity\u001b[39m, \u001b[33mInfinity\u001b[39m, \u001b[33mInfinity\u001b[39m, \u001b[33mInfinity\u001b[39m,\n",
            "    \u001b[33mInfinity\u001b[39m, \u001b[33mInfinity\u001b[39m, \u001b[33mInfinity\u001b[39m, \u001b[33mInfinity\u001b[39m, \u001b[33mInfinity\u001b[39m, \u001b[33mInfinity\u001b[39m,\n",
            "    \u001b[33mInfinity\u001b[39m, \u001b[33mInfinity\u001b[39m, \u001b[33mInfinity\u001b[39m, \u001b[33mInfinity\u001b[39m, \u001b[33mInfinity\u001b[39m, \u001b[33mInfinity\u001b[39m,\n",
            "    \u001b[33mInfinity\u001b[39m, \u001b[33mInfinity\u001b[39m, \u001b[33mInfinity\u001b[39m, \u001b[33mInfinity\u001b[39m, \u001b[33mInfinity\u001b[39m, \u001b[33mInfinity\u001b[39m,\n",
            "    \u001b[33mInfinity\u001b[39m, \u001b[33mInfinity\u001b[39m, \u001b[33mInfinity\u001b[39m, \u001b[33mInfinity\u001b[39m, \u001b[33mInfinity\u001b[39m, \u001b[33mInfinity\u001b[39m,\n",
            "    \u001b[33mInfinity\u001b[39m, \u001b[33mInfinity\u001b[39m, \u001b[33mInfinity\u001b[39m, \u001b[33mInfinity\u001b[39m, \u001b[33mInfinity\u001b[39m, \u001b[33mInfinity\u001b[39m,\n",
            "    \u001b[33mInfinity\u001b[39m, \u001b[33mInfinity\u001b[39m, \u001b[33mInfinity\u001b[39m, \u001b[33mInfinity\u001b[39m, \u001b[33mInfinity\u001b[39m, \u001b[33mInfinity\u001b[39m,\n",
            "    \u001b[33mInfinity\u001b[39m, \u001b[33mInfinity\u001b[39m, \u001b[33mInfinity\u001b[39m, \u001b[33mInfinity\u001b[39m, \u001b[33mInfinity\u001b[39m, \u001b[33mInfinity\u001b[39m,\n",
            "    \u001b[33mInfinity\u001b[39m, \u001b[33mInfinity\u001b[39m, \u001b[33mInfinity\u001b[39m, \u001b[33mInfinity\u001b[39m, \u001b[33mInfinity\u001b[39m, \u001b[33mInfinity\u001b[39m,\n",
            "    \u001b[33mInfinity\u001b[39m, \u001b[33mInfinity\u001b[39m, \u001b[33mInfinity\u001b[39m, \u001b[33mInfinity\u001b[39m, \u001b[33mInfinity\u001b[39m, \u001b[33mInfinity\u001b[39m,\n",
            "    \u001b[33mInfinity\u001b[39m, \u001b[33mInfinity\u001b[39m, \u001b[33mInfinity\u001b[39m, \u001b[33mInfinity\u001b[39m, \u001b[33mInfinity\u001b[39m, \u001b[33mInfinity\u001b[39m,\n",
            "    \u001b[33mInfinity\u001b[39m, \u001b[33mInfinity\u001b[39m, \u001b[33mInfinity\u001b[39m, \u001b[33mInfinity\u001b[39m, \u001b[33mInfinity\u001b[39m, \u001b[33mInfinity\u001b[39m,\n",
            "    \u001b[33mInfinity\u001b[39m, \u001b[33mInfinity\u001b[39m, \u001b[33mInfinity\u001b[39m, \u001b[33mInfinity\u001b[39m, \u001b[33mInfinity\u001b[39m, \u001b[33mInfinity\u001b[39m,\n",
            "    \u001b[33mInfinity\u001b[39m, \u001b[33mInfinity\u001b[39m, \u001b[33mInfinity\u001b[39m, \u001b[33mInfinity\u001b[39m, \u001b[33mInfinity\u001b[39m, \u001b[33mInfinity\u001b[39m,\n",
            "    \u001b[33mInfinity\u001b[39m, \u001b[33mInfinity\u001b[39m, \u001b[33mInfinity\u001b[39m, \u001b[33mInfinity\u001b[39m,\n",
            "    ... 500 more items\n",
            "  ],\n",
            "  [\n",
            "    \u001b[33mInfinity\u001b[39m, \u001b[33mInfinity\u001b[39m, \u001b[33mInfinity\u001b[39m, \u001b[33mInfinity\u001b[39m, \u001b[33mInfinity\u001b[39m, \u001b[33mInfinity\u001b[39m,\n",
            "    \u001b[33mInfinity\u001b[39m, \u001b[33mInfinity\u001b[39m, \u001b[33mInfinity\u001b[39m, \u001b[33mInfinity\u001b[39m, \u001b[33mInfinity\u001b[39m, \u001b[33mInfinity\u001b[39m,\n",
            "    \u001b[33mInfinity\u001b[39m, \u001b[33mInfinity\u001b[39m, \u001b[33mInfinity\u001b[39m, \u001b[33mInfinity\u001b[39m, \u001b[33mInfinity\u001b[39m, \u001b[33mInfinity\u001b[39m,\n",
            "    \u001b[33mInfinity\u001b[39m, \u001b[33mInfinity\u001b[39m, \u001b[33mInfinity\u001b[39m, \u001b[33mInfinity\u001b[39m, \u001b[33mInfinity\u001b[39m, \u001b[33mInfinity\u001b[39m,\n",
            "    \u001b[33mInfinity\u001b[39m, \u001b[33mInfinity\u001b[39m, \u001b[33mInfinity\u001b[39m, \u001b[33mInfinity\u001b[39m, \u001b[33mInfinity\u001b[39m, \u001b[33mInfinity\u001b[39m,\n",
            "    \u001b[33mInfinity\u001b[39m, \u001b[33mInfinity\u001b[39m, \u001b[33mInfinity\u001b[39m, \u001b[33mInfinity\u001b[39m, \u001b[33mInfinity\u001b[39m, \u001b[33mInfinity\u001b[39m,\n",
            "    \u001b[33mInfinity\u001b[39m, \u001b[33mInfinity\u001b[39m, \u001b[33mInfinity\u001b[39m, \u001b[33mInfinity\u001b[39m, \u001b[33mInfinity\u001b[39m, \u001b[33mInfinity\u001b[39m,\n",
            "    \u001b[33mInfinity\u001b[39m, \u001b[33mInfinity\u001b[39m, \u001b[33mInfinity\u001b[39m, \u001b[33mInfinity\u001b[39m, \u001b[33mInfinity\u001b[39m, \u001b[33mInfinity\u001b[39m,\n",
            "    \u001b[33mInfinity\u001b[39m, \u001b[33mInfinity\u001b[39m, \u001b[33mInfinity\u001b[39m, \u001b[33mInfinity\u001b[39m, \u001b[33mInfinity\u001b[39m, \u001b[33mInfinity\u001b[39m,\n",
            "    \u001b[33mInfinity\u001b[39m, \u001b[33mInfinity\u001b[39m, \u001b[33mInfinity\u001b[39m, \u001b[33mInfinity\u001b[39m, \u001b[33mInfinity\u001b[39m, \u001b[33mInfinity\u001b[39m,\n",
            "    \u001b[33mInfinity\u001b[39m, \u001b[33mInfinity\u001b[39m, \u001b[33mInfinity\u001b[39m, \u001b[33mInfinity\u001b[39m, \u001b[33mInfinity\u001b[39m, \u001b[33mInfinity\u001b[39m,\n",
            "    \u001b[33mInfinity\u001b[39m, \u001b[33mInfinity\u001b[39m, \u001b[33mInfinity\u001b[39m, \u001b[33mInfinity\u001b[39m, \u001b[33mInfinity\u001b[39m, \u001b[33mInfinity\u001b[39m,\n",
            "    \u001b[33mInfinity\u001b[39m, \u001b[33mInfinity\u001b[39m, \u001b[33mInfinity\u001b[39m, \u001b[33mInfinity\u001b[39m, \u001b[33mInfinity\u001b[39m, \u001b[33mInfinity\u001b[39m,\n",
            "    \u001b[33mInfinity\u001b[39m, \u001b[33mInfinity\u001b[39m, \u001b[33mInfinity\u001b[39m, \u001b[33mInfinity\u001b[39m, \u001b[33mInfinity\u001b[39m, \u001b[33mInfinity\u001b[39m,\n",
            "    \u001b[33mInfinity\u001b[39m, \u001b[33mInfinity\u001b[39m, \u001b[33mInfinity\u001b[39m, \u001b[33mInfinity\u001b[39m, \u001b[33mInfinity\u001b[39m, \u001b[33mInfinity\u001b[39m,\n",
            "    \u001b[33mInfinity\u001b[39m, \u001b[33mInfinity\u001b[39m, \u001b[33mInfinity\u001b[39m, \u001b[33mInfinity\u001b[39m, \u001b[33mInfinity\u001b[39m, \u001b[33mInfinity\u001b[39m,\n",
            "    \u001b[33mInfinity\u001b[39m, \u001b[33mInfinity\u001b[39m, \u001b[33mInfinity\u001b[39m, \u001b[33mInfinity\u001b[39m,\n",
            "    ... 500 more items\n",
            "  ],\n",
            "  [\n",
            "    \u001b[33mInfinity\u001b[39m, \u001b[33mInfinity\u001b[39m, \u001b[33mInfinity\u001b[39m, \u001b[33mInfinity\u001b[39m, \u001b[33mInfinity\u001b[39m, \u001b[33mInfinity\u001b[39m,\n",
            "    \u001b[33mInfinity\u001b[39m, \u001b[33mInfinity\u001b[39m, \u001b[33mInfinity\u001b[39m, \u001b[33mInfinity\u001b[39m, \u001b[33mInfinity\u001b[39m, \u001b[33mInfinity\u001b[39m,\n",
            "    \u001b[33mInfinity\u001b[39m, \u001b[33mInfinity\u001b[39m, \u001b[33mInfinity\u001b[39m, \u001b[33mInfinity\u001b[39m, \u001b[33mInfinity\u001b[39m, \u001b[33mInfinity\u001b[39m,\n",
            "    \u001b[33mInfinity\u001b[39m, \u001b[33mInfinity\u001b[39m, \u001b[33mInfinity\u001b[39m, \u001b[33mInfinity\u001b[39m, \u001b[33mInfinity\u001b[39m, \u001b[33mInfinity\u001b[39m,\n",
            "    \u001b[33mInfinity\u001b[39m, \u001b[33mInfinity\u001b[39m, \u001b[33mInfinity\u001b[39m, \u001b[33mInfinity\u001b[39m, \u001b[33mInfinity\u001b[39m, \u001b[33mInfinity\u001b[39m,\n",
            "    \u001b[33mInfinity\u001b[39m, \u001b[33mInfinity\u001b[39m, \u001b[33mInfinity\u001b[39m, \u001b[33mInfinity\u001b[39m, \u001b[33mInfinity\u001b[39m, \u001b[33mInfinity\u001b[39m,\n",
            "    \u001b[33mInfinity\u001b[39m, \u001b[33mInfinity\u001b[39m, \u001b[33mInfinity\u001b[39m, \u001b[33mInfinity\u001b[39m, \u001b[33mInfinity\u001b[39m, \u001b[33mInfinity\u001b[39m,\n",
            "    \u001b[33mInfinity\u001b[39m, \u001b[33mInfinity\u001b[39m, \u001b[33mInfinity\u001b[39m, \u001b[33mInfinity\u001b[39m, \u001b[33mInfinity\u001b[39m, \u001b[33mInfinity\u001b[39m,\n",
            "    \u001b[33mInfinity\u001b[39m, \u001b[33mInfinity\u001b[39m, \u001b[33mInfinity\u001b[39m, \u001b[33mInfinity\u001b[39m, \u001b[33mInfinity\u001b[39m, \u001b[33mInfinity\u001b[39m,\n",
            "    \u001b[33mInfinity\u001b[39m, \u001b[33mInfinity\u001b[39m, \u001b[33mInfinity\u001b[39m, \u001b[33mInfinity\u001b[39m, \u001b[33mInfinity\u001b[39m, \u001b[33mInfinity\u001b[39m,\n",
            "    \u001b[33mInfinity\u001b[39m, \u001b[33mInfinity\u001b[39m, \u001b[33mInfinity\u001b[39m, \u001b[33mInfinity\u001b[39m, \u001b[33mInfinity\u001b[39m, \u001b[33mInfinity\u001b[39m,\n",
            "    \u001b[33mInfinity\u001b[39m, \u001b[33mInfinity\u001b[39m, \u001b[33mInfinity\u001b[39m, \u001b[33mInfinity\u001b[39m, \u001b[33mInfinity\u001b[39m, \u001b[33mInfinity\u001b[39m,\n",
            "    \u001b[33mInfinity\u001b[39m, \u001b[33mInfinity\u001b[39m, \u001b[33mInfinity\u001b[39m, \u001b[33mInfinity\u001b[39m, \u001b[33mInfinity\u001b[39m, \u001b[33mInfinity\u001b[39m,\n",
            "    \u001b[33mInfinity\u001b[39m, \u001b[33mInfinity\u001b[39m, \u001b[33mInfinity\u001b[39m, \u001b[33mInfinity\u001b[39m, \u001b[33mInfinity\u001b[39m, \u001b[33mInfinity\u001b[39m,\n",
            "    \u001b[33mInfinity\u001b[39m, \u001b[33mInfinity\u001b[39m, \u001b[33mInfinity\u001b[39m, \u001b[33mInfinity\u001b[39m, \u001b[33mInfinity\u001b[39m, \u001b[33mInfinity\u001b[39m,\n",
            "    \u001b[33mInfinity\u001b[39m, \u001b[33mInfinity\u001b[39m, \u001b[33mInfinity\u001b[39m, \u001b[33mInfinity\u001b[39m, \u001b[33mInfinity\u001b[39m, \u001b[33mInfinity\u001b[39m,\n",
            "    \u001b[33mInfinity\u001b[39m, \u001b[33mInfinity\u001b[39m, \u001b[33mInfinity\u001b[39m, \u001b[33mInfinity\u001b[39m,\n",
            "    ... 500 more items\n",
            "  ],\n",
            "  [\n",
            "    \u001b[33mInfinity\u001b[39m, \u001b[33mInfinity\u001b[39m, \u001b[33mInfinity\u001b[39m, \u001b[33mInfinity\u001b[39m, \u001b[33mInfinity\u001b[39m, \u001b[33mInfinity\u001b[39m,\n",
            "    \u001b[33mInfinity\u001b[39m, \u001b[33mInfinity\u001b[39m, \u001b[33mInfinity\u001b[39m, \u001b[33mInfinity\u001b[39m, \u001b[33mInfinity\u001b[39m, \u001b[33mInfinity\u001b[39m,\n",
            "    \u001b[33mInfinity\u001b[39m, \u001b[33mInfinity\u001b[39m, \u001b[33mInfinity\u001b[39m, \u001b[33mInfinity\u001b[39m, \u001b[33mInfinity\u001b[39m, \u001b[33mInfinity\u001b[39m,\n",
            "    \u001b[33mInfinity\u001b[39m, \u001b[33mInfinity\u001b[39m, \u001b[33mInfinity\u001b[39m, \u001b[33mInfinity\u001b[39m, \u001b[33mInfinity\u001b[39m, \u001b[33mInfinity\u001b[39m,\n",
            "    \u001b[33mInfinity\u001b[39m, \u001b[33mInfinity\u001b[39m, \u001b[33mInfinity\u001b[39m, \u001b[33mInfinity\u001b[39m, \u001b[33mInfinity\u001b[39m, \u001b[33mInfinity\u001b[39m,\n",
            "    \u001b[33mInfinity\u001b[39m, \u001b[33mInfinity\u001b[39m, \u001b[33mInfinity\u001b[39m, \u001b[33mInfinity\u001b[39m, \u001b[33mInfinity\u001b[39m, \u001b[33mInfinity\u001b[39m,\n",
            "    \u001b[33mInfinity\u001b[39m, \u001b[33mInfinity\u001b[39m, \u001b[33mInfinity\u001b[39m, \u001b[33mInfinity\u001b[39m, \u001b[33mInfinity\u001b[39m, \u001b[33mInfinity\u001b[39m,\n",
            "    \u001b[33mInfinity\u001b[39m, \u001b[33mInfinity\u001b[39m, \u001b[33mInfinity\u001b[39m, \u001b[33mInfinity\u001b[39m, \u001b[33mInfinity\u001b[39m, \u001b[33mInfinity\u001b[39m,\n",
            "    \u001b[33mInfinity\u001b[39m, \u001b[33mInfinity\u001b[39m, \u001b[33mInfinity\u001b[39m, \u001b[33mInfinity\u001b[39m, \u001b[33mInfinity\u001b[39m, \u001b[33mInfinity\u001b[39m,\n",
            "    \u001b[33mInfinity\u001b[39m, \u001b[33mInfinity\u001b[39m, \u001b[33mInfinity\u001b[39m, \u001b[33mInfinity\u001b[39m, \u001b[33mInfinity\u001b[39m, \u001b[33mInfinity\u001b[39m,\n",
            "    \u001b[33mInfinity\u001b[39m, \u001b[33mInfinity\u001b[39m, \u001b[33mInfinity\u001b[39m, \u001b[33mInfinity\u001b[39m, \u001b[33mInfinity\u001b[39m, \u001b[33mInfinity\u001b[39m,\n",
            "    \u001b[33mInfinity\u001b[39m, \u001b[33mInfinity\u001b[39m, \u001b[33mInfinity\u001b[39m, \u001b[33mInfinity\u001b[39m, \u001b[33mInfinity\u001b[39m, \u001b[33mInfinity\u001b[39m,\n",
            "    \u001b[33mInfinity\u001b[39m, \u001b[33mInfinity\u001b[39m, \u001b[33mInfinity\u001b[39m, \u001b[33mInfinity\u001b[39m, \u001b[33mInfinity\u001b[39m, \u001b[33mInfinity\u001b[39m,\n",
            "    \u001b[33mInfinity\u001b[39m, \u001b[33mInfinity\u001b[39m, \u001b[33mInfinity\u001b[39m, \u001b[33mInfinity\u001b[39m, \u001b[33mInfinity\u001b[39m, \u001b[33mInfinity\u001b[39m,\n",
            "    \u001b[33mInfinity\u001b[39m, \u001b[33mInfinity\u001b[39m, \u001b[33mInfinity\u001b[39m, \u001b[33mInfinity\u001b[39m, \u001b[33mInfinity\u001b[39m, \u001b[33mInfinity\u001b[39m,\n",
            "    \u001b[33mInfinity\u001b[39m, \u001b[33mInfinity\u001b[39m, \u001b[33mInfinity\u001b[39m, \u001b[33mInfinity\u001b[39m, \u001b[33mInfinity\u001b[39m, \u001b[33mInfinity\u001b[39m,\n",
            "    \u001b[33mInfinity\u001b[39m, \u001b[33mInfinity\u001b[39m, \u001b[33mInfinity\u001b[39m, \u001b[33mInfinity\u001b[39m,\n",
            "    ... 500 more items\n",
            "  ],\n",
            "  [\n",
            "    \u001b[33mInfinity\u001b[39m, \u001b[33mInfinity\u001b[39m, \u001b[33mInfinity\u001b[39m, \u001b[33mInfinity\u001b[39m, \u001b[33mInfinity\u001b[39m, \u001b[33mInfinity\u001b[39m,\n",
            "    \u001b[33mInfinity\u001b[39m, \u001b[33mInfinity\u001b[39m, \u001b[33mInfinity\u001b[39m, \u001b[33mInfinity\u001b[39m, \u001b[33mInfinity\u001b[39m, \u001b[33mInfinity\u001b[39m,\n",
            "    \u001b[33mInfinity\u001b[39m, \u001b[33mInfinity\u001b[39m, \u001b[33mInfinity\u001b[39m, \u001b[33mInfinity\u001b[39m, \u001b[33mInfinity\u001b[39m, \u001b[33mInfinity\u001b[39m,\n",
            "    \u001b[33mInfinity\u001b[39m, \u001b[33mInfinity\u001b[39m, \u001b[33mInfinity\u001b[39m, \u001b[33mInfinity\u001b[39m, \u001b[33mInfinity\u001b[39m, \u001b[33mInfinity\u001b[39m,\n",
            "    \u001b[33mInfinity\u001b[39m, \u001b[33mInfinity\u001b[39m, \u001b[33mInfinity\u001b[39m, \u001b[33mInfinity\u001b[39m, \u001b[33mInfinity\u001b[39m, \u001b[33mInfinity\u001b[39m,\n",
            "    \u001b[33mInfinity\u001b[39m, \u001b[33mInfinity\u001b[39m, \u001b[33mInfinity\u001b[39m, \u001b[33mInfinity\u001b[39m, \u001b[33mInfinity\u001b[39m, \u001b[33mInfinity\u001b[39m,\n",
            "    \u001b[33mInfinity\u001b[39m, \u001b[33mInfinity\u001b[39m, \u001b[33mInfinity\u001b[39m, \u001b[33mInfinity\u001b[39m, \u001b[33mInfinity\u001b[39m, \u001b[33mInfinity\u001b[39m,\n",
            "    \u001b[33mInfinity\u001b[39m, \u001b[33mInfinity\u001b[39m, \u001b[33mInfinity\u001b[39m, \u001b[33mInfinity\u001b[39m, \u001b[33mInfinity\u001b[39m, \u001b[33mInfinity\u001b[39m,\n",
            "    \u001b[33mInfinity\u001b[39m, \u001b[33mInfinity\u001b[39m, \u001b[33mInfinity\u001b[39m, \u001b[33mInfinity\u001b[39m, \u001b[33mInfinity\u001b[39m, \u001b[33mInfinity\u001b[39m,\n",
            "    \u001b[33mInfinity\u001b[39m, \u001b[33mInfinity\u001b[39m, \u001b[33mInfinity\u001b[39m, \u001b[33mInfinity\u001b[39m, \u001b[33mInfinity\u001b[39m, \u001b[33mInfinity\u001b[39m,\n",
            "    \u001b[33mInfinity\u001b[39m, \u001b[33mInfinity\u001b[39m, \u001b[33mInfinity\u001b[39m, \u001b[33mInfinity\u001b[39m, \u001b[33mInfinity\u001b[39m, \u001b[33mInfinity\u001b[39m,\n",
            "    \u001b[33mInfinity\u001b[39m, \u001b[33mInfinity\u001b[39m, \u001b[33mInfinity\u001b[39m, \u001b[33mInfinity\u001b[39m, \u001b[33mInfinity\u001b[39m, \u001b[33mInfinity\u001b[39m,\n",
            "    \u001b[33mInfinity\u001b[39m, \u001b[33mInfinity\u001b[39m, \u001b[33mInfinity\u001b[39m, \u001b[33mInfinity\u001b[39m, \u001b[33mInfinity\u001b[39m, \u001b[33mInfinity\u001b[39m,\n",
            "    \u001b[33mInfinity\u001b[39m, \u001b[33mInfinity\u001b[39m, \u001b[33mInfinity\u001b[39m, \u001b[33mInfinity\u001b[39m, \u001b[33mInfinity\u001b[39m, \u001b[33mInfinity\u001b[39m,\n",
            "    \u001b[33mInfinity\u001b[39m, \u001b[33mInfinity\u001b[39m, \u001b[33mInfinity\u001b[39m, \u001b[33mInfinity\u001b[39m, \u001b[33mInfinity\u001b[39m, \u001b[33mInfinity\u001b[39m,\n",
            "    \u001b[33mInfinity\u001b[39m, \u001b[33mInfinity\u001b[39m, \u001b[33mInfinity\u001b[39m, \u001b[33mInfinity\u001b[39m, \u001b[33mInfinity\u001b[39m, \u001b[33mInfinity\u001b[39m,\n",
            "    \u001b[33mInfinity\u001b[39m, \u001b[33mInfinity\u001b[39m, \u001b[33mInfinity\u001b[39m, \u001b[33mInfinity\u001b[39m,\n",
            "    ... 500 more items\n",
            "  ],\n",
            "  [\n",
            "    \u001b[33mInfinity\u001b[39m, \u001b[33mInfinity\u001b[39m, \u001b[33mInfinity\u001b[39m, \u001b[33mInfinity\u001b[39m, \u001b[33mInfinity\u001b[39m, \u001b[33mInfinity\u001b[39m,\n",
            "    \u001b[33mInfinity\u001b[39m, \u001b[33mInfinity\u001b[39m, \u001b[33mInfinity\u001b[39m, \u001b[33mInfinity\u001b[39m, \u001b[33mInfinity\u001b[39m, \u001b[33mInfinity\u001b[39m,\n",
            "    \u001b[33mInfinity\u001b[39m, \u001b[33mInfinity\u001b[39m, \u001b[33mInfinity\u001b[39m, \u001b[33mInfinity\u001b[39m, \u001b[33mInfinity\u001b[39m, \u001b[33mInfinity\u001b[39m,\n",
            "    \u001b[33mInfinity\u001b[39m, \u001b[33mInfinity\u001b[39m, \u001b[33mInfinity\u001b[39m, \u001b[33mInfinity\u001b[39m, \u001b[33mInfinity\u001b[39m, \u001b[33mInfinity\u001b[39m,\n",
            "    \u001b[33mInfinity\u001b[39m, \u001b[33mInfinity\u001b[39m, \u001b[33mInfinity\u001b[39m, \u001b[33mInfinity\u001b[39m, \u001b[33mInfinity\u001b[39m, \u001b[33mInfinity\u001b[39m,\n",
            "    \u001b[33mInfinity\u001b[39m, \u001b[33mInfinity\u001b[39m, \u001b[33mInfinity\u001b[39m, \u001b[33mInfinity\u001b[39m, \u001b[33mInfinity\u001b[39m, \u001b[33mInfinity\u001b[39m,\n",
            "    \u001b[33mInfinity\u001b[39m, \u001b[33mInfinity\u001b[39m, \u001b[33mInfinity\u001b[39m, \u001b[33mInfinity\u001b[39m, \u001b[33mInfinity\u001b[39m, \u001b[33mInfinity\u001b[39m,\n",
            "    \u001b[33mInfinity\u001b[39m, \u001b[33mInfinity\u001b[39m, \u001b[33mInfinity\u001b[39m, \u001b[33mInfinity\u001b[39m, \u001b[33mInfinity\u001b[39m, \u001b[33mInfinity\u001b[39m,\n",
            "    \u001b[33mInfinity\u001b[39m, \u001b[33mInfinity\u001b[39m, \u001b[33mInfinity\u001b[39m, \u001b[33mInfinity\u001b[39m, \u001b[33mInfinity\u001b[39m, \u001b[33mInfinity\u001b[39m,\n",
            "    \u001b[33mInfinity\u001b[39m, \u001b[33mInfinity\u001b[39m, \u001b[33mInfinity\u001b[39m, \u001b[33mInfinity\u001b[39m, \u001b[33mInfinity\u001b[39m, \u001b[33mInfinity\u001b[39m,\n",
            "    \u001b[33mInfinity\u001b[39m, \u001b[33mInfinity\u001b[39m, \u001b[33mInfinity\u001b[39m, \u001b[33mInfinity\u001b[39m, \u001b[33mInfinity\u001b[39m, \u001b[33mInfinity\u001b[39m,\n",
            "    \u001b[33mInfinity\u001b[39m, \u001b[33mInfinity\u001b[39m, \u001b[33mInfinity\u001b[39m, \u001b[33mInfinity\u001b[39m, \u001b[33mInfinity\u001b[39m, \u001b[33mInfinity\u001b[39m,\n",
            "    \u001b[33mInfinity\u001b[39m, \u001b[33mInfinity\u001b[39m, \u001b[33mInfinity\u001b[39m, \u001b[33mInfinity\u001b[39m, \u001b[33mInfinity\u001b[39m, \u001b[33mInfinity\u001b[39m,\n",
            "    \u001b[33mInfinity\u001b[39m, \u001b[33mInfinity\u001b[39m, \u001b[33mInfinity\u001b[39m, \u001b[33mInfinity\u001b[39m, \u001b[33mInfinity\u001b[39m, \u001b[33mInfinity\u001b[39m,\n",
            "    \u001b[33mInfinity\u001b[39m, \u001b[33mInfinity\u001b[39m, \u001b[33mInfinity\u001b[39m, \u001b[33mInfinity\u001b[39m, \u001b[33mInfinity\u001b[39m, \u001b[33mInfinity\u001b[39m,\n",
            "    \u001b[33mInfinity\u001b[39m, \u001b[33mInfinity\u001b[39m, \u001b[33mInfinity\u001b[39m, \u001b[33mInfinity\u001b[39m, \u001b[33mInfinity\u001b[39m, \u001b[33mInfinity\u001b[39m,\n",
            "    \u001b[33mInfinity\u001b[39m, \u001b[33mInfinity\u001b[39m, \u001b[33mInfinity\u001b[39m, \u001b[33mInfinity\u001b[39m,\n",
            "    ... 500 more items\n",
            "  ],\n",
            "  [\n",
            "    \u001b[33mInfinity\u001b[39m, \u001b[33mInfinity\u001b[39m, \u001b[33mInfinity\u001b[39m, \u001b[33mInfinity\u001b[39m, \u001b[33mInfinity\u001b[39m, \u001b[33mInfinity\u001b[39m,\n",
            "    \u001b[33mInfinity\u001b[39m, \u001b[33mInfinity\u001b[39m, \u001b[33mInfinity\u001b[39m, \u001b[33mInfinity\u001b[39m, \u001b[33mInfinity\u001b[39m, \u001b[33mInfinity\u001b[39m,\n",
            "    \u001b[33mInfinity\u001b[39m, \u001b[33mInfinity\u001b[39m, \u001b[33mInfinity\u001b[39m, \u001b[33mInfinity\u001b[39m, \u001b[33mInfinity\u001b[39m, \u001b[33mInfinity\u001b[39m,\n",
            "    \u001b[33mInfinity\u001b[39m, \u001b[33mInfinity\u001b[39m, \u001b[33mInfinity\u001b[39m, \u001b[33mInfinity\u001b[39m, \u001b[33mInfinity\u001b[39m, \u001b[33mInfinity\u001b[39m,\n",
            "    \u001b[33mInfinity\u001b[39m, \u001b[33mInfinity\u001b[39m, \u001b[33mInfinity\u001b[39m, \u001b[33mInfinity\u001b[39m, \u001b[33mInfinity\u001b[39m, \u001b[33mInfinity\u001b[39m,\n",
            "    \u001b[33mInfinity\u001b[39m, \u001b[33mInfinity\u001b[39m, \u001b[33mInfinity\u001b[39m, \u001b[33mInfinity\u001b[39m, \u001b[33mInfinity\u001b[39m, \u001b[33mInfinity\u001b[39m,\n",
            "    \u001b[33mInfinity\u001b[39m, \u001b[33mInfinity\u001b[39m, \u001b[33mInfinity\u001b[39m, \u001b[33mInfinity\u001b[39m, \u001b[33mInfinity\u001b[39m, \u001b[33mInfinity\u001b[39m,\n",
            "    \u001b[33mInfinity\u001b[39m, \u001b[33mInfinity\u001b[39m, \u001b[33mInfinity\u001b[39m, \u001b[33mInfinity\u001b[39m, \u001b[33mInfinity\u001b[39m, \u001b[33mInfinity\u001b[39m,\n",
            "    \u001b[33mInfinity\u001b[39m, \u001b[33mInfinity\u001b[39m, \u001b[33mInfinity\u001b[39m, \u001b[33mInfinity\u001b[39m, \u001b[33mInfinity\u001b[39m, \u001b[33mInfinity\u001b[39m,\n",
            "    \u001b[33mInfinity\u001b[39m, \u001b[33mInfinity\u001b[39m, \u001b[33mInfinity\u001b[39m, \u001b[33mInfinity\u001b[39m, \u001b[33mInfinity\u001b[39m, \u001b[33mInfinity\u001b[39m,\n",
            "    \u001b[33mInfinity\u001b[39m, \u001b[33mInfinity\u001b[39m, \u001b[33mInfinity\u001b[39m, \u001b[33mInfinity\u001b[39m, \u001b[33mInfinity\u001b[39m, \u001b[33mInfinity\u001b[39m,\n",
            "    \u001b[33mInfinity\u001b[39m, \u001b[33mInfinity\u001b[39m, \u001b[33mInfinity\u001b[39m, \u001b[33mInfinity\u001b[39m, \u001b[33mInfinity\u001b[39m, \u001b[33mInfinity\u001b[39m,\n",
            "    \u001b[33mInfinity\u001b[39m, \u001b[33mInfinity\u001b[39m, \u001b[33mInfinity\u001b[39m, \u001b[33mInfinity\u001b[39m, \u001b[33mInfinity\u001b[39m, \u001b[33mInfinity\u001b[39m,\n",
            "    \u001b[33mInfinity\u001b[39m, \u001b[33mInfinity\u001b[39m, \u001b[33mInfinity\u001b[39m, \u001b[33mInfinity\u001b[39m, \u001b[33mInfinity\u001b[39m, \u001b[33mInfinity\u001b[39m,\n",
            "    \u001b[33mInfinity\u001b[39m, \u001b[33mInfinity\u001b[39m, \u001b[33mInfinity\u001b[39m, \u001b[33mInfinity\u001b[39m, \u001b[33mInfinity\u001b[39m, \u001b[33mInfinity\u001b[39m,\n",
            "    \u001b[33mInfinity\u001b[39m, \u001b[33mInfinity\u001b[39m, \u001b[33mInfinity\u001b[39m, \u001b[33mInfinity\u001b[39m, \u001b[33mInfinity\u001b[39m, \u001b[33mInfinity\u001b[39m,\n",
            "    \u001b[33mInfinity\u001b[39m, \u001b[33mInfinity\u001b[39m, \u001b[33mInfinity\u001b[39m, \u001b[33mInfinity\u001b[39m,\n",
            "    ... 500 more items\n",
            "  ],\n",
            "  [\n",
            "    \u001b[33mInfinity\u001b[39m, \u001b[33mInfinity\u001b[39m, \u001b[33mInfinity\u001b[39m, \u001b[33mInfinity\u001b[39m, \u001b[33mInfinity\u001b[39m, \u001b[33mInfinity\u001b[39m,\n",
            "    \u001b[33mInfinity\u001b[39m, \u001b[33mInfinity\u001b[39m, \u001b[33mInfinity\u001b[39m, \u001b[33mInfinity\u001b[39m, \u001b[33mInfinity\u001b[39m, \u001b[33mInfinity\u001b[39m,\n",
            "    \u001b[33mInfinity\u001b[39m, \u001b[33mInfinity\u001b[39m, \u001b[33mInfinity\u001b[39m, \u001b[33mInfinity\u001b[39m, \u001b[33mInfinity\u001b[39m, \u001b[33mInfinity\u001b[39m,\n",
            "    \u001b[33mInfinity\u001b[39m, \u001b[33mInfinity\u001b[39m, \u001b[33mInfinity\u001b[39m, \u001b[33mInfinity\u001b[39m, \u001b[33mInfinity\u001b[39m, \u001b[33mInfinity\u001b[39m,\n",
            "    \u001b[33mInfinity\u001b[39m, \u001b[33mInfinity\u001b[39m, \u001b[33mInfinity\u001b[39m, \u001b[33mInfinity\u001b[39m, \u001b[33mInfinity\u001b[39m, \u001b[33mInfinity\u001b[39m,\n",
            "    \u001b[33mInfinity\u001b[39m, \u001b[33mInfinity\u001b[39m, \u001b[33mInfinity\u001b[39m, \u001b[33mInfinity\u001b[39m, \u001b[33mInfinity\u001b[39m, \u001b[33mInfinity\u001b[39m,\n",
            "    \u001b[33mInfinity\u001b[39m, \u001b[33mInfinity\u001b[39m, \u001b[33mInfinity\u001b[39m, \u001b[33mInfinity\u001b[39m, \u001b[33mInfinity\u001b[39m, \u001b[33mInfinity\u001b[39m,\n",
            "    \u001b[33mInfinity\u001b[39m, \u001b[33mInfinity\u001b[39m, \u001b[33mInfinity\u001b[39m, \u001b[33mInfinity\u001b[39m, \u001b[33mInfinity\u001b[39m, \u001b[33mInfinity\u001b[39m,\n",
            "    \u001b[33mInfinity\u001b[39m, \u001b[33mInfinity\u001b[39m, \u001b[33mInfinity\u001b[39m, \u001b[33mInfinity\u001b[39m, \u001b[33mInfinity\u001b[39m, \u001b[33mInfinity\u001b[39m,\n",
            "    \u001b[33mInfinity\u001b[39m, \u001b[33mInfinity\u001b[39m, \u001b[33mInfinity\u001b[39m, \u001b[33mInfinity\u001b[39m, \u001b[33mInfinity\u001b[39m, \u001b[33mInfinity\u001b[39m,\n",
            "    \u001b[33mInfinity\u001b[39m, \u001b[33mInfinity\u001b[39m, \u001b[33mInfinity\u001b[39m, \u001b[33mInfinity\u001b[39m, \u001b[33mInfinity\u001b[39m, \u001b[33mInfinity\u001b[39m,\n",
            "    \u001b[33mInfinity\u001b[39m, \u001b[33mInfinity\u001b[39m, \u001b[33mInfinity\u001b[39m, \u001b[33mInfinity\u001b[39m, \u001b[33mInfinity\u001b[39m, \u001b[33mInfinity\u001b[39m,\n",
            "    \u001b[33mInfinity\u001b[39m, \u001b[33mInfinity\u001b[39m, \u001b[33mInfinity\u001b[39m, \u001b[33mInfinity\u001b[39m, \u001b[33mInfinity\u001b[39m, \u001b[33mInfinity\u001b[39m,\n",
            "    \u001b[33mInfinity\u001b[39m, \u001b[33mInfinity\u001b[39m, \u001b[33mInfinity\u001b[39m, \u001b[33mInfinity\u001b[39m, \u001b[33mInfinity\u001b[39m, \u001b[33mInfinity\u001b[39m,\n",
            "    \u001b[33mInfinity\u001b[39m, \u001b[33mInfinity\u001b[39m, \u001b[33mInfinity\u001b[39m, \u001b[33mInfinity\u001b[39m, \u001b[33mInfinity\u001b[39m, \u001b[33mInfinity\u001b[39m,\n",
            "    \u001b[33mInfinity\u001b[39m, \u001b[33mInfinity\u001b[39m, \u001b[33mInfinity\u001b[39m, \u001b[33mInfinity\u001b[39m, \u001b[33mInfinity\u001b[39m, \u001b[33mInfinity\u001b[39m,\n",
            "    \u001b[33mInfinity\u001b[39m, \u001b[33mInfinity\u001b[39m, \u001b[33mInfinity\u001b[39m, \u001b[33mInfinity\u001b[39m,\n",
            "    ... 500 more items\n",
            "  ],\n",
            "  [\n",
            "    \u001b[33mInfinity\u001b[39m, \u001b[33mInfinity\u001b[39m, \u001b[33mInfinity\u001b[39m, \u001b[33mInfinity\u001b[39m, \u001b[33mInfinity\u001b[39m, \u001b[33mInfinity\u001b[39m,\n",
            "    \u001b[33mInfinity\u001b[39m, \u001b[33mInfinity\u001b[39m, \u001b[33mInfinity\u001b[39m, \u001b[33mInfinity\u001b[39m, \u001b[33mInfinity\u001b[39m, \u001b[33mInfinity\u001b[39m,\n",
            "    \u001b[33mInfinity\u001b[39m, \u001b[33mInfinity\u001b[39m, \u001b[33mInfinity\u001b[39m, \u001b[33mInfinity\u001b[39m, \u001b[33mInfinity\u001b[39m, \u001b[33mInfinity\u001b[39m,\n",
            "    \u001b[33mInfinity\u001b[39m, \u001b[33mInfinity\u001b[39m, \u001b[33mInfinity\u001b[39m, \u001b[33mInfinity\u001b[39m, \u001b[33mInfinity\u001b[39m, \u001b[33mInfinity\u001b[39m,\n",
            "    \u001b[33mInfinity\u001b[39m, \u001b[33mInfinity\u001b[39m, \u001b[33mInfinity\u001b[39m, \u001b[33mInfinity\u001b[39m, \u001b[33mInfinity\u001b[39m, \u001b[33mInfinity\u001b[39m,\n",
            "    \u001b[33mInfinity\u001b[39m, \u001b[33mInfinity\u001b[39m, \u001b[33mInfinity\u001b[39m, \u001b[33mInfinity\u001b[39m, \u001b[33mInfinity\u001b[39m, \u001b[33mInfinity\u001b[39m,\n",
            "    \u001b[33mInfinity\u001b[39m, \u001b[33mInfinity\u001b[39m, \u001b[33mInfinity\u001b[39m, \u001b[33mInfinity\u001b[39m, \u001b[33mInfinity\u001b[39m, \u001b[33mInfinity\u001b[39m,\n",
            "    \u001b[33mInfinity\u001b[39m, \u001b[33mInfinity\u001b[39m, \u001b[33mInfinity\u001b[39m, \u001b[33mInfinity\u001b[39m, \u001b[33mInfinity\u001b[39m, \u001b[33mInfinity\u001b[39m,\n",
            "    \u001b[33mInfinity\u001b[39m, \u001b[33mInfinity\u001b[39m, \u001b[33mInfinity\u001b[39m, \u001b[33mInfinity\u001b[39m, \u001b[33mInfinity\u001b[39m, \u001b[33mInfinity\u001b[39m,\n",
            "    \u001b[33mInfinity\u001b[39m, \u001b[33mInfinity\u001b[39m, \u001b[33mInfinity\u001b[39m, \u001b[33mInfinity\u001b[39m, \u001b[33mInfinity\u001b[39m, \u001b[33mInfinity\u001b[39m,\n",
            "    \u001b[33mInfinity\u001b[39m, \u001b[33mInfinity\u001b[39m, \u001b[33mInfinity\u001b[39m, \u001b[33mInfinity\u001b[39m, \u001b[33mInfinity\u001b[39m, \u001b[33mInfinity\u001b[39m,\n",
            "    \u001b[33mInfinity\u001b[39m, \u001b[33mInfinity\u001b[39m, \u001b[33mInfinity\u001b[39m, \u001b[33mInfinity\u001b[39m, \u001b[33mInfinity\u001b[39m, \u001b[33mInfinity\u001b[39m,\n",
            "    \u001b[33mInfinity\u001b[39m, \u001b[33mInfinity\u001b[39m, \u001b[33mInfinity\u001b[39m, \u001b[33mInfinity\u001b[39m, \u001b[33mInfinity\u001b[39m, \u001b[33mInfinity\u001b[39m,\n",
            "    \u001b[33mInfinity\u001b[39m, \u001b[33mInfinity\u001b[39m, \u001b[33mInfinity\u001b[39m, \u001b[33mInfinity\u001b[39m, \u001b[33mInfinity\u001b[39m, \u001b[33mInfinity\u001b[39m,\n",
            "    \u001b[33mInfinity\u001b[39m, \u001b[33mInfinity\u001b[39m, \u001b[33mInfinity\u001b[39m, \u001b[33mInfinity\u001b[39m, \u001b[33mInfinity\u001b[39m, \u001b[33mInfinity\u001b[39m,\n",
            "    \u001b[33mInfinity\u001b[39m, \u001b[33mInfinity\u001b[39m, \u001b[33mInfinity\u001b[39m, \u001b[33mInfinity\u001b[39m, \u001b[33mInfinity\u001b[39m, \u001b[33mInfinity\u001b[39m,\n",
            "    \u001b[33mInfinity\u001b[39m, \u001b[33mInfinity\u001b[39m, \u001b[33mInfinity\u001b[39m, \u001b[33mInfinity\u001b[39m,\n",
            "    ... 500 more items\n",
            "  ],\n",
            "  [\n",
            "    \u001b[33mInfinity\u001b[39m, \u001b[33mInfinity\u001b[39m, \u001b[33mInfinity\u001b[39m, \u001b[33mInfinity\u001b[39m, \u001b[33mInfinity\u001b[39m, \u001b[33mInfinity\u001b[39m,\n",
            "    \u001b[33mInfinity\u001b[39m, \u001b[33mInfinity\u001b[39m, \u001b[33mInfinity\u001b[39m, \u001b[33mInfinity\u001b[39m, \u001b[33mInfinity\u001b[39m, \u001b[33mInfinity\u001b[39m,\n",
            "    \u001b[33mInfinity\u001b[39m, \u001b[33mInfinity\u001b[39m, \u001b[33mInfinity\u001b[39m, \u001b[33mInfinity\u001b[39m, \u001b[33mInfinity\u001b[39m, \u001b[33mInfinity\u001b[39m,\n",
            "    \u001b[33mInfinity\u001b[39m, \u001b[33mInfinity\u001b[39m, \u001b[33mInfinity\u001b[39m, \u001b[33mInfinity\u001b[39m, \u001b[33mInfinity\u001b[39m, \u001b[33mInfinity\u001b[39m,\n",
            "    \u001b[33mInfinity\u001b[39m, \u001b[33mInfinity\u001b[39m, \u001b[33mInfinity\u001b[39m, \u001b[33mInfinity\u001b[39m, \u001b[33mInfinity\u001b[39m, \u001b[33mInfinity\u001b[39m,\n",
            "    \u001b[33mInfinity\u001b[39m, \u001b[33mInfinity\u001b[39m, \u001b[33mInfinity\u001b[39m, \u001b[33mInfinity\u001b[39m, \u001b[33mInfinity\u001b[39m, \u001b[33mInfinity\u001b[39m,\n",
            "    \u001b[33mInfinity\u001b[39m, \u001b[33mInfinity\u001b[39m, \u001b[33mInfinity\u001b[39m, \u001b[33mInfinity\u001b[39m, \u001b[33mInfinity\u001b[39m, \u001b[33mInfinity\u001b[39m,\n",
            "    \u001b[33mInfinity\u001b[39m, \u001b[33mInfinity\u001b[39m, \u001b[33mInfinity\u001b[39m, \u001b[33mInfinity\u001b[39m, \u001b[33mInfinity\u001b[39m, \u001b[33mInfinity\u001b[39m,\n",
            "    \u001b[33mInfinity\u001b[39m, \u001b[33mInfinity\u001b[39m, \u001b[33mInfinity\u001b[39m, \u001b[33mInfinity\u001b[39m, \u001b[33mInfinity\u001b[39m, \u001b[33mInfinity\u001b[39m,\n",
            "    \u001b[33mInfinity\u001b[39m, \u001b[33mInfinity\u001b[39m, \u001b[33mInfinity\u001b[39m, \u001b[33mInfinity\u001b[39m, \u001b[33mInfinity\u001b[39m, \u001b[33mInfinity\u001b[39m,\n",
            "    \u001b[33mInfinity\u001b[39m, \u001b[33mInfinity\u001b[39m, \u001b[33mInfinity\u001b[39m, \u001b[33mInfinity\u001b[39m, \u001b[33mInfinity\u001b[39m, \u001b[33mInfinity\u001b[39m,\n",
            "    \u001b[33mInfinity\u001b[39m, \u001b[33mInfinity\u001b[39m, \u001b[33mInfinity\u001b[39m, \u001b[33mInfinity\u001b[39m, \u001b[33mInfinity\u001b[39m, \u001b[33mInfinity\u001b[39m,\n",
            "    \u001b[33mInfinity\u001b[39m, \u001b[33mInfinity\u001b[39m, \u001b[33mInfinity\u001b[39m, \u001b[33mInfinity\u001b[39m, \u001b[33mInfinity\u001b[39m, \u001b[33mInfinity\u001b[39m,\n",
            "    \u001b[33mInfinity\u001b[39m, \u001b[33mInfinity\u001b[39m, \u001b[33mInfinity\u001b[39m, \u001b[33mInfinity\u001b[39m, \u001b[33mInfinity\u001b[39m, \u001b[33mInfinity\u001b[39m,\n",
            "    \u001b[33mInfinity\u001b[39m, \u001b[33mInfinity\u001b[39m, \u001b[33mInfinity\u001b[39m, \u001b[33mInfinity\u001b[39m, \u001b[33mInfinity\u001b[39m, \u001b[33mInfinity\u001b[39m,\n",
            "    \u001b[33mInfinity\u001b[39m, \u001b[33mInfinity\u001b[39m, \u001b[33mInfinity\u001b[39m, \u001b[33mInfinity\u001b[39m, \u001b[33mInfinity\u001b[39m, \u001b[33mInfinity\u001b[39m,\n",
            "    \u001b[33mInfinity\u001b[39m, \u001b[33mInfinity\u001b[39m, \u001b[33mInfinity\u001b[39m, \u001b[33mInfinity\u001b[39m,\n",
            "    ... 500 more items\n",
            "  ],\n",
            "  [\n",
            "    \u001b[33mInfinity\u001b[39m, \u001b[33mInfinity\u001b[39m, \u001b[33mInfinity\u001b[39m, \u001b[33mInfinity\u001b[39m, \u001b[33mInfinity\u001b[39m, \u001b[33mInfinity\u001b[39m,\n",
            "    \u001b[33mInfinity\u001b[39m, \u001b[33mInfinity\u001b[39m, \u001b[33mInfinity\u001b[39m, \u001b[33mInfinity\u001b[39m, \u001b[33mInfinity\u001b[39m, \u001b[33mInfinity\u001b[39m,\n",
            "    \u001b[33mInfinity\u001b[39m, \u001b[33mInfinity\u001b[39m, \u001b[33mInfinity\u001b[39m, \u001b[33mInfinity\u001b[39m, \u001b[33mInfinity\u001b[39m, \u001b[33mInfinity\u001b[39m,\n",
            "    \u001b[33mInfinity\u001b[39m, \u001b[33mInfinity\u001b[39m, \u001b[33mInfinity\u001b[39m, \u001b[33mInfinity\u001b[39m, \u001b[33mInfinity\u001b[39m, \u001b[33mInfinity\u001b[39m,\n",
            "    \u001b[33mInfinity\u001b[39m, \u001b[33mInfinity\u001b[39m, \u001b[33mInfinity\u001b[39m, \u001b[33mInfinity\u001b[39m, \u001b[33mInfinity\u001b[39m, \u001b[33mInfinity\u001b[39m,\n",
            "    \u001b[33mInfinity\u001b[39m, \u001b[33mInfinity\u001b[39m, \u001b[33mInfinity\u001b[39m, \u001b[33mInfinity\u001b[39m, \u001b[33mInfinity\u001b[39m, \u001b[33mInfinity\u001b[39m,\n",
            "    \u001b[33mInfinity\u001b[39m, \u001b[33mInfinity\u001b[39m, \u001b[33mInfinity\u001b[39m, \u001b[33mInfinity\u001b[39m, \u001b[33mInfinity\u001b[39m, \u001b[33mInfinity\u001b[39m,\n",
            "    \u001b[33mInfinity\u001b[39m, \u001b[33mInfinity\u001b[39m, \u001b[33mInfinity\u001b[39m, \u001b[33mInfinity\u001b[39m, \u001b[33mInfinity\u001b[39m, \u001b[33mInfinity\u001b[39m,\n",
            "    \u001b[33mInfinity\u001b[39m, \u001b[33mInfinity\u001b[39m, \u001b[33mInfinity\u001b[39m, \u001b[33mInfinity\u001b[39m, \u001b[33mInfinity\u001b[39m, \u001b[33mInfinity\u001b[39m,\n",
            "    \u001b[33mInfinity\u001b[39m, \u001b[33mInfinity\u001b[39m, \u001b[33mInfinity\u001b[39m, \u001b[33mInfinity\u001b[39m, \u001b[33mInfinity\u001b[39m, \u001b[33mInfinity\u001b[39m,\n",
            "    \u001b[33mInfinity\u001b[39m, \u001b[33mInfinity\u001b[39m, \u001b[33mInfinity\u001b[39m, \u001b[33mInfinity\u001b[39m, \u001b[33mInfinity\u001b[39m, \u001b[33mInfinity\u001b[39m,\n",
            "    \u001b[33mInfinity\u001b[39m, \u001b[33mInfinity\u001b[39m, \u001b[33mInfinity\u001b[39m, \u001b[33mInfinity\u001b[39m, \u001b[33mInfinity\u001b[39m, \u001b[33mInfinity\u001b[39m,\n",
            "    \u001b[33mInfinity\u001b[39m, \u001b[33mInfinity\u001b[39m, \u001b[33mInfinity\u001b[39m, \u001b[33mInfinity\u001b[39m, \u001b[33mInfinity\u001b[39m, \u001b[33mInfinity\u001b[39m,\n",
            "    \u001b[33mInfinity\u001b[39m, \u001b[33mInfinity\u001b[39m, \u001b[33mInfinity\u001b[39m, \u001b[33mInfinity\u001b[39m, \u001b[33mInfinity\u001b[39m, \u001b[33mInfinity\u001b[39m,\n",
            "    \u001b[33mInfinity\u001b[39m, \u001b[33mInfinity\u001b[39m, \u001b[33mInfinity\u001b[39m, \u001b[33mInfinity\u001b[39m, \u001b[33mInfinity\u001b[39m, \u001b[33mInfinity\u001b[39m,\n",
            "    \u001b[33mInfinity\u001b[39m, \u001b[33mInfinity\u001b[39m, \u001b[33mInfinity\u001b[39m, \u001b[33mInfinity\u001b[39m, \u001b[33mInfinity\u001b[39m, \u001b[33mInfinity\u001b[39m,\n",
            "    \u001b[33mInfinity\u001b[39m, \u001b[33mInfinity\u001b[39m, \u001b[33mInfinity\u001b[39m, \u001b[33mInfinity\u001b[39m,\n",
            "    ... 500 more items\n",
            "  ],\n",
            "  [\n",
            "    \u001b[33mInfinity\u001b[39m, \u001b[33mInfinity\u001b[39m, \u001b[33mInfinity\u001b[39m, \u001b[33mInfinity\u001b[39m, \u001b[33mInfinity\u001b[39m, \u001b[33mInfinity\u001b[39m,\n",
            "    \u001b[33mInfinity\u001b[39m, \u001b[33mInfinity\u001b[39m, \u001b[33mInfinity\u001b[39m, \u001b[33mInfinity\u001b[39m, \u001b[33mInfinity\u001b[39m, \u001b[33mInfinity\u001b[39m,\n",
            "    \u001b[33mInfinity\u001b[39m, \u001b[33mInfinity\u001b[39m, \u001b[33mInfinity\u001b[39m, \u001b[33mInfinity\u001b[39m, \u001b[33mInfinity\u001b[39m, \u001b[33mInfinity\u001b[39m,\n",
            "    \u001b[33mInfinity\u001b[39m, \u001b[33mInfinity\u001b[39m, \u001b[33mInfinity\u001b[39m, \u001b[33mInfinity\u001b[39m, \u001b[33mInfinity\u001b[39m, \u001b[33mInfinity\u001b[39m,\n",
            "    \u001b[33mInfinity\u001b[39m, \u001b[33mInfinity\u001b[39m, \u001b[33mInfinity\u001b[39m, \u001b[33mInfinity\u001b[39m, \u001b[33mInfinity\u001b[39m, \u001b[33mInfinity\u001b[39m,\n",
            "    \u001b[33mInfinity\u001b[39m, \u001b[33mInfinity\u001b[39m, \u001b[33mInfinity\u001b[39m, \u001b[33mInfinity\u001b[39m, \u001b[33mInfinity\u001b[39m, \u001b[33mInfinity\u001b[39m,\n",
            "    \u001b[33mInfinity\u001b[39m, \u001b[33mInfinity\u001b[39m, \u001b[33mInfinity\u001b[39m, \u001b[33mInfinity\u001b[39m, \u001b[33mInfinity\u001b[39m, \u001b[33mInfinity\u001b[39m,\n",
            "    \u001b[33mInfinity\u001b[39m, \u001b[33mInfinity\u001b[39m, \u001b[33mInfinity\u001b[39m, \u001b[33mInfinity\u001b[39m, \u001b[33mInfinity\u001b[39m, \u001b[33mInfinity\u001b[39m,\n",
            "    \u001b[33mInfinity\u001b[39m, \u001b[33mInfinity\u001b[39m, \u001b[33mInfinity\u001b[39m, \u001b[33mInfinity\u001b[39m, \u001b[33mInfinity\u001b[39m, \u001b[33mInfinity\u001b[39m,\n",
            "    \u001b[33mInfinity\u001b[39m, \u001b[33mInfinity\u001b[39m, \u001b[33mInfinity\u001b[39m, \u001b[33mInfinity\u001b[39m, \u001b[33mInfinity\u001b[39m, \u001b[33mInfinity\u001b[39m,\n",
            "    \u001b[33mInfinity\u001b[39m, \u001b[33mInfinity\u001b[39m, \u001b[33mInfinity\u001b[39m, \u001b[33mInfinity\u001b[39m, \u001b[33mInfinity\u001b[39m, \u001b[33mInfinity\u001b[39m,\n",
            "    \u001b[33mInfinity\u001b[39m, \u001b[33mInfinity\u001b[39m, \u001b[33mInfinity\u001b[39m, \u001b[33mInfinity\u001b[39m, \u001b[33mInfinity\u001b[39m, \u001b[33mInfinity\u001b[39m,\n",
            "    \u001b[33mInfinity\u001b[39m, \u001b[33mInfinity\u001b[39m, \u001b[33mInfinity\u001b[39m, \u001b[33mInfinity\u001b[39m, \u001b[33mInfinity\u001b[39m, \u001b[33mInfinity\u001b[39m,\n",
            "    \u001b[33mInfinity\u001b[39m, \u001b[33mInfinity\u001b[39m, \u001b[33mInfinity\u001b[39m, \u001b[33mInfinity\u001b[39m, \u001b[33mInfinity\u001b[39m, \u001b[33mInfinity\u001b[39m,\n",
            "    \u001b[33mInfinity\u001b[39m, \u001b[33mInfinity\u001b[39m, \u001b[33mInfinity\u001b[39m, \u001b[33mInfinity\u001b[39m, \u001b[33mInfinity\u001b[39m, \u001b[33mInfinity\u001b[39m,\n",
            "    \u001b[33mInfinity\u001b[39m, \u001b[33mInfinity\u001b[39m, \u001b[33mInfinity\u001b[39m, \u001b[33mInfinity\u001b[39m, \u001b[33mInfinity\u001b[39m, \u001b[33mInfinity\u001b[39m,\n",
            "    \u001b[33mInfinity\u001b[39m, \u001b[33mInfinity\u001b[39m, \u001b[33mInfinity\u001b[39m, \u001b[33mInfinity\u001b[39m,\n",
            "    ... 500 more items\n",
            "  ],\n",
            "  [\n",
            "    \u001b[33mInfinity\u001b[39m, \u001b[33mInfinity\u001b[39m, \u001b[33mInfinity\u001b[39m, \u001b[33mInfinity\u001b[39m, \u001b[33mInfinity\u001b[39m, \u001b[33mInfinity\u001b[39m,\n",
            "    \u001b[33mInfinity\u001b[39m, \u001b[33mInfinity\u001b[39m, \u001b[33mInfinity\u001b[39m, \u001b[33mInfinity\u001b[39m, \u001b[33mInfinity\u001b[39m, \u001b[33mInfinity\u001b[39m,\n",
            "    \u001b[33mInfinity\u001b[39m, \u001b[33mInfinity\u001b[39m, \u001b[33mInfinity\u001b[39m, \u001b[33mInfinity\u001b[39m, \u001b[33mInfinity\u001b[39m, \u001b[33mInfinity\u001b[39m,\n",
            "    \u001b[33mInfinity\u001b[39m, \u001b[33mInfinity\u001b[39m, \u001b[33mInfinity\u001b[39m, \u001b[33mInfinity\u001b[39m, \u001b[33mInfinity\u001b[39m, \u001b[33mInfinity\u001b[39m,\n",
            "    \u001b[33mInfinity\u001b[39m, \u001b[33mInfinity\u001b[39m, \u001b[33mInfinity\u001b[39m, \u001b[33mInfinity\u001b[39m, \u001b[33mInfinity\u001b[39m, \u001b[33mInfinity\u001b[39m,\n",
            "    \u001b[33mInfinity\u001b[39m, \u001b[33mInfinity\u001b[39m, \u001b[33mInfinity\u001b[39m, \u001b[33mInfinity\u001b[39m, \u001b[33mInfinity\u001b[39m, \u001b[33mInfinity\u001b[39m,\n",
            "    \u001b[33mInfinity\u001b[39m, \u001b[33mInfinity\u001b[39m, \u001b[33mInfinity\u001b[39m, \u001b[33mInfinity\u001b[39m, \u001b[33mInfinity\u001b[39m, \u001b[33mInfinity\u001b[39m,\n",
            "    \u001b[33mInfinity\u001b[39m, \u001b[33mInfinity\u001b[39m, \u001b[33mInfinity\u001b[39m, \u001b[33mInfinity\u001b[39m, \u001b[33mInfinity\u001b[39m, \u001b[33mInfinity\u001b[39m,\n",
            "    \u001b[33mInfinity\u001b[39m, \u001b[33mInfinity\u001b[39m, \u001b[33mInfinity\u001b[39m, \u001b[33mInfinity\u001b[39m, \u001b[33mInfinity\u001b[39m, \u001b[33mInfinity\u001b[39m,\n",
            "    \u001b[33mInfinity\u001b[39m, \u001b[33mInfinity\u001b[39m, \u001b[33mInfinity\u001b[39m, \u001b[33mInfinity\u001b[39m, \u001b[33mInfinity\u001b[39m, \u001b[33mInfinity\u001b[39m,\n",
            "    \u001b[33mInfinity\u001b[39m, \u001b[33mInfinity\u001b[39m, \u001b[33mInfinity\u001b[39m, \u001b[33mInfinity\u001b[39m, \u001b[33mInfinity\u001b[39m, \u001b[33mInfinity\u001b[39m,\n",
            "    \u001b[33mInfinity\u001b[39m, \u001b[33mInfinity\u001b[39m, \u001b[33mInfinity\u001b[39m, \u001b[33mInfinity\u001b[39m, \u001b[33mInfinity\u001b[39m, \u001b[33mInfinity\u001b[39m,\n",
            "    \u001b[33mInfinity\u001b[39m, \u001b[33mInfinity\u001b[39m, \u001b[33mInfinity\u001b[39m, \u001b[33mInfinity\u001b[39m, \u001b[33mInfinity\u001b[39m, \u001b[33mInfinity\u001b[39m,\n",
            "    \u001b[33mInfinity\u001b[39m, \u001b[33mInfinity\u001b[39m, \u001b[33mInfinity\u001b[39m, \u001b[33mInfinity\u001b[39m, \u001b[33mInfinity\u001b[39m, \u001b[33mInfinity\u001b[39m,\n",
            "    \u001b[33mInfinity\u001b[39m, \u001b[33mInfinity\u001b[39m, \u001b[33mInfinity\u001b[39m, \u001b[33mInfinity\u001b[39m, \u001b[33mInfinity\u001b[39m, \u001b[33mInfinity\u001b[39m,\n",
            "    \u001b[33mInfinity\u001b[39m, \u001b[33mInfinity\u001b[39m, \u001b[33mInfinity\u001b[39m, \u001b[33mInfinity\u001b[39m, \u001b[33mInfinity\u001b[39m, \u001b[33mInfinity\u001b[39m,\n",
            "    \u001b[33mInfinity\u001b[39m, \u001b[33mInfinity\u001b[39m, \u001b[33mInfinity\u001b[39m, \u001b[33mInfinity\u001b[39m,\n",
            "    ... 500 more items\n",
            "  ],\n",
            "  [\n",
            "    \u001b[33mInfinity\u001b[39m, \u001b[33mInfinity\u001b[39m, \u001b[33mInfinity\u001b[39m, \u001b[33mInfinity\u001b[39m, \u001b[33mInfinity\u001b[39m, \u001b[33mInfinity\u001b[39m,\n",
            "    \u001b[33mInfinity\u001b[39m, \u001b[33mInfinity\u001b[39m, \u001b[33mInfinity\u001b[39m, \u001b[33mInfinity\u001b[39m, \u001b[33mInfinity\u001b[39m, \u001b[33mInfinity\u001b[39m,\n",
            "    \u001b[33mInfinity\u001b[39m, \u001b[33mInfinity\u001b[39m, \u001b[33mInfinity\u001b[39m, \u001b[33mInfinity\u001b[39m, \u001b[33mInfinity\u001b[39m, \u001b[33mInfinity\u001b[39m,\n",
            "    \u001b[33mInfinity\u001b[39m, \u001b[33mInfinity\u001b[39m, \u001b[33mInfinity\u001b[39m, \u001b[33mInfinity\u001b[39m, \u001b[33mInfinity\u001b[39m, \u001b[33mInfinity\u001b[39m,\n",
            "    \u001b[33mInfinity\u001b[39m, \u001b[33mInfinity\u001b[39m, \u001b[33mInfinity\u001b[39m, \u001b[33mInfinity\u001b[39m, \u001b[33mInfinity\u001b[39m, \u001b[33mInfinity\u001b[39m,\n",
            "    \u001b[33mInfinity\u001b[39m, \u001b[33mInfinity\u001b[39m, \u001b[33mInfinity\u001b[39m, \u001b[33mInfinity\u001b[39m, \u001b[33mInfinity\u001b[39m, \u001b[33mInfinity\u001b[39m,\n",
            "    \u001b[33mInfinity\u001b[39m, \u001b[33mInfinity\u001b[39m, \u001b[33mInfinity\u001b[39m, \u001b[33mInfinity\u001b[39m, \u001b[33mInfinity\u001b[39m, \u001b[33mInfinity\u001b[39m,\n",
            "    \u001b[33mInfinity\u001b[39m, \u001b[33mInfinity\u001b[39m, \u001b[33mInfinity\u001b[39m, \u001b[33mInfinity\u001b[39m, \u001b[33mInfinity\u001b[39m, \u001b[33mInfinity\u001b[39m,\n",
            "    \u001b[33mInfinity\u001b[39m, \u001b[33mInfinity\u001b[39m, \u001b[33mInfinity\u001b[39m, \u001b[33mInfinity\u001b[39m, \u001b[33mInfinity\u001b[39m, \u001b[33mInfinity\u001b[39m,\n",
            "    \u001b[33mInfinity\u001b[39m, \u001b[33mInfinity\u001b[39m, \u001b[33mInfinity\u001b[39m, \u001b[33mInfinity\u001b[39m, \u001b[33mInfinity\u001b[39m, \u001b[33mInfinity\u001b[39m,\n",
            "    \u001b[33mInfinity\u001b[39m, \u001b[33mInfinity\u001b[39m, \u001b[33mInfinity\u001b[39m, \u001b[33mInfinity\u001b[39m, \u001b[33mInfinity\u001b[39m, \u001b[33mInfinity\u001b[39m,\n",
            "    \u001b[33mInfinity\u001b[39m, \u001b[33mInfinity\u001b[39m, \u001b[33mInfinity\u001b[39m, \u001b[33mInfinity\u001b[39m, \u001b[33mInfinity\u001b[39m, \u001b[33mInfinity\u001b[39m,\n",
            "    \u001b[33mInfinity\u001b[39m, \u001b[33mInfinity\u001b[39m, \u001b[33mInfinity\u001b[39m, \u001b[33mInfinity\u001b[39m, \u001b[33mInfinity\u001b[39m, \u001b[33mInfinity\u001b[39m,\n",
            "    \u001b[33mInfinity\u001b[39m, \u001b[33mInfinity\u001b[39m, \u001b[33mInfinity\u001b[39m, \u001b[33mInfinity\u001b[39m, \u001b[33mInfinity\u001b[39m, \u001b[33mInfinity\u001b[39m,\n",
            "    \u001b[33mInfinity\u001b[39m, \u001b[33mInfinity\u001b[39m, \u001b[33mInfinity\u001b[39m, \u001b[33mInfinity\u001b[39m, \u001b[33mInfinity\u001b[39m, \u001b[33mInfinity\u001b[39m,\n",
            "    \u001b[33mInfinity\u001b[39m, \u001b[33mInfinity\u001b[39m, \u001b[33mInfinity\u001b[39m, \u001b[33mInfinity\u001b[39m, \u001b[33mInfinity\u001b[39m, \u001b[33mInfinity\u001b[39m,\n",
            "    \u001b[33mInfinity\u001b[39m, \u001b[33mInfinity\u001b[39m, \u001b[33mInfinity\u001b[39m, \u001b[33mInfinity\u001b[39m,\n",
            "    ... 500 more items\n",
            "  ],\n",
            "  ... 500 more items\n",
            "]\n"
          ]
        }
      ]
    },
    {
      "cell_type": "markdown",
      "source": [
        "**My own example 30 - Adding Javascript average execution time to the data frame**"
      ],
      "metadata": {
        "id": "LvxaACodc9-K"
      }
    },
    {
      "cell_type": "code",
      "source": [
        "%%time\n",
        "!node tmp.js"
      ],
      "metadata": {
        "id": "BP_cdxR17J50",
        "colab": {
          "base_uri": "https://localhost:8080/"
        },
        "outputId": "428e90dd-a504-4978-c983-3e5fc77015bc"
      },
      "execution_count": 114,
      "outputs": [
        {
          "output_type": "stream",
          "name": "stdout",
          "text": [
            "[\n",
            "  [\n",
            "    \u001b[33mInfinity\u001b[39m, \u001b[33mInfinity\u001b[39m, \u001b[33mInfinity\u001b[39m, \u001b[33mInfinity\u001b[39m, \u001b[33mInfinity\u001b[39m, \u001b[33mInfinity\u001b[39m,\n",
            "    \u001b[33mInfinity\u001b[39m, \u001b[33mInfinity\u001b[39m, \u001b[33mInfinity\u001b[39m, \u001b[33mInfinity\u001b[39m, \u001b[33mInfinity\u001b[39m, \u001b[33mInfinity\u001b[39m,\n",
            "    \u001b[33mInfinity\u001b[39m, \u001b[33mInfinity\u001b[39m, \u001b[33mInfinity\u001b[39m, \u001b[33mInfinity\u001b[39m, \u001b[33mInfinity\u001b[39m, \u001b[33mInfinity\u001b[39m,\n",
            "    \u001b[33mInfinity\u001b[39m, \u001b[33mInfinity\u001b[39m, \u001b[33mInfinity\u001b[39m, \u001b[33mInfinity\u001b[39m, \u001b[33mInfinity\u001b[39m, \u001b[33mInfinity\u001b[39m,\n",
            "    \u001b[33mInfinity\u001b[39m, \u001b[33mInfinity\u001b[39m, \u001b[33mInfinity\u001b[39m, \u001b[33mInfinity\u001b[39m, \u001b[33mInfinity\u001b[39m, \u001b[33mInfinity\u001b[39m,\n",
            "    \u001b[33mInfinity\u001b[39m, \u001b[33mInfinity\u001b[39m, \u001b[33mInfinity\u001b[39m, \u001b[33mInfinity\u001b[39m, \u001b[33mInfinity\u001b[39m, \u001b[33mInfinity\u001b[39m,\n",
            "    \u001b[33mInfinity\u001b[39m, \u001b[33mInfinity\u001b[39m, \u001b[33mInfinity\u001b[39m, \u001b[33mInfinity\u001b[39m, \u001b[33mInfinity\u001b[39m, \u001b[33mInfinity\u001b[39m,\n",
            "    \u001b[33mInfinity\u001b[39m, \u001b[33mInfinity\u001b[39m, \u001b[33mInfinity\u001b[39m, \u001b[33mInfinity\u001b[39m, \u001b[33mInfinity\u001b[39m, \u001b[33mInfinity\u001b[39m,\n",
            "    \u001b[33mInfinity\u001b[39m, \u001b[33mInfinity\u001b[39m, \u001b[33mInfinity\u001b[39m, \u001b[33mInfinity\u001b[39m, \u001b[33mInfinity\u001b[39m, \u001b[33mInfinity\u001b[39m,\n",
            "    \u001b[33mInfinity\u001b[39m, \u001b[33mInfinity\u001b[39m, \u001b[33mInfinity\u001b[39m, \u001b[33mInfinity\u001b[39m, \u001b[33mInfinity\u001b[39m, \u001b[33mInfinity\u001b[39m,\n",
            "    \u001b[33mInfinity\u001b[39m, \u001b[33mInfinity\u001b[39m, \u001b[33mInfinity\u001b[39m, \u001b[33mInfinity\u001b[39m, \u001b[33mInfinity\u001b[39m, \u001b[33mInfinity\u001b[39m,\n",
            "    \u001b[33mInfinity\u001b[39m, \u001b[33mInfinity\u001b[39m, \u001b[33mInfinity\u001b[39m, \u001b[33mInfinity\u001b[39m, \u001b[33mInfinity\u001b[39m, \u001b[33mInfinity\u001b[39m,\n",
            "    \u001b[33mInfinity\u001b[39m, \u001b[33mInfinity\u001b[39m, \u001b[33mInfinity\u001b[39m, \u001b[33mInfinity\u001b[39m, \u001b[33mInfinity\u001b[39m, \u001b[33mInfinity\u001b[39m,\n",
            "    \u001b[33mInfinity\u001b[39m, \u001b[33mInfinity\u001b[39m, \u001b[33mInfinity\u001b[39m, \u001b[33mInfinity\u001b[39m, \u001b[33mInfinity\u001b[39m, \u001b[33mInfinity\u001b[39m,\n",
            "    \u001b[33mInfinity\u001b[39m, \u001b[33mInfinity\u001b[39m, \u001b[33mInfinity\u001b[39m, \u001b[33mInfinity\u001b[39m, \u001b[33mInfinity\u001b[39m, \u001b[33mInfinity\u001b[39m,\n",
            "    \u001b[33mInfinity\u001b[39m, \u001b[33mInfinity\u001b[39m, \u001b[33mInfinity\u001b[39m, \u001b[33mInfinity\u001b[39m, \u001b[33mInfinity\u001b[39m, \u001b[33mInfinity\u001b[39m,\n",
            "    \u001b[33mInfinity\u001b[39m, \u001b[33mInfinity\u001b[39m, \u001b[33mInfinity\u001b[39m, \u001b[33mInfinity\u001b[39m,\n",
            "    ... 500 more items\n",
            "  ],\n",
            "  [\n",
            "    \u001b[33mInfinity\u001b[39m, \u001b[33mInfinity\u001b[39m, \u001b[33mInfinity\u001b[39m, \u001b[33mInfinity\u001b[39m, \u001b[33mInfinity\u001b[39m, \u001b[33mInfinity\u001b[39m,\n",
            "    \u001b[33mInfinity\u001b[39m, \u001b[33mInfinity\u001b[39m, \u001b[33mInfinity\u001b[39m, \u001b[33mInfinity\u001b[39m, \u001b[33mInfinity\u001b[39m, \u001b[33mInfinity\u001b[39m,\n",
            "    \u001b[33mInfinity\u001b[39m, \u001b[33mInfinity\u001b[39m, \u001b[33mInfinity\u001b[39m, \u001b[33mInfinity\u001b[39m, \u001b[33mInfinity\u001b[39m, \u001b[33mInfinity\u001b[39m,\n",
            "    \u001b[33mInfinity\u001b[39m, \u001b[33mInfinity\u001b[39m, \u001b[33mInfinity\u001b[39m, \u001b[33mInfinity\u001b[39m, \u001b[33mInfinity\u001b[39m, \u001b[33mInfinity\u001b[39m,\n",
            "    \u001b[33mInfinity\u001b[39m, \u001b[33mInfinity\u001b[39m, \u001b[33mInfinity\u001b[39m, \u001b[33mInfinity\u001b[39m, \u001b[33mInfinity\u001b[39m, \u001b[33mInfinity\u001b[39m,\n",
            "    \u001b[33mInfinity\u001b[39m, \u001b[33mInfinity\u001b[39m, \u001b[33mInfinity\u001b[39m, \u001b[33mInfinity\u001b[39m, \u001b[33mInfinity\u001b[39m, \u001b[33mInfinity\u001b[39m,\n",
            "    \u001b[33mInfinity\u001b[39m, \u001b[33mInfinity\u001b[39m, \u001b[33mInfinity\u001b[39m, \u001b[33mInfinity\u001b[39m, \u001b[33mInfinity\u001b[39m, \u001b[33mInfinity\u001b[39m,\n",
            "    \u001b[33mInfinity\u001b[39m, \u001b[33mInfinity\u001b[39m, \u001b[33mInfinity\u001b[39m, \u001b[33mInfinity\u001b[39m, \u001b[33mInfinity\u001b[39m, \u001b[33mInfinity\u001b[39m,\n",
            "    \u001b[33mInfinity\u001b[39m, \u001b[33mInfinity\u001b[39m, \u001b[33mInfinity\u001b[39m, \u001b[33mInfinity\u001b[39m, \u001b[33mInfinity\u001b[39m, \u001b[33mInfinity\u001b[39m,\n",
            "    \u001b[33mInfinity\u001b[39m, \u001b[33mInfinity\u001b[39m, \u001b[33mInfinity\u001b[39m, \u001b[33mInfinity\u001b[39m, \u001b[33mInfinity\u001b[39m, \u001b[33mInfinity\u001b[39m,\n",
            "    \u001b[33mInfinity\u001b[39m, \u001b[33mInfinity\u001b[39m, \u001b[33mInfinity\u001b[39m, \u001b[33mInfinity\u001b[39m, \u001b[33mInfinity\u001b[39m, \u001b[33mInfinity\u001b[39m,\n",
            "    \u001b[33mInfinity\u001b[39m, \u001b[33mInfinity\u001b[39m, \u001b[33mInfinity\u001b[39m, \u001b[33mInfinity\u001b[39m, \u001b[33mInfinity\u001b[39m, \u001b[33mInfinity\u001b[39m,\n",
            "    \u001b[33mInfinity\u001b[39m, \u001b[33mInfinity\u001b[39m, \u001b[33mInfinity\u001b[39m, \u001b[33mInfinity\u001b[39m, \u001b[33mInfinity\u001b[39m, \u001b[33mInfinity\u001b[39m,\n",
            "    \u001b[33mInfinity\u001b[39m, \u001b[33mInfinity\u001b[39m, \u001b[33mInfinity\u001b[39m, \u001b[33mInfinity\u001b[39m, \u001b[33mInfinity\u001b[39m, \u001b[33mInfinity\u001b[39m,\n",
            "    \u001b[33mInfinity\u001b[39m, \u001b[33mInfinity\u001b[39m, \u001b[33mInfinity\u001b[39m, \u001b[33mInfinity\u001b[39m, \u001b[33mInfinity\u001b[39m, \u001b[33mInfinity\u001b[39m,\n",
            "    \u001b[33mInfinity\u001b[39m, \u001b[33mInfinity\u001b[39m, \u001b[33mInfinity\u001b[39m, \u001b[33mInfinity\u001b[39m, \u001b[33mInfinity\u001b[39m, \u001b[33mInfinity\u001b[39m,\n",
            "    \u001b[33mInfinity\u001b[39m, \u001b[33mInfinity\u001b[39m, \u001b[33mInfinity\u001b[39m, \u001b[33mInfinity\u001b[39m,\n",
            "    ... 500 more items\n",
            "  ],\n",
            "  [\n",
            "    \u001b[33mInfinity\u001b[39m, \u001b[33mInfinity\u001b[39m, \u001b[33mInfinity\u001b[39m, \u001b[33mInfinity\u001b[39m, \u001b[33mInfinity\u001b[39m, \u001b[33mInfinity\u001b[39m,\n",
            "    \u001b[33mInfinity\u001b[39m, \u001b[33mInfinity\u001b[39m, \u001b[33mInfinity\u001b[39m, \u001b[33mInfinity\u001b[39m, \u001b[33mInfinity\u001b[39m, \u001b[33mInfinity\u001b[39m,\n",
            "    \u001b[33mInfinity\u001b[39m, \u001b[33mInfinity\u001b[39m, \u001b[33mInfinity\u001b[39m, \u001b[33mInfinity\u001b[39m, \u001b[33mInfinity\u001b[39m, \u001b[33mInfinity\u001b[39m,\n",
            "    \u001b[33mInfinity\u001b[39m, \u001b[33mInfinity\u001b[39m, \u001b[33mInfinity\u001b[39m, \u001b[33mInfinity\u001b[39m, \u001b[33mInfinity\u001b[39m, \u001b[33mInfinity\u001b[39m,\n",
            "    \u001b[33mInfinity\u001b[39m, \u001b[33mInfinity\u001b[39m, \u001b[33mInfinity\u001b[39m, \u001b[33mInfinity\u001b[39m, \u001b[33mInfinity\u001b[39m, \u001b[33mInfinity\u001b[39m,\n",
            "    \u001b[33mInfinity\u001b[39m, \u001b[33mInfinity\u001b[39m, \u001b[33mInfinity\u001b[39m, \u001b[33mInfinity\u001b[39m, \u001b[33mInfinity\u001b[39m, \u001b[33mInfinity\u001b[39m,\n",
            "    \u001b[33mInfinity\u001b[39m, \u001b[33mInfinity\u001b[39m, \u001b[33mInfinity\u001b[39m, \u001b[33mInfinity\u001b[39m, \u001b[33mInfinity\u001b[39m, \u001b[33mInfinity\u001b[39m,\n",
            "    \u001b[33mInfinity\u001b[39m, \u001b[33mInfinity\u001b[39m, \u001b[33mInfinity\u001b[39m, \u001b[33mInfinity\u001b[39m, \u001b[33mInfinity\u001b[39m, \u001b[33mInfinity\u001b[39m,\n",
            "    \u001b[33mInfinity\u001b[39m, \u001b[33mInfinity\u001b[39m, \u001b[33mInfinity\u001b[39m, \u001b[33mInfinity\u001b[39m, \u001b[33mInfinity\u001b[39m, \u001b[33mInfinity\u001b[39m,\n",
            "    \u001b[33mInfinity\u001b[39m, \u001b[33mInfinity\u001b[39m, \u001b[33mInfinity\u001b[39m, \u001b[33mInfinity\u001b[39m, \u001b[33mInfinity\u001b[39m, \u001b[33mInfinity\u001b[39m,\n",
            "    \u001b[33mInfinity\u001b[39m, \u001b[33mInfinity\u001b[39m, \u001b[33mInfinity\u001b[39m, \u001b[33mInfinity\u001b[39m, \u001b[33mInfinity\u001b[39m, \u001b[33mInfinity\u001b[39m,\n",
            "    \u001b[33mInfinity\u001b[39m, \u001b[33mInfinity\u001b[39m, \u001b[33mInfinity\u001b[39m, \u001b[33mInfinity\u001b[39m, \u001b[33mInfinity\u001b[39m, \u001b[33mInfinity\u001b[39m,\n",
            "    \u001b[33mInfinity\u001b[39m, \u001b[33mInfinity\u001b[39m, \u001b[33mInfinity\u001b[39m, \u001b[33mInfinity\u001b[39m, \u001b[33mInfinity\u001b[39m, \u001b[33mInfinity\u001b[39m,\n",
            "    \u001b[33mInfinity\u001b[39m, \u001b[33mInfinity\u001b[39m, \u001b[33mInfinity\u001b[39m, \u001b[33mInfinity\u001b[39m, \u001b[33mInfinity\u001b[39m, \u001b[33mInfinity\u001b[39m,\n",
            "    \u001b[33mInfinity\u001b[39m, \u001b[33mInfinity\u001b[39m, \u001b[33mInfinity\u001b[39m, \u001b[33mInfinity\u001b[39m, \u001b[33mInfinity\u001b[39m, \u001b[33mInfinity\u001b[39m,\n",
            "    \u001b[33mInfinity\u001b[39m, \u001b[33mInfinity\u001b[39m, \u001b[33mInfinity\u001b[39m, \u001b[33mInfinity\u001b[39m, \u001b[33mInfinity\u001b[39m, \u001b[33mInfinity\u001b[39m,\n",
            "    \u001b[33mInfinity\u001b[39m, \u001b[33mInfinity\u001b[39m, \u001b[33mInfinity\u001b[39m, \u001b[33mInfinity\u001b[39m,\n",
            "    ... 500 more items\n",
            "  ],\n",
            "  [\n",
            "    \u001b[33mInfinity\u001b[39m, \u001b[33mInfinity\u001b[39m, \u001b[33mInfinity\u001b[39m, \u001b[33mInfinity\u001b[39m, \u001b[33mInfinity\u001b[39m, \u001b[33mInfinity\u001b[39m,\n",
            "    \u001b[33mInfinity\u001b[39m, \u001b[33mInfinity\u001b[39m, \u001b[33mInfinity\u001b[39m, \u001b[33mInfinity\u001b[39m, \u001b[33mInfinity\u001b[39m, \u001b[33mInfinity\u001b[39m,\n",
            "    \u001b[33mInfinity\u001b[39m, \u001b[33mInfinity\u001b[39m, \u001b[33mInfinity\u001b[39m, \u001b[33mInfinity\u001b[39m, \u001b[33mInfinity\u001b[39m, \u001b[33mInfinity\u001b[39m,\n",
            "    \u001b[33mInfinity\u001b[39m, \u001b[33mInfinity\u001b[39m, \u001b[33mInfinity\u001b[39m, \u001b[33mInfinity\u001b[39m, \u001b[33mInfinity\u001b[39m, \u001b[33mInfinity\u001b[39m,\n",
            "    \u001b[33mInfinity\u001b[39m, \u001b[33mInfinity\u001b[39m, \u001b[33mInfinity\u001b[39m, \u001b[33mInfinity\u001b[39m, \u001b[33mInfinity\u001b[39m, \u001b[33mInfinity\u001b[39m,\n",
            "    \u001b[33mInfinity\u001b[39m, \u001b[33mInfinity\u001b[39m, \u001b[33mInfinity\u001b[39m, \u001b[33mInfinity\u001b[39m, \u001b[33mInfinity\u001b[39m, \u001b[33mInfinity\u001b[39m,\n",
            "    \u001b[33mInfinity\u001b[39m, \u001b[33mInfinity\u001b[39m, \u001b[33mInfinity\u001b[39m, \u001b[33mInfinity\u001b[39m, \u001b[33mInfinity\u001b[39m, \u001b[33mInfinity\u001b[39m,\n",
            "    \u001b[33mInfinity\u001b[39m, \u001b[33mInfinity\u001b[39m, \u001b[33mInfinity\u001b[39m, \u001b[33mInfinity\u001b[39m, \u001b[33mInfinity\u001b[39m, \u001b[33mInfinity\u001b[39m,\n",
            "    \u001b[33mInfinity\u001b[39m, \u001b[33mInfinity\u001b[39m, \u001b[33mInfinity\u001b[39m, \u001b[33mInfinity\u001b[39m, \u001b[33mInfinity\u001b[39m, \u001b[33mInfinity\u001b[39m,\n",
            "    \u001b[33mInfinity\u001b[39m, \u001b[33mInfinity\u001b[39m, \u001b[33mInfinity\u001b[39m, \u001b[33mInfinity\u001b[39m, \u001b[33mInfinity\u001b[39m, \u001b[33mInfinity\u001b[39m,\n",
            "    \u001b[33mInfinity\u001b[39m, \u001b[33mInfinity\u001b[39m, \u001b[33mInfinity\u001b[39m, \u001b[33mInfinity\u001b[39m, \u001b[33mInfinity\u001b[39m, \u001b[33mInfinity\u001b[39m,\n",
            "    \u001b[33mInfinity\u001b[39m, \u001b[33mInfinity\u001b[39m, \u001b[33mInfinity\u001b[39m, \u001b[33mInfinity\u001b[39m, \u001b[33mInfinity\u001b[39m, \u001b[33mInfinity\u001b[39m,\n",
            "    \u001b[33mInfinity\u001b[39m, \u001b[33mInfinity\u001b[39m, \u001b[33mInfinity\u001b[39m, \u001b[33mInfinity\u001b[39m, \u001b[33mInfinity\u001b[39m, \u001b[33mInfinity\u001b[39m,\n",
            "    \u001b[33mInfinity\u001b[39m, \u001b[33mInfinity\u001b[39m, \u001b[33mInfinity\u001b[39m, \u001b[33mInfinity\u001b[39m, \u001b[33mInfinity\u001b[39m, \u001b[33mInfinity\u001b[39m,\n",
            "    \u001b[33mInfinity\u001b[39m, \u001b[33mInfinity\u001b[39m, \u001b[33mInfinity\u001b[39m, \u001b[33mInfinity\u001b[39m, \u001b[33mInfinity\u001b[39m, \u001b[33mInfinity\u001b[39m,\n",
            "    \u001b[33mInfinity\u001b[39m, \u001b[33mInfinity\u001b[39m, \u001b[33mInfinity\u001b[39m, \u001b[33mInfinity\u001b[39m, \u001b[33mInfinity\u001b[39m, \u001b[33mInfinity\u001b[39m,\n",
            "    \u001b[33mInfinity\u001b[39m, \u001b[33mInfinity\u001b[39m, \u001b[33mInfinity\u001b[39m, \u001b[33mInfinity\u001b[39m,\n",
            "    ... 500 more items\n",
            "  ],\n",
            "  [\n",
            "    \u001b[33mInfinity\u001b[39m, \u001b[33mInfinity\u001b[39m, \u001b[33mInfinity\u001b[39m, \u001b[33mInfinity\u001b[39m, \u001b[33mInfinity\u001b[39m, \u001b[33mInfinity\u001b[39m,\n",
            "    \u001b[33mInfinity\u001b[39m, \u001b[33mInfinity\u001b[39m, \u001b[33mInfinity\u001b[39m, \u001b[33mInfinity\u001b[39m, \u001b[33mInfinity\u001b[39m, \u001b[33mInfinity\u001b[39m,\n",
            "    \u001b[33mInfinity\u001b[39m, \u001b[33mInfinity\u001b[39m, \u001b[33mInfinity\u001b[39m, \u001b[33mInfinity\u001b[39m, \u001b[33mInfinity\u001b[39m, \u001b[33mInfinity\u001b[39m,\n",
            "    \u001b[33mInfinity\u001b[39m, \u001b[33mInfinity\u001b[39m, \u001b[33mInfinity\u001b[39m, \u001b[33mInfinity\u001b[39m, \u001b[33mInfinity\u001b[39m, \u001b[33mInfinity\u001b[39m,\n",
            "    \u001b[33mInfinity\u001b[39m, \u001b[33mInfinity\u001b[39m, \u001b[33mInfinity\u001b[39m, \u001b[33mInfinity\u001b[39m, \u001b[33mInfinity\u001b[39m, \u001b[33mInfinity\u001b[39m,\n",
            "    \u001b[33mInfinity\u001b[39m, \u001b[33mInfinity\u001b[39m, \u001b[33mInfinity\u001b[39m, \u001b[33mInfinity\u001b[39m, \u001b[33mInfinity\u001b[39m, \u001b[33mInfinity\u001b[39m,\n",
            "    \u001b[33mInfinity\u001b[39m, \u001b[33mInfinity\u001b[39m, \u001b[33mInfinity\u001b[39m, \u001b[33mInfinity\u001b[39m, \u001b[33mInfinity\u001b[39m, \u001b[33mInfinity\u001b[39m,\n",
            "    \u001b[33mInfinity\u001b[39m, \u001b[33mInfinity\u001b[39m, \u001b[33mInfinity\u001b[39m, \u001b[33mInfinity\u001b[39m, \u001b[33mInfinity\u001b[39m, \u001b[33mInfinity\u001b[39m,\n",
            "    \u001b[33mInfinity\u001b[39m, \u001b[33mInfinity\u001b[39m, \u001b[33mInfinity\u001b[39m, \u001b[33mInfinity\u001b[39m, \u001b[33mInfinity\u001b[39m, \u001b[33mInfinity\u001b[39m,\n",
            "    \u001b[33mInfinity\u001b[39m, \u001b[33mInfinity\u001b[39m, \u001b[33mInfinity\u001b[39m, \u001b[33mInfinity\u001b[39m, \u001b[33mInfinity\u001b[39m, \u001b[33mInfinity\u001b[39m,\n",
            "    \u001b[33mInfinity\u001b[39m, \u001b[33mInfinity\u001b[39m, \u001b[33mInfinity\u001b[39m, \u001b[33mInfinity\u001b[39m, \u001b[33mInfinity\u001b[39m, \u001b[33mInfinity\u001b[39m,\n",
            "    \u001b[33mInfinity\u001b[39m, \u001b[33mInfinity\u001b[39m, \u001b[33mInfinity\u001b[39m, \u001b[33mInfinity\u001b[39m, \u001b[33mInfinity\u001b[39m, \u001b[33mInfinity\u001b[39m,\n",
            "    \u001b[33mInfinity\u001b[39m, \u001b[33mInfinity\u001b[39m, \u001b[33mInfinity\u001b[39m, \u001b[33mInfinity\u001b[39m, \u001b[33mInfinity\u001b[39m, \u001b[33mInfinity\u001b[39m,\n",
            "    \u001b[33mInfinity\u001b[39m, \u001b[33mInfinity\u001b[39m, \u001b[33mInfinity\u001b[39m, \u001b[33mInfinity\u001b[39m, \u001b[33mInfinity\u001b[39m, \u001b[33mInfinity\u001b[39m,\n",
            "    \u001b[33mInfinity\u001b[39m, \u001b[33mInfinity\u001b[39m, \u001b[33mInfinity\u001b[39m, \u001b[33mInfinity\u001b[39m, \u001b[33mInfinity\u001b[39m, \u001b[33mInfinity\u001b[39m,\n",
            "    \u001b[33mInfinity\u001b[39m, \u001b[33mInfinity\u001b[39m, \u001b[33mInfinity\u001b[39m, \u001b[33mInfinity\u001b[39m, \u001b[33mInfinity\u001b[39m, \u001b[33mInfinity\u001b[39m,\n",
            "    \u001b[33mInfinity\u001b[39m, \u001b[33mInfinity\u001b[39m, \u001b[33mInfinity\u001b[39m, \u001b[33mInfinity\u001b[39m,\n",
            "    ... 500 more items\n",
            "  ],\n",
            "  [\n",
            "    \u001b[33mInfinity\u001b[39m, \u001b[33mInfinity\u001b[39m, \u001b[33mInfinity\u001b[39m, \u001b[33mInfinity\u001b[39m, \u001b[33mInfinity\u001b[39m, \u001b[33mInfinity\u001b[39m,\n",
            "    \u001b[33mInfinity\u001b[39m, \u001b[33mInfinity\u001b[39m, \u001b[33mInfinity\u001b[39m, \u001b[33mInfinity\u001b[39m, \u001b[33mInfinity\u001b[39m, \u001b[33mInfinity\u001b[39m,\n",
            "    \u001b[33mInfinity\u001b[39m, \u001b[33mInfinity\u001b[39m, \u001b[33mInfinity\u001b[39m, \u001b[33mInfinity\u001b[39m, \u001b[33mInfinity\u001b[39m, \u001b[33mInfinity\u001b[39m,\n",
            "    \u001b[33mInfinity\u001b[39m, \u001b[33mInfinity\u001b[39m, \u001b[33mInfinity\u001b[39m, \u001b[33mInfinity\u001b[39m, \u001b[33mInfinity\u001b[39m, \u001b[33mInfinity\u001b[39m,\n",
            "    \u001b[33mInfinity\u001b[39m, \u001b[33mInfinity\u001b[39m, \u001b[33mInfinity\u001b[39m, \u001b[33mInfinity\u001b[39m, \u001b[33mInfinity\u001b[39m, \u001b[33mInfinity\u001b[39m,\n",
            "    \u001b[33mInfinity\u001b[39m, \u001b[33mInfinity\u001b[39m, \u001b[33mInfinity\u001b[39m, \u001b[33mInfinity\u001b[39m, \u001b[33mInfinity\u001b[39m, \u001b[33mInfinity\u001b[39m,\n",
            "    \u001b[33mInfinity\u001b[39m, \u001b[33mInfinity\u001b[39m, \u001b[33mInfinity\u001b[39m, \u001b[33mInfinity\u001b[39m, \u001b[33mInfinity\u001b[39m, \u001b[33mInfinity\u001b[39m,\n",
            "    \u001b[33mInfinity\u001b[39m, \u001b[33mInfinity\u001b[39m, \u001b[33mInfinity\u001b[39m, \u001b[33mInfinity\u001b[39m, \u001b[33mInfinity\u001b[39m, \u001b[33mInfinity\u001b[39m,\n",
            "    \u001b[33mInfinity\u001b[39m, \u001b[33mInfinity\u001b[39m, \u001b[33mInfinity\u001b[39m, \u001b[33mInfinity\u001b[39m, \u001b[33mInfinity\u001b[39m, \u001b[33mInfinity\u001b[39m,\n",
            "    \u001b[33mInfinity\u001b[39m, \u001b[33mInfinity\u001b[39m, \u001b[33mInfinity\u001b[39m, \u001b[33mInfinity\u001b[39m, \u001b[33mInfinity\u001b[39m, \u001b[33mInfinity\u001b[39m,\n",
            "    \u001b[33mInfinity\u001b[39m, \u001b[33mInfinity\u001b[39m, \u001b[33mInfinity\u001b[39m, \u001b[33mInfinity\u001b[39m, \u001b[33mInfinity\u001b[39m, \u001b[33mInfinity\u001b[39m,\n",
            "    \u001b[33mInfinity\u001b[39m, \u001b[33mInfinity\u001b[39m, \u001b[33mInfinity\u001b[39m, \u001b[33mInfinity\u001b[39m, \u001b[33mInfinity\u001b[39m, \u001b[33mInfinity\u001b[39m,\n",
            "    \u001b[33mInfinity\u001b[39m, \u001b[33mInfinity\u001b[39m, \u001b[33mInfinity\u001b[39m, \u001b[33mInfinity\u001b[39m, \u001b[33mInfinity\u001b[39m, \u001b[33mInfinity\u001b[39m,\n",
            "    \u001b[33mInfinity\u001b[39m, \u001b[33mInfinity\u001b[39m, \u001b[33mInfinity\u001b[39m, \u001b[33mInfinity\u001b[39m, \u001b[33mInfinity\u001b[39m, \u001b[33mInfinity\u001b[39m,\n",
            "    \u001b[33mInfinity\u001b[39m, \u001b[33mInfinity\u001b[39m, \u001b[33mInfinity\u001b[39m, \u001b[33mInfinity\u001b[39m, \u001b[33mInfinity\u001b[39m, \u001b[33mInfinity\u001b[39m,\n",
            "    \u001b[33mInfinity\u001b[39m, \u001b[33mInfinity\u001b[39m, \u001b[33mInfinity\u001b[39m, \u001b[33mInfinity\u001b[39m, \u001b[33mInfinity\u001b[39m, \u001b[33mInfinity\u001b[39m,\n",
            "    \u001b[33mInfinity\u001b[39m, \u001b[33mInfinity\u001b[39m, \u001b[33mInfinity\u001b[39m, \u001b[33mInfinity\u001b[39m,\n",
            "    ... 500 more items\n",
            "  ],\n",
            "  [\n",
            "    \u001b[33mInfinity\u001b[39m, \u001b[33mInfinity\u001b[39m, \u001b[33mInfinity\u001b[39m, \u001b[33mInfinity\u001b[39m, \u001b[33mInfinity\u001b[39m, \u001b[33mInfinity\u001b[39m,\n",
            "    \u001b[33mInfinity\u001b[39m, \u001b[33mInfinity\u001b[39m, \u001b[33mInfinity\u001b[39m, \u001b[33mInfinity\u001b[39m, \u001b[33mInfinity\u001b[39m, \u001b[33mInfinity\u001b[39m,\n",
            "    \u001b[33mInfinity\u001b[39m, \u001b[33mInfinity\u001b[39m, \u001b[33mInfinity\u001b[39m, \u001b[33mInfinity\u001b[39m, \u001b[33mInfinity\u001b[39m, \u001b[33mInfinity\u001b[39m,\n",
            "    \u001b[33mInfinity\u001b[39m, \u001b[33mInfinity\u001b[39m, \u001b[33mInfinity\u001b[39m, \u001b[33mInfinity\u001b[39m, \u001b[33mInfinity\u001b[39m, \u001b[33mInfinity\u001b[39m,\n",
            "    \u001b[33mInfinity\u001b[39m, \u001b[33mInfinity\u001b[39m, \u001b[33mInfinity\u001b[39m, \u001b[33mInfinity\u001b[39m, \u001b[33mInfinity\u001b[39m, \u001b[33mInfinity\u001b[39m,\n",
            "    \u001b[33mInfinity\u001b[39m, \u001b[33mInfinity\u001b[39m, \u001b[33mInfinity\u001b[39m, \u001b[33mInfinity\u001b[39m, \u001b[33mInfinity\u001b[39m, \u001b[33mInfinity\u001b[39m,\n",
            "    \u001b[33mInfinity\u001b[39m, \u001b[33mInfinity\u001b[39m, \u001b[33mInfinity\u001b[39m, \u001b[33mInfinity\u001b[39m, \u001b[33mInfinity\u001b[39m, \u001b[33mInfinity\u001b[39m,\n",
            "    \u001b[33mInfinity\u001b[39m, \u001b[33mInfinity\u001b[39m, \u001b[33mInfinity\u001b[39m, \u001b[33mInfinity\u001b[39m, \u001b[33mInfinity\u001b[39m, \u001b[33mInfinity\u001b[39m,\n",
            "    \u001b[33mInfinity\u001b[39m, \u001b[33mInfinity\u001b[39m, \u001b[33mInfinity\u001b[39m, \u001b[33mInfinity\u001b[39m, \u001b[33mInfinity\u001b[39m, \u001b[33mInfinity\u001b[39m,\n",
            "    \u001b[33mInfinity\u001b[39m, \u001b[33mInfinity\u001b[39m, \u001b[33mInfinity\u001b[39m, \u001b[33mInfinity\u001b[39m, \u001b[33mInfinity\u001b[39m, \u001b[33mInfinity\u001b[39m,\n",
            "    \u001b[33mInfinity\u001b[39m, \u001b[33mInfinity\u001b[39m, \u001b[33mInfinity\u001b[39m, \u001b[33mInfinity\u001b[39m, \u001b[33mInfinity\u001b[39m, \u001b[33mInfinity\u001b[39m,\n",
            "    \u001b[33mInfinity\u001b[39m, \u001b[33mInfinity\u001b[39m, \u001b[33mInfinity\u001b[39m, \u001b[33mInfinity\u001b[39m, \u001b[33mInfinity\u001b[39m, \u001b[33mInfinity\u001b[39m,\n",
            "    \u001b[33mInfinity\u001b[39m, \u001b[33mInfinity\u001b[39m, \u001b[33mInfinity\u001b[39m, \u001b[33mInfinity\u001b[39m, \u001b[33mInfinity\u001b[39m, \u001b[33mInfinity\u001b[39m,\n",
            "    \u001b[33mInfinity\u001b[39m, \u001b[33mInfinity\u001b[39m, \u001b[33mInfinity\u001b[39m, \u001b[33mInfinity\u001b[39m, \u001b[33mInfinity\u001b[39m, \u001b[33mInfinity\u001b[39m,\n",
            "    \u001b[33mInfinity\u001b[39m, \u001b[33mInfinity\u001b[39m, \u001b[33mInfinity\u001b[39m, \u001b[33mInfinity\u001b[39m, \u001b[33mInfinity\u001b[39m, \u001b[33mInfinity\u001b[39m,\n",
            "    \u001b[33mInfinity\u001b[39m, \u001b[33mInfinity\u001b[39m, \u001b[33mInfinity\u001b[39m, \u001b[33mInfinity\u001b[39m, \u001b[33mInfinity\u001b[39m, \u001b[33mInfinity\u001b[39m,\n",
            "    \u001b[33mInfinity\u001b[39m, \u001b[33mInfinity\u001b[39m, \u001b[33mInfinity\u001b[39m, \u001b[33mInfinity\u001b[39m,\n",
            "    ... 500 more items\n",
            "  ],\n",
            "  [\n",
            "    \u001b[33mInfinity\u001b[39m, \u001b[33mInfinity\u001b[39m, \u001b[33mInfinity\u001b[39m, \u001b[33mInfinity\u001b[39m, \u001b[33mInfinity\u001b[39m, \u001b[33mInfinity\u001b[39m,\n",
            "    \u001b[33mInfinity\u001b[39m, \u001b[33mInfinity\u001b[39m, \u001b[33mInfinity\u001b[39m, \u001b[33mInfinity\u001b[39m, \u001b[33mInfinity\u001b[39m, \u001b[33mInfinity\u001b[39m,\n",
            "    \u001b[33mInfinity\u001b[39m, \u001b[33mInfinity\u001b[39m, \u001b[33mInfinity\u001b[39m, \u001b[33mInfinity\u001b[39m, \u001b[33mInfinity\u001b[39m, \u001b[33mInfinity\u001b[39m,\n",
            "    \u001b[33mInfinity\u001b[39m, \u001b[33mInfinity\u001b[39m, \u001b[33mInfinity\u001b[39m, \u001b[33mInfinity\u001b[39m, \u001b[33mInfinity\u001b[39m, \u001b[33mInfinity\u001b[39m,\n",
            "    \u001b[33mInfinity\u001b[39m, \u001b[33mInfinity\u001b[39m, \u001b[33mInfinity\u001b[39m, \u001b[33mInfinity\u001b[39m, \u001b[33mInfinity\u001b[39m, \u001b[33mInfinity\u001b[39m,\n",
            "    \u001b[33mInfinity\u001b[39m, \u001b[33mInfinity\u001b[39m, \u001b[33mInfinity\u001b[39m, \u001b[33mInfinity\u001b[39m, \u001b[33mInfinity\u001b[39m, \u001b[33mInfinity\u001b[39m,\n",
            "    \u001b[33mInfinity\u001b[39m, \u001b[33mInfinity\u001b[39m, \u001b[33mInfinity\u001b[39m, \u001b[33mInfinity\u001b[39m, \u001b[33mInfinity\u001b[39m, \u001b[33mInfinity\u001b[39m,\n",
            "    \u001b[33mInfinity\u001b[39m, \u001b[33mInfinity\u001b[39m, \u001b[33mInfinity\u001b[39m, \u001b[33mInfinity\u001b[39m, \u001b[33mInfinity\u001b[39m, \u001b[33mInfinity\u001b[39m,\n",
            "    \u001b[33mInfinity\u001b[39m, \u001b[33mInfinity\u001b[39m, \u001b[33mInfinity\u001b[39m, \u001b[33mInfinity\u001b[39m, \u001b[33mInfinity\u001b[39m, \u001b[33mInfinity\u001b[39m,\n",
            "    \u001b[33mInfinity\u001b[39m, \u001b[33mInfinity\u001b[39m, \u001b[33mInfinity\u001b[39m, \u001b[33mInfinity\u001b[39m, \u001b[33mInfinity\u001b[39m, \u001b[33mInfinity\u001b[39m,\n",
            "    \u001b[33mInfinity\u001b[39m, \u001b[33mInfinity\u001b[39m, \u001b[33mInfinity\u001b[39m, \u001b[33mInfinity\u001b[39m, \u001b[33mInfinity\u001b[39m, \u001b[33mInfinity\u001b[39m,\n",
            "    \u001b[33mInfinity\u001b[39m, \u001b[33mInfinity\u001b[39m, \u001b[33mInfinity\u001b[39m, \u001b[33mInfinity\u001b[39m, \u001b[33mInfinity\u001b[39m, \u001b[33mInfinity\u001b[39m,\n",
            "    \u001b[33mInfinity\u001b[39m, \u001b[33mInfinity\u001b[39m, \u001b[33mInfinity\u001b[39m, \u001b[33mInfinity\u001b[39m, \u001b[33mInfinity\u001b[39m, \u001b[33mInfinity\u001b[39m,\n",
            "    \u001b[33mInfinity\u001b[39m, \u001b[33mInfinity\u001b[39m, \u001b[33mInfinity\u001b[39m, \u001b[33mInfinity\u001b[39m, \u001b[33mInfinity\u001b[39m, \u001b[33mInfinity\u001b[39m,\n",
            "    \u001b[33mInfinity\u001b[39m, \u001b[33mInfinity\u001b[39m, \u001b[33mInfinity\u001b[39m, \u001b[33mInfinity\u001b[39m, \u001b[33mInfinity\u001b[39m, \u001b[33mInfinity\u001b[39m,\n",
            "    \u001b[33mInfinity\u001b[39m, \u001b[33mInfinity\u001b[39m, \u001b[33mInfinity\u001b[39m, \u001b[33mInfinity\u001b[39m, \u001b[33mInfinity\u001b[39m, \u001b[33mInfinity\u001b[39m,\n",
            "    \u001b[33mInfinity\u001b[39m, \u001b[33mInfinity\u001b[39m, \u001b[33mInfinity\u001b[39m, \u001b[33mInfinity\u001b[39m,\n",
            "    ... 500 more items\n",
            "  ],\n",
            "  [\n",
            "    \u001b[33mInfinity\u001b[39m, \u001b[33mInfinity\u001b[39m, \u001b[33mInfinity\u001b[39m, \u001b[33mInfinity\u001b[39m, \u001b[33mInfinity\u001b[39m, \u001b[33mInfinity\u001b[39m,\n",
            "    \u001b[33mInfinity\u001b[39m, \u001b[33mInfinity\u001b[39m, \u001b[33mInfinity\u001b[39m, \u001b[33mInfinity\u001b[39m, \u001b[33mInfinity\u001b[39m, \u001b[33mInfinity\u001b[39m,\n",
            "    \u001b[33mInfinity\u001b[39m, \u001b[33mInfinity\u001b[39m, \u001b[33mInfinity\u001b[39m, \u001b[33mInfinity\u001b[39m, \u001b[33mInfinity\u001b[39m, \u001b[33mInfinity\u001b[39m,\n",
            "    \u001b[33mInfinity\u001b[39m, \u001b[33mInfinity\u001b[39m, \u001b[33mInfinity\u001b[39m, \u001b[33mInfinity\u001b[39m, \u001b[33mInfinity\u001b[39m, \u001b[33mInfinity\u001b[39m,\n",
            "    \u001b[33mInfinity\u001b[39m, \u001b[33mInfinity\u001b[39m, \u001b[33mInfinity\u001b[39m, \u001b[33mInfinity\u001b[39m, \u001b[33mInfinity\u001b[39m, \u001b[33mInfinity\u001b[39m,\n",
            "    \u001b[33mInfinity\u001b[39m, \u001b[33mInfinity\u001b[39m, \u001b[33mInfinity\u001b[39m, \u001b[33mInfinity\u001b[39m, \u001b[33mInfinity\u001b[39m, \u001b[33mInfinity\u001b[39m,\n",
            "    \u001b[33mInfinity\u001b[39m, \u001b[33mInfinity\u001b[39m, \u001b[33mInfinity\u001b[39m, \u001b[33mInfinity\u001b[39m, \u001b[33mInfinity\u001b[39m, \u001b[33mInfinity\u001b[39m,\n",
            "    \u001b[33mInfinity\u001b[39m, \u001b[33mInfinity\u001b[39m, \u001b[33mInfinity\u001b[39m, \u001b[33mInfinity\u001b[39m, \u001b[33mInfinity\u001b[39m, \u001b[33mInfinity\u001b[39m,\n",
            "    \u001b[33mInfinity\u001b[39m, \u001b[33mInfinity\u001b[39m, \u001b[33mInfinity\u001b[39m, \u001b[33mInfinity\u001b[39m, \u001b[33mInfinity\u001b[39m, \u001b[33mInfinity\u001b[39m,\n",
            "    \u001b[33mInfinity\u001b[39m, \u001b[33mInfinity\u001b[39m, \u001b[33mInfinity\u001b[39m, \u001b[33mInfinity\u001b[39m, \u001b[33mInfinity\u001b[39m, \u001b[33mInfinity\u001b[39m,\n",
            "    \u001b[33mInfinity\u001b[39m, \u001b[33mInfinity\u001b[39m, \u001b[33mInfinity\u001b[39m, \u001b[33mInfinity\u001b[39m, \u001b[33mInfinity\u001b[39m, \u001b[33mInfinity\u001b[39m,\n",
            "    \u001b[33mInfinity\u001b[39m, \u001b[33mInfinity\u001b[39m, \u001b[33mInfinity\u001b[39m, \u001b[33mInfinity\u001b[39m, \u001b[33mInfinity\u001b[39m, \u001b[33mInfinity\u001b[39m,\n",
            "    \u001b[33mInfinity\u001b[39m, \u001b[33mInfinity\u001b[39m, \u001b[33mInfinity\u001b[39m, \u001b[33mInfinity\u001b[39m, \u001b[33mInfinity\u001b[39m, \u001b[33mInfinity\u001b[39m,\n",
            "    \u001b[33mInfinity\u001b[39m, \u001b[33mInfinity\u001b[39m, \u001b[33mInfinity\u001b[39m, \u001b[33mInfinity\u001b[39m, \u001b[33mInfinity\u001b[39m, \u001b[33mInfinity\u001b[39m,\n",
            "    \u001b[33mInfinity\u001b[39m, \u001b[33mInfinity\u001b[39m, \u001b[33mInfinity\u001b[39m, \u001b[33mInfinity\u001b[39m, \u001b[33mInfinity\u001b[39m, \u001b[33mInfinity\u001b[39m,\n",
            "    \u001b[33mInfinity\u001b[39m, \u001b[33mInfinity\u001b[39m, \u001b[33mInfinity\u001b[39m, \u001b[33mInfinity\u001b[39m, \u001b[33mInfinity\u001b[39m, \u001b[33mInfinity\u001b[39m,\n",
            "    \u001b[33mInfinity\u001b[39m, \u001b[33mInfinity\u001b[39m, \u001b[33mInfinity\u001b[39m, \u001b[33mInfinity\u001b[39m,\n",
            "    ... 500 more items\n",
            "  ],\n",
            "  [\n",
            "    \u001b[33mInfinity\u001b[39m, \u001b[33mInfinity\u001b[39m, \u001b[33mInfinity\u001b[39m, \u001b[33mInfinity\u001b[39m, \u001b[33mInfinity\u001b[39m, \u001b[33mInfinity\u001b[39m,\n",
            "    \u001b[33mInfinity\u001b[39m, \u001b[33mInfinity\u001b[39m, \u001b[33mInfinity\u001b[39m, \u001b[33mInfinity\u001b[39m, \u001b[33mInfinity\u001b[39m, \u001b[33mInfinity\u001b[39m,\n",
            "    \u001b[33mInfinity\u001b[39m, \u001b[33mInfinity\u001b[39m, \u001b[33mInfinity\u001b[39m, \u001b[33mInfinity\u001b[39m, \u001b[33mInfinity\u001b[39m, \u001b[33mInfinity\u001b[39m,\n",
            "    \u001b[33mInfinity\u001b[39m, \u001b[33mInfinity\u001b[39m, \u001b[33mInfinity\u001b[39m, \u001b[33mInfinity\u001b[39m, \u001b[33mInfinity\u001b[39m, \u001b[33mInfinity\u001b[39m,\n",
            "    \u001b[33mInfinity\u001b[39m, \u001b[33mInfinity\u001b[39m, \u001b[33mInfinity\u001b[39m, \u001b[33mInfinity\u001b[39m, \u001b[33mInfinity\u001b[39m, \u001b[33mInfinity\u001b[39m,\n",
            "    \u001b[33mInfinity\u001b[39m, \u001b[33mInfinity\u001b[39m, \u001b[33mInfinity\u001b[39m, \u001b[33mInfinity\u001b[39m, \u001b[33mInfinity\u001b[39m, \u001b[33mInfinity\u001b[39m,\n",
            "    \u001b[33mInfinity\u001b[39m, \u001b[33mInfinity\u001b[39m, \u001b[33mInfinity\u001b[39m, \u001b[33mInfinity\u001b[39m, \u001b[33mInfinity\u001b[39m, \u001b[33mInfinity\u001b[39m,\n",
            "    \u001b[33mInfinity\u001b[39m, \u001b[33mInfinity\u001b[39m, \u001b[33mInfinity\u001b[39m, \u001b[33mInfinity\u001b[39m, \u001b[33mInfinity\u001b[39m, \u001b[33mInfinity\u001b[39m,\n",
            "    \u001b[33mInfinity\u001b[39m, \u001b[33mInfinity\u001b[39m, \u001b[33mInfinity\u001b[39m, \u001b[33mInfinity\u001b[39m, \u001b[33mInfinity\u001b[39m, \u001b[33mInfinity\u001b[39m,\n",
            "    \u001b[33mInfinity\u001b[39m, \u001b[33mInfinity\u001b[39m, \u001b[33mInfinity\u001b[39m, \u001b[33mInfinity\u001b[39m, \u001b[33mInfinity\u001b[39m, \u001b[33mInfinity\u001b[39m,\n",
            "    \u001b[33mInfinity\u001b[39m, \u001b[33mInfinity\u001b[39m, \u001b[33mInfinity\u001b[39m, \u001b[33mInfinity\u001b[39m, \u001b[33mInfinity\u001b[39m, \u001b[33mInfinity\u001b[39m,\n",
            "    \u001b[33mInfinity\u001b[39m, \u001b[33mInfinity\u001b[39m, \u001b[33mInfinity\u001b[39m, \u001b[33mInfinity\u001b[39m, \u001b[33mInfinity\u001b[39m, \u001b[33mInfinity\u001b[39m,\n",
            "    \u001b[33mInfinity\u001b[39m, \u001b[33mInfinity\u001b[39m, \u001b[33mInfinity\u001b[39m, \u001b[33mInfinity\u001b[39m, \u001b[33mInfinity\u001b[39m, \u001b[33mInfinity\u001b[39m,\n",
            "    \u001b[33mInfinity\u001b[39m, \u001b[33mInfinity\u001b[39m, \u001b[33mInfinity\u001b[39m, \u001b[33mInfinity\u001b[39m, \u001b[33mInfinity\u001b[39m, \u001b[33mInfinity\u001b[39m,\n",
            "    \u001b[33mInfinity\u001b[39m, \u001b[33mInfinity\u001b[39m, \u001b[33mInfinity\u001b[39m, \u001b[33mInfinity\u001b[39m, \u001b[33mInfinity\u001b[39m, \u001b[33mInfinity\u001b[39m,\n",
            "    \u001b[33mInfinity\u001b[39m, \u001b[33mInfinity\u001b[39m, \u001b[33mInfinity\u001b[39m, \u001b[33mInfinity\u001b[39m, \u001b[33mInfinity\u001b[39m, \u001b[33mInfinity\u001b[39m,\n",
            "    \u001b[33mInfinity\u001b[39m, \u001b[33mInfinity\u001b[39m, \u001b[33mInfinity\u001b[39m, \u001b[33mInfinity\u001b[39m,\n",
            "    ... 500 more items\n",
            "  ],\n",
            "  [\n",
            "    \u001b[33mInfinity\u001b[39m, \u001b[33mInfinity\u001b[39m, \u001b[33mInfinity\u001b[39m, \u001b[33mInfinity\u001b[39m, \u001b[33mInfinity\u001b[39m, \u001b[33mInfinity\u001b[39m,\n",
            "    \u001b[33mInfinity\u001b[39m, \u001b[33mInfinity\u001b[39m, \u001b[33mInfinity\u001b[39m, \u001b[33mInfinity\u001b[39m, \u001b[33mInfinity\u001b[39m, \u001b[33mInfinity\u001b[39m,\n",
            "    \u001b[33mInfinity\u001b[39m, \u001b[33mInfinity\u001b[39m, \u001b[33mInfinity\u001b[39m, \u001b[33mInfinity\u001b[39m, \u001b[33mInfinity\u001b[39m, \u001b[33mInfinity\u001b[39m,\n",
            "    \u001b[33mInfinity\u001b[39m, \u001b[33mInfinity\u001b[39m, \u001b[33mInfinity\u001b[39m, \u001b[33mInfinity\u001b[39m, \u001b[33mInfinity\u001b[39m, \u001b[33mInfinity\u001b[39m,\n",
            "    \u001b[33mInfinity\u001b[39m, \u001b[33mInfinity\u001b[39m, \u001b[33mInfinity\u001b[39m, \u001b[33mInfinity\u001b[39m, \u001b[33mInfinity\u001b[39m, \u001b[33mInfinity\u001b[39m,\n",
            "    \u001b[33mInfinity\u001b[39m, \u001b[33mInfinity\u001b[39m, \u001b[33mInfinity\u001b[39m, \u001b[33mInfinity\u001b[39m, \u001b[33mInfinity\u001b[39m, \u001b[33mInfinity\u001b[39m,\n",
            "    \u001b[33mInfinity\u001b[39m, \u001b[33mInfinity\u001b[39m, \u001b[33mInfinity\u001b[39m, \u001b[33mInfinity\u001b[39m, \u001b[33mInfinity\u001b[39m, \u001b[33mInfinity\u001b[39m,\n",
            "    \u001b[33mInfinity\u001b[39m, \u001b[33mInfinity\u001b[39m, \u001b[33mInfinity\u001b[39m, \u001b[33mInfinity\u001b[39m, \u001b[33mInfinity\u001b[39m, \u001b[33mInfinity\u001b[39m,\n",
            "    \u001b[33mInfinity\u001b[39m, \u001b[33mInfinity\u001b[39m, \u001b[33mInfinity\u001b[39m, \u001b[33mInfinity\u001b[39m, \u001b[33mInfinity\u001b[39m, \u001b[33mInfinity\u001b[39m,\n",
            "    \u001b[33mInfinity\u001b[39m, \u001b[33mInfinity\u001b[39m, \u001b[33mInfinity\u001b[39m, \u001b[33mInfinity\u001b[39m, \u001b[33mInfinity\u001b[39m, \u001b[33mInfinity\u001b[39m,\n",
            "    \u001b[33mInfinity\u001b[39m, \u001b[33mInfinity\u001b[39m, \u001b[33mInfinity\u001b[39m, \u001b[33mInfinity\u001b[39m, \u001b[33mInfinity\u001b[39m, \u001b[33mInfinity\u001b[39m,\n",
            "    \u001b[33mInfinity\u001b[39m, \u001b[33mInfinity\u001b[39m, \u001b[33mInfinity\u001b[39m, \u001b[33mInfinity\u001b[39m, \u001b[33mInfinity\u001b[39m, \u001b[33mInfinity\u001b[39m,\n",
            "    \u001b[33mInfinity\u001b[39m, \u001b[33mInfinity\u001b[39m, \u001b[33mInfinity\u001b[39m, \u001b[33mInfinity\u001b[39m, \u001b[33mInfinity\u001b[39m, \u001b[33mInfinity\u001b[39m,\n",
            "    \u001b[33mInfinity\u001b[39m, \u001b[33mInfinity\u001b[39m, \u001b[33mInfinity\u001b[39m, \u001b[33mInfinity\u001b[39m, \u001b[33mInfinity\u001b[39m, \u001b[33mInfinity\u001b[39m,\n",
            "    \u001b[33mInfinity\u001b[39m, \u001b[33mInfinity\u001b[39m, \u001b[33mInfinity\u001b[39m, \u001b[33mInfinity\u001b[39m, \u001b[33mInfinity\u001b[39m, \u001b[33mInfinity\u001b[39m,\n",
            "    \u001b[33mInfinity\u001b[39m, \u001b[33mInfinity\u001b[39m, \u001b[33mInfinity\u001b[39m, \u001b[33mInfinity\u001b[39m, \u001b[33mInfinity\u001b[39m, \u001b[33mInfinity\u001b[39m,\n",
            "    \u001b[33mInfinity\u001b[39m, \u001b[33mInfinity\u001b[39m, \u001b[33mInfinity\u001b[39m, \u001b[33mInfinity\u001b[39m,\n",
            "    ... 500 more items\n",
            "  ],\n",
            "  [\n",
            "    \u001b[33mInfinity\u001b[39m, \u001b[33mInfinity\u001b[39m, \u001b[33mInfinity\u001b[39m, \u001b[33mInfinity\u001b[39m, \u001b[33mInfinity\u001b[39m, \u001b[33mInfinity\u001b[39m,\n",
            "    \u001b[33mInfinity\u001b[39m, \u001b[33mInfinity\u001b[39m, \u001b[33mInfinity\u001b[39m, \u001b[33mInfinity\u001b[39m, \u001b[33mInfinity\u001b[39m, \u001b[33mInfinity\u001b[39m,\n",
            "    \u001b[33mInfinity\u001b[39m, \u001b[33mInfinity\u001b[39m, \u001b[33mInfinity\u001b[39m, \u001b[33mInfinity\u001b[39m, \u001b[33mInfinity\u001b[39m, \u001b[33mInfinity\u001b[39m,\n",
            "    \u001b[33mInfinity\u001b[39m, \u001b[33mInfinity\u001b[39m, \u001b[33mInfinity\u001b[39m, \u001b[33mInfinity\u001b[39m, \u001b[33mInfinity\u001b[39m, \u001b[33mInfinity\u001b[39m,\n",
            "    \u001b[33mInfinity\u001b[39m, \u001b[33mInfinity\u001b[39m, \u001b[33mInfinity\u001b[39m, \u001b[33mInfinity\u001b[39m, \u001b[33mInfinity\u001b[39m, \u001b[33mInfinity\u001b[39m,\n",
            "    \u001b[33mInfinity\u001b[39m, \u001b[33mInfinity\u001b[39m, \u001b[33mInfinity\u001b[39m, \u001b[33mInfinity\u001b[39m, \u001b[33mInfinity\u001b[39m, \u001b[33mInfinity\u001b[39m,\n",
            "    \u001b[33mInfinity\u001b[39m, \u001b[33mInfinity\u001b[39m, \u001b[33mInfinity\u001b[39m, \u001b[33mInfinity\u001b[39m, \u001b[33mInfinity\u001b[39m, \u001b[33mInfinity\u001b[39m,\n",
            "    \u001b[33mInfinity\u001b[39m, \u001b[33mInfinity\u001b[39m, \u001b[33mInfinity\u001b[39m, \u001b[33mInfinity\u001b[39m, \u001b[33mInfinity\u001b[39m, \u001b[33mInfinity\u001b[39m,\n",
            "    \u001b[33mInfinity\u001b[39m, \u001b[33mInfinity\u001b[39m, \u001b[33mInfinity\u001b[39m, \u001b[33mInfinity\u001b[39m, \u001b[33mInfinity\u001b[39m, \u001b[33mInfinity\u001b[39m,\n",
            "    \u001b[33mInfinity\u001b[39m, \u001b[33mInfinity\u001b[39m, \u001b[33mInfinity\u001b[39m, \u001b[33mInfinity\u001b[39m, \u001b[33mInfinity\u001b[39m, \u001b[33mInfinity\u001b[39m,\n",
            "    \u001b[33mInfinity\u001b[39m, \u001b[33mInfinity\u001b[39m, \u001b[33mInfinity\u001b[39m, \u001b[33mInfinity\u001b[39m, \u001b[33mInfinity\u001b[39m, \u001b[33mInfinity\u001b[39m,\n",
            "    \u001b[33mInfinity\u001b[39m, \u001b[33mInfinity\u001b[39m, \u001b[33mInfinity\u001b[39m, \u001b[33mInfinity\u001b[39m, \u001b[33mInfinity\u001b[39m, \u001b[33mInfinity\u001b[39m,\n",
            "    \u001b[33mInfinity\u001b[39m, \u001b[33mInfinity\u001b[39m, \u001b[33mInfinity\u001b[39m, \u001b[33mInfinity\u001b[39m, \u001b[33mInfinity\u001b[39m, \u001b[33mInfinity\u001b[39m,\n",
            "    \u001b[33mInfinity\u001b[39m, \u001b[33mInfinity\u001b[39m, \u001b[33mInfinity\u001b[39m, \u001b[33mInfinity\u001b[39m, \u001b[33mInfinity\u001b[39m, \u001b[33mInfinity\u001b[39m,\n",
            "    \u001b[33mInfinity\u001b[39m, \u001b[33mInfinity\u001b[39m, \u001b[33mInfinity\u001b[39m, \u001b[33mInfinity\u001b[39m, \u001b[33mInfinity\u001b[39m, \u001b[33mInfinity\u001b[39m,\n",
            "    \u001b[33mInfinity\u001b[39m, \u001b[33mInfinity\u001b[39m, \u001b[33mInfinity\u001b[39m, \u001b[33mInfinity\u001b[39m, \u001b[33mInfinity\u001b[39m, \u001b[33mInfinity\u001b[39m,\n",
            "    \u001b[33mInfinity\u001b[39m, \u001b[33mInfinity\u001b[39m, \u001b[33mInfinity\u001b[39m, \u001b[33mInfinity\u001b[39m,\n",
            "    ... 500 more items\n",
            "  ],\n",
            "  [\n",
            "    \u001b[33mInfinity\u001b[39m, \u001b[33mInfinity\u001b[39m, \u001b[33mInfinity\u001b[39m, \u001b[33mInfinity\u001b[39m, \u001b[33mInfinity\u001b[39m, \u001b[33mInfinity\u001b[39m,\n",
            "    \u001b[33mInfinity\u001b[39m, \u001b[33mInfinity\u001b[39m, \u001b[33mInfinity\u001b[39m, \u001b[33mInfinity\u001b[39m, \u001b[33mInfinity\u001b[39m, \u001b[33mInfinity\u001b[39m,\n",
            "    \u001b[33mInfinity\u001b[39m, \u001b[33mInfinity\u001b[39m, \u001b[33mInfinity\u001b[39m, \u001b[33mInfinity\u001b[39m, \u001b[33mInfinity\u001b[39m, \u001b[33mInfinity\u001b[39m,\n",
            "    \u001b[33mInfinity\u001b[39m, \u001b[33mInfinity\u001b[39m, \u001b[33mInfinity\u001b[39m, \u001b[33mInfinity\u001b[39m, \u001b[33mInfinity\u001b[39m, \u001b[33mInfinity\u001b[39m,\n",
            "    \u001b[33mInfinity\u001b[39m, \u001b[33mInfinity\u001b[39m, \u001b[33mInfinity\u001b[39m, \u001b[33mInfinity\u001b[39m, \u001b[33mInfinity\u001b[39m, \u001b[33mInfinity\u001b[39m,\n",
            "    \u001b[33mInfinity\u001b[39m, \u001b[33mInfinity\u001b[39m, \u001b[33mInfinity\u001b[39m, \u001b[33mInfinity\u001b[39m, \u001b[33mInfinity\u001b[39m, \u001b[33mInfinity\u001b[39m,\n",
            "    \u001b[33mInfinity\u001b[39m, \u001b[33mInfinity\u001b[39m, \u001b[33mInfinity\u001b[39m, \u001b[33mInfinity\u001b[39m, \u001b[33mInfinity\u001b[39m, \u001b[33mInfinity\u001b[39m,\n",
            "    \u001b[33mInfinity\u001b[39m, \u001b[33mInfinity\u001b[39m, \u001b[33mInfinity\u001b[39m, \u001b[33mInfinity\u001b[39m, \u001b[33mInfinity\u001b[39m, \u001b[33mInfinity\u001b[39m,\n",
            "    \u001b[33mInfinity\u001b[39m, \u001b[33mInfinity\u001b[39m, \u001b[33mInfinity\u001b[39m, \u001b[33mInfinity\u001b[39m, \u001b[33mInfinity\u001b[39m, \u001b[33mInfinity\u001b[39m,\n",
            "    \u001b[33mInfinity\u001b[39m, \u001b[33mInfinity\u001b[39m, \u001b[33mInfinity\u001b[39m, \u001b[33mInfinity\u001b[39m, \u001b[33mInfinity\u001b[39m, \u001b[33mInfinity\u001b[39m,\n",
            "    \u001b[33mInfinity\u001b[39m, \u001b[33mInfinity\u001b[39m, \u001b[33mInfinity\u001b[39m, \u001b[33mInfinity\u001b[39m, \u001b[33mInfinity\u001b[39m, \u001b[33mInfinity\u001b[39m,\n",
            "    \u001b[33mInfinity\u001b[39m, \u001b[33mInfinity\u001b[39m, \u001b[33mInfinity\u001b[39m, \u001b[33mInfinity\u001b[39m, \u001b[33mInfinity\u001b[39m, \u001b[33mInfinity\u001b[39m,\n",
            "    \u001b[33mInfinity\u001b[39m, \u001b[33mInfinity\u001b[39m, \u001b[33mInfinity\u001b[39m, \u001b[33mInfinity\u001b[39m, \u001b[33mInfinity\u001b[39m, \u001b[33mInfinity\u001b[39m,\n",
            "    \u001b[33mInfinity\u001b[39m, \u001b[33mInfinity\u001b[39m, \u001b[33mInfinity\u001b[39m, \u001b[33mInfinity\u001b[39m, \u001b[33mInfinity\u001b[39m, \u001b[33mInfinity\u001b[39m,\n",
            "    \u001b[33mInfinity\u001b[39m, \u001b[33mInfinity\u001b[39m, \u001b[33mInfinity\u001b[39m, \u001b[33mInfinity\u001b[39m, \u001b[33mInfinity\u001b[39m, \u001b[33mInfinity\u001b[39m,\n",
            "    \u001b[33mInfinity\u001b[39m, \u001b[33mInfinity\u001b[39m, \u001b[33mInfinity\u001b[39m, \u001b[33mInfinity\u001b[39m, \u001b[33mInfinity\u001b[39m, \u001b[33mInfinity\u001b[39m,\n",
            "    \u001b[33mInfinity\u001b[39m, \u001b[33mInfinity\u001b[39m, \u001b[33mInfinity\u001b[39m, \u001b[33mInfinity\u001b[39m,\n",
            "    ... 500 more items\n",
            "  ],\n",
            "  [\n",
            "    \u001b[33mInfinity\u001b[39m, \u001b[33mInfinity\u001b[39m, \u001b[33mInfinity\u001b[39m, \u001b[33mInfinity\u001b[39m, \u001b[33mInfinity\u001b[39m, \u001b[33mInfinity\u001b[39m,\n",
            "    \u001b[33mInfinity\u001b[39m, \u001b[33mInfinity\u001b[39m, \u001b[33mInfinity\u001b[39m, \u001b[33mInfinity\u001b[39m, \u001b[33mInfinity\u001b[39m, \u001b[33mInfinity\u001b[39m,\n",
            "    \u001b[33mInfinity\u001b[39m, \u001b[33mInfinity\u001b[39m, \u001b[33mInfinity\u001b[39m, \u001b[33mInfinity\u001b[39m, \u001b[33mInfinity\u001b[39m, \u001b[33mInfinity\u001b[39m,\n",
            "    \u001b[33mInfinity\u001b[39m, \u001b[33mInfinity\u001b[39m, \u001b[33mInfinity\u001b[39m, \u001b[33mInfinity\u001b[39m, \u001b[33mInfinity\u001b[39m, \u001b[33mInfinity\u001b[39m,\n",
            "    \u001b[33mInfinity\u001b[39m, \u001b[33mInfinity\u001b[39m, \u001b[33mInfinity\u001b[39m, \u001b[33mInfinity\u001b[39m, \u001b[33mInfinity\u001b[39m, \u001b[33mInfinity\u001b[39m,\n",
            "    \u001b[33mInfinity\u001b[39m, \u001b[33mInfinity\u001b[39m, \u001b[33mInfinity\u001b[39m, \u001b[33mInfinity\u001b[39m, \u001b[33mInfinity\u001b[39m, \u001b[33mInfinity\u001b[39m,\n",
            "    \u001b[33mInfinity\u001b[39m, \u001b[33mInfinity\u001b[39m, \u001b[33mInfinity\u001b[39m, \u001b[33mInfinity\u001b[39m, \u001b[33mInfinity\u001b[39m, \u001b[33mInfinity\u001b[39m,\n",
            "    \u001b[33mInfinity\u001b[39m, \u001b[33mInfinity\u001b[39m, \u001b[33mInfinity\u001b[39m, \u001b[33mInfinity\u001b[39m, \u001b[33mInfinity\u001b[39m, \u001b[33mInfinity\u001b[39m,\n",
            "    \u001b[33mInfinity\u001b[39m, \u001b[33mInfinity\u001b[39m, \u001b[33mInfinity\u001b[39m, \u001b[33mInfinity\u001b[39m, \u001b[33mInfinity\u001b[39m, \u001b[33mInfinity\u001b[39m,\n",
            "    \u001b[33mInfinity\u001b[39m, \u001b[33mInfinity\u001b[39m, \u001b[33mInfinity\u001b[39m, \u001b[33mInfinity\u001b[39m, \u001b[33mInfinity\u001b[39m, \u001b[33mInfinity\u001b[39m,\n",
            "    \u001b[33mInfinity\u001b[39m, \u001b[33mInfinity\u001b[39m, \u001b[33mInfinity\u001b[39m, \u001b[33mInfinity\u001b[39m, \u001b[33mInfinity\u001b[39m, \u001b[33mInfinity\u001b[39m,\n",
            "    \u001b[33mInfinity\u001b[39m, \u001b[33mInfinity\u001b[39m, \u001b[33mInfinity\u001b[39m, \u001b[33mInfinity\u001b[39m, \u001b[33mInfinity\u001b[39m, \u001b[33mInfinity\u001b[39m,\n",
            "    \u001b[33mInfinity\u001b[39m, \u001b[33mInfinity\u001b[39m, \u001b[33mInfinity\u001b[39m, \u001b[33mInfinity\u001b[39m, \u001b[33mInfinity\u001b[39m, \u001b[33mInfinity\u001b[39m,\n",
            "    \u001b[33mInfinity\u001b[39m, \u001b[33mInfinity\u001b[39m, \u001b[33mInfinity\u001b[39m, \u001b[33mInfinity\u001b[39m, \u001b[33mInfinity\u001b[39m, \u001b[33mInfinity\u001b[39m,\n",
            "    \u001b[33mInfinity\u001b[39m, \u001b[33mInfinity\u001b[39m, \u001b[33mInfinity\u001b[39m, \u001b[33mInfinity\u001b[39m, \u001b[33mInfinity\u001b[39m, \u001b[33mInfinity\u001b[39m,\n",
            "    \u001b[33mInfinity\u001b[39m, \u001b[33mInfinity\u001b[39m, \u001b[33mInfinity\u001b[39m, \u001b[33mInfinity\u001b[39m, \u001b[33mInfinity\u001b[39m, \u001b[33mInfinity\u001b[39m,\n",
            "    \u001b[33mInfinity\u001b[39m, \u001b[33mInfinity\u001b[39m, \u001b[33mInfinity\u001b[39m, \u001b[33mInfinity\u001b[39m,\n",
            "    ... 500 more items\n",
            "  ],\n",
            "  [\n",
            "    \u001b[33mInfinity\u001b[39m, \u001b[33mInfinity\u001b[39m, \u001b[33mInfinity\u001b[39m, \u001b[33mInfinity\u001b[39m, \u001b[33mInfinity\u001b[39m, \u001b[33mInfinity\u001b[39m,\n",
            "    \u001b[33mInfinity\u001b[39m, \u001b[33mInfinity\u001b[39m, \u001b[33mInfinity\u001b[39m, \u001b[33mInfinity\u001b[39m, \u001b[33mInfinity\u001b[39m, \u001b[33mInfinity\u001b[39m,\n",
            "    \u001b[33mInfinity\u001b[39m, \u001b[33mInfinity\u001b[39m, \u001b[33mInfinity\u001b[39m, \u001b[33mInfinity\u001b[39m, \u001b[33mInfinity\u001b[39m, \u001b[33mInfinity\u001b[39m,\n",
            "    \u001b[33mInfinity\u001b[39m, \u001b[33mInfinity\u001b[39m, \u001b[33mInfinity\u001b[39m, \u001b[33mInfinity\u001b[39m, \u001b[33mInfinity\u001b[39m, \u001b[33mInfinity\u001b[39m,\n",
            "    \u001b[33mInfinity\u001b[39m, \u001b[33mInfinity\u001b[39m, \u001b[33mInfinity\u001b[39m, \u001b[33mInfinity\u001b[39m, \u001b[33mInfinity\u001b[39m, \u001b[33mInfinity\u001b[39m,\n",
            "    \u001b[33mInfinity\u001b[39m, \u001b[33mInfinity\u001b[39m, \u001b[33mInfinity\u001b[39m, \u001b[33mInfinity\u001b[39m, \u001b[33mInfinity\u001b[39m, \u001b[33mInfinity\u001b[39m,\n",
            "    \u001b[33mInfinity\u001b[39m, \u001b[33mInfinity\u001b[39m, \u001b[33mInfinity\u001b[39m, \u001b[33mInfinity\u001b[39m, \u001b[33mInfinity\u001b[39m, \u001b[33mInfinity\u001b[39m,\n",
            "    \u001b[33mInfinity\u001b[39m, \u001b[33mInfinity\u001b[39m, \u001b[33mInfinity\u001b[39m, \u001b[33mInfinity\u001b[39m, \u001b[33mInfinity\u001b[39m, \u001b[33mInfinity\u001b[39m,\n",
            "    \u001b[33mInfinity\u001b[39m, \u001b[33mInfinity\u001b[39m, \u001b[33mInfinity\u001b[39m, \u001b[33mInfinity\u001b[39m, \u001b[33mInfinity\u001b[39m, \u001b[33mInfinity\u001b[39m,\n",
            "    \u001b[33mInfinity\u001b[39m, \u001b[33mInfinity\u001b[39m, \u001b[33mInfinity\u001b[39m, \u001b[33mInfinity\u001b[39m, \u001b[33mInfinity\u001b[39m, \u001b[33mInfinity\u001b[39m,\n",
            "    \u001b[33mInfinity\u001b[39m, \u001b[33mInfinity\u001b[39m, \u001b[33mInfinity\u001b[39m, \u001b[33mInfinity\u001b[39m, \u001b[33mInfinity\u001b[39m, \u001b[33mInfinity\u001b[39m,\n",
            "    \u001b[33mInfinity\u001b[39m, \u001b[33mInfinity\u001b[39m, \u001b[33mInfinity\u001b[39m, \u001b[33mInfinity\u001b[39m, \u001b[33mInfinity\u001b[39m, \u001b[33mInfinity\u001b[39m,\n",
            "    \u001b[33mInfinity\u001b[39m, \u001b[33mInfinity\u001b[39m, \u001b[33mInfinity\u001b[39m, \u001b[33mInfinity\u001b[39m, \u001b[33mInfinity\u001b[39m, \u001b[33mInfinity\u001b[39m,\n",
            "    \u001b[33mInfinity\u001b[39m, \u001b[33mInfinity\u001b[39m, \u001b[33mInfinity\u001b[39m, \u001b[33mInfinity\u001b[39m, \u001b[33mInfinity\u001b[39m, \u001b[33mInfinity\u001b[39m,\n",
            "    \u001b[33mInfinity\u001b[39m, \u001b[33mInfinity\u001b[39m, \u001b[33mInfinity\u001b[39m, \u001b[33mInfinity\u001b[39m, \u001b[33mInfinity\u001b[39m, \u001b[33mInfinity\u001b[39m,\n",
            "    \u001b[33mInfinity\u001b[39m, \u001b[33mInfinity\u001b[39m, \u001b[33mInfinity\u001b[39m, \u001b[33mInfinity\u001b[39m, \u001b[33mInfinity\u001b[39m, \u001b[33mInfinity\u001b[39m,\n",
            "    \u001b[33mInfinity\u001b[39m, \u001b[33mInfinity\u001b[39m, \u001b[33mInfinity\u001b[39m, \u001b[33mInfinity\u001b[39m,\n",
            "    ... 500 more items\n",
            "  ],\n",
            "  [\n",
            "    \u001b[33mInfinity\u001b[39m, \u001b[33mInfinity\u001b[39m, \u001b[33mInfinity\u001b[39m, \u001b[33mInfinity\u001b[39m, \u001b[33mInfinity\u001b[39m, \u001b[33mInfinity\u001b[39m,\n",
            "    \u001b[33mInfinity\u001b[39m, \u001b[33mInfinity\u001b[39m, \u001b[33mInfinity\u001b[39m, \u001b[33mInfinity\u001b[39m, \u001b[33mInfinity\u001b[39m, \u001b[33mInfinity\u001b[39m,\n",
            "    \u001b[33mInfinity\u001b[39m, \u001b[33mInfinity\u001b[39m, \u001b[33mInfinity\u001b[39m, \u001b[33mInfinity\u001b[39m, \u001b[33mInfinity\u001b[39m, \u001b[33mInfinity\u001b[39m,\n",
            "    \u001b[33mInfinity\u001b[39m, \u001b[33mInfinity\u001b[39m, \u001b[33mInfinity\u001b[39m, \u001b[33mInfinity\u001b[39m, \u001b[33mInfinity\u001b[39m, \u001b[33mInfinity\u001b[39m,\n",
            "    \u001b[33mInfinity\u001b[39m, \u001b[33mInfinity\u001b[39m, \u001b[33mInfinity\u001b[39m, \u001b[33mInfinity\u001b[39m, \u001b[33mInfinity\u001b[39m, \u001b[33mInfinity\u001b[39m,\n",
            "    \u001b[33mInfinity\u001b[39m, \u001b[33mInfinity\u001b[39m, \u001b[33mInfinity\u001b[39m, \u001b[33mInfinity\u001b[39m, \u001b[33mInfinity\u001b[39m, \u001b[33mInfinity\u001b[39m,\n",
            "    \u001b[33mInfinity\u001b[39m, \u001b[33mInfinity\u001b[39m, \u001b[33mInfinity\u001b[39m, \u001b[33mInfinity\u001b[39m, \u001b[33mInfinity\u001b[39m, \u001b[33mInfinity\u001b[39m,\n",
            "    \u001b[33mInfinity\u001b[39m, \u001b[33mInfinity\u001b[39m, \u001b[33mInfinity\u001b[39m, \u001b[33mInfinity\u001b[39m, \u001b[33mInfinity\u001b[39m, \u001b[33mInfinity\u001b[39m,\n",
            "    \u001b[33mInfinity\u001b[39m, \u001b[33mInfinity\u001b[39m, \u001b[33mInfinity\u001b[39m, \u001b[33mInfinity\u001b[39m, \u001b[33mInfinity\u001b[39m, \u001b[33mInfinity\u001b[39m,\n",
            "    \u001b[33mInfinity\u001b[39m, \u001b[33mInfinity\u001b[39m, \u001b[33mInfinity\u001b[39m, \u001b[33mInfinity\u001b[39m, \u001b[33mInfinity\u001b[39m, \u001b[33mInfinity\u001b[39m,\n",
            "    \u001b[33mInfinity\u001b[39m, \u001b[33mInfinity\u001b[39m, \u001b[33mInfinity\u001b[39m, \u001b[33mInfinity\u001b[39m, \u001b[33mInfinity\u001b[39m, \u001b[33mInfinity\u001b[39m,\n",
            "    \u001b[33mInfinity\u001b[39m, \u001b[33mInfinity\u001b[39m, \u001b[33mInfinity\u001b[39m, \u001b[33mInfinity\u001b[39m, \u001b[33mInfinity\u001b[39m, \u001b[33mInfinity\u001b[39m,\n",
            "    \u001b[33mInfinity\u001b[39m, \u001b[33mInfinity\u001b[39m, \u001b[33mInfinity\u001b[39m, \u001b[33mInfinity\u001b[39m, \u001b[33mInfinity\u001b[39m, \u001b[33mInfinity\u001b[39m,\n",
            "    \u001b[33mInfinity\u001b[39m, \u001b[33mInfinity\u001b[39m, \u001b[33mInfinity\u001b[39m, \u001b[33mInfinity\u001b[39m, \u001b[33mInfinity\u001b[39m, \u001b[33mInfinity\u001b[39m,\n",
            "    \u001b[33mInfinity\u001b[39m, \u001b[33mInfinity\u001b[39m, \u001b[33mInfinity\u001b[39m, \u001b[33mInfinity\u001b[39m, \u001b[33mInfinity\u001b[39m, \u001b[33mInfinity\u001b[39m,\n",
            "    \u001b[33mInfinity\u001b[39m, \u001b[33mInfinity\u001b[39m, \u001b[33mInfinity\u001b[39m, \u001b[33mInfinity\u001b[39m, \u001b[33mInfinity\u001b[39m, \u001b[33mInfinity\u001b[39m,\n",
            "    \u001b[33mInfinity\u001b[39m, \u001b[33mInfinity\u001b[39m, \u001b[33mInfinity\u001b[39m, \u001b[33mInfinity\u001b[39m,\n",
            "    ... 500 more items\n",
            "  ],\n",
            "  [\n",
            "    \u001b[33mInfinity\u001b[39m, \u001b[33mInfinity\u001b[39m, \u001b[33mInfinity\u001b[39m, \u001b[33mInfinity\u001b[39m, \u001b[33mInfinity\u001b[39m, \u001b[33mInfinity\u001b[39m,\n",
            "    \u001b[33mInfinity\u001b[39m, \u001b[33mInfinity\u001b[39m, \u001b[33mInfinity\u001b[39m, \u001b[33mInfinity\u001b[39m, \u001b[33mInfinity\u001b[39m, \u001b[33mInfinity\u001b[39m,\n",
            "    \u001b[33mInfinity\u001b[39m, \u001b[33mInfinity\u001b[39m, \u001b[33mInfinity\u001b[39m, \u001b[33mInfinity\u001b[39m, \u001b[33mInfinity\u001b[39m, \u001b[33mInfinity\u001b[39m,\n",
            "    \u001b[33mInfinity\u001b[39m, \u001b[33mInfinity\u001b[39m, \u001b[33mInfinity\u001b[39m, \u001b[33mInfinity\u001b[39m, \u001b[33mInfinity\u001b[39m, \u001b[33mInfinity\u001b[39m,\n",
            "    \u001b[33mInfinity\u001b[39m, \u001b[33mInfinity\u001b[39m, \u001b[33mInfinity\u001b[39m, \u001b[33mInfinity\u001b[39m, \u001b[33mInfinity\u001b[39m, \u001b[33mInfinity\u001b[39m,\n",
            "    \u001b[33mInfinity\u001b[39m, \u001b[33mInfinity\u001b[39m, \u001b[33mInfinity\u001b[39m, \u001b[33mInfinity\u001b[39m, \u001b[33mInfinity\u001b[39m, \u001b[33mInfinity\u001b[39m,\n",
            "    \u001b[33mInfinity\u001b[39m, \u001b[33mInfinity\u001b[39m, \u001b[33mInfinity\u001b[39m, \u001b[33mInfinity\u001b[39m, \u001b[33mInfinity\u001b[39m, \u001b[33mInfinity\u001b[39m,\n",
            "    \u001b[33mInfinity\u001b[39m, \u001b[33mInfinity\u001b[39m, \u001b[33mInfinity\u001b[39m, \u001b[33mInfinity\u001b[39m, \u001b[33mInfinity\u001b[39m, \u001b[33mInfinity\u001b[39m,\n",
            "    \u001b[33mInfinity\u001b[39m, \u001b[33mInfinity\u001b[39m, \u001b[33mInfinity\u001b[39m, \u001b[33mInfinity\u001b[39m, \u001b[33mInfinity\u001b[39m, \u001b[33mInfinity\u001b[39m,\n",
            "    \u001b[33mInfinity\u001b[39m, \u001b[33mInfinity\u001b[39m, \u001b[33mInfinity\u001b[39m, \u001b[33mInfinity\u001b[39m, \u001b[33mInfinity\u001b[39m, \u001b[33mInfinity\u001b[39m,\n",
            "    \u001b[33mInfinity\u001b[39m, \u001b[33mInfinity\u001b[39m, \u001b[33mInfinity\u001b[39m, \u001b[33mInfinity\u001b[39m, \u001b[33mInfinity\u001b[39m, \u001b[33mInfinity\u001b[39m,\n",
            "    \u001b[33mInfinity\u001b[39m, \u001b[33mInfinity\u001b[39m, \u001b[33mInfinity\u001b[39m, \u001b[33mInfinity\u001b[39m, \u001b[33mInfinity\u001b[39m, \u001b[33mInfinity\u001b[39m,\n",
            "    \u001b[33mInfinity\u001b[39m, \u001b[33mInfinity\u001b[39m, \u001b[33mInfinity\u001b[39m, \u001b[33mInfinity\u001b[39m, \u001b[33mInfinity\u001b[39m, \u001b[33mInfinity\u001b[39m,\n",
            "    \u001b[33mInfinity\u001b[39m, \u001b[33mInfinity\u001b[39m, \u001b[33mInfinity\u001b[39m, \u001b[33mInfinity\u001b[39m, \u001b[33mInfinity\u001b[39m, \u001b[33mInfinity\u001b[39m,\n",
            "    \u001b[33mInfinity\u001b[39m, \u001b[33mInfinity\u001b[39m, \u001b[33mInfinity\u001b[39m, \u001b[33mInfinity\u001b[39m, \u001b[33mInfinity\u001b[39m, \u001b[33mInfinity\u001b[39m,\n",
            "    \u001b[33mInfinity\u001b[39m, \u001b[33mInfinity\u001b[39m, \u001b[33mInfinity\u001b[39m, \u001b[33mInfinity\u001b[39m, \u001b[33mInfinity\u001b[39m, \u001b[33mInfinity\u001b[39m,\n",
            "    \u001b[33mInfinity\u001b[39m, \u001b[33mInfinity\u001b[39m, \u001b[33mInfinity\u001b[39m, \u001b[33mInfinity\u001b[39m,\n",
            "    ... 500 more items\n",
            "  ],\n",
            "  [\n",
            "    \u001b[33mInfinity\u001b[39m, \u001b[33mInfinity\u001b[39m, \u001b[33mInfinity\u001b[39m, \u001b[33mInfinity\u001b[39m, \u001b[33mInfinity\u001b[39m, \u001b[33mInfinity\u001b[39m,\n",
            "    \u001b[33mInfinity\u001b[39m, \u001b[33mInfinity\u001b[39m, \u001b[33mInfinity\u001b[39m, \u001b[33mInfinity\u001b[39m, \u001b[33mInfinity\u001b[39m, \u001b[33mInfinity\u001b[39m,\n",
            "    \u001b[33mInfinity\u001b[39m, \u001b[33mInfinity\u001b[39m, \u001b[33mInfinity\u001b[39m, \u001b[33mInfinity\u001b[39m, \u001b[33mInfinity\u001b[39m, \u001b[33mInfinity\u001b[39m,\n",
            "    \u001b[33mInfinity\u001b[39m, \u001b[33mInfinity\u001b[39m, \u001b[33mInfinity\u001b[39m, \u001b[33mInfinity\u001b[39m, \u001b[33mInfinity\u001b[39m, \u001b[33mInfinity\u001b[39m,\n",
            "    \u001b[33mInfinity\u001b[39m, \u001b[33mInfinity\u001b[39m, \u001b[33mInfinity\u001b[39m, \u001b[33mInfinity\u001b[39m, \u001b[33mInfinity\u001b[39m, \u001b[33mInfinity\u001b[39m,\n",
            "    \u001b[33mInfinity\u001b[39m, \u001b[33mInfinity\u001b[39m, \u001b[33mInfinity\u001b[39m, \u001b[33mInfinity\u001b[39m, \u001b[33mInfinity\u001b[39m, \u001b[33mInfinity\u001b[39m,\n",
            "    \u001b[33mInfinity\u001b[39m, \u001b[33mInfinity\u001b[39m, \u001b[33mInfinity\u001b[39m, \u001b[33mInfinity\u001b[39m, \u001b[33mInfinity\u001b[39m, \u001b[33mInfinity\u001b[39m,\n",
            "    \u001b[33mInfinity\u001b[39m, \u001b[33mInfinity\u001b[39m, \u001b[33mInfinity\u001b[39m, \u001b[33mInfinity\u001b[39m, \u001b[33mInfinity\u001b[39m, \u001b[33mInfinity\u001b[39m,\n",
            "    \u001b[33mInfinity\u001b[39m, \u001b[33mInfinity\u001b[39m, \u001b[33mInfinity\u001b[39m, \u001b[33mInfinity\u001b[39m, \u001b[33mInfinity\u001b[39m, \u001b[33mInfinity\u001b[39m,\n",
            "    \u001b[33mInfinity\u001b[39m, \u001b[33mInfinity\u001b[39m, \u001b[33mInfinity\u001b[39m, \u001b[33mInfinity\u001b[39m, \u001b[33mInfinity\u001b[39m, \u001b[33mInfinity\u001b[39m,\n",
            "    \u001b[33mInfinity\u001b[39m, \u001b[33mInfinity\u001b[39m, \u001b[33mInfinity\u001b[39m, \u001b[33mInfinity\u001b[39m, \u001b[33mInfinity\u001b[39m, \u001b[33mInfinity\u001b[39m,\n",
            "    \u001b[33mInfinity\u001b[39m, \u001b[33mInfinity\u001b[39m, \u001b[33mInfinity\u001b[39m, \u001b[33mInfinity\u001b[39m, \u001b[33mInfinity\u001b[39m, \u001b[33mInfinity\u001b[39m,\n",
            "    \u001b[33mInfinity\u001b[39m, \u001b[33mInfinity\u001b[39m, \u001b[33mInfinity\u001b[39m, \u001b[33mInfinity\u001b[39m, \u001b[33mInfinity\u001b[39m, \u001b[33mInfinity\u001b[39m,\n",
            "    \u001b[33mInfinity\u001b[39m, \u001b[33mInfinity\u001b[39m, \u001b[33mInfinity\u001b[39m, \u001b[33mInfinity\u001b[39m, \u001b[33mInfinity\u001b[39m, \u001b[33mInfinity\u001b[39m,\n",
            "    \u001b[33mInfinity\u001b[39m, \u001b[33mInfinity\u001b[39m, \u001b[33mInfinity\u001b[39m, \u001b[33mInfinity\u001b[39m, \u001b[33mInfinity\u001b[39m, \u001b[33mInfinity\u001b[39m,\n",
            "    \u001b[33mInfinity\u001b[39m, \u001b[33mInfinity\u001b[39m, \u001b[33mInfinity\u001b[39m, \u001b[33mInfinity\u001b[39m, \u001b[33mInfinity\u001b[39m, \u001b[33mInfinity\u001b[39m,\n",
            "    \u001b[33mInfinity\u001b[39m, \u001b[33mInfinity\u001b[39m, \u001b[33mInfinity\u001b[39m, \u001b[33mInfinity\u001b[39m,\n",
            "    ... 500 more items\n",
            "  ],\n",
            "  [\n",
            "    \u001b[33mInfinity\u001b[39m, \u001b[33mInfinity\u001b[39m, \u001b[33mInfinity\u001b[39m, \u001b[33mInfinity\u001b[39m, \u001b[33mInfinity\u001b[39m, \u001b[33mInfinity\u001b[39m,\n",
            "    \u001b[33mInfinity\u001b[39m, \u001b[33mInfinity\u001b[39m, \u001b[33mInfinity\u001b[39m, \u001b[33mInfinity\u001b[39m, \u001b[33mInfinity\u001b[39m, \u001b[33mInfinity\u001b[39m,\n",
            "    \u001b[33mInfinity\u001b[39m, \u001b[33mInfinity\u001b[39m, \u001b[33mInfinity\u001b[39m, \u001b[33mInfinity\u001b[39m, \u001b[33mInfinity\u001b[39m, \u001b[33mInfinity\u001b[39m,\n",
            "    \u001b[33mInfinity\u001b[39m, \u001b[33mInfinity\u001b[39m, \u001b[33mInfinity\u001b[39m, \u001b[33mInfinity\u001b[39m, \u001b[33mInfinity\u001b[39m, \u001b[33mInfinity\u001b[39m,\n",
            "    \u001b[33mInfinity\u001b[39m, \u001b[33mInfinity\u001b[39m, \u001b[33mInfinity\u001b[39m, \u001b[33mInfinity\u001b[39m, \u001b[33mInfinity\u001b[39m, \u001b[33mInfinity\u001b[39m,\n",
            "    \u001b[33mInfinity\u001b[39m, \u001b[33mInfinity\u001b[39m, \u001b[33mInfinity\u001b[39m, \u001b[33mInfinity\u001b[39m, \u001b[33mInfinity\u001b[39m, \u001b[33mInfinity\u001b[39m,\n",
            "    \u001b[33mInfinity\u001b[39m, \u001b[33mInfinity\u001b[39m, \u001b[33mInfinity\u001b[39m, \u001b[33mInfinity\u001b[39m, \u001b[33mInfinity\u001b[39m, \u001b[33mInfinity\u001b[39m,\n",
            "    \u001b[33mInfinity\u001b[39m, \u001b[33mInfinity\u001b[39m, \u001b[33mInfinity\u001b[39m, \u001b[33mInfinity\u001b[39m, \u001b[33mInfinity\u001b[39m, \u001b[33mInfinity\u001b[39m,\n",
            "    \u001b[33mInfinity\u001b[39m, \u001b[33mInfinity\u001b[39m, \u001b[33mInfinity\u001b[39m, \u001b[33mInfinity\u001b[39m, \u001b[33mInfinity\u001b[39m, \u001b[33mInfinity\u001b[39m,\n",
            "    \u001b[33mInfinity\u001b[39m, \u001b[33mInfinity\u001b[39m, \u001b[33mInfinity\u001b[39m, \u001b[33mInfinity\u001b[39m, \u001b[33mInfinity\u001b[39m, \u001b[33mInfinity\u001b[39m,\n",
            "    \u001b[33mInfinity\u001b[39m, \u001b[33mInfinity\u001b[39m, \u001b[33mInfinity\u001b[39m, \u001b[33mInfinity\u001b[39m, \u001b[33mInfinity\u001b[39m, \u001b[33mInfinity\u001b[39m,\n",
            "    \u001b[33mInfinity\u001b[39m, \u001b[33mInfinity\u001b[39m, \u001b[33mInfinity\u001b[39m, \u001b[33mInfinity\u001b[39m, \u001b[33mInfinity\u001b[39m, \u001b[33mInfinity\u001b[39m,\n",
            "    \u001b[33mInfinity\u001b[39m, \u001b[33mInfinity\u001b[39m, \u001b[33mInfinity\u001b[39m, \u001b[33mInfinity\u001b[39m, \u001b[33mInfinity\u001b[39m, \u001b[33mInfinity\u001b[39m,\n",
            "    \u001b[33mInfinity\u001b[39m, \u001b[33mInfinity\u001b[39m, \u001b[33mInfinity\u001b[39m, \u001b[33mInfinity\u001b[39m, \u001b[33mInfinity\u001b[39m, \u001b[33mInfinity\u001b[39m,\n",
            "    \u001b[33mInfinity\u001b[39m, \u001b[33mInfinity\u001b[39m, \u001b[33mInfinity\u001b[39m, \u001b[33mInfinity\u001b[39m, \u001b[33mInfinity\u001b[39m, \u001b[33mInfinity\u001b[39m,\n",
            "    \u001b[33mInfinity\u001b[39m, \u001b[33mInfinity\u001b[39m, \u001b[33mInfinity\u001b[39m, \u001b[33mInfinity\u001b[39m, \u001b[33mInfinity\u001b[39m, \u001b[33mInfinity\u001b[39m,\n",
            "    \u001b[33mInfinity\u001b[39m, \u001b[33mInfinity\u001b[39m, \u001b[33mInfinity\u001b[39m, \u001b[33mInfinity\u001b[39m,\n",
            "    ... 500 more items\n",
            "  ],\n",
            "  [\n",
            "    \u001b[33mInfinity\u001b[39m, \u001b[33mInfinity\u001b[39m, \u001b[33mInfinity\u001b[39m, \u001b[33mInfinity\u001b[39m, \u001b[33mInfinity\u001b[39m, \u001b[33mInfinity\u001b[39m,\n",
            "    \u001b[33mInfinity\u001b[39m, \u001b[33mInfinity\u001b[39m, \u001b[33mInfinity\u001b[39m, \u001b[33mInfinity\u001b[39m, \u001b[33mInfinity\u001b[39m, \u001b[33mInfinity\u001b[39m,\n",
            "    \u001b[33mInfinity\u001b[39m, \u001b[33mInfinity\u001b[39m, \u001b[33mInfinity\u001b[39m, \u001b[33mInfinity\u001b[39m, \u001b[33mInfinity\u001b[39m, \u001b[33mInfinity\u001b[39m,\n",
            "    \u001b[33mInfinity\u001b[39m, \u001b[33mInfinity\u001b[39m, \u001b[33mInfinity\u001b[39m, \u001b[33mInfinity\u001b[39m, \u001b[33mInfinity\u001b[39m, \u001b[33mInfinity\u001b[39m,\n",
            "    \u001b[33mInfinity\u001b[39m, \u001b[33mInfinity\u001b[39m, \u001b[33mInfinity\u001b[39m, \u001b[33mInfinity\u001b[39m, \u001b[33mInfinity\u001b[39m, \u001b[33mInfinity\u001b[39m,\n",
            "    \u001b[33mInfinity\u001b[39m, \u001b[33mInfinity\u001b[39m, \u001b[33mInfinity\u001b[39m, \u001b[33mInfinity\u001b[39m, \u001b[33mInfinity\u001b[39m, \u001b[33mInfinity\u001b[39m,\n",
            "    \u001b[33mInfinity\u001b[39m, \u001b[33mInfinity\u001b[39m, \u001b[33mInfinity\u001b[39m, \u001b[33mInfinity\u001b[39m, \u001b[33mInfinity\u001b[39m, \u001b[33mInfinity\u001b[39m,\n",
            "    \u001b[33mInfinity\u001b[39m, \u001b[33mInfinity\u001b[39m, \u001b[33mInfinity\u001b[39m, \u001b[33mInfinity\u001b[39m, \u001b[33mInfinity\u001b[39m, \u001b[33mInfinity\u001b[39m,\n",
            "    \u001b[33mInfinity\u001b[39m, \u001b[33mInfinity\u001b[39m, \u001b[33mInfinity\u001b[39m, \u001b[33mInfinity\u001b[39m, \u001b[33mInfinity\u001b[39m, \u001b[33mInfinity\u001b[39m,\n",
            "    \u001b[33mInfinity\u001b[39m, \u001b[33mInfinity\u001b[39m, \u001b[33mInfinity\u001b[39m, \u001b[33mInfinity\u001b[39m, \u001b[33mInfinity\u001b[39m, \u001b[33mInfinity\u001b[39m,\n",
            "    \u001b[33mInfinity\u001b[39m, \u001b[33mInfinity\u001b[39m, \u001b[33mInfinity\u001b[39m, \u001b[33mInfinity\u001b[39m, \u001b[33mInfinity\u001b[39m, \u001b[33mInfinity\u001b[39m,\n",
            "    \u001b[33mInfinity\u001b[39m, \u001b[33mInfinity\u001b[39m, \u001b[33mInfinity\u001b[39m, \u001b[33mInfinity\u001b[39m, \u001b[33mInfinity\u001b[39m, \u001b[33mInfinity\u001b[39m,\n",
            "    \u001b[33mInfinity\u001b[39m, \u001b[33mInfinity\u001b[39m, \u001b[33mInfinity\u001b[39m, \u001b[33mInfinity\u001b[39m, \u001b[33mInfinity\u001b[39m, \u001b[33mInfinity\u001b[39m,\n",
            "    \u001b[33mInfinity\u001b[39m, \u001b[33mInfinity\u001b[39m, \u001b[33mInfinity\u001b[39m, \u001b[33mInfinity\u001b[39m, \u001b[33mInfinity\u001b[39m, \u001b[33mInfinity\u001b[39m,\n",
            "    \u001b[33mInfinity\u001b[39m, \u001b[33mInfinity\u001b[39m, \u001b[33mInfinity\u001b[39m, \u001b[33mInfinity\u001b[39m, \u001b[33mInfinity\u001b[39m, \u001b[33mInfinity\u001b[39m,\n",
            "    \u001b[33mInfinity\u001b[39m, \u001b[33mInfinity\u001b[39m, \u001b[33mInfinity\u001b[39m, \u001b[33mInfinity\u001b[39m, \u001b[33mInfinity\u001b[39m, \u001b[33mInfinity\u001b[39m,\n",
            "    \u001b[33mInfinity\u001b[39m, \u001b[33mInfinity\u001b[39m, \u001b[33mInfinity\u001b[39m, \u001b[33mInfinity\u001b[39m,\n",
            "    ... 500 more items\n",
            "  ],\n",
            "  [\n",
            "    \u001b[33mInfinity\u001b[39m, \u001b[33mInfinity\u001b[39m, \u001b[33mInfinity\u001b[39m, \u001b[33mInfinity\u001b[39m, \u001b[33mInfinity\u001b[39m, \u001b[33mInfinity\u001b[39m,\n",
            "    \u001b[33mInfinity\u001b[39m, \u001b[33mInfinity\u001b[39m, \u001b[33mInfinity\u001b[39m, \u001b[33mInfinity\u001b[39m, \u001b[33mInfinity\u001b[39m, \u001b[33mInfinity\u001b[39m,\n",
            "    \u001b[33mInfinity\u001b[39m, \u001b[33mInfinity\u001b[39m, \u001b[33mInfinity\u001b[39m, \u001b[33mInfinity\u001b[39m, \u001b[33mInfinity\u001b[39m, \u001b[33mInfinity\u001b[39m,\n",
            "    \u001b[33mInfinity\u001b[39m, \u001b[33mInfinity\u001b[39m, \u001b[33mInfinity\u001b[39m, \u001b[33mInfinity\u001b[39m, \u001b[33mInfinity\u001b[39m, \u001b[33mInfinity\u001b[39m,\n",
            "    \u001b[33mInfinity\u001b[39m, \u001b[33mInfinity\u001b[39m, \u001b[33mInfinity\u001b[39m, \u001b[33mInfinity\u001b[39m, \u001b[33mInfinity\u001b[39m, \u001b[33mInfinity\u001b[39m,\n",
            "    \u001b[33mInfinity\u001b[39m, \u001b[33mInfinity\u001b[39m, \u001b[33mInfinity\u001b[39m, \u001b[33mInfinity\u001b[39m, \u001b[33mInfinity\u001b[39m, \u001b[33mInfinity\u001b[39m,\n",
            "    \u001b[33mInfinity\u001b[39m, \u001b[33mInfinity\u001b[39m, \u001b[33mInfinity\u001b[39m, \u001b[33mInfinity\u001b[39m, \u001b[33mInfinity\u001b[39m, \u001b[33mInfinity\u001b[39m,\n",
            "    \u001b[33mInfinity\u001b[39m, \u001b[33mInfinity\u001b[39m, \u001b[33mInfinity\u001b[39m, \u001b[33mInfinity\u001b[39m, \u001b[33mInfinity\u001b[39m, \u001b[33mInfinity\u001b[39m,\n",
            "    \u001b[33mInfinity\u001b[39m, \u001b[33mInfinity\u001b[39m, \u001b[33mInfinity\u001b[39m, \u001b[33mInfinity\u001b[39m, \u001b[33mInfinity\u001b[39m, \u001b[33mInfinity\u001b[39m,\n",
            "    \u001b[33mInfinity\u001b[39m, \u001b[33mInfinity\u001b[39m, \u001b[33mInfinity\u001b[39m, \u001b[33mInfinity\u001b[39m, \u001b[33mInfinity\u001b[39m, \u001b[33mInfinity\u001b[39m,\n",
            "    \u001b[33mInfinity\u001b[39m, \u001b[33mInfinity\u001b[39m, \u001b[33mInfinity\u001b[39m, \u001b[33mInfinity\u001b[39m, \u001b[33mInfinity\u001b[39m, \u001b[33mInfinity\u001b[39m,\n",
            "    \u001b[33mInfinity\u001b[39m, \u001b[33mInfinity\u001b[39m, \u001b[33mInfinity\u001b[39m, \u001b[33mInfinity\u001b[39m, \u001b[33mInfinity\u001b[39m, \u001b[33mInfinity\u001b[39m,\n",
            "    \u001b[33mInfinity\u001b[39m, \u001b[33mInfinity\u001b[39m, \u001b[33mInfinity\u001b[39m, \u001b[33mInfinity\u001b[39m, \u001b[33mInfinity\u001b[39m, \u001b[33mInfinity\u001b[39m,\n",
            "    \u001b[33mInfinity\u001b[39m, \u001b[33mInfinity\u001b[39m, \u001b[33mInfinity\u001b[39m, \u001b[33mInfinity\u001b[39m, \u001b[33mInfinity\u001b[39m, \u001b[33mInfinity\u001b[39m,\n",
            "    \u001b[33mInfinity\u001b[39m, \u001b[33mInfinity\u001b[39m, \u001b[33mInfinity\u001b[39m, \u001b[33mInfinity\u001b[39m, \u001b[33mInfinity\u001b[39m, \u001b[33mInfinity\u001b[39m,\n",
            "    \u001b[33mInfinity\u001b[39m, \u001b[33mInfinity\u001b[39m, \u001b[33mInfinity\u001b[39m, \u001b[33mInfinity\u001b[39m, \u001b[33mInfinity\u001b[39m, \u001b[33mInfinity\u001b[39m,\n",
            "    \u001b[33mInfinity\u001b[39m, \u001b[33mInfinity\u001b[39m, \u001b[33mInfinity\u001b[39m, \u001b[33mInfinity\u001b[39m,\n",
            "    ... 500 more items\n",
            "  ],\n",
            "  [\n",
            "    \u001b[33mInfinity\u001b[39m, \u001b[33mInfinity\u001b[39m, \u001b[33mInfinity\u001b[39m, \u001b[33mInfinity\u001b[39m, \u001b[33mInfinity\u001b[39m, \u001b[33mInfinity\u001b[39m,\n",
            "    \u001b[33mInfinity\u001b[39m, \u001b[33mInfinity\u001b[39m, \u001b[33mInfinity\u001b[39m, \u001b[33mInfinity\u001b[39m, \u001b[33mInfinity\u001b[39m, \u001b[33mInfinity\u001b[39m,\n",
            "    \u001b[33mInfinity\u001b[39m, \u001b[33mInfinity\u001b[39m, \u001b[33mInfinity\u001b[39m, \u001b[33mInfinity\u001b[39m, \u001b[33mInfinity\u001b[39m, \u001b[33mInfinity\u001b[39m,\n",
            "    \u001b[33mInfinity\u001b[39m, \u001b[33mInfinity\u001b[39m, \u001b[33mInfinity\u001b[39m, \u001b[33mInfinity\u001b[39m, \u001b[33mInfinity\u001b[39m, \u001b[33mInfinity\u001b[39m,\n",
            "    \u001b[33mInfinity\u001b[39m, \u001b[33mInfinity\u001b[39m, \u001b[33mInfinity\u001b[39m, \u001b[33mInfinity\u001b[39m, \u001b[33mInfinity\u001b[39m, \u001b[33mInfinity\u001b[39m,\n",
            "    \u001b[33mInfinity\u001b[39m, \u001b[33mInfinity\u001b[39m, \u001b[33mInfinity\u001b[39m, \u001b[33mInfinity\u001b[39m, \u001b[33mInfinity\u001b[39m, \u001b[33mInfinity\u001b[39m,\n",
            "    \u001b[33mInfinity\u001b[39m, \u001b[33mInfinity\u001b[39m, \u001b[33mInfinity\u001b[39m, \u001b[33mInfinity\u001b[39m, \u001b[33mInfinity\u001b[39m, \u001b[33mInfinity\u001b[39m,\n",
            "    \u001b[33mInfinity\u001b[39m, \u001b[33mInfinity\u001b[39m, \u001b[33mInfinity\u001b[39m, \u001b[33mInfinity\u001b[39m, \u001b[33mInfinity\u001b[39m, \u001b[33mInfinity\u001b[39m,\n",
            "    \u001b[33mInfinity\u001b[39m, \u001b[33mInfinity\u001b[39m, \u001b[33mInfinity\u001b[39m, \u001b[33mInfinity\u001b[39m, \u001b[33mInfinity\u001b[39m, \u001b[33mInfinity\u001b[39m,\n",
            "    \u001b[33mInfinity\u001b[39m, \u001b[33mInfinity\u001b[39m, \u001b[33mInfinity\u001b[39m, \u001b[33mInfinity\u001b[39m, \u001b[33mInfinity\u001b[39m, \u001b[33mInfinity\u001b[39m,\n",
            "    \u001b[33mInfinity\u001b[39m, \u001b[33mInfinity\u001b[39m, \u001b[33mInfinity\u001b[39m, \u001b[33mInfinity\u001b[39m, \u001b[33mInfinity\u001b[39m, \u001b[33mInfinity\u001b[39m,\n",
            "    \u001b[33mInfinity\u001b[39m, \u001b[33mInfinity\u001b[39m, \u001b[33mInfinity\u001b[39m, \u001b[33mInfinity\u001b[39m, \u001b[33mInfinity\u001b[39m, \u001b[33mInfinity\u001b[39m,\n",
            "    \u001b[33mInfinity\u001b[39m, \u001b[33mInfinity\u001b[39m, \u001b[33mInfinity\u001b[39m, \u001b[33mInfinity\u001b[39m, \u001b[33mInfinity\u001b[39m, \u001b[33mInfinity\u001b[39m,\n",
            "    \u001b[33mInfinity\u001b[39m, \u001b[33mInfinity\u001b[39m, \u001b[33mInfinity\u001b[39m, \u001b[33mInfinity\u001b[39m, \u001b[33mInfinity\u001b[39m, \u001b[33mInfinity\u001b[39m,\n",
            "    \u001b[33mInfinity\u001b[39m, \u001b[33mInfinity\u001b[39m, \u001b[33mInfinity\u001b[39m, \u001b[33mInfinity\u001b[39m, \u001b[33mInfinity\u001b[39m, \u001b[33mInfinity\u001b[39m,\n",
            "    \u001b[33mInfinity\u001b[39m, \u001b[33mInfinity\u001b[39m, \u001b[33mInfinity\u001b[39m, \u001b[33mInfinity\u001b[39m, \u001b[33mInfinity\u001b[39m, \u001b[33mInfinity\u001b[39m,\n",
            "    \u001b[33mInfinity\u001b[39m, \u001b[33mInfinity\u001b[39m, \u001b[33mInfinity\u001b[39m, \u001b[33mInfinity\u001b[39m,\n",
            "    ... 500 more items\n",
            "  ],\n",
            "  [\n",
            "    \u001b[33mInfinity\u001b[39m, \u001b[33mInfinity\u001b[39m, \u001b[33mInfinity\u001b[39m, \u001b[33mInfinity\u001b[39m, \u001b[33mInfinity\u001b[39m, \u001b[33mInfinity\u001b[39m,\n",
            "    \u001b[33mInfinity\u001b[39m, \u001b[33mInfinity\u001b[39m, \u001b[33mInfinity\u001b[39m, \u001b[33mInfinity\u001b[39m, \u001b[33mInfinity\u001b[39m, \u001b[33mInfinity\u001b[39m,\n",
            "    \u001b[33mInfinity\u001b[39m, \u001b[33mInfinity\u001b[39m, \u001b[33mInfinity\u001b[39m, \u001b[33mInfinity\u001b[39m, \u001b[33mInfinity\u001b[39m, \u001b[33mInfinity\u001b[39m,\n",
            "    \u001b[33mInfinity\u001b[39m, \u001b[33mInfinity\u001b[39m, \u001b[33mInfinity\u001b[39m, \u001b[33mInfinity\u001b[39m, \u001b[33mInfinity\u001b[39m, \u001b[33mInfinity\u001b[39m,\n",
            "    \u001b[33mInfinity\u001b[39m, \u001b[33mInfinity\u001b[39m, \u001b[33mInfinity\u001b[39m, \u001b[33mInfinity\u001b[39m, \u001b[33mInfinity\u001b[39m, \u001b[33mInfinity\u001b[39m,\n",
            "    \u001b[33mInfinity\u001b[39m, \u001b[33mInfinity\u001b[39m, \u001b[33mInfinity\u001b[39m, \u001b[33mInfinity\u001b[39m, \u001b[33mInfinity\u001b[39m, \u001b[33mInfinity\u001b[39m,\n",
            "    \u001b[33mInfinity\u001b[39m, \u001b[33mInfinity\u001b[39m, \u001b[33mInfinity\u001b[39m, \u001b[33mInfinity\u001b[39m, \u001b[33mInfinity\u001b[39m, \u001b[33mInfinity\u001b[39m,\n",
            "    \u001b[33mInfinity\u001b[39m, \u001b[33mInfinity\u001b[39m, \u001b[33mInfinity\u001b[39m, \u001b[33mInfinity\u001b[39m, \u001b[33mInfinity\u001b[39m, \u001b[33mInfinity\u001b[39m,\n",
            "    \u001b[33mInfinity\u001b[39m, \u001b[33mInfinity\u001b[39m, \u001b[33mInfinity\u001b[39m, \u001b[33mInfinity\u001b[39m, \u001b[33mInfinity\u001b[39m, \u001b[33mInfinity\u001b[39m,\n",
            "    \u001b[33mInfinity\u001b[39m, \u001b[33mInfinity\u001b[39m, \u001b[33mInfinity\u001b[39m, \u001b[33mInfinity\u001b[39m, \u001b[33mInfinity\u001b[39m, \u001b[33mInfinity\u001b[39m,\n",
            "    \u001b[33mInfinity\u001b[39m, \u001b[33mInfinity\u001b[39m, \u001b[33mInfinity\u001b[39m, \u001b[33mInfinity\u001b[39m, \u001b[33mInfinity\u001b[39m, \u001b[33mInfinity\u001b[39m,\n",
            "    \u001b[33mInfinity\u001b[39m, \u001b[33mInfinity\u001b[39m, \u001b[33mInfinity\u001b[39m, \u001b[33mInfinity\u001b[39m, \u001b[33mInfinity\u001b[39m, \u001b[33mInfinity\u001b[39m,\n",
            "    \u001b[33mInfinity\u001b[39m, \u001b[33mInfinity\u001b[39m, \u001b[33mInfinity\u001b[39m, \u001b[33mInfinity\u001b[39m, \u001b[33mInfinity\u001b[39m, \u001b[33mInfinity\u001b[39m,\n",
            "    \u001b[33mInfinity\u001b[39m, \u001b[33mInfinity\u001b[39m, \u001b[33mInfinity\u001b[39m, \u001b[33mInfinity\u001b[39m, \u001b[33mInfinity\u001b[39m, \u001b[33mInfinity\u001b[39m,\n",
            "    \u001b[33mInfinity\u001b[39m, \u001b[33mInfinity\u001b[39m, \u001b[33mInfinity\u001b[39m, \u001b[33mInfinity\u001b[39m, \u001b[33mInfinity\u001b[39m, \u001b[33mInfinity\u001b[39m,\n",
            "    \u001b[33mInfinity\u001b[39m, \u001b[33mInfinity\u001b[39m, \u001b[33mInfinity\u001b[39m, \u001b[33mInfinity\u001b[39m, \u001b[33mInfinity\u001b[39m, \u001b[33mInfinity\u001b[39m,\n",
            "    \u001b[33mInfinity\u001b[39m, \u001b[33mInfinity\u001b[39m, \u001b[33mInfinity\u001b[39m, \u001b[33mInfinity\u001b[39m,\n",
            "    ... 500 more items\n",
            "  ],\n",
            "  [\n",
            "    \u001b[33mInfinity\u001b[39m, \u001b[33mInfinity\u001b[39m, \u001b[33mInfinity\u001b[39m, \u001b[33mInfinity\u001b[39m, \u001b[33mInfinity\u001b[39m, \u001b[33mInfinity\u001b[39m,\n",
            "    \u001b[33mInfinity\u001b[39m, \u001b[33mInfinity\u001b[39m, \u001b[33mInfinity\u001b[39m, \u001b[33mInfinity\u001b[39m, \u001b[33mInfinity\u001b[39m, \u001b[33mInfinity\u001b[39m,\n",
            "    \u001b[33mInfinity\u001b[39m, \u001b[33mInfinity\u001b[39m, \u001b[33mInfinity\u001b[39m, \u001b[33mInfinity\u001b[39m, \u001b[33mInfinity\u001b[39m, \u001b[33mInfinity\u001b[39m,\n",
            "    \u001b[33mInfinity\u001b[39m, \u001b[33mInfinity\u001b[39m, \u001b[33mInfinity\u001b[39m, \u001b[33mInfinity\u001b[39m, \u001b[33mInfinity\u001b[39m, \u001b[33mInfinity\u001b[39m,\n",
            "    \u001b[33mInfinity\u001b[39m, \u001b[33mInfinity\u001b[39m, \u001b[33mInfinity\u001b[39m, \u001b[33mInfinity\u001b[39m, \u001b[33mInfinity\u001b[39m, \u001b[33mInfinity\u001b[39m,\n",
            "    \u001b[33mInfinity\u001b[39m, \u001b[33mInfinity\u001b[39m, \u001b[33mInfinity\u001b[39m, \u001b[33mInfinity\u001b[39m, \u001b[33mInfinity\u001b[39m, \u001b[33mInfinity\u001b[39m,\n",
            "    \u001b[33mInfinity\u001b[39m, \u001b[33mInfinity\u001b[39m, \u001b[33mInfinity\u001b[39m, \u001b[33mInfinity\u001b[39m, \u001b[33mInfinity\u001b[39m, \u001b[33mInfinity\u001b[39m,\n",
            "    \u001b[33mInfinity\u001b[39m, \u001b[33mInfinity\u001b[39m, \u001b[33mInfinity\u001b[39m, \u001b[33mInfinity\u001b[39m, \u001b[33mInfinity\u001b[39m, \u001b[33mInfinity\u001b[39m,\n",
            "    \u001b[33mInfinity\u001b[39m, \u001b[33mInfinity\u001b[39m, \u001b[33mInfinity\u001b[39m, \u001b[33mInfinity\u001b[39m, \u001b[33mInfinity\u001b[39m, \u001b[33mInfinity\u001b[39m,\n",
            "    \u001b[33mInfinity\u001b[39m, \u001b[33mInfinity\u001b[39m, \u001b[33mInfinity\u001b[39m, \u001b[33mInfinity\u001b[39m, \u001b[33mInfinity\u001b[39m, \u001b[33mInfinity\u001b[39m,\n",
            "    \u001b[33mInfinity\u001b[39m, \u001b[33mInfinity\u001b[39m, \u001b[33mInfinity\u001b[39m, \u001b[33mInfinity\u001b[39m, \u001b[33mInfinity\u001b[39m, \u001b[33mInfinity\u001b[39m,\n",
            "    \u001b[33mInfinity\u001b[39m, \u001b[33mInfinity\u001b[39m, \u001b[33mInfinity\u001b[39m, \u001b[33mInfinity\u001b[39m, \u001b[33mInfinity\u001b[39m, \u001b[33mInfinity\u001b[39m,\n",
            "    \u001b[33mInfinity\u001b[39m, \u001b[33mInfinity\u001b[39m, \u001b[33mInfinity\u001b[39m, \u001b[33mInfinity\u001b[39m, \u001b[33mInfinity\u001b[39m, \u001b[33mInfinity\u001b[39m,\n",
            "    \u001b[33mInfinity\u001b[39m, \u001b[33mInfinity\u001b[39m, \u001b[33mInfinity\u001b[39m, \u001b[33mInfinity\u001b[39m, \u001b[33mInfinity\u001b[39m, \u001b[33mInfinity\u001b[39m,\n",
            "    \u001b[33mInfinity\u001b[39m, \u001b[33mInfinity\u001b[39m, \u001b[33mInfinity\u001b[39m, \u001b[33mInfinity\u001b[39m, \u001b[33mInfinity\u001b[39m, \u001b[33mInfinity\u001b[39m,\n",
            "    \u001b[33mInfinity\u001b[39m, \u001b[33mInfinity\u001b[39m, \u001b[33mInfinity\u001b[39m, \u001b[33mInfinity\u001b[39m, \u001b[33mInfinity\u001b[39m, \u001b[33mInfinity\u001b[39m,\n",
            "    \u001b[33mInfinity\u001b[39m, \u001b[33mInfinity\u001b[39m, \u001b[33mInfinity\u001b[39m, \u001b[33mInfinity\u001b[39m,\n",
            "    ... 500 more items\n",
            "  ],\n",
            "  [\n",
            "    \u001b[33mInfinity\u001b[39m, \u001b[33mInfinity\u001b[39m, \u001b[33mInfinity\u001b[39m, \u001b[33mInfinity\u001b[39m, \u001b[33mInfinity\u001b[39m, \u001b[33mInfinity\u001b[39m,\n",
            "    \u001b[33mInfinity\u001b[39m, \u001b[33mInfinity\u001b[39m, \u001b[33mInfinity\u001b[39m, \u001b[33mInfinity\u001b[39m, \u001b[33mInfinity\u001b[39m, \u001b[33mInfinity\u001b[39m,\n",
            "    \u001b[33mInfinity\u001b[39m, \u001b[33mInfinity\u001b[39m, \u001b[33mInfinity\u001b[39m, \u001b[33mInfinity\u001b[39m, \u001b[33mInfinity\u001b[39m, \u001b[33mInfinity\u001b[39m,\n",
            "    \u001b[33mInfinity\u001b[39m, \u001b[33mInfinity\u001b[39m, \u001b[33mInfinity\u001b[39m, \u001b[33mInfinity\u001b[39m, \u001b[33mInfinity\u001b[39m, \u001b[33mInfinity\u001b[39m,\n",
            "    \u001b[33mInfinity\u001b[39m, \u001b[33mInfinity\u001b[39m, \u001b[33mInfinity\u001b[39m, \u001b[33mInfinity\u001b[39m, \u001b[33mInfinity\u001b[39m, \u001b[33mInfinity\u001b[39m,\n",
            "    \u001b[33mInfinity\u001b[39m, \u001b[33mInfinity\u001b[39m, \u001b[33mInfinity\u001b[39m, \u001b[33mInfinity\u001b[39m, \u001b[33mInfinity\u001b[39m, \u001b[33mInfinity\u001b[39m,\n",
            "    \u001b[33mInfinity\u001b[39m, \u001b[33mInfinity\u001b[39m, \u001b[33mInfinity\u001b[39m, \u001b[33mInfinity\u001b[39m, \u001b[33mInfinity\u001b[39m, \u001b[33mInfinity\u001b[39m,\n",
            "    \u001b[33mInfinity\u001b[39m, \u001b[33mInfinity\u001b[39m, \u001b[33mInfinity\u001b[39m, \u001b[33mInfinity\u001b[39m, \u001b[33mInfinity\u001b[39m, \u001b[33mInfinity\u001b[39m,\n",
            "    \u001b[33mInfinity\u001b[39m, \u001b[33mInfinity\u001b[39m, \u001b[33mInfinity\u001b[39m, \u001b[33mInfinity\u001b[39m, \u001b[33mInfinity\u001b[39m, \u001b[33mInfinity\u001b[39m,\n",
            "    \u001b[33mInfinity\u001b[39m, \u001b[33mInfinity\u001b[39m, \u001b[33mInfinity\u001b[39m, \u001b[33mInfinity\u001b[39m, \u001b[33mInfinity\u001b[39m, \u001b[33mInfinity\u001b[39m,\n",
            "    \u001b[33mInfinity\u001b[39m, \u001b[33mInfinity\u001b[39m, \u001b[33mInfinity\u001b[39m, \u001b[33mInfinity\u001b[39m, \u001b[33mInfinity\u001b[39m, \u001b[33mInfinity\u001b[39m,\n",
            "    \u001b[33mInfinity\u001b[39m, \u001b[33mInfinity\u001b[39m, \u001b[33mInfinity\u001b[39m, \u001b[33mInfinity\u001b[39m, \u001b[33mInfinity\u001b[39m, \u001b[33mInfinity\u001b[39m,\n",
            "    \u001b[33mInfinity\u001b[39m, \u001b[33mInfinity\u001b[39m, \u001b[33mInfinity\u001b[39m, \u001b[33mInfinity\u001b[39m, \u001b[33mInfinity\u001b[39m, \u001b[33mInfinity\u001b[39m,\n",
            "    \u001b[33mInfinity\u001b[39m, \u001b[33mInfinity\u001b[39m, \u001b[33mInfinity\u001b[39m, \u001b[33mInfinity\u001b[39m, \u001b[33mInfinity\u001b[39m, \u001b[33mInfinity\u001b[39m,\n",
            "    \u001b[33mInfinity\u001b[39m, \u001b[33mInfinity\u001b[39m, \u001b[33mInfinity\u001b[39m, \u001b[33mInfinity\u001b[39m, \u001b[33mInfinity\u001b[39m, \u001b[33mInfinity\u001b[39m,\n",
            "    \u001b[33mInfinity\u001b[39m, \u001b[33mInfinity\u001b[39m, \u001b[33mInfinity\u001b[39m, \u001b[33mInfinity\u001b[39m, \u001b[33mInfinity\u001b[39m, \u001b[33mInfinity\u001b[39m,\n",
            "    \u001b[33mInfinity\u001b[39m, \u001b[33mInfinity\u001b[39m, \u001b[33mInfinity\u001b[39m, \u001b[33mInfinity\u001b[39m,\n",
            "    ... 500 more items\n",
            "  ],\n",
            "  [\n",
            "    \u001b[33mInfinity\u001b[39m, \u001b[33mInfinity\u001b[39m, \u001b[33mInfinity\u001b[39m, \u001b[33mInfinity\u001b[39m, \u001b[33mInfinity\u001b[39m, \u001b[33mInfinity\u001b[39m,\n",
            "    \u001b[33mInfinity\u001b[39m, \u001b[33mInfinity\u001b[39m, \u001b[33mInfinity\u001b[39m, \u001b[33mInfinity\u001b[39m, \u001b[33mInfinity\u001b[39m, \u001b[33mInfinity\u001b[39m,\n",
            "    \u001b[33mInfinity\u001b[39m, \u001b[33mInfinity\u001b[39m, \u001b[33mInfinity\u001b[39m, \u001b[33mInfinity\u001b[39m, \u001b[33mInfinity\u001b[39m, \u001b[33mInfinity\u001b[39m,\n",
            "    \u001b[33mInfinity\u001b[39m, \u001b[33mInfinity\u001b[39m, \u001b[33mInfinity\u001b[39m, \u001b[33mInfinity\u001b[39m, \u001b[33mInfinity\u001b[39m, \u001b[33mInfinity\u001b[39m,\n",
            "    \u001b[33mInfinity\u001b[39m, \u001b[33mInfinity\u001b[39m, \u001b[33mInfinity\u001b[39m, \u001b[33mInfinity\u001b[39m, \u001b[33mInfinity\u001b[39m, \u001b[33mInfinity\u001b[39m,\n",
            "    \u001b[33mInfinity\u001b[39m, \u001b[33mInfinity\u001b[39m, \u001b[33mInfinity\u001b[39m, \u001b[33mInfinity\u001b[39m, \u001b[33mInfinity\u001b[39m, \u001b[33mInfinity\u001b[39m,\n",
            "    \u001b[33mInfinity\u001b[39m, \u001b[33mInfinity\u001b[39m, \u001b[33mInfinity\u001b[39m, \u001b[33mInfinity\u001b[39m, \u001b[33mInfinity\u001b[39m, \u001b[33mInfinity\u001b[39m,\n",
            "    \u001b[33mInfinity\u001b[39m, \u001b[33mInfinity\u001b[39m, \u001b[33mInfinity\u001b[39m, \u001b[33mInfinity\u001b[39m, \u001b[33mInfinity\u001b[39m, \u001b[33mInfinity\u001b[39m,\n",
            "    \u001b[33mInfinity\u001b[39m, \u001b[33mInfinity\u001b[39m, \u001b[33mInfinity\u001b[39m, \u001b[33mInfinity\u001b[39m, \u001b[33mInfinity\u001b[39m, \u001b[33mInfinity\u001b[39m,\n",
            "    \u001b[33mInfinity\u001b[39m, \u001b[33mInfinity\u001b[39m, \u001b[33mInfinity\u001b[39m, \u001b[33mInfinity\u001b[39m, \u001b[33mInfinity\u001b[39m, \u001b[33mInfinity\u001b[39m,\n",
            "    \u001b[33mInfinity\u001b[39m, \u001b[33mInfinity\u001b[39m, \u001b[33mInfinity\u001b[39m, \u001b[33mInfinity\u001b[39m, \u001b[33mInfinity\u001b[39m, \u001b[33mInfinity\u001b[39m,\n",
            "    \u001b[33mInfinity\u001b[39m, \u001b[33mInfinity\u001b[39m, \u001b[33mInfinity\u001b[39m, \u001b[33mInfinity\u001b[39m, \u001b[33mInfinity\u001b[39m, \u001b[33mInfinity\u001b[39m,\n",
            "    \u001b[33mInfinity\u001b[39m, \u001b[33mInfinity\u001b[39m, \u001b[33mInfinity\u001b[39m, \u001b[33mInfinity\u001b[39m, \u001b[33mInfinity\u001b[39m, \u001b[33mInfinity\u001b[39m,\n",
            "    \u001b[33mInfinity\u001b[39m, \u001b[33mInfinity\u001b[39m, \u001b[33mInfinity\u001b[39m, \u001b[33mInfinity\u001b[39m, \u001b[33mInfinity\u001b[39m, \u001b[33mInfinity\u001b[39m,\n",
            "    \u001b[33mInfinity\u001b[39m, \u001b[33mInfinity\u001b[39m, \u001b[33mInfinity\u001b[39m, \u001b[33mInfinity\u001b[39m, \u001b[33mInfinity\u001b[39m, \u001b[33mInfinity\u001b[39m,\n",
            "    \u001b[33mInfinity\u001b[39m, \u001b[33mInfinity\u001b[39m, \u001b[33mInfinity\u001b[39m, \u001b[33mInfinity\u001b[39m, \u001b[33mInfinity\u001b[39m, \u001b[33mInfinity\u001b[39m,\n",
            "    \u001b[33mInfinity\u001b[39m, \u001b[33mInfinity\u001b[39m, \u001b[33mInfinity\u001b[39m, \u001b[33mInfinity\u001b[39m,\n",
            "    ... 500 more items\n",
            "  ],\n",
            "  [\n",
            "    \u001b[33mInfinity\u001b[39m, \u001b[33mInfinity\u001b[39m, \u001b[33mInfinity\u001b[39m, \u001b[33mInfinity\u001b[39m, \u001b[33mInfinity\u001b[39m, \u001b[33mInfinity\u001b[39m,\n",
            "    \u001b[33mInfinity\u001b[39m, \u001b[33mInfinity\u001b[39m, \u001b[33mInfinity\u001b[39m, \u001b[33mInfinity\u001b[39m, \u001b[33mInfinity\u001b[39m, \u001b[33mInfinity\u001b[39m,\n",
            "    \u001b[33mInfinity\u001b[39m, \u001b[33mInfinity\u001b[39m, \u001b[33mInfinity\u001b[39m, \u001b[33mInfinity\u001b[39m, \u001b[33mInfinity\u001b[39m, \u001b[33mInfinity\u001b[39m,\n",
            "    \u001b[33mInfinity\u001b[39m, \u001b[33mInfinity\u001b[39m, \u001b[33mInfinity\u001b[39m, \u001b[33mInfinity\u001b[39m, \u001b[33mInfinity\u001b[39m, \u001b[33mInfinity\u001b[39m,\n",
            "    \u001b[33mInfinity\u001b[39m, \u001b[33mInfinity\u001b[39m, \u001b[33mInfinity\u001b[39m, \u001b[33mInfinity\u001b[39m, \u001b[33mInfinity\u001b[39m, \u001b[33mInfinity\u001b[39m,\n",
            "    \u001b[33mInfinity\u001b[39m, \u001b[33mInfinity\u001b[39m, \u001b[33mInfinity\u001b[39m, \u001b[33mInfinity\u001b[39m, \u001b[33mInfinity\u001b[39m, \u001b[33mInfinity\u001b[39m,\n",
            "    \u001b[33mInfinity\u001b[39m, \u001b[33mInfinity\u001b[39m, \u001b[33mInfinity\u001b[39m, \u001b[33mInfinity\u001b[39m, \u001b[33mInfinity\u001b[39m, \u001b[33mInfinity\u001b[39m,\n",
            "    \u001b[33mInfinity\u001b[39m, \u001b[33mInfinity\u001b[39m, \u001b[33mInfinity\u001b[39m, \u001b[33mInfinity\u001b[39m, \u001b[33mInfinity\u001b[39m, \u001b[33mInfinity\u001b[39m,\n",
            "    \u001b[33mInfinity\u001b[39m, \u001b[33mInfinity\u001b[39m, \u001b[33mInfinity\u001b[39m, \u001b[33mInfinity\u001b[39m, \u001b[33mInfinity\u001b[39m, \u001b[33mInfinity\u001b[39m,\n",
            "    \u001b[33mInfinity\u001b[39m, \u001b[33mInfinity\u001b[39m, \u001b[33mInfinity\u001b[39m, \u001b[33mInfinity\u001b[39m, \u001b[33mInfinity\u001b[39m, \u001b[33mInfinity\u001b[39m,\n",
            "    \u001b[33mInfinity\u001b[39m, \u001b[33mInfinity\u001b[39m, \u001b[33mInfinity\u001b[39m, \u001b[33mInfinity\u001b[39m, \u001b[33mInfinity\u001b[39m, \u001b[33mInfinity\u001b[39m,\n",
            "    \u001b[33mInfinity\u001b[39m, \u001b[33mInfinity\u001b[39m, \u001b[33mInfinity\u001b[39m, \u001b[33mInfinity\u001b[39m, \u001b[33mInfinity\u001b[39m, \u001b[33mInfinity\u001b[39m,\n",
            "    \u001b[33mInfinity\u001b[39m, \u001b[33mInfinity\u001b[39m, \u001b[33mInfinity\u001b[39m, \u001b[33mInfinity\u001b[39m, \u001b[33mInfinity\u001b[39m, \u001b[33mInfinity\u001b[39m,\n",
            "    \u001b[33mInfinity\u001b[39m, \u001b[33mInfinity\u001b[39m, \u001b[33mInfinity\u001b[39m, \u001b[33mInfinity\u001b[39m, \u001b[33mInfinity\u001b[39m, \u001b[33mInfinity\u001b[39m,\n",
            "    \u001b[33mInfinity\u001b[39m, \u001b[33mInfinity\u001b[39m, \u001b[33mInfinity\u001b[39m, \u001b[33mInfinity\u001b[39m, \u001b[33mInfinity\u001b[39m, \u001b[33mInfinity\u001b[39m,\n",
            "    \u001b[33mInfinity\u001b[39m, \u001b[33mInfinity\u001b[39m, \u001b[33mInfinity\u001b[39m, \u001b[33mInfinity\u001b[39m, \u001b[33mInfinity\u001b[39m, \u001b[33mInfinity\u001b[39m,\n",
            "    \u001b[33mInfinity\u001b[39m, \u001b[33mInfinity\u001b[39m, \u001b[33mInfinity\u001b[39m, \u001b[33mInfinity\u001b[39m,\n",
            "    ... 500 more items\n",
            "  ],\n",
            "  [\n",
            "    \u001b[33mInfinity\u001b[39m, \u001b[33mInfinity\u001b[39m, \u001b[33mInfinity\u001b[39m, \u001b[33mInfinity\u001b[39m, \u001b[33mInfinity\u001b[39m, \u001b[33mInfinity\u001b[39m,\n",
            "    \u001b[33mInfinity\u001b[39m, \u001b[33mInfinity\u001b[39m, \u001b[33mInfinity\u001b[39m, \u001b[33mInfinity\u001b[39m, \u001b[33mInfinity\u001b[39m, \u001b[33mInfinity\u001b[39m,\n",
            "    \u001b[33mInfinity\u001b[39m, \u001b[33mInfinity\u001b[39m, \u001b[33mInfinity\u001b[39m, \u001b[33mInfinity\u001b[39m, \u001b[33mInfinity\u001b[39m, \u001b[33mInfinity\u001b[39m,\n",
            "    \u001b[33mInfinity\u001b[39m, \u001b[33mInfinity\u001b[39m, \u001b[33mInfinity\u001b[39m, \u001b[33mInfinity\u001b[39m, \u001b[33mInfinity\u001b[39m, \u001b[33mInfinity\u001b[39m,\n",
            "    \u001b[33mInfinity\u001b[39m, \u001b[33mInfinity\u001b[39m, \u001b[33mInfinity\u001b[39m, \u001b[33mInfinity\u001b[39m, \u001b[33mInfinity\u001b[39m, \u001b[33mInfinity\u001b[39m,\n",
            "    \u001b[33mInfinity\u001b[39m, \u001b[33mInfinity\u001b[39m, \u001b[33mInfinity\u001b[39m, \u001b[33mInfinity\u001b[39m, \u001b[33mInfinity\u001b[39m, \u001b[33mInfinity\u001b[39m,\n",
            "    \u001b[33mInfinity\u001b[39m, \u001b[33mInfinity\u001b[39m, \u001b[33mInfinity\u001b[39m, \u001b[33mInfinity\u001b[39m, \u001b[33mInfinity\u001b[39m, \u001b[33mInfinity\u001b[39m,\n",
            "    \u001b[33mInfinity\u001b[39m, \u001b[33mInfinity\u001b[39m, \u001b[33mInfinity\u001b[39m, \u001b[33mInfinity\u001b[39m, \u001b[33mInfinity\u001b[39m, \u001b[33mInfinity\u001b[39m,\n",
            "    \u001b[33mInfinity\u001b[39m, \u001b[33mInfinity\u001b[39m, \u001b[33mInfinity\u001b[39m, \u001b[33mInfinity\u001b[39m, \u001b[33mInfinity\u001b[39m, \u001b[33mInfinity\u001b[39m,\n",
            "    \u001b[33mInfinity\u001b[39m, \u001b[33mInfinity\u001b[39m, \u001b[33mInfinity\u001b[39m, \u001b[33mInfinity\u001b[39m, \u001b[33mInfinity\u001b[39m, \u001b[33mInfinity\u001b[39m,\n",
            "    \u001b[33mInfinity\u001b[39m, \u001b[33mInfinity\u001b[39m, \u001b[33mInfinity\u001b[39m, \u001b[33mInfinity\u001b[39m, \u001b[33mInfinity\u001b[39m, \u001b[33mInfinity\u001b[39m,\n",
            "    \u001b[33mInfinity\u001b[39m, \u001b[33mInfinity\u001b[39m, \u001b[33mInfinity\u001b[39m, \u001b[33mInfinity\u001b[39m, \u001b[33mInfinity\u001b[39m, \u001b[33mInfinity\u001b[39m,\n",
            "    \u001b[33mInfinity\u001b[39m, \u001b[33mInfinity\u001b[39m, \u001b[33mInfinity\u001b[39m, \u001b[33mInfinity\u001b[39m, \u001b[33mInfinity\u001b[39m, \u001b[33mInfinity\u001b[39m,\n",
            "    \u001b[33mInfinity\u001b[39m, \u001b[33mInfinity\u001b[39m, \u001b[33mInfinity\u001b[39m, \u001b[33mInfinity\u001b[39m, \u001b[33mInfinity\u001b[39m, \u001b[33mInfinity\u001b[39m,\n",
            "    \u001b[33mInfinity\u001b[39m, \u001b[33mInfinity\u001b[39m, \u001b[33mInfinity\u001b[39m, \u001b[33mInfinity\u001b[39m, \u001b[33mInfinity\u001b[39m, \u001b[33mInfinity\u001b[39m,\n",
            "    \u001b[33mInfinity\u001b[39m, \u001b[33mInfinity\u001b[39m, \u001b[33mInfinity\u001b[39m, \u001b[33mInfinity\u001b[39m, \u001b[33mInfinity\u001b[39m, \u001b[33mInfinity\u001b[39m,\n",
            "    \u001b[33mInfinity\u001b[39m, \u001b[33mInfinity\u001b[39m, \u001b[33mInfinity\u001b[39m, \u001b[33mInfinity\u001b[39m,\n",
            "    ... 500 more items\n",
            "  ],\n",
            "  [\n",
            "    \u001b[33mInfinity\u001b[39m, \u001b[33mInfinity\u001b[39m, \u001b[33mInfinity\u001b[39m, \u001b[33mInfinity\u001b[39m, \u001b[33mInfinity\u001b[39m, \u001b[33mInfinity\u001b[39m,\n",
            "    \u001b[33mInfinity\u001b[39m, \u001b[33mInfinity\u001b[39m, \u001b[33mInfinity\u001b[39m, \u001b[33mInfinity\u001b[39m, \u001b[33mInfinity\u001b[39m, \u001b[33mInfinity\u001b[39m,\n",
            "    \u001b[33mInfinity\u001b[39m, \u001b[33mInfinity\u001b[39m, \u001b[33mInfinity\u001b[39m, \u001b[33mInfinity\u001b[39m, \u001b[33mInfinity\u001b[39m, \u001b[33mInfinity\u001b[39m,\n",
            "    \u001b[33mInfinity\u001b[39m, \u001b[33mInfinity\u001b[39m, \u001b[33mInfinity\u001b[39m, \u001b[33mInfinity\u001b[39m, \u001b[33mInfinity\u001b[39m, \u001b[33mInfinity\u001b[39m,\n",
            "    \u001b[33mInfinity\u001b[39m, \u001b[33mInfinity\u001b[39m, \u001b[33mInfinity\u001b[39m, \u001b[33mInfinity\u001b[39m, \u001b[33mInfinity\u001b[39m, \u001b[33mInfinity\u001b[39m,\n",
            "    \u001b[33mInfinity\u001b[39m, \u001b[33mInfinity\u001b[39m, \u001b[33mInfinity\u001b[39m, \u001b[33mInfinity\u001b[39m, \u001b[33mInfinity\u001b[39m, \u001b[33mInfinity\u001b[39m,\n",
            "    \u001b[33mInfinity\u001b[39m, \u001b[33mInfinity\u001b[39m, \u001b[33mInfinity\u001b[39m, \u001b[33mInfinity\u001b[39m, \u001b[33mInfinity\u001b[39m, \u001b[33mInfinity\u001b[39m,\n",
            "    \u001b[33mInfinity\u001b[39m, \u001b[33mInfinity\u001b[39m, \u001b[33mInfinity\u001b[39m, \u001b[33mInfinity\u001b[39m, \u001b[33mInfinity\u001b[39m, \u001b[33mInfinity\u001b[39m,\n",
            "    \u001b[33mInfinity\u001b[39m, \u001b[33mInfinity\u001b[39m, \u001b[33mInfinity\u001b[39m, \u001b[33mInfinity\u001b[39m, \u001b[33mInfinity\u001b[39m, \u001b[33mInfinity\u001b[39m,\n",
            "    \u001b[33mInfinity\u001b[39m, \u001b[33mInfinity\u001b[39m, \u001b[33mInfinity\u001b[39m, \u001b[33mInfinity\u001b[39m, \u001b[33mInfinity\u001b[39m, \u001b[33mInfinity\u001b[39m,\n",
            "    \u001b[33mInfinity\u001b[39m, \u001b[33mInfinity\u001b[39m, \u001b[33mInfinity\u001b[39m, \u001b[33mInfinity\u001b[39m, \u001b[33mInfinity\u001b[39m, \u001b[33mInfinity\u001b[39m,\n",
            "    \u001b[33mInfinity\u001b[39m, \u001b[33mInfinity\u001b[39m, \u001b[33mInfinity\u001b[39m, \u001b[33mInfinity\u001b[39m, \u001b[33mInfinity\u001b[39m, \u001b[33mInfinity\u001b[39m,\n",
            "    \u001b[33mInfinity\u001b[39m, \u001b[33mInfinity\u001b[39m, \u001b[33mInfinity\u001b[39m, \u001b[33mInfinity\u001b[39m, \u001b[33mInfinity\u001b[39m, \u001b[33mInfinity\u001b[39m,\n",
            "    \u001b[33mInfinity\u001b[39m, \u001b[33mInfinity\u001b[39m, \u001b[33mInfinity\u001b[39m, \u001b[33mInfinity\u001b[39m, \u001b[33mInfinity\u001b[39m, \u001b[33mInfinity\u001b[39m,\n",
            "    \u001b[33mInfinity\u001b[39m, \u001b[33mInfinity\u001b[39m, \u001b[33mInfinity\u001b[39m, \u001b[33mInfinity\u001b[39m, \u001b[33mInfinity\u001b[39m, \u001b[33mInfinity\u001b[39m,\n",
            "    \u001b[33mInfinity\u001b[39m, \u001b[33mInfinity\u001b[39m, \u001b[33mInfinity\u001b[39m, \u001b[33mInfinity\u001b[39m, \u001b[33mInfinity\u001b[39m, \u001b[33mInfinity\u001b[39m,\n",
            "    \u001b[33mInfinity\u001b[39m, \u001b[33mInfinity\u001b[39m, \u001b[33mInfinity\u001b[39m, \u001b[33mInfinity\u001b[39m,\n",
            "    ... 500 more items\n",
            "  ],\n",
            "  [\n",
            "    \u001b[33mInfinity\u001b[39m, \u001b[33mInfinity\u001b[39m, \u001b[33mInfinity\u001b[39m, \u001b[33mInfinity\u001b[39m, \u001b[33mInfinity\u001b[39m, \u001b[33mInfinity\u001b[39m,\n",
            "    \u001b[33mInfinity\u001b[39m, \u001b[33mInfinity\u001b[39m, \u001b[33mInfinity\u001b[39m, \u001b[33mInfinity\u001b[39m, \u001b[33mInfinity\u001b[39m, \u001b[33mInfinity\u001b[39m,\n",
            "    \u001b[33mInfinity\u001b[39m, \u001b[33mInfinity\u001b[39m, \u001b[33mInfinity\u001b[39m, \u001b[33mInfinity\u001b[39m, \u001b[33mInfinity\u001b[39m, \u001b[33mInfinity\u001b[39m,\n",
            "    \u001b[33mInfinity\u001b[39m, \u001b[33mInfinity\u001b[39m, \u001b[33mInfinity\u001b[39m, \u001b[33mInfinity\u001b[39m, \u001b[33mInfinity\u001b[39m, \u001b[33mInfinity\u001b[39m,\n",
            "    \u001b[33mInfinity\u001b[39m, \u001b[33mInfinity\u001b[39m, \u001b[33mInfinity\u001b[39m, \u001b[33mInfinity\u001b[39m, \u001b[33mInfinity\u001b[39m, \u001b[33mInfinity\u001b[39m,\n",
            "    \u001b[33mInfinity\u001b[39m, \u001b[33mInfinity\u001b[39m, \u001b[33mInfinity\u001b[39m, \u001b[33mInfinity\u001b[39m, \u001b[33mInfinity\u001b[39m, \u001b[33mInfinity\u001b[39m,\n",
            "    \u001b[33mInfinity\u001b[39m, \u001b[33mInfinity\u001b[39m, \u001b[33mInfinity\u001b[39m, \u001b[33mInfinity\u001b[39m, \u001b[33mInfinity\u001b[39m, \u001b[33mInfinity\u001b[39m,\n",
            "    \u001b[33mInfinity\u001b[39m, \u001b[33mInfinity\u001b[39m, \u001b[33mInfinity\u001b[39m, \u001b[33mInfinity\u001b[39m, \u001b[33mInfinity\u001b[39m, \u001b[33mInfinity\u001b[39m,\n",
            "    \u001b[33mInfinity\u001b[39m, \u001b[33mInfinity\u001b[39m, \u001b[33mInfinity\u001b[39m, \u001b[33mInfinity\u001b[39m, \u001b[33mInfinity\u001b[39m, \u001b[33mInfinity\u001b[39m,\n",
            "    \u001b[33mInfinity\u001b[39m, \u001b[33mInfinity\u001b[39m, \u001b[33mInfinity\u001b[39m, \u001b[33mInfinity\u001b[39m, \u001b[33mInfinity\u001b[39m, \u001b[33mInfinity\u001b[39m,\n",
            "    \u001b[33mInfinity\u001b[39m, \u001b[33mInfinity\u001b[39m, \u001b[33mInfinity\u001b[39m, \u001b[33mInfinity\u001b[39m, \u001b[33mInfinity\u001b[39m, \u001b[33mInfinity\u001b[39m,\n",
            "    \u001b[33mInfinity\u001b[39m, \u001b[33mInfinity\u001b[39m, \u001b[33mInfinity\u001b[39m, \u001b[33mInfinity\u001b[39m, \u001b[33mInfinity\u001b[39m, \u001b[33mInfinity\u001b[39m,\n",
            "    \u001b[33mInfinity\u001b[39m, \u001b[33mInfinity\u001b[39m, \u001b[33mInfinity\u001b[39m, \u001b[33mInfinity\u001b[39m, \u001b[33mInfinity\u001b[39m, \u001b[33mInfinity\u001b[39m,\n",
            "    \u001b[33mInfinity\u001b[39m, \u001b[33mInfinity\u001b[39m, \u001b[33mInfinity\u001b[39m, \u001b[33mInfinity\u001b[39m, \u001b[33mInfinity\u001b[39m, \u001b[33mInfinity\u001b[39m,\n",
            "    \u001b[33mInfinity\u001b[39m, \u001b[33mInfinity\u001b[39m, \u001b[33mInfinity\u001b[39m, \u001b[33mInfinity\u001b[39m, \u001b[33mInfinity\u001b[39m, \u001b[33mInfinity\u001b[39m,\n",
            "    \u001b[33mInfinity\u001b[39m, \u001b[33mInfinity\u001b[39m, \u001b[33mInfinity\u001b[39m, \u001b[33mInfinity\u001b[39m, \u001b[33mInfinity\u001b[39m, \u001b[33mInfinity\u001b[39m,\n",
            "    \u001b[33mInfinity\u001b[39m, \u001b[33mInfinity\u001b[39m, \u001b[33mInfinity\u001b[39m, \u001b[33mInfinity\u001b[39m,\n",
            "    ... 500 more items\n",
            "  ],\n",
            "  [\n",
            "    \u001b[33mInfinity\u001b[39m, \u001b[33mInfinity\u001b[39m, \u001b[33mInfinity\u001b[39m, \u001b[33mInfinity\u001b[39m, \u001b[33mInfinity\u001b[39m, \u001b[33mInfinity\u001b[39m,\n",
            "    \u001b[33mInfinity\u001b[39m, \u001b[33mInfinity\u001b[39m, \u001b[33mInfinity\u001b[39m, \u001b[33mInfinity\u001b[39m, \u001b[33mInfinity\u001b[39m, \u001b[33mInfinity\u001b[39m,\n",
            "    \u001b[33mInfinity\u001b[39m, \u001b[33mInfinity\u001b[39m, \u001b[33mInfinity\u001b[39m, \u001b[33mInfinity\u001b[39m, \u001b[33mInfinity\u001b[39m, \u001b[33mInfinity\u001b[39m,\n",
            "    \u001b[33mInfinity\u001b[39m, \u001b[33mInfinity\u001b[39m, \u001b[33mInfinity\u001b[39m, \u001b[33mInfinity\u001b[39m, \u001b[33mInfinity\u001b[39m, \u001b[33mInfinity\u001b[39m,\n",
            "    \u001b[33mInfinity\u001b[39m, \u001b[33mInfinity\u001b[39m, \u001b[33mInfinity\u001b[39m, \u001b[33mInfinity\u001b[39m, \u001b[33mInfinity\u001b[39m, \u001b[33mInfinity\u001b[39m,\n",
            "    \u001b[33mInfinity\u001b[39m, \u001b[33mInfinity\u001b[39m, \u001b[33mInfinity\u001b[39m, \u001b[33mInfinity\u001b[39m, \u001b[33mInfinity\u001b[39m, \u001b[33mInfinity\u001b[39m,\n",
            "    \u001b[33mInfinity\u001b[39m, \u001b[33mInfinity\u001b[39m, \u001b[33mInfinity\u001b[39m, \u001b[33mInfinity\u001b[39m, \u001b[33mInfinity\u001b[39m, \u001b[33mInfinity\u001b[39m,\n",
            "    \u001b[33mInfinity\u001b[39m, \u001b[33mInfinity\u001b[39m, \u001b[33mInfinity\u001b[39m, \u001b[33mInfinity\u001b[39m, \u001b[33mInfinity\u001b[39m, \u001b[33mInfinity\u001b[39m,\n",
            "    \u001b[33mInfinity\u001b[39m, \u001b[33mInfinity\u001b[39m, \u001b[33mInfinity\u001b[39m, \u001b[33mInfinity\u001b[39m, \u001b[33mInfinity\u001b[39m, \u001b[33mInfinity\u001b[39m,\n",
            "    \u001b[33mInfinity\u001b[39m, \u001b[33mInfinity\u001b[39m, \u001b[33mInfinity\u001b[39m, \u001b[33mInfinity\u001b[39m, \u001b[33mInfinity\u001b[39m, \u001b[33mInfinity\u001b[39m,\n",
            "    \u001b[33mInfinity\u001b[39m, \u001b[33mInfinity\u001b[39m, \u001b[33mInfinity\u001b[39m, \u001b[33mInfinity\u001b[39m, \u001b[33mInfinity\u001b[39m, \u001b[33mInfinity\u001b[39m,\n",
            "    \u001b[33mInfinity\u001b[39m, \u001b[33mInfinity\u001b[39m, \u001b[33mInfinity\u001b[39m, \u001b[33mInfinity\u001b[39m, \u001b[33mInfinity\u001b[39m, \u001b[33mInfinity\u001b[39m,\n",
            "    \u001b[33mInfinity\u001b[39m, \u001b[33mInfinity\u001b[39m, \u001b[33mInfinity\u001b[39m, \u001b[33mInfinity\u001b[39m, \u001b[33mInfinity\u001b[39m, \u001b[33mInfinity\u001b[39m,\n",
            "    \u001b[33mInfinity\u001b[39m, \u001b[33mInfinity\u001b[39m, \u001b[33mInfinity\u001b[39m, \u001b[33mInfinity\u001b[39m, \u001b[33mInfinity\u001b[39m, \u001b[33mInfinity\u001b[39m,\n",
            "    \u001b[33mInfinity\u001b[39m, \u001b[33mInfinity\u001b[39m, \u001b[33mInfinity\u001b[39m, \u001b[33mInfinity\u001b[39m, \u001b[33mInfinity\u001b[39m, \u001b[33mInfinity\u001b[39m,\n",
            "    \u001b[33mInfinity\u001b[39m, \u001b[33mInfinity\u001b[39m, \u001b[33mInfinity\u001b[39m, \u001b[33mInfinity\u001b[39m, \u001b[33mInfinity\u001b[39m, \u001b[33mInfinity\u001b[39m,\n",
            "    \u001b[33mInfinity\u001b[39m, \u001b[33mInfinity\u001b[39m, \u001b[33mInfinity\u001b[39m, \u001b[33mInfinity\u001b[39m,\n",
            "    ... 500 more items\n",
            "  ],\n",
            "  [\n",
            "    \u001b[33mInfinity\u001b[39m, \u001b[33mInfinity\u001b[39m, \u001b[33mInfinity\u001b[39m, \u001b[33mInfinity\u001b[39m, \u001b[33mInfinity\u001b[39m, \u001b[33mInfinity\u001b[39m,\n",
            "    \u001b[33mInfinity\u001b[39m, \u001b[33mInfinity\u001b[39m, \u001b[33mInfinity\u001b[39m, \u001b[33mInfinity\u001b[39m, \u001b[33mInfinity\u001b[39m, \u001b[33mInfinity\u001b[39m,\n",
            "    \u001b[33mInfinity\u001b[39m, \u001b[33mInfinity\u001b[39m, \u001b[33mInfinity\u001b[39m, \u001b[33mInfinity\u001b[39m, \u001b[33mInfinity\u001b[39m, \u001b[33mInfinity\u001b[39m,\n",
            "    \u001b[33mInfinity\u001b[39m, \u001b[33mInfinity\u001b[39m, \u001b[33mInfinity\u001b[39m, \u001b[33mInfinity\u001b[39m, \u001b[33mInfinity\u001b[39m, \u001b[33mInfinity\u001b[39m,\n",
            "    \u001b[33mInfinity\u001b[39m, \u001b[33mInfinity\u001b[39m, \u001b[33mInfinity\u001b[39m, \u001b[33mInfinity\u001b[39m, \u001b[33mInfinity\u001b[39m, \u001b[33mInfinity\u001b[39m,\n",
            "    \u001b[33mInfinity\u001b[39m, \u001b[33mInfinity\u001b[39m, \u001b[33mInfinity\u001b[39m, \u001b[33mInfinity\u001b[39m, \u001b[33mInfinity\u001b[39m, \u001b[33mInfinity\u001b[39m,\n",
            "    \u001b[33mInfinity\u001b[39m, \u001b[33mInfinity\u001b[39m, \u001b[33mInfinity\u001b[39m, \u001b[33mInfinity\u001b[39m, \u001b[33mInfinity\u001b[39m, \u001b[33mInfinity\u001b[39m,\n",
            "    \u001b[33mInfinity\u001b[39m, \u001b[33mInfinity\u001b[39m, \u001b[33mInfinity\u001b[39m, \u001b[33mInfinity\u001b[39m, \u001b[33mInfinity\u001b[39m, \u001b[33mInfinity\u001b[39m,\n",
            "    \u001b[33mInfinity\u001b[39m, \u001b[33mInfinity\u001b[39m, \u001b[33mInfinity\u001b[39m, \u001b[33mInfinity\u001b[39m, \u001b[33mInfinity\u001b[39m, \u001b[33mInfinity\u001b[39m,\n",
            "    \u001b[33mInfinity\u001b[39m, \u001b[33mInfinity\u001b[39m, \u001b[33mInfinity\u001b[39m, \u001b[33mInfinity\u001b[39m, \u001b[33mInfinity\u001b[39m, \u001b[33mInfinity\u001b[39m,\n",
            "    \u001b[33mInfinity\u001b[39m, \u001b[33mInfinity\u001b[39m, \u001b[33mInfinity\u001b[39m, \u001b[33mInfinity\u001b[39m, \u001b[33mInfinity\u001b[39m, \u001b[33mInfinity\u001b[39m,\n",
            "    \u001b[33mInfinity\u001b[39m, \u001b[33mInfinity\u001b[39m, \u001b[33mInfinity\u001b[39m, \u001b[33mInfinity\u001b[39m, \u001b[33mInfinity\u001b[39m, \u001b[33mInfinity\u001b[39m,\n",
            "    \u001b[33mInfinity\u001b[39m, \u001b[33mInfinity\u001b[39m, \u001b[33mInfinity\u001b[39m, \u001b[33mInfinity\u001b[39m, \u001b[33mInfinity\u001b[39m, \u001b[33mInfinity\u001b[39m,\n",
            "    \u001b[33mInfinity\u001b[39m, \u001b[33mInfinity\u001b[39m, \u001b[33mInfinity\u001b[39m, \u001b[33mInfinity\u001b[39m, \u001b[33mInfinity\u001b[39m, \u001b[33mInfinity\u001b[39m,\n",
            "    \u001b[33mInfinity\u001b[39m, \u001b[33mInfinity\u001b[39m, \u001b[33mInfinity\u001b[39m, \u001b[33mInfinity\u001b[39m, \u001b[33mInfinity\u001b[39m, \u001b[33mInfinity\u001b[39m,\n",
            "    \u001b[33mInfinity\u001b[39m, \u001b[33mInfinity\u001b[39m, \u001b[33mInfinity\u001b[39m, \u001b[33mInfinity\u001b[39m, \u001b[33mInfinity\u001b[39m, \u001b[33mInfinity\u001b[39m,\n",
            "    \u001b[33mInfinity\u001b[39m, \u001b[33mInfinity\u001b[39m, \u001b[33mInfinity\u001b[39m, \u001b[33mInfinity\u001b[39m,\n",
            "    ... 500 more items\n",
            "  ],\n",
            "  [\n",
            "    \u001b[33mInfinity\u001b[39m, \u001b[33mInfinity\u001b[39m, \u001b[33mInfinity\u001b[39m, \u001b[33mInfinity\u001b[39m, \u001b[33mInfinity\u001b[39m, \u001b[33mInfinity\u001b[39m,\n",
            "    \u001b[33mInfinity\u001b[39m, \u001b[33mInfinity\u001b[39m, \u001b[33mInfinity\u001b[39m, \u001b[33mInfinity\u001b[39m, \u001b[33mInfinity\u001b[39m, \u001b[33mInfinity\u001b[39m,\n",
            "    \u001b[33mInfinity\u001b[39m, \u001b[33mInfinity\u001b[39m, \u001b[33mInfinity\u001b[39m, \u001b[33mInfinity\u001b[39m, \u001b[33mInfinity\u001b[39m, \u001b[33mInfinity\u001b[39m,\n",
            "    \u001b[33mInfinity\u001b[39m, \u001b[33mInfinity\u001b[39m, \u001b[33mInfinity\u001b[39m, \u001b[33mInfinity\u001b[39m, \u001b[33mInfinity\u001b[39m, \u001b[33mInfinity\u001b[39m,\n",
            "    \u001b[33mInfinity\u001b[39m, \u001b[33mInfinity\u001b[39m, \u001b[33mInfinity\u001b[39m, \u001b[33mInfinity\u001b[39m, \u001b[33mInfinity\u001b[39m, \u001b[33mInfinity\u001b[39m,\n",
            "    \u001b[33mInfinity\u001b[39m, \u001b[33mInfinity\u001b[39m, \u001b[33mInfinity\u001b[39m, \u001b[33mInfinity\u001b[39m, \u001b[33mInfinity\u001b[39m, \u001b[33mInfinity\u001b[39m,\n",
            "    \u001b[33mInfinity\u001b[39m, \u001b[33mInfinity\u001b[39m, \u001b[33mInfinity\u001b[39m, \u001b[33mInfinity\u001b[39m, \u001b[33mInfinity\u001b[39m, \u001b[33mInfinity\u001b[39m,\n",
            "    \u001b[33mInfinity\u001b[39m, \u001b[33mInfinity\u001b[39m, \u001b[33mInfinity\u001b[39m, \u001b[33mInfinity\u001b[39m, \u001b[33mInfinity\u001b[39m, \u001b[33mInfinity\u001b[39m,\n",
            "    \u001b[33mInfinity\u001b[39m, \u001b[33mInfinity\u001b[39m, \u001b[33mInfinity\u001b[39m, \u001b[33mInfinity\u001b[39m, \u001b[33mInfinity\u001b[39m, \u001b[33mInfinity\u001b[39m,\n",
            "    \u001b[33mInfinity\u001b[39m, \u001b[33mInfinity\u001b[39m, \u001b[33mInfinity\u001b[39m, \u001b[33mInfinity\u001b[39m, \u001b[33mInfinity\u001b[39m, \u001b[33mInfinity\u001b[39m,\n",
            "    \u001b[33mInfinity\u001b[39m, \u001b[33mInfinity\u001b[39m, \u001b[33mInfinity\u001b[39m, \u001b[33mInfinity\u001b[39m, \u001b[33mInfinity\u001b[39m, \u001b[33mInfinity\u001b[39m,\n",
            "    \u001b[33mInfinity\u001b[39m, \u001b[33mInfinity\u001b[39m, \u001b[33mInfinity\u001b[39m, \u001b[33mInfinity\u001b[39m, \u001b[33mInfinity\u001b[39m, \u001b[33mInfinity\u001b[39m,\n",
            "    \u001b[33mInfinity\u001b[39m, \u001b[33mInfinity\u001b[39m, \u001b[33mInfinity\u001b[39m, \u001b[33mInfinity\u001b[39m, \u001b[33mInfinity\u001b[39m, \u001b[33mInfinity\u001b[39m,\n",
            "    \u001b[33mInfinity\u001b[39m, \u001b[33mInfinity\u001b[39m, \u001b[33mInfinity\u001b[39m, \u001b[33mInfinity\u001b[39m, \u001b[33mInfinity\u001b[39m, \u001b[33mInfinity\u001b[39m,\n",
            "    \u001b[33mInfinity\u001b[39m, \u001b[33mInfinity\u001b[39m, \u001b[33mInfinity\u001b[39m, \u001b[33mInfinity\u001b[39m, \u001b[33mInfinity\u001b[39m, \u001b[33mInfinity\u001b[39m,\n",
            "    \u001b[33mInfinity\u001b[39m, \u001b[33mInfinity\u001b[39m, \u001b[33mInfinity\u001b[39m, \u001b[33mInfinity\u001b[39m, \u001b[33mInfinity\u001b[39m, \u001b[33mInfinity\u001b[39m,\n",
            "    \u001b[33mInfinity\u001b[39m, \u001b[33mInfinity\u001b[39m, \u001b[33mInfinity\u001b[39m, \u001b[33mInfinity\u001b[39m,\n",
            "    ... 500 more items\n",
            "  ],\n",
            "  [\n",
            "    \u001b[33mInfinity\u001b[39m, \u001b[33mInfinity\u001b[39m, \u001b[33mInfinity\u001b[39m, \u001b[33mInfinity\u001b[39m, \u001b[33mInfinity\u001b[39m, \u001b[33mInfinity\u001b[39m,\n",
            "    \u001b[33mInfinity\u001b[39m, \u001b[33mInfinity\u001b[39m, \u001b[33mInfinity\u001b[39m, \u001b[33mInfinity\u001b[39m, \u001b[33mInfinity\u001b[39m, \u001b[33mInfinity\u001b[39m,\n",
            "    \u001b[33mInfinity\u001b[39m, \u001b[33mInfinity\u001b[39m, \u001b[33mInfinity\u001b[39m, \u001b[33mInfinity\u001b[39m, \u001b[33mInfinity\u001b[39m, \u001b[33mInfinity\u001b[39m,\n",
            "    \u001b[33mInfinity\u001b[39m, \u001b[33mInfinity\u001b[39m, \u001b[33mInfinity\u001b[39m, \u001b[33mInfinity\u001b[39m, \u001b[33mInfinity\u001b[39m, \u001b[33mInfinity\u001b[39m,\n",
            "    \u001b[33mInfinity\u001b[39m, \u001b[33mInfinity\u001b[39m, \u001b[33mInfinity\u001b[39m, \u001b[33mInfinity\u001b[39m, \u001b[33mInfinity\u001b[39m, \u001b[33mInfinity\u001b[39m,\n",
            "    \u001b[33mInfinity\u001b[39m, \u001b[33mInfinity\u001b[39m, \u001b[33mInfinity\u001b[39m, \u001b[33mInfinity\u001b[39m, \u001b[33mInfinity\u001b[39m, \u001b[33mInfinity\u001b[39m,\n",
            "    \u001b[33mInfinity\u001b[39m, \u001b[33mInfinity\u001b[39m, \u001b[33mInfinity\u001b[39m, \u001b[33mInfinity\u001b[39m, \u001b[33mInfinity\u001b[39m, \u001b[33mInfinity\u001b[39m,\n",
            "    \u001b[33mInfinity\u001b[39m, \u001b[33mInfinity\u001b[39m, \u001b[33mInfinity\u001b[39m, \u001b[33mInfinity\u001b[39m, \u001b[33mInfinity\u001b[39m, \u001b[33mInfinity\u001b[39m,\n",
            "    \u001b[33mInfinity\u001b[39m, \u001b[33mInfinity\u001b[39m, \u001b[33mInfinity\u001b[39m, \u001b[33mInfinity\u001b[39m, \u001b[33mInfinity\u001b[39m, \u001b[33mInfinity\u001b[39m,\n",
            "    \u001b[33mInfinity\u001b[39m, \u001b[33mInfinity\u001b[39m, \u001b[33mInfinity\u001b[39m, \u001b[33mInfinity\u001b[39m, \u001b[33mInfinity\u001b[39m, \u001b[33mInfinity\u001b[39m,\n",
            "    \u001b[33mInfinity\u001b[39m, \u001b[33mInfinity\u001b[39m, \u001b[33mInfinity\u001b[39m, \u001b[33mInfinity\u001b[39m, \u001b[33mInfinity\u001b[39m, \u001b[33mInfinity\u001b[39m,\n",
            "    \u001b[33mInfinity\u001b[39m, \u001b[33mInfinity\u001b[39m, \u001b[33mInfinity\u001b[39m, \u001b[33mInfinity\u001b[39m, \u001b[33mInfinity\u001b[39m, \u001b[33mInfinity\u001b[39m,\n",
            "    \u001b[33mInfinity\u001b[39m, \u001b[33mInfinity\u001b[39m, \u001b[33mInfinity\u001b[39m, \u001b[33mInfinity\u001b[39m, \u001b[33mInfinity\u001b[39m, \u001b[33mInfinity\u001b[39m,\n",
            "    \u001b[33mInfinity\u001b[39m, \u001b[33mInfinity\u001b[39m, \u001b[33mInfinity\u001b[39m, \u001b[33mInfinity\u001b[39m, \u001b[33mInfinity\u001b[39m, \u001b[33mInfinity\u001b[39m,\n",
            "    \u001b[33mInfinity\u001b[39m, \u001b[33mInfinity\u001b[39m, \u001b[33mInfinity\u001b[39m, \u001b[33mInfinity\u001b[39m, \u001b[33mInfinity\u001b[39m, \u001b[33mInfinity\u001b[39m,\n",
            "    \u001b[33mInfinity\u001b[39m, \u001b[33mInfinity\u001b[39m, \u001b[33mInfinity\u001b[39m, \u001b[33mInfinity\u001b[39m, \u001b[33mInfinity\u001b[39m, \u001b[33mInfinity\u001b[39m,\n",
            "    \u001b[33mInfinity\u001b[39m, \u001b[33mInfinity\u001b[39m, \u001b[33mInfinity\u001b[39m, \u001b[33mInfinity\u001b[39m,\n",
            "    ... 500 more items\n",
            "  ],\n",
            "  [\n",
            "    \u001b[33mInfinity\u001b[39m, \u001b[33mInfinity\u001b[39m, \u001b[33mInfinity\u001b[39m, \u001b[33mInfinity\u001b[39m, \u001b[33mInfinity\u001b[39m, \u001b[33mInfinity\u001b[39m,\n",
            "    \u001b[33mInfinity\u001b[39m, \u001b[33mInfinity\u001b[39m, \u001b[33mInfinity\u001b[39m, \u001b[33mInfinity\u001b[39m, \u001b[33mInfinity\u001b[39m, \u001b[33mInfinity\u001b[39m,\n",
            "    \u001b[33mInfinity\u001b[39m, \u001b[33mInfinity\u001b[39m, \u001b[33mInfinity\u001b[39m, \u001b[33mInfinity\u001b[39m, \u001b[33mInfinity\u001b[39m, \u001b[33mInfinity\u001b[39m,\n",
            "    \u001b[33mInfinity\u001b[39m, \u001b[33mInfinity\u001b[39m, \u001b[33mInfinity\u001b[39m, \u001b[33mInfinity\u001b[39m, \u001b[33mInfinity\u001b[39m, \u001b[33mInfinity\u001b[39m,\n",
            "    \u001b[33mInfinity\u001b[39m, \u001b[33mInfinity\u001b[39m, \u001b[33mInfinity\u001b[39m, \u001b[33mInfinity\u001b[39m, \u001b[33mInfinity\u001b[39m, \u001b[33mInfinity\u001b[39m,\n",
            "    \u001b[33mInfinity\u001b[39m, \u001b[33mInfinity\u001b[39m, \u001b[33mInfinity\u001b[39m, \u001b[33mInfinity\u001b[39m, \u001b[33mInfinity\u001b[39m, \u001b[33mInfinity\u001b[39m,\n",
            "    \u001b[33mInfinity\u001b[39m, \u001b[33mInfinity\u001b[39m, \u001b[33mInfinity\u001b[39m, \u001b[33mInfinity\u001b[39m, \u001b[33mInfinity\u001b[39m, \u001b[33mInfinity\u001b[39m,\n",
            "    \u001b[33mInfinity\u001b[39m, \u001b[33mInfinity\u001b[39m, \u001b[33mInfinity\u001b[39m, \u001b[33mInfinity\u001b[39m, \u001b[33mInfinity\u001b[39m, \u001b[33mInfinity\u001b[39m,\n",
            "    \u001b[33mInfinity\u001b[39m, \u001b[33mInfinity\u001b[39m, \u001b[33mInfinity\u001b[39m, \u001b[33mInfinity\u001b[39m, \u001b[33mInfinity\u001b[39m, \u001b[33mInfinity\u001b[39m,\n",
            "    \u001b[33mInfinity\u001b[39m, \u001b[33mInfinity\u001b[39m, \u001b[33mInfinity\u001b[39m, \u001b[33mInfinity\u001b[39m, \u001b[33mInfinity\u001b[39m, \u001b[33mInfinity\u001b[39m,\n",
            "    \u001b[33mInfinity\u001b[39m, \u001b[33mInfinity\u001b[39m, \u001b[33mInfinity\u001b[39m, \u001b[33mInfinity\u001b[39m, \u001b[33mInfinity\u001b[39m, \u001b[33mInfinity\u001b[39m,\n",
            "    \u001b[33mInfinity\u001b[39m, \u001b[33mInfinity\u001b[39m, \u001b[33mInfinity\u001b[39m, \u001b[33mInfinity\u001b[39m, \u001b[33mInfinity\u001b[39m, \u001b[33mInfinity\u001b[39m,\n",
            "    \u001b[33mInfinity\u001b[39m, \u001b[33mInfinity\u001b[39m, \u001b[33mInfinity\u001b[39m, \u001b[33mInfinity\u001b[39m, \u001b[33mInfinity\u001b[39m, \u001b[33mInfinity\u001b[39m,\n",
            "    \u001b[33mInfinity\u001b[39m, \u001b[33mInfinity\u001b[39m, \u001b[33mInfinity\u001b[39m, \u001b[33mInfinity\u001b[39m, \u001b[33mInfinity\u001b[39m, \u001b[33mInfinity\u001b[39m,\n",
            "    \u001b[33mInfinity\u001b[39m, \u001b[33mInfinity\u001b[39m, \u001b[33mInfinity\u001b[39m, \u001b[33mInfinity\u001b[39m, \u001b[33mInfinity\u001b[39m, \u001b[33mInfinity\u001b[39m,\n",
            "    \u001b[33mInfinity\u001b[39m, \u001b[33mInfinity\u001b[39m, \u001b[33mInfinity\u001b[39m, \u001b[33mInfinity\u001b[39m, \u001b[33mInfinity\u001b[39m, \u001b[33mInfinity\u001b[39m,\n",
            "    \u001b[33mInfinity\u001b[39m, \u001b[33mInfinity\u001b[39m, \u001b[33mInfinity\u001b[39m, \u001b[33mInfinity\u001b[39m,\n",
            "    ... 500 more items\n",
            "  ],\n",
            "  [\n",
            "    \u001b[33mInfinity\u001b[39m, \u001b[33mInfinity\u001b[39m, \u001b[33mInfinity\u001b[39m, \u001b[33mInfinity\u001b[39m, \u001b[33mInfinity\u001b[39m, \u001b[33mInfinity\u001b[39m,\n",
            "    \u001b[33mInfinity\u001b[39m, \u001b[33mInfinity\u001b[39m, \u001b[33mInfinity\u001b[39m, \u001b[33mInfinity\u001b[39m, \u001b[33mInfinity\u001b[39m, \u001b[33mInfinity\u001b[39m,\n",
            "    \u001b[33mInfinity\u001b[39m, \u001b[33mInfinity\u001b[39m, \u001b[33mInfinity\u001b[39m, \u001b[33mInfinity\u001b[39m, \u001b[33mInfinity\u001b[39m, \u001b[33mInfinity\u001b[39m,\n",
            "    \u001b[33mInfinity\u001b[39m, \u001b[33mInfinity\u001b[39m, \u001b[33mInfinity\u001b[39m, \u001b[33mInfinity\u001b[39m, \u001b[33mInfinity\u001b[39m, \u001b[33mInfinity\u001b[39m,\n",
            "    \u001b[33mInfinity\u001b[39m, \u001b[33mInfinity\u001b[39m, \u001b[33mInfinity\u001b[39m, \u001b[33mInfinity\u001b[39m, \u001b[33mInfinity\u001b[39m, \u001b[33mInfinity\u001b[39m,\n",
            "    \u001b[33mInfinity\u001b[39m, \u001b[33mInfinity\u001b[39m, \u001b[33mInfinity\u001b[39m, \u001b[33mInfinity\u001b[39m, \u001b[33mInfinity\u001b[39m, \u001b[33mInfinity\u001b[39m,\n",
            "    \u001b[33mInfinity\u001b[39m, \u001b[33mInfinity\u001b[39m, \u001b[33mInfinity\u001b[39m, \u001b[33mInfinity\u001b[39m, \u001b[33mInfinity\u001b[39m, \u001b[33mInfinity\u001b[39m,\n",
            "    \u001b[33mInfinity\u001b[39m, \u001b[33mInfinity\u001b[39m, \u001b[33mInfinity\u001b[39m, \u001b[33mInfinity\u001b[39m, \u001b[33mInfinity\u001b[39m, \u001b[33mInfinity\u001b[39m,\n",
            "    \u001b[33mInfinity\u001b[39m, \u001b[33mInfinity\u001b[39m, \u001b[33mInfinity\u001b[39m, \u001b[33mInfinity\u001b[39m, \u001b[33mInfinity\u001b[39m, \u001b[33mInfinity\u001b[39m,\n",
            "    \u001b[33mInfinity\u001b[39m, \u001b[33mInfinity\u001b[39m, \u001b[33mInfinity\u001b[39m, \u001b[33mInfinity\u001b[39m, \u001b[33mInfinity\u001b[39m, \u001b[33mInfinity\u001b[39m,\n",
            "    \u001b[33mInfinity\u001b[39m, \u001b[33mInfinity\u001b[39m, \u001b[33mInfinity\u001b[39m, \u001b[33mInfinity\u001b[39m, \u001b[33mInfinity\u001b[39m, \u001b[33mInfinity\u001b[39m,\n",
            "    \u001b[33mInfinity\u001b[39m, \u001b[33mInfinity\u001b[39m, \u001b[33mInfinity\u001b[39m, \u001b[33mInfinity\u001b[39m, \u001b[33mInfinity\u001b[39m, \u001b[33mInfinity\u001b[39m,\n",
            "    \u001b[33mInfinity\u001b[39m, \u001b[33mInfinity\u001b[39m, \u001b[33mInfinity\u001b[39m, \u001b[33mInfinity\u001b[39m, \u001b[33mInfinity\u001b[39m, \u001b[33mInfinity\u001b[39m,\n",
            "    \u001b[33mInfinity\u001b[39m, \u001b[33mInfinity\u001b[39m, \u001b[33mInfinity\u001b[39m, \u001b[33mInfinity\u001b[39m, \u001b[33mInfinity\u001b[39m, \u001b[33mInfinity\u001b[39m,\n",
            "    \u001b[33mInfinity\u001b[39m, \u001b[33mInfinity\u001b[39m, \u001b[33mInfinity\u001b[39m, \u001b[33mInfinity\u001b[39m, \u001b[33mInfinity\u001b[39m, \u001b[33mInfinity\u001b[39m,\n",
            "    \u001b[33mInfinity\u001b[39m, \u001b[33mInfinity\u001b[39m, \u001b[33mInfinity\u001b[39m, \u001b[33mInfinity\u001b[39m, \u001b[33mInfinity\u001b[39m, \u001b[33mInfinity\u001b[39m,\n",
            "    \u001b[33mInfinity\u001b[39m, \u001b[33mInfinity\u001b[39m, \u001b[33mInfinity\u001b[39m, \u001b[33mInfinity\u001b[39m,\n",
            "    ... 500 more items\n",
            "  ],\n",
            "  [\n",
            "    \u001b[33mInfinity\u001b[39m, \u001b[33mInfinity\u001b[39m, \u001b[33mInfinity\u001b[39m, \u001b[33mInfinity\u001b[39m, \u001b[33mInfinity\u001b[39m, \u001b[33mInfinity\u001b[39m,\n",
            "    \u001b[33mInfinity\u001b[39m, \u001b[33mInfinity\u001b[39m, \u001b[33mInfinity\u001b[39m, \u001b[33mInfinity\u001b[39m, \u001b[33mInfinity\u001b[39m, \u001b[33mInfinity\u001b[39m,\n",
            "    \u001b[33mInfinity\u001b[39m, \u001b[33mInfinity\u001b[39m, \u001b[33mInfinity\u001b[39m, \u001b[33mInfinity\u001b[39m, \u001b[33mInfinity\u001b[39m, \u001b[33mInfinity\u001b[39m,\n",
            "    \u001b[33mInfinity\u001b[39m, \u001b[33mInfinity\u001b[39m, \u001b[33mInfinity\u001b[39m, \u001b[33mInfinity\u001b[39m, \u001b[33mInfinity\u001b[39m, \u001b[33mInfinity\u001b[39m,\n",
            "    \u001b[33mInfinity\u001b[39m, \u001b[33mInfinity\u001b[39m, \u001b[33mInfinity\u001b[39m, \u001b[33mInfinity\u001b[39m, \u001b[33mInfinity\u001b[39m, \u001b[33mInfinity\u001b[39m,\n",
            "    \u001b[33mInfinity\u001b[39m, \u001b[33mInfinity\u001b[39m, \u001b[33mInfinity\u001b[39m, \u001b[33mInfinity\u001b[39m, \u001b[33mInfinity\u001b[39m, \u001b[33mInfinity\u001b[39m,\n",
            "    \u001b[33mInfinity\u001b[39m, \u001b[33mInfinity\u001b[39m, \u001b[33mInfinity\u001b[39m, \u001b[33mInfinity\u001b[39m, \u001b[33mInfinity\u001b[39m, \u001b[33mInfinity\u001b[39m,\n",
            "    \u001b[33mInfinity\u001b[39m, \u001b[33mInfinity\u001b[39m, \u001b[33mInfinity\u001b[39m, \u001b[33mInfinity\u001b[39m, \u001b[33mInfinity\u001b[39m, \u001b[33mInfinity\u001b[39m,\n",
            "    \u001b[33mInfinity\u001b[39m, \u001b[33mInfinity\u001b[39m, \u001b[33mInfinity\u001b[39m, \u001b[33mInfinity\u001b[39m, \u001b[33mInfinity\u001b[39m, \u001b[33mInfinity\u001b[39m,\n",
            "    \u001b[33mInfinity\u001b[39m, \u001b[33mInfinity\u001b[39m, \u001b[33mInfinity\u001b[39m, \u001b[33mInfinity\u001b[39m, \u001b[33mInfinity\u001b[39m, \u001b[33mInfinity\u001b[39m,\n",
            "    \u001b[33mInfinity\u001b[39m, \u001b[33mInfinity\u001b[39m, \u001b[33mInfinity\u001b[39m, \u001b[33mInfinity\u001b[39m, \u001b[33mInfinity\u001b[39m, \u001b[33mInfinity\u001b[39m,\n",
            "    \u001b[33mInfinity\u001b[39m, \u001b[33mInfinity\u001b[39m, \u001b[33mInfinity\u001b[39m, \u001b[33mInfinity\u001b[39m, \u001b[33mInfinity\u001b[39m, \u001b[33mInfinity\u001b[39m,\n",
            "    \u001b[33mInfinity\u001b[39m, \u001b[33mInfinity\u001b[39m, \u001b[33mInfinity\u001b[39m, \u001b[33mInfinity\u001b[39m, \u001b[33mInfinity\u001b[39m, \u001b[33mInfinity\u001b[39m,\n",
            "    \u001b[33mInfinity\u001b[39m, \u001b[33mInfinity\u001b[39m, \u001b[33mInfinity\u001b[39m, \u001b[33mInfinity\u001b[39m, \u001b[33mInfinity\u001b[39m, \u001b[33mInfinity\u001b[39m,\n",
            "    \u001b[33mInfinity\u001b[39m, \u001b[33mInfinity\u001b[39m, \u001b[33mInfinity\u001b[39m, \u001b[33mInfinity\u001b[39m, \u001b[33mInfinity\u001b[39m, \u001b[33mInfinity\u001b[39m,\n",
            "    \u001b[33mInfinity\u001b[39m, \u001b[33mInfinity\u001b[39m, \u001b[33mInfinity\u001b[39m, \u001b[33mInfinity\u001b[39m, \u001b[33mInfinity\u001b[39m, \u001b[33mInfinity\u001b[39m,\n",
            "    \u001b[33mInfinity\u001b[39m, \u001b[33mInfinity\u001b[39m, \u001b[33mInfinity\u001b[39m, \u001b[33mInfinity\u001b[39m,\n",
            "    ... 500 more items\n",
            "  ],\n",
            "  [\n",
            "    \u001b[33mInfinity\u001b[39m, \u001b[33mInfinity\u001b[39m, \u001b[33mInfinity\u001b[39m, \u001b[33mInfinity\u001b[39m, \u001b[33mInfinity\u001b[39m, \u001b[33mInfinity\u001b[39m,\n",
            "    \u001b[33mInfinity\u001b[39m, \u001b[33mInfinity\u001b[39m, \u001b[33mInfinity\u001b[39m, \u001b[33mInfinity\u001b[39m, \u001b[33mInfinity\u001b[39m, \u001b[33mInfinity\u001b[39m,\n",
            "    \u001b[33mInfinity\u001b[39m, \u001b[33mInfinity\u001b[39m, \u001b[33mInfinity\u001b[39m, \u001b[33mInfinity\u001b[39m, \u001b[33mInfinity\u001b[39m, \u001b[33mInfinity\u001b[39m,\n",
            "    \u001b[33mInfinity\u001b[39m, \u001b[33mInfinity\u001b[39m, \u001b[33mInfinity\u001b[39m, \u001b[33mInfinity\u001b[39m, \u001b[33mInfinity\u001b[39m, \u001b[33mInfinity\u001b[39m,\n",
            "    \u001b[33mInfinity\u001b[39m, \u001b[33mInfinity\u001b[39m, \u001b[33mInfinity\u001b[39m, \u001b[33mInfinity\u001b[39m, \u001b[33mInfinity\u001b[39m, \u001b[33mInfinity\u001b[39m,\n",
            "    \u001b[33mInfinity\u001b[39m, \u001b[33mInfinity\u001b[39m, \u001b[33mInfinity\u001b[39m, \u001b[33mInfinity\u001b[39m, \u001b[33mInfinity\u001b[39m, \u001b[33mInfinity\u001b[39m,\n",
            "    \u001b[33mInfinity\u001b[39m, \u001b[33mInfinity\u001b[39m, \u001b[33mInfinity\u001b[39m, \u001b[33mInfinity\u001b[39m, \u001b[33mInfinity\u001b[39m, \u001b[33mInfinity\u001b[39m,\n",
            "    \u001b[33mInfinity\u001b[39m, \u001b[33mInfinity\u001b[39m, \u001b[33mInfinity\u001b[39m, \u001b[33mInfinity\u001b[39m, \u001b[33mInfinity\u001b[39m, \u001b[33mInfinity\u001b[39m,\n",
            "    \u001b[33mInfinity\u001b[39m, \u001b[33mInfinity\u001b[39m, \u001b[33mInfinity\u001b[39m, \u001b[33mInfinity\u001b[39m, \u001b[33mInfinity\u001b[39m, \u001b[33mInfinity\u001b[39m,\n",
            "    \u001b[33mInfinity\u001b[39m, \u001b[33mInfinity\u001b[39m, \u001b[33mInfinity\u001b[39m, \u001b[33mInfinity\u001b[39m, \u001b[33mInfinity\u001b[39m, \u001b[33mInfinity\u001b[39m,\n",
            "    \u001b[33mInfinity\u001b[39m, \u001b[33mInfinity\u001b[39m, \u001b[33mInfinity\u001b[39m, \u001b[33mInfinity\u001b[39m, \u001b[33mInfinity\u001b[39m, \u001b[33mInfinity\u001b[39m,\n",
            "    \u001b[33mInfinity\u001b[39m, \u001b[33mInfinity\u001b[39m, \u001b[33mInfinity\u001b[39m, \u001b[33mInfinity\u001b[39m, \u001b[33mInfinity\u001b[39m, \u001b[33mInfinity\u001b[39m,\n",
            "    \u001b[33mInfinity\u001b[39m, \u001b[33mInfinity\u001b[39m, \u001b[33mInfinity\u001b[39m, \u001b[33mInfinity\u001b[39m, \u001b[33mInfinity\u001b[39m, \u001b[33mInfinity\u001b[39m,\n",
            "    \u001b[33mInfinity\u001b[39m, \u001b[33mInfinity\u001b[39m, \u001b[33mInfinity\u001b[39m, \u001b[33mInfinity\u001b[39m, \u001b[33mInfinity\u001b[39m, \u001b[33mInfinity\u001b[39m,\n",
            "    \u001b[33mInfinity\u001b[39m, \u001b[33mInfinity\u001b[39m, \u001b[33mInfinity\u001b[39m, \u001b[33mInfinity\u001b[39m, \u001b[33mInfinity\u001b[39m, \u001b[33mInfinity\u001b[39m,\n",
            "    \u001b[33mInfinity\u001b[39m, \u001b[33mInfinity\u001b[39m, \u001b[33mInfinity\u001b[39m, \u001b[33mInfinity\u001b[39m, \u001b[33mInfinity\u001b[39m, \u001b[33mInfinity\u001b[39m,\n",
            "    \u001b[33mInfinity\u001b[39m, \u001b[33mInfinity\u001b[39m, \u001b[33mInfinity\u001b[39m, \u001b[33mInfinity\u001b[39m,\n",
            "    ... 500 more items\n",
            "  ],\n",
            "  [\n",
            "    \u001b[33mInfinity\u001b[39m, \u001b[33mInfinity\u001b[39m, \u001b[33mInfinity\u001b[39m, \u001b[33mInfinity\u001b[39m, \u001b[33mInfinity\u001b[39m, \u001b[33mInfinity\u001b[39m,\n",
            "    \u001b[33mInfinity\u001b[39m, \u001b[33mInfinity\u001b[39m, \u001b[33mInfinity\u001b[39m, \u001b[33mInfinity\u001b[39m, \u001b[33mInfinity\u001b[39m, \u001b[33mInfinity\u001b[39m,\n",
            "    \u001b[33mInfinity\u001b[39m, \u001b[33mInfinity\u001b[39m, \u001b[33mInfinity\u001b[39m, \u001b[33mInfinity\u001b[39m, \u001b[33mInfinity\u001b[39m, \u001b[33mInfinity\u001b[39m,\n",
            "    \u001b[33mInfinity\u001b[39m, \u001b[33mInfinity\u001b[39m, \u001b[33mInfinity\u001b[39m, \u001b[33mInfinity\u001b[39m, \u001b[33mInfinity\u001b[39m, \u001b[33mInfinity\u001b[39m,\n",
            "    \u001b[33mInfinity\u001b[39m, \u001b[33mInfinity\u001b[39m, \u001b[33mInfinity\u001b[39m, \u001b[33mInfinity\u001b[39m, \u001b[33mInfinity\u001b[39m, \u001b[33mInfinity\u001b[39m,\n",
            "    \u001b[33mInfinity\u001b[39m, \u001b[33mInfinity\u001b[39m, \u001b[33mInfinity\u001b[39m, \u001b[33mInfinity\u001b[39m, \u001b[33mInfinity\u001b[39m, \u001b[33mInfinity\u001b[39m,\n",
            "    \u001b[33mInfinity\u001b[39m, \u001b[33mInfinity\u001b[39m, \u001b[33mInfinity\u001b[39m, \u001b[33mInfinity\u001b[39m, \u001b[33mInfinity\u001b[39m, \u001b[33mInfinity\u001b[39m,\n",
            "    \u001b[33mInfinity\u001b[39m, \u001b[33mInfinity\u001b[39m, \u001b[33mInfinity\u001b[39m, \u001b[33mInfinity\u001b[39m, \u001b[33mInfinity\u001b[39m, \u001b[33mInfinity\u001b[39m,\n",
            "    \u001b[33mInfinity\u001b[39m, \u001b[33mInfinity\u001b[39m, \u001b[33mInfinity\u001b[39m, \u001b[33mInfinity\u001b[39m, \u001b[33mInfinity\u001b[39m, \u001b[33mInfinity\u001b[39m,\n",
            "    \u001b[33mInfinity\u001b[39m, \u001b[33mInfinity\u001b[39m, \u001b[33mInfinity\u001b[39m, \u001b[33mInfinity\u001b[39m, \u001b[33mInfinity\u001b[39m, \u001b[33mInfinity\u001b[39m,\n",
            "    \u001b[33mInfinity\u001b[39m, \u001b[33mInfinity\u001b[39m, \u001b[33mInfinity\u001b[39m, \u001b[33mInfinity\u001b[39m, \u001b[33mInfinity\u001b[39m, \u001b[33mInfinity\u001b[39m,\n",
            "    \u001b[33mInfinity\u001b[39m, \u001b[33mInfinity\u001b[39m, \u001b[33mInfinity\u001b[39m, \u001b[33mInfinity\u001b[39m, \u001b[33mInfinity\u001b[39m, \u001b[33mInfinity\u001b[39m,\n",
            "    \u001b[33mInfinity\u001b[39m, \u001b[33mInfinity\u001b[39m, \u001b[33mInfinity\u001b[39m, \u001b[33mInfinity\u001b[39m, \u001b[33mInfinity\u001b[39m, \u001b[33mInfinity\u001b[39m,\n",
            "    \u001b[33mInfinity\u001b[39m, \u001b[33mInfinity\u001b[39m, \u001b[33mInfinity\u001b[39m, \u001b[33mInfinity\u001b[39m, \u001b[33mInfinity\u001b[39m, \u001b[33mInfinity\u001b[39m,\n",
            "    \u001b[33mInfinity\u001b[39m, \u001b[33mInfinity\u001b[39m, \u001b[33mInfinity\u001b[39m, \u001b[33mInfinity\u001b[39m, \u001b[33mInfinity\u001b[39m, \u001b[33mInfinity\u001b[39m,\n",
            "    \u001b[33mInfinity\u001b[39m, \u001b[33mInfinity\u001b[39m, \u001b[33mInfinity\u001b[39m, \u001b[33mInfinity\u001b[39m, \u001b[33mInfinity\u001b[39m, \u001b[33mInfinity\u001b[39m,\n",
            "    \u001b[33mInfinity\u001b[39m, \u001b[33mInfinity\u001b[39m, \u001b[33mInfinity\u001b[39m, \u001b[33mInfinity\u001b[39m,\n",
            "    ... 500 more items\n",
            "  ],\n",
            "  [\n",
            "    \u001b[33mInfinity\u001b[39m, \u001b[33mInfinity\u001b[39m, \u001b[33mInfinity\u001b[39m, \u001b[33mInfinity\u001b[39m, \u001b[33mInfinity\u001b[39m, \u001b[33mInfinity\u001b[39m,\n",
            "    \u001b[33mInfinity\u001b[39m, \u001b[33mInfinity\u001b[39m, \u001b[33mInfinity\u001b[39m, \u001b[33mInfinity\u001b[39m, \u001b[33mInfinity\u001b[39m, \u001b[33mInfinity\u001b[39m,\n",
            "    \u001b[33mInfinity\u001b[39m, \u001b[33mInfinity\u001b[39m, \u001b[33mInfinity\u001b[39m, \u001b[33mInfinity\u001b[39m, \u001b[33mInfinity\u001b[39m, \u001b[33mInfinity\u001b[39m,\n",
            "    \u001b[33mInfinity\u001b[39m, \u001b[33mInfinity\u001b[39m, \u001b[33mInfinity\u001b[39m, \u001b[33mInfinity\u001b[39m, \u001b[33mInfinity\u001b[39m, \u001b[33mInfinity\u001b[39m,\n",
            "    \u001b[33mInfinity\u001b[39m, \u001b[33mInfinity\u001b[39m, \u001b[33mInfinity\u001b[39m, \u001b[33mInfinity\u001b[39m, \u001b[33mInfinity\u001b[39m, \u001b[33mInfinity\u001b[39m,\n",
            "    \u001b[33mInfinity\u001b[39m, \u001b[33mInfinity\u001b[39m, \u001b[33mInfinity\u001b[39m, \u001b[33mInfinity\u001b[39m, \u001b[33mInfinity\u001b[39m, \u001b[33mInfinity\u001b[39m,\n",
            "    \u001b[33mInfinity\u001b[39m, \u001b[33mInfinity\u001b[39m, \u001b[33mInfinity\u001b[39m, \u001b[33mInfinity\u001b[39m, \u001b[33mInfinity\u001b[39m, \u001b[33mInfinity\u001b[39m,\n",
            "    \u001b[33mInfinity\u001b[39m, \u001b[33mInfinity\u001b[39m, \u001b[33mInfinity\u001b[39m, \u001b[33mInfinity\u001b[39m, \u001b[33mInfinity\u001b[39m, \u001b[33mInfinity\u001b[39m,\n",
            "    \u001b[33mInfinity\u001b[39m, \u001b[33mInfinity\u001b[39m, \u001b[33mInfinity\u001b[39m, \u001b[33mInfinity\u001b[39m, \u001b[33mInfinity\u001b[39m, \u001b[33mInfinity\u001b[39m,\n",
            "    \u001b[33mInfinity\u001b[39m, \u001b[33mInfinity\u001b[39m, \u001b[33mInfinity\u001b[39m, \u001b[33mInfinity\u001b[39m, \u001b[33mInfinity\u001b[39m, \u001b[33mInfinity\u001b[39m,\n",
            "    \u001b[33mInfinity\u001b[39m, \u001b[33mInfinity\u001b[39m, \u001b[33mInfinity\u001b[39m, \u001b[33mInfinity\u001b[39m, \u001b[33mInfinity\u001b[39m, \u001b[33mInfinity\u001b[39m,\n",
            "    \u001b[33mInfinity\u001b[39m, \u001b[33mInfinity\u001b[39m, \u001b[33mInfinity\u001b[39m, \u001b[33mInfinity\u001b[39m, \u001b[33mInfinity\u001b[39m, \u001b[33mInfinity\u001b[39m,\n",
            "    \u001b[33mInfinity\u001b[39m, \u001b[33mInfinity\u001b[39m, \u001b[33mInfinity\u001b[39m, \u001b[33mInfinity\u001b[39m, \u001b[33mInfinity\u001b[39m, \u001b[33mInfinity\u001b[39m,\n",
            "    \u001b[33mInfinity\u001b[39m, \u001b[33mInfinity\u001b[39m, \u001b[33mInfinity\u001b[39m, \u001b[33mInfinity\u001b[39m, \u001b[33mInfinity\u001b[39m, \u001b[33mInfinity\u001b[39m,\n",
            "    \u001b[33mInfinity\u001b[39m, \u001b[33mInfinity\u001b[39m, \u001b[33mInfinity\u001b[39m, \u001b[33mInfinity\u001b[39m, \u001b[33mInfinity\u001b[39m, \u001b[33mInfinity\u001b[39m,\n",
            "    \u001b[33mInfinity\u001b[39m, \u001b[33mInfinity\u001b[39m, \u001b[33mInfinity\u001b[39m, \u001b[33mInfinity\u001b[39m, \u001b[33mInfinity\u001b[39m, \u001b[33mInfinity\u001b[39m,\n",
            "    \u001b[33mInfinity\u001b[39m, \u001b[33mInfinity\u001b[39m, \u001b[33mInfinity\u001b[39m, \u001b[33mInfinity\u001b[39m,\n",
            "    ... 500 more items\n",
            "  ],\n",
            "  [\n",
            "    \u001b[33mInfinity\u001b[39m, \u001b[33mInfinity\u001b[39m, \u001b[33mInfinity\u001b[39m, \u001b[33mInfinity\u001b[39m, \u001b[33mInfinity\u001b[39m, \u001b[33mInfinity\u001b[39m,\n",
            "    \u001b[33mInfinity\u001b[39m, \u001b[33mInfinity\u001b[39m, \u001b[33mInfinity\u001b[39m, \u001b[33mInfinity\u001b[39m, \u001b[33mInfinity\u001b[39m, \u001b[33mInfinity\u001b[39m,\n",
            "    \u001b[33mInfinity\u001b[39m, \u001b[33mInfinity\u001b[39m, \u001b[33mInfinity\u001b[39m, \u001b[33mInfinity\u001b[39m, \u001b[33mInfinity\u001b[39m, \u001b[33mInfinity\u001b[39m,\n",
            "    \u001b[33mInfinity\u001b[39m, \u001b[33mInfinity\u001b[39m, \u001b[33mInfinity\u001b[39m, \u001b[33mInfinity\u001b[39m, \u001b[33mInfinity\u001b[39m, \u001b[33mInfinity\u001b[39m,\n",
            "    \u001b[33mInfinity\u001b[39m, \u001b[33mInfinity\u001b[39m, \u001b[33mInfinity\u001b[39m, \u001b[33mInfinity\u001b[39m, \u001b[33mInfinity\u001b[39m, \u001b[33mInfinity\u001b[39m,\n",
            "    \u001b[33mInfinity\u001b[39m, \u001b[33mInfinity\u001b[39m, \u001b[33mInfinity\u001b[39m, \u001b[33mInfinity\u001b[39m, \u001b[33mInfinity\u001b[39m, \u001b[33mInfinity\u001b[39m,\n",
            "    \u001b[33mInfinity\u001b[39m, \u001b[33mInfinity\u001b[39m, \u001b[33mInfinity\u001b[39m, \u001b[33mInfinity\u001b[39m, \u001b[33mInfinity\u001b[39m, \u001b[33mInfinity\u001b[39m,\n",
            "    \u001b[33mInfinity\u001b[39m, \u001b[33mInfinity\u001b[39m, \u001b[33mInfinity\u001b[39m, \u001b[33mInfinity\u001b[39m, \u001b[33mInfinity\u001b[39m, \u001b[33mInfinity\u001b[39m,\n",
            "    \u001b[33mInfinity\u001b[39m, \u001b[33mInfinity\u001b[39m, \u001b[33mInfinity\u001b[39m, \u001b[33mInfinity\u001b[39m, \u001b[33mInfinity\u001b[39m, \u001b[33mInfinity\u001b[39m,\n",
            "    \u001b[33mInfinity\u001b[39m, \u001b[33mInfinity\u001b[39m, \u001b[33mInfinity\u001b[39m, \u001b[33mInfinity\u001b[39m, \u001b[33mInfinity\u001b[39m, \u001b[33mInfinity\u001b[39m,\n",
            "    \u001b[33mInfinity\u001b[39m, \u001b[33mInfinity\u001b[39m, \u001b[33mInfinity\u001b[39m, \u001b[33mInfinity\u001b[39m, \u001b[33mInfinity\u001b[39m, \u001b[33mInfinity\u001b[39m,\n",
            "    \u001b[33mInfinity\u001b[39m, \u001b[33mInfinity\u001b[39m, \u001b[33mInfinity\u001b[39m, \u001b[33mInfinity\u001b[39m, \u001b[33mInfinity\u001b[39m, \u001b[33mInfinity\u001b[39m,\n",
            "    \u001b[33mInfinity\u001b[39m, \u001b[33mInfinity\u001b[39m, \u001b[33mInfinity\u001b[39m, \u001b[33mInfinity\u001b[39m, \u001b[33mInfinity\u001b[39m, \u001b[33mInfinity\u001b[39m,\n",
            "    \u001b[33mInfinity\u001b[39m, \u001b[33mInfinity\u001b[39m, \u001b[33mInfinity\u001b[39m, \u001b[33mInfinity\u001b[39m, \u001b[33mInfinity\u001b[39m, \u001b[33mInfinity\u001b[39m,\n",
            "    \u001b[33mInfinity\u001b[39m, \u001b[33mInfinity\u001b[39m, \u001b[33mInfinity\u001b[39m, \u001b[33mInfinity\u001b[39m, \u001b[33mInfinity\u001b[39m, \u001b[33mInfinity\u001b[39m,\n",
            "    \u001b[33mInfinity\u001b[39m, \u001b[33mInfinity\u001b[39m, \u001b[33mInfinity\u001b[39m, \u001b[33mInfinity\u001b[39m, \u001b[33mInfinity\u001b[39m, \u001b[33mInfinity\u001b[39m,\n",
            "    \u001b[33mInfinity\u001b[39m, \u001b[33mInfinity\u001b[39m, \u001b[33mInfinity\u001b[39m, \u001b[33mInfinity\u001b[39m,\n",
            "    ... 500 more items\n",
            "  ],\n",
            "  [\n",
            "    \u001b[33mInfinity\u001b[39m, \u001b[33mInfinity\u001b[39m, \u001b[33mInfinity\u001b[39m, \u001b[33mInfinity\u001b[39m, \u001b[33mInfinity\u001b[39m, \u001b[33mInfinity\u001b[39m,\n",
            "    \u001b[33mInfinity\u001b[39m, \u001b[33mInfinity\u001b[39m, \u001b[33mInfinity\u001b[39m, \u001b[33mInfinity\u001b[39m, \u001b[33mInfinity\u001b[39m, \u001b[33mInfinity\u001b[39m,\n",
            "    \u001b[33mInfinity\u001b[39m, \u001b[33mInfinity\u001b[39m, \u001b[33mInfinity\u001b[39m, \u001b[33mInfinity\u001b[39m, \u001b[33mInfinity\u001b[39m, \u001b[33mInfinity\u001b[39m,\n",
            "    \u001b[33mInfinity\u001b[39m, \u001b[33mInfinity\u001b[39m, \u001b[33mInfinity\u001b[39m, \u001b[33mInfinity\u001b[39m, \u001b[33mInfinity\u001b[39m, \u001b[33mInfinity\u001b[39m,\n",
            "    \u001b[33mInfinity\u001b[39m, \u001b[33mInfinity\u001b[39m, \u001b[33mInfinity\u001b[39m, \u001b[33mInfinity\u001b[39m, \u001b[33mInfinity\u001b[39m, \u001b[33mInfinity\u001b[39m,\n",
            "    \u001b[33mInfinity\u001b[39m, \u001b[33mInfinity\u001b[39m, \u001b[33mInfinity\u001b[39m, \u001b[33mInfinity\u001b[39m, \u001b[33mInfinity\u001b[39m, \u001b[33mInfinity\u001b[39m,\n",
            "    \u001b[33mInfinity\u001b[39m, \u001b[33mInfinity\u001b[39m, \u001b[33mInfinity\u001b[39m, \u001b[33mInfinity\u001b[39m, \u001b[33mInfinity\u001b[39m, \u001b[33mInfinity\u001b[39m,\n",
            "    \u001b[33mInfinity\u001b[39m, \u001b[33mInfinity\u001b[39m, \u001b[33mInfinity\u001b[39m, \u001b[33mInfinity\u001b[39m, \u001b[33mInfinity\u001b[39m, \u001b[33mInfinity\u001b[39m,\n",
            "    \u001b[33mInfinity\u001b[39m, \u001b[33mInfinity\u001b[39m, \u001b[33mInfinity\u001b[39m, \u001b[33mInfinity\u001b[39m, \u001b[33mInfinity\u001b[39m, \u001b[33mInfinity\u001b[39m,\n",
            "    \u001b[33mInfinity\u001b[39m, \u001b[33mInfinity\u001b[39m, \u001b[33mInfinity\u001b[39m, \u001b[33mInfinity\u001b[39m, \u001b[33mInfinity\u001b[39m, \u001b[33mInfinity\u001b[39m,\n",
            "    \u001b[33mInfinity\u001b[39m, \u001b[33mInfinity\u001b[39m, \u001b[33mInfinity\u001b[39m, \u001b[33mInfinity\u001b[39m, \u001b[33mInfinity\u001b[39m, \u001b[33mInfinity\u001b[39m,\n",
            "    \u001b[33mInfinity\u001b[39m, \u001b[33mInfinity\u001b[39m, \u001b[33mInfinity\u001b[39m, \u001b[33mInfinity\u001b[39m, \u001b[33mInfinity\u001b[39m, \u001b[33mInfinity\u001b[39m,\n",
            "    \u001b[33mInfinity\u001b[39m, \u001b[33mInfinity\u001b[39m, \u001b[33mInfinity\u001b[39m, \u001b[33mInfinity\u001b[39m, \u001b[33mInfinity\u001b[39m, \u001b[33mInfinity\u001b[39m,\n",
            "    \u001b[33mInfinity\u001b[39m, \u001b[33mInfinity\u001b[39m, \u001b[33mInfinity\u001b[39m, \u001b[33mInfinity\u001b[39m, \u001b[33mInfinity\u001b[39m, \u001b[33mInfinity\u001b[39m,\n",
            "    \u001b[33mInfinity\u001b[39m, \u001b[33mInfinity\u001b[39m, \u001b[33mInfinity\u001b[39m, \u001b[33mInfinity\u001b[39m, \u001b[33mInfinity\u001b[39m, \u001b[33mInfinity\u001b[39m,\n",
            "    \u001b[33mInfinity\u001b[39m, \u001b[33mInfinity\u001b[39m, \u001b[33mInfinity\u001b[39m, \u001b[33mInfinity\u001b[39m, \u001b[33mInfinity\u001b[39m, \u001b[33mInfinity\u001b[39m,\n",
            "    \u001b[33mInfinity\u001b[39m, \u001b[33mInfinity\u001b[39m, \u001b[33mInfinity\u001b[39m, \u001b[33mInfinity\u001b[39m,\n",
            "    ... 500 more items\n",
            "  ],\n",
            "  [\n",
            "    \u001b[33mInfinity\u001b[39m, \u001b[33mInfinity\u001b[39m, \u001b[33mInfinity\u001b[39m, \u001b[33mInfinity\u001b[39m, \u001b[33mInfinity\u001b[39m, \u001b[33mInfinity\u001b[39m,\n",
            "    \u001b[33mInfinity\u001b[39m, \u001b[33mInfinity\u001b[39m, \u001b[33mInfinity\u001b[39m, \u001b[33mInfinity\u001b[39m, \u001b[33mInfinity\u001b[39m, \u001b[33mInfinity\u001b[39m,\n",
            "    \u001b[33mInfinity\u001b[39m, \u001b[33mInfinity\u001b[39m, \u001b[33mInfinity\u001b[39m, \u001b[33mInfinity\u001b[39m, \u001b[33mInfinity\u001b[39m, \u001b[33mInfinity\u001b[39m,\n",
            "    \u001b[33mInfinity\u001b[39m, \u001b[33mInfinity\u001b[39m, \u001b[33mInfinity\u001b[39m, \u001b[33mInfinity\u001b[39m, \u001b[33mInfinity\u001b[39m, \u001b[33mInfinity\u001b[39m,\n",
            "    \u001b[33mInfinity\u001b[39m, \u001b[33mInfinity\u001b[39m, \u001b[33mInfinity\u001b[39m, \u001b[33mInfinity\u001b[39m, \u001b[33mInfinity\u001b[39m, \u001b[33mInfinity\u001b[39m,\n",
            "    \u001b[33mInfinity\u001b[39m, \u001b[33mInfinity\u001b[39m, \u001b[33mInfinity\u001b[39m, \u001b[33mInfinity\u001b[39m, \u001b[33mInfinity\u001b[39m, \u001b[33mInfinity\u001b[39m,\n",
            "    \u001b[33mInfinity\u001b[39m, \u001b[33mInfinity\u001b[39m, \u001b[33mInfinity\u001b[39m, \u001b[33mInfinity\u001b[39m, \u001b[33mInfinity\u001b[39m, \u001b[33mInfinity\u001b[39m,\n",
            "    \u001b[33mInfinity\u001b[39m, \u001b[33mInfinity\u001b[39m, \u001b[33mInfinity\u001b[39m, \u001b[33mInfinity\u001b[39m, \u001b[33mInfinity\u001b[39m, \u001b[33mInfinity\u001b[39m,\n",
            "    \u001b[33mInfinity\u001b[39m, \u001b[33mInfinity\u001b[39m, \u001b[33mInfinity\u001b[39m, \u001b[33mInfinity\u001b[39m, \u001b[33mInfinity\u001b[39m, \u001b[33mInfinity\u001b[39m,\n",
            "    \u001b[33mInfinity\u001b[39m, \u001b[33mInfinity\u001b[39m, \u001b[33mInfinity\u001b[39m, \u001b[33mInfinity\u001b[39m, \u001b[33mInfinity\u001b[39m, \u001b[33mInfinity\u001b[39m,\n",
            "    \u001b[33mInfinity\u001b[39m, \u001b[33mInfinity\u001b[39m, \u001b[33mInfinity\u001b[39m, \u001b[33mInfinity\u001b[39m, \u001b[33mInfinity\u001b[39m, \u001b[33mInfinity\u001b[39m,\n",
            "    \u001b[33mInfinity\u001b[39m, \u001b[33mInfinity\u001b[39m, \u001b[33mInfinity\u001b[39m, \u001b[33mInfinity\u001b[39m, \u001b[33mInfinity\u001b[39m, \u001b[33mInfinity\u001b[39m,\n",
            "    \u001b[33mInfinity\u001b[39m, \u001b[33mInfinity\u001b[39m, \u001b[33mInfinity\u001b[39m, \u001b[33mInfinity\u001b[39m, \u001b[33mInfinity\u001b[39m, \u001b[33mInfinity\u001b[39m,\n",
            "    \u001b[33mInfinity\u001b[39m, \u001b[33mInfinity\u001b[39m, \u001b[33mInfinity\u001b[39m, \u001b[33mInfinity\u001b[39m, \u001b[33mInfinity\u001b[39m, \u001b[33mInfinity\u001b[39m,\n",
            "    \u001b[33mInfinity\u001b[39m, \u001b[33mInfinity\u001b[39m, \u001b[33mInfinity\u001b[39m, \u001b[33mInfinity\u001b[39m, \u001b[33mInfinity\u001b[39m, \u001b[33mInfinity\u001b[39m,\n",
            "    \u001b[33mInfinity\u001b[39m, \u001b[33mInfinity\u001b[39m, \u001b[33mInfinity\u001b[39m, \u001b[33mInfinity\u001b[39m, \u001b[33mInfinity\u001b[39m, \u001b[33mInfinity\u001b[39m,\n",
            "    \u001b[33mInfinity\u001b[39m, \u001b[33mInfinity\u001b[39m, \u001b[33mInfinity\u001b[39m, \u001b[33mInfinity\u001b[39m,\n",
            "    ... 500 more items\n",
            "  ],\n",
            "  [\n",
            "    \u001b[33mInfinity\u001b[39m, \u001b[33mInfinity\u001b[39m, \u001b[33mInfinity\u001b[39m, \u001b[33mInfinity\u001b[39m, \u001b[33mInfinity\u001b[39m, \u001b[33mInfinity\u001b[39m,\n",
            "    \u001b[33mInfinity\u001b[39m, \u001b[33mInfinity\u001b[39m, \u001b[33mInfinity\u001b[39m, \u001b[33mInfinity\u001b[39m, \u001b[33mInfinity\u001b[39m, \u001b[33mInfinity\u001b[39m,\n",
            "    \u001b[33mInfinity\u001b[39m, \u001b[33mInfinity\u001b[39m, \u001b[33mInfinity\u001b[39m, \u001b[33mInfinity\u001b[39m, \u001b[33mInfinity\u001b[39m, \u001b[33mInfinity\u001b[39m,\n",
            "    \u001b[33mInfinity\u001b[39m, \u001b[33mInfinity\u001b[39m, \u001b[33mInfinity\u001b[39m, \u001b[33mInfinity\u001b[39m, \u001b[33mInfinity\u001b[39m, \u001b[33mInfinity\u001b[39m,\n",
            "    \u001b[33mInfinity\u001b[39m, \u001b[33mInfinity\u001b[39m, \u001b[33mInfinity\u001b[39m, \u001b[33mInfinity\u001b[39m, \u001b[33mInfinity\u001b[39m, \u001b[33mInfinity\u001b[39m,\n",
            "    \u001b[33mInfinity\u001b[39m, \u001b[33mInfinity\u001b[39m, \u001b[33mInfinity\u001b[39m, \u001b[33mInfinity\u001b[39m, \u001b[33mInfinity\u001b[39m, \u001b[33mInfinity\u001b[39m,\n",
            "    \u001b[33mInfinity\u001b[39m, \u001b[33mInfinity\u001b[39m, \u001b[33mInfinity\u001b[39m, \u001b[33mInfinity\u001b[39m, \u001b[33mInfinity\u001b[39m, \u001b[33mInfinity\u001b[39m,\n",
            "    \u001b[33mInfinity\u001b[39m, \u001b[33mInfinity\u001b[39m, \u001b[33mInfinity\u001b[39m, \u001b[33mInfinity\u001b[39m, \u001b[33mInfinity\u001b[39m, \u001b[33mInfinity\u001b[39m,\n",
            "    \u001b[33mInfinity\u001b[39m, \u001b[33mInfinity\u001b[39m, \u001b[33mInfinity\u001b[39m, \u001b[33mInfinity\u001b[39m, \u001b[33mInfinity\u001b[39m, \u001b[33mInfinity\u001b[39m,\n",
            "    \u001b[33mInfinity\u001b[39m, \u001b[33mInfinity\u001b[39m, \u001b[33mInfinity\u001b[39m, \u001b[33mInfinity\u001b[39m, \u001b[33mInfinity\u001b[39m, \u001b[33mInfinity\u001b[39m,\n",
            "    \u001b[33mInfinity\u001b[39m, \u001b[33mInfinity\u001b[39m, \u001b[33mInfinity\u001b[39m, \u001b[33mInfinity\u001b[39m, \u001b[33mInfinity\u001b[39m, \u001b[33mInfinity\u001b[39m,\n",
            "    \u001b[33mInfinity\u001b[39m, \u001b[33mInfinity\u001b[39m, \u001b[33mInfinity\u001b[39m, \u001b[33mInfinity\u001b[39m, \u001b[33mInfinity\u001b[39m, \u001b[33mInfinity\u001b[39m,\n",
            "    \u001b[33mInfinity\u001b[39m, \u001b[33mInfinity\u001b[39m, \u001b[33mInfinity\u001b[39m, \u001b[33mInfinity\u001b[39m, \u001b[33mInfinity\u001b[39m, \u001b[33mInfinity\u001b[39m,\n",
            "    \u001b[33mInfinity\u001b[39m, \u001b[33mInfinity\u001b[39m, \u001b[33mInfinity\u001b[39m, \u001b[33mInfinity\u001b[39m, \u001b[33mInfinity\u001b[39m, \u001b[33mInfinity\u001b[39m,\n",
            "    \u001b[33mInfinity\u001b[39m, \u001b[33mInfinity\u001b[39m, \u001b[33mInfinity\u001b[39m, \u001b[33mInfinity\u001b[39m, \u001b[33mInfinity\u001b[39m, \u001b[33mInfinity\u001b[39m,\n",
            "    \u001b[33mInfinity\u001b[39m, \u001b[33mInfinity\u001b[39m, \u001b[33mInfinity\u001b[39m, \u001b[33mInfinity\u001b[39m, \u001b[33mInfinity\u001b[39m, \u001b[33mInfinity\u001b[39m,\n",
            "    \u001b[33mInfinity\u001b[39m, \u001b[33mInfinity\u001b[39m, \u001b[33mInfinity\u001b[39m, \u001b[33mInfinity\u001b[39m,\n",
            "    ... 500 more items\n",
            "  ],\n",
            "  [\n",
            "    \u001b[33mInfinity\u001b[39m, \u001b[33mInfinity\u001b[39m, \u001b[33mInfinity\u001b[39m, \u001b[33mInfinity\u001b[39m, \u001b[33mInfinity\u001b[39m, \u001b[33mInfinity\u001b[39m,\n",
            "    \u001b[33mInfinity\u001b[39m, \u001b[33mInfinity\u001b[39m, \u001b[33mInfinity\u001b[39m, \u001b[33mInfinity\u001b[39m, \u001b[33mInfinity\u001b[39m, \u001b[33mInfinity\u001b[39m,\n",
            "    \u001b[33mInfinity\u001b[39m, \u001b[33mInfinity\u001b[39m, \u001b[33mInfinity\u001b[39m, \u001b[33mInfinity\u001b[39m, \u001b[33mInfinity\u001b[39m, \u001b[33mInfinity\u001b[39m,\n",
            "    \u001b[33mInfinity\u001b[39m, \u001b[33mInfinity\u001b[39m, \u001b[33mInfinity\u001b[39m, \u001b[33mInfinity\u001b[39m, \u001b[33mInfinity\u001b[39m, \u001b[33mInfinity\u001b[39m,\n",
            "    \u001b[33mInfinity\u001b[39m, \u001b[33mInfinity\u001b[39m, \u001b[33mInfinity\u001b[39m, \u001b[33mInfinity\u001b[39m, \u001b[33mInfinity\u001b[39m, \u001b[33mInfinity\u001b[39m,\n",
            "    \u001b[33mInfinity\u001b[39m, \u001b[33mInfinity\u001b[39m, \u001b[33mInfinity\u001b[39m, \u001b[33mInfinity\u001b[39m, \u001b[33mInfinity\u001b[39m, \u001b[33mInfinity\u001b[39m,\n",
            "    \u001b[33mInfinity\u001b[39m, \u001b[33mInfinity\u001b[39m, \u001b[33mInfinity\u001b[39m, \u001b[33mInfinity\u001b[39m, \u001b[33mInfinity\u001b[39m, \u001b[33mInfinity\u001b[39m,\n",
            "    \u001b[33mInfinity\u001b[39m, \u001b[33mInfinity\u001b[39m, \u001b[33mInfinity\u001b[39m, \u001b[33mInfinity\u001b[39m, \u001b[33mInfinity\u001b[39m, \u001b[33mInfinity\u001b[39m,\n",
            "    \u001b[33mInfinity\u001b[39m, \u001b[33mInfinity\u001b[39m, \u001b[33mInfinity\u001b[39m, \u001b[33mInfinity\u001b[39m, \u001b[33mInfinity\u001b[39m, \u001b[33mInfinity\u001b[39m,\n",
            "    \u001b[33mInfinity\u001b[39m, \u001b[33mInfinity\u001b[39m, \u001b[33mInfinity\u001b[39m, \u001b[33mInfinity\u001b[39m, \u001b[33mInfinity\u001b[39m, \u001b[33mInfinity\u001b[39m,\n",
            "    \u001b[33mInfinity\u001b[39m, \u001b[33mInfinity\u001b[39m, \u001b[33mInfinity\u001b[39m, \u001b[33mInfinity\u001b[39m, \u001b[33mInfinity\u001b[39m, \u001b[33mInfinity\u001b[39m,\n",
            "    \u001b[33mInfinity\u001b[39m, \u001b[33mInfinity\u001b[39m, \u001b[33mInfinity\u001b[39m, \u001b[33mInfinity\u001b[39m, \u001b[33mInfinity\u001b[39m, \u001b[33mInfinity\u001b[39m,\n",
            "    \u001b[33mInfinity\u001b[39m, \u001b[33mInfinity\u001b[39m, \u001b[33mInfinity\u001b[39m, \u001b[33mInfinity\u001b[39m, \u001b[33mInfinity\u001b[39m, \u001b[33mInfinity\u001b[39m,\n",
            "    \u001b[33mInfinity\u001b[39m, \u001b[33mInfinity\u001b[39m, \u001b[33mInfinity\u001b[39m, \u001b[33mInfinity\u001b[39m, \u001b[33mInfinity\u001b[39m, \u001b[33mInfinity\u001b[39m,\n",
            "    \u001b[33mInfinity\u001b[39m, \u001b[33mInfinity\u001b[39m, \u001b[33mInfinity\u001b[39m, \u001b[33mInfinity\u001b[39m, \u001b[33mInfinity\u001b[39m, \u001b[33mInfinity\u001b[39m,\n",
            "    \u001b[33mInfinity\u001b[39m, \u001b[33mInfinity\u001b[39m, \u001b[33mInfinity\u001b[39m, \u001b[33mInfinity\u001b[39m, \u001b[33mInfinity\u001b[39m, \u001b[33mInfinity\u001b[39m,\n",
            "    \u001b[33mInfinity\u001b[39m, \u001b[33mInfinity\u001b[39m, \u001b[33mInfinity\u001b[39m, \u001b[33mInfinity\u001b[39m,\n",
            "    ... 500 more items\n",
            "  ],\n",
            "  [\n",
            "    \u001b[33mInfinity\u001b[39m, \u001b[33mInfinity\u001b[39m, \u001b[33mInfinity\u001b[39m, \u001b[33mInfinity\u001b[39m, \u001b[33mInfinity\u001b[39m, \u001b[33mInfinity\u001b[39m,\n",
            "    \u001b[33mInfinity\u001b[39m, \u001b[33mInfinity\u001b[39m, \u001b[33mInfinity\u001b[39m, \u001b[33mInfinity\u001b[39m, \u001b[33mInfinity\u001b[39m, \u001b[33mInfinity\u001b[39m,\n",
            "    \u001b[33mInfinity\u001b[39m, \u001b[33mInfinity\u001b[39m, \u001b[33mInfinity\u001b[39m, \u001b[33mInfinity\u001b[39m, \u001b[33mInfinity\u001b[39m, \u001b[33mInfinity\u001b[39m,\n",
            "    \u001b[33mInfinity\u001b[39m, \u001b[33mInfinity\u001b[39m, \u001b[33mInfinity\u001b[39m, \u001b[33mInfinity\u001b[39m, \u001b[33mInfinity\u001b[39m, \u001b[33mInfinity\u001b[39m,\n",
            "    \u001b[33mInfinity\u001b[39m, \u001b[33mInfinity\u001b[39m, \u001b[33mInfinity\u001b[39m, \u001b[33mInfinity\u001b[39m, \u001b[33mInfinity\u001b[39m, \u001b[33mInfinity\u001b[39m,\n",
            "    \u001b[33mInfinity\u001b[39m, \u001b[33mInfinity\u001b[39m, \u001b[33mInfinity\u001b[39m, \u001b[33mInfinity\u001b[39m, \u001b[33mInfinity\u001b[39m, \u001b[33mInfinity\u001b[39m,\n",
            "    \u001b[33mInfinity\u001b[39m, \u001b[33mInfinity\u001b[39m, \u001b[33mInfinity\u001b[39m, \u001b[33mInfinity\u001b[39m, \u001b[33mInfinity\u001b[39m, \u001b[33mInfinity\u001b[39m,\n",
            "    \u001b[33mInfinity\u001b[39m, \u001b[33mInfinity\u001b[39m, \u001b[33mInfinity\u001b[39m, \u001b[33mInfinity\u001b[39m, \u001b[33mInfinity\u001b[39m, \u001b[33mInfinity\u001b[39m,\n",
            "    \u001b[33mInfinity\u001b[39m, \u001b[33mInfinity\u001b[39m, \u001b[33mInfinity\u001b[39m, \u001b[33mInfinity\u001b[39m, \u001b[33mInfinity\u001b[39m, \u001b[33mInfinity\u001b[39m,\n",
            "    \u001b[33mInfinity\u001b[39m, \u001b[33mInfinity\u001b[39m, \u001b[33mInfinity\u001b[39m, \u001b[33mInfinity\u001b[39m, \u001b[33mInfinity\u001b[39m, \u001b[33mInfinity\u001b[39m,\n",
            "    \u001b[33mInfinity\u001b[39m, \u001b[33mInfinity\u001b[39m, \u001b[33mInfinity\u001b[39m, \u001b[33mInfinity\u001b[39m, \u001b[33mInfinity\u001b[39m, \u001b[33mInfinity\u001b[39m,\n",
            "    \u001b[33mInfinity\u001b[39m, \u001b[33mInfinity\u001b[39m, \u001b[33mInfinity\u001b[39m, \u001b[33mInfinity\u001b[39m, \u001b[33mInfinity\u001b[39m, \u001b[33mInfinity\u001b[39m,\n",
            "    \u001b[33mInfinity\u001b[39m, \u001b[33mInfinity\u001b[39m, \u001b[33mInfinity\u001b[39m, \u001b[33mInfinity\u001b[39m, \u001b[33mInfinity\u001b[39m, \u001b[33mInfinity\u001b[39m,\n",
            "    \u001b[33mInfinity\u001b[39m, \u001b[33mInfinity\u001b[39m, \u001b[33mInfinity\u001b[39m, \u001b[33mInfinity\u001b[39m, \u001b[33mInfinity\u001b[39m, \u001b[33mInfinity\u001b[39m,\n",
            "    \u001b[33mInfinity\u001b[39m, \u001b[33mInfinity\u001b[39m, \u001b[33mInfinity\u001b[39m, \u001b[33mInfinity\u001b[39m, \u001b[33mInfinity\u001b[39m, \u001b[33mInfinity\u001b[39m,\n",
            "    \u001b[33mInfinity\u001b[39m, \u001b[33mInfinity\u001b[39m, \u001b[33mInfinity\u001b[39m, \u001b[33mInfinity\u001b[39m, \u001b[33mInfinity\u001b[39m, \u001b[33mInfinity\u001b[39m,\n",
            "    \u001b[33mInfinity\u001b[39m, \u001b[33mInfinity\u001b[39m, \u001b[33mInfinity\u001b[39m, \u001b[33mInfinity\u001b[39m,\n",
            "    ... 500 more items\n",
            "  ],\n",
            "  [\n",
            "    \u001b[33mInfinity\u001b[39m, \u001b[33mInfinity\u001b[39m, \u001b[33mInfinity\u001b[39m, \u001b[33mInfinity\u001b[39m, \u001b[33mInfinity\u001b[39m, \u001b[33mInfinity\u001b[39m,\n",
            "    \u001b[33mInfinity\u001b[39m, \u001b[33mInfinity\u001b[39m, \u001b[33mInfinity\u001b[39m, \u001b[33mInfinity\u001b[39m, \u001b[33mInfinity\u001b[39m, \u001b[33mInfinity\u001b[39m,\n",
            "    \u001b[33mInfinity\u001b[39m, \u001b[33mInfinity\u001b[39m, \u001b[33mInfinity\u001b[39m, \u001b[33mInfinity\u001b[39m, \u001b[33mInfinity\u001b[39m, \u001b[33mInfinity\u001b[39m,\n",
            "    \u001b[33mInfinity\u001b[39m, \u001b[33mInfinity\u001b[39m, \u001b[33mInfinity\u001b[39m, \u001b[33mInfinity\u001b[39m, \u001b[33mInfinity\u001b[39m, \u001b[33mInfinity\u001b[39m,\n",
            "    \u001b[33mInfinity\u001b[39m, \u001b[33mInfinity\u001b[39m, \u001b[33mInfinity\u001b[39m, \u001b[33mInfinity\u001b[39m, \u001b[33mInfinity\u001b[39m, \u001b[33mInfinity\u001b[39m,\n",
            "    \u001b[33mInfinity\u001b[39m, \u001b[33mInfinity\u001b[39m, \u001b[33mInfinity\u001b[39m, \u001b[33mInfinity\u001b[39m, \u001b[33mInfinity\u001b[39m, \u001b[33mInfinity\u001b[39m,\n",
            "    \u001b[33mInfinity\u001b[39m, \u001b[33mInfinity\u001b[39m, \u001b[33mInfinity\u001b[39m, \u001b[33mInfinity\u001b[39m, \u001b[33mInfinity\u001b[39m, \u001b[33mInfinity\u001b[39m,\n",
            "    \u001b[33mInfinity\u001b[39m, \u001b[33mInfinity\u001b[39m, \u001b[33mInfinity\u001b[39m, \u001b[33mInfinity\u001b[39m, \u001b[33mInfinity\u001b[39m, \u001b[33mInfinity\u001b[39m,\n",
            "    \u001b[33mInfinity\u001b[39m, \u001b[33mInfinity\u001b[39m, \u001b[33mInfinity\u001b[39m, \u001b[33mInfinity\u001b[39m, \u001b[33mInfinity\u001b[39m, \u001b[33mInfinity\u001b[39m,\n",
            "    \u001b[33mInfinity\u001b[39m, \u001b[33mInfinity\u001b[39m, \u001b[33mInfinity\u001b[39m, \u001b[33mInfinity\u001b[39m, \u001b[33mInfinity\u001b[39m, \u001b[33mInfinity\u001b[39m,\n",
            "    \u001b[33mInfinity\u001b[39m, \u001b[33mInfinity\u001b[39m, \u001b[33mInfinity\u001b[39m, \u001b[33mInfinity\u001b[39m, \u001b[33mInfinity\u001b[39m, \u001b[33mInfinity\u001b[39m,\n",
            "    \u001b[33mInfinity\u001b[39m, \u001b[33mInfinity\u001b[39m, \u001b[33mInfinity\u001b[39m, \u001b[33mInfinity\u001b[39m, \u001b[33mInfinity\u001b[39m, \u001b[33mInfinity\u001b[39m,\n",
            "    \u001b[33mInfinity\u001b[39m, \u001b[33mInfinity\u001b[39m, \u001b[33mInfinity\u001b[39m, \u001b[33mInfinity\u001b[39m, \u001b[33mInfinity\u001b[39m, \u001b[33mInfinity\u001b[39m,\n",
            "    \u001b[33mInfinity\u001b[39m, \u001b[33mInfinity\u001b[39m, \u001b[33mInfinity\u001b[39m, \u001b[33mInfinity\u001b[39m, \u001b[33mInfinity\u001b[39m, \u001b[33mInfinity\u001b[39m,\n",
            "    \u001b[33mInfinity\u001b[39m, \u001b[33mInfinity\u001b[39m, \u001b[33mInfinity\u001b[39m, \u001b[33mInfinity\u001b[39m, \u001b[33mInfinity\u001b[39m, \u001b[33mInfinity\u001b[39m,\n",
            "    \u001b[33mInfinity\u001b[39m, \u001b[33mInfinity\u001b[39m, \u001b[33mInfinity\u001b[39m, \u001b[33mInfinity\u001b[39m, \u001b[33mInfinity\u001b[39m, \u001b[33mInfinity\u001b[39m,\n",
            "    \u001b[33mInfinity\u001b[39m, \u001b[33mInfinity\u001b[39m, \u001b[33mInfinity\u001b[39m, \u001b[33mInfinity\u001b[39m,\n",
            "    ... 500 more items\n",
            "  ],\n",
            "  [\n",
            "    \u001b[33mInfinity\u001b[39m, \u001b[33mInfinity\u001b[39m, \u001b[33mInfinity\u001b[39m, \u001b[33mInfinity\u001b[39m, \u001b[33mInfinity\u001b[39m, \u001b[33mInfinity\u001b[39m,\n",
            "    \u001b[33mInfinity\u001b[39m, \u001b[33mInfinity\u001b[39m, \u001b[33mInfinity\u001b[39m, \u001b[33mInfinity\u001b[39m, \u001b[33mInfinity\u001b[39m, \u001b[33mInfinity\u001b[39m,\n",
            "    \u001b[33mInfinity\u001b[39m, \u001b[33mInfinity\u001b[39m, \u001b[33mInfinity\u001b[39m, \u001b[33mInfinity\u001b[39m, \u001b[33mInfinity\u001b[39m, \u001b[33mInfinity\u001b[39m,\n",
            "    \u001b[33mInfinity\u001b[39m, \u001b[33mInfinity\u001b[39m, \u001b[33mInfinity\u001b[39m, \u001b[33mInfinity\u001b[39m, \u001b[33mInfinity\u001b[39m, \u001b[33mInfinity\u001b[39m,\n",
            "    \u001b[33mInfinity\u001b[39m, \u001b[33mInfinity\u001b[39m, \u001b[33mInfinity\u001b[39m, \u001b[33mInfinity\u001b[39m, \u001b[33mInfinity\u001b[39m, \u001b[33mInfinity\u001b[39m,\n",
            "    \u001b[33mInfinity\u001b[39m, \u001b[33mInfinity\u001b[39m, \u001b[33mInfinity\u001b[39m, \u001b[33mInfinity\u001b[39m, \u001b[33mInfinity\u001b[39m, \u001b[33mInfinity\u001b[39m,\n",
            "    \u001b[33mInfinity\u001b[39m, \u001b[33mInfinity\u001b[39m, \u001b[33mInfinity\u001b[39m, \u001b[33mInfinity\u001b[39m, \u001b[33mInfinity\u001b[39m, \u001b[33mInfinity\u001b[39m,\n",
            "    \u001b[33mInfinity\u001b[39m, \u001b[33mInfinity\u001b[39m, \u001b[33mInfinity\u001b[39m, \u001b[33mInfinity\u001b[39m, \u001b[33mInfinity\u001b[39m, \u001b[33mInfinity\u001b[39m,\n",
            "    \u001b[33mInfinity\u001b[39m, \u001b[33mInfinity\u001b[39m, \u001b[33mInfinity\u001b[39m, \u001b[33mInfinity\u001b[39m, \u001b[33mInfinity\u001b[39m, \u001b[33mInfinity\u001b[39m,\n",
            "    \u001b[33mInfinity\u001b[39m, \u001b[33mInfinity\u001b[39m, \u001b[33mInfinity\u001b[39m, \u001b[33mInfinity\u001b[39m, \u001b[33mInfinity\u001b[39m, \u001b[33mInfinity\u001b[39m,\n",
            "    \u001b[33mInfinity\u001b[39m, \u001b[33mInfinity\u001b[39m, \u001b[33mInfinity\u001b[39m, \u001b[33mInfinity\u001b[39m, \u001b[33mInfinity\u001b[39m, \u001b[33mInfinity\u001b[39m,\n",
            "    \u001b[33mInfinity\u001b[39m, \u001b[33mInfinity\u001b[39m, \u001b[33mInfinity\u001b[39m, \u001b[33mInfinity\u001b[39m, \u001b[33mInfinity\u001b[39m, \u001b[33mInfinity\u001b[39m,\n",
            "    \u001b[33mInfinity\u001b[39m, \u001b[33mInfinity\u001b[39m, \u001b[33mInfinity\u001b[39m, \u001b[33mInfinity\u001b[39m, \u001b[33mInfinity\u001b[39m, \u001b[33mInfinity\u001b[39m,\n",
            "    \u001b[33mInfinity\u001b[39m, \u001b[33mInfinity\u001b[39m, \u001b[33mInfinity\u001b[39m, \u001b[33mInfinity\u001b[39m, \u001b[33mInfinity\u001b[39m, \u001b[33mInfinity\u001b[39m,\n",
            "    \u001b[33mInfinity\u001b[39m, \u001b[33mInfinity\u001b[39m, \u001b[33mInfinity\u001b[39m, \u001b[33mInfinity\u001b[39m, \u001b[33mInfinity\u001b[39m, \u001b[33mInfinity\u001b[39m,\n",
            "    \u001b[33mInfinity\u001b[39m, \u001b[33mInfinity\u001b[39m, \u001b[33mInfinity\u001b[39m, \u001b[33mInfinity\u001b[39m, \u001b[33mInfinity\u001b[39m, \u001b[33mInfinity\u001b[39m,\n",
            "    \u001b[33mInfinity\u001b[39m, \u001b[33mInfinity\u001b[39m, \u001b[33mInfinity\u001b[39m, \u001b[33mInfinity\u001b[39m,\n",
            "    ... 500 more items\n",
            "  ],\n",
            "  [\n",
            "    \u001b[33mInfinity\u001b[39m, \u001b[33mInfinity\u001b[39m, \u001b[33mInfinity\u001b[39m, \u001b[33mInfinity\u001b[39m, \u001b[33mInfinity\u001b[39m, \u001b[33mInfinity\u001b[39m,\n",
            "    \u001b[33mInfinity\u001b[39m, \u001b[33mInfinity\u001b[39m, \u001b[33mInfinity\u001b[39m, \u001b[33mInfinity\u001b[39m, \u001b[33mInfinity\u001b[39m, \u001b[33mInfinity\u001b[39m,\n",
            "    \u001b[33mInfinity\u001b[39m, \u001b[33mInfinity\u001b[39m, \u001b[33mInfinity\u001b[39m, \u001b[33mInfinity\u001b[39m, \u001b[33mInfinity\u001b[39m, \u001b[33mInfinity\u001b[39m,\n",
            "    \u001b[33mInfinity\u001b[39m, \u001b[33mInfinity\u001b[39m, \u001b[33mInfinity\u001b[39m, \u001b[33mInfinity\u001b[39m, \u001b[33mInfinity\u001b[39m, \u001b[33mInfinity\u001b[39m,\n",
            "    \u001b[33mInfinity\u001b[39m, \u001b[33mInfinity\u001b[39m, \u001b[33mInfinity\u001b[39m, \u001b[33mInfinity\u001b[39m, \u001b[33mInfinity\u001b[39m, \u001b[33mInfinity\u001b[39m,\n",
            "    \u001b[33mInfinity\u001b[39m, \u001b[33mInfinity\u001b[39m, \u001b[33mInfinity\u001b[39m, \u001b[33mInfinity\u001b[39m, \u001b[33mInfinity\u001b[39m, \u001b[33mInfinity\u001b[39m,\n",
            "    \u001b[33mInfinity\u001b[39m, \u001b[33mInfinity\u001b[39m, \u001b[33mInfinity\u001b[39m, \u001b[33mInfinity\u001b[39m, \u001b[33mInfinity\u001b[39m, \u001b[33mInfinity\u001b[39m,\n",
            "    \u001b[33mInfinity\u001b[39m, \u001b[33mInfinity\u001b[39m, \u001b[33mInfinity\u001b[39m, \u001b[33mInfinity\u001b[39m, \u001b[33mInfinity\u001b[39m, \u001b[33mInfinity\u001b[39m,\n",
            "    \u001b[33mInfinity\u001b[39m, \u001b[33mInfinity\u001b[39m, \u001b[33mInfinity\u001b[39m, \u001b[33mInfinity\u001b[39m, \u001b[33mInfinity\u001b[39m, \u001b[33mInfinity\u001b[39m,\n",
            "    \u001b[33mInfinity\u001b[39m, \u001b[33mInfinity\u001b[39m, \u001b[33mInfinity\u001b[39m, \u001b[33mInfinity\u001b[39m, \u001b[33mInfinity\u001b[39m, \u001b[33mInfinity\u001b[39m,\n",
            "    \u001b[33mInfinity\u001b[39m, \u001b[33mInfinity\u001b[39m, \u001b[33mInfinity\u001b[39m, \u001b[33mInfinity\u001b[39m, \u001b[33mInfinity\u001b[39m, \u001b[33mInfinity\u001b[39m,\n",
            "    \u001b[33mInfinity\u001b[39m, \u001b[33mInfinity\u001b[39m, \u001b[33mInfinity\u001b[39m, \u001b[33mInfinity\u001b[39m, \u001b[33mInfinity\u001b[39m, \u001b[33mInfinity\u001b[39m,\n",
            "    \u001b[33mInfinity\u001b[39m, \u001b[33mInfinity\u001b[39m, \u001b[33mInfinity\u001b[39m, \u001b[33mInfinity\u001b[39m, \u001b[33mInfinity\u001b[39m, \u001b[33mInfinity\u001b[39m,\n",
            "    \u001b[33mInfinity\u001b[39m, \u001b[33mInfinity\u001b[39m, \u001b[33mInfinity\u001b[39m, \u001b[33mInfinity\u001b[39m, \u001b[33mInfinity\u001b[39m, \u001b[33mInfinity\u001b[39m,\n",
            "    \u001b[33mInfinity\u001b[39m, \u001b[33mInfinity\u001b[39m, \u001b[33mInfinity\u001b[39m, \u001b[33mInfinity\u001b[39m, \u001b[33mInfinity\u001b[39m, \u001b[33mInfinity\u001b[39m,\n",
            "    \u001b[33mInfinity\u001b[39m, \u001b[33mInfinity\u001b[39m, \u001b[33mInfinity\u001b[39m, \u001b[33mInfinity\u001b[39m, \u001b[33mInfinity\u001b[39m, \u001b[33mInfinity\u001b[39m,\n",
            "    \u001b[33mInfinity\u001b[39m, \u001b[33mInfinity\u001b[39m, \u001b[33mInfinity\u001b[39m, \u001b[33mInfinity\u001b[39m,\n",
            "    ... 500 more items\n",
            "  ],\n",
            "  [\n",
            "    \u001b[33mInfinity\u001b[39m, \u001b[33mInfinity\u001b[39m, \u001b[33mInfinity\u001b[39m, \u001b[33mInfinity\u001b[39m, \u001b[33mInfinity\u001b[39m, \u001b[33mInfinity\u001b[39m,\n",
            "    \u001b[33mInfinity\u001b[39m, \u001b[33mInfinity\u001b[39m, \u001b[33mInfinity\u001b[39m, \u001b[33mInfinity\u001b[39m, \u001b[33mInfinity\u001b[39m, \u001b[33mInfinity\u001b[39m,\n",
            "    \u001b[33mInfinity\u001b[39m, \u001b[33mInfinity\u001b[39m, \u001b[33mInfinity\u001b[39m, \u001b[33mInfinity\u001b[39m, \u001b[33mInfinity\u001b[39m, \u001b[33mInfinity\u001b[39m,\n",
            "    \u001b[33mInfinity\u001b[39m, \u001b[33mInfinity\u001b[39m, \u001b[33mInfinity\u001b[39m, \u001b[33mInfinity\u001b[39m, \u001b[33mInfinity\u001b[39m, \u001b[33mInfinity\u001b[39m,\n",
            "    \u001b[33mInfinity\u001b[39m, \u001b[33mInfinity\u001b[39m, \u001b[33mInfinity\u001b[39m, \u001b[33mInfinity\u001b[39m, \u001b[33mInfinity\u001b[39m, \u001b[33mInfinity\u001b[39m,\n",
            "    \u001b[33mInfinity\u001b[39m, \u001b[33mInfinity\u001b[39m, \u001b[33mInfinity\u001b[39m, \u001b[33mInfinity\u001b[39m, \u001b[33mInfinity\u001b[39m, \u001b[33mInfinity\u001b[39m,\n",
            "    \u001b[33mInfinity\u001b[39m, \u001b[33mInfinity\u001b[39m, \u001b[33mInfinity\u001b[39m, \u001b[33mInfinity\u001b[39m, \u001b[33mInfinity\u001b[39m, \u001b[33mInfinity\u001b[39m,\n",
            "    \u001b[33mInfinity\u001b[39m, \u001b[33mInfinity\u001b[39m, \u001b[33mInfinity\u001b[39m, \u001b[33mInfinity\u001b[39m, \u001b[33mInfinity\u001b[39m, \u001b[33mInfinity\u001b[39m,\n",
            "    \u001b[33mInfinity\u001b[39m, \u001b[33mInfinity\u001b[39m, \u001b[33mInfinity\u001b[39m, \u001b[33mInfinity\u001b[39m, \u001b[33mInfinity\u001b[39m, \u001b[33mInfinity\u001b[39m,\n",
            "    \u001b[33mInfinity\u001b[39m, \u001b[33mInfinity\u001b[39m, \u001b[33mInfinity\u001b[39m, \u001b[33mInfinity\u001b[39m, \u001b[33mInfinity\u001b[39m, \u001b[33mInfinity\u001b[39m,\n",
            "    \u001b[33mInfinity\u001b[39m, \u001b[33mInfinity\u001b[39m, \u001b[33mInfinity\u001b[39m, \u001b[33mInfinity\u001b[39m, \u001b[33mInfinity\u001b[39m, \u001b[33mInfinity\u001b[39m,\n",
            "    \u001b[33mInfinity\u001b[39m, \u001b[33mInfinity\u001b[39m, \u001b[33mInfinity\u001b[39m, \u001b[33mInfinity\u001b[39m, \u001b[33mInfinity\u001b[39m, \u001b[33mInfinity\u001b[39m,\n",
            "    \u001b[33mInfinity\u001b[39m, \u001b[33mInfinity\u001b[39m, \u001b[33mInfinity\u001b[39m, \u001b[33mInfinity\u001b[39m, \u001b[33mInfinity\u001b[39m, \u001b[33mInfinity\u001b[39m,\n",
            "    \u001b[33mInfinity\u001b[39m, \u001b[33mInfinity\u001b[39m, \u001b[33mInfinity\u001b[39m, \u001b[33mInfinity\u001b[39m, \u001b[33mInfinity\u001b[39m, \u001b[33mInfinity\u001b[39m,\n",
            "    \u001b[33mInfinity\u001b[39m, \u001b[33mInfinity\u001b[39m, \u001b[33mInfinity\u001b[39m, \u001b[33mInfinity\u001b[39m, \u001b[33mInfinity\u001b[39m, \u001b[33mInfinity\u001b[39m,\n",
            "    \u001b[33mInfinity\u001b[39m, \u001b[33mInfinity\u001b[39m, \u001b[33mInfinity\u001b[39m, \u001b[33mInfinity\u001b[39m, \u001b[33mInfinity\u001b[39m, \u001b[33mInfinity\u001b[39m,\n",
            "    \u001b[33mInfinity\u001b[39m, \u001b[33mInfinity\u001b[39m, \u001b[33mInfinity\u001b[39m, \u001b[33mInfinity\u001b[39m,\n",
            "    ... 500 more items\n",
            "  ],\n",
            "  [\n",
            "    \u001b[33mInfinity\u001b[39m, \u001b[33mInfinity\u001b[39m, \u001b[33mInfinity\u001b[39m, \u001b[33mInfinity\u001b[39m, \u001b[33mInfinity\u001b[39m, \u001b[33mInfinity\u001b[39m,\n",
            "    \u001b[33mInfinity\u001b[39m, \u001b[33mInfinity\u001b[39m, \u001b[33mInfinity\u001b[39m, \u001b[33mInfinity\u001b[39m, \u001b[33mInfinity\u001b[39m, \u001b[33mInfinity\u001b[39m,\n",
            "    \u001b[33mInfinity\u001b[39m, \u001b[33mInfinity\u001b[39m, \u001b[33mInfinity\u001b[39m, \u001b[33mInfinity\u001b[39m, \u001b[33mInfinity\u001b[39m, \u001b[33mInfinity\u001b[39m,\n",
            "    \u001b[33mInfinity\u001b[39m, \u001b[33mInfinity\u001b[39m, \u001b[33mInfinity\u001b[39m, \u001b[33mInfinity\u001b[39m, \u001b[33mInfinity\u001b[39m, \u001b[33mInfinity\u001b[39m,\n",
            "    \u001b[33mInfinity\u001b[39m, \u001b[33mInfinity\u001b[39m, \u001b[33mInfinity\u001b[39m, \u001b[33mInfinity\u001b[39m, \u001b[33mInfinity\u001b[39m, \u001b[33mInfinity\u001b[39m,\n",
            "    \u001b[33mInfinity\u001b[39m, \u001b[33mInfinity\u001b[39m, \u001b[33mInfinity\u001b[39m, \u001b[33mInfinity\u001b[39m, \u001b[33mInfinity\u001b[39m, \u001b[33mInfinity\u001b[39m,\n",
            "    \u001b[33mInfinity\u001b[39m, \u001b[33mInfinity\u001b[39m, \u001b[33mInfinity\u001b[39m, \u001b[33mInfinity\u001b[39m, \u001b[33mInfinity\u001b[39m, \u001b[33mInfinity\u001b[39m,\n",
            "    \u001b[33mInfinity\u001b[39m, \u001b[33mInfinity\u001b[39m, \u001b[33mInfinity\u001b[39m, \u001b[33mInfinity\u001b[39m, \u001b[33mInfinity\u001b[39m, \u001b[33mInfinity\u001b[39m,\n",
            "    \u001b[33mInfinity\u001b[39m, \u001b[33mInfinity\u001b[39m, \u001b[33mInfinity\u001b[39m, \u001b[33mInfinity\u001b[39m, \u001b[33mInfinity\u001b[39m, \u001b[33mInfinity\u001b[39m,\n",
            "    \u001b[33mInfinity\u001b[39m, \u001b[33mInfinity\u001b[39m, \u001b[33mInfinity\u001b[39m, \u001b[33mInfinity\u001b[39m, \u001b[33mInfinity\u001b[39m, \u001b[33mInfinity\u001b[39m,\n",
            "    \u001b[33mInfinity\u001b[39m, \u001b[33mInfinity\u001b[39m, \u001b[33mInfinity\u001b[39m, \u001b[33mInfinity\u001b[39m, \u001b[33mInfinity\u001b[39m, \u001b[33mInfinity\u001b[39m,\n",
            "    \u001b[33mInfinity\u001b[39m, \u001b[33mInfinity\u001b[39m, \u001b[33mInfinity\u001b[39m, \u001b[33mInfinity\u001b[39m, \u001b[33mInfinity\u001b[39m, \u001b[33mInfinity\u001b[39m,\n",
            "    \u001b[33mInfinity\u001b[39m, \u001b[33mInfinity\u001b[39m, \u001b[33mInfinity\u001b[39m, \u001b[33mInfinity\u001b[39m, \u001b[33mInfinity\u001b[39m, \u001b[33mInfinity\u001b[39m,\n",
            "    \u001b[33mInfinity\u001b[39m, \u001b[33mInfinity\u001b[39m, \u001b[33mInfinity\u001b[39m, \u001b[33mInfinity\u001b[39m, \u001b[33mInfinity\u001b[39m, \u001b[33mInfinity\u001b[39m,\n",
            "    \u001b[33mInfinity\u001b[39m, \u001b[33mInfinity\u001b[39m, \u001b[33mInfinity\u001b[39m, \u001b[33mInfinity\u001b[39m, \u001b[33mInfinity\u001b[39m, \u001b[33mInfinity\u001b[39m,\n",
            "    \u001b[33mInfinity\u001b[39m, \u001b[33mInfinity\u001b[39m, \u001b[33mInfinity\u001b[39m, \u001b[33mInfinity\u001b[39m, \u001b[33mInfinity\u001b[39m, \u001b[33mInfinity\u001b[39m,\n",
            "    \u001b[33mInfinity\u001b[39m, \u001b[33mInfinity\u001b[39m, \u001b[33mInfinity\u001b[39m, \u001b[33mInfinity\u001b[39m,\n",
            "    ... 500 more items\n",
            "  ],\n",
            "  [\n",
            "    \u001b[33mInfinity\u001b[39m, \u001b[33mInfinity\u001b[39m, \u001b[33mInfinity\u001b[39m, \u001b[33mInfinity\u001b[39m, \u001b[33mInfinity\u001b[39m, \u001b[33mInfinity\u001b[39m,\n",
            "    \u001b[33mInfinity\u001b[39m, \u001b[33mInfinity\u001b[39m, \u001b[33mInfinity\u001b[39m, \u001b[33mInfinity\u001b[39m, \u001b[33mInfinity\u001b[39m, \u001b[33mInfinity\u001b[39m,\n",
            "    \u001b[33mInfinity\u001b[39m, \u001b[33mInfinity\u001b[39m, \u001b[33mInfinity\u001b[39m, \u001b[33mInfinity\u001b[39m, \u001b[33mInfinity\u001b[39m, \u001b[33mInfinity\u001b[39m,\n",
            "    \u001b[33mInfinity\u001b[39m, \u001b[33mInfinity\u001b[39m, \u001b[33mInfinity\u001b[39m, \u001b[33mInfinity\u001b[39m, \u001b[33mInfinity\u001b[39m, \u001b[33mInfinity\u001b[39m,\n",
            "    \u001b[33mInfinity\u001b[39m, \u001b[33mInfinity\u001b[39m, \u001b[33mInfinity\u001b[39m, \u001b[33mInfinity\u001b[39m, \u001b[33mInfinity\u001b[39m, \u001b[33mInfinity\u001b[39m,\n",
            "    \u001b[33mInfinity\u001b[39m, \u001b[33mInfinity\u001b[39m, \u001b[33mInfinity\u001b[39m, \u001b[33mInfinity\u001b[39m, \u001b[33mInfinity\u001b[39m, \u001b[33mInfinity\u001b[39m,\n",
            "    \u001b[33mInfinity\u001b[39m, \u001b[33mInfinity\u001b[39m, \u001b[33mInfinity\u001b[39m, \u001b[33mInfinity\u001b[39m, \u001b[33mInfinity\u001b[39m, \u001b[33mInfinity\u001b[39m,\n",
            "    \u001b[33mInfinity\u001b[39m, \u001b[33mInfinity\u001b[39m, \u001b[33mInfinity\u001b[39m, \u001b[33mInfinity\u001b[39m, \u001b[33mInfinity\u001b[39m, \u001b[33mInfinity\u001b[39m,\n",
            "    \u001b[33mInfinity\u001b[39m, \u001b[33mInfinity\u001b[39m, \u001b[33mInfinity\u001b[39m, \u001b[33mInfinity\u001b[39m, \u001b[33mInfinity\u001b[39m, \u001b[33mInfinity\u001b[39m,\n",
            "    \u001b[33mInfinity\u001b[39m, \u001b[33mInfinity\u001b[39m, \u001b[33mInfinity\u001b[39m, \u001b[33mInfinity\u001b[39m, \u001b[33mInfinity\u001b[39m, \u001b[33mInfinity\u001b[39m,\n",
            "    \u001b[33mInfinity\u001b[39m, \u001b[33mInfinity\u001b[39m, \u001b[33mInfinity\u001b[39m, \u001b[33mInfinity\u001b[39m, \u001b[33mInfinity\u001b[39m, \u001b[33mInfinity\u001b[39m,\n",
            "    \u001b[33mInfinity\u001b[39m, \u001b[33mInfinity\u001b[39m, \u001b[33mInfinity\u001b[39m, \u001b[33mInfinity\u001b[39m, \u001b[33mInfinity\u001b[39m, \u001b[33mInfinity\u001b[39m,\n",
            "    \u001b[33mInfinity\u001b[39m, \u001b[33mInfinity\u001b[39m, \u001b[33mInfinity\u001b[39m, \u001b[33mInfinity\u001b[39m, \u001b[33mInfinity\u001b[39m, \u001b[33mInfinity\u001b[39m,\n",
            "    \u001b[33mInfinity\u001b[39m, \u001b[33mInfinity\u001b[39m, \u001b[33mInfinity\u001b[39m, \u001b[33mInfinity\u001b[39m, \u001b[33mInfinity\u001b[39m, \u001b[33mInfinity\u001b[39m,\n",
            "    \u001b[33mInfinity\u001b[39m, \u001b[33mInfinity\u001b[39m, \u001b[33mInfinity\u001b[39m, \u001b[33mInfinity\u001b[39m, \u001b[33mInfinity\u001b[39m, \u001b[33mInfinity\u001b[39m,\n",
            "    \u001b[33mInfinity\u001b[39m, \u001b[33mInfinity\u001b[39m, \u001b[33mInfinity\u001b[39m, \u001b[33mInfinity\u001b[39m, \u001b[33mInfinity\u001b[39m, \u001b[33mInfinity\u001b[39m,\n",
            "    \u001b[33mInfinity\u001b[39m, \u001b[33mInfinity\u001b[39m, \u001b[33mInfinity\u001b[39m, \u001b[33mInfinity\u001b[39m,\n",
            "    ... 500 more items\n",
            "  ],\n",
            "  [\n",
            "    \u001b[33mInfinity\u001b[39m, \u001b[33mInfinity\u001b[39m, \u001b[33mInfinity\u001b[39m, \u001b[33mInfinity\u001b[39m, \u001b[33mInfinity\u001b[39m, \u001b[33mInfinity\u001b[39m,\n",
            "    \u001b[33mInfinity\u001b[39m, \u001b[33mInfinity\u001b[39m, \u001b[33mInfinity\u001b[39m, \u001b[33mInfinity\u001b[39m, \u001b[33mInfinity\u001b[39m, \u001b[33mInfinity\u001b[39m,\n",
            "    \u001b[33mInfinity\u001b[39m, \u001b[33mInfinity\u001b[39m, \u001b[33mInfinity\u001b[39m, \u001b[33mInfinity\u001b[39m, \u001b[33mInfinity\u001b[39m, \u001b[33mInfinity\u001b[39m,\n",
            "    \u001b[33mInfinity\u001b[39m, \u001b[33mInfinity\u001b[39m, \u001b[33mInfinity\u001b[39m, \u001b[33mInfinity\u001b[39m, \u001b[33mInfinity\u001b[39m, \u001b[33mInfinity\u001b[39m,\n",
            "    \u001b[33mInfinity\u001b[39m, \u001b[33mInfinity\u001b[39m, \u001b[33mInfinity\u001b[39m, \u001b[33mInfinity\u001b[39m, \u001b[33mInfinity\u001b[39m, \u001b[33mInfinity\u001b[39m,\n",
            "    \u001b[33mInfinity\u001b[39m, \u001b[33mInfinity\u001b[39m, \u001b[33mInfinity\u001b[39m, \u001b[33mInfinity\u001b[39m, \u001b[33mInfinity\u001b[39m, \u001b[33mInfinity\u001b[39m,\n",
            "    \u001b[33mInfinity\u001b[39m, \u001b[33mInfinity\u001b[39m, \u001b[33mInfinity\u001b[39m, \u001b[33mInfinity\u001b[39m, \u001b[33mInfinity\u001b[39m, \u001b[33mInfinity\u001b[39m,\n",
            "    \u001b[33mInfinity\u001b[39m, \u001b[33mInfinity\u001b[39m, \u001b[33mInfinity\u001b[39m, \u001b[33mInfinity\u001b[39m, \u001b[33mInfinity\u001b[39m, \u001b[33mInfinity\u001b[39m,\n",
            "    \u001b[33mInfinity\u001b[39m, \u001b[33mInfinity\u001b[39m, \u001b[33mInfinity\u001b[39m, \u001b[33mInfinity\u001b[39m, \u001b[33mInfinity\u001b[39m, \u001b[33mInfinity\u001b[39m,\n",
            "    \u001b[33mInfinity\u001b[39m, \u001b[33mInfinity\u001b[39m, \u001b[33mInfinity\u001b[39m, \u001b[33mInfinity\u001b[39m, \u001b[33mInfinity\u001b[39m, \u001b[33mInfinity\u001b[39m,\n",
            "    \u001b[33mInfinity\u001b[39m, \u001b[33mInfinity\u001b[39m, \u001b[33mInfinity\u001b[39m, \u001b[33mInfinity\u001b[39m, \u001b[33mInfinity\u001b[39m, \u001b[33mInfinity\u001b[39m,\n",
            "    \u001b[33mInfinity\u001b[39m, \u001b[33mInfinity\u001b[39m, \u001b[33mInfinity\u001b[39m, \u001b[33mInfinity\u001b[39m, \u001b[33mInfinity\u001b[39m, \u001b[33mInfinity\u001b[39m,\n",
            "    \u001b[33mInfinity\u001b[39m, \u001b[33mInfinity\u001b[39m, \u001b[33mInfinity\u001b[39m, \u001b[33mInfinity\u001b[39m, \u001b[33mInfinity\u001b[39m, \u001b[33mInfinity\u001b[39m,\n",
            "    \u001b[33mInfinity\u001b[39m, \u001b[33mInfinity\u001b[39m, \u001b[33mInfinity\u001b[39m, \u001b[33mInfinity\u001b[39m, \u001b[33mInfinity\u001b[39m, \u001b[33mInfinity\u001b[39m,\n",
            "    \u001b[33mInfinity\u001b[39m, \u001b[33mInfinity\u001b[39m, \u001b[33mInfinity\u001b[39m, \u001b[33mInfinity\u001b[39m, \u001b[33mInfinity\u001b[39m, \u001b[33mInfinity\u001b[39m,\n",
            "    \u001b[33mInfinity\u001b[39m, \u001b[33mInfinity\u001b[39m, \u001b[33mInfinity\u001b[39m, \u001b[33mInfinity\u001b[39m, \u001b[33mInfinity\u001b[39m, \u001b[33mInfinity\u001b[39m,\n",
            "    \u001b[33mInfinity\u001b[39m, \u001b[33mInfinity\u001b[39m, \u001b[33mInfinity\u001b[39m, \u001b[33mInfinity\u001b[39m,\n",
            "    ... 500 more items\n",
            "  ],\n",
            "  [\n",
            "    \u001b[33mInfinity\u001b[39m, \u001b[33mInfinity\u001b[39m, \u001b[33mInfinity\u001b[39m, \u001b[33mInfinity\u001b[39m, \u001b[33mInfinity\u001b[39m, \u001b[33mInfinity\u001b[39m,\n",
            "    \u001b[33mInfinity\u001b[39m, \u001b[33mInfinity\u001b[39m, \u001b[33mInfinity\u001b[39m, \u001b[33mInfinity\u001b[39m, \u001b[33mInfinity\u001b[39m, \u001b[33mInfinity\u001b[39m,\n",
            "    \u001b[33mInfinity\u001b[39m, \u001b[33mInfinity\u001b[39m, \u001b[33mInfinity\u001b[39m, \u001b[33mInfinity\u001b[39m, \u001b[33mInfinity\u001b[39m, \u001b[33mInfinity\u001b[39m,\n",
            "    \u001b[33mInfinity\u001b[39m, \u001b[33mInfinity\u001b[39m, \u001b[33mInfinity\u001b[39m, \u001b[33mInfinity\u001b[39m, \u001b[33mInfinity\u001b[39m, \u001b[33mInfinity\u001b[39m,\n",
            "    \u001b[33mInfinity\u001b[39m, \u001b[33mInfinity\u001b[39m, \u001b[33mInfinity\u001b[39m, \u001b[33mInfinity\u001b[39m, \u001b[33mInfinity\u001b[39m, \u001b[33mInfinity\u001b[39m,\n",
            "    \u001b[33mInfinity\u001b[39m, \u001b[33mInfinity\u001b[39m, \u001b[33mInfinity\u001b[39m, \u001b[33mInfinity\u001b[39m, \u001b[33mInfinity\u001b[39m, \u001b[33mInfinity\u001b[39m,\n",
            "    \u001b[33mInfinity\u001b[39m, \u001b[33mInfinity\u001b[39m, \u001b[33mInfinity\u001b[39m, \u001b[33mInfinity\u001b[39m, \u001b[33mInfinity\u001b[39m, \u001b[33mInfinity\u001b[39m,\n",
            "    \u001b[33mInfinity\u001b[39m, \u001b[33mInfinity\u001b[39m, \u001b[33mInfinity\u001b[39m, \u001b[33mInfinity\u001b[39m, \u001b[33mInfinity\u001b[39m, \u001b[33mInfinity\u001b[39m,\n",
            "    \u001b[33mInfinity\u001b[39m, \u001b[33mInfinity\u001b[39m, \u001b[33mInfinity\u001b[39m, \u001b[33mInfinity\u001b[39m, \u001b[33mInfinity\u001b[39m, \u001b[33mInfinity\u001b[39m,\n",
            "    \u001b[33mInfinity\u001b[39m, \u001b[33mInfinity\u001b[39m, \u001b[33mInfinity\u001b[39m, \u001b[33mInfinity\u001b[39m, \u001b[33mInfinity\u001b[39m, \u001b[33mInfinity\u001b[39m,\n",
            "    \u001b[33mInfinity\u001b[39m, \u001b[33mInfinity\u001b[39m, \u001b[33mInfinity\u001b[39m, \u001b[33mInfinity\u001b[39m, \u001b[33mInfinity\u001b[39m, \u001b[33mInfinity\u001b[39m,\n",
            "    \u001b[33mInfinity\u001b[39m, \u001b[33mInfinity\u001b[39m, \u001b[33mInfinity\u001b[39m, \u001b[33mInfinity\u001b[39m, \u001b[33mInfinity\u001b[39m, \u001b[33mInfinity\u001b[39m,\n",
            "    \u001b[33mInfinity\u001b[39m, \u001b[33mInfinity\u001b[39m, \u001b[33mInfinity\u001b[39m, \u001b[33mInfinity\u001b[39m, \u001b[33mInfinity\u001b[39m, \u001b[33mInfinity\u001b[39m,\n",
            "    \u001b[33mInfinity\u001b[39m, \u001b[33mInfinity\u001b[39m, \u001b[33mInfinity\u001b[39m, \u001b[33mInfinity\u001b[39m, \u001b[33mInfinity\u001b[39m, \u001b[33mInfinity\u001b[39m,\n",
            "    \u001b[33mInfinity\u001b[39m, \u001b[33mInfinity\u001b[39m, \u001b[33mInfinity\u001b[39m, \u001b[33mInfinity\u001b[39m, \u001b[33mInfinity\u001b[39m, \u001b[33mInfinity\u001b[39m,\n",
            "    \u001b[33mInfinity\u001b[39m, \u001b[33mInfinity\u001b[39m, \u001b[33mInfinity\u001b[39m, \u001b[33mInfinity\u001b[39m, \u001b[33mInfinity\u001b[39m, \u001b[33mInfinity\u001b[39m,\n",
            "    \u001b[33mInfinity\u001b[39m, \u001b[33mInfinity\u001b[39m, \u001b[33mInfinity\u001b[39m, \u001b[33mInfinity\u001b[39m,\n",
            "    ... 500 more items\n",
            "  ],\n",
            "  [\n",
            "    \u001b[33mInfinity\u001b[39m, \u001b[33mInfinity\u001b[39m, \u001b[33mInfinity\u001b[39m, \u001b[33mInfinity\u001b[39m, \u001b[33mInfinity\u001b[39m, \u001b[33mInfinity\u001b[39m,\n",
            "    \u001b[33mInfinity\u001b[39m, \u001b[33mInfinity\u001b[39m, \u001b[33mInfinity\u001b[39m, \u001b[33mInfinity\u001b[39m, \u001b[33mInfinity\u001b[39m, \u001b[33mInfinity\u001b[39m,\n",
            "    \u001b[33mInfinity\u001b[39m, \u001b[33mInfinity\u001b[39m, \u001b[33mInfinity\u001b[39m, \u001b[33mInfinity\u001b[39m, \u001b[33mInfinity\u001b[39m, \u001b[33mInfinity\u001b[39m,\n",
            "    \u001b[33mInfinity\u001b[39m, \u001b[33mInfinity\u001b[39m, \u001b[33mInfinity\u001b[39m, \u001b[33mInfinity\u001b[39m, \u001b[33mInfinity\u001b[39m, \u001b[33mInfinity\u001b[39m,\n",
            "    \u001b[33mInfinity\u001b[39m, \u001b[33mInfinity\u001b[39m, \u001b[33mInfinity\u001b[39m, \u001b[33mInfinity\u001b[39m, \u001b[33mInfinity\u001b[39m, \u001b[33mInfinity\u001b[39m,\n",
            "    \u001b[33mInfinity\u001b[39m, \u001b[33mInfinity\u001b[39m, \u001b[33mInfinity\u001b[39m, \u001b[33mInfinity\u001b[39m, \u001b[33mInfinity\u001b[39m, \u001b[33mInfinity\u001b[39m,\n",
            "    \u001b[33mInfinity\u001b[39m, \u001b[33mInfinity\u001b[39m, \u001b[33mInfinity\u001b[39m, \u001b[33mInfinity\u001b[39m, \u001b[33mInfinity\u001b[39m, \u001b[33mInfinity\u001b[39m,\n",
            "    \u001b[33mInfinity\u001b[39m, \u001b[33mInfinity\u001b[39m, \u001b[33mInfinity\u001b[39m, \u001b[33mInfinity\u001b[39m, \u001b[33mInfinity\u001b[39m, \u001b[33mInfinity\u001b[39m,\n",
            "    \u001b[33mInfinity\u001b[39m, \u001b[33mInfinity\u001b[39m, \u001b[33mInfinity\u001b[39m, \u001b[33mInfinity\u001b[39m, \u001b[33mInfinity\u001b[39m, \u001b[33mInfinity\u001b[39m,\n",
            "    \u001b[33mInfinity\u001b[39m, \u001b[33mInfinity\u001b[39m, \u001b[33mInfinity\u001b[39m, \u001b[33mInfinity\u001b[39m, \u001b[33mInfinity\u001b[39m, \u001b[33mInfinity\u001b[39m,\n",
            "    \u001b[33mInfinity\u001b[39m, \u001b[33mInfinity\u001b[39m, \u001b[33mInfinity\u001b[39m, \u001b[33mInfinity\u001b[39m, \u001b[33mInfinity\u001b[39m, \u001b[33mInfinity\u001b[39m,\n",
            "    \u001b[33mInfinity\u001b[39m, \u001b[33mInfinity\u001b[39m, \u001b[33mInfinity\u001b[39m, \u001b[33mInfinity\u001b[39m, \u001b[33mInfinity\u001b[39m, \u001b[33mInfinity\u001b[39m,\n",
            "    \u001b[33mInfinity\u001b[39m, \u001b[33mInfinity\u001b[39m, \u001b[33mInfinity\u001b[39m, \u001b[33mInfinity\u001b[39m, \u001b[33mInfinity\u001b[39m, \u001b[33mInfinity\u001b[39m,\n",
            "    \u001b[33mInfinity\u001b[39m, \u001b[33mInfinity\u001b[39m, \u001b[33mInfinity\u001b[39m, \u001b[33mInfinity\u001b[39m, \u001b[33mInfinity\u001b[39m, \u001b[33mInfinity\u001b[39m,\n",
            "    \u001b[33mInfinity\u001b[39m, \u001b[33mInfinity\u001b[39m, \u001b[33mInfinity\u001b[39m, \u001b[33mInfinity\u001b[39m, \u001b[33mInfinity\u001b[39m, \u001b[33mInfinity\u001b[39m,\n",
            "    \u001b[33mInfinity\u001b[39m, \u001b[33mInfinity\u001b[39m, \u001b[33mInfinity\u001b[39m, \u001b[33mInfinity\u001b[39m, \u001b[33mInfinity\u001b[39m, \u001b[33mInfinity\u001b[39m,\n",
            "    \u001b[33mInfinity\u001b[39m, \u001b[33mInfinity\u001b[39m, \u001b[33mInfinity\u001b[39m, \u001b[33mInfinity\u001b[39m,\n",
            "    ... 500 more items\n",
            "  ],\n",
            "  [\n",
            "    \u001b[33mInfinity\u001b[39m, \u001b[33mInfinity\u001b[39m, \u001b[33mInfinity\u001b[39m, \u001b[33mInfinity\u001b[39m, \u001b[33mInfinity\u001b[39m, \u001b[33mInfinity\u001b[39m,\n",
            "    \u001b[33mInfinity\u001b[39m, \u001b[33mInfinity\u001b[39m, \u001b[33mInfinity\u001b[39m, \u001b[33mInfinity\u001b[39m, \u001b[33mInfinity\u001b[39m, \u001b[33mInfinity\u001b[39m,\n",
            "    \u001b[33mInfinity\u001b[39m, \u001b[33mInfinity\u001b[39m, \u001b[33mInfinity\u001b[39m, \u001b[33mInfinity\u001b[39m, \u001b[33mInfinity\u001b[39m, \u001b[33mInfinity\u001b[39m,\n",
            "    \u001b[33mInfinity\u001b[39m, \u001b[33mInfinity\u001b[39m, \u001b[33mInfinity\u001b[39m, \u001b[33mInfinity\u001b[39m, \u001b[33mInfinity\u001b[39m, \u001b[33mInfinity\u001b[39m,\n",
            "    \u001b[33mInfinity\u001b[39m, \u001b[33mInfinity\u001b[39m, \u001b[33mInfinity\u001b[39m, \u001b[33mInfinity\u001b[39m, \u001b[33mInfinity\u001b[39m, \u001b[33mInfinity\u001b[39m,\n",
            "    \u001b[33mInfinity\u001b[39m, \u001b[33mInfinity\u001b[39m, \u001b[33mInfinity\u001b[39m, \u001b[33mInfinity\u001b[39m, \u001b[33mInfinity\u001b[39m, \u001b[33mInfinity\u001b[39m,\n",
            "    \u001b[33mInfinity\u001b[39m, \u001b[33mInfinity\u001b[39m, \u001b[33mInfinity\u001b[39m, \u001b[33mInfinity\u001b[39m, \u001b[33mInfinity\u001b[39m, \u001b[33mInfinity\u001b[39m,\n",
            "    \u001b[33mInfinity\u001b[39m, \u001b[33mInfinity\u001b[39m, \u001b[33mInfinity\u001b[39m, \u001b[33mInfinity\u001b[39m, \u001b[33mInfinity\u001b[39m, \u001b[33mInfinity\u001b[39m,\n",
            "    \u001b[33mInfinity\u001b[39m, \u001b[33mInfinity\u001b[39m, \u001b[33mInfinity\u001b[39m, \u001b[33mInfinity\u001b[39m, \u001b[33mInfinity\u001b[39m, \u001b[33mInfinity\u001b[39m,\n",
            "    \u001b[33mInfinity\u001b[39m, \u001b[33mInfinity\u001b[39m, \u001b[33mInfinity\u001b[39m, \u001b[33mInfinity\u001b[39m, \u001b[33mInfinity\u001b[39m, \u001b[33mInfinity\u001b[39m,\n",
            "    \u001b[33mInfinity\u001b[39m, \u001b[33mInfinity\u001b[39m, \u001b[33mInfinity\u001b[39m, \u001b[33mInfinity\u001b[39m, \u001b[33mInfinity\u001b[39m, \u001b[33mInfinity\u001b[39m,\n",
            "    \u001b[33mInfinity\u001b[39m, \u001b[33mInfinity\u001b[39m, \u001b[33mInfinity\u001b[39m, \u001b[33mInfinity\u001b[39m, \u001b[33mInfinity\u001b[39m, \u001b[33mInfinity\u001b[39m,\n",
            "    \u001b[33mInfinity\u001b[39m, \u001b[33mInfinity\u001b[39m, \u001b[33mInfinity\u001b[39m, \u001b[33mInfinity\u001b[39m, \u001b[33mInfinity\u001b[39m, \u001b[33mInfinity\u001b[39m,\n",
            "    \u001b[33mInfinity\u001b[39m, \u001b[33mInfinity\u001b[39m, \u001b[33mInfinity\u001b[39m, \u001b[33mInfinity\u001b[39m, \u001b[33mInfinity\u001b[39m, \u001b[33mInfinity\u001b[39m,\n",
            "    \u001b[33mInfinity\u001b[39m, \u001b[33mInfinity\u001b[39m, \u001b[33mInfinity\u001b[39m, \u001b[33mInfinity\u001b[39m, \u001b[33mInfinity\u001b[39m, \u001b[33mInfinity\u001b[39m,\n",
            "    \u001b[33mInfinity\u001b[39m, \u001b[33mInfinity\u001b[39m, \u001b[33mInfinity\u001b[39m, \u001b[33mInfinity\u001b[39m, \u001b[33mInfinity\u001b[39m, \u001b[33mInfinity\u001b[39m,\n",
            "    \u001b[33mInfinity\u001b[39m, \u001b[33mInfinity\u001b[39m, \u001b[33mInfinity\u001b[39m, \u001b[33mInfinity\u001b[39m,\n",
            "    ... 500 more items\n",
            "  ],\n",
            "  [\n",
            "    \u001b[33mInfinity\u001b[39m, \u001b[33mInfinity\u001b[39m, \u001b[33mInfinity\u001b[39m, \u001b[33mInfinity\u001b[39m, \u001b[33mInfinity\u001b[39m, \u001b[33mInfinity\u001b[39m,\n",
            "    \u001b[33mInfinity\u001b[39m, \u001b[33mInfinity\u001b[39m, \u001b[33mInfinity\u001b[39m, \u001b[33mInfinity\u001b[39m, \u001b[33mInfinity\u001b[39m, \u001b[33mInfinity\u001b[39m,\n",
            "    \u001b[33mInfinity\u001b[39m, \u001b[33mInfinity\u001b[39m, \u001b[33mInfinity\u001b[39m, \u001b[33mInfinity\u001b[39m, \u001b[33mInfinity\u001b[39m, \u001b[33mInfinity\u001b[39m,\n",
            "    \u001b[33mInfinity\u001b[39m, \u001b[33mInfinity\u001b[39m, \u001b[33mInfinity\u001b[39m, \u001b[33mInfinity\u001b[39m, \u001b[33mInfinity\u001b[39m, \u001b[33mInfinity\u001b[39m,\n",
            "    \u001b[33mInfinity\u001b[39m, \u001b[33mInfinity\u001b[39m, \u001b[33mInfinity\u001b[39m, \u001b[33mInfinity\u001b[39m, \u001b[33mInfinity\u001b[39m, \u001b[33mInfinity\u001b[39m,\n",
            "    \u001b[33mInfinity\u001b[39m, \u001b[33mInfinity\u001b[39m, \u001b[33mInfinity\u001b[39m, \u001b[33mInfinity\u001b[39m, \u001b[33mInfinity\u001b[39m, \u001b[33mInfinity\u001b[39m,\n",
            "    \u001b[33mInfinity\u001b[39m, \u001b[33mInfinity\u001b[39m, \u001b[33mInfinity\u001b[39m, \u001b[33mInfinity\u001b[39m, \u001b[33mInfinity\u001b[39m, \u001b[33mInfinity\u001b[39m,\n",
            "    \u001b[33mInfinity\u001b[39m, \u001b[33mInfinity\u001b[39m, \u001b[33mInfinity\u001b[39m, \u001b[33mInfinity\u001b[39m, \u001b[33mInfinity\u001b[39m, \u001b[33mInfinity\u001b[39m,\n",
            "    \u001b[33mInfinity\u001b[39m, \u001b[33mInfinity\u001b[39m, \u001b[33mInfinity\u001b[39m, \u001b[33mInfinity\u001b[39m, \u001b[33mInfinity\u001b[39m, \u001b[33mInfinity\u001b[39m,\n",
            "    \u001b[33mInfinity\u001b[39m, \u001b[33mInfinity\u001b[39m, \u001b[33mInfinity\u001b[39m, \u001b[33mInfinity\u001b[39m, \u001b[33mInfinity\u001b[39m, \u001b[33mInfinity\u001b[39m,\n",
            "    \u001b[33mInfinity\u001b[39m, \u001b[33mInfinity\u001b[39m, \u001b[33mInfinity\u001b[39m, \u001b[33mInfinity\u001b[39m, \u001b[33mInfinity\u001b[39m, \u001b[33mInfinity\u001b[39m,\n",
            "    \u001b[33mInfinity\u001b[39m, \u001b[33mInfinity\u001b[39m, \u001b[33mInfinity\u001b[39m, \u001b[33mInfinity\u001b[39m, \u001b[33mInfinity\u001b[39m, \u001b[33mInfinity\u001b[39m,\n",
            "    \u001b[33mInfinity\u001b[39m, \u001b[33mInfinity\u001b[39m, \u001b[33mInfinity\u001b[39m, \u001b[33mInfinity\u001b[39m, \u001b[33mInfinity\u001b[39m, \u001b[33mInfinity\u001b[39m,\n",
            "    \u001b[33mInfinity\u001b[39m, \u001b[33mInfinity\u001b[39m, \u001b[33mInfinity\u001b[39m, \u001b[33mInfinity\u001b[39m, \u001b[33mInfinity\u001b[39m, \u001b[33mInfinity\u001b[39m,\n",
            "    \u001b[33mInfinity\u001b[39m, \u001b[33mInfinity\u001b[39m, \u001b[33mInfinity\u001b[39m, \u001b[33mInfinity\u001b[39m, \u001b[33mInfinity\u001b[39m, \u001b[33mInfinity\u001b[39m,\n",
            "    \u001b[33mInfinity\u001b[39m, \u001b[33mInfinity\u001b[39m, \u001b[33mInfinity\u001b[39m, \u001b[33mInfinity\u001b[39m, \u001b[33mInfinity\u001b[39m, \u001b[33mInfinity\u001b[39m,\n",
            "    \u001b[33mInfinity\u001b[39m, \u001b[33mInfinity\u001b[39m, \u001b[33mInfinity\u001b[39m, \u001b[33mInfinity\u001b[39m,\n",
            "    ... 500 more items\n",
            "  ],\n",
            "  [\n",
            "    \u001b[33mInfinity\u001b[39m, \u001b[33mInfinity\u001b[39m, \u001b[33mInfinity\u001b[39m, \u001b[33mInfinity\u001b[39m, \u001b[33mInfinity\u001b[39m, \u001b[33mInfinity\u001b[39m,\n",
            "    \u001b[33mInfinity\u001b[39m, \u001b[33mInfinity\u001b[39m, \u001b[33mInfinity\u001b[39m, \u001b[33mInfinity\u001b[39m, \u001b[33mInfinity\u001b[39m, \u001b[33mInfinity\u001b[39m,\n",
            "    \u001b[33mInfinity\u001b[39m, \u001b[33mInfinity\u001b[39m, \u001b[33mInfinity\u001b[39m, \u001b[33mInfinity\u001b[39m, \u001b[33mInfinity\u001b[39m, \u001b[33mInfinity\u001b[39m,\n",
            "    \u001b[33mInfinity\u001b[39m, \u001b[33mInfinity\u001b[39m, \u001b[33mInfinity\u001b[39m, \u001b[33mInfinity\u001b[39m, \u001b[33mInfinity\u001b[39m, \u001b[33mInfinity\u001b[39m,\n",
            "    \u001b[33mInfinity\u001b[39m, \u001b[33mInfinity\u001b[39m, \u001b[33mInfinity\u001b[39m, \u001b[33mInfinity\u001b[39m, \u001b[33mInfinity\u001b[39m, \u001b[33mInfinity\u001b[39m,\n",
            "    \u001b[33mInfinity\u001b[39m, \u001b[33mInfinity\u001b[39m, \u001b[33mInfinity\u001b[39m, \u001b[33mInfinity\u001b[39m, \u001b[33mInfinity\u001b[39m, \u001b[33mInfinity\u001b[39m,\n",
            "    \u001b[33mInfinity\u001b[39m, \u001b[33mInfinity\u001b[39m, \u001b[33mInfinity\u001b[39m, \u001b[33mInfinity\u001b[39m, \u001b[33mInfinity\u001b[39m, \u001b[33mInfinity\u001b[39m,\n",
            "    \u001b[33mInfinity\u001b[39m, \u001b[33mInfinity\u001b[39m, \u001b[33mInfinity\u001b[39m, \u001b[33mInfinity\u001b[39m, \u001b[33mInfinity\u001b[39m, \u001b[33mInfinity\u001b[39m,\n",
            "    \u001b[33mInfinity\u001b[39m, \u001b[33mInfinity\u001b[39m, \u001b[33mInfinity\u001b[39m, \u001b[33mInfinity\u001b[39m, \u001b[33mInfinity\u001b[39m, \u001b[33mInfinity\u001b[39m,\n",
            "    \u001b[33mInfinity\u001b[39m, \u001b[33mInfinity\u001b[39m, \u001b[33mInfinity\u001b[39m, \u001b[33mInfinity\u001b[39m, \u001b[33mInfinity\u001b[39m, \u001b[33mInfinity\u001b[39m,\n",
            "    \u001b[33mInfinity\u001b[39m, \u001b[33mInfinity\u001b[39m, \u001b[33mInfinity\u001b[39m, \u001b[33mInfinity\u001b[39m, \u001b[33mInfinity\u001b[39m, \u001b[33mInfinity\u001b[39m,\n",
            "    \u001b[33mInfinity\u001b[39m, \u001b[33mInfinity\u001b[39m, \u001b[33mInfinity\u001b[39m, \u001b[33mInfinity\u001b[39m, \u001b[33mInfinity\u001b[39m, \u001b[33mInfinity\u001b[39m,\n",
            "    \u001b[33mInfinity\u001b[39m, \u001b[33mInfinity\u001b[39m, \u001b[33mInfinity\u001b[39m, \u001b[33mInfinity\u001b[39m, \u001b[33mInfinity\u001b[39m, \u001b[33mInfinity\u001b[39m,\n",
            "    \u001b[33mInfinity\u001b[39m, \u001b[33mInfinity\u001b[39m, \u001b[33mInfinity\u001b[39m, \u001b[33mInfinity\u001b[39m, \u001b[33mInfinity\u001b[39m, \u001b[33mInfinity\u001b[39m,\n",
            "    \u001b[33mInfinity\u001b[39m, \u001b[33mInfinity\u001b[39m, \u001b[33mInfinity\u001b[39m, \u001b[33mInfinity\u001b[39m, \u001b[33mInfinity\u001b[39m, \u001b[33mInfinity\u001b[39m,\n",
            "    \u001b[33mInfinity\u001b[39m, \u001b[33mInfinity\u001b[39m, \u001b[33mInfinity\u001b[39m, \u001b[33mInfinity\u001b[39m, \u001b[33mInfinity\u001b[39m, \u001b[33mInfinity\u001b[39m,\n",
            "    \u001b[33mInfinity\u001b[39m, \u001b[33mInfinity\u001b[39m, \u001b[33mInfinity\u001b[39m, \u001b[33mInfinity\u001b[39m,\n",
            "    ... 500 more items\n",
            "  ],\n",
            "  [\n",
            "    \u001b[33mInfinity\u001b[39m, \u001b[33mInfinity\u001b[39m, \u001b[33mInfinity\u001b[39m, \u001b[33mInfinity\u001b[39m, \u001b[33mInfinity\u001b[39m, \u001b[33mInfinity\u001b[39m,\n",
            "    \u001b[33mInfinity\u001b[39m, \u001b[33mInfinity\u001b[39m, \u001b[33mInfinity\u001b[39m, \u001b[33mInfinity\u001b[39m, \u001b[33mInfinity\u001b[39m, \u001b[33mInfinity\u001b[39m,\n",
            "    \u001b[33mInfinity\u001b[39m, \u001b[33mInfinity\u001b[39m, \u001b[33mInfinity\u001b[39m, \u001b[33mInfinity\u001b[39m, \u001b[33mInfinity\u001b[39m, \u001b[33mInfinity\u001b[39m,\n",
            "    \u001b[33mInfinity\u001b[39m, \u001b[33mInfinity\u001b[39m, \u001b[33mInfinity\u001b[39m, \u001b[33mInfinity\u001b[39m, \u001b[33mInfinity\u001b[39m, \u001b[33mInfinity\u001b[39m,\n",
            "    \u001b[33mInfinity\u001b[39m, \u001b[33mInfinity\u001b[39m, \u001b[33mInfinity\u001b[39m, \u001b[33mInfinity\u001b[39m, \u001b[33mInfinity\u001b[39m, \u001b[33mInfinity\u001b[39m,\n",
            "    \u001b[33mInfinity\u001b[39m, \u001b[33mInfinity\u001b[39m, \u001b[33mInfinity\u001b[39m, \u001b[33mInfinity\u001b[39m, \u001b[33mInfinity\u001b[39m, \u001b[33mInfinity\u001b[39m,\n",
            "    \u001b[33mInfinity\u001b[39m, \u001b[33mInfinity\u001b[39m, \u001b[33mInfinity\u001b[39m, \u001b[33mInfinity\u001b[39m, \u001b[33mInfinity\u001b[39m, \u001b[33mInfinity\u001b[39m,\n",
            "    \u001b[33mInfinity\u001b[39m, \u001b[33mInfinity\u001b[39m, \u001b[33mInfinity\u001b[39m, \u001b[33mInfinity\u001b[39m, \u001b[33mInfinity\u001b[39m, \u001b[33mInfinity\u001b[39m,\n",
            "    \u001b[33mInfinity\u001b[39m, \u001b[33mInfinity\u001b[39m, \u001b[33mInfinity\u001b[39m, \u001b[33mInfinity\u001b[39m, \u001b[33mInfinity\u001b[39m, \u001b[33mInfinity\u001b[39m,\n",
            "    \u001b[33mInfinity\u001b[39m, \u001b[33mInfinity\u001b[39m, \u001b[33mInfinity\u001b[39m, \u001b[33mInfinity\u001b[39m, \u001b[33mInfinity\u001b[39m, \u001b[33mInfinity\u001b[39m,\n",
            "    \u001b[33mInfinity\u001b[39m, \u001b[33mInfinity\u001b[39m, \u001b[33mInfinity\u001b[39m, \u001b[33mInfinity\u001b[39m, \u001b[33mInfinity\u001b[39m, \u001b[33mInfinity\u001b[39m,\n",
            "    \u001b[33mInfinity\u001b[39m, \u001b[33mInfinity\u001b[39m, \u001b[33mInfinity\u001b[39m, \u001b[33mInfinity\u001b[39m, \u001b[33mInfinity\u001b[39m, \u001b[33mInfinity\u001b[39m,\n",
            "    \u001b[33mInfinity\u001b[39m, \u001b[33mInfinity\u001b[39m, \u001b[33mInfinity\u001b[39m, \u001b[33mInfinity\u001b[39m, \u001b[33mInfinity\u001b[39m, \u001b[33mInfinity\u001b[39m,\n",
            "    \u001b[33mInfinity\u001b[39m, \u001b[33mInfinity\u001b[39m, \u001b[33mInfinity\u001b[39m, \u001b[33mInfinity\u001b[39m, \u001b[33mInfinity\u001b[39m, \u001b[33mInfinity\u001b[39m,\n",
            "    \u001b[33mInfinity\u001b[39m, \u001b[33mInfinity\u001b[39m, \u001b[33mInfinity\u001b[39m, \u001b[33mInfinity\u001b[39m, \u001b[33mInfinity\u001b[39m, \u001b[33mInfinity\u001b[39m,\n",
            "    \u001b[33mInfinity\u001b[39m, \u001b[33mInfinity\u001b[39m, \u001b[33mInfinity\u001b[39m, \u001b[33mInfinity\u001b[39m, \u001b[33mInfinity\u001b[39m, \u001b[33mInfinity\u001b[39m,\n",
            "    \u001b[33mInfinity\u001b[39m, \u001b[33mInfinity\u001b[39m, \u001b[33mInfinity\u001b[39m, \u001b[33mInfinity\u001b[39m,\n",
            "    ... 500 more items\n",
            "  ],\n",
            "  [\n",
            "    \u001b[33mInfinity\u001b[39m, \u001b[33mInfinity\u001b[39m, \u001b[33mInfinity\u001b[39m, \u001b[33mInfinity\u001b[39m, \u001b[33mInfinity\u001b[39m, \u001b[33mInfinity\u001b[39m,\n",
            "    \u001b[33mInfinity\u001b[39m, \u001b[33mInfinity\u001b[39m, \u001b[33mInfinity\u001b[39m, \u001b[33mInfinity\u001b[39m, \u001b[33mInfinity\u001b[39m, \u001b[33mInfinity\u001b[39m,\n",
            "    \u001b[33mInfinity\u001b[39m, \u001b[33mInfinity\u001b[39m, \u001b[33mInfinity\u001b[39m, \u001b[33mInfinity\u001b[39m, \u001b[33mInfinity\u001b[39m, \u001b[33mInfinity\u001b[39m,\n",
            "    \u001b[33mInfinity\u001b[39m, \u001b[33mInfinity\u001b[39m, \u001b[33mInfinity\u001b[39m, \u001b[33mInfinity\u001b[39m, \u001b[33mInfinity\u001b[39m, \u001b[33mInfinity\u001b[39m,\n",
            "    \u001b[33mInfinity\u001b[39m, \u001b[33mInfinity\u001b[39m, \u001b[33mInfinity\u001b[39m, \u001b[33mInfinity\u001b[39m, \u001b[33mInfinity\u001b[39m, \u001b[33mInfinity\u001b[39m,\n",
            "    \u001b[33mInfinity\u001b[39m, \u001b[33mInfinity\u001b[39m, \u001b[33mInfinity\u001b[39m, \u001b[33mInfinity\u001b[39m, \u001b[33mInfinity\u001b[39m, \u001b[33mInfinity\u001b[39m,\n",
            "    \u001b[33mInfinity\u001b[39m, \u001b[33mInfinity\u001b[39m, \u001b[33mInfinity\u001b[39m, \u001b[33mInfinity\u001b[39m, \u001b[33mInfinity\u001b[39m, \u001b[33mInfinity\u001b[39m,\n",
            "    \u001b[33mInfinity\u001b[39m, \u001b[33mInfinity\u001b[39m, \u001b[33mInfinity\u001b[39m, \u001b[33mInfinity\u001b[39m, \u001b[33mInfinity\u001b[39m, \u001b[33mInfinity\u001b[39m,\n",
            "    \u001b[33mInfinity\u001b[39m, \u001b[33mInfinity\u001b[39m, \u001b[33mInfinity\u001b[39m, \u001b[33mInfinity\u001b[39m, \u001b[33mInfinity\u001b[39m, \u001b[33mInfinity\u001b[39m,\n",
            "    \u001b[33mInfinity\u001b[39m, \u001b[33mInfinity\u001b[39m, \u001b[33mInfinity\u001b[39m, \u001b[33mInfinity\u001b[39m, \u001b[33mInfinity\u001b[39m, \u001b[33mInfinity\u001b[39m,\n",
            "    \u001b[33mInfinity\u001b[39m, \u001b[33mInfinity\u001b[39m, \u001b[33mInfinity\u001b[39m, \u001b[33mInfinity\u001b[39m, \u001b[33mInfinity\u001b[39m, \u001b[33mInfinity\u001b[39m,\n",
            "    \u001b[33mInfinity\u001b[39m, \u001b[33mInfinity\u001b[39m, \u001b[33mInfinity\u001b[39m, \u001b[33mInfinity\u001b[39m, \u001b[33mInfinity\u001b[39m, \u001b[33mInfinity\u001b[39m,\n",
            "    \u001b[33mInfinity\u001b[39m, \u001b[33mInfinity\u001b[39m, \u001b[33mInfinity\u001b[39m, \u001b[33mInfinity\u001b[39m, \u001b[33mInfinity\u001b[39m, \u001b[33mInfinity\u001b[39m,\n",
            "    \u001b[33mInfinity\u001b[39m, \u001b[33mInfinity\u001b[39m, \u001b[33mInfinity\u001b[39m, \u001b[33mInfinity\u001b[39m, \u001b[33mInfinity\u001b[39m, \u001b[33mInfinity\u001b[39m,\n",
            "    \u001b[33mInfinity\u001b[39m, \u001b[33mInfinity\u001b[39m, \u001b[33mInfinity\u001b[39m, \u001b[33mInfinity\u001b[39m, \u001b[33mInfinity\u001b[39m, \u001b[33mInfinity\u001b[39m,\n",
            "    \u001b[33mInfinity\u001b[39m, \u001b[33mInfinity\u001b[39m, \u001b[33mInfinity\u001b[39m, \u001b[33mInfinity\u001b[39m, \u001b[33mInfinity\u001b[39m, \u001b[33mInfinity\u001b[39m,\n",
            "    \u001b[33mInfinity\u001b[39m, \u001b[33mInfinity\u001b[39m, \u001b[33mInfinity\u001b[39m, \u001b[33mInfinity\u001b[39m,\n",
            "    ... 500 more items\n",
            "  ],\n",
            "  [\n",
            "    \u001b[33mInfinity\u001b[39m, \u001b[33mInfinity\u001b[39m, \u001b[33mInfinity\u001b[39m, \u001b[33mInfinity\u001b[39m, \u001b[33mInfinity\u001b[39m, \u001b[33mInfinity\u001b[39m,\n",
            "    \u001b[33mInfinity\u001b[39m, \u001b[33mInfinity\u001b[39m, \u001b[33mInfinity\u001b[39m, \u001b[33mInfinity\u001b[39m, \u001b[33mInfinity\u001b[39m, \u001b[33mInfinity\u001b[39m,\n",
            "    \u001b[33mInfinity\u001b[39m, \u001b[33mInfinity\u001b[39m, \u001b[33mInfinity\u001b[39m, \u001b[33mInfinity\u001b[39m, \u001b[33mInfinity\u001b[39m, \u001b[33mInfinity\u001b[39m,\n",
            "    \u001b[33mInfinity\u001b[39m, \u001b[33mInfinity\u001b[39m, \u001b[33mInfinity\u001b[39m, \u001b[33mInfinity\u001b[39m, \u001b[33mInfinity\u001b[39m, \u001b[33mInfinity\u001b[39m,\n",
            "    \u001b[33mInfinity\u001b[39m, \u001b[33mInfinity\u001b[39m, \u001b[33mInfinity\u001b[39m, \u001b[33mInfinity\u001b[39m, \u001b[33mInfinity\u001b[39m, \u001b[33mInfinity\u001b[39m,\n",
            "    \u001b[33mInfinity\u001b[39m, \u001b[33mInfinity\u001b[39m, \u001b[33mInfinity\u001b[39m, \u001b[33mInfinity\u001b[39m, \u001b[33mInfinity\u001b[39m, \u001b[33mInfinity\u001b[39m,\n",
            "    \u001b[33mInfinity\u001b[39m, \u001b[33mInfinity\u001b[39m, \u001b[33mInfinity\u001b[39m, \u001b[33mInfinity\u001b[39m, \u001b[33mInfinity\u001b[39m, \u001b[33mInfinity\u001b[39m,\n",
            "    \u001b[33mInfinity\u001b[39m, \u001b[33mInfinity\u001b[39m, \u001b[33mInfinity\u001b[39m, \u001b[33mInfinity\u001b[39m, \u001b[33mInfinity\u001b[39m, \u001b[33mInfinity\u001b[39m,\n",
            "    \u001b[33mInfinity\u001b[39m, \u001b[33mInfinity\u001b[39m, \u001b[33mInfinity\u001b[39m, \u001b[33mInfinity\u001b[39m, \u001b[33mInfinity\u001b[39m, \u001b[33mInfinity\u001b[39m,\n",
            "    \u001b[33mInfinity\u001b[39m, \u001b[33mInfinity\u001b[39m, \u001b[33mInfinity\u001b[39m, \u001b[33mInfinity\u001b[39m, \u001b[33mInfinity\u001b[39m, \u001b[33mInfinity\u001b[39m,\n",
            "    \u001b[33mInfinity\u001b[39m, \u001b[33mInfinity\u001b[39m, \u001b[33mInfinity\u001b[39m, \u001b[33mInfinity\u001b[39m, \u001b[33mInfinity\u001b[39m, \u001b[33mInfinity\u001b[39m,\n",
            "    \u001b[33mInfinity\u001b[39m, \u001b[33mInfinity\u001b[39m, \u001b[33mInfinity\u001b[39m, \u001b[33mInfinity\u001b[39m, \u001b[33mInfinity\u001b[39m, \u001b[33mInfinity\u001b[39m,\n",
            "    \u001b[33mInfinity\u001b[39m, \u001b[33mInfinity\u001b[39m, \u001b[33mInfinity\u001b[39m, \u001b[33mInfinity\u001b[39m, \u001b[33mInfinity\u001b[39m, \u001b[33mInfinity\u001b[39m,\n",
            "    \u001b[33mInfinity\u001b[39m, \u001b[33mInfinity\u001b[39m, \u001b[33mInfinity\u001b[39m, \u001b[33mInfinity\u001b[39m, \u001b[33mInfinity\u001b[39m, \u001b[33mInfinity\u001b[39m,\n",
            "    \u001b[33mInfinity\u001b[39m, \u001b[33mInfinity\u001b[39m, \u001b[33mInfinity\u001b[39m, \u001b[33mInfinity\u001b[39m, \u001b[33mInfinity\u001b[39m, \u001b[33mInfinity\u001b[39m,\n",
            "    \u001b[33mInfinity\u001b[39m, \u001b[33mInfinity\u001b[39m, \u001b[33mInfinity\u001b[39m, \u001b[33mInfinity\u001b[39m, \u001b[33mInfinity\u001b[39m, \u001b[33mInfinity\u001b[39m,\n",
            "    \u001b[33mInfinity\u001b[39m, \u001b[33mInfinity\u001b[39m, \u001b[33mInfinity\u001b[39m, \u001b[33mInfinity\u001b[39m,\n",
            "    ... 500 more items\n",
            "  ],\n",
            "  [\n",
            "    \u001b[33mInfinity\u001b[39m, \u001b[33mInfinity\u001b[39m, \u001b[33mInfinity\u001b[39m, \u001b[33mInfinity\u001b[39m, \u001b[33mInfinity\u001b[39m, \u001b[33mInfinity\u001b[39m,\n",
            "    \u001b[33mInfinity\u001b[39m, \u001b[33mInfinity\u001b[39m, \u001b[33mInfinity\u001b[39m, \u001b[33mInfinity\u001b[39m, \u001b[33mInfinity\u001b[39m, \u001b[33mInfinity\u001b[39m,\n",
            "    \u001b[33mInfinity\u001b[39m, \u001b[33mInfinity\u001b[39m, \u001b[33mInfinity\u001b[39m, \u001b[33mInfinity\u001b[39m, \u001b[33mInfinity\u001b[39m, \u001b[33mInfinity\u001b[39m,\n",
            "    \u001b[33mInfinity\u001b[39m, \u001b[33mInfinity\u001b[39m, \u001b[33mInfinity\u001b[39m, \u001b[33mInfinity\u001b[39m, \u001b[33mInfinity\u001b[39m, \u001b[33mInfinity\u001b[39m,\n",
            "    \u001b[33mInfinity\u001b[39m, \u001b[33mInfinity\u001b[39m, \u001b[33mInfinity\u001b[39m, \u001b[33mInfinity\u001b[39m, \u001b[33mInfinity\u001b[39m, \u001b[33mInfinity\u001b[39m,\n",
            "    \u001b[33mInfinity\u001b[39m, \u001b[33mInfinity\u001b[39m, \u001b[33mInfinity\u001b[39m, \u001b[33mInfinity\u001b[39m, \u001b[33mInfinity\u001b[39m, \u001b[33mInfinity\u001b[39m,\n",
            "    \u001b[33mInfinity\u001b[39m, \u001b[33mInfinity\u001b[39m, \u001b[33mInfinity\u001b[39m, \u001b[33mInfinity\u001b[39m, \u001b[33mInfinity\u001b[39m, \u001b[33mInfinity\u001b[39m,\n",
            "    \u001b[33mInfinity\u001b[39m, \u001b[33mInfinity\u001b[39m, \u001b[33mInfinity\u001b[39m, \u001b[33mInfinity\u001b[39m, \u001b[33mInfinity\u001b[39m, \u001b[33mInfinity\u001b[39m,\n",
            "    \u001b[33mInfinity\u001b[39m, \u001b[33mInfinity\u001b[39m, \u001b[33mInfinity\u001b[39m, \u001b[33mInfinity\u001b[39m, \u001b[33mInfinity\u001b[39m, \u001b[33mInfinity\u001b[39m,\n",
            "    \u001b[33mInfinity\u001b[39m, \u001b[33mInfinity\u001b[39m, \u001b[33mInfinity\u001b[39m, \u001b[33mInfinity\u001b[39m, \u001b[33mInfinity\u001b[39m, \u001b[33mInfinity\u001b[39m,\n",
            "    \u001b[33mInfinity\u001b[39m, \u001b[33mInfinity\u001b[39m, \u001b[33mInfinity\u001b[39m, \u001b[33mInfinity\u001b[39m, \u001b[33mInfinity\u001b[39m, \u001b[33mInfinity\u001b[39m,\n",
            "    \u001b[33mInfinity\u001b[39m, \u001b[33mInfinity\u001b[39m, \u001b[33mInfinity\u001b[39m, \u001b[33mInfinity\u001b[39m, \u001b[33mInfinity\u001b[39m, \u001b[33mInfinity\u001b[39m,\n",
            "    \u001b[33mInfinity\u001b[39m, \u001b[33mInfinity\u001b[39m, \u001b[33mInfinity\u001b[39m, \u001b[33mInfinity\u001b[39m, \u001b[33mInfinity\u001b[39m, \u001b[33mInfinity\u001b[39m,\n",
            "    \u001b[33mInfinity\u001b[39m, \u001b[33mInfinity\u001b[39m, \u001b[33mInfinity\u001b[39m, \u001b[33mInfinity\u001b[39m, \u001b[33mInfinity\u001b[39m, \u001b[33mInfinity\u001b[39m,\n",
            "    \u001b[33mInfinity\u001b[39m, \u001b[33mInfinity\u001b[39m, \u001b[33mInfinity\u001b[39m, \u001b[33mInfinity\u001b[39m, \u001b[33mInfinity\u001b[39m, \u001b[33mInfinity\u001b[39m,\n",
            "    \u001b[33mInfinity\u001b[39m, \u001b[33mInfinity\u001b[39m, \u001b[33mInfinity\u001b[39m, \u001b[33mInfinity\u001b[39m, \u001b[33mInfinity\u001b[39m, \u001b[33mInfinity\u001b[39m,\n",
            "    \u001b[33mInfinity\u001b[39m, \u001b[33mInfinity\u001b[39m, \u001b[33mInfinity\u001b[39m, \u001b[33mInfinity\u001b[39m,\n",
            "    ... 500 more items\n",
            "  ],\n",
            "  [\n",
            "    \u001b[33mInfinity\u001b[39m, \u001b[33mInfinity\u001b[39m, \u001b[33mInfinity\u001b[39m, \u001b[33mInfinity\u001b[39m, \u001b[33mInfinity\u001b[39m, \u001b[33mInfinity\u001b[39m,\n",
            "    \u001b[33mInfinity\u001b[39m, \u001b[33mInfinity\u001b[39m, \u001b[33mInfinity\u001b[39m, \u001b[33mInfinity\u001b[39m, \u001b[33mInfinity\u001b[39m, \u001b[33mInfinity\u001b[39m,\n",
            "    \u001b[33mInfinity\u001b[39m, \u001b[33mInfinity\u001b[39m, \u001b[33mInfinity\u001b[39m, \u001b[33mInfinity\u001b[39m, \u001b[33mInfinity\u001b[39m, \u001b[33mInfinity\u001b[39m,\n",
            "    \u001b[33mInfinity\u001b[39m, \u001b[33mInfinity\u001b[39m, \u001b[33mInfinity\u001b[39m, \u001b[33mInfinity\u001b[39m, \u001b[33mInfinity\u001b[39m, \u001b[33mInfinity\u001b[39m,\n",
            "    \u001b[33mInfinity\u001b[39m, \u001b[33mInfinity\u001b[39m, \u001b[33mInfinity\u001b[39m, \u001b[33mInfinity\u001b[39m, \u001b[33mInfinity\u001b[39m, \u001b[33mInfinity\u001b[39m,\n",
            "    \u001b[33mInfinity\u001b[39m, \u001b[33mInfinity\u001b[39m, \u001b[33mInfinity\u001b[39m, \u001b[33mInfinity\u001b[39m, \u001b[33mInfinity\u001b[39m, \u001b[33mInfinity\u001b[39m,\n",
            "    \u001b[33mInfinity\u001b[39m, \u001b[33mInfinity\u001b[39m, \u001b[33mInfinity\u001b[39m, \u001b[33mInfinity\u001b[39m, \u001b[33mInfinity\u001b[39m, \u001b[33mInfinity\u001b[39m,\n",
            "    \u001b[33mInfinity\u001b[39m, \u001b[33mInfinity\u001b[39m, \u001b[33mInfinity\u001b[39m, \u001b[33mInfinity\u001b[39m, \u001b[33mInfinity\u001b[39m, \u001b[33mInfinity\u001b[39m,\n",
            "    \u001b[33mInfinity\u001b[39m, \u001b[33mInfinity\u001b[39m, \u001b[33mInfinity\u001b[39m, \u001b[33mInfinity\u001b[39m, \u001b[33mInfinity\u001b[39m, \u001b[33mInfinity\u001b[39m,\n",
            "    \u001b[33mInfinity\u001b[39m, \u001b[33mInfinity\u001b[39m, \u001b[33mInfinity\u001b[39m, \u001b[33mInfinity\u001b[39m, \u001b[33mInfinity\u001b[39m, \u001b[33mInfinity\u001b[39m,\n",
            "    \u001b[33mInfinity\u001b[39m, \u001b[33mInfinity\u001b[39m, \u001b[33mInfinity\u001b[39m, \u001b[33mInfinity\u001b[39m, \u001b[33mInfinity\u001b[39m, \u001b[33mInfinity\u001b[39m,\n",
            "    \u001b[33mInfinity\u001b[39m, \u001b[33mInfinity\u001b[39m, \u001b[33mInfinity\u001b[39m, \u001b[33mInfinity\u001b[39m, \u001b[33mInfinity\u001b[39m, \u001b[33mInfinity\u001b[39m,\n",
            "    \u001b[33mInfinity\u001b[39m, \u001b[33mInfinity\u001b[39m, \u001b[33mInfinity\u001b[39m, \u001b[33mInfinity\u001b[39m, \u001b[33mInfinity\u001b[39m, \u001b[33mInfinity\u001b[39m,\n",
            "    \u001b[33mInfinity\u001b[39m, \u001b[33mInfinity\u001b[39m, \u001b[33mInfinity\u001b[39m, \u001b[33mInfinity\u001b[39m, \u001b[33mInfinity\u001b[39m, \u001b[33mInfinity\u001b[39m,\n",
            "    \u001b[33mInfinity\u001b[39m, \u001b[33mInfinity\u001b[39m, \u001b[33mInfinity\u001b[39m, \u001b[33mInfinity\u001b[39m, \u001b[33mInfinity\u001b[39m, \u001b[33mInfinity\u001b[39m,\n",
            "    \u001b[33mInfinity\u001b[39m, \u001b[33mInfinity\u001b[39m, \u001b[33mInfinity\u001b[39m, \u001b[33mInfinity\u001b[39m, \u001b[33mInfinity\u001b[39m, \u001b[33mInfinity\u001b[39m,\n",
            "    \u001b[33mInfinity\u001b[39m, \u001b[33mInfinity\u001b[39m, \u001b[33mInfinity\u001b[39m, \u001b[33mInfinity\u001b[39m,\n",
            "    ... 500 more items\n",
            "  ],\n",
            "  [\n",
            "    \u001b[33mInfinity\u001b[39m, \u001b[33mInfinity\u001b[39m, \u001b[33mInfinity\u001b[39m, \u001b[33mInfinity\u001b[39m, \u001b[33mInfinity\u001b[39m, \u001b[33mInfinity\u001b[39m,\n",
            "    \u001b[33mInfinity\u001b[39m, \u001b[33mInfinity\u001b[39m, \u001b[33mInfinity\u001b[39m, \u001b[33mInfinity\u001b[39m, \u001b[33mInfinity\u001b[39m, \u001b[33mInfinity\u001b[39m,\n",
            "    \u001b[33mInfinity\u001b[39m, \u001b[33mInfinity\u001b[39m, \u001b[33mInfinity\u001b[39m, \u001b[33mInfinity\u001b[39m, \u001b[33mInfinity\u001b[39m, \u001b[33mInfinity\u001b[39m,\n",
            "    \u001b[33mInfinity\u001b[39m, \u001b[33mInfinity\u001b[39m, \u001b[33mInfinity\u001b[39m, \u001b[33mInfinity\u001b[39m, \u001b[33mInfinity\u001b[39m, \u001b[33mInfinity\u001b[39m,\n",
            "    \u001b[33mInfinity\u001b[39m, \u001b[33mInfinity\u001b[39m, \u001b[33mInfinity\u001b[39m, \u001b[33mInfinity\u001b[39m, \u001b[33mInfinity\u001b[39m, \u001b[33mInfinity\u001b[39m,\n",
            "    \u001b[33mInfinity\u001b[39m, \u001b[33mInfinity\u001b[39m, \u001b[33mInfinity\u001b[39m, \u001b[33mInfinity\u001b[39m, \u001b[33mInfinity\u001b[39m, \u001b[33mInfinity\u001b[39m,\n",
            "    \u001b[33mInfinity\u001b[39m, \u001b[33mInfinity\u001b[39m, \u001b[33mInfinity\u001b[39m, \u001b[33mInfinity\u001b[39m, \u001b[33mInfinity\u001b[39m, \u001b[33mInfinity\u001b[39m,\n",
            "    \u001b[33mInfinity\u001b[39m, \u001b[33mInfinity\u001b[39m, \u001b[33mInfinity\u001b[39m, \u001b[33mInfinity\u001b[39m, \u001b[33mInfinity\u001b[39m, \u001b[33mInfinity\u001b[39m,\n",
            "    \u001b[33mInfinity\u001b[39m, \u001b[33mInfinity\u001b[39m, \u001b[33mInfinity\u001b[39m, \u001b[33mInfinity\u001b[39m, \u001b[33mInfinity\u001b[39m, \u001b[33mInfinity\u001b[39m,\n",
            "    \u001b[33mInfinity\u001b[39m, \u001b[33mInfinity\u001b[39m, \u001b[33mInfinity\u001b[39m, \u001b[33mInfinity\u001b[39m, \u001b[33mInfinity\u001b[39m, \u001b[33mInfinity\u001b[39m,\n",
            "    \u001b[33mInfinity\u001b[39m, \u001b[33mInfinity\u001b[39m, \u001b[33mInfinity\u001b[39m, \u001b[33mInfinity\u001b[39m, \u001b[33mInfinity\u001b[39m, \u001b[33mInfinity\u001b[39m,\n",
            "    \u001b[33mInfinity\u001b[39m, \u001b[33mInfinity\u001b[39m, \u001b[33mInfinity\u001b[39m, \u001b[33mInfinity\u001b[39m, \u001b[33mInfinity\u001b[39m, \u001b[33mInfinity\u001b[39m,\n",
            "    \u001b[33mInfinity\u001b[39m, \u001b[33mInfinity\u001b[39m, \u001b[33mInfinity\u001b[39m, \u001b[33mInfinity\u001b[39m, \u001b[33mInfinity\u001b[39m, \u001b[33mInfinity\u001b[39m,\n",
            "    \u001b[33mInfinity\u001b[39m, \u001b[33mInfinity\u001b[39m, \u001b[33mInfinity\u001b[39m, \u001b[33mInfinity\u001b[39m, \u001b[33mInfinity\u001b[39m, \u001b[33mInfinity\u001b[39m,\n",
            "    \u001b[33mInfinity\u001b[39m, \u001b[33mInfinity\u001b[39m, \u001b[33mInfinity\u001b[39m, \u001b[33mInfinity\u001b[39m, \u001b[33mInfinity\u001b[39m, \u001b[33mInfinity\u001b[39m,\n",
            "    \u001b[33mInfinity\u001b[39m, \u001b[33mInfinity\u001b[39m, \u001b[33mInfinity\u001b[39m, \u001b[33mInfinity\u001b[39m, \u001b[33mInfinity\u001b[39m, \u001b[33mInfinity\u001b[39m,\n",
            "    \u001b[33mInfinity\u001b[39m, \u001b[33mInfinity\u001b[39m, \u001b[33mInfinity\u001b[39m, \u001b[33mInfinity\u001b[39m,\n",
            "    ... 500 more items\n",
            "  ],\n",
            "  [\n",
            "    \u001b[33mInfinity\u001b[39m, \u001b[33mInfinity\u001b[39m, \u001b[33mInfinity\u001b[39m, \u001b[33mInfinity\u001b[39m, \u001b[33mInfinity\u001b[39m, \u001b[33mInfinity\u001b[39m,\n",
            "    \u001b[33mInfinity\u001b[39m, \u001b[33mInfinity\u001b[39m, \u001b[33mInfinity\u001b[39m, \u001b[33mInfinity\u001b[39m, \u001b[33mInfinity\u001b[39m, \u001b[33mInfinity\u001b[39m,\n",
            "    \u001b[33mInfinity\u001b[39m, \u001b[33mInfinity\u001b[39m, \u001b[33mInfinity\u001b[39m, \u001b[33mInfinity\u001b[39m, \u001b[33mInfinity\u001b[39m, \u001b[33mInfinity\u001b[39m,\n",
            "    \u001b[33mInfinity\u001b[39m, \u001b[33mInfinity\u001b[39m, \u001b[33mInfinity\u001b[39m, \u001b[33mInfinity\u001b[39m, \u001b[33mInfinity\u001b[39m, \u001b[33mInfinity\u001b[39m,\n",
            "    \u001b[33mInfinity\u001b[39m, \u001b[33mInfinity\u001b[39m, \u001b[33mInfinity\u001b[39m, \u001b[33mInfinity\u001b[39m, \u001b[33mInfinity\u001b[39m, \u001b[33mInfinity\u001b[39m,\n",
            "    \u001b[33mInfinity\u001b[39m, \u001b[33mInfinity\u001b[39m, \u001b[33mInfinity\u001b[39m, \u001b[33mInfinity\u001b[39m, \u001b[33mInfinity\u001b[39m, \u001b[33mInfinity\u001b[39m,\n",
            "    \u001b[33mInfinity\u001b[39m, \u001b[33mInfinity\u001b[39m, \u001b[33mInfinity\u001b[39m, \u001b[33mInfinity\u001b[39m, \u001b[33mInfinity\u001b[39m, \u001b[33mInfinity\u001b[39m,\n",
            "    \u001b[33mInfinity\u001b[39m, \u001b[33mInfinity\u001b[39m, \u001b[33mInfinity\u001b[39m, \u001b[33mInfinity\u001b[39m, \u001b[33mInfinity\u001b[39m, \u001b[33mInfinity\u001b[39m,\n",
            "    \u001b[33mInfinity\u001b[39m, \u001b[33mInfinity\u001b[39m, \u001b[33mInfinity\u001b[39m, \u001b[33mInfinity\u001b[39m, \u001b[33mInfinity\u001b[39m, \u001b[33mInfinity\u001b[39m,\n",
            "    \u001b[33mInfinity\u001b[39m, \u001b[33mInfinity\u001b[39m, \u001b[33mInfinity\u001b[39m, \u001b[33mInfinity\u001b[39m, \u001b[33mInfinity\u001b[39m, \u001b[33mInfinity\u001b[39m,\n",
            "    \u001b[33mInfinity\u001b[39m, \u001b[33mInfinity\u001b[39m, \u001b[33mInfinity\u001b[39m, \u001b[33mInfinity\u001b[39m, \u001b[33mInfinity\u001b[39m, \u001b[33mInfinity\u001b[39m,\n",
            "    \u001b[33mInfinity\u001b[39m, \u001b[33mInfinity\u001b[39m, \u001b[33mInfinity\u001b[39m, \u001b[33mInfinity\u001b[39m, \u001b[33mInfinity\u001b[39m, \u001b[33mInfinity\u001b[39m,\n",
            "    \u001b[33mInfinity\u001b[39m, \u001b[33mInfinity\u001b[39m, \u001b[33mInfinity\u001b[39m, \u001b[33mInfinity\u001b[39m, \u001b[33mInfinity\u001b[39m, \u001b[33mInfinity\u001b[39m,\n",
            "    \u001b[33mInfinity\u001b[39m, \u001b[33mInfinity\u001b[39m, \u001b[33mInfinity\u001b[39m, \u001b[33mInfinity\u001b[39m, \u001b[33mInfinity\u001b[39m, \u001b[33mInfinity\u001b[39m,\n",
            "    \u001b[33mInfinity\u001b[39m, \u001b[33mInfinity\u001b[39m, \u001b[33mInfinity\u001b[39m, \u001b[33mInfinity\u001b[39m, \u001b[33mInfinity\u001b[39m, \u001b[33mInfinity\u001b[39m,\n",
            "    \u001b[33mInfinity\u001b[39m, \u001b[33mInfinity\u001b[39m, \u001b[33mInfinity\u001b[39m, \u001b[33mInfinity\u001b[39m, \u001b[33mInfinity\u001b[39m, \u001b[33mInfinity\u001b[39m,\n",
            "    \u001b[33mInfinity\u001b[39m, \u001b[33mInfinity\u001b[39m, \u001b[33mInfinity\u001b[39m, \u001b[33mInfinity\u001b[39m,\n",
            "    ... 500 more items\n",
            "  ],\n",
            "  [\n",
            "    \u001b[33mInfinity\u001b[39m, \u001b[33mInfinity\u001b[39m, \u001b[33mInfinity\u001b[39m, \u001b[33mInfinity\u001b[39m, \u001b[33mInfinity\u001b[39m, \u001b[33mInfinity\u001b[39m,\n",
            "    \u001b[33mInfinity\u001b[39m, \u001b[33mInfinity\u001b[39m, \u001b[33mInfinity\u001b[39m, \u001b[33mInfinity\u001b[39m, \u001b[33mInfinity\u001b[39m, \u001b[33mInfinity\u001b[39m,\n",
            "    \u001b[33mInfinity\u001b[39m, \u001b[33mInfinity\u001b[39m, \u001b[33mInfinity\u001b[39m, \u001b[33mInfinity\u001b[39m, \u001b[33mInfinity\u001b[39m, \u001b[33mInfinity\u001b[39m,\n",
            "    \u001b[33mInfinity\u001b[39m, \u001b[33mInfinity\u001b[39m, \u001b[33mInfinity\u001b[39m, \u001b[33mInfinity\u001b[39m, \u001b[33mInfinity\u001b[39m, \u001b[33mInfinity\u001b[39m,\n",
            "    \u001b[33mInfinity\u001b[39m, \u001b[33mInfinity\u001b[39m, \u001b[33mInfinity\u001b[39m, \u001b[33mInfinity\u001b[39m, \u001b[33mInfinity\u001b[39m, \u001b[33mInfinity\u001b[39m,\n",
            "    \u001b[33mInfinity\u001b[39m, \u001b[33mInfinity\u001b[39m, \u001b[33mInfinity\u001b[39m, \u001b[33mInfinity\u001b[39m, \u001b[33mInfinity\u001b[39m, \u001b[33mInfinity\u001b[39m,\n",
            "    \u001b[33mInfinity\u001b[39m, \u001b[33mInfinity\u001b[39m, \u001b[33mInfinity\u001b[39m, \u001b[33mInfinity\u001b[39m, \u001b[33mInfinity\u001b[39m, \u001b[33mInfinity\u001b[39m,\n",
            "    \u001b[33mInfinity\u001b[39m, \u001b[33mInfinity\u001b[39m, \u001b[33mInfinity\u001b[39m, \u001b[33mInfinity\u001b[39m, \u001b[33mInfinity\u001b[39m, \u001b[33mInfinity\u001b[39m,\n",
            "    \u001b[33mInfinity\u001b[39m, \u001b[33mInfinity\u001b[39m, \u001b[33mInfinity\u001b[39m, \u001b[33mInfinity\u001b[39m, \u001b[33mInfinity\u001b[39m, \u001b[33mInfinity\u001b[39m,\n",
            "    \u001b[33mInfinity\u001b[39m, \u001b[33mInfinity\u001b[39m, \u001b[33mInfinity\u001b[39m, \u001b[33mInfinity\u001b[39m, \u001b[33mInfinity\u001b[39m, \u001b[33mInfinity\u001b[39m,\n",
            "    \u001b[33mInfinity\u001b[39m, \u001b[33mInfinity\u001b[39m, \u001b[33mInfinity\u001b[39m, \u001b[33mInfinity\u001b[39m, \u001b[33mInfinity\u001b[39m, \u001b[33mInfinity\u001b[39m,\n",
            "    \u001b[33mInfinity\u001b[39m, \u001b[33mInfinity\u001b[39m, \u001b[33mInfinity\u001b[39m, \u001b[33mInfinity\u001b[39m, \u001b[33mInfinity\u001b[39m, \u001b[33mInfinity\u001b[39m,\n",
            "    \u001b[33mInfinity\u001b[39m, \u001b[33mInfinity\u001b[39m, \u001b[33mInfinity\u001b[39m, \u001b[33mInfinity\u001b[39m, \u001b[33mInfinity\u001b[39m, \u001b[33mInfinity\u001b[39m,\n",
            "    \u001b[33mInfinity\u001b[39m, \u001b[33mInfinity\u001b[39m, \u001b[33mInfinity\u001b[39m, \u001b[33mInfinity\u001b[39m, \u001b[33mInfinity\u001b[39m, \u001b[33mInfinity\u001b[39m,\n",
            "    \u001b[33mInfinity\u001b[39m, \u001b[33mInfinity\u001b[39m, \u001b[33mInfinity\u001b[39m, \u001b[33mInfinity\u001b[39m, \u001b[33mInfinity\u001b[39m, \u001b[33mInfinity\u001b[39m,\n",
            "    \u001b[33mInfinity\u001b[39m, \u001b[33mInfinity\u001b[39m, \u001b[33mInfinity\u001b[39m, \u001b[33mInfinity\u001b[39m, \u001b[33mInfinity\u001b[39m, \u001b[33mInfinity\u001b[39m,\n",
            "    \u001b[33mInfinity\u001b[39m, \u001b[33mInfinity\u001b[39m, \u001b[33mInfinity\u001b[39m, \u001b[33mInfinity\u001b[39m,\n",
            "    ... 500 more items\n",
            "  ],\n",
            "  [\n",
            "    \u001b[33mInfinity\u001b[39m, \u001b[33mInfinity\u001b[39m, \u001b[33mInfinity\u001b[39m, \u001b[33mInfinity\u001b[39m, \u001b[33mInfinity\u001b[39m, \u001b[33mInfinity\u001b[39m,\n",
            "    \u001b[33mInfinity\u001b[39m, \u001b[33mInfinity\u001b[39m, \u001b[33mInfinity\u001b[39m, \u001b[33mInfinity\u001b[39m, \u001b[33mInfinity\u001b[39m, \u001b[33mInfinity\u001b[39m,\n",
            "    \u001b[33mInfinity\u001b[39m, \u001b[33mInfinity\u001b[39m, \u001b[33mInfinity\u001b[39m, \u001b[33mInfinity\u001b[39m, \u001b[33mInfinity\u001b[39m, \u001b[33mInfinity\u001b[39m,\n",
            "    \u001b[33mInfinity\u001b[39m, \u001b[33mInfinity\u001b[39m, \u001b[33mInfinity\u001b[39m, \u001b[33mInfinity\u001b[39m, \u001b[33mInfinity\u001b[39m, \u001b[33mInfinity\u001b[39m,\n",
            "    \u001b[33mInfinity\u001b[39m, \u001b[33mInfinity\u001b[39m, \u001b[33mInfinity\u001b[39m, \u001b[33mInfinity\u001b[39m, \u001b[33mInfinity\u001b[39m, \u001b[33mInfinity\u001b[39m,\n",
            "    \u001b[33mInfinity\u001b[39m, \u001b[33mInfinity\u001b[39m, \u001b[33mInfinity\u001b[39m, \u001b[33mInfinity\u001b[39m, \u001b[33mInfinity\u001b[39m, \u001b[33mInfinity\u001b[39m,\n",
            "    \u001b[33mInfinity\u001b[39m, \u001b[33mInfinity\u001b[39m, \u001b[33mInfinity\u001b[39m, \u001b[33mInfinity\u001b[39m, \u001b[33mInfinity\u001b[39m, \u001b[33mInfinity\u001b[39m,\n",
            "    \u001b[33mInfinity\u001b[39m, \u001b[33mInfinity\u001b[39m, \u001b[33mInfinity\u001b[39m, \u001b[33mInfinity\u001b[39m, \u001b[33mInfinity\u001b[39m, \u001b[33mInfinity\u001b[39m,\n",
            "    \u001b[33mInfinity\u001b[39m, \u001b[33mInfinity\u001b[39m, \u001b[33mInfinity\u001b[39m, \u001b[33mInfinity\u001b[39m, \u001b[33mInfinity\u001b[39m, \u001b[33mInfinity\u001b[39m,\n",
            "    \u001b[33mInfinity\u001b[39m, \u001b[33mInfinity\u001b[39m, \u001b[33mInfinity\u001b[39m, \u001b[33mInfinity\u001b[39m, \u001b[33mInfinity\u001b[39m, \u001b[33mInfinity\u001b[39m,\n",
            "    \u001b[33mInfinity\u001b[39m, \u001b[33mInfinity\u001b[39m, \u001b[33mInfinity\u001b[39m, \u001b[33mInfinity\u001b[39m, \u001b[33mInfinity\u001b[39m, \u001b[33mInfinity\u001b[39m,\n",
            "    \u001b[33mInfinity\u001b[39m, \u001b[33mInfinity\u001b[39m, \u001b[33mInfinity\u001b[39m, \u001b[33mInfinity\u001b[39m, \u001b[33mInfinity\u001b[39m, \u001b[33mInfinity\u001b[39m,\n",
            "    \u001b[33mInfinity\u001b[39m, \u001b[33mInfinity\u001b[39m, \u001b[33mInfinity\u001b[39m, \u001b[33mInfinity\u001b[39m, \u001b[33mInfinity\u001b[39m, \u001b[33mInfinity\u001b[39m,\n",
            "    \u001b[33mInfinity\u001b[39m, \u001b[33mInfinity\u001b[39m, \u001b[33mInfinity\u001b[39m, \u001b[33mInfinity\u001b[39m, \u001b[33mInfinity\u001b[39m, \u001b[33mInfinity\u001b[39m,\n",
            "    \u001b[33mInfinity\u001b[39m, \u001b[33mInfinity\u001b[39m, \u001b[33mInfinity\u001b[39m, \u001b[33mInfinity\u001b[39m, \u001b[33mInfinity\u001b[39m, \u001b[33mInfinity\u001b[39m,\n",
            "    \u001b[33mInfinity\u001b[39m, \u001b[33mInfinity\u001b[39m, \u001b[33mInfinity\u001b[39m, \u001b[33mInfinity\u001b[39m, \u001b[33mInfinity\u001b[39m, \u001b[33mInfinity\u001b[39m,\n",
            "    \u001b[33mInfinity\u001b[39m, \u001b[33mInfinity\u001b[39m, \u001b[33mInfinity\u001b[39m, \u001b[33mInfinity\u001b[39m,\n",
            "    ... 500 more items\n",
            "  ],\n",
            "  [\n",
            "    \u001b[33mInfinity\u001b[39m, \u001b[33mInfinity\u001b[39m, \u001b[33mInfinity\u001b[39m, \u001b[33mInfinity\u001b[39m, \u001b[33mInfinity\u001b[39m, \u001b[33mInfinity\u001b[39m,\n",
            "    \u001b[33mInfinity\u001b[39m, \u001b[33mInfinity\u001b[39m, \u001b[33mInfinity\u001b[39m, \u001b[33mInfinity\u001b[39m, \u001b[33mInfinity\u001b[39m, \u001b[33mInfinity\u001b[39m,\n",
            "    \u001b[33mInfinity\u001b[39m, \u001b[33mInfinity\u001b[39m, \u001b[33mInfinity\u001b[39m, \u001b[33mInfinity\u001b[39m, \u001b[33mInfinity\u001b[39m, \u001b[33mInfinity\u001b[39m,\n",
            "    \u001b[33mInfinity\u001b[39m, \u001b[33mInfinity\u001b[39m, \u001b[33mInfinity\u001b[39m, \u001b[33mInfinity\u001b[39m, \u001b[33mInfinity\u001b[39m, \u001b[33mInfinity\u001b[39m,\n",
            "    \u001b[33mInfinity\u001b[39m, \u001b[33mInfinity\u001b[39m, \u001b[33mInfinity\u001b[39m, \u001b[33mInfinity\u001b[39m, \u001b[33mInfinity\u001b[39m, \u001b[33mInfinity\u001b[39m,\n",
            "    \u001b[33mInfinity\u001b[39m, \u001b[33mInfinity\u001b[39m, \u001b[33mInfinity\u001b[39m, \u001b[33mInfinity\u001b[39m, \u001b[33mInfinity\u001b[39m, \u001b[33mInfinity\u001b[39m,\n",
            "    \u001b[33mInfinity\u001b[39m, \u001b[33mInfinity\u001b[39m, \u001b[33mInfinity\u001b[39m, \u001b[33mInfinity\u001b[39m, \u001b[33mInfinity\u001b[39m, \u001b[33mInfinity\u001b[39m,\n",
            "    \u001b[33mInfinity\u001b[39m, \u001b[33mInfinity\u001b[39m, \u001b[33mInfinity\u001b[39m, \u001b[33mInfinity\u001b[39m, \u001b[33mInfinity\u001b[39m, \u001b[33mInfinity\u001b[39m,\n",
            "    \u001b[33mInfinity\u001b[39m, \u001b[33mInfinity\u001b[39m, \u001b[33mInfinity\u001b[39m, \u001b[33mInfinity\u001b[39m, \u001b[33mInfinity\u001b[39m, \u001b[33mInfinity\u001b[39m,\n",
            "    \u001b[33mInfinity\u001b[39m, \u001b[33mInfinity\u001b[39m, \u001b[33mInfinity\u001b[39m, \u001b[33mInfinity\u001b[39m, \u001b[33mInfinity\u001b[39m, \u001b[33mInfinity\u001b[39m,\n",
            "    \u001b[33mInfinity\u001b[39m, \u001b[33mInfinity\u001b[39m, \u001b[33mInfinity\u001b[39m, \u001b[33mInfinity\u001b[39m, \u001b[33mInfinity\u001b[39m, \u001b[33mInfinity\u001b[39m,\n",
            "    \u001b[33mInfinity\u001b[39m, \u001b[33mInfinity\u001b[39m, \u001b[33mInfinity\u001b[39m, \u001b[33mInfinity\u001b[39m, \u001b[33mInfinity\u001b[39m, \u001b[33mInfinity\u001b[39m,\n",
            "    \u001b[33mInfinity\u001b[39m, \u001b[33mInfinity\u001b[39m, \u001b[33mInfinity\u001b[39m, \u001b[33mInfinity\u001b[39m, \u001b[33mInfinity\u001b[39m, \u001b[33mInfinity\u001b[39m,\n",
            "    \u001b[33mInfinity\u001b[39m, \u001b[33mInfinity\u001b[39m, \u001b[33mInfinity\u001b[39m, \u001b[33mInfinity\u001b[39m, \u001b[33mInfinity\u001b[39m, \u001b[33mInfinity\u001b[39m,\n",
            "    \u001b[33mInfinity\u001b[39m, \u001b[33mInfinity\u001b[39m, \u001b[33mInfinity\u001b[39m, \u001b[33mInfinity\u001b[39m, \u001b[33mInfinity\u001b[39m, \u001b[33mInfinity\u001b[39m,\n",
            "    \u001b[33mInfinity\u001b[39m, \u001b[33mInfinity\u001b[39m, \u001b[33mInfinity\u001b[39m, \u001b[33mInfinity\u001b[39m, \u001b[33mInfinity\u001b[39m, \u001b[33mInfinity\u001b[39m,\n",
            "    \u001b[33mInfinity\u001b[39m, \u001b[33mInfinity\u001b[39m, \u001b[33mInfinity\u001b[39m, \u001b[33mInfinity\u001b[39m,\n",
            "    ... 500 more items\n",
            "  ],\n",
            "  [\n",
            "    \u001b[33mInfinity\u001b[39m, \u001b[33mInfinity\u001b[39m, \u001b[33mInfinity\u001b[39m, \u001b[33mInfinity\u001b[39m, \u001b[33mInfinity\u001b[39m, \u001b[33mInfinity\u001b[39m,\n",
            "    \u001b[33mInfinity\u001b[39m, \u001b[33mInfinity\u001b[39m, \u001b[33mInfinity\u001b[39m, \u001b[33mInfinity\u001b[39m, \u001b[33mInfinity\u001b[39m, \u001b[33mInfinity\u001b[39m,\n",
            "    \u001b[33mInfinity\u001b[39m, \u001b[33mInfinity\u001b[39m, \u001b[33mInfinity\u001b[39m, \u001b[33mInfinity\u001b[39m, \u001b[33mInfinity\u001b[39m, \u001b[33mInfinity\u001b[39m,\n",
            "    \u001b[33mInfinity\u001b[39m, \u001b[33mInfinity\u001b[39m, \u001b[33mInfinity\u001b[39m, \u001b[33mInfinity\u001b[39m, \u001b[33mInfinity\u001b[39m, \u001b[33mInfinity\u001b[39m,\n",
            "    \u001b[33mInfinity\u001b[39m, \u001b[33mInfinity\u001b[39m, \u001b[33mInfinity\u001b[39m, \u001b[33mInfinity\u001b[39m, \u001b[33mInfinity\u001b[39m, \u001b[33mInfinity\u001b[39m,\n",
            "    \u001b[33mInfinity\u001b[39m, \u001b[33mInfinity\u001b[39m, \u001b[33mInfinity\u001b[39m, \u001b[33mInfinity\u001b[39m, \u001b[33mInfinity\u001b[39m, \u001b[33mInfinity\u001b[39m,\n",
            "    \u001b[33mInfinity\u001b[39m, \u001b[33mInfinity\u001b[39m, \u001b[33mInfinity\u001b[39m, \u001b[33mInfinity\u001b[39m, \u001b[33mInfinity\u001b[39m, \u001b[33mInfinity\u001b[39m,\n",
            "    \u001b[33mInfinity\u001b[39m, \u001b[33mInfinity\u001b[39m, \u001b[33mInfinity\u001b[39m, \u001b[33mInfinity\u001b[39m, \u001b[33mInfinity\u001b[39m, \u001b[33mInfinity\u001b[39m,\n",
            "    \u001b[33mInfinity\u001b[39m, \u001b[33mInfinity\u001b[39m, \u001b[33mInfinity\u001b[39m, \u001b[33mInfinity\u001b[39m, \u001b[33mInfinity\u001b[39m, \u001b[33mInfinity\u001b[39m,\n",
            "    \u001b[33mInfinity\u001b[39m, \u001b[33mInfinity\u001b[39m, \u001b[33mInfinity\u001b[39m, \u001b[33mInfinity\u001b[39m, \u001b[33mInfinity\u001b[39m, \u001b[33mInfinity\u001b[39m,\n",
            "    \u001b[33mInfinity\u001b[39m, \u001b[33mInfinity\u001b[39m, \u001b[33mInfinity\u001b[39m, \u001b[33mInfinity\u001b[39m, \u001b[33mInfinity\u001b[39m, \u001b[33mInfinity\u001b[39m,\n",
            "    \u001b[33mInfinity\u001b[39m, \u001b[33mInfinity\u001b[39m, \u001b[33mInfinity\u001b[39m, \u001b[33mInfinity\u001b[39m, \u001b[33mInfinity\u001b[39m, \u001b[33mInfinity\u001b[39m,\n",
            "    \u001b[33mInfinity\u001b[39m, \u001b[33mInfinity\u001b[39m, \u001b[33mInfinity\u001b[39m, \u001b[33mInfinity\u001b[39m, \u001b[33mInfinity\u001b[39m, \u001b[33mInfinity\u001b[39m,\n",
            "    \u001b[33mInfinity\u001b[39m, \u001b[33mInfinity\u001b[39m, \u001b[33mInfinity\u001b[39m, \u001b[33mInfinity\u001b[39m, \u001b[33mInfinity\u001b[39m, \u001b[33mInfinity\u001b[39m,\n",
            "    \u001b[33mInfinity\u001b[39m, \u001b[33mInfinity\u001b[39m, \u001b[33mInfinity\u001b[39m, \u001b[33mInfinity\u001b[39m, \u001b[33mInfinity\u001b[39m, \u001b[33mInfinity\u001b[39m,\n",
            "    \u001b[33mInfinity\u001b[39m, \u001b[33mInfinity\u001b[39m, \u001b[33mInfinity\u001b[39m, \u001b[33mInfinity\u001b[39m, \u001b[33mInfinity\u001b[39m, \u001b[33mInfinity\u001b[39m,\n",
            "    \u001b[33mInfinity\u001b[39m, \u001b[33mInfinity\u001b[39m, \u001b[33mInfinity\u001b[39m, \u001b[33mInfinity\u001b[39m,\n",
            "    ... 500 more items\n",
            "  ],\n",
            "  [\n",
            "    \u001b[33mInfinity\u001b[39m, \u001b[33mInfinity\u001b[39m, \u001b[33mInfinity\u001b[39m, \u001b[33mInfinity\u001b[39m, \u001b[33mInfinity\u001b[39m, \u001b[33mInfinity\u001b[39m,\n",
            "    \u001b[33mInfinity\u001b[39m, \u001b[33mInfinity\u001b[39m, \u001b[33mInfinity\u001b[39m, \u001b[33mInfinity\u001b[39m, \u001b[33mInfinity\u001b[39m, \u001b[33mInfinity\u001b[39m,\n",
            "    \u001b[33mInfinity\u001b[39m, \u001b[33mInfinity\u001b[39m, \u001b[33mInfinity\u001b[39m, \u001b[33mInfinity\u001b[39m, \u001b[33mInfinity\u001b[39m, \u001b[33mInfinity\u001b[39m,\n",
            "    \u001b[33mInfinity\u001b[39m, \u001b[33mInfinity\u001b[39m, \u001b[33mInfinity\u001b[39m, \u001b[33mInfinity\u001b[39m, \u001b[33mInfinity\u001b[39m, \u001b[33mInfinity\u001b[39m,\n",
            "    \u001b[33mInfinity\u001b[39m, \u001b[33mInfinity\u001b[39m, \u001b[33mInfinity\u001b[39m, \u001b[33mInfinity\u001b[39m, \u001b[33mInfinity\u001b[39m, \u001b[33mInfinity\u001b[39m,\n",
            "    \u001b[33mInfinity\u001b[39m, \u001b[33mInfinity\u001b[39m, \u001b[33mInfinity\u001b[39m, \u001b[33mInfinity\u001b[39m, \u001b[33mInfinity\u001b[39m, \u001b[33mInfinity\u001b[39m,\n",
            "    \u001b[33mInfinity\u001b[39m, \u001b[33mInfinity\u001b[39m, \u001b[33mInfinity\u001b[39m, \u001b[33mInfinity\u001b[39m, \u001b[33mInfinity\u001b[39m, \u001b[33mInfinity\u001b[39m,\n",
            "    \u001b[33mInfinity\u001b[39m, \u001b[33mInfinity\u001b[39m, \u001b[33mInfinity\u001b[39m, \u001b[33mInfinity\u001b[39m, \u001b[33mInfinity\u001b[39m, \u001b[33mInfinity\u001b[39m,\n",
            "    \u001b[33mInfinity\u001b[39m, \u001b[33mInfinity\u001b[39m, \u001b[33mInfinity\u001b[39m, \u001b[33mInfinity\u001b[39m, \u001b[33mInfinity\u001b[39m, \u001b[33mInfinity\u001b[39m,\n",
            "    \u001b[33mInfinity\u001b[39m, \u001b[33mInfinity\u001b[39m, \u001b[33mInfinity\u001b[39m, \u001b[33mInfinity\u001b[39m, \u001b[33mInfinity\u001b[39m, \u001b[33mInfinity\u001b[39m,\n",
            "    \u001b[33mInfinity\u001b[39m, \u001b[33mInfinity\u001b[39m, \u001b[33mInfinity\u001b[39m, \u001b[33mInfinity\u001b[39m, \u001b[33mInfinity\u001b[39m, \u001b[33mInfinity\u001b[39m,\n",
            "    \u001b[33mInfinity\u001b[39m, \u001b[33mInfinity\u001b[39m, \u001b[33mInfinity\u001b[39m, \u001b[33mInfinity\u001b[39m, \u001b[33mInfinity\u001b[39m, \u001b[33mInfinity\u001b[39m,\n",
            "    \u001b[33mInfinity\u001b[39m, \u001b[33mInfinity\u001b[39m, \u001b[33mInfinity\u001b[39m, \u001b[33mInfinity\u001b[39m, \u001b[33mInfinity\u001b[39m, \u001b[33mInfinity\u001b[39m,\n",
            "    \u001b[33mInfinity\u001b[39m, \u001b[33mInfinity\u001b[39m, \u001b[33mInfinity\u001b[39m, \u001b[33mInfinity\u001b[39m, \u001b[33mInfinity\u001b[39m, \u001b[33mInfinity\u001b[39m,\n",
            "    \u001b[33mInfinity\u001b[39m, \u001b[33mInfinity\u001b[39m, \u001b[33mInfinity\u001b[39m, \u001b[33mInfinity\u001b[39m, \u001b[33mInfinity\u001b[39m, \u001b[33mInfinity\u001b[39m,\n",
            "    \u001b[33mInfinity\u001b[39m, \u001b[33mInfinity\u001b[39m, \u001b[33mInfinity\u001b[39m, \u001b[33mInfinity\u001b[39m, \u001b[33mInfinity\u001b[39m, \u001b[33mInfinity\u001b[39m,\n",
            "    \u001b[33mInfinity\u001b[39m, \u001b[33mInfinity\u001b[39m, \u001b[33mInfinity\u001b[39m, \u001b[33mInfinity\u001b[39m,\n",
            "    ... 500 more items\n",
            "  ],\n",
            "  [\n",
            "    \u001b[33mInfinity\u001b[39m, \u001b[33mInfinity\u001b[39m, \u001b[33mInfinity\u001b[39m, \u001b[33mInfinity\u001b[39m, \u001b[33mInfinity\u001b[39m, \u001b[33mInfinity\u001b[39m,\n",
            "    \u001b[33mInfinity\u001b[39m, \u001b[33mInfinity\u001b[39m, \u001b[33mInfinity\u001b[39m, \u001b[33mInfinity\u001b[39m, \u001b[33mInfinity\u001b[39m, \u001b[33mInfinity\u001b[39m,\n",
            "    \u001b[33mInfinity\u001b[39m, \u001b[33mInfinity\u001b[39m, \u001b[33mInfinity\u001b[39m, \u001b[33mInfinity\u001b[39m, \u001b[33mInfinity\u001b[39m, \u001b[33mInfinity\u001b[39m,\n",
            "    \u001b[33mInfinity\u001b[39m, \u001b[33mInfinity\u001b[39m, \u001b[33mInfinity\u001b[39m, \u001b[33mInfinity\u001b[39m, \u001b[33mInfinity\u001b[39m, \u001b[33mInfinity\u001b[39m,\n",
            "    \u001b[33mInfinity\u001b[39m, \u001b[33mInfinity\u001b[39m, \u001b[33mInfinity\u001b[39m, \u001b[33mInfinity\u001b[39m, \u001b[33mInfinity\u001b[39m, \u001b[33mInfinity\u001b[39m,\n",
            "    \u001b[33mInfinity\u001b[39m, \u001b[33mInfinity\u001b[39m, \u001b[33mInfinity\u001b[39m, \u001b[33mInfinity\u001b[39m, \u001b[33mInfinity\u001b[39m, \u001b[33mInfinity\u001b[39m,\n",
            "    \u001b[33mInfinity\u001b[39m, \u001b[33mInfinity\u001b[39m, \u001b[33mInfinity\u001b[39m, \u001b[33mInfinity\u001b[39m, \u001b[33mInfinity\u001b[39m, \u001b[33mInfinity\u001b[39m,\n",
            "    \u001b[33mInfinity\u001b[39m, \u001b[33mInfinity\u001b[39m, \u001b[33mInfinity\u001b[39m, \u001b[33mInfinity\u001b[39m, \u001b[33mInfinity\u001b[39m, \u001b[33mInfinity\u001b[39m,\n",
            "    \u001b[33mInfinity\u001b[39m, \u001b[33mInfinity\u001b[39m, \u001b[33mInfinity\u001b[39m, \u001b[33mInfinity\u001b[39m, \u001b[33mInfinity\u001b[39m, \u001b[33mInfinity\u001b[39m,\n",
            "    \u001b[33mInfinity\u001b[39m, \u001b[33mInfinity\u001b[39m, \u001b[33mInfinity\u001b[39m, \u001b[33mInfinity\u001b[39m, \u001b[33mInfinity\u001b[39m, \u001b[33mInfinity\u001b[39m,\n",
            "    \u001b[33mInfinity\u001b[39m, \u001b[33mInfinity\u001b[39m, \u001b[33mInfinity\u001b[39m, \u001b[33mInfinity\u001b[39m, \u001b[33mInfinity\u001b[39m, \u001b[33mInfinity\u001b[39m,\n",
            "    \u001b[33mInfinity\u001b[39m, \u001b[33mInfinity\u001b[39m, \u001b[33mInfinity\u001b[39m, \u001b[33mInfinity\u001b[39m, \u001b[33mInfinity\u001b[39m, \u001b[33mInfinity\u001b[39m,\n",
            "    \u001b[33mInfinity\u001b[39m, \u001b[33mInfinity\u001b[39m, \u001b[33mInfinity\u001b[39m, \u001b[33mInfinity\u001b[39m, \u001b[33mInfinity\u001b[39m, \u001b[33mInfinity\u001b[39m,\n",
            "    \u001b[33mInfinity\u001b[39m, \u001b[33mInfinity\u001b[39m, \u001b[33mInfinity\u001b[39m, \u001b[33mInfinity\u001b[39m, \u001b[33mInfinity\u001b[39m, \u001b[33mInfinity\u001b[39m,\n",
            "    \u001b[33mInfinity\u001b[39m, \u001b[33mInfinity\u001b[39m, \u001b[33mInfinity\u001b[39m, \u001b[33mInfinity\u001b[39m, \u001b[33mInfinity\u001b[39m, \u001b[33mInfinity\u001b[39m,\n",
            "    \u001b[33mInfinity\u001b[39m, \u001b[33mInfinity\u001b[39m, \u001b[33mInfinity\u001b[39m, \u001b[33mInfinity\u001b[39m, \u001b[33mInfinity\u001b[39m, \u001b[33mInfinity\u001b[39m,\n",
            "    \u001b[33mInfinity\u001b[39m, \u001b[33mInfinity\u001b[39m, \u001b[33mInfinity\u001b[39m, \u001b[33mInfinity\u001b[39m,\n",
            "    ... 500 more items\n",
            "  ],\n",
            "  [\n",
            "    \u001b[33mInfinity\u001b[39m, \u001b[33mInfinity\u001b[39m, \u001b[33mInfinity\u001b[39m, \u001b[33mInfinity\u001b[39m, \u001b[33mInfinity\u001b[39m, \u001b[33mInfinity\u001b[39m,\n",
            "    \u001b[33mInfinity\u001b[39m, \u001b[33mInfinity\u001b[39m, \u001b[33mInfinity\u001b[39m, \u001b[33mInfinity\u001b[39m, \u001b[33mInfinity\u001b[39m, \u001b[33mInfinity\u001b[39m,\n",
            "    \u001b[33mInfinity\u001b[39m, \u001b[33mInfinity\u001b[39m, \u001b[33mInfinity\u001b[39m, \u001b[33mInfinity\u001b[39m, \u001b[33mInfinity\u001b[39m, \u001b[33mInfinity\u001b[39m,\n",
            "    \u001b[33mInfinity\u001b[39m, \u001b[33mInfinity\u001b[39m, \u001b[33mInfinity\u001b[39m, \u001b[33mInfinity\u001b[39m, \u001b[33mInfinity\u001b[39m, \u001b[33mInfinity\u001b[39m,\n",
            "    \u001b[33mInfinity\u001b[39m, \u001b[33mInfinity\u001b[39m, \u001b[33mInfinity\u001b[39m, \u001b[33mInfinity\u001b[39m, \u001b[33mInfinity\u001b[39m, \u001b[33mInfinity\u001b[39m,\n",
            "    \u001b[33mInfinity\u001b[39m, \u001b[33mInfinity\u001b[39m, \u001b[33mInfinity\u001b[39m, \u001b[33mInfinity\u001b[39m, \u001b[33mInfinity\u001b[39m, \u001b[33mInfinity\u001b[39m,\n",
            "    \u001b[33mInfinity\u001b[39m, \u001b[33mInfinity\u001b[39m, \u001b[33mInfinity\u001b[39m, \u001b[33mInfinity\u001b[39m, \u001b[33mInfinity\u001b[39m, \u001b[33mInfinity\u001b[39m,\n",
            "    \u001b[33mInfinity\u001b[39m, \u001b[33mInfinity\u001b[39m, \u001b[33mInfinity\u001b[39m, \u001b[33mInfinity\u001b[39m, \u001b[33mInfinity\u001b[39m, \u001b[33mInfinity\u001b[39m,\n",
            "    \u001b[33mInfinity\u001b[39m, \u001b[33mInfinity\u001b[39m, \u001b[33mInfinity\u001b[39m, \u001b[33mInfinity\u001b[39m, \u001b[33mInfinity\u001b[39m, \u001b[33mInfinity\u001b[39m,\n",
            "    \u001b[33mInfinity\u001b[39m, \u001b[33mInfinity\u001b[39m, \u001b[33mInfinity\u001b[39m, \u001b[33mInfinity\u001b[39m, \u001b[33mInfinity\u001b[39m, \u001b[33mInfinity\u001b[39m,\n",
            "    \u001b[33mInfinity\u001b[39m, \u001b[33mInfinity\u001b[39m, \u001b[33mInfinity\u001b[39m, \u001b[33mInfinity\u001b[39m, \u001b[33mInfinity\u001b[39m, \u001b[33mInfinity\u001b[39m,\n",
            "    \u001b[33mInfinity\u001b[39m, \u001b[33mInfinity\u001b[39m, \u001b[33mInfinity\u001b[39m, \u001b[33mInfinity\u001b[39m, \u001b[33mInfinity\u001b[39m, \u001b[33mInfinity\u001b[39m,\n",
            "    \u001b[33mInfinity\u001b[39m, \u001b[33mInfinity\u001b[39m, \u001b[33mInfinity\u001b[39m, \u001b[33mInfinity\u001b[39m, \u001b[33mInfinity\u001b[39m, \u001b[33mInfinity\u001b[39m,\n",
            "    \u001b[33mInfinity\u001b[39m, \u001b[33mInfinity\u001b[39m, \u001b[33mInfinity\u001b[39m, \u001b[33mInfinity\u001b[39m, \u001b[33mInfinity\u001b[39m, \u001b[33mInfinity\u001b[39m,\n",
            "    \u001b[33mInfinity\u001b[39m, \u001b[33mInfinity\u001b[39m, \u001b[33mInfinity\u001b[39m, \u001b[33mInfinity\u001b[39m, \u001b[33mInfinity\u001b[39m, \u001b[33mInfinity\u001b[39m,\n",
            "    \u001b[33mInfinity\u001b[39m, \u001b[33mInfinity\u001b[39m, \u001b[33mInfinity\u001b[39m, \u001b[33mInfinity\u001b[39m, \u001b[33mInfinity\u001b[39m, \u001b[33mInfinity\u001b[39m,\n",
            "    \u001b[33mInfinity\u001b[39m, \u001b[33mInfinity\u001b[39m, \u001b[33mInfinity\u001b[39m, \u001b[33mInfinity\u001b[39m,\n",
            "    ... 500 more items\n",
            "  ],\n",
            "  [\n",
            "    \u001b[33mInfinity\u001b[39m, \u001b[33mInfinity\u001b[39m, \u001b[33mInfinity\u001b[39m, \u001b[33mInfinity\u001b[39m, \u001b[33mInfinity\u001b[39m, \u001b[33mInfinity\u001b[39m,\n",
            "    \u001b[33mInfinity\u001b[39m, \u001b[33mInfinity\u001b[39m, \u001b[33mInfinity\u001b[39m, \u001b[33mInfinity\u001b[39m, \u001b[33mInfinity\u001b[39m, \u001b[33mInfinity\u001b[39m,\n",
            "    \u001b[33mInfinity\u001b[39m, \u001b[33mInfinity\u001b[39m, \u001b[33mInfinity\u001b[39m, \u001b[33mInfinity\u001b[39m, \u001b[33mInfinity\u001b[39m, \u001b[33mInfinity\u001b[39m,\n",
            "    \u001b[33mInfinity\u001b[39m, \u001b[33mInfinity\u001b[39m, \u001b[33mInfinity\u001b[39m, \u001b[33mInfinity\u001b[39m, \u001b[33mInfinity\u001b[39m, \u001b[33mInfinity\u001b[39m,\n",
            "    \u001b[33mInfinity\u001b[39m, \u001b[33mInfinity\u001b[39m, \u001b[33mInfinity\u001b[39m, \u001b[33mInfinity\u001b[39m, \u001b[33mInfinity\u001b[39m, \u001b[33mInfinity\u001b[39m,\n",
            "    \u001b[33mInfinity\u001b[39m, \u001b[33mInfinity\u001b[39m, \u001b[33mInfinity\u001b[39m, \u001b[33mInfinity\u001b[39m, \u001b[33mInfinity\u001b[39m, \u001b[33mInfinity\u001b[39m,\n",
            "    \u001b[33mInfinity\u001b[39m, \u001b[33mInfinity\u001b[39m, \u001b[33mInfinity\u001b[39m, \u001b[33mInfinity\u001b[39m, \u001b[33mInfinity\u001b[39m, \u001b[33mInfinity\u001b[39m,\n",
            "    \u001b[33mInfinity\u001b[39m, \u001b[33mInfinity\u001b[39m, \u001b[33mInfinity\u001b[39m, \u001b[33mInfinity\u001b[39m, \u001b[33mInfinity\u001b[39m, \u001b[33mInfinity\u001b[39m,\n",
            "    \u001b[33mInfinity\u001b[39m, \u001b[33mInfinity\u001b[39m, \u001b[33mInfinity\u001b[39m, \u001b[33mInfinity\u001b[39m, \u001b[33mInfinity\u001b[39m, \u001b[33mInfinity\u001b[39m,\n",
            "    \u001b[33mInfinity\u001b[39m, \u001b[33mInfinity\u001b[39m, \u001b[33mInfinity\u001b[39m, \u001b[33mInfinity\u001b[39m, \u001b[33mInfinity\u001b[39m, \u001b[33mInfinity\u001b[39m,\n",
            "    \u001b[33mInfinity\u001b[39m, \u001b[33mInfinity\u001b[39m, \u001b[33mInfinity\u001b[39m, \u001b[33mInfinity\u001b[39m, \u001b[33mInfinity\u001b[39m, \u001b[33mInfinity\u001b[39m,\n",
            "    \u001b[33mInfinity\u001b[39m, \u001b[33mInfinity\u001b[39m, \u001b[33mInfinity\u001b[39m, \u001b[33mInfinity\u001b[39m, \u001b[33mInfinity\u001b[39m, \u001b[33mInfinity\u001b[39m,\n",
            "    \u001b[33mInfinity\u001b[39m, \u001b[33mInfinity\u001b[39m, \u001b[33mInfinity\u001b[39m, \u001b[33mInfinity\u001b[39m, \u001b[33mInfinity\u001b[39m, \u001b[33mInfinity\u001b[39m,\n",
            "    \u001b[33mInfinity\u001b[39m, \u001b[33mInfinity\u001b[39m, \u001b[33mInfinity\u001b[39m, \u001b[33mInfinity\u001b[39m, \u001b[33mInfinity\u001b[39m, \u001b[33mInfinity\u001b[39m,\n",
            "    \u001b[33mInfinity\u001b[39m, \u001b[33mInfinity\u001b[39m, \u001b[33mInfinity\u001b[39m, \u001b[33mInfinity\u001b[39m, \u001b[33mInfinity\u001b[39m, \u001b[33mInfinity\u001b[39m,\n",
            "    \u001b[33mInfinity\u001b[39m, \u001b[33mInfinity\u001b[39m, \u001b[33mInfinity\u001b[39m, \u001b[33mInfinity\u001b[39m, \u001b[33mInfinity\u001b[39m, \u001b[33mInfinity\u001b[39m,\n",
            "    \u001b[33mInfinity\u001b[39m, \u001b[33mInfinity\u001b[39m, \u001b[33mInfinity\u001b[39m, \u001b[33mInfinity\u001b[39m,\n",
            "    ... 500 more items\n",
            "  ],\n",
            "  [\n",
            "    \u001b[33mInfinity\u001b[39m, \u001b[33mInfinity\u001b[39m, \u001b[33mInfinity\u001b[39m, \u001b[33mInfinity\u001b[39m, \u001b[33mInfinity\u001b[39m, \u001b[33mInfinity\u001b[39m,\n",
            "    \u001b[33mInfinity\u001b[39m, \u001b[33mInfinity\u001b[39m, \u001b[33mInfinity\u001b[39m, \u001b[33mInfinity\u001b[39m, \u001b[33mInfinity\u001b[39m, \u001b[33mInfinity\u001b[39m,\n",
            "    \u001b[33mInfinity\u001b[39m, \u001b[33mInfinity\u001b[39m, \u001b[33mInfinity\u001b[39m, \u001b[33mInfinity\u001b[39m, \u001b[33mInfinity\u001b[39m, \u001b[33mInfinity\u001b[39m,\n",
            "    \u001b[33mInfinity\u001b[39m, \u001b[33mInfinity\u001b[39m, \u001b[33mInfinity\u001b[39m, \u001b[33mInfinity\u001b[39m, \u001b[33mInfinity\u001b[39m, \u001b[33mInfinity\u001b[39m,\n",
            "    \u001b[33mInfinity\u001b[39m, \u001b[33mInfinity\u001b[39m, \u001b[33mInfinity\u001b[39m, \u001b[33mInfinity\u001b[39m, \u001b[33mInfinity\u001b[39m, \u001b[33mInfinity\u001b[39m,\n",
            "    \u001b[33mInfinity\u001b[39m, \u001b[33mInfinity\u001b[39m, \u001b[33mInfinity\u001b[39m, \u001b[33mInfinity\u001b[39m, \u001b[33mInfinity\u001b[39m, \u001b[33mInfinity\u001b[39m,\n",
            "    \u001b[33mInfinity\u001b[39m, \u001b[33mInfinity\u001b[39m, \u001b[33mInfinity\u001b[39m, \u001b[33mInfinity\u001b[39m, \u001b[33mInfinity\u001b[39m, \u001b[33mInfinity\u001b[39m,\n",
            "    \u001b[33mInfinity\u001b[39m, \u001b[33mInfinity\u001b[39m, \u001b[33mInfinity\u001b[39m, \u001b[33mInfinity\u001b[39m, \u001b[33mInfinity\u001b[39m, \u001b[33mInfinity\u001b[39m,\n",
            "    \u001b[33mInfinity\u001b[39m, \u001b[33mInfinity\u001b[39m, \u001b[33mInfinity\u001b[39m, \u001b[33mInfinity\u001b[39m, \u001b[33mInfinity\u001b[39m, \u001b[33mInfinity\u001b[39m,\n",
            "    \u001b[33mInfinity\u001b[39m, \u001b[33mInfinity\u001b[39m, \u001b[33mInfinity\u001b[39m, \u001b[33mInfinity\u001b[39m, \u001b[33mInfinity\u001b[39m, \u001b[33mInfinity\u001b[39m,\n",
            "    \u001b[33mInfinity\u001b[39m, \u001b[33mInfinity\u001b[39m, \u001b[33mInfinity\u001b[39m, \u001b[33mInfinity\u001b[39m, \u001b[33mInfinity\u001b[39m, \u001b[33mInfinity\u001b[39m,\n",
            "    \u001b[33mInfinity\u001b[39m, \u001b[33mInfinity\u001b[39m, \u001b[33mInfinity\u001b[39m, \u001b[33mInfinity\u001b[39m, \u001b[33mInfinity\u001b[39m, \u001b[33mInfinity\u001b[39m,\n",
            "    \u001b[33mInfinity\u001b[39m, \u001b[33mInfinity\u001b[39m, \u001b[33mInfinity\u001b[39m, \u001b[33mInfinity\u001b[39m, \u001b[33mInfinity\u001b[39m, \u001b[33mInfinity\u001b[39m,\n",
            "    \u001b[33mInfinity\u001b[39m, \u001b[33mInfinity\u001b[39m, \u001b[33mInfinity\u001b[39m, \u001b[33mInfinity\u001b[39m, \u001b[33mInfinity\u001b[39m, \u001b[33mInfinity\u001b[39m,\n",
            "    \u001b[33mInfinity\u001b[39m, \u001b[33mInfinity\u001b[39m, \u001b[33mInfinity\u001b[39m, \u001b[33mInfinity\u001b[39m, \u001b[33mInfinity\u001b[39m, \u001b[33mInfinity\u001b[39m,\n",
            "    \u001b[33mInfinity\u001b[39m, \u001b[33mInfinity\u001b[39m, \u001b[33mInfinity\u001b[39m, \u001b[33mInfinity\u001b[39m, \u001b[33mInfinity\u001b[39m, \u001b[33mInfinity\u001b[39m,\n",
            "    \u001b[33mInfinity\u001b[39m, \u001b[33mInfinity\u001b[39m, \u001b[33mInfinity\u001b[39m, \u001b[33mInfinity\u001b[39m,\n",
            "    ... 500 more items\n",
            "  ],\n",
            "  [\n",
            "    \u001b[33mInfinity\u001b[39m, \u001b[33mInfinity\u001b[39m, \u001b[33mInfinity\u001b[39m, \u001b[33mInfinity\u001b[39m, \u001b[33mInfinity\u001b[39m, \u001b[33mInfinity\u001b[39m,\n",
            "    \u001b[33mInfinity\u001b[39m, \u001b[33mInfinity\u001b[39m, \u001b[33mInfinity\u001b[39m, \u001b[33mInfinity\u001b[39m, \u001b[33mInfinity\u001b[39m, \u001b[33mInfinity\u001b[39m,\n",
            "    \u001b[33mInfinity\u001b[39m, \u001b[33mInfinity\u001b[39m, \u001b[33mInfinity\u001b[39m, \u001b[33mInfinity\u001b[39m, \u001b[33mInfinity\u001b[39m, \u001b[33mInfinity\u001b[39m,\n",
            "    \u001b[33mInfinity\u001b[39m, \u001b[33mInfinity\u001b[39m, \u001b[33mInfinity\u001b[39m, \u001b[33mInfinity\u001b[39m, \u001b[33mInfinity\u001b[39m, \u001b[33mInfinity\u001b[39m,\n",
            "    \u001b[33mInfinity\u001b[39m, \u001b[33mInfinity\u001b[39m, \u001b[33mInfinity\u001b[39m, \u001b[33mInfinity\u001b[39m, \u001b[33mInfinity\u001b[39m, \u001b[33mInfinity\u001b[39m,\n",
            "    \u001b[33mInfinity\u001b[39m, \u001b[33mInfinity\u001b[39m, \u001b[33mInfinity\u001b[39m, \u001b[33mInfinity\u001b[39m, \u001b[33mInfinity\u001b[39m, \u001b[33mInfinity\u001b[39m,\n",
            "    \u001b[33mInfinity\u001b[39m, \u001b[33mInfinity\u001b[39m, \u001b[33mInfinity\u001b[39m, \u001b[33mInfinity\u001b[39m, \u001b[33mInfinity\u001b[39m, \u001b[33mInfinity\u001b[39m,\n",
            "    \u001b[33mInfinity\u001b[39m, \u001b[33mInfinity\u001b[39m, \u001b[33mInfinity\u001b[39m, \u001b[33mInfinity\u001b[39m, \u001b[33mInfinity\u001b[39m, \u001b[33mInfinity\u001b[39m,\n",
            "    \u001b[33mInfinity\u001b[39m, \u001b[33mInfinity\u001b[39m, \u001b[33mInfinity\u001b[39m, \u001b[33mInfinity\u001b[39m, \u001b[33mInfinity\u001b[39m, \u001b[33mInfinity\u001b[39m,\n",
            "    \u001b[33mInfinity\u001b[39m, \u001b[33mInfinity\u001b[39m, \u001b[33mInfinity\u001b[39m, \u001b[33mInfinity\u001b[39m, \u001b[33mInfinity\u001b[39m, \u001b[33mInfinity\u001b[39m,\n",
            "    \u001b[33mInfinity\u001b[39m, \u001b[33mInfinity\u001b[39m, \u001b[33mInfinity\u001b[39m, \u001b[33mInfinity\u001b[39m, \u001b[33mInfinity\u001b[39m, \u001b[33mInfinity\u001b[39m,\n",
            "    \u001b[33mInfinity\u001b[39m, \u001b[33mInfinity\u001b[39m, \u001b[33mInfinity\u001b[39m, \u001b[33mInfinity\u001b[39m, \u001b[33mInfinity\u001b[39m, \u001b[33mInfinity\u001b[39m,\n",
            "    \u001b[33mInfinity\u001b[39m, \u001b[33mInfinity\u001b[39m, \u001b[33mInfinity\u001b[39m, \u001b[33mInfinity\u001b[39m, \u001b[33mInfinity\u001b[39m, \u001b[33mInfinity\u001b[39m,\n",
            "    \u001b[33mInfinity\u001b[39m, \u001b[33mInfinity\u001b[39m, \u001b[33mInfinity\u001b[39m, \u001b[33mInfinity\u001b[39m, \u001b[33mInfinity\u001b[39m, \u001b[33mInfinity\u001b[39m,\n",
            "    \u001b[33mInfinity\u001b[39m, \u001b[33mInfinity\u001b[39m, \u001b[33mInfinity\u001b[39m, \u001b[33mInfinity\u001b[39m, \u001b[33mInfinity\u001b[39m, \u001b[33mInfinity\u001b[39m,\n",
            "    \u001b[33mInfinity\u001b[39m, \u001b[33mInfinity\u001b[39m, \u001b[33mInfinity\u001b[39m, \u001b[33mInfinity\u001b[39m, \u001b[33mInfinity\u001b[39m, \u001b[33mInfinity\u001b[39m,\n",
            "    \u001b[33mInfinity\u001b[39m, \u001b[33mInfinity\u001b[39m, \u001b[33mInfinity\u001b[39m, \u001b[33mInfinity\u001b[39m,\n",
            "    ... 500 more items\n",
            "  ],\n",
            "  [\n",
            "    \u001b[33mInfinity\u001b[39m, \u001b[33mInfinity\u001b[39m, \u001b[33mInfinity\u001b[39m, \u001b[33mInfinity\u001b[39m, \u001b[33mInfinity\u001b[39m, \u001b[33mInfinity\u001b[39m,\n",
            "    \u001b[33mInfinity\u001b[39m, \u001b[33mInfinity\u001b[39m, \u001b[33mInfinity\u001b[39m, \u001b[33mInfinity\u001b[39m, \u001b[33mInfinity\u001b[39m, \u001b[33mInfinity\u001b[39m,\n",
            "    \u001b[33mInfinity\u001b[39m, \u001b[33mInfinity\u001b[39m, \u001b[33mInfinity\u001b[39m, \u001b[33mInfinity\u001b[39m, \u001b[33mInfinity\u001b[39m, \u001b[33mInfinity\u001b[39m,\n",
            "    \u001b[33mInfinity\u001b[39m, \u001b[33mInfinity\u001b[39m, \u001b[33mInfinity\u001b[39m, \u001b[33mInfinity\u001b[39m, \u001b[33mInfinity\u001b[39m, \u001b[33mInfinity\u001b[39m,\n",
            "    \u001b[33mInfinity\u001b[39m, \u001b[33mInfinity\u001b[39m, \u001b[33mInfinity\u001b[39m, \u001b[33mInfinity\u001b[39m, \u001b[33mInfinity\u001b[39m, \u001b[33mInfinity\u001b[39m,\n",
            "    \u001b[33mInfinity\u001b[39m, \u001b[33mInfinity\u001b[39m, \u001b[33mInfinity\u001b[39m, \u001b[33mInfinity\u001b[39m, \u001b[33mInfinity\u001b[39m, \u001b[33mInfinity\u001b[39m,\n",
            "    \u001b[33mInfinity\u001b[39m, \u001b[33mInfinity\u001b[39m, \u001b[33mInfinity\u001b[39m, \u001b[33mInfinity\u001b[39m, \u001b[33mInfinity\u001b[39m, \u001b[33mInfinity\u001b[39m,\n",
            "    \u001b[33mInfinity\u001b[39m, \u001b[33mInfinity\u001b[39m, \u001b[33mInfinity\u001b[39m, \u001b[33mInfinity\u001b[39m, \u001b[33mInfinity\u001b[39m, \u001b[33mInfinity\u001b[39m,\n",
            "    \u001b[33mInfinity\u001b[39m, \u001b[33mInfinity\u001b[39m, \u001b[33mInfinity\u001b[39m, \u001b[33mInfinity\u001b[39m, \u001b[33mInfinity\u001b[39m, \u001b[33mInfinity\u001b[39m,\n",
            "    \u001b[33mInfinity\u001b[39m, \u001b[33mInfinity\u001b[39m, \u001b[33mInfinity\u001b[39m, \u001b[33mInfinity\u001b[39m, \u001b[33mInfinity\u001b[39m, \u001b[33mInfinity\u001b[39m,\n",
            "    \u001b[33mInfinity\u001b[39m, \u001b[33mInfinity\u001b[39m, \u001b[33mInfinity\u001b[39m, \u001b[33mInfinity\u001b[39m, \u001b[33mInfinity\u001b[39m, \u001b[33mInfinity\u001b[39m,\n",
            "    \u001b[33mInfinity\u001b[39m, \u001b[33mInfinity\u001b[39m, \u001b[33mInfinity\u001b[39m, \u001b[33mInfinity\u001b[39m, \u001b[33mInfinity\u001b[39m, \u001b[33mInfinity\u001b[39m,\n",
            "    \u001b[33mInfinity\u001b[39m, \u001b[33mInfinity\u001b[39m, \u001b[33mInfinity\u001b[39m, \u001b[33mInfinity\u001b[39m, \u001b[33mInfinity\u001b[39m, \u001b[33mInfinity\u001b[39m,\n",
            "    \u001b[33mInfinity\u001b[39m, \u001b[33mInfinity\u001b[39m, \u001b[33mInfinity\u001b[39m, \u001b[33mInfinity\u001b[39m, \u001b[33mInfinity\u001b[39m, \u001b[33mInfinity\u001b[39m,\n",
            "    \u001b[33mInfinity\u001b[39m, \u001b[33mInfinity\u001b[39m, \u001b[33mInfinity\u001b[39m, \u001b[33mInfinity\u001b[39m, \u001b[33mInfinity\u001b[39m, \u001b[33mInfinity\u001b[39m,\n",
            "    \u001b[33mInfinity\u001b[39m, \u001b[33mInfinity\u001b[39m, \u001b[33mInfinity\u001b[39m, \u001b[33mInfinity\u001b[39m, \u001b[33mInfinity\u001b[39m, \u001b[33mInfinity\u001b[39m,\n",
            "    \u001b[33mInfinity\u001b[39m, \u001b[33mInfinity\u001b[39m, \u001b[33mInfinity\u001b[39m, \u001b[33mInfinity\u001b[39m,\n",
            "    ... 500 more items\n",
            "  ],\n",
            "  [\n",
            "    \u001b[33mInfinity\u001b[39m, \u001b[33mInfinity\u001b[39m, \u001b[33mInfinity\u001b[39m, \u001b[33mInfinity\u001b[39m, \u001b[33mInfinity\u001b[39m, \u001b[33mInfinity\u001b[39m,\n",
            "    \u001b[33mInfinity\u001b[39m, \u001b[33mInfinity\u001b[39m, \u001b[33mInfinity\u001b[39m, \u001b[33mInfinity\u001b[39m, \u001b[33mInfinity\u001b[39m, \u001b[33mInfinity\u001b[39m,\n",
            "    \u001b[33mInfinity\u001b[39m, \u001b[33mInfinity\u001b[39m, \u001b[33mInfinity\u001b[39m, \u001b[33mInfinity\u001b[39m, \u001b[33mInfinity\u001b[39m, \u001b[33mInfinity\u001b[39m,\n",
            "    \u001b[33mInfinity\u001b[39m, \u001b[33mInfinity\u001b[39m, \u001b[33mInfinity\u001b[39m, \u001b[33mInfinity\u001b[39m, \u001b[33mInfinity\u001b[39m, \u001b[33mInfinity\u001b[39m,\n",
            "    \u001b[33mInfinity\u001b[39m, \u001b[33mInfinity\u001b[39m, \u001b[33mInfinity\u001b[39m, \u001b[33mInfinity\u001b[39m, \u001b[33mInfinity\u001b[39m, \u001b[33mInfinity\u001b[39m,\n",
            "    \u001b[33mInfinity\u001b[39m, \u001b[33mInfinity\u001b[39m, \u001b[33mInfinity\u001b[39m, \u001b[33mInfinity\u001b[39m, \u001b[33mInfinity\u001b[39m, \u001b[33mInfinity\u001b[39m,\n",
            "    \u001b[33mInfinity\u001b[39m, \u001b[33mInfinity\u001b[39m, \u001b[33mInfinity\u001b[39m, \u001b[33mInfinity\u001b[39m, \u001b[33mInfinity\u001b[39m, \u001b[33mInfinity\u001b[39m,\n",
            "    \u001b[33mInfinity\u001b[39m, \u001b[33mInfinity\u001b[39m, \u001b[33mInfinity\u001b[39m, \u001b[33mInfinity\u001b[39m, \u001b[33mInfinity\u001b[39m, \u001b[33mInfinity\u001b[39m,\n",
            "    \u001b[33mInfinity\u001b[39m, \u001b[33mInfinity\u001b[39m, \u001b[33mInfinity\u001b[39m, \u001b[33mInfinity\u001b[39m, \u001b[33mInfinity\u001b[39m, \u001b[33mInfinity\u001b[39m,\n",
            "    \u001b[33mInfinity\u001b[39m, \u001b[33mInfinity\u001b[39m, \u001b[33mInfinity\u001b[39m, \u001b[33mInfinity\u001b[39m, \u001b[33mInfinity\u001b[39m, \u001b[33mInfinity\u001b[39m,\n",
            "    \u001b[33mInfinity\u001b[39m, \u001b[33mInfinity\u001b[39m, \u001b[33mInfinity\u001b[39m, \u001b[33mInfinity\u001b[39m, \u001b[33mInfinity\u001b[39m, \u001b[33mInfinity\u001b[39m,\n",
            "    \u001b[33mInfinity\u001b[39m, \u001b[33mInfinity\u001b[39m, \u001b[33mInfinity\u001b[39m, \u001b[33mInfinity\u001b[39m, \u001b[33mInfinity\u001b[39m, \u001b[33mInfinity\u001b[39m,\n",
            "    \u001b[33mInfinity\u001b[39m, \u001b[33mInfinity\u001b[39m, \u001b[33mInfinity\u001b[39m, \u001b[33mInfinity\u001b[39m, \u001b[33mInfinity\u001b[39m, \u001b[33mInfinity\u001b[39m,\n",
            "    \u001b[33mInfinity\u001b[39m, \u001b[33mInfinity\u001b[39m, \u001b[33mInfinity\u001b[39m, \u001b[33mInfinity\u001b[39m, \u001b[33mInfinity\u001b[39m, \u001b[33mInfinity\u001b[39m,\n",
            "    \u001b[33mInfinity\u001b[39m, \u001b[33mInfinity\u001b[39m, \u001b[33mInfinity\u001b[39m, \u001b[33mInfinity\u001b[39m, \u001b[33mInfinity\u001b[39m, \u001b[33mInfinity\u001b[39m,\n",
            "    \u001b[33mInfinity\u001b[39m, \u001b[33mInfinity\u001b[39m, \u001b[33mInfinity\u001b[39m, \u001b[33mInfinity\u001b[39m, \u001b[33mInfinity\u001b[39m, \u001b[33mInfinity\u001b[39m,\n",
            "    \u001b[33mInfinity\u001b[39m, \u001b[33mInfinity\u001b[39m, \u001b[33mInfinity\u001b[39m, \u001b[33mInfinity\u001b[39m,\n",
            "    ... 500 more items\n",
            "  ],\n",
            "  [\n",
            "    \u001b[33mInfinity\u001b[39m, \u001b[33mInfinity\u001b[39m, \u001b[33mInfinity\u001b[39m, \u001b[33mInfinity\u001b[39m, \u001b[33mInfinity\u001b[39m, \u001b[33mInfinity\u001b[39m,\n",
            "    \u001b[33mInfinity\u001b[39m, \u001b[33mInfinity\u001b[39m, \u001b[33mInfinity\u001b[39m, \u001b[33mInfinity\u001b[39m, \u001b[33mInfinity\u001b[39m, \u001b[33mInfinity\u001b[39m,\n",
            "    \u001b[33mInfinity\u001b[39m, \u001b[33mInfinity\u001b[39m, \u001b[33mInfinity\u001b[39m, \u001b[33mInfinity\u001b[39m, \u001b[33mInfinity\u001b[39m, \u001b[33mInfinity\u001b[39m,\n",
            "    \u001b[33mInfinity\u001b[39m, \u001b[33mInfinity\u001b[39m, \u001b[33mInfinity\u001b[39m, \u001b[33mInfinity\u001b[39m, \u001b[33mInfinity\u001b[39m, \u001b[33mInfinity\u001b[39m,\n",
            "    \u001b[33mInfinity\u001b[39m, \u001b[33mInfinity\u001b[39m, \u001b[33mInfinity\u001b[39m, \u001b[33mInfinity\u001b[39m, \u001b[33mInfinity\u001b[39m, \u001b[33mInfinity\u001b[39m,\n",
            "    \u001b[33mInfinity\u001b[39m, \u001b[33mInfinity\u001b[39m, \u001b[33mInfinity\u001b[39m, \u001b[33mInfinity\u001b[39m, \u001b[33mInfinity\u001b[39m, \u001b[33mInfinity\u001b[39m,\n",
            "    \u001b[33mInfinity\u001b[39m, \u001b[33mInfinity\u001b[39m, \u001b[33mInfinity\u001b[39m, \u001b[33mInfinity\u001b[39m, \u001b[33mInfinity\u001b[39m, \u001b[33mInfinity\u001b[39m,\n",
            "    \u001b[33mInfinity\u001b[39m, \u001b[33mInfinity\u001b[39m, \u001b[33mInfinity\u001b[39m, \u001b[33mInfinity\u001b[39m, \u001b[33mInfinity\u001b[39m, \u001b[33mInfinity\u001b[39m,\n",
            "    \u001b[33mInfinity\u001b[39m, \u001b[33mInfinity\u001b[39m, \u001b[33mInfinity\u001b[39m, \u001b[33mInfinity\u001b[39m, \u001b[33mInfinity\u001b[39m, \u001b[33mInfinity\u001b[39m,\n",
            "    \u001b[33mInfinity\u001b[39m, \u001b[33mInfinity\u001b[39m, \u001b[33mInfinity\u001b[39m, \u001b[33mInfinity\u001b[39m, \u001b[33mInfinity\u001b[39m, \u001b[33mInfinity\u001b[39m,\n",
            "    \u001b[33mInfinity\u001b[39m, \u001b[33mInfinity\u001b[39m, \u001b[33mInfinity\u001b[39m, \u001b[33mInfinity\u001b[39m, \u001b[33mInfinity\u001b[39m, \u001b[33mInfinity\u001b[39m,\n",
            "    \u001b[33mInfinity\u001b[39m, \u001b[33mInfinity\u001b[39m, \u001b[33mInfinity\u001b[39m, \u001b[33mInfinity\u001b[39m, \u001b[33mInfinity\u001b[39m, \u001b[33mInfinity\u001b[39m,\n",
            "    \u001b[33mInfinity\u001b[39m, \u001b[33mInfinity\u001b[39m, \u001b[33mInfinity\u001b[39m, \u001b[33mInfinity\u001b[39m, \u001b[33mInfinity\u001b[39m, \u001b[33mInfinity\u001b[39m,\n",
            "    \u001b[33mInfinity\u001b[39m, \u001b[33mInfinity\u001b[39m, \u001b[33mInfinity\u001b[39m, \u001b[33mInfinity\u001b[39m, \u001b[33mInfinity\u001b[39m, \u001b[33mInfinity\u001b[39m,\n",
            "    \u001b[33mInfinity\u001b[39m, \u001b[33mInfinity\u001b[39m, \u001b[33mInfinity\u001b[39m, \u001b[33mInfinity\u001b[39m, \u001b[33mInfinity\u001b[39m, \u001b[33mInfinity\u001b[39m,\n",
            "    \u001b[33mInfinity\u001b[39m, \u001b[33mInfinity\u001b[39m, \u001b[33mInfinity\u001b[39m, \u001b[33mInfinity\u001b[39m, \u001b[33mInfinity\u001b[39m, \u001b[33mInfinity\u001b[39m,\n",
            "    \u001b[33mInfinity\u001b[39m, \u001b[33mInfinity\u001b[39m, \u001b[33mInfinity\u001b[39m, \u001b[33mInfinity\u001b[39m,\n",
            "    ... 500 more items\n",
            "  ],\n",
            "  [\n",
            "    \u001b[33mInfinity\u001b[39m, \u001b[33mInfinity\u001b[39m, \u001b[33mInfinity\u001b[39m, \u001b[33mInfinity\u001b[39m, \u001b[33mInfinity\u001b[39m, \u001b[33mInfinity\u001b[39m,\n",
            "    \u001b[33mInfinity\u001b[39m, \u001b[33mInfinity\u001b[39m, \u001b[33mInfinity\u001b[39m, \u001b[33mInfinity\u001b[39m, \u001b[33mInfinity\u001b[39m, \u001b[33mInfinity\u001b[39m,\n",
            "    \u001b[33mInfinity\u001b[39m, \u001b[33mInfinity\u001b[39m, \u001b[33mInfinity\u001b[39m, \u001b[33mInfinity\u001b[39m, \u001b[33mInfinity\u001b[39m, \u001b[33mInfinity\u001b[39m,\n",
            "    \u001b[33mInfinity\u001b[39m, \u001b[33mInfinity\u001b[39m, \u001b[33mInfinity\u001b[39m, \u001b[33mInfinity\u001b[39m, \u001b[33mInfinity\u001b[39m, \u001b[33mInfinity\u001b[39m,\n",
            "    \u001b[33mInfinity\u001b[39m, \u001b[33mInfinity\u001b[39m, \u001b[33mInfinity\u001b[39m, \u001b[33mInfinity\u001b[39m, \u001b[33mInfinity\u001b[39m, \u001b[33mInfinity\u001b[39m,\n",
            "    \u001b[33mInfinity\u001b[39m, \u001b[33mInfinity\u001b[39m, \u001b[33mInfinity\u001b[39m, \u001b[33mInfinity\u001b[39m, \u001b[33mInfinity\u001b[39m, \u001b[33mInfinity\u001b[39m,\n",
            "    \u001b[33mInfinity\u001b[39m, \u001b[33mInfinity\u001b[39m, \u001b[33mInfinity\u001b[39m, \u001b[33mInfinity\u001b[39m, \u001b[33mInfinity\u001b[39m, \u001b[33mInfinity\u001b[39m,\n",
            "    \u001b[33mInfinity\u001b[39m, \u001b[33mInfinity\u001b[39m, \u001b[33mInfinity\u001b[39m, \u001b[33mInfinity\u001b[39m, \u001b[33mInfinity\u001b[39m, \u001b[33mInfinity\u001b[39m,\n",
            "    \u001b[33mInfinity\u001b[39m, \u001b[33mInfinity\u001b[39m, \u001b[33mInfinity\u001b[39m, \u001b[33mInfinity\u001b[39m, \u001b[33mInfinity\u001b[39m, \u001b[33mInfinity\u001b[39m,\n",
            "    \u001b[33mInfinity\u001b[39m, \u001b[33mInfinity\u001b[39m, \u001b[33mInfinity\u001b[39m, \u001b[33mInfinity\u001b[39m, \u001b[33mInfinity\u001b[39m, \u001b[33mInfinity\u001b[39m,\n",
            "    \u001b[33mInfinity\u001b[39m, \u001b[33mInfinity\u001b[39m, \u001b[33mInfinity\u001b[39m, \u001b[33mInfinity\u001b[39m, \u001b[33mInfinity\u001b[39m, \u001b[33mInfinity\u001b[39m,\n",
            "    \u001b[33mInfinity\u001b[39m, \u001b[33mInfinity\u001b[39m, \u001b[33mInfinity\u001b[39m, \u001b[33mInfinity\u001b[39m, \u001b[33mInfinity\u001b[39m, \u001b[33mInfinity\u001b[39m,\n",
            "    \u001b[33mInfinity\u001b[39m, \u001b[33mInfinity\u001b[39m, \u001b[33mInfinity\u001b[39m, \u001b[33mInfinity\u001b[39m, \u001b[33mInfinity\u001b[39m, \u001b[33mInfinity\u001b[39m,\n",
            "    \u001b[33mInfinity\u001b[39m, \u001b[33mInfinity\u001b[39m, \u001b[33mInfinity\u001b[39m, \u001b[33mInfinity\u001b[39m, \u001b[33mInfinity\u001b[39m, \u001b[33mInfinity\u001b[39m,\n",
            "    \u001b[33mInfinity\u001b[39m, \u001b[33mInfinity\u001b[39m, \u001b[33mInfinity\u001b[39m, \u001b[33mInfinity\u001b[39m, \u001b[33mInfinity\u001b[39m, \u001b[33mInfinity\u001b[39m,\n",
            "    \u001b[33mInfinity\u001b[39m, \u001b[33mInfinity\u001b[39m, \u001b[33mInfinity\u001b[39m, \u001b[33mInfinity\u001b[39m, \u001b[33mInfinity\u001b[39m, \u001b[33mInfinity\u001b[39m,\n",
            "    \u001b[33mInfinity\u001b[39m, \u001b[33mInfinity\u001b[39m, \u001b[33mInfinity\u001b[39m, \u001b[33mInfinity\u001b[39m,\n",
            "    ... 500 more items\n",
            "  ],\n",
            "  [\n",
            "    \u001b[33mInfinity\u001b[39m, \u001b[33mInfinity\u001b[39m, \u001b[33mInfinity\u001b[39m, \u001b[33mInfinity\u001b[39m, \u001b[33mInfinity\u001b[39m, \u001b[33mInfinity\u001b[39m,\n",
            "    \u001b[33mInfinity\u001b[39m, \u001b[33mInfinity\u001b[39m, \u001b[33mInfinity\u001b[39m, \u001b[33mInfinity\u001b[39m, \u001b[33mInfinity\u001b[39m, \u001b[33mInfinity\u001b[39m,\n",
            "    \u001b[33mInfinity\u001b[39m, \u001b[33mInfinity\u001b[39m, \u001b[33mInfinity\u001b[39m, \u001b[33mInfinity\u001b[39m, \u001b[33mInfinity\u001b[39m, \u001b[33mInfinity\u001b[39m,\n",
            "    \u001b[33mInfinity\u001b[39m, \u001b[33mInfinity\u001b[39m, \u001b[33mInfinity\u001b[39m, \u001b[33mInfinity\u001b[39m, \u001b[33mInfinity\u001b[39m, \u001b[33mInfinity\u001b[39m,\n",
            "    \u001b[33mInfinity\u001b[39m, \u001b[33mInfinity\u001b[39m, \u001b[33mInfinity\u001b[39m, \u001b[33mInfinity\u001b[39m, \u001b[33mInfinity\u001b[39m, \u001b[33mInfinity\u001b[39m,\n",
            "    \u001b[33mInfinity\u001b[39m, \u001b[33mInfinity\u001b[39m, \u001b[33mInfinity\u001b[39m, \u001b[33mInfinity\u001b[39m, \u001b[33mInfinity\u001b[39m, \u001b[33mInfinity\u001b[39m,\n",
            "    \u001b[33mInfinity\u001b[39m, \u001b[33mInfinity\u001b[39m, \u001b[33mInfinity\u001b[39m, \u001b[33mInfinity\u001b[39m, \u001b[33mInfinity\u001b[39m, \u001b[33mInfinity\u001b[39m,\n",
            "    \u001b[33mInfinity\u001b[39m, \u001b[33mInfinity\u001b[39m, \u001b[33mInfinity\u001b[39m, \u001b[33mInfinity\u001b[39m, \u001b[33mInfinity\u001b[39m, \u001b[33mInfinity\u001b[39m,\n",
            "    \u001b[33mInfinity\u001b[39m, \u001b[33mInfinity\u001b[39m, \u001b[33mInfinity\u001b[39m, \u001b[33mInfinity\u001b[39m, \u001b[33mInfinity\u001b[39m, \u001b[33mInfinity\u001b[39m,\n",
            "    \u001b[33mInfinity\u001b[39m, \u001b[33mInfinity\u001b[39m, \u001b[33mInfinity\u001b[39m, \u001b[33mInfinity\u001b[39m, \u001b[33mInfinity\u001b[39m, \u001b[33mInfinity\u001b[39m,\n",
            "    \u001b[33mInfinity\u001b[39m, \u001b[33mInfinity\u001b[39m, \u001b[33mInfinity\u001b[39m, \u001b[33mInfinity\u001b[39m, \u001b[33mInfinity\u001b[39m, \u001b[33mInfinity\u001b[39m,\n",
            "    \u001b[33mInfinity\u001b[39m, \u001b[33mInfinity\u001b[39m, \u001b[33mInfinity\u001b[39m, \u001b[33mInfinity\u001b[39m, \u001b[33mInfinity\u001b[39m, \u001b[33mInfinity\u001b[39m,\n",
            "    \u001b[33mInfinity\u001b[39m, \u001b[33mInfinity\u001b[39m, \u001b[33mInfinity\u001b[39m, \u001b[33mInfinity\u001b[39m, \u001b[33mInfinity\u001b[39m, \u001b[33mInfinity\u001b[39m,\n",
            "    \u001b[33mInfinity\u001b[39m, \u001b[33mInfinity\u001b[39m, \u001b[33mInfinity\u001b[39m, \u001b[33mInfinity\u001b[39m, \u001b[33mInfinity\u001b[39m, \u001b[33mInfinity\u001b[39m,\n",
            "    \u001b[33mInfinity\u001b[39m, \u001b[33mInfinity\u001b[39m, \u001b[33mInfinity\u001b[39m, \u001b[33mInfinity\u001b[39m, \u001b[33mInfinity\u001b[39m, \u001b[33mInfinity\u001b[39m,\n",
            "    \u001b[33mInfinity\u001b[39m, \u001b[33mInfinity\u001b[39m, \u001b[33mInfinity\u001b[39m, \u001b[33mInfinity\u001b[39m, \u001b[33mInfinity\u001b[39m, \u001b[33mInfinity\u001b[39m,\n",
            "    \u001b[33mInfinity\u001b[39m, \u001b[33mInfinity\u001b[39m, \u001b[33mInfinity\u001b[39m, \u001b[33mInfinity\u001b[39m,\n",
            "    ... 500 more items\n",
            "  ],\n",
            "  [\n",
            "    \u001b[33mInfinity\u001b[39m, \u001b[33mInfinity\u001b[39m, \u001b[33mInfinity\u001b[39m, \u001b[33mInfinity\u001b[39m, \u001b[33mInfinity\u001b[39m, \u001b[33mInfinity\u001b[39m,\n",
            "    \u001b[33mInfinity\u001b[39m, \u001b[33mInfinity\u001b[39m, \u001b[33mInfinity\u001b[39m, \u001b[33mInfinity\u001b[39m, \u001b[33mInfinity\u001b[39m, \u001b[33mInfinity\u001b[39m,\n",
            "    \u001b[33mInfinity\u001b[39m, \u001b[33mInfinity\u001b[39m, \u001b[33mInfinity\u001b[39m, \u001b[33mInfinity\u001b[39m, \u001b[33mInfinity\u001b[39m, \u001b[33mInfinity\u001b[39m,\n",
            "    \u001b[33mInfinity\u001b[39m, \u001b[33mInfinity\u001b[39m, \u001b[33mInfinity\u001b[39m, \u001b[33mInfinity\u001b[39m, \u001b[33mInfinity\u001b[39m, \u001b[33mInfinity\u001b[39m,\n",
            "    \u001b[33mInfinity\u001b[39m, \u001b[33mInfinity\u001b[39m, \u001b[33mInfinity\u001b[39m, \u001b[33mInfinity\u001b[39m, \u001b[33mInfinity\u001b[39m, \u001b[33mInfinity\u001b[39m,\n",
            "    \u001b[33mInfinity\u001b[39m, \u001b[33mInfinity\u001b[39m, \u001b[33mInfinity\u001b[39m, \u001b[33mInfinity\u001b[39m, \u001b[33mInfinity\u001b[39m, \u001b[33mInfinity\u001b[39m,\n",
            "    \u001b[33mInfinity\u001b[39m, \u001b[33mInfinity\u001b[39m, \u001b[33mInfinity\u001b[39m, \u001b[33mInfinity\u001b[39m, \u001b[33mInfinity\u001b[39m, \u001b[33mInfinity\u001b[39m,\n",
            "    \u001b[33mInfinity\u001b[39m, \u001b[33mInfinity\u001b[39m, \u001b[33mInfinity\u001b[39m, \u001b[33mInfinity\u001b[39m, \u001b[33mInfinity\u001b[39m, \u001b[33mInfinity\u001b[39m,\n",
            "    \u001b[33mInfinity\u001b[39m, \u001b[33mInfinity\u001b[39m, \u001b[33mInfinity\u001b[39m, \u001b[33mInfinity\u001b[39m, \u001b[33mInfinity\u001b[39m, \u001b[33mInfinity\u001b[39m,\n",
            "    \u001b[33mInfinity\u001b[39m, \u001b[33mInfinity\u001b[39m, \u001b[33mInfinity\u001b[39m, \u001b[33mInfinity\u001b[39m, \u001b[33mInfinity\u001b[39m, \u001b[33mInfinity\u001b[39m,\n",
            "    \u001b[33mInfinity\u001b[39m, \u001b[33mInfinity\u001b[39m, \u001b[33mInfinity\u001b[39m, \u001b[33mInfinity\u001b[39m, \u001b[33mInfinity\u001b[39m, \u001b[33mInfinity\u001b[39m,\n",
            "    \u001b[33mInfinity\u001b[39m, \u001b[33mInfinity\u001b[39m, \u001b[33mInfinity\u001b[39m, \u001b[33mInfinity\u001b[39m, \u001b[33mInfinity\u001b[39m, \u001b[33mInfinity\u001b[39m,\n",
            "    \u001b[33mInfinity\u001b[39m, \u001b[33mInfinity\u001b[39m, \u001b[33mInfinity\u001b[39m, \u001b[33mInfinity\u001b[39m, \u001b[33mInfinity\u001b[39m, \u001b[33mInfinity\u001b[39m,\n",
            "    \u001b[33mInfinity\u001b[39m, \u001b[33mInfinity\u001b[39m, \u001b[33mInfinity\u001b[39m, \u001b[33mInfinity\u001b[39m, \u001b[33mInfinity\u001b[39m, \u001b[33mInfinity\u001b[39m,\n",
            "    \u001b[33mInfinity\u001b[39m, \u001b[33mInfinity\u001b[39m, \u001b[33mInfinity\u001b[39m, \u001b[33mInfinity\u001b[39m, \u001b[33mInfinity\u001b[39m, \u001b[33mInfinity\u001b[39m,\n",
            "    \u001b[33mInfinity\u001b[39m, \u001b[33mInfinity\u001b[39m, \u001b[33mInfinity\u001b[39m, \u001b[33mInfinity\u001b[39m, \u001b[33mInfinity\u001b[39m, \u001b[33mInfinity\u001b[39m,\n",
            "    \u001b[33mInfinity\u001b[39m, \u001b[33mInfinity\u001b[39m, \u001b[33mInfinity\u001b[39m, \u001b[33mInfinity\u001b[39m,\n",
            "    ... 500 more items\n",
            "  ],\n",
            "  [\n",
            "    \u001b[33mInfinity\u001b[39m, \u001b[33mInfinity\u001b[39m, \u001b[33mInfinity\u001b[39m, \u001b[33mInfinity\u001b[39m, \u001b[33mInfinity\u001b[39m, \u001b[33mInfinity\u001b[39m,\n",
            "    \u001b[33mInfinity\u001b[39m, \u001b[33mInfinity\u001b[39m, \u001b[33mInfinity\u001b[39m, \u001b[33mInfinity\u001b[39m, \u001b[33mInfinity\u001b[39m, \u001b[33mInfinity\u001b[39m,\n",
            "    \u001b[33mInfinity\u001b[39m, \u001b[33mInfinity\u001b[39m, \u001b[33mInfinity\u001b[39m, \u001b[33mInfinity\u001b[39m, \u001b[33mInfinity\u001b[39m, \u001b[33mInfinity\u001b[39m,\n",
            "    \u001b[33mInfinity\u001b[39m, \u001b[33mInfinity\u001b[39m, \u001b[33mInfinity\u001b[39m, \u001b[33mInfinity\u001b[39m, \u001b[33mInfinity\u001b[39m, \u001b[33mInfinity\u001b[39m,\n",
            "    \u001b[33mInfinity\u001b[39m, \u001b[33mInfinity\u001b[39m, \u001b[33mInfinity\u001b[39m, \u001b[33mInfinity\u001b[39m, \u001b[33mInfinity\u001b[39m, \u001b[33mInfinity\u001b[39m,\n",
            "    \u001b[33mInfinity\u001b[39m, \u001b[33mInfinity\u001b[39m, \u001b[33mInfinity\u001b[39m, \u001b[33mInfinity\u001b[39m, \u001b[33mInfinity\u001b[39m, \u001b[33mInfinity\u001b[39m,\n",
            "    \u001b[33mInfinity\u001b[39m, \u001b[33mInfinity\u001b[39m, \u001b[33mInfinity\u001b[39m, \u001b[33mInfinity\u001b[39m, \u001b[33mInfinity\u001b[39m, \u001b[33mInfinity\u001b[39m,\n",
            "    \u001b[33mInfinity\u001b[39m, \u001b[33mInfinity\u001b[39m, \u001b[33mInfinity\u001b[39m, \u001b[33mInfinity\u001b[39m, \u001b[33mInfinity\u001b[39m, \u001b[33mInfinity\u001b[39m,\n",
            "    \u001b[33mInfinity\u001b[39m, \u001b[33mInfinity\u001b[39m, \u001b[33mInfinity\u001b[39m, \u001b[33mInfinity\u001b[39m, \u001b[33mInfinity\u001b[39m, \u001b[33mInfinity\u001b[39m,\n",
            "    \u001b[33mInfinity\u001b[39m, \u001b[33mInfinity\u001b[39m, \u001b[33mInfinity\u001b[39m, \u001b[33mInfinity\u001b[39m, \u001b[33mInfinity\u001b[39m, \u001b[33mInfinity\u001b[39m,\n",
            "    \u001b[33mInfinity\u001b[39m, \u001b[33mInfinity\u001b[39m, \u001b[33mInfinity\u001b[39m, \u001b[33mInfinity\u001b[39m, \u001b[33mInfinity\u001b[39m, \u001b[33mInfinity\u001b[39m,\n",
            "    \u001b[33mInfinity\u001b[39m, \u001b[33mInfinity\u001b[39m, \u001b[33mInfinity\u001b[39m, \u001b[33mInfinity\u001b[39m, \u001b[33mInfinity\u001b[39m, \u001b[33mInfinity\u001b[39m,\n",
            "    \u001b[33mInfinity\u001b[39m, \u001b[33mInfinity\u001b[39m, \u001b[33mInfinity\u001b[39m, \u001b[33mInfinity\u001b[39m, \u001b[33mInfinity\u001b[39m, \u001b[33mInfinity\u001b[39m,\n",
            "    \u001b[33mInfinity\u001b[39m, \u001b[33mInfinity\u001b[39m, \u001b[33mInfinity\u001b[39m, \u001b[33mInfinity\u001b[39m, \u001b[33mInfinity\u001b[39m, \u001b[33mInfinity\u001b[39m,\n",
            "    \u001b[33mInfinity\u001b[39m, \u001b[33mInfinity\u001b[39m, \u001b[33mInfinity\u001b[39m, \u001b[33mInfinity\u001b[39m, \u001b[33mInfinity\u001b[39m, \u001b[33mInfinity\u001b[39m,\n",
            "    \u001b[33mInfinity\u001b[39m, \u001b[33mInfinity\u001b[39m, \u001b[33mInfinity\u001b[39m, \u001b[33mInfinity\u001b[39m, \u001b[33mInfinity\u001b[39m, \u001b[33mInfinity\u001b[39m,\n",
            "    \u001b[33mInfinity\u001b[39m, \u001b[33mInfinity\u001b[39m, \u001b[33mInfinity\u001b[39m, \u001b[33mInfinity\u001b[39m,\n",
            "    ... 500 more items\n",
            "  ],\n",
            "  [\n",
            "    \u001b[33mInfinity\u001b[39m, \u001b[33mInfinity\u001b[39m, \u001b[33mInfinity\u001b[39m, \u001b[33mInfinity\u001b[39m, \u001b[33mInfinity\u001b[39m, \u001b[33mInfinity\u001b[39m,\n",
            "    \u001b[33mInfinity\u001b[39m, \u001b[33mInfinity\u001b[39m, \u001b[33mInfinity\u001b[39m, \u001b[33mInfinity\u001b[39m, \u001b[33mInfinity\u001b[39m, \u001b[33mInfinity\u001b[39m,\n",
            "    \u001b[33mInfinity\u001b[39m, \u001b[33mInfinity\u001b[39m, \u001b[33mInfinity\u001b[39m, \u001b[33mInfinity\u001b[39m, \u001b[33mInfinity\u001b[39m, \u001b[33mInfinity\u001b[39m,\n",
            "    \u001b[33mInfinity\u001b[39m, \u001b[33mInfinity\u001b[39m, \u001b[33mInfinity\u001b[39m, \u001b[33mInfinity\u001b[39m, \u001b[33mInfinity\u001b[39m, \u001b[33mInfinity\u001b[39m,\n",
            "    \u001b[33mInfinity\u001b[39m, \u001b[33mInfinity\u001b[39m, \u001b[33mInfinity\u001b[39m, \u001b[33mInfinity\u001b[39m, \u001b[33mInfinity\u001b[39m, \u001b[33mInfinity\u001b[39m,\n",
            "    \u001b[33mInfinity\u001b[39m, \u001b[33mInfinity\u001b[39m, \u001b[33mInfinity\u001b[39m, \u001b[33mInfinity\u001b[39m, \u001b[33mInfinity\u001b[39m, \u001b[33mInfinity\u001b[39m,\n",
            "    \u001b[33mInfinity\u001b[39m, \u001b[33mInfinity\u001b[39m, \u001b[33mInfinity\u001b[39m, \u001b[33mInfinity\u001b[39m, \u001b[33mInfinity\u001b[39m, \u001b[33mInfinity\u001b[39m,\n",
            "    \u001b[33mInfinity\u001b[39m, \u001b[33mInfinity\u001b[39m, \u001b[33mInfinity\u001b[39m, \u001b[33mInfinity\u001b[39m, \u001b[33mInfinity\u001b[39m, \u001b[33mInfinity\u001b[39m,\n",
            "    \u001b[33mInfinity\u001b[39m, \u001b[33mInfinity\u001b[39m, \u001b[33mInfinity\u001b[39m, \u001b[33mInfinity\u001b[39m, \u001b[33mInfinity\u001b[39m, \u001b[33mInfinity\u001b[39m,\n",
            "    \u001b[33mInfinity\u001b[39m, \u001b[33mInfinity\u001b[39m, \u001b[33mInfinity\u001b[39m, \u001b[33mInfinity\u001b[39m, \u001b[33mInfinity\u001b[39m, \u001b[33mInfinity\u001b[39m,\n",
            "    \u001b[33mInfinity\u001b[39m, \u001b[33mInfinity\u001b[39m, \u001b[33mInfinity\u001b[39m, \u001b[33mInfinity\u001b[39m, \u001b[33mInfinity\u001b[39m, \u001b[33mInfinity\u001b[39m,\n",
            "    \u001b[33mInfinity\u001b[39m, \u001b[33mInfinity\u001b[39m, \u001b[33mInfinity\u001b[39m, \u001b[33mInfinity\u001b[39m, \u001b[33mInfinity\u001b[39m, \u001b[33mInfinity\u001b[39m,\n",
            "    \u001b[33mInfinity\u001b[39m, \u001b[33mInfinity\u001b[39m, \u001b[33mInfinity\u001b[39m, \u001b[33mInfinity\u001b[39m, \u001b[33mInfinity\u001b[39m, \u001b[33mInfinity\u001b[39m,\n",
            "    \u001b[33mInfinity\u001b[39m, \u001b[33mInfinity\u001b[39m, \u001b[33mInfinity\u001b[39m, \u001b[33mInfinity\u001b[39m, \u001b[33mInfinity\u001b[39m, \u001b[33mInfinity\u001b[39m,\n",
            "    \u001b[33mInfinity\u001b[39m, \u001b[33mInfinity\u001b[39m, \u001b[33mInfinity\u001b[39m, \u001b[33mInfinity\u001b[39m, \u001b[33mInfinity\u001b[39m, \u001b[33mInfinity\u001b[39m,\n",
            "    \u001b[33mInfinity\u001b[39m, \u001b[33mInfinity\u001b[39m, \u001b[33mInfinity\u001b[39m, \u001b[33mInfinity\u001b[39m, \u001b[33mInfinity\u001b[39m, \u001b[33mInfinity\u001b[39m,\n",
            "    \u001b[33mInfinity\u001b[39m, \u001b[33mInfinity\u001b[39m, \u001b[33mInfinity\u001b[39m, \u001b[33mInfinity\u001b[39m,\n",
            "    ... 500 more items\n",
            "  ],\n",
            "  [\n",
            "    \u001b[33mInfinity\u001b[39m, \u001b[33mInfinity\u001b[39m, \u001b[33mInfinity\u001b[39m, \u001b[33mInfinity\u001b[39m, \u001b[33mInfinity\u001b[39m, \u001b[33mInfinity\u001b[39m,\n",
            "    \u001b[33mInfinity\u001b[39m, \u001b[33mInfinity\u001b[39m, \u001b[33mInfinity\u001b[39m, \u001b[33mInfinity\u001b[39m, \u001b[33mInfinity\u001b[39m, \u001b[33mInfinity\u001b[39m,\n",
            "    \u001b[33mInfinity\u001b[39m, \u001b[33mInfinity\u001b[39m, \u001b[33mInfinity\u001b[39m, \u001b[33mInfinity\u001b[39m, \u001b[33mInfinity\u001b[39m, \u001b[33mInfinity\u001b[39m,\n",
            "    \u001b[33mInfinity\u001b[39m, \u001b[33mInfinity\u001b[39m, \u001b[33mInfinity\u001b[39m, \u001b[33mInfinity\u001b[39m, \u001b[33mInfinity\u001b[39m, \u001b[33mInfinity\u001b[39m,\n",
            "    \u001b[33mInfinity\u001b[39m, \u001b[33mInfinity\u001b[39m, \u001b[33mInfinity\u001b[39m, \u001b[33mInfinity\u001b[39m, \u001b[33mInfinity\u001b[39m, \u001b[33mInfinity\u001b[39m,\n",
            "    \u001b[33mInfinity\u001b[39m, \u001b[33mInfinity\u001b[39m, \u001b[33mInfinity\u001b[39m, \u001b[33mInfinity\u001b[39m, \u001b[33mInfinity\u001b[39m, \u001b[33mInfinity\u001b[39m,\n",
            "    \u001b[33mInfinity\u001b[39m, \u001b[33mInfinity\u001b[39m, \u001b[33mInfinity\u001b[39m, \u001b[33mInfinity\u001b[39m, \u001b[33mInfinity\u001b[39m, \u001b[33mInfinity\u001b[39m,\n",
            "    \u001b[33mInfinity\u001b[39m, \u001b[33mInfinity\u001b[39m, \u001b[33mInfinity\u001b[39m, \u001b[33mInfinity\u001b[39m, \u001b[33mInfinity\u001b[39m, \u001b[33mInfinity\u001b[39m,\n",
            "    \u001b[33mInfinity\u001b[39m, \u001b[33mInfinity\u001b[39m, \u001b[33mInfinity\u001b[39m, \u001b[33mInfinity\u001b[39m, \u001b[33mInfinity\u001b[39m, \u001b[33mInfinity\u001b[39m,\n",
            "    \u001b[33mInfinity\u001b[39m, \u001b[33mInfinity\u001b[39m, \u001b[33mInfinity\u001b[39m, \u001b[33mInfinity\u001b[39m, \u001b[33mInfinity\u001b[39m, \u001b[33mInfinity\u001b[39m,\n",
            "    \u001b[33mInfinity\u001b[39m, \u001b[33mInfinity\u001b[39m, \u001b[33mInfinity\u001b[39m, \u001b[33mInfinity\u001b[39m, \u001b[33mInfinity\u001b[39m, \u001b[33mInfinity\u001b[39m,\n",
            "    \u001b[33mInfinity\u001b[39m, \u001b[33mInfinity\u001b[39m, \u001b[33mInfinity\u001b[39m, \u001b[33mInfinity\u001b[39m, \u001b[33mInfinity\u001b[39m, \u001b[33mInfinity\u001b[39m,\n",
            "    \u001b[33mInfinity\u001b[39m, \u001b[33mInfinity\u001b[39m, \u001b[33mInfinity\u001b[39m, \u001b[33mInfinity\u001b[39m, \u001b[33mInfinity\u001b[39m, \u001b[33mInfinity\u001b[39m,\n",
            "    \u001b[33mInfinity\u001b[39m, \u001b[33mInfinity\u001b[39m, \u001b[33mInfinity\u001b[39m, \u001b[33mInfinity\u001b[39m, \u001b[33mInfinity\u001b[39m, \u001b[33mInfinity\u001b[39m,\n",
            "    \u001b[33mInfinity\u001b[39m, \u001b[33mInfinity\u001b[39m, \u001b[33mInfinity\u001b[39m, \u001b[33mInfinity\u001b[39m, \u001b[33mInfinity\u001b[39m, \u001b[33mInfinity\u001b[39m,\n",
            "    \u001b[33mInfinity\u001b[39m, \u001b[33mInfinity\u001b[39m, \u001b[33mInfinity\u001b[39m, \u001b[33mInfinity\u001b[39m, \u001b[33mInfinity\u001b[39m, \u001b[33mInfinity\u001b[39m,\n",
            "    \u001b[33mInfinity\u001b[39m, \u001b[33mInfinity\u001b[39m, \u001b[33mInfinity\u001b[39m, \u001b[33mInfinity\u001b[39m,\n",
            "    ... 500 more items\n",
            "  ],\n",
            "  [\n",
            "    \u001b[33mInfinity\u001b[39m, \u001b[33mInfinity\u001b[39m, \u001b[33mInfinity\u001b[39m, \u001b[33mInfinity\u001b[39m, \u001b[33mInfinity\u001b[39m, \u001b[33mInfinity\u001b[39m,\n",
            "    \u001b[33mInfinity\u001b[39m, \u001b[33mInfinity\u001b[39m, \u001b[33mInfinity\u001b[39m, \u001b[33mInfinity\u001b[39m, \u001b[33mInfinity\u001b[39m, \u001b[33mInfinity\u001b[39m,\n",
            "    \u001b[33mInfinity\u001b[39m, \u001b[33mInfinity\u001b[39m, \u001b[33mInfinity\u001b[39m, \u001b[33mInfinity\u001b[39m, \u001b[33mInfinity\u001b[39m, \u001b[33mInfinity\u001b[39m,\n",
            "    \u001b[33mInfinity\u001b[39m, \u001b[33mInfinity\u001b[39m, \u001b[33mInfinity\u001b[39m, \u001b[33mInfinity\u001b[39m, \u001b[33mInfinity\u001b[39m, \u001b[33mInfinity\u001b[39m,\n",
            "    \u001b[33mInfinity\u001b[39m, \u001b[33mInfinity\u001b[39m, \u001b[33mInfinity\u001b[39m, \u001b[33mInfinity\u001b[39m, \u001b[33mInfinity\u001b[39m, \u001b[33mInfinity\u001b[39m,\n",
            "    \u001b[33mInfinity\u001b[39m, \u001b[33mInfinity\u001b[39m, \u001b[33mInfinity\u001b[39m, \u001b[33mInfinity\u001b[39m, \u001b[33mInfinity\u001b[39m, \u001b[33mInfinity\u001b[39m,\n",
            "    \u001b[33mInfinity\u001b[39m, \u001b[33mInfinity\u001b[39m, \u001b[33mInfinity\u001b[39m, \u001b[33mInfinity\u001b[39m, \u001b[33mInfinity\u001b[39m, \u001b[33mInfinity\u001b[39m,\n",
            "    \u001b[33mInfinity\u001b[39m, \u001b[33mInfinity\u001b[39m, \u001b[33mInfinity\u001b[39m, \u001b[33mInfinity\u001b[39m, \u001b[33mInfinity\u001b[39m, \u001b[33mInfinity\u001b[39m,\n",
            "    \u001b[33mInfinity\u001b[39m, \u001b[33mInfinity\u001b[39m, \u001b[33mInfinity\u001b[39m, \u001b[33mInfinity\u001b[39m, \u001b[33mInfinity\u001b[39m, \u001b[33mInfinity\u001b[39m,\n",
            "    \u001b[33mInfinity\u001b[39m, \u001b[33mInfinity\u001b[39m, \u001b[33mInfinity\u001b[39m, \u001b[33mInfinity\u001b[39m, \u001b[33mInfinity\u001b[39m, \u001b[33mInfinity\u001b[39m,\n",
            "    \u001b[33mInfinity\u001b[39m, \u001b[33mInfinity\u001b[39m, \u001b[33mInfinity\u001b[39m, \u001b[33mInfinity\u001b[39m, \u001b[33mInfinity\u001b[39m, \u001b[33mInfinity\u001b[39m,\n",
            "    \u001b[33mInfinity\u001b[39m, \u001b[33mInfinity\u001b[39m, \u001b[33mInfinity\u001b[39m, \u001b[33mInfinity\u001b[39m, \u001b[33mInfinity\u001b[39m, \u001b[33mInfinity\u001b[39m,\n",
            "    \u001b[33mInfinity\u001b[39m, \u001b[33mInfinity\u001b[39m, \u001b[33mInfinity\u001b[39m, \u001b[33mInfinity\u001b[39m, \u001b[33mInfinity\u001b[39m, \u001b[33mInfinity\u001b[39m,\n",
            "    \u001b[33mInfinity\u001b[39m, \u001b[33mInfinity\u001b[39m, \u001b[33mInfinity\u001b[39m, \u001b[33mInfinity\u001b[39m, \u001b[33mInfinity\u001b[39m, \u001b[33mInfinity\u001b[39m,\n",
            "    \u001b[33mInfinity\u001b[39m, \u001b[33mInfinity\u001b[39m, \u001b[33mInfinity\u001b[39m, \u001b[33mInfinity\u001b[39m, \u001b[33mInfinity\u001b[39m, \u001b[33mInfinity\u001b[39m,\n",
            "    \u001b[33mInfinity\u001b[39m, \u001b[33mInfinity\u001b[39m, \u001b[33mInfinity\u001b[39m, \u001b[33mInfinity\u001b[39m, \u001b[33mInfinity\u001b[39m, \u001b[33mInfinity\u001b[39m,\n",
            "    \u001b[33mInfinity\u001b[39m, \u001b[33mInfinity\u001b[39m, \u001b[33mInfinity\u001b[39m, \u001b[33mInfinity\u001b[39m,\n",
            "    ... 500 more items\n",
            "  ],\n",
            "  [\n",
            "    \u001b[33mInfinity\u001b[39m, \u001b[33mInfinity\u001b[39m, \u001b[33mInfinity\u001b[39m, \u001b[33mInfinity\u001b[39m, \u001b[33mInfinity\u001b[39m, \u001b[33mInfinity\u001b[39m,\n",
            "    \u001b[33mInfinity\u001b[39m, \u001b[33mInfinity\u001b[39m, \u001b[33mInfinity\u001b[39m, \u001b[33mInfinity\u001b[39m, \u001b[33mInfinity\u001b[39m, \u001b[33mInfinity\u001b[39m,\n",
            "    \u001b[33mInfinity\u001b[39m, \u001b[33mInfinity\u001b[39m, \u001b[33mInfinity\u001b[39m, \u001b[33mInfinity\u001b[39m, \u001b[33mInfinity\u001b[39m, \u001b[33mInfinity\u001b[39m,\n",
            "    \u001b[33mInfinity\u001b[39m, \u001b[33mInfinity\u001b[39m, \u001b[33mInfinity\u001b[39m, \u001b[33mInfinity\u001b[39m, \u001b[33mInfinity\u001b[39m, \u001b[33mInfinity\u001b[39m,\n",
            "    \u001b[33mInfinity\u001b[39m, \u001b[33mInfinity\u001b[39m, \u001b[33mInfinity\u001b[39m, \u001b[33mInfinity\u001b[39m, \u001b[33mInfinity\u001b[39m, \u001b[33mInfinity\u001b[39m,\n",
            "    \u001b[33mInfinity\u001b[39m, \u001b[33mInfinity\u001b[39m, \u001b[33mInfinity\u001b[39m, \u001b[33mInfinity\u001b[39m, \u001b[33mInfinity\u001b[39m, \u001b[33mInfinity\u001b[39m,\n",
            "    \u001b[33mInfinity\u001b[39m, \u001b[33mInfinity\u001b[39m, \u001b[33mInfinity\u001b[39m, \u001b[33mInfinity\u001b[39m, \u001b[33mInfinity\u001b[39m, \u001b[33mInfinity\u001b[39m,\n",
            "    \u001b[33mInfinity\u001b[39m, \u001b[33mInfinity\u001b[39m, \u001b[33mInfinity\u001b[39m, \u001b[33mInfinity\u001b[39m, \u001b[33mInfinity\u001b[39m, \u001b[33mInfinity\u001b[39m,\n",
            "    \u001b[33mInfinity\u001b[39m, \u001b[33mInfinity\u001b[39m, \u001b[33mInfinity\u001b[39m, \u001b[33mInfinity\u001b[39m, \u001b[33mInfinity\u001b[39m, \u001b[33mInfinity\u001b[39m,\n",
            "    \u001b[33mInfinity\u001b[39m, \u001b[33mInfinity\u001b[39m, \u001b[33mInfinity\u001b[39m, \u001b[33mInfinity\u001b[39m, \u001b[33mInfinity\u001b[39m, \u001b[33mInfinity\u001b[39m,\n",
            "    \u001b[33mInfinity\u001b[39m, \u001b[33mInfinity\u001b[39m, \u001b[33mInfinity\u001b[39m, \u001b[33mInfinity\u001b[39m, \u001b[33mInfinity\u001b[39m, \u001b[33mInfinity\u001b[39m,\n",
            "    \u001b[33mInfinity\u001b[39m, \u001b[33mInfinity\u001b[39m, \u001b[33mInfinity\u001b[39m, \u001b[33mInfinity\u001b[39m, \u001b[33mInfinity\u001b[39m, \u001b[33mInfinity\u001b[39m,\n",
            "    \u001b[33mInfinity\u001b[39m, \u001b[33mInfinity\u001b[39m, \u001b[33mInfinity\u001b[39m, \u001b[33mInfinity\u001b[39m, \u001b[33mInfinity\u001b[39m, \u001b[33mInfinity\u001b[39m,\n",
            "    \u001b[33mInfinity\u001b[39m, \u001b[33mInfinity\u001b[39m, \u001b[33mInfinity\u001b[39m, \u001b[33mInfinity\u001b[39m, \u001b[33mInfinity\u001b[39m, \u001b[33mInfinity\u001b[39m,\n",
            "    \u001b[33mInfinity\u001b[39m, \u001b[33mInfinity\u001b[39m, \u001b[33mInfinity\u001b[39m, \u001b[33mInfinity\u001b[39m, \u001b[33mInfinity\u001b[39m, \u001b[33mInfinity\u001b[39m,\n",
            "    \u001b[33mInfinity\u001b[39m, \u001b[33mInfinity\u001b[39m, \u001b[33mInfinity\u001b[39m, \u001b[33mInfinity\u001b[39m, \u001b[33mInfinity\u001b[39m, \u001b[33mInfinity\u001b[39m,\n",
            "    \u001b[33mInfinity\u001b[39m, \u001b[33mInfinity\u001b[39m, \u001b[33mInfinity\u001b[39m, \u001b[33mInfinity\u001b[39m,\n",
            "    ... 500 more items\n",
            "  ],\n",
            "  [\n",
            "    \u001b[33mInfinity\u001b[39m, \u001b[33mInfinity\u001b[39m, \u001b[33mInfinity\u001b[39m, \u001b[33mInfinity\u001b[39m, \u001b[33mInfinity\u001b[39m, \u001b[33mInfinity\u001b[39m,\n",
            "    \u001b[33mInfinity\u001b[39m, \u001b[33mInfinity\u001b[39m, \u001b[33mInfinity\u001b[39m, \u001b[33mInfinity\u001b[39m, \u001b[33mInfinity\u001b[39m, \u001b[33mInfinity\u001b[39m,\n",
            "    \u001b[33mInfinity\u001b[39m, \u001b[33mInfinity\u001b[39m, \u001b[33mInfinity\u001b[39m, \u001b[33mInfinity\u001b[39m, \u001b[33mInfinity\u001b[39m, \u001b[33mInfinity\u001b[39m,\n",
            "    \u001b[33mInfinity\u001b[39m, \u001b[33mInfinity\u001b[39m, \u001b[33mInfinity\u001b[39m, \u001b[33mInfinity\u001b[39m, \u001b[33mInfinity\u001b[39m, \u001b[33mInfinity\u001b[39m,\n",
            "    \u001b[33mInfinity\u001b[39m, \u001b[33mInfinity\u001b[39m, \u001b[33mInfinity\u001b[39m, \u001b[33mInfinity\u001b[39m, \u001b[33mInfinity\u001b[39m, \u001b[33mInfinity\u001b[39m,\n",
            "    \u001b[33mInfinity\u001b[39m, \u001b[33mInfinity\u001b[39m, \u001b[33mInfinity\u001b[39m, \u001b[33mInfinity\u001b[39m, \u001b[33mInfinity\u001b[39m, \u001b[33mInfinity\u001b[39m,\n",
            "    \u001b[33mInfinity\u001b[39m, \u001b[33mInfinity\u001b[39m, \u001b[33mInfinity\u001b[39m, \u001b[33mInfinity\u001b[39m, \u001b[33mInfinity\u001b[39m, \u001b[33mInfinity\u001b[39m,\n",
            "    \u001b[33mInfinity\u001b[39m, \u001b[33mInfinity\u001b[39m, \u001b[33mInfinity\u001b[39m, \u001b[33mInfinity\u001b[39m, \u001b[33mInfinity\u001b[39m, \u001b[33mInfinity\u001b[39m,\n",
            "    \u001b[33mInfinity\u001b[39m, \u001b[33mInfinity\u001b[39m, \u001b[33mInfinity\u001b[39m, \u001b[33mInfinity\u001b[39m, \u001b[33mInfinity\u001b[39m, \u001b[33mInfinity\u001b[39m,\n",
            "    \u001b[33mInfinity\u001b[39m, \u001b[33mInfinity\u001b[39m, \u001b[33mInfinity\u001b[39m, \u001b[33mInfinity\u001b[39m, \u001b[33mInfinity\u001b[39m, \u001b[33mInfinity\u001b[39m,\n",
            "    \u001b[33mInfinity\u001b[39m, \u001b[33mInfinity\u001b[39m, \u001b[33mInfinity\u001b[39m, \u001b[33mInfinity\u001b[39m, \u001b[33mInfinity\u001b[39m, \u001b[33mInfinity\u001b[39m,\n",
            "    \u001b[33mInfinity\u001b[39m, \u001b[33mInfinity\u001b[39m, \u001b[33mInfinity\u001b[39m, \u001b[33mInfinity\u001b[39m, \u001b[33mInfinity\u001b[39m, \u001b[33mInfinity\u001b[39m,\n",
            "    \u001b[33mInfinity\u001b[39m, \u001b[33mInfinity\u001b[39m, \u001b[33mInfinity\u001b[39m, \u001b[33mInfinity\u001b[39m, \u001b[33mInfinity\u001b[39m, \u001b[33mInfinity\u001b[39m,\n",
            "    \u001b[33mInfinity\u001b[39m, \u001b[33mInfinity\u001b[39m, \u001b[33mInfinity\u001b[39m, \u001b[33mInfinity\u001b[39m, \u001b[33mInfinity\u001b[39m, \u001b[33mInfinity\u001b[39m,\n",
            "    \u001b[33mInfinity\u001b[39m, \u001b[33mInfinity\u001b[39m, \u001b[33mInfinity\u001b[39m, \u001b[33mInfinity\u001b[39m, \u001b[33mInfinity\u001b[39m, \u001b[33mInfinity\u001b[39m,\n",
            "    \u001b[33mInfinity\u001b[39m, \u001b[33mInfinity\u001b[39m, \u001b[33mInfinity\u001b[39m, \u001b[33mInfinity\u001b[39m, \u001b[33mInfinity\u001b[39m, \u001b[33mInfinity\u001b[39m,\n",
            "    \u001b[33mInfinity\u001b[39m, \u001b[33mInfinity\u001b[39m, \u001b[33mInfinity\u001b[39m, \u001b[33mInfinity\u001b[39m,\n",
            "    ... 500 more items\n",
            "  ],\n",
            "  [\n",
            "    \u001b[33mInfinity\u001b[39m, \u001b[33mInfinity\u001b[39m, \u001b[33mInfinity\u001b[39m, \u001b[33mInfinity\u001b[39m, \u001b[33mInfinity\u001b[39m, \u001b[33mInfinity\u001b[39m,\n",
            "    \u001b[33mInfinity\u001b[39m, \u001b[33mInfinity\u001b[39m, \u001b[33mInfinity\u001b[39m, \u001b[33mInfinity\u001b[39m, \u001b[33mInfinity\u001b[39m, \u001b[33mInfinity\u001b[39m,\n",
            "    \u001b[33mInfinity\u001b[39m, \u001b[33mInfinity\u001b[39m, \u001b[33mInfinity\u001b[39m, \u001b[33mInfinity\u001b[39m, \u001b[33mInfinity\u001b[39m, \u001b[33mInfinity\u001b[39m,\n",
            "    \u001b[33mInfinity\u001b[39m, \u001b[33mInfinity\u001b[39m, \u001b[33mInfinity\u001b[39m, \u001b[33mInfinity\u001b[39m, \u001b[33mInfinity\u001b[39m, \u001b[33mInfinity\u001b[39m,\n",
            "    \u001b[33mInfinity\u001b[39m, \u001b[33mInfinity\u001b[39m, \u001b[33mInfinity\u001b[39m, \u001b[33mInfinity\u001b[39m, \u001b[33mInfinity\u001b[39m, \u001b[33mInfinity\u001b[39m,\n",
            "    \u001b[33mInfinity\u001b[39m, \u001b[33mInfinity\u001b[39m, \u001b[33mInfinity\u001b[39m, \u001b[33mInfinity\u001b[39m, \u001b[33mInfinity\u001b[39m, \u001b[33mInfinity\u001b[39m,\n",
            "    \u001b[33mInfinity\u001b[39m, \u001b[33mInfinity\u001b[39m, \u001b[33mInfinity\u001b[39m, \u001b[33mInfinity\u001b[39m, \u001b[33mInfinity\u001b[39m, \u001b[33mInfinity\u001b[39m,\n",
            "    \u001b[33mInfinity\u001b[39m, \u001b[33mInfinity\u001b[39m, \u001b[33mInfinity\u001b[39m, \u001b[33mInfinity\u001b[39m, \u001b[33mInfinity\u001b[39m, \u001b[33mInfinity\u001b[39m,\n",
            "    \u001b[33mInfinity\u001b[39m, \u001b[33mInfinity\u001b[39m, \u001b[33mInfinity\u001b[39m, \u001b[33mInfinity\u001b[39m, \u001b[33mInfinity\u001b[39m, \u001b[33mInfinity\u001b[39m,\n",
            "    \u001b[33mInfinity\u001b[39m, \u001b[33mInfinity\u001b[39m, \u001b[33mInfinity\u001b[39m, \u001b[33mInfinity\u001b[39m, \u001b[33mInfinity\u001b[39m, \u001b[33mInfinity\u001b[39m,\n",
            "    \u001b[33mInfinity\u001b[39m, \u001b[33mInfinity\u001b[39m, \u001b[33mInfinity\u001b[39m, \u001b[33mInfinity\u001b[39m, \u001b[33mInfinity\u001b[39m, \u001b[33mInfinity\u001b[39m,\n",
            "    \u001b[33mInfinity\u001b[39m, \u001b[33mInfinity\u001b[39m, \u001b[33mInfinity\u001b[39m, \u001b[33mInfinity\u001b[39m, \u001b[33mInfinity\u001b[39m, \u001b[33mInfinity\u001b[39m,\n",
            "    \u001b[33mInfinity\u001b[39m, \u001b[33mInfinity\u001b[39m, \u001b[33mInfinity\u001b[39m, \u001b[33mInfinity\u001b[39m, \u001b[33mInfinity\u001b[39m, \u001b[33mInfinity\u001b[39m,\n",
            "    \u001b[33mInfinity\u001b[39m, \u001b[33mInfinity\u001b[39m, \u001b[33mInfinity\u001b[39m, \u001b[33mInfinity\u001b[39m, \u001b[33mInfinity\u001b[39m, \u001b[33mInfinity\u001b[39m,\n",
            "    \u001b[33mInfinity\u001b[39m, \u001b[33mInfinity\u001b[39m, \u001b[33mInfinity\u001b[39m, \u001b[33mInfinity\u001b[39m, \u001b[33mInfinity\u001b[39m, \u001b[33mInfinity\u001b[39m,\n",
            "    \u001b[33mInfinity\u001b[39m, \u001b[33mInfinity\u001b[39m, \u001b[33mInfinity\u001b[39m, \u001b[33mInfinity\u001b[39m, \u001b[33mInfinity\u001b[39m, \u001b[33mInfinity\u001b[39m,\n",
            "    \u001b[33mInfinity\u001b[39m, \u001b[33mInfinity\u001b[39m, \u001b[33mInfinity\u001b[39m, \u001b[33mInfinity\u001b[39m,\n",
            "    ... 500 more items\n",
            "  ],\n",
            "  [\n",
            "    \u001b[33mInfinity\u001b[39m, \u001b[33mInfinity\u001b[39m, \u001b[33mInfinity\u001b[39m, \u001b[33mInfinity\u001b[39m, \u001b[33mInfinity\u001b[39m, \u001b[33mInfinity\u001b[39m,\n",
            "    \u001b[33mInfinity\u001b[39m, \u001b[33mInfinity\u001b[39m, \u001b[33mInfinity\u001b[39m, \u001b[33mInfinity\u001b[39m, \u001b[33mInfinity\u001b[39m, \u001b[33mInfinity\u001b[39m,\n",
            "    \u001b[33mInfinity\u001b[39m, \u001b[33mInfinity\u001b[39m, \u001b[33mInfinity\u001b[39m, \u001b[33mInfinity\u001b[39m, \u001b[33mInfinity\u001b[39m, \u001b[33mInfinity\u001b[39m,\n",
            "    \u001b[33mInfinity\u001b[39m, \u001b[33mInfinity\u001b[39m, \u001b[33mInfinity\u001b[39m, \u001b[33mInfinity\u001b[39m, \u001b[33mInfinity\u001b[39m, \u001b[33mInfinity\u001b[39m,\n",
            "    \u001b[33mInfinity\u001b[39m, \u001b[33mInfinity\u001b[39m, \u001b[33mInfinity\u001b[39m, \u001b[33mInfinity\u001b[39m, \u001b[33mInfinity\u001b[39m, \u001b[33mInfinity\u001b[39m,\n",
            "    \u001b[33mInfinity\u001b[39m, \u001b[33mInfinity\u001b[39m, \u001b[33mInfinity\u001b[39m, \u001b[33mInfinity\u001b[39m, \u001b[33mInfinity\u001b[39m, \u001b[33mInfinity\u001b[39m,\n",
            "    \u001b[33mInfinity\u001b[39m, \u001b[33mInfinity\u001b[39m, \u001b[33mInfinity\u001b[39m, \u001b[33mInfinity\u001b[39m, \u001b[33mInfinity\u001b[39m, \u001b[33mInfinity\u001b[39m,\n",
            "    \u001b[33mInfinity\u001b[39m, \u001b[33mInfinity\u001b[39m, \u001b[33mInfinity\u001b[39m, \u001b[33mInfinity\u001b[39m, \u001b[33mInfinity\u001b[39m, \u001b[33mInfinity\u001b[39m,\n",
            "    \u001b[33mInfinity\u001b[39m, \u001b[33mInfinity\u001b[39m, \u001b[33mInfinity\u001b[39m, \u001b[33mInfinity\u001b[39m, \u001b[33mInfinity\u001b[39m, \u001b[33mInfinity\u001b[39m,\n",
            "    \u001b[33mInfinity\u001b[39m, \u001b[33mInfinity\u001b[39m, \u001b[33mInfinity\u001b[39m, \u001b[33mInfinity\u001b[39m, \u001b[33mInfinity\u001b[39m, \u001b[33mInfinity\u001b[39m,\n",
            "    \u001b[33mInfinity\u001b[39m, \u001b[33mInfinity\u001b[39m, \u001b[33mInfinity\u001b[39m, \u001b[33mInfinity\u001b[39m, \u001b[33mInfinity\u001b[39m, \u001b[33mInfinity\u001b[39m,\n",
            "    \u001b[33mInfinity\u001b[39m, \u001b[33mInfinity\u001b[39m, \u001b[33mInfinity\u001b[39m, \u001b[33mInfinity\u001b[39m, \u001b[33mInfinity\u001b[39m, \u001b[33mInfinity\u001b[39m,\n",
            "    \u001b[33mInfinity\u001b[39m, \u001b[33mInfinity\u001b[39m, \u001b[33mInfinity\u001b[39m, \u001b[33mInfinity\u001b[39m, \u001b[33mInfinity\u001b[39m, \u001b[33mInfinity\u001b[39m,\n",
            "    \u001b[33mInfinity\u001b[39m, \u001b[33mInfinity\u001b[39m, \u001b[33mInfinity\u001b[39m, \u001b[33mInfinity\u001b[39m, \u001b[33mInfinity\u001b[39m, \u001b[33mInfinity\u001b[39m,\n",
            "    \u001b[33mInfinity\u001b[39m, \u001b[33mInfinity\u001b[39m, \u001b[33mInfinity\u001b[39m, \u001b[33mInfinity\u001b[39m, \u001b[33mInfinity\u001b[39m, \u001b[33mInfinity\u001b[39m,\n",
            "    \u001b[33mInfinity\u001b[39m, \u001b[33mInfinity\u001b[39m, \u001b[33mInfinity\u001b[39m, \u001b[33mInfinity\u001b[39m, \u001b[33mInfinity\u001b[39m, \u001b[33mInfinity\u001b[39m,\n",
            "    \u001b[33mInfinity\u001b[39m, \u001b[33mInfinity\u001b[39m, \u001b[33mInfinity\u001b[39m, \u001b[33mInfinity\u001b[39m,\n",
            "    ... 500 more items\n",
            "  ],\n",
            "  [\n",
            "    \u001b[33mInfinity\u001b[39m, \u001b[33mInfinity\u001b[39m, \u001b[33mInfinity\u001b[39m, \u001b[33mInfinity\u001b[39m, \u001b[33mInfinity\u001b[39m, \u001b[33mInfinity\u001b[39m,\n",
            "    \u001b[33mInfinity\u001b[39m, \u001b[33mInfinity\u001b[39m, \u001b[33mInfinity\u001b[39m, \u001b[33mInfinity\u001b[39m, \u001b[33mInfinity\u001b[39m, \u001b[33mInfinity\u001b[39m,\n",
            "    \u001b[33mInfinity\u001b[39m, \u001b[33mInfinity\u001b[39m, \u001b[33mInfinity\u001b[39m, \u001b[33mInfinity\u001b[39m, \u001b[33mInfinity\u001b[39m, \u001b[33mInfinity\u001b[39m,\n",
            "    \u001b[33mInfinity\u001b[39m, \u001b[33mInfinity\u001b[39m, \u001b[33mInfinity\u001b[39m, \u001b[33mInfinity\u001b[39m, \u001b[33mInfinity\u001b[39m, \u001b[33mInfinity\u001b[39m,\n",
            "    \u001b[33mInfinity\u001b[39m, \u001b[33mInfinity\u001b[39m, \u001b[33mInfinity\u001b[39m, \u001b[33mInfinity\u001b[39m, \u001b[33mInfinity\u001b[39m, \u001b[33mInfinity\u001b[39m,\n",
            "    \u001b[33mInfinity\u001b[39m, \u001b[33mInfinity\u001b[39m, \u001b[33mInfinity\u001b[39m, \u001b[33mInfinity\u001b[39m, \u001b[33mInfinity\u001b[39m, \u001b[33mInfinity\u001b[39m,\n",
            "    \u001b[33mInfinity\u001b[39m, \u001b[33mInfinity\u001b[39m, \u001b[33mInfinity\u001b[39m, \u001b[33mInfinity\u001b[39m, \u001b[33mInfinity\u001b[39m, \u001b[33mInfinity\u001b[39m,\n",
            "    \u001b[33mInfinity\u001b[39m, \u001b[33mInfinity\u001b[39m, \u001b[33mInfinity\u001b[39m, \u001b[33mInfinity\u001b[39m, \u001b[33mInfinity\u001b[39m, \u001b[33mInfinity\u001b[39m,\n",
            "    \u001b[33mInfinity\u001b[39m, \u001b[33mInfinity\u001b[39m, \u001b[33mInfinity\u001b[39m, \u001b[33mInfinity\u001b[39m, \u001b[33mInfinity\u001b[39m, \u001b[33mInfinity\u001b[39m,\n",
            "    \u001b[33mInfinity\u001b[39m, \u001b[33mInfinity\u001b[39m, \u001b[33mInfinity\u001b[39m, \u001b[33mInfinity\u001b[39m, \u001b[33mInfinity\u001b[39m, \u001b[33mInfinity\u001b[39m,\n",
            "    \u001b[33mInfinity\u001b[39m, \u001b[33mInfinity\u001b[39m, \u001b[33mInfinity\u001b[39m, \u001b[33mInfinity\u001b[39m, \u001b[33mInfinity\u001b[39m, \u001b[33mInfinity\u001b[39m,\n",
            "    \u001b[33mInfinity\u001b[39m, \u001b[33mInfinity\u001b[39m, \u001b[33mInfinity\u001b[39m, \u001b[33mInfinity\u001b[39m, \u001b[33mInfinity\u001b[39m, \u001b[33mInfinity\u001b[39m,\n",
            "    \u001b[33mInfinity\u001b[39m, \u001b[33mInfinity\u001b[39m, \u001b[33mInfinity\u001b[39m, \u001b[33mInfinity\u001b[39m, \u001b[33mInfinity\u001b[39m, \u001b[33mInfinity\u001b[39m,\n",
            "    \u001b[33mInfinity\u001b[39m, \u001b[33mInfinity\u001b[39m, \u001b[33mInfinity\u001b[39m, \u001b[33mInfinity\u001b[39m, \u001b[33mInfinity\u001b[39m, \u001b[33mInfinity\u001b[39m,\n",
            "    \u001b[33mInfinity\u001b[39m, \u001b[33mInfinity\u001b[39m, \u001b[33mInfinity\u001b[39m, \u001b[33mInfinity\u001b[39m, \u001b[33mInfinity\u001b[39m, \u001b[33mInfinity\u001b[39m,\n",
            "    \u001b[33mInfinity\u001b[39m, \u001b[33mInfinity\u001b[39m, \u001b[33mInfinity\u001b[39m, \u001b[33mInfinity\u001b[39m, \u001b[33mInfinity\u001b[39m, \u001b[33mInfinity\u001b[39m,\n",
            "    \u001b[33mInfinity\u001b[39m, \u001b[33mInfinity\u001b[39m, \u001b[33mInfinity\u001b[39m, \u001b[33mInfinity\u001b[39m,\n",
            "    ... 500 more items\n",
            "  ],\n",
            "  [\n",
            "    \u001b[33mInfinity\u001b[39m, \u001b[33mInfinity\u001b[39m, \u001b[33mInfinity\u001b[39m, \u001b[33mInfinity\u001b[39m, \u001b[33mInfinity\u001b[39m, \u001b[33mInfinity\u001b[39m,\n",
            "    \u001b[33mInfinity\u001b[39m, \u001b[33mInfinity\u001b[39m, \u001b[33mInfinity\u001b[39m, \u001b[33mInfinity\u001b[39m, \u001b[33mInfinity\u001b[39m, \u001b[33mInfinity\u001b[39m,\n",
            "    \u001b[33mInfinity\u001b[39m, \u001b[33mInfinity\u001b[39m, \u001b[33mInfinity\u001b[39m, \u001b[33mInfinity\u001b[39m, \u001b[33mInfinity\u001b[39m, \u001b[33mInfinity\u001b[39m,\n",
            "    \u001b[33mInfinity\u001b[39m, \u001b[33mInfinity\u001b[39m, \u001b[33mInfinity\u001b[39m, \u001b[33mInfinity\u001b[39m, \u001b[33mInfinity\u001b[39m, \u001b[33mInfinity\u001b[39m,\n",
            "    \u001b[33mInfinity\u001b[39m, \u001b[33mInfinity\u001b[39m, \u001b[33mInfinity\u001b[39m, \u001b[33mInfinity\u001b[39m, \u001b[33mInfinity\u001b[39m, \u001b[33mInfinity\u001b[39m,\n",
            "    \u001b[33mInfinity\u001b[39m, \u001b[33mInfinity\u001b[39m, \u001b[33mInfinity\u001b[39m, \u001b[33mInfinity\u001b[39m, \u001b[33mInfinity\u001b[39m, \u001b[33mInfinity\u001b[39m,\n",
            "    \u001b[33mInfinity\u001b[39m, \u001b[33mInfinity\u001b[39m, \u001b[33mInfinity\u001b[39m, \u001b[33mInfinity\u001b[39m, \u001b[33mInfinity\u001b[39m, \u001b[33mInfinity\u001b[39m,\n",
            "    \u001b[33mInfinity\u001b[39m, \u001b[33mInfinity\u001b[39m, \u001b[33mInfinity\u001b[39m, \u001b[33mInfinity\u001b[39m, \u001b[33mInfinity\u001b[39m, \u001b[33mInfinity\u001b[39m,\n",
            "    \u001b[33mInfinity\u001b[39m, \u001b[33mInfinity\u001b[39m, \u001b[33mInfinity\u001b[39m, \u001b[33mInfinity\u001b[39m, \u001b[33mInfinity\u001b[39m, \u001b[33mInfinity\u001b[39m,\n",
            "    \u001b[33mInfinity\u001b[39m, \u001b[33mInfinity\u001b[39m, \u001b[33mInfinity\u001b[39m, \u001b[33mInfinity\u001b[39m, \u001b[33mInfinity\u001b[39m, \u001b[33mInfinity\u001b[39m,\n",
            "    \u001b[33mInfinity\u001b[39m, \u001b[33mInfinity\u001b[39m, \u001b[33mInfinity\u001b[39m, \u001b[33mInfinity\u001b[39m, \u001b[33mInfinity\u001b[39m, \u001b[33mInfinity\u001b[39m,\n",
            "    \u001b[33mInfinity\u001b[39m, \u001b[33mInfinity\u001b[39m, \u001b[33mInfinity\u001b[39m, \u001b[33mInfinity\u001b[39m, \u001b[33mInfinity\u001b[39m, \u001b[33mInfinity\u001b[39m,\n",
            "    \u001b[33mInfinity\u001b[39m, \u001b[33mInfinity\u001b[39m, \u001b[33mInfinity\u001b[39m, \u001b[33mInfinity\u001b[39m, \u001b[33mInfinity\u001b[39m, \u001b[33mInfinity\u001b[39m,\n",
            "    \u001b[33mInfinity\u001b[39m, \u001b[33mInfinity\u001b[39m, \u001b[33mInfinity\u001b[39m, \u001b[33mInfinity\u001b[39m, \u001b[33mInfinity\u001b[39m, \u001b[33mInfinity\u001b[39m,\n",
            "    \u001b[33mInfinity\u001b[39m, \u001b[33mInfinity\u001b[39m, \u001b[33mInfinity\u001b[39m, \u001b[33mInfinity\u001b[39m, \u001b[33mInfinity\u001b[39m, \u001b[33mInfinity\u001b[39m,\n",
            "    \u001b[33mInfinity\u001b[39m, \u001b[33mInfinity\u001b[39m, \u001b[33mInfinity\u001b[39m, \u001b[33mInfinity\u001b[39m, \u001b[33mInfinity\u001b[39m, \u001b[33mInfinity\u001b[39m,\n",
            "    \u001b[33mInfinity\u001b[39m, \u001b[33mInfinity\u001b[39m, \u001b[33mInfinity\u001b[39m, \u001b[33mInfinity\u001b[39m,\n",
            "    ... 500 more items\n",
            "  ],\n",
            "  [\n",
            "    \u001b[33mInfinity\u001b[39m, \u001b[33mInfinity\u001b[39m, \u001b[33mInfinity\u001b[39m, \u001b[33mInfinity\u001b[39m, \u001b[33mInfinity\u001b[39m, \u001b[33mInfinity\u001b[39m,\n",
            "    \u001b[33mInfinity\u001b[39m, \u001b[33mInfinity\u001b[39m, \u001b[33mInfinity\u001b[39m, \u001b[33mInfinity\u001b[39m, \u001b[33mInfinity\u001b[39m, \u001b[33mInfinity\u001b[39m,\n",
            "    \u001b[33mInfinity\u001b[39m, \u001b[33mInfinity\u001b[39m, \u001b[33mInfinity\u001b[39m, \u001b[33mInfinity\u001b[39m, \u001b[33mInfinity\u001b[39m, \u001b[33mInfinity\u001b[39m,\n",
            "    \u001b[33mInfinity\u001b[39m, \u001b[33mInfinity\u001b[39m, \u001b[33mInfinity\u001b[39m, \u001b[33mInfinity\u001b[39m, \u001b[33mInfinity\u001b[39m, \u001b[33mInfinity\u001b[39m,\n",
            "    \u001b[33mInfinity\u001b[39m, \u001b[33mInfinity\u001b[39m, \u001b[33mInfinity\u001b[39m, \u001b[33mInfinity\u001b[39m, \u001b[33mInfinity\u001b[39m, \u001b[33mInfinity\u001b[39m,\n",
            "    \u001b[33mInfinity\u001b[39m, \u001b[33mInfinity\u001b[39m, \u001b[33mInfinity\u001b[39m, \u001b[33mInfinity\u001b[39m, \u001b[33mInfinity\u001b[39m, \u001b[33mInfinity\u001b[39m,\n",
            "    \u001b[33mInfinity\u001b[39m, \u001b[33mInfinity\u001b[39m, \u001b[33mInfinity\u001b[39m, \u001b[33mInfinity\u001b[39m, \u001b[33mInfinity\u001b[39m, \u001b[33mInfinity\u001b[39m,\n",
            "    \u001b[33mInfinity\u001b[39m, \u001b[33mInfinity\u001b[39m, \u001b[33mInfinity\u001b[39m, \u001b[33mInfinity\u001b[39m, \u001b[33mInfinity\u001b[39m, \u001b[33mInfinity\u001b[39m,\n",
            "    \u001b[33mInfinity\u001b[39m, \u001b[33mInfinity\u001b[39m, \u001b[33mInfinity\u001b[39m, \u001b[33mInfinity\u001b[39m, \u001b[33mInfinity\u001b[39m, \u001b[33mInfinity\u001b[39m,\n",
            "    \u001b[33mInfinity\u001b[39m, \u001b[33mInfinity\u001b[39m, \u001b[33mInfinity\u001b[39m, \u001b[33mInfinity\u001b[39m, \u001b[33mInfinity\u001b[39m, \u001b[33mInfinity\u001b[39m,\n",
            "    \u001b[33mInfinity\u001b[39m, \u001b[33mInfinity\u001b[39m, \u001b[33mInfinity\u001b[39m, \u001b[33mInfinity\u001b[39m, \u001b[33mInfinity\u001b[39m, \u001b[33mInfinity\u001b[39m,\n",
            "    \u001b[33mInfinity\u001b[39m, \u001b[33mInfinity\u001b[39m, \u001b[33mInfinity\u001b[39m, \u001b[33mInfinity\u001b[39m, \u001b[33mInfinity\u001b[39m, \u001b[33mInfinity\u001b[39m,\n",
            "    \u001b[33mInfinity\u001b[39m, \u001b[33mInfinity\u001b[39m, \u001b[33mInfinity\u001b[39m, \u001b[33mInfinity\u001b[39m, \u001b[33mInfinity\u001b[39m, \u001b[33mInfinity\u001b[39m,\n",
            "    \u001b[33mInfinity\u001b[39m, \u001b[33mInfinity\u001b[39m, \u001b[33mInfinity\u001b[39m, \u001b[33mInfinity\u001b[39m, \u001b[33mInfinity\u001b[39m, \u001b[33mInfinity\u001b[39m,\n",
            "    \u001b[33mInfinity\u001b[39m, \u001b[33mInfinity\u001b[39m, \u001b[33mInfinity\u001b[39m, \u001b[33mInfinity\u001b[39m, \u001b[33mInfinity\u001b[39m, \u001b[33mInfinity\u001b[39m,\n",
            "    \u001b[33mInfinity\u001b[39m, \u001b[33mInfinity\u001b[39m, \u001b[33mInfinity\u001b[39m, \u001b[33mInfinity\u001b[39m, \u001b[33mInfinity\u001b[39m, \u001b[33mInfinity\u001b[39m,\n",
            "    \u001b[33mInfinity\u001b[39m, \u001b[33mInfinity\u001b[39m, \u001b[33mInfinity\u001b[39m, \u001b[33mInfinity\u001b[39m,\n",
            "    ... 500 more items\n",
            "  ],\n",
            "  [\n",
            "    \u001b[33mInfinity\u001b[39m, \u001b[33mInfinity\u001b[39m, \u001b[33mInfinity\u001b[39m, \u001b[33mInfinity\u001b[39m, \u001b[33mInfinity\u001b[39m, \u001b[33mInfinity\u001b[39m,\n",
            "    \u001b[33mInfinity\u001b[39m, \u001b[33mInfinity\u001b[39m, \u001b[33mInfinity\u001b[39m, \u001b[33mInfinity\u001b[39m, \u001b[33mInfinity\u001b[39m, \u001b[33mInfinity\u001b[39m,\n",
            "    \u001b[33mInfinity\u001b[39m, \u001b[33mInfinity\u001b[39m, \u001b[33mInfinity\u001b[39m, \u001b[33mInfinity\u001b[39m, \u001b[33mInfinity\u001b[39m, \u001b[33mInfinity\u001b[39m,\n",
            "    \u001b[33mInfinity\u001b[39m, \u001b[33mInfinity\u001b[39m, \u001b[33mInfinity\u001b[39m, \u001b[33mInfinity\u001b[39m, \u001b[33mInfinity\u001b[39m, \u001b[33mInfinity\u001b[39m,\n",
            "    \u001b[33mInfinity\u001b[39m, \u001b[33mInfinity\u001b[39m, \u001b[33mInfinity\u001b[39m, \u001b[33mInfinity\u001b[39m, \u001b[33mInfinity\u001b[39m, \u001b[33mInfinity\u001b[39m,\n",
            "    \u001b[33mInfinity\u001b[39m, \u001b[33mInfinity\u001b[39m, \u001b[33mInfinity\u001b[39m, \u001b[33mInfinity\u001b[39m, \u001b[33mInfinity\u001b[39m, \u001b[33mInfinity\u001b[39m,\n",
            "    \u001b[33mInfinity\u001b[39m, \u001b[33mInfinity\u001b[39m, \u001b[33mInfinity\u001b[39m, \u001b[33mInfinity\u001b[39m, \u001b[33mInfinity\u001b[39m, \u001b[33mInfinity\u001b[39m,\n",
            "    \u001b[33mInfinity\u001b[39m, \u001b[33mInfinity\u001b[39m, \u001b[33mInfinity\u001b[39m, \u001b[33mInfinity\u001b[39m, \u001b[33mInfinity\u001b[39m, \u001b[33mInfinity\u001b[39m,\n",
            "    \u001b[33mInfinity\u001b[39m, \u001b[33mInfinity\u001b[39m, \u001b[33mInfinity\u001b[39m, \u001b[33mInfinity\u001b[39m, \u001b[33mInfinity\u001b[39m, \u001b[33mInfinity\u001b[39m,\n",
            "    \u001b[33mInfinity\u001b[39m, \u001b[33mInfinity\u001b[39m, \u001b[33mInfinity\u001b[39m, \u001b[33mInfinity\u001b[39m, \u001b[33mInfinity\u001b[39m, \u001b[33mInfinity\u001b[39m,\n",
            "    \u001b[33mInfinity\u001b[39m, \u001b[33mInfinity\u001b[39m, \u001b[33mInfinity\u001b[39m, \u001b[33mInfinity\u001b[39m, \u001b[33mInfinity\u001b[39m, \u001b[33mInfinity\u001b[39m,\n",
            "    \u001b[33mInfinity\u001b[39m, \u001b[33mInfinity\u001b[39m, \u001b[33mInfinity\u001b[39m, \u001b[33mInfinity\u001b[39m, \u001b[33mInfinity\u001b[39m, \u001b[33mInfinity\u001b[39m,\n",
            "    \u001b[33mInfinity\u001b[39m, \u001b[33mInfinity\u001b[39m, \u001b[33mInfinity\u001b[39m, \u001b[33mInfinity\u001b[39m, \u001b[33mInfinity\u001b[39m, \u001b[33mInfinity\u001b[39m,\n",
            "    \u001b[33mInfinity\u001b[39m, \u001b[33mInfinity\u001b[39m, \u001b[33mInfinity\u001b[39m, \u001b[33mInfinity\u001b[39m, \u001b[33mInfinity\u001b[39m, \u001b[33mInfinity\u001b[39m,\n",
            "    \u001b[33mInfinity\u001b[39m, \u001b[33mInfinity\u001b[39m, \u001b[33mInfinity\u001b[39m, \u001b[33mInfinity\u001b[39m, \u001b[33mInfinity\u001b[39m, \u001b[33mInfinity\u001b[39m,\n",
            "    \u001b[33mInfinity\u001b[39m, \u001b[33mInfinity\u001b[39m, \u001b[33mInfinity\u001b[39m, \u001b[33mInfinity\u001b[39m, \u001b[33mInfinity\u001b[39m, \u001b[33mInfinity\u001b[39m,\n",
            "    \u001b[33mInfinity\u001b[39m, \u001b[33mInfinity\u001b[39m, \u001b[33mInfinity\u001b[39m, \u001b[33mInfinity\u001b[39m,\n",
            "    ... 500 more items\n",
            "  ],\n",
            "  [\n",
            "    \u001b[33mInfinity\u001b[39m, \u001b[33mInfinity\u001b[39m, \u001b[33mInfinity\u001b[39m, \u001b[33mInfinity\u001b[39m, \u001b[33mInfinity\u001b[39m, \u001b[33mInfinity\u001b[39m,\n",
            "    \u001b[33mInfinity\u001b[39m, \u001b[33mInfinity\u001b[39m, \u001b[33mInfinity\u001b[39m, \u001b[33mInfinity\u001b[39m, \u001b[33mInfinity\u001b[39m, \u001b[33mInfinity\u001b[39m,\n",
            "    \u001b[33mInfinity\u001b[39m, \u001b[33mInfinity\u001b[39m, \u001b[33mInfinity\u001b[39m, \u001b[33mInfinity\u001b[39m, \u001b[33mInfinity\u001b[39m, \u001b[33mInfinity\u001b[39m,\n",
            "    \u001b[33mInfinity\u001b[39m, \u001b[33mInfinity\u001b[39m, \u001b[33mInfinity\u001b[39m, \u001b[33mInfinity\u001b[39m, \u001b[33mInfinity\u001b[39m, \u001b[33mInfinity\u001b[39m,\n",
            "    \u001b[33mInfinity\u001b[39m, \u001b[33mInfinity\u001b[39m, \u001b[33mInfinity\u001b[39m, \u001b[33mInfinity\u001b[39m, \u001b[33mInfinity\u001b[39m, \u001b[33mInfinity\u001b[39m,\n",
            "    \u001b[33mInfinity\u001b[39m, \u001b[33mInfinity\u001b[39m, \u001b[33mInfinity\u001b[39m, \u001b[33mInfinity\u001b[39m, \u001b[33mInfinity\u001b[39m, \u001b[33mInfinity\u001b[39m,\n",
            "    \u001b[33mInfinity\u001b[39m, \u001b[33mInfinity\u001b[39m, \u001b[33mInfinity\u001b[39m, \u001b[33mInfinity\u001b[39m, \u001b[33mInfinity\u001b[39m, \u001b[33mInfinity\u001b[39m,\n",
            "    \u001b[33mInfinity\u001b[39m, \u001b[33mInfinity\u001b[39m, \u001b[33mInfinity\u001b[39m, \u001b[33mInfinity\u001b[39m, \u001b[33mInfinity\u001b[39m, \u001b[33mInfinity\u001b[39m,\n",
            "    \u001b[33mInfinity\u001b[39m, \u001b[33mInfinity\u001b[39m, \u001b[33mInfinity\u001b[39m, \u001b[33mInfinity\u001b[39m, \u001b[33mInfinity\u001b[39m, \u001b[33mInfinity\u001b[39m,\n",
            "    \u001b[33mInfinity\u001b[39m, \u001b[33mInfinity\u001b[39m, \u001b[33mInfinity\u001b[39m, \u001b[33mInfinity\u001b[39m, \u001b[33mInfinity\u001b[39m, \u001b[33mInfinity\u001b[39m,\n",
            "    \u001b[33mInfinity\u001b[39m, \u001b[33mInfinity\u001b[39m, \u001b[33mInfinity\u001b[39m, \u001b[33mInfinity\u001b[39m, \u001b[33mInfinity\u001b[39m, \u001b[33mInfinity\u001b[39m,\n",
            "    \u001b[33mInfinity\u001b[39m, \u001b[33mInfinity\u001b[39m, \u001b[33mInfinity\u001b[39m, \u001b[33mInfinity\u001b[39m, \u001b[33mInfinity\u001b[39m, \u001b[33mInfinity\u001b[39m,\n",
            "    \u001b[33mInfinity\u001b[39m, \u001b[33mInfinity\u001b[39m, \u001b[33mInfinity\u001b[39m, \u001b[33mInfinity\u001b[39m, \u001b[33mInfinity\u001b[39m, \u001b[33mInfinity\u001b[39m,\n",
            "    \u001b[33mInfinity\u001b[39m, \u001b[33mInfinity\u001b[39m, \u001b[33mInfinity\u001b[39m, \u001b[33mInfinity\u001b[39m, \u001b[33mInfinity\u001b[39m, \u001b[33mInfinity\u001b[39m,\n",
            "    \u001b[33mInfinity\u001b[39m, \u001b[33mInfinity\u001b[39m, \u001b[33mInfinity\u001b[39m, \u001b[33mInfinity\u001b[39m, \u001b[33mInfinity\u001b[39m, \u001b[33mInfinity\u001b[39m,\n",
            "    \u001b[33mInfinity\u001b[39m, \u001b[33mInfinity\u001b[39m, \u001b[33mInfinity\u001b[39m, \u001b[33mInfinity\u001b[39m, \u001b[33mInfinity\u001b[39m, \u001b[33mInfinity\u001b[39m,\n",
            "    \u001b[33mInfinity\u001b[39m, \u001b[33mInfinity\u001b[39m, \u001b[33mInfinity\u001b[39m, \u001b[33mInfinity\u001b[39m,\n",
            "    ... 500 more items\n",
            "  ],\n",
            "  [\n",
            "    \u001b[33mInfinity\u001b[39m, \u001b[33mInfinity\u001b[39m, \u001b[33mInfinity\u001b[39m, \u001b[33mInfinity\u001b[39m, \u001b[33mInfinity\u001b[39m, \u001b[33mInfinity\u001b[39m,\n",
            "    \u001b[33mInfinity\u001b[39m, \u001b[33mInfinity\u001b[39m, \u001b[33mInfinity\u001b[39m, \u001b[33mInfinity\u001b[39m, \u001b[33mInfinity\u001b[39m, \u001b[33mInfinity\u001b[39m,\n",
            "    \u001b[33mInfinity\u001b[39m, \u001b[33mInfinity\u001b[39m, \u001b[33mInfinity\u001b[39m, \u001b[33mInfinity\u001b[39m, \u001b[33mInfinity\u001b[39m, \u001b[33mInfinity\u001b[39m,\n",
            "    \u001b[33mInfinity\u001b[39m, \u001b[33mInfinity\u001b[39m, \u001b[33mInfinity\u001b[39m, \u001b[33mInfinity\u001b[39m, \u001b[33mInfinity\u001b[39m, \u001b[33mInfinity\u001b[39m,\n",
            "    \u001b[33mInfinity\u001b[39m, \u001b[33mInfinity\u001b[39m, \u001b[33mInfinity\u001b[39m, \u001b[33mInfinity\u001b[39m, \u001b[33mInfinity\u001b[39m, \u001b[33mInfinity\u001b[39m,\n",
            "    \u001b[33mInfinity\u001b[39m, \u001b[33mInfinity\u001b[39m, \u001b[33mInfinity\u001b[39m, \u001b[33mInfinity\u001b[39m, \u001b[33mInfinity\u001b[39m, \u001b[33mInfinity\u001b[39m,\n",
            "    \u001b[33mInfinity\u001b[39m, \u001b[33mInfinity\u001b[39m, \u001b[33mInfinity\u001b[39m, \u001b[33mInfinity\u001b[39m, \u001b[33mInfinity\u001b[39m, \u001b[33mInfinity\u001b[39m,\n",
            "    \u001b[33mInfinity\u001b[39m, \u001b[33mInfinity\u001b[39m, \u001b[33mInfinity\u001b[39m, \u001b[33mInfinity\u001b[39m, \u001b[33mInfinity\u001b[39m, \u001b[33mInfinity\u001b[39m,\n",
            "    \u001b[33mInfinity\u001b[39m, \u001b[33mInfinity\u001b[39m, \u001b[33mInfinity\u001b[39m, \u001b[33mInfinity\u001b[39m, \u001b[33mInfinity\u001b[39m, \u001b[33mInfinity\u001b[39m,\n",
            "    \u001b[33mInfinity\u001b[39m, \u001b[33mInfinity\u001b[39m, \u001b[33mInfinity\u001b[39m, \u001b[33mInfinity\u001b[39m, \u001b[33mInfinity\u001b[39m, \u001b[33mInfinity\u001b[39m,\n",
            "    \u001b[33mInfinity\u001b[39m, \u001b[33mInfinity\u001b[39m, \u001b[33mInfinity\u001b[39m, \u001b[33mInfinity\u001b[39m, \u001b[33mInfinity\u001b[39m, \u001b[33mInfinity\u001b[39m,\n",
            "    \u001b[33mInfinity\u001b[39m, \u001b[33mInfinity\u001b[39m, \u001b[33mInfinity\u001b[39m, \u001b[33mInfinity\u001b[39m, \u001b[33mInfinity\u001b[39m, \u001b[33mInfinity\u001b[39m,\n",
            "    \u001b[33mInfinity\u001b[39m, \u001b[33mInfinity\u001b[39m, \u001b[33mInfinity\u001b[39m, \u001b[33mInfinity\u001b[39m, \u001b[33mInfinity\u001b[39m, \u001b[33mInfinity\u001b[39m,\n",
            "    \u001b[33mInfinity\u001b[39m, \u001b[33mInfinity\u001b[39m, \u001b[33mInfinity\u001b[39m, \u001b[33mInfinity\u001b[39m, \u001b[33mInfinity\u001b[39m, \u001b[33mInfinity\u001b[39m,\n",
            "    \u001b[33mInfinity\u001b[39m, \u001b[33mInfinity\u001b[39m, \u001b[33mInfinity\u001b[39m, \u001b[33mInfinity\u001b[39m, \u001b[33mInfinity\u001b[39m, \u001b[33mInfinity\u001b[39m,\n",
            "    \u001b[33mInfinity\u001b[39m, \u001b[33mInfinity\u001b[39m, \u001b[33mInfinity\u001b[39m, \u001b[33mInfinity\u001b[39m, \u001b[33mInfinity\u001b[39m, \u001b[33mInfinity\u001b[39m,\n",
            "    \u001b[33mInfinity\u001b[39m, \u001b[33mInfinity\u001b[39m, \u001b[33mInfinity\u001b[39m, \u001b[33mInfinity\u001b[39m,\n",
            "    ... 500 more items\n",
            "  ],\n",
            "  [\n",
            "    \u001b[33mInfinity\u001b[39m, \u001b[33mInfinity\u001b[39m, \u001b[33mInfinity\u001b[39m, \u001b[33mInfinity\u001b[39m, \u001b[33mInfinity\u001b[39m, \u001b[33mInfinity\u001b[39m,\n",
            "    \u001b[33mInfinity\u001b[39m, \u001b[33mInfinity\u001b[39m, \u001b[33mInfinity\u001b[39m, \u001b[33mInfinity\u001b[39m, \u001b[33mInfinity\u001b[39m, \u001b[33mInfinity\u001b[39m,\n",
            "    \u001b[33mInfinity\u001b[39m, \u001b[33mInfinity\u001b[39m, \u001b[33mInfinity\u001b[39m, \u001b[33mInfinity\u001b[39m, \u001b[33mInfinity\u001b[39m, \u001b[33mInfinity\u001b[39m,\n",
            "    \u001b[33mInfinity\u001b[39m, \u001b[33mInfinity\u001b[39m, \u001b[33mInfinity\u001b[39m, \u001b[33mInfinity\u001b[39m, \u001b[33mInfinity\u001b[39m, \u001b[33mInfinity\u001b[39m,\n",
            "    \u001b[33mInfinity\u001b[39m, \u001b[33mInfinity\u001b[39m, \u001b[33mInfinity\u001b[39m, \u001b[33mInfinity\u001b[39m, \u001b[33mInfinity\u001b[39m, \u001b[33mInfinity\u001b[39m,\n",
            "    \u001b[33mInfinity\u001b[39m, \u001b[33mInfinity\u001b[39m, \u001b[33mInfinity\u001b[39m, \u001b[33mInfinity\u001b[39m, \u001b[33mInfinity\u001b[39m, \u001b[33mInfinity\u001b[39m,\n",
            "    \u001b[33mInfinity\u001b[39m, \u001b[33mInfinity\u001b[39m, \u001b[33mInfinity\u001b[39m, \u001b[33mInfinity\u001b[39m, \u001b[33mInfinity\u001b[39m, \u001b[33mInfinity\u001b[39m,\n",
            "    \u001b[33mInfinity\u001b[39m, \u001b[33mInfinity\u001b[39m, \u001b[33mInfinity\u001b[39m, \u001b[33mInfinity\u001b[39m, \u001b[33mInfinity\u001b[39m, \u001b[33mInfinity\u001b[39m,\n",
            "    \u001b[33mInfinity\u001b[39m, \u001b[33mInfinity\u001b[39m, \u001b[33mInfinity\u001b[39m, \u001b[33mInfinity\u001b[39m, \u001b[33mInfinity\u001b[39m, \u001b[33mInfinity\u001b[39m,\n",
            "    \u001b[33mInfinity\u001b[39m, \u001b[33mInfinity\u001b[39m, \u001b[33mInfinity\u001b[39m, \u001b[33mInfinity\u001b[39m, \u001b[33mInfinity\u001b[39m, \u001b[33mInfinity\u001b[39m,\n",
            "    \u001b[33mInfinity\u001b[39m, \u001b[33mInfinity\u001b[39m, \u001b[33mInfinity\u001b[39m, \u001b[33mInfinity\u001b[39m, \u001b[33mInfinity\u001b[39m, \u001b[33mInfinity\u001b[39m,\n",
            "    \u001b[33mInfinity\u001b[39m, \u001b[33mInfinity\u001b[39m, \u001b[33mInfinity\u001b[39m, \u001b[33mInfinity\u001b[39m, \u001b[33mInfinity\u001b[39m, \u001b[33mInfinity\u001b[39m,\n",
            "    \u001b[33mInfinity\u001b[39m, \u001b[33mInfinity\u001b[39m, \u001b[33mInfinity\u001b[39m, \u001b[33mInfinity\u001b[39m, \u001b[33mInfinity\u001b[39m, \u001b[33mInfinity\u001b[39m,\n",
            "    \u001b[33mInfinity\u001b[39m, \u001b[33mInfinity\u001b[39m, \u001b[33mInfinity\u001b[39m, \u001b[33mInfinity\u001b[39m, \u001b[33mInfinity\u001b[39m, \u001b[33mInfinity\u001b[39m,\n",
            "    \u001b[33mInfinity\u001b[39m, \u001b[33mInfinity\u001b[39m, \u001b[33mInfinity\u001b[39m, \u001b[33mInfinity\u001b[39m, \u001b[33mInfinity\u001b[39m, \u001b[33mInfinity\u001b[39m,\n",
            "    \u001b[33mInfinity\u001b[39m, \u001b[33mInfinity\u001b[39m, \u001b[33mInfinity\u001b[39m, \u001b[33mInfinity\u001b[39m, \u001b[33mInfinity\u001b[39m, \u001b[33mInfinity\u001b[39m,\n",
            "    \u001b[33mInfinity\u001b[39m, \u001b[33mInfinity\u001b[39m, \u001b[33mInfinity\u001b[39m, \u001b[33mInfinity\u001b[39m,\n",
            "    ... 500 more items\n",
            "  ],\n",
            "  [\n",
            "    \u001b[33mInfinity\u001b[39m, \u001b[33mInfinity\u001b[39m, \u001b[33mInfinity\u001b[39m, \u001b[33mInfinity\u001b[39m, \u001b[33mInfinity\u001b[39m, \u001b[33mInfinity\u001b[39m,\n",
            "    \u001b[33mInfinity\u001b[39m, \u001b[33mInfinity\u001b[39m, \u001b[33mInfinity\u001b[39m, \u001b[33mInfinity\u001b[39m, \u001b[33mInfinity\u001b[39m, \u001b[33mInfinity\u001b[39m,\n",
            "    \u001b[33mInfinity\u001b[39m, \u001b[33mInfinity\u001b[39m, \u001b[33mInfinity\u001b[39m, \u001b[33mInfinity\u001b[39m, \u001b[33mInfinity\u001b[39m, \u001b[33mInfinity\u001b[39m,\n",
            "    \u001b[33mInfinity\u001b[39m, \u001b[33mInfinity\u001b[39m, \u001b[33mInfinity\u001b[39m, \u001b[33mInfinity\u001b[39m, \u001b[33mInfinity\u001b[39m, \u001b[33mInfinity\u001b[39m,\n",
            "    \u001b[33mInfinity\u001b[39m, \u001b[33mInfinity\u001b[39m, \u001b[33mInfinity\u001b[39m, \u001b[33mInfinity\u001b[39m, \u001b[33mInfinity\u001b[39m, \u001b[33mInfinity\u001b[39m,\n",
            "    \u001b[33mInfinity\u001b[39m, \u001b[33mInfinity\u001b[39m, \u001b[33mInfinity\u001b[39m, \u001b[33mInfinity\u001b[39m, \u001b[33mInfinity\u001b[39m, \u001b[33mInfinity\u001b[39m,\n",
            "    \u001b[33mInfinity\u001b[39m, \u001b[33mInfinity\u001b[39m, \u001b[33mInfinity\u001b[39m, \u001b[33mInfinity\u001b[39m, \u001b[33mInfinity\u001b[39m, \u001b[33mInfinity\u001b[39m,\n",
            "    \u001b[33mInfinity\u001b[39m, \u001b[33mInfinity\u001b[39m, \u001b[33mInfinity\u001b[39m, \u001b[33mInfinity\u001b[39m, \u001b[33mInfinity\u001b[39m, \u001b[33mInfinity\u001b[39m,\n",
            "    \u001b[33mInfinity\u001b[39m, \u001b[33mInfinity\u001b[39m, \u001b[33mInfinity\u001b[39m, \u001b[33mInfinity\u001b[39m, \u001b[33mInfinity\u001b[39m, \u001b[33mInfinity\u001b[39m,\n",
            "    \u001b[33mInfinity\u001b[39m, \u001b[33mInfinity\u001b[39m, \u001b[33mInfinity\u001b[39m, \u001b[33mInfinity\u001b[39m, \u001b[33mInfinity\u001b[39m, \u001b[33mInfinity\u001b[39m,\n",
            "    \u001b[33mInfinity\u001b[39m, \u001b[33mInfinity\u001b[39m, \u001b[33mInfinity\u001b[39m, \u001b[33mInfinity\u001b[39m, \u001b[33mInfinity\u001b[39m, \u001b[33mInfinity\u001b[39m,\n",
            "    \u001b[33mInfinity\u001b[39m, \u001b[33mInfinity\u001b[39m, \u001b[33mInfinity\u001b[39m, \u001b[33mInfinity\u001b[39m, \u001b[33mInfinity\u001b[39m, \u001b[33mInfinity\u001b[39m,\n",
            "    \u001b[33mInfinity\u001b[39m, \u001b[33mInfinity\u001b[39m, \u001b[33mInfinity\u001b[39m, \u001b[33mInfinity\u001b[39m, \u001b[33mInfinity\u001b[39m, \u001b[33mInfinity\u001b[39m,\n",
            "    \u001b[33mInfinity\u001b[39m, \u001b[33mInfinity\u001b[39m, \u001b[33mInfinity\u001b[39m, \u001b[33mInfinity\u001b[39m, \u001b[33mInfinity\u001b[39m, \u001b[33mInfinity\u001b[39m,\n",
            "    \u001b[33mInfinity\u001b[39m, \u001b[33mInfinity\u001b[39m, \u001b[33mInfinity\u001b[39m, \u001b[33mInfinity\u001b[39m, \u001b[33mInfinity\u001b[39m, \u001b[33mInfinity\u001b[39m,\n",
            "    \u001b[33mInfinity\u001b[39m, \u001b[33mInfinity\u001b[39m, \u001b[33mInfinity\u001b[39m, \u001b[33mInfinity\u001b[39m, \u001b[33mInfinity\u001b[39m, \u001b[33mInfinity\u001b[39m,\n",
            "    \u001b[33mInfinity\u001b[39m, \u001b[33mInfinity\u001b[39m, \u001b[33mInfinity\u001b[39m, \u001b[33mInfinity\u001b[39m,\n",
            "    ... 500 more items\n",
            "  ],\n",
            "  [\n",
            "    \u001b[33mInfinity\u001b[39m, \u001b[33mInfinity\u001b[39m, \u001b[33mInfinity\u001b[39m, \u001b[33mInfinity\u001b[39m, \u001b[33mInfinity\u001b[39m, \u001b[33mInfinity\u001b[39m,\n",
            "    \u001b[33mInfinity\u001b[39m, \u001b[33mInfinity\u001b[39m, \u001b[33mInfinity\u001b[39m, \u001b[33mInfinity\u001b[39m, \u001b[33mInfinity\u001b[39m, \u001b[33mInfinity\u001b[39m,\n",
            "    \u001b[33mInfinity\u001b[39m, \u001b[33mInfinity\u001b[39m, \u001b[33mInfinity\u001b[39m, \u001b[33mInfinity\u001b[39m, \u001b[33mInfinity\u001b[39m, \u001b[33mInfinity\u001b[39m,\n",
            "    \u001b[33mInfinity\u001b[39m, \u001b[33mInfinity\u001b[39m, \u001b[33mInfinity\u001b[39m, \u001b[33mInfinity\u001b[39m, \u001b[33mInfinity\u001b[39m, \u001b[33mInfinity\u001b[39m,\n",
            "    \u001b[33mInfinity\u001b[39m, \u001b[33mInfinity\u001b[39m, \u001b[33mInfinity\u001b[39m, \u001b[33mInfinity\u001b[39m, \u001b[33mInfinity\u001b[39m, \u001b[33mInfinity\u001b[39m,\n",
            "    \u001b[33mInfinity\u001b[39m, \u001b[33mInfinity\u001b[39m, \u001b[33mInfinity\u001b[39m, \u001b[33mInfinity\u001b[39m, \u001b[33mInfinity\u001b[39m, \u001b[33mInfinity\u001b[39m,\n",
            "    \u001b[33mInfinity\u001b[39m, \u001b[33mInfinity\u001b[39m, \u001b[33mInfinity\u001b[39m, \u001b[33mInfinity\u001b[39m, \u001b[33mInfinity\u001b[39m, \u001b[33mInfinity\u001b[39m,\n",
            "    \u001b[33mInfinity\u001b[39m, \u001b[33mInfinity\u001b[39m, \u001b[33mInfinity\u001b[39m, \u001b[33mInfinity\u001b[39m, \u001b[33mInfinity\u001b[39m, \u001b[33mInfinity\u001b[39m,\n",
            "    \u001b[33mInfinity\u001b[39m, \u001b[33mInfinity\u001b[39m, \u001b[33mInfinity\u001b[39m, \u001b[33mInfinity\u001b[39m, \u001b[33mInfinity\u001b[39m, \u001b[33mInfinity\u001b[39m,\n",
            "    \u001b[33mInfinity\u001b[39m, \u001b[33mInfinity\u001b[39m, \u001b[33mInfinity\u001b[39m, \u001b[33mInfinity\u001b[39m, \u001b[33mInfinity\u001b[39m, \u001b[33mInfinity\u001b[39m,\n",
            "    \u001b[33mInfinity\u001b[39m, \u001b[33mInfinity\u001b[39m, \u001b[33mInfinity\u001b[39m, \u001b[33mInfinity\u001b[39m, \u001b[33mInfinity\u001b[39m, \u001b[33mInfinity\u001b[39m,\n",
            "    \u001b[33mInfinity\u001b[39m, \u001b[33mInfinity\u001b[39m, \u001b[33mInfinity\u001b[39m, \u001b[33mInfinity\u001b[39m, \u001b[33mInfinity\u001b[39m, \u001b[33mInfinity\u001b[39m,\n",
            "    \u001b[33mInfinity\u001b[39m, \u001b[33mInfinity\u001b[39m, \u001b[33mInfinity\u001b[39m, \u001b[33mInfinity\u001b[39m, \u001b[33mInfinity\u001b[39m, \u001b[33mInfinity\u001b[39m,\n",
            "    \u001b[33mInfinity\u001b[39m, \u001b[33mInfinity\u001b[39m, \u001b[33mInfinity\u001b[39m, \u001b[33mInfinity\u001b[39m, \u001b[33mInfinity\u001b[39m, \u001b[33mInfinity\u001b[39m,\n",
            "    \u001b[33mInfinity\u001b[39m, \u001b[33mInfinity\u001b[39m, \u001b[33mInfinity\u001b[39m, \u001b[33mInfinity\u001b[39m, \u001b[33mInfinity\u001b[39m, \u001b[33mInfinity\u001b[39m,\n",
            "    \u001b[33mInfinity\u001b[39m, \u001b[33mInfinity\u001b[39m, \u001b[33mInfinity\u001b[39m, \u001b[33mInfinity\u001b[39m, \u001b[33mInfinity\u001b[39m, \u001b[33mInfinity\u001b[39m,\n",
            "    \u001b[33mInfinity\u001b[39m, \u001b[33mInfinity\u001b[39m, \u001b[33mInfinity\u001b[39m, \u001b[33mInfinity\u001b[39m,\n",
            "    ... 500 more items\n",
            "  ],\n",
            "  [\n",
            "    \u001b[33mInfinity\u001b[39m, \u001b[33mInfinity\u001b[39m, \u001b[33mInfinity\u001b[39m, \u001b[33mInfinity\u001b[39m, \u001b[33mInfinity\u001b[39m, \u001b[33mInfinity\u001b[39m,\n",
            "    \u001b[33mInfinity\u001b[39m, \u001b[33mInfinity\u001b[39m, \u001b[33mInfinity\u001b[39m, \u001b[33mInfinity\u001b[39m, \u001b[33mInfinity\u001b[39m, \u001b[33mInfinity\u001b[39m,\n",
            "    \u001b[33mInfinity\u001b[39m, \u001b[33mInfinity\u001b[39m, \u001b[33mInfinity\u001b[39m, \u001b[33mInfinity\u001b[39m, \u001b[33mInfinity\u001b[39m, \u001b[33mInfinity\u001b[39m,\n",
            "    \u001b[33mInfinity\u001b[39m, \u001b[33mInfinity\u001b[39m, \u001b[33mInfinity\u001b[39m, \u001b[33mInfinity\u001b[39m, \u001b[33mInfinity\u001b[39m, \u001b[33mInfinity\u001b[39m,\n",
            "    \u001b[33mInfinity\u001b[39m, \u001b[33mInfinity\u001b[39m, \u001b[33mInfinity\u001b[39m, \u001b[33mInfinity\u001b[39m, \u001b[33mInfinity\u001b[39m, \u001b[33mInfinity\u001b[39m,\n",
            "    \u001b[33mInfinity\u001b[39m, \u001b[33mInfinity\u001b[39m, \u001b[33mInfinity\u001b[39m, \u001b[33mInfinity\u001b[39m, \u001b[33mInfinity\u001b[39m, \u001b[33mInfinity\u001b[39m,\n",
            "    \u001b[33mInfinity\u001b[39m, \u001b[33mInfinity\u001b[39m, \u001b[33mInfinity\u001b[39m, \u001b[33mInfinity\u001b[39m, \u001b[33mInfinity\u001b[39m, \u001b[33mInfinity\u001b[39m,\n",
            "    \u001b[33mInfinity\u001b[39m, \u001b[33mInfinity\u001b[39m, \u001b[33mInfinity\u001b[39m, \u001b[33mInfinity\u001b[39m, \u001b[33mInfinity\u001b[39m, \u001b[33mInfinity\u001b[39m,\n",
            "    \u001b[33mInfinity\u001b[39m, \u001b[33mInfinity\u001b[39m, \u001b[33mInfinity\u001b[39m, \u001b[33mInfinity\u001b[39m, \u001b[33mInfinity\u001b[39m, \u001b[33mInfinity\u001b[39m,\n",
            "    \u001b[33mInfinity\u001b[39m, \u001b[33mInfinity\u001b[39m, \u001b[33mInfinity\u001b[39m, \u001b[33mInfinity\u001b[39m, \u001b[33mInfinity\u001b[39m, \u001b[33mInfinity\u001b[39m,\n",
            "    \u001b[33mInfinity\u001b[39m, \u001b[33mInfinity\u001b[39m, \u001b[33mInfinity\u001b[39m, \u001b[33mInfinity\u001b[39m, \u001b[33mInfinity\u001b[39m, \u001b[33mInfinity\u001b[39m,\n",
            "    \u001b[33mInfinity\u001b[39m, \u001b[33mInfinity\u001b[39m, \u001b[33mInfinity\u001b[39m, \u001b[33mInfinity\u001b[39m, \u001b[33mInfinity\u001b[39m, \u001b[33mInfinity\u001b[39m,\n",
            "    \u001b[33mInfinity\u001b[39m, \u001b[33mInfinity\u001b[39m, \u001b[33mInfinity\u001b[39m, \u001b[33mInfinity\u001b[39m, \u001b[33mInfinity\u001b[39m, \u001b[33mInfinity\u001b[39m,\n",
            "    \u001b[33mInfinity\u001b[39m, \u001b[33mInfinity\u001b[39m, \u001b[33mInfinity\u001b[39m, \u001b[33mInfinity\u001b[39m, \u001b[33mInfinity\u001b[39m, \u001b[33mInfinity\u001b[39m,\n",
            "    \u001b[33mInfinity\u001b[39m, \u001b[33mInfinity\u001b[39m, \u001b[33mInfinity\u001b[39m, \u001b[33mInfinity\u001b[39m, \u001b[33mInfinity\u001b[39m, \u001b[33mInfinity\u001b[39m,\n",
            "    \u001b[33mInfinity\u001b[39m, \u001b[33mInfinity\u001b[39m, \u001b[33mInfinity\u001b[39m, \u001b[33mInfinity\u001b[39m, \u001b[33mInfinity\u001b[39m, \u001b[33mInfinity\u001b[39m,\n",
            "    \u001b[33mInfinity\u001b[39m, \u001b[33mInfinity\u001b[39m, \u001b[33mInfinity\u001b[39m, \u001b[33mInfinity\u001b[39m,\n",
            "    ... 500 more items\n",
            "  ],\n",
            "  [\n",
            "    \u001b[33mInfinity\u001b[39m, \u001b[33mInfinity\u001b[39m, \u001b[33mInfinity\u001b[39m, \u001b[33mInfinity\u001b[39m, \u001b[33mInfinity\u001b[39m, \u001b[33mInfinity\u001b[39m,\n",
            "    \u001b[33mInfinity\u001b[39m, \u001b[33mInfinity\u001b[39m, \u001b[33mInfinity\u001b[39m, \u001b[33mInfinity\u001b[39m, \u001b[33mInfinity\u001b[39m, \u001b[33mInfinity\u001b[39m,\n",
            "    \u001b[33mInfinity\u001b[39m, \u001b[33mInfinity\u001b[39m, \u001b[33mInfinity\u001b[39m, \u001b[33mInfinity\u001b[39m, \u001b[33mInfinity\u001b[39m, \u001b[33mInfinity\u001b[39m,\n",
            "    \u001b[33mInfinity\u001b[39m, \u001b[33mInfinity\u001b[39m, \u001b[33mInfinity\u001b[39m, \u001b[33mInfinity\u001b[39m, \u001b[33mInfinity\u001b[39m, \u001b[33mInfinity\u001b[39m,\n",
            "    \u001b[33mInfinity\u001b[39m, \u001b[33mInfinity\u001b[39m, \u001b[33mInfinity\u001b[39m, \u001b[33mInfinity\u001b[39m, \u001b[33mInfinity\u001b[39m, \u001b[33mInfinity\u001b[39m,\n",
            "    \u001b[33mInfinity\u001b[39m, \u001b[33mInfinity\u001b[39m, \u001b[33mInfinity\u001b[39m, \u001b[33mInfinity\u001b[39m, \u001b[33mInfinity\u001b[39m, \u001b[33mInfinity\u001b[39m,\n",
            "    \u001b[33mInfinity\u001b[39m, \u001b[33mInfinity\u001b[39m, \u001b[33mInfinity\u001b[39m, \u001b[33mInfinity\u001b[39m, \u001b[33mInfinity\u001b[39m, \u001b[33mInfinity\u001b[39m,\n",
            "    \u001b[33mInfinity\u001b[39m, \u001b[33mInfinity\u001b[39m, \u001b[33mInfinity\u001b[39m, \u001b[33mInfinity\u001b[39m, \u001b[33mInfinity\u001b[39m, \u001b[33mInfinity\u001b[39m,\n",
            "    \u001b[33mInfinity\u001b[39m, \u001b[33mInfinity\u001b[39m, \u001b[33mInfinity\u001b[39m, \u001b[33mInfinity\u001b[39m, \u001b[33mInfinity\u001b[39m, \u001b[33mInfinity\u001b[39m,\n",
            "    \u001b[33mInfinity\u001b[39m, \u001b[33mInfinity\u001b[39m, \u001b[33mInfinity\u001b[39m, \u001b[33mInfinity\u001b[39m, \u001b[33mInfinity\u001b[39m, \u001b[33mInfinity\u001b[39m,\n",
            "    \u001b[33mInfinity\u001b[39m, \u001b[33mInfinity\u001b[39m, \u001b[33mInfinity\u001b[39m, \u001b[33mInfinity\u001b[39m, \u001b[33mInfinity\u001b[39m, \u001b[33mInfinity\u001b[39m,\n",
            "    \u001b[33mInfinity\u001b[39m, \u001b[33mInfinity\u001b[39m, \u001b[33mInfinity\u001b[39m, \u001b[33mInfinity\u001b[39m, \u001b[33mInfinity\u001b[39m, \u001b[33mInfinity\u001b[39m,\n",
            "    \u001b[33mInfinity\u001b[39m, \u001b[33mInfinity\u001b[39m, \u001b[33mInfinity\u001b[39m, \u001b[33mInfinity\u001b[39m, \u001b[33mInfinity\u001b[39m, \u001b[33mInfinity\u001b[39m,\n",
            "    \u001b[33mInfinity\u001b[39m, \u001b[33mInfinity\u001b[39m, \u001b[33mInfinity\u001b[39m, \u001b[33mInfinity\u001b[39m, \u001b[33mInfinity\u001b[39m, \u001b[33mInfinity\u001b[39m,\n",
            "    \u001b[33mInfinity\u001b[39m, \u001b[33mInfinity\u001b[39m, \u001b[33mInfinity\u001b[39m, \u001b[33mInfinity\u001b[39m, \u001b[33mInfinity\u001b[39m, \u001b[33mInfinity\u001b[39m,\n",
            "    \u001b[33mInfinity\u001b[39m, \u001b[33mInfinity\u001b[39m, \u001b[33mInfinity\u001b[39m, \u001b[33mInfinity\u001b[39m, \u001b[33mInfinity\u001b[39m, \u001b[33mInfinity\u001b[39m,\n",
            "    \u001b[33mInfinity\u001b[39m, \u001b[33mInfinity\u001b[39m, \u001b[33mInfinity\u001b[39m, \u001b[33mInfinity\u001b[39m,\n",
            "    ... 500 more items\n",
            "  ],\n",
            "  ... 500 more items\n",
            "]\n",
            "CPU times: user 54 ms, sys: 28.9 ms, total: 82.8 ms\n",
            "Wall time: 3.67 s\n"
          ]
        }
      ]
    },
    {
      "cell_type": "markdown",
      "source": [
        "**My own example 31 - Finding the minimun average esecuiton time in the data frame**"
      ],
      "metadata": {
        "id": "XPP0Ir1dezN6"
      }
    },
    {
      "cell_type": "code",
      "source": [],
      "metadata": {
        "id": "y0rA3N9v7KyM"
      },
      "execution_count": null,
      "outputs": []
    },
    {
      "cell_type": "markdown",
      "source": [
        "**My own example 32 - Adding the Speed factor columne to the data frame**"
      ],
      "metadata": {
        "id": "_IjH2K6ldJAQ"
      }
    },
    {
      "cell_type": "markdown",
      "source": [
        "**My own example 33 - Sorting the the data frame by average execution time**"
      ],
      "metadata": {
        "id": "CjiN21fvdRch"
      }
    },
    {
      "cell_type": "code",
      "source": [],
      "metadata": {
        "id": "d8eiDHB0GpBF"
      },
      "execution_count": null,
      "outputs": []
    },
    {
      "cell_type": "markdown",
      "metadata": {
        "id": "5RlZ-kCGiXcO"
      },
      "source": [
        "## Why is the Python Version so Much Slower?"
      ]
    },
    {
      "cell_type": "code",
      "execution_count": null,
      "metadata": {
        "id": "rWOUuY4QiXcP"
      },
      "outputs": [],
      "source": [
        "# Dynamic typing.\n",
        "def mul_elemwise(xs, ys):\n",
        "    return [x * y for x, y in zip(xs, ys)]\n",
        "\n",
        "mul_elemwise([1, 2, 3, 4], [1, 2 + 0j, 3.0, 'four'])\n",
        "#[type(x) for x in _]"
      ]
    },
    {
      "cell_type": "code",
      "execution_count": null,
      "metadata": {
        "id": "cW0Jexk6iXcP"
      },
      "outputs": [],
      "source": [
        "# Interpretation overhead.\n",
        "source_code = 'a + b * c'\n",
        "bytecode = compile(source_code, '', 'eval')\n",
        "import dis; dis.dis(bytecode)"
      ]
    },
    {
      "cell_type": "markdown",
      "metadata": {
        "id": "BdvCAketiXcP"
      },
      "source": [
        "## Why is the Python Version so Slow?\n",
        "- Dynamic typing means that every single operation requires dispatching on the input type.\n",
        "- Having an interpreter means that every instruction is fetched and dispatched at runtime.\n",
        "- Other overheads:\n",
        "  - Arbitrary-size integers.\n",
        "  - Reference-counted garbage collection."
      ]
    },
    {
      "cell_type": "markdown",
      "metadata": {
        "id": "zvFKYtobiXcP"
      },
      "source": [
        "> This is the paradox that we have to work with when we're doing scientific or numerically-intensive Python. What makes Python fast for development -- this high-level, interpreted, and dynamically-typed aspect of the language -- is exactly what makes it slow for code execution.\n",
        "\n",
        "- Jake VanderPlas, [*Losing Your Loops: Fast Numerical Computing with NumPy*](https://www.youtube.com/watch?v=EEUXKG97YRw)"
      ]
    },
    {
      "cell_type": "markdown",
      "metadata": {
        "id": "UqE431pkiXcP"
      },
      "source": [
        "# What Do We Do?"
      ]
    },
    {
      "cell_type": "markdown",
      "metadata": {
        "id": "4uh7h3HyiXcP"
      },
      "source": [
        "<center><img src=\"https://raw.githubusercontent.com/ssanderson/pydata-toolbox/master/notebooks/images/runaway.gif\" alt=\"Drawing\" style=\"width: 50%;\"/></center>"
      ]
    },
    {
      "cell_type": "markdown",
      "metadata": {
        "id": "-9z62YT1iXcP"
      },
      "source": [
        "<center><img src=\"https://raw.githubusercontent.com/ssanderson/pydata-toolbox/master/notebooks/images/thisisfine.gif\" alt=\"Drawing\" style=\"width: 1080px;\"/></center>"
      ]
    },
    {
      "cell_type": "markdown",
      "metadata": {
        "id": "0Moc6UrkiXcQ"
      },
      "source": [
        "- Python is slow for numerical computation because it performs dynamic dispatch on every operation we perform..."
      ]
    },
    {
      "cell_type": "markdown",
      "metadata": {
        "collapsed": true,
        "id": "U4gN8tp2iXcQ"
      },
      "source": [
        "- ...but often, we just want to do the same thing over and over in a loop!"
      ]
    },
    {
      "cell_type": "markdown",
      "metadata": {
        "id": "Yu0ySyEhiXcQ"
      },
      "source": [
        "- If we don't need Python's dynamicism, we don't want to pay (much) for it."
      ]
    },
    {
      "cell_type": "markdown",
      "metadata": {
        "id": "KUwG9isRiXcQ"
      },
      "source": [
        "- **Idea:** Dispatch **once per operation** instead of **once per element**."
      ]
    },
    {
      "cell_type": "code",
      "execution_count": null,
      "metadata": {
        "id": "62itImahiXcQ"
      },
      "outputs": [],
      "source": [
        "import numpy as np\n",
        "\n",
        "data = np.array([1, 2, 3, 4])\n",
        "data"
      ]
    },
    {
      "cell_type": "code",
      "execution_count": null,
      "metadata": {
        "id": "q6qikr_tiXcQ"
      },
      "outputs": [],
      "source": [
        "data + data"
      ]
    },
    {
      "cell_type": "code",
      "execution_count": null,
      "metadata": {
        "id": "26QlWUw8iXcQ"
      },
      "outputs": [],
      "source": [
        "%%time\n",
        "# Naive dot product\n",
        "(array_data * array_data).sum()"
      ]
    },
    {
      "cell_type": "code",
      "execution_count": null,
      "metadata": {
        "id": "xoigDrpEiXcQ"
      },
      "outputs": [],
      "source": [
        "%%time\n",
        "# Built-in dot product.\n",
        "array_data.dot(array_data)"
      ]
    },
    {
      "cell_type": "code",
      "execution_count": null,
      "metadata": {
        "id": "tcewetQ0iXcR"
      },
      "outputs": [],
      "source": [
        "%%time\n",
        "fortran_dot_product(array_data, array_data)"
      ]
    },
    {
      "cell_type": "code",
      "execution_count": null,
      "metadata": {
        "id": "Whkcgo1xiXcR"
      },
      "outputs": [],
      "source": [
        "# Numpy won't allow us to write a string into an int array.\n",
        "data[0] = \"foo\""
      ]
    },
    {
      "cell_type": "code",
      "execution_count": null,
      "metadata": {
        "collapsed": true,
        "id": "OM_YUwF0iXcR"
      },
      "outputs": [],
      "source": [
        "# We also can't grow an array once it's created.\n",
        "data.append(3)"
      ]
    },
    {
      "cell_type": "code",
      "execution_count": null,
      "metadata": {
        "collapsed": true,
        "id": "_ByTInO5iXcR"
      },
      "outputs": [],
      "source": [
        "# We **can** reshape an array though.\n",
        "two_by_two = data.reshape(2, 2)\n",
        "two_by_two"
      ]
    },
    {
      "cell_type": "markdown",
      "metadata": {
        "id": "rqUM9z90iXcR"
      },
      "source": [
        "Numpy arrays are:\n",
        "\n",
        "- Fixed-type"
      ]
    },
    {
      "cell_type": "markdown",
      "metadata": {
        "id": "xI5M1gzviXcR"
      },
      "source": [
        "- Size-immutable"
      ]
    },
    {
      "cell_type": "markdown",
      "metadata": {
        "id": "Xb7Dkl2tiXcS"
      },
      "source": [
        "- Multi-dimensional"
      ]
    },
    {
      "cell_type": "markdown",
      "metadata": {
        "id": "r0oMRqQXiXcS"
      },
      "source": [
        "- Fast\\*"
      ]
    },
    {
      "cell_type": "markdown",
      "metadata": {
        "id": "kz1MurDBiXcS"
      },
      "source": [
        "\\* If you use them correctly."
      ]
    },
    {
      "cell_type": "markdown",
      "metadata": {
        "id": "Qivn_IZOiXcS"
      },
      "source": [
        "# What's in an Array?"
      ]
    },
    {
      "cell_type": "code",
      "execution_count": null,
      "metadata": {
        "id": "vAuc9ZoYiXcS"
      },
      "outputs": [],
      "source": [
        "arr = np.array([1, 2, 3, 4, 5, 6], dtype='int16').reshape(2, 3)\n",
        "print(\"Array:\\n\", arr, sep='')\n",
        "print(\"===========\")\n",
        "print(\"DType:\", arr.dtype)\n",
        "print(\"Shape:\", arr.shape)\n",
        "print(\"Strides:\", arr.strides)\n",
        "print(\"Data:\", arr.data.tobytes())"
      ]
    },
    {
      "cell_type": "markdown",
      "metadata": {
        "id": "K81LXWsCiXcS"
      },
      "source": [
        "# Core Operations\n",
        "\n",
        "- Vectorized **ufuncs** for elementwise operations.\n",
        "- Fancy indexing and masking for selection and filtering.\n",
        "- Aggregations across axes.\n",
        "- Broadcasting"
      ]
    },
    {
      "cell_type": "markdown",
      "metadata": {
        "id": "kwVm_T0UiXcS"
      },
      "source": [
        "# UFuncs\n",
        "\n",
        "UFuncs (universal functions) are functions that operate elementwise on one or more arrays."
      ]
    },
    {
      "cell_type": "code",
      "execution_count": null,
      "metadata": {
        "id": "bltDIE9jiXcS"
      },
      "outputs": [],
      "source": [
        "data = np.arange(15).reshape(3, 5)\n",
        "data"
      ]
    },
    {
      "cell_type": "code",
      "execution_count": null,
      "metadata": {
        "id": "STwE0VCpiXcT"
      },
      "outputs": [],
      "source": [
        "# Binary operators.\n",
        "data * data"
      ]
    },
    {
      "cell_type": "code",
      "execution_count": null,
      "metadata": {
        "id": "N__jqMifiXcT"
      },
      "outputs": [],
      "source": [
        "# Unary functions.\n",
        "np.sqrt(data)"
      ]
    },
    {
      "cell_type": "code",
      "execution_count": null,
      "metadata": {
        "id": "j-2fPm3LiXcT"
      },
      "outputs": [],
      "source": [
        "# Comparison operations\n",
        "(data % 3) == 0"
      ]
    },
    {
      "cell_type": "code",
      "execution_count": null,
      "metadata": {
        "id": "iDUXVIuhiXcT"
      },
      "outputs": [],
      "source": [
        "# Boolean combinators.\n",
        "((data % 2) == 0) & ((data % 3) == 0)"
      ]
    },
    {
      "cell_type": "code",
      "execution_count": null,
      "metadata": {
        "id": "f2FWSuiJiXcT"
      },
      "outputs": [],
      "source": [
        "# as of python 3.5, @ is matrix-multiply\n",
        "data @ data.T"
      ]
    },
    {
      "cell_type": "markdown",
      "metadata": {
        "id": "9EsiKbSCiXcT"
      },
      "source": [
        "# UFuncs Review\n",
        "\n",
        "- UFuncs provide efficient elementwise operations applied across one or more arrays.\n",
        "- Arithmetic Operators (`+`, `*`, `/`)\n",
        "- Comparisons (`==`, `>`, `!=`)\n",
        "- Boolean Operators (`&`, `|`, `^`)\n",
        "- Trigonometric Functions (`sin`, `cos`)\n",
        "- Transcendental Functions (`exp`, `log`)"
      ]
    },
    {
      "cell_type": "markdown",
      "metadata": {
        "id": "GGLCgF20iXcU"
      },
      "source": [
        "# Selections"
      ]
    },
    {
      "cell_type": "markdown",
      "metadata": {
        "id": "3SAH9am8iXcU"
      },
      "source": [
        "We often want to perform an operation on just a subset of our data."
      ]
    },
    {
      "cell_type": "code",
      "execution_count": null,
      "metadata": {
        "id": "AWmtLHYwiXcU"
      },
      "outputs": [],
      "source": [
        "sines = np.sin(np.linspace(0, 3.14, 10))\n",
        "cosines = np.cos(np.linspace(0, 3.14, 10))\n",
        "sines"
      ]
    },
    {
      "cell_type": "code",
      "execution_count": null,
      "metadata": {
        "id": "u8LHY0j9iXcU"
      },
      "outputs": [],
      "source": [
        "# Slicing works with the same semantics as Python lists.\n",
        "sines[0]"
      ]
    },
    {
      "cell_type": "code",
      "execution_count": null,
      "metadata": {
        "id": "hh6dTObciXcU"
      },
      "outputs": [],
      "source": [
        "sines[:3]  # First three elements  "
      ]
    },
    {
      "cell_type": "code",
      "execution_count": null,
      "metadata": {
        "id": "rqB_uVABiXcU"
      },
      "outputs": [],
      "source": [
        "sines[5:]  # Elements from 5 on."
      ]
    },
    {
      "cell_type": "code",
      "execution_count": null,
      "metadata": {
        "id": "j2KDBhZaiXcU"
      },
      "outputs": [],
      "source": [
        "sines[::2]  # Every other element."
      ]
    },
    {
      "cell_type": "code",
      "execution_count": null,
      "metadata": {
        "id": "lR7JjjhjiXcV"
      },
      "outputs": [],
      "source": [
        "# More interesting: we can index with boolean arrays to filter by a predicate.\n",
        "print(\"sines:\\n\", sines)\n",
        "print(\"sines > 0.5:\\n\", sines > 0.5)\n",
        "print(\"sines[sines > 0.5]:\\n\", sines[sines > 0.5])"
      ]
    },
    {
      "cell_type": "code",
      "execution_count": null,
      "metadata": {
        "id": "gORuDL3RiXcV"
      },
      "outputs": [],
      "source": [
        "# We index with lists/arrays of integers to select values at those indices.\n",
        "print(sines)\n",
        "sines[[0, 4, 7]]"
      ]
    },
    {
      "cell_type": "code",
      "execution_count": null,
      "metadata": {
        "collapsed": true,
        "id": "Gu2vDHNgiXcV"
      },
      "outputs": [],
      "source": [
        "# Index arrays are often used for sorting one or more arrays.\n",
        "unsorted_data = np.array([1, 3, 2, 12, -1, 5, 2])"
      ]
    },
    {
      "cell_type": "code",
      "execution_count": null,
      "metadata": {
        "id": "uroIWxu1iXcV"
      },
      "outputs": [],
      "source": [
        "sort_indices = np.argsort(unsorted_data)\n",
        "sort_indices"
      ]
    },
    {
      "cell_type": "code",
      "execution_count": null,
      "metadata": {
        "id": "igwLM_b1iXcV"
      },
      "outputs": [],
      "source": [
        "unsorted_data[sort_indices]"
      ]
    },
    {
      "cell_type": "code",
      "execution_count": null,
      "metadata": {
        "collapsed": true,
        "id": "7IRVEVvdiXcV"
      },
      "outputs": [],
      "source": [
        "market_caps = np.array([12, 6, 10, 5, 6])  # Presumably in dollars?\n",
        "assets = np.array(['A', 'B', 'C', 'D', 'E'])"
      ]
    },
    {
      "cell_type": "code",
      "execution_count": null,
      "metadata": {
        "id": "jE8KVrn9iXcV"
      },
      "outputs": [],
      "source": [
        "# Sort assets by market cap by using the permutation that would sort market caps on ``assets``.\n",
        "sort_by_mcap = np.argsort(market_caps)\n",
        "assets[sort_by_mcap]"
      ]
    },
    {
      "cell_type": "code",
      "execution_count": null,
      "metadata": {
        "scrolled": true,
        "id": "jaGW-7fTiXcW"
      },
      "outputs": [],
      "source": [
        "# Indexers are also useful for aligning data.\n",
        "print(\"Dates:\\n\", repr(event_dates))\n",
        "print(\"Values:\\n\", repr(event_values))\n",
        "print(\"Calendar:\\n\", repr(calendar))"
      ]
    },
    {
      "cell_type": "code",
      "execution_count": null,
      "metadata": {
        "id": "Uo28AVcTiXcW"
      },
      "outputs": [],
      "source": [
        "print(\"Raw Dates:\", event_dates)\n",
        "print(\"Indices:\", calendar.searchsorted(event_dates))\n",
        "print(\"Forward-Filled Dates:\", calendar[calendar.searchsorted(event_dates)])"
      ]
    },
    {
      "cell_type": "markdown",
      "metadata": {
        "id": "oDEVEEOriXcW"
      },
      "source": [
        "On multi-dimensional arrays, we can slice along each axis independently."
      ]
    },
    {
      "cell_type": "code",
      "execution_count": null,
      "metadata": {
        "id": "prPSgZhniXcW"
      },
      "outputs": [],
      "source": [
        "data = np.arange(25).reshape(5, 5)\n",
        "data"
      ]
    },
    {
      "cell_type": "code",
      "execution_count": null,
      "metadata": {
        "id": "KAulAQ2yiXcW"
      },
      "outputs": [],
      "source": [
        "data[:2, :2]  # First two rows and first two columns."
      ]
    },
    {
      "cell_type": "code",
      "execution_count": null,
      "metadata": {
        "id": "f9_S0RcdiXcW"
      },
      "outputs": [],
      "source": [
        "data[:2, [0, -1]]  # First two rows, first and last columns."
      ]
    },
    {
      "cell_type": "code",
      "execution_count": null,
      "metadata": {
        "id": "rre5hGs9iXcW"
      },
      "outputs": [],
      "source": [
        "data[(data[:, 0] % 2) == 0]  # Rows where the first column is divisible by two."
      ]
    },
    {
      "cell_type": "markdown",
      "metadata": {
        "id": "zl1zYEQgiXcX"
      },
      "source": [
        "# Selections Review\n",
        "\n",
        "- Indexing with an integer removes a dimension.\n",
        "- Slicing operations work on Numpy arrays the same way they do on lists.\n",
        "- Indexing with a boolean array filters to True locations.\n",
        "- Indexing with an integer array selects indices along an axis.\n",
        "- Multidimensional arrays can apply selections independently along different axes."
      ]
    },
    {
      "cell_type": "markdown",
      "metadata": {
        "id": "0tDspA_KiXcX"
      },
      "source": [
        "## Reductions\n",
        "\n",
        "Functions that reduce an array to a scalar."
      ]
    },
    {
      "cell_type": "markdown",
      "metadata": {
        "id": "1s42E1qCiXcX"
      },
      "source": [
        "$Var(X) = \\frac{1}{N}\\sqrt{\\sum_{i=1}^N (x_i - \\bar{x})^2}$"
      ]
    },
    {
      "cell_type": "code",
      "execution_count": null,
      "metadata": {
        "collapsed": true,
        "id": "pkjccK94iXcX"
      },
      "outputs": [],
      "source": [
        "def variance(x):\n",
        "    return ((x - x.mean()) ** 2).sum() / len(x)"
      ]
    },
    {
      "cell_type": "code",
      "execution_count": null,
      "metadata": {
        "id": "jqiZV_FMiXcX"
      },
      "outputs": [],
      "source": [
        "variance(np.random.standard_normal(1000))"
      ]
    },
    {
      "cell_type": "markdown",
      "metadata": {
        "id": "WHVBON1qiXcX"
      },
      "source": [
        "- `sum()` and `mean()` are both **reductions**."
      ]
    },
    {
      "cell_type": "markdown",
      "metadata": {
        "id": "w7gh4_vmiXcX"
      },
      "source": [
        "- In the simplest case, we use these to reduce an entire array into a single value..."
      ]
    },
    {
      "cell_type": "code",
      "execution_count": null,
      "metadata": {
        "id": "Hxr-Py7ciXcY"
      },
      "outputs": [],
      "source": [
        "data = np.arange(30)\n",
        "data.mean()"
      ]
    },
    {
      "cell_type": "markdown",
      "metadata": {
        "id": "M1mqf-RfiXcY"
      },
      "source": [
        "- ...but we can do more interesting things with multi-dimensional arrays."
      ]
    },
    {
      "cell_type": "code",
      "execution_count": null,
      "metadata": {
        "id": "okW92XNriXcY"
      },
      "outputs": [],
      "source": [
        "data = np.arange(30).reshape(3, 10)\n",
        "data"
      ]
    },
    {
      "cell_type": "code",
      "execution_count": null,
      "metadata": {
        "id": "_DwCYNHQiXcY"
      },
      "outputs": [],
      "source": [
        "data.mean()"
      ]
    },
    {
      "cell_type": "code",
      "execution_count": null,
      "metadata": {
        "id": "Z7S6mpm3iXcY"
      },
      "outputs": [],
      "source": [
        "data.mean(axis=0)"
      ]
    },
    {
      "cell_type": "code",
      "execution_count": null,
      "metadata": {
        "id": "g-DOKtM4iXcY"
      },
      "outputs": [],
      "source": [
        "data.mean(axis=1)"
      ]
    },
    {
      "cell_type": "markdown",
      "metadata": {
        "id": "zsIEVqkgiXcY"
      },
      "source": [
        "## Reductions Review\n",
        "\n",
        "- Reductions allow us to perform efficient aggregations over arrays.\n",
        "- We can do aggregations over a single axis to collapse a single dimension.\n",
        "- Many built-in reductions (`mean`, `sum`, `min`, `max`, `median`, ...)."
      ]
    },
    {
      "cell_type": "markdown",
      "metadata": {
        "id": "hvqRiy2qiXcZ"
      },
      "source": [
        "# Broadcasting"
      ]
    },
    {
      "cell_type": "code",
      "execution_count": null,
      "metadata": {
        "id": "OyIDakdiiXcZ"
      },
      "outputs": [],
      "source": [
        "row = np.array([1, 2, 3, 4])\n",
        "column = np.array([[1], [2], [3]])\n",
        "print(\"Row:\\n\", row, sep='')\n",
        "print(\"Column:\\n\", column, sep='')"
      ]
    },
    {
      "cell_type": "code",
      "execution_count": null,
      "metadata": {
        "id": "Dej4wsX-iXcZ"
      },
      "outputs": [],
      "source": [
        "row + column"
      ]
    },
    {
      "cell_type": "markdown",
      "metadata": {
        "id": "tMdSsqXfiXcZ"
      },
      "source": [
        "<center><img src=\"https://raw.githubusercontent.com/ssanderson/pydata-toolbox/master/notebooks/images/broadcasting.png\" alt=\"Drawing\" style=\"width: 60%;\"/></center>\n",
        "\n",
        "<h5>Source: http://www.scipy-lectures.org/_images/numpy_broadcasting.png</h5>"
      ]
    },
    {
      "cell_type": "code",
      "execution_count": null,
      "metadata": {
        "id": "JVLNvazIiXcZ"
      },
      "outputs": [],
      "source": [
        "# Broadcasting is particularly useful in conjunction with reductions.\n",
        "print(\"Data:\\n\", data, sep='')\n",
        "print(\"Mean:\\n\", data.mean(axis=0), sep='')\n",
        "print(\"Data - Mean:\\n\", data - data.mean(axis=0), sep='')"
      ]
    },
    {
      "cell_type": "markdown",
      "metadata": {
        "id": "JHmGF_mGiXcZ"
      },
      "source": [
        "# Broadcasting Review\n",
        "\n",
        "- Numpy operations can work on arrays of different dimensions as long as the arrays' shapes are still \"compatible\".\n",
        "- Broadcasting works by \"tiling\" the smaller array along the missing dimension.\n",
        "- The result of a broadcasted operation is always at least as large in each dimension as the largest array in that dimension."
      ]
    },
    {
      "cell_type": "markdown",
      "metadata": {
        "id": "Tmy_pKVniXca"
      },
      "source": [
        "# Numpy Review"
      ]
    },
    {
      "cell_type": "markdown",
      "metadata": {
        "id": "TiKskIDqiXca"
      },
      "source": [
        "- Numerical algorithms are slow in pure Python because the overhead dynamic dispatch dominates our runtime."
      ]
    },
    {
      "cell_type": "markdown",
      "metadata": {
        "id": "WRex_YahiXca"
      },
      "source": [
        "- Numpy solves this problem by:\n",
        "  1. Imposing additional restrictions on the contents of arrays.\n",
        "  2. Moving the inner loops of our algorithms into compiled C code."
      ]
    },
    {
      "cell_type": "markdown",
      "metadata": {
        "id": "HHcs1cowiXca"
      },
      "source": [
        "- Using Numpy effectively often requires reworking an algorithms to use vectorized operations instead of for-loops, but the resulting operations are usually simpler, clearer, and faster than the pure Python equivalent."
      ]
    },
    {
      "cell_type": "markdown",
      "metadata": {
        "id": "GoPdOSfSiXca"
      },
      "source": [
        "<center><img src=\"https://raw.githubusercontent.com/ssanderson/pydata-toolbox/master/notebooks/images/unicorn.jpg\" alt=\"Drawing\" style=\"width: 75%;\"/></center>"
      ]
    },
    {
      "cell_type": "markdown",
      "metadata": {
        "id": "GqyHpT0DiXca"
      },
      "source": [
        "Numpy is great for many things, but..."
      ]
    },
    {
      "cell_type": "markdown",
      "metadata": {
        "id": "t2pSdZyeiXca"
      },
      "source": [
        "- Sometimes our data is equipped with a natural set of **labels**:\n",
        "  - Dates/Times\n",
        "  - Stock Tickers\n",
        "  - Field Names (e.g. Open/High/Low/Close)"
      ]
    },
    {
      "cell_type": "markdown",
      "metadata": {
        "id": "eQkbld3YiXca"
      },
      "source": [
        "- Sometimes we have **more than one type of data** that we want to keep grouped together.\n",
        "  - Tables with a mix of real-valued and categorical data."
      ]
    },
    {
      "cell_type": "markdown",
      "metadata": {
        "id": "FUUCEShmiXcb"
      },
      "source": [
        "- Sometimes we have **missing** data, which we need to ignore, fill, or otherwise work around."
      ]
    },
    {
      "cell_type": "markdown",
      "metadata": {
        "id": "7BErgdXjiXcb"
      },
      "source": [
        "<center><img src=\"https://raw.githubusercontent.com/ssanderson/pydata-toolbox/master/notebooks/images/panda-wrangling.gif\" alt=\"Drawing\" style=\"width: 75%;\"/></center>"
      ]
    },
    {
      "cell_type": "markdown",
      "metadata": {
        "id": "B-LuFQ2BiXcb"
      },
      "source": [
        "<center><img src=\"https://raw.githubusercontent.com/ssanderson/pydata-toolbox/master/notebooks/images/pandas_logo.png\" alt=\"Drawing\" style=\"width: 75%;\"/></center>\n"
      ]
    },
    {
      "cell_type": "markdown",
      "metadata": {
        "id": "B8Hv2pY4iXcb"
      },
      "source": [
        "Pandas extends Numpy with more complex data structures:\n",
        "\n",
        "- `Series`: 1-dimensional, homogenously-typed, labelled array.\n",
        "- `DataFrame`: 2-dimensional, semi-homogenous, labelled table."
      ]
    },
    {
      "cell_type": "markdown",
      "metadata": {
        "id": "xYDFME14iXcb"
      },
      "source": [
        "Pandas also provides many utilities for: \n",
        "- Input/Output\n",
        "- Data Cleaning\n",
        "- Rolling Algorithms\n",
        "- Plotting"
      ]
    },
    {
      "cell_type": "markdown",
      "metadata": {
        "id": "uOvK2ZfeiXcb"
      },
      "source": [
        "# Selection in Pandas"
      ]
    },
    {
      "cell_type": "code",
      "execution_count": null,
      "metadata": {
        "id": "G6ploxoOiXcb"
      },
      "outputs": [],
      "source": [
        "s = pd.Series(index=['a', 'b', 'c', 'd', 'e'], data=[1, 2, 3, 4, 5])\n",
        "s"
      ]
    },
    {
      "cell_type": "code",
      "execution_count": null,
      "metadata": {
        "id": "PU-7iKpqiXcc"
      },
      "outputs": [],
      "source": [
        "# There are two pieces to a Series: the index and the values.\n",
        "print(\"The index is:\", s.index)\n",
        "print(\"The values are:\", s.values)"
      ]
    },
    {
      "cell_type": "code",
      "execution_count": null,
      "metadata": {
        "id": "pUnHyGr5iXcc"
      },
      "outputs": [],
      "source": [
        "# We can look up values out of a Series by position...\n",
        "s.iloc[0]"
      ]
    },
    {
      "cell_type": "code",
      "execution_count": null,
      "metadata": {
        "id": "IyM3qqygiXcc"
      },
      "outputs": [],
      "source": [
        "# ... or by label.\n",
        "s.loc['a']"
      ]
    },
    {
      "cell_type": "code",
      "execution_count": null,
      "metadata": {
        "id": "JrCItQtiiXcc"
      },
      "outputs": [],
      "source": [
        "# Slicing works as expected...\n",
        "s.iloc[:2]"
      ]
    },
    {
      "cell_type": "code",
      "execution_count": null,
      "metadata": {
        "id": "tzTbbk9YiXcc"
      },
      "outputs": [],
      "source": [
        "# ...but it works with labels too!\n",
        "s.loc[:'c']"
      ]
    },
    {
      "cell_type": "code",
      "execution_count": null,
      "metadata": {
        "id": "qrVQ0b0ziXcd"
      },
      "outputs": [],
      "source": [
        "# Fancy indexing works the same as in numpy.\n",
        "s.iloc[[0, -1]]"
      ]
    },
    {
      "cell_type": "code",
      "execution_count": null,
      "metadata": {
        "id": "THswhsDLiXcd"
      },
      "outputs": [],
      "source": [
        "# As does boolean masking.\n",
        "s.loc[s > 2]"
      ]
    },
    {
      "cell_type": "code",
      "execution_count": null,
      "metadata": {
        "id": "nYGjpHaIiXcd"
      },
      "outputs": [],
      "source": [
        "# Element-wise operations are aligned by index.\n",
        "other_s = pd.Series({'a': 10.0, 'c': 20.0, 'd': 30.0, 'z': 40.0})\n",
        "other_s"
      ]
    },
    {
      "cell_type": "code",
      "execution_count": null,
      "metadata": {
        "id": "nkK07CuEiXcd"
      },
      "outputs": [],
      "source": [
        "s + other_s"
      ]
    },
    {
      "cell_type": "code",
      "execution_count": null,
      "metadata": {
        "id": "pePOoBl3iXcd"
      },
      "outputs": [],
      "source": [
        "# We can fill in missing values with fillna().\n",
        "(s + other_s).fillna(0.0)"
      ]
    },
    {
      "cell_type": "code",
      "execution_count": null,
      "metadata": {
        "id": "8LYqk1oDiXcd"
      },
      "outputs": [],
      "source": [
        "# Most real datasets are read in from an external file format.\n",
        "aapl = pd.read_csv('AAPL.csv', parse_dates=['Date'], index_col='Date')\n",
        "aapl.head()"
      ]
    },
    {
      "cell_type": "code",
      "execution_count": null,
      "metadata": {
        "id": "JasJjximiXcd"
      },
      "outputs": [],
      "source": [
        "# Slicing generalizes to two dimensions as you'd expect:\n",
        "aapl.iloc[:2, :2]"
      ]
    },
    {
      "cell_type": "code",
      "execution_count": null,
      "metadata": {
        "id": "aAnXEGHMiXce"
      },
      "outputs": [],
      "source": [
        "aapl.loc[pd.Timestamp('2010-02-01'):pd.Timestamp('2010-02-04'), ['Close', 'Volume']]"
      ]
    },
    {
      "cell_type": "markdown",
      "metadata": {
        "id": "Up935r8GiXce"
      },
      "source": [
        "# Rolling Operations"
      ]
    },
    {
      "cell_type": "markdown",
      "metadata": {
        "id": "28dFZSZmiXce"
      },
      "source": [
        "<center><img src=\"https://raw.githubusercontent.com/ssanderson/pydata-toolbox/master/notebooks/images/rolling.gif\" alt=\"Drawing\" style=\"width: 75%;\"/></center>"
      ]
    },
    {
      "cell_type": "code",
      "execution_count": null,
      "metadata": {
        "id": "-YvkXxL0iXce"
      },
      "outputs": [],
      "source": [
        "aapl.rolling(5)[['Close', 'Adj Close']].mean().plot();"
      ]
    },
    {
      "cell_type": "code",
      "execution_count": null,
      "metadata": {
        "id": "HKynE6AMiXce"
      },
      "outputs": [],
      "source": [
        "# Drop `Volume`, since it's way bigger than everything else.\n",
        "aapl.drop('Volume', axis=1).resample('2W').max().plot();"
      ]
    },
    {
      "cell_type": "code",
      "execution_count": null,
      "metadata": {
        "id": "ayoPHapZiXce"
      },
      "outputs": [],
      "source": [
        "# 30-day rolling exponentially-weighted stddev of returns.\n",
        "aapl['Close'].pct_change().ewm(span=30).std().plot();"
      ]
    },
    {
      "cell_type": "markdown",
      "metadata": {
        "id": "npT_ZgpYiXce"
      },
      "source": [
        "# \"Real World\" Data"
      ]
    },
    {
      "cell_type": "code",
      "execution_count": null,
      "metadata": {
        "id": "XcYC7BGAiXcf"
      },
      "outputs": [],
      "source": [
        "from demos.avocados import read_avocadata\n",
        "\n",
        "avocados = read_avocadata('2014', '2016')\n",
        "avocados.head()"
      ]
    },
    {
      "cell_type": "code",
      "execution_count": null,
      "metadata": {
        "id": "tjk0EsEsiXcf"
      },
      "outputs": [],
      "source": [
        "# Unlike numpy arrays, pandas DataFrames can have a different dtype for each column.\n",
        "avocados.dtypes"
      ]
    },
    {
      "cell_type": "code",
      "execution_count": null,
      "metadata": {
        "id": "YcpqjQCdiXcf"
      },
      "outputs": [],
      "source": [
        "# What's the regional average price of a HASS avocado every day?\n",
        "hass = avocados[avocados.Variety == 'HASS']\n",
        "hass.groupby(['Date', 'Region'])['Weighted Avg Price'].mean().unstack().ffill().plot();"
      ]
    },
    {
      "cell_type": "code",
      "execution_count": null,
      "metadata": {
        "collapsed": true,
        "id": "k1Zdnr4jiXcf"
      },
      "outputs": [],
      "source": [
        "def _organic_spread(group):\n",
        "\n",
        "    if len(group.columns) != 2:\n",
        "        return pd.Series(index=group.index, data=0.0)\n",
        "    \n",
        "    is_organic = group.columns.get_level_values('Organic').values.astype(bool)\n",
        "    organics = group.loc[:, is_organic].squeeze()\n",
        "    non_organics = group.loc[:, ~is_organic].squeeze()\n",
        "    diff = organics - non_organics\n",
        "    return diff\n",
        "\n",
        "def organic_spread_by_region(df):\n",
        "    \"\"\"What's the difference between the price of an organic \n",
        "    and non-organic avocado within each region?\n",
        "    \"\"\"\n",
        "    return (\n",
        "        df\n",
        "        .set_index(['Date', 'Region', 'Organic'])\n",
        "         ['Weighted Avg Price']\n",
        "        .unstack(level=['Region', 'Organic'])\n",
        "        .ffill()\n",
        "        .groupby(level='Region', axis=1)\n",
        "        .apply(_organic_spread)\n",
        "    )"
      ]
    },
    {
      "cell_type": "code",
      "execution_count": null,
      "metadata": {
        "id": "iU-Th92BiXcf"
      },
      "outputs": [],
      "source": [
        "organic_spread_by_region(hass).plot();\n",
        "plt.gca().set_title(\"Daily Regional Organic Spread\");\n",
        "plt.legend(bbox_to_anchor=(1, 1));"
      ]
    },
    {
      "cell_type": "code",
      "execution_count": null,
      "metadata": {
        "id": "vjR02HpEiXcg"
      },
      "outputs": [],
      "source": [
        "spread_correlation = organic_spread_by_region(hass).corr()\n",
        "spread_correlation"
      ]
    },
    {
      "cell_type": "code",
      "execution_count": null,
      "metadata": {
        "id": "-fbKjqw6iXcg"
      },
      "outputs": [],
      "source": [
        "import seaborn as sns\n",
        "grid = sns.clustermap(spread_correlation, annot=True)\n",
        "fig = grid.fig\n",
        "axes = fig.axes\n",
        "ax = axes[2]\n",
        "ax.set_xticklabels(ax.get_xticklabels(), rotation=45);"
      ]
    },
    {
      "cell_type": "markdown",
      "metadata": {
        "id": "-6jsBAhQiXcg"
      },
      "source": [
        "# Pandas Review\n",
        "\n",
        "- Pandas extends numpy with more complex datastructures and algorithms.\n",
        "- If you understand numpy, you understand 90% of pandas.\n",
        "- `groupby`, `set_index`, and `unstack` are powerful tools for working with categorical data.\n",
        "- Avocado prices are surprisingly interesting :)"
      ]
    },
    {
      "cell_type": "markdown",
      "metadata": {
        "id": "_u_fG58UiXcg"
      },
      "source": [
        "# Thanks!"
      ]
    }
  ],
  "metadata": {
    "celltoolbar": "Slideshow",
    "kernelspec": {
      "display_name": "Python 3",
      "language": "python",
      "name": "python3"
    },
    "language_info": {
      "codemirror_mode": {
        "name": "ipython",
        "version": 3
      },
      "file_extension": ".py",
      "mimetype": "text/x-python",
      "name": "python",
      "nbconvert_exporter": "python",
      "pygments_lexer": "ipython3",
      "version": "3.5.2"
    },
    "livereveal": {
      "start_slideshow_at": "selected"
    },
    "name": "Main.ipynb",
    "colab": {
      "provenance": [],
      "collapsed_sections": [
        "gh1Uw4KtiXcK",
        "K81LXWsCiXcS",
        "9EsiKbSCiXcT",
        "zsIEVqkgiXcY",
        "JHmGF_mGiXcZ",
        "-6jsBAhQiXcg",
        "_u_fG58UiXcg"
      ]
    }
  },
  "nbformat": 4,
  "nbformat_minor": 0
}